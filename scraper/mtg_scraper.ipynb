{
 "cells": [
  {
   "cell_type": "code",
   "execution_count": 1,
   "metadata": {},
   "outputs": [],
   "source": [
    "# Load all packages necessary for analysis\n",
    "import pandas as pd\n",
    "import numpy as np\n",
    "import requests\n",
    "from bs4 import BeautifulSoup\n",
    "import json\n",
    "import re\n",
    "import os\n",
    "import timeit\n",
    "import filecmp\n",
    "import url_stripper"
   ]
  },
  {
   "cell_type": "code",
   "execution_count": 2,
   "metadata": {},
   "outputs": [],
   "source": [
    "# make a webcrawler to gather the data from mtgtop8.com on competitive decks\n",
    "url = 'https://www.mtgtop8.com/format?f=ST&meta=52'\n",
    "url_standard_page_response = requests.get(url)"
   ]
  },
  {
   "cell_type": "code",
   "execution_count": 3,
   "metadata": {},
   "outputs": [],
   "source": [
    "# save the response\n",
    "with open('/home/steadyjingo/Documents/MTGA_rarity_analysis/data/url_standard_page_response.html', mode='wb') as file:\n",
    "    file.write(url_standard_page_response.content)"
   ]
  },
  {
   "cell_type": "code",
   "execution_count": 4,
   "metadata": {},
   "outputs": [],
   "source": [
    "# open response as a BeautifulSoup object\n",
    "with open('/home/steadyjingo/Documents/MTGA_rarity_analysis/data/url_standard_page_response.html') as file:\n",
    "    soup = BeautifulSoup(file, 'lxml')"
   ]
  },
  {
   "cell_type": "code",
   "execution_count": 5,
   "metadata": {},
   "outputs": [],
   "source": [
    "# find all urls for deck types and put them into a dataframe\n",
    "url = {'url': soup.find_all(href=re.compile(r\"archetype\\?a\"))}\n",
    "deck_type_urls = pd.DataFrame(data=url)"
   ]
  },
  {
   "cell_type": "code",
   "execution_count": 6,
   "metadata": {},
   "outputs": [],
   "source": [
    "# make deck_type_urls.url a string and extract types from it and name the column 'type'\n",
    "deck_type_urls.url = deck_type_urls.url.astype('str')\n",
    "deck_type_urls['type'] = deck_type_urls.url.str.extract('(>.+<)')"
   ]
  },
  {
   "cell_type": "code",
   "execution_count": 7,
   "metadata": {},
   "outputs": [],
   "source": [
    "# clean up 'type' column\n",
    "deck_type_urls.type = deck_type_urls.type.str.replace('>', '').str.replace('<', '').str.replace(' ', '_').str.replace('/', '-')"
   ]
  },
  {
   "cell_type": "code",
   "execution_count": 8,
   "metadata": {},
   "outputs": [],
   "source": [
    "# extract url from url column and add base url to it and clean it up a bit\n",
    "deck_type_urls.url = deck_type_urls.url.str.extract('(archetype\\?a.+f\\=ST)')\n",
    "deck_type_urls.url = 'https://www.mtgtop8.com/' + deck_type_urls.url\n",
    "deck_type_urls.url = deck_type_urls.url.str.replace('amp;', '')"
   ]
  },
  {
   "cell_type": "code",
   "execution_count": 9,
   "metadata": {},
   "outputs": [],
   "source": [
    "# create web crawler to request html pages from deck_type_urls\n",
    "# create new path and name it newpath\n",
    "newpath = '/home/steadyjingo/Documents/MTGA_rarity_analysis/type_html_files'\n",
    "\n",
    "# check to make sure that there is no path that matches newpath and create a folder called type_html_files if there isn't\n",
    "if not os.path.exists(newpath):\n",
    "    os.makedirs(newpath)\n",
    "\n",
    "# change current directory to newpath\n",
    "os.chdir(newpath)\n",
    "\n",
    "# scrape all html files from urls in deck_type_urls and put them in type_html_files folder\n",
    "for i in np.arange(deck_type_urls.shape[0]):\n",
    "    type_html = requests.get(deck_type_urls.url[i])\n",
    "    with open(deck_type_urls.type[i] + '.html', 'wb') as file:\n",
    "        file.write(type_html.content)"
   ]
  },
  {
   "cell_type": "code",
   "execution_count": 10,
   "metadata": {},
   "outputs": [],
   "source": [
    "# get a list of file names in type_html_files folder and name it dir_names\n",
    "dir_names = []\n",
    "cur_dir = '/home/steadyjingo/Documents/MTGA_rarity_analysis/type_html_files'\n",
    "\n",
    "with os.scandir(cur_dir) as folder:\n",
    "    for file in folder: \n",
    "        if file.is_file():\n",
    "            dir_names.append(file.name)"
   ]
  },
  {
   "cell_type": "code",
   "execution_count": 11,
   "metadata": {},
   "outputs": [],
   "source": [
    "# get a list of all urls in all files\n",
    "players = []\n",
    "urls = []\n",
    "\n",
    "for i in np.arange(np.count_nonzero(dir_names)):\n",
    "    with open('/home/steadyjingo/Documents/MTGA_rarity_analysis/type_html_files/' + dir_names[i], encoding='latin_1') as file:\n",
    "        soup = BeautifulSoup(file, 'lxml')\n",
    "    for a in soup.find_all(href=re.compile(r'search\\?player')):\n",
    "        players.append(a)\n",
    "    for a in soup.find_all(href=re.compile(r'event\\?e\\=.+\\&d\\=.+\\&f\\=ST')):\n",
    "        urls.append(a) "
   ]
  },
  {
   "cell_type": "code",
   "execution_count": 12,
   "metadata": {},
   "outputs": [],
   "source": [
    "# put players and urls into a dataframe\n",
    "deck_urls = pd.DataFrame({'player': players, \n",
    "                         'url': urls})"
   ]
  },
  {
   "cell_type": "code",
   "execution_count": 13,
   "metadata": {},
   "outputs": [],
   "source": [
    "# clean up player and url columns\n",
    "deck_urls.player = deck_urls.player.astype('str')\n",
    "deck_urls.player = deck_urls.player.str.extract('(>.+<)')\n",
    "deck_urls.player = deck_urls.player.str.replace('>', '').str.replace('<', '').str.replace(' ', '_').str.replace('/', '-')"
   ]
  },
  {
   "cell_type": "code",
   "execution_count": 14,
   "metadata": {},
   "outputs": [],
   "source": [
    "# extract names from urls and add them to name column and clean it up\n",
    "deck_urls.url = deck_urls.url.astype('str')\n",
    "names = deck_urls.url.str.extract('(>.+<)')\n",
    "deck_urls['name'] = names\n",
    "deck_urls.name = deck_urls.name.str.replace('>', '').str.replace('<', '').str.replace(' ', '_').str.replace('/', '-')"
   ]
  },
  {
   "cell_type": "code",
   "execution_count": 15,
   "metadata": {},
   "outputs": [],
   "source": [
    "# clean up url column\n",
    "deck_urls.url = deck_urls.url.str.extract('(event.+f\\=ST)')\n",
    "deck_urls.url = deck_urls.url.str.replace('amp;', '')"
   ]
  },
  {
   "cell_type": "code",
   "execution_count": 16,
   "metadata": {},
   "outputs": [],
   "source": [
    "# add url root to url column\n",
    "deck_urls.url = 'https://www.mtgtop8.com/' + deck_urls.url"
   ]
  },
  {
   "cell_type": "code",
   "execution_count": 17,
   "metadata": {},
   "outputs": [],
   "source": [
    "# create a web crawler to request html pages from deck_type_urls\n",
    "\n",
    "# create a new path and name it newpath\n",
    "newpath = '/home/steadyjingo/Documents/MTGA_rarity_analysis/html_files'\n",
    "\n",
    "# check to make sure that there is no path that matches newpath and create a folder called html_files if there isn't\n",
    "if not os.path.exists(newpath):\n",
    "    os.makedirs(newpath)\n",
    "\n",
    "# change the current directory to newpath\n",
    "os.chdir(newpath)\n",
    "\n",
    "# scrape all html files from urls in deck_urls and put them in html_files folder\n",
    "deck_errors = []\n",
    "\n",
    "for i in np.arange(deck_urls.shape[0]):\n",
    "    try:\n",
    "        deck_html = requests.get(deck_urls.url[i])\n",
    "        with open(str(deck_urls.name[i]) + '_' + str(deck_urls.player[i]) + '.html', 'wb') as file:\n",
    "            file.write(deck_html.content)\n",
    "    except Exception as e:\n",
    "        print(str(i) + ' ' + str(e))\n",
    "        deck_errors.append(i)"
   ]
  },
  {
   "cell_type": "code",
   "execution_count": 18,
   "metadata": {},
   "outputs": [],
   "source": [
    "# get all directory names and put them in a list\n",
    "dir_names = []\n",
    "curdir = '/home/steadyjingo/Documents/MTGA_rarity_analysis/html_files'\n",
    "\n",
    "with os.scandir(curdir) as folder:\n",
    "    for file in folder:\n",
    "        if file.is_file():\n",
    "            dir_names.append(file.name)"
   ]
  },
  {
   "cell_type": "code",
   "execution_count": 68,
   "metadata": {},
   "outputs": [],
   "source": [
    "# take names and add them to curdir and open them and find cards and players with beautifulsoup \n",
    "deck_lists = []\n",
    "players = []\n",
    "\n",
    "for i in np.arange(np.count_nonzero(dir_names)):\n",
    "    with open(str(curdir) + '/' + str(dir_names[i]), encoding='latin_1') as file:\n",
    "        soup = BeautifulSoup(file, 'lxml')\n",
    "    deck_list = soup.find(lambda tag: tag.name=='input' and tag.has_attr('name') and tag['name']=='c')\n",
    "    player = soup.find(lambda tag: tag.name=='a' and tag.has_attr('class'))\n",
    "    deck_lists.append(deck_list)\n",
    "    players.append(player)\n",
    "\n",
    "decks = pd.DataFrame({'deck_list': deck_lists, \n",
    "                      'player': players})"
   ]
  },
  {
   "cell_type": "code",
   "execution_count": 69,
   "metadata": {},
   "outputs": [],
   "source": [
    "# clean up decks 'player' column\n",
    "decks.player = decks.player.astype('str')\n",
    "decks.player = decks.player.str.extract('(>.+<)')\n",
    "decks.player = decks.player.str.replace('>', '').str.replace('<', '').str.replace(' ', '_').str.replace('/', '-')"
   ]
  },
  {
   "cell_type": "code",
   "execution_count": 70,
   "metadata": {},
   "outputs": [],
   "source": [
    "# clean up deck_list column\n",
    "decks.deck_list = decks.deck_list.astype('str')\n",
    "decks.deck_list = decks.deck_list.str.replace('<input name=\"c\" type=\"hidden\" value=\"', '').str.replace('||\"/>', '').str.replace('\\|\\|', ', ')"
   ]
  },
  {
   "cell_type": "code",
   "execution_count": 71,
   "metadata": {},
   "outputs": [],
   "source": [
    "# join decks with deck_urls\n",
    "decks = decks.merge(deck_urls, how='outer', on='player')"
   ]
  },
  {
   "cell_type": "code",
   "execution_count": 72,
   "metadata": {},
   "outputs": [
    {
     "data": {
      "text/html": [
       "<div>\n",
       "<style scoped>\n",
       "    .dataframe tbody tr th:only-of-type {\n",
       "        vertical-align: middle;\n",
       "    }\n",
       "\n",
       "    .dataframe tbody tr th {\n",
       "        vertical-align: top;\n",
       "    }\n",
       "\n",
       "    .dataframe thead th {\n",
       "        text-align: right;\n",
       "    }\n",
       "</style>\n",
       "<table border=\"1\" class=\"dataframe\">\n",
       "  <thead>\n",
       "    <tr style=\"text-align: right;\">\n",
       "      <th></th>\n",
       "      <th>deck_list</th>\n",
       "      <th>player</th>\n",
       "      <th>url</th>\n",
       "      <th>name</th>\n",
       "    </tr>\n",
       "  </thead>\n",
       "  <tbody>\n",
       "    <tr>\n",
       "      <th>0</th>\n",
       "      <td>2 Shock, 10 Island, 4 Mountain, 4 Brazen Borro...</td>\n",
       "      <td>Jessica_Estephan</td>\n",
       "      <td>https://www.mtgtop8.com/event?e=23942&amp;d=366798...</td>\n",
       "      <td>Izzet_Flash</td>\n",
       "    </tr>\n",
       "    <tr>\n",
       "      <th>1</th>\n",
       "      <td>4 Shock, 18 Mountain, 4 Bonecrusher Giant, 3 E...</td>\n",
       "      <td>Andrew_Boncher</td>\n",
       "      <td>https://www.mtgtop8.com/event?e=23810&amp;d=365477...</td>\n",
       "      <td>Red_Deck_Wins</td>\n",
       "    </tr>\n",
       "    <tr>\n",
       "      <th>2</th>\n",
       "      <td>10 Island, 4 Mountain, 4 Brazen Borrower, 4 Ga...</td>\n",
       "      <td>Brandon_Banks</td>\n",
       "      <td>https://www.mtgtop8.com/event?e=23997&amp;d=367303...</td>\n",
       "      <td>Izzet_Control</td>\n",
       "    </tr>\n",
       "    <tr>\n",
       "      <th>3</th>\n",
       "      <td>6 Forest, 3 Swamp, 4 Breeding Pool, 4 Cauldron...</td>\n",
       "      <td>Andrew_C</td>\n",
       "      <td>https://www.mtgtop8.com/event?e=23716&amp;d=364618...</td>\n",
       "      <td>Sultai_Sacrifice</td>\n",
       "    </tr>\n",
       "    <tr>\n",
       "      <th>4</th>\n",
       "      <td>1 Forest, 2 Island, 2 Mountain, 4 Breeding Poo...</td>\n",
       "      <td>Mx-hejji</td>\n",
       "      <td>https://www.mtgtop8.com/event?e=23796&amp;d=365372...</td>\n",
       "      <td>Reclamation</td>\n",
       "    </tr>\n",
       "    <tr>\n",
       "      <th>...</th>\n",
       "      <td>...</td>\n",
       "      <td>...</td>\n",
       "      <td>...</td>\n",
       "      <td>...</td>\n",
       "    </tr>\n",
       "    <tr>\n",
       "      <th>337</th>\n",
       "      <td>1 Disenchant, 2 Island, 2 Mountain, 1 Plains, ...</td>\n",
       "      <td>Matthew_Watts</td>\n",
       "      <td>https://www.mtgtop8.com/event?e=24037&amp;d=367686...</td>\n",
       "      <td>Jeskai_Fires</td>\n",
       "    </tr>\n",
       "    <tr>\n",
       "      <th>338</th>\n",
       "      <td>4 Shock, 17 Mountain, 4 Claim the Firstborn, 4...</td>\n",
       "      <td>Sandydogmtg</td>\n",
       "      <td>https://www.mtgtop8.com/event?e=24137&amp;d=368458...</td>\n",
       "      <td>Red_Deck_Wins</td>\n",
       "    </tr>\n",
       "    <tr>\n",
       "      <th>339</th>\n",
       "      <td>4 Chandra's Spitfire, 4 Shock, 18 Mountain, 3 ...</td>\n",
       "      <td>Billy_K</td>\n",
       "      <td>https://www.mtgtop8.com/event?e=23716&amp;d=364614...</td>\n",
       "      <td>Cavalcade</td>\n",
       "    </tr>\n",
       "    <tr>\n",
       "      <th>340</th>\n",
       "      <td>9 Forest, 8 Mountain, 4 Bonecrusher Giant, 3 E...</td>\n",
       "      <td>Esther_Trujillo</td>\n",
       "      <td>https://www.mtgtop8.com/event?e=23942&amp;d=366790...</td>\n",
       "      <td>Gruul_Aggro</td>\n",
       "    </tr>\n",
       "    <tr>\n",
       "      <th>341</th>\n",
       "      <td>7 Forest, 7 Island, 4 Breeding Pool, 2 Brazen ...</td>\n",
       "      <td>Benjamin_Czarny</td>\n",
       "      <td>https://www.mtgtop8.com/event?e=24037&amp;d=367687...</td>\n",
       "      <td>Ug_Flash</td>\n",
       "    </tr>\n",
       "  </tbody>\n",
       "</table>\n",
       "<p>342 rows × 4 columns</p>\n",
       "</div>"
      ],
      "text/plain": [
       "                                             deck_list            player  \\\n",
       "0    2 Shock, 10 Island, 4 Mountain, 4 Brazen Borro...  Jessica_Estephan   \n",
       "1    4 Shock, 18 Mountain, 4 Bonecrusher Giant, 3 E...    Andrew_Boncher   \n",
       "2    10 Island, 4 Mountain, 4 Brazen Borrower, 4 Ga...     Brandon_Banks   \n",
       "3    6 Forest, 3 Swamp, 4 Breeding Pool, 4 Cauldron...          Andrew_C   \n",
       "4    1 Forest, 2 Island, 2 Mountain, 4 Breeding Poo...          Mx-hejji   \n",
       "..                                                 ...               ...   \n",
       "337  1 Disenchant, 2 Island, 2 Mountain, 1 Plains, ...     Matthew_Watts   \n",
       "338  4 Shock, 17 Mountain, 4 Claim the Firstborn, 4...       Sandydogmtg   \n",
       "339  4 Chandra's Spitfire, 4 Shock, 18 Mountain, 3 ...           Billy_K   \n",
       "340  9 Forest, 8 Mountain, 4 Bonecrusher Giant, 3 E...   Esther_Trujillo   \n",
       "341  7 Forest, 7 Island, 4 Breeding Pool, 2 Brazen ...   Benjamin_Czarny   \n",
       "\n",
       "                                                   url              name  \n",
       "0    https://www.mtgtop8.com/event?e=23942&d=366798...       Izzet_Flash  \n",
       "1    https://www.mtgtop8.com/event?e=23810&d=365477...     Red_Deck_Wins  \n",
       "2    https://www.mtgtop8.com/event?e=23997&d=367303...     Izzet_Control  \n",
       "3    https://www.mtgtop8.com/event?e=23716&d=364618...  Sultai_Sacrifice  \n",
       "4    https://www.mtgtop8.com/event?e=23796&d=365372...       Reclamation  \n",
       "..                                                 ...               ...  \n",
       "337  https://www.mtgtop8.com/event?e=24037&d=367686...      Jeskai_Fires  \n",
       "338  https://www.mtgtop8.com/event?e=24137&d=368458...     Red_Deck_Wins  \n",
       "339  https://www.mtgtop8.com/event?e=23716&d=364614...         Cavalcade  \n",
       "340  https://www.mtgtop8.com/event?e=23942&d=366790...       Gruul_Aggro  \n",
       "341  https://www.mtgtop8.com/event?e=24037&d=367687...          Ug_Flash  \n",
       "\n",
       "[342 rows x 4 columns]"
      ]
     },
     "execution_count": 72,
     "metadata": {},
     "output_type": "execute_result"
    }
   ],
   "source": [
    "decks"
   ]
  },
  {
   "cell_type": "code",
   "execution_count": 73,
   "metadata": {},
   "outputs": [],
   "source": [
    "decks.to_csv('/home/steadyjingo/Documents/MTGA_rarity_analysis/data/decks.csv', index=False)"
   ]
  },
  {
   "cell_type": "code",
   "execution_count": null,
   "metadata": {},
   "outputs": [],
   "source": []
  }
 ],
 "metadata": {
  "kernelspec": {
   "display_name": "Python 3",
   "language": "python",
   "name": "python3"
  },
  "language_info": {
   "codemirror_mode": {
    "name": "ipython",
    "version": 3
   },
   "file_extension": ".py",
   "mimetype": "text/x-python",
   "name": "python",
   "nbconvert_exporter": "python",
   "pygments_lexer": "ipython3",
   "version": "3.7.6"
  }
 },
 "nbformat": 4,
 "nbformat_minor": 4
}
