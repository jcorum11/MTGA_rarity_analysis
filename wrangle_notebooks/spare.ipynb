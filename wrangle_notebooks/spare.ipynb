{
 "cells": [
  {
   "cell_type": "code",
   "execution_count": 2,
   "metadata": {},
   "outputs": [],
   "source": [
    "import pandas as pd \n",
    "import numpy as np\n",
    "from bs4 import BeautifulSoup"
   ]
  },
  {
   "cell_type": "markdown",
   "metadata": {},
   "source": [
    "# Gather"
   ]
  },
  {
   "cell_type": "code",
   "execution_count": 3,
   "metadata": {},
   "outputs": [],
   "source": [
    "with open('C:/Users/muroc/Documents/MTG/html_files/Robert_Lippmann_4c_Elementals.html') as file:\n",
    "    soup = BeautifulSoup(file, 'lxml')"
   ]
  },
  {
   "cell_type": "markdown",
   "metadata": {},
   "source": [
    "# Assess"
   ]
  },
  {
   "cell_type": "code",
   "execution_count": 4,
   "metadata": {},
   "outputs": [
    {
     "data": {
      "text/plain": [
       "<input name=\"c\" type=\"hidden\" value=\"8 Forest||6 Swamp||4 Foulmire Knight||4 Murderous Rider||3 Order of Midnight||4 Edgewall Innkeeper||3 Questing Beast||1 Castle Locthwain||1 Garruk, Cursed Huntsman||4 Lovestruck Beast||3 Rankle, Master of Pranks||1 Assassin's Trophy||4 Temple of Malady||3 Legion's End||4 Noxious Grasp||2 Veil of Summer||3 Vivien, Arkbow Ranger||4 Overgrown Tomb||1 Thrashing Brontodon||3 Drill Bit||1 Davriel, Rogue Shadowmage||1 The Elderspell||1 Liliana, Dreadhorde General||1 Massacre Girl||2 Nissa, Who Shakes the World||3 Paradise Druid||\"/>"
      ]
     },
     "execution_count": 4,
     "metadata": {},
     "output_type": "execute_result"
    }
   ],
   "source": [
    "soup.find(lambda tag: tag.name=='input' and tag.has_attr('name') and tag['name']=='c')"
   ]
  },
  {
   "cell_type": "code",
   "execution_count": null,
   "metadata": {},
   "outputs": [],
   "source": []
  }
 ],
 "metadata": {
  "kernelspec": {
   "display_name": "Python 3",
   "language": "python",
   "name": "python3"
  },
  "language_info": {
   "codemirror_mode": {
    "name": "ipython",
    "version": 3
   },
   "file_extension": ".py",
   "mimetype": "text/x-python",
   "name": "python",
   "nbconvert_exporter": "python",
   "pygments_lexer": "ipython3",
   "version": "3.7.3"
  }
 },
 "nbformat": 4,
 "nbformat_minor": 4
}
