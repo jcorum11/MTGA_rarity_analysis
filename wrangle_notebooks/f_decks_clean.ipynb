{
 "cells": [
  {
   "cell_type": "code",
   "execution_count": 1,
   "metadata": {},
   "outputs": [],
   "source": [
    "# Load all packages necessary for analysis\n",
    "import pandas as pd\n",
    "import numpy as np\n",
    "import requests\n",
    "from bs4 import BeautifulSoup\n",
    "import json\n",
    "import re\n",
    "import os\n",
    "import timeit\n",
    "import filecmp"
   ]
  },
  {
   "cell_type": "code",
   "execution_count": 2,
   "metadata": {},
   "outputs": [],
   "source": [
    "decks_clean = pd.read_csv('~/Documents/MTG/data/decks_clean.csv')"
   ]
  },
  {
   "cell_type": "markdown",
   "metadata": {},
   "source": [
    "# decks_clean"
   ]
  },
  {
   "cell_type": "markdown",
   "metadata": {},
   "source": [
    "## Gather"
   ]
  },
  {
   "cell_type": "code",
   "execution_count": 3,
   "metadata": {},
   "outputs": [],
   "source": [
    "dir_names = []\n",
    "curdir = 'C:/Users/muroc/Documents/MTG/html_files'\n",
    "\n",
    "with os.scandir(curdir) as folder:\n",
    "    for file in folder:\n",
    "        if file.is_file():\n",
    "            dir_names.append(file.name)"
   ]
  },
  {
   "cell_type": "code",
   "execution_count": 4,
   "metadata": {},
   "outputs": [],
   "source": [
    "decks = []\n",
    "for i in np.arange(np.count_nonzero(dir_names)):\n",
    "    with open(str(curdir) + '/' + str(dir_names[i])) as file:\n",
    "        soup = BeautifulSoup(file, 'lxml')\n",
    "    cards = soup.find(lambda tag: tag.name=='input' and tag.has_attr('name') and tag['name']=='c')\n",
    "    player = soup.find()\n",
    "    decks.append(cards)"
   ]
  },
  {
   "cell_type": "code",
   "execution_count": 5,
   "metadata": {},
   "outputs": [],
   "source": [
    "deck_urls = pd.read_csv('~/Documents/MTG/data/deck_urls.csv')"
   ]
  },
  {
   "cell_type": "code",
   "execution_count": 6,
   "metadata": {},
   "outputs": [],
   "source": [
    "decks_dict = {\"deck_list\": decks}\n",
    "decks_clean = pd.DataFrame(decks_dict)"
   ]
  },
  {
   "cell_type": "code",
   "execution_count": 7,
   "metadata": {},
   "outputs": [],
   "source": [
    "decks_clean.to_csv('~/Documents/MTG/data/deck_list.csv', index=False)"
   ]
  },
  {
   "cell_type": "markdown",
   "metadata": {},
   "source": [
    "## Assess"
   ]
  },
  {
   "cell_type": "code",
   "execution_count": 8,
   "metadata": {
    "collapsed": true,
    "jupyter": {
     "outputs_hidden": true
    }
   },
   "outputs": [
    {
     "name": "stdout",
     "output_type": "stream",
     "text": [
      "['5647382910_Azorius_Aggro.html', 'Aaron_Barich_4c_Sun.html', 'Aaron_Higgins_Abzan_Precinct_One.html', 'Aaro_Nieminen_Boros_Aggro.html', 'Abram_Goldstein_Bant_Control.html', 'Adamantmtg_Mono_Black.html', 'Adam_Boyd_Izzet_Control.html', 'Adam_Fiffles_Sultai_Sacrifice.html', 'Aiden_Brier_Weenie_White.html', 'ajani_alex_Abzan_Midrange.html', 'Aka_Shunsuke_Mono_Green_Aggro.html', 'AKnightWhoSaysNi_Dimir_Midrange.html', 'Alberto_IbaÃñez_Sanchez_UR_Artifacts.html', 'Albert_Bayrante_Reanimator.html', 'Alber_vcf_Grixis_Control.html', 'Alejandro_Collado_Naya_Feather.html', 'Aleksander_Hudson_Gate_Control.html', 'Alessio_Magris_Bant_Food.html', 'Alexander_David_Romero_Mono_Blue.html', 'Alexander_Demura_UR_Prowess.html', 'Alexander_Hayne_4c_Energy.html', 'Alexander_Hayne_Mono_Black_Aggro.html', 'Alex_Barrera_Sultai_Sacrifice.html', 'AlfredoTorres_Esper_Precinct_One.html', 'AlfredoTorres_Naya_Feather.html', 'AliEnWaRe__Mono_Blue_Aggro.html', 'Ali_Aintrazi_Golgari_Control.html', 'Ali_Eldrazi_Jund_Golos.html', 'Amazonian_Naya_Feather.html', 'Ammazzanator_UW_Control.html', 'Anderson_Souto_Uw_Control.html', 'Andrea_Foroni_Izzet_Control.html', 'Andrea_Mengucci_Bant_Aggro.html', 'Andrew_Cuneo_Selesnya_Adventure.html', 'Andrew_C_Sultai_Sacrifice.html', 'Andrew_Huska_Simic_Control.html', 'Andrew_Jessup_Grixis_Drakes.html', 'Andrew_Maine_Orzhov_Control.html', 'Andrew_Manis_Golos.html', 'Andrew_Singleton_Sultai_Aggro.html', 'Andrew_Youngquist_Abzan_Aggro.html', 'Angel_Jay_Layson_Abzan.html', 'Angurtsov_Artem_Simic_Flash.html', 'Angurtsov_Artyom_Jeskai_Planeswalkers.html', 'Annamae_Izzet_Control.html', 'Anssi_Alkio_Esper_Doom.html', 'Anthony_Lee_Simic_Ramp.html', 'Anthony_P_Sultai_Sacrifice.html', 'Antoine_Cointe_Golgari_Adventure.html', 'Antoine_Lagarde_Bant_Control.html', 'Antony_Mitchell_Orzhov_Vampires.html', 'ArcaCrema_UR_Aggro.html', 'ArcaCrema_UR_Artifacts.html', 'ArielNagy_Reanimator.html', 'Arne_Huschenbeth_4c_Energy.html', 'Asano_Tatsurou_Gruul_Aggro.html', 'Asao_Kazuki_Bant_Aggro.html', 'Ashley_Muñoz_Golgari_Aggro.html', 'Ashlizzlle_Golgari_Aggro.html', 'AtogAtog10_Grixis_Aggro.html', 'Attila_Fur_Temur_Reclamation.html', 'Augermage_Jeskai_PW.html', 'Austin_Clark_Gate_Control.html', 'Awesome7574_Esper_Hero.html', 'Awesome7574_Esper_Midrange.html', 'Awesome7574_Esper_Precinct_One.html', 'azatoyellow_Mardu_Aggro.html', 'a_p_s_Selesnya_Adventure.html', 'Babelfish008_Izzet_Phoenix.html', 'babones_UR_Artifacts.html', 'Barry_Wilson_Dimir_Pirates.html', 'Bavan_Schimper_Rdw.html', 'Beerhayan_Gruul_Aggro.html', 'benbuzz790_Izzet_Control.html', 'Benjamin_Tario_Esper_Precinct_One.html', 'Benjamin_Weitz_4c_Energy.html', 'Ben_Ryan_Jeskai_Fires.html', 'Ben_Stark_Mardu_Knight.html', 'beraldi_Esper_Midrange.html', 'BernardoDG_Simic_Control.html', 'Bernardo_Melo_UR_Aggro.html', 'Billy_K_Cavalcade.html', 'Björn_Krusche_Weenie_White.html', 'bkm_Temur_Elemental.html', 'bloodsmurf_Reanimator.html', 'Bloody_Grixis_Control.html', 'Bloody_Orzhov_Aggro.html', 'Bloody_Temur_Aggro.html', 'bnjy99_Jund_Aggro.html', 'Bobodopalus_Orzhov_Knights.html', 'Brad_Nelson_Boros_Feather.html', 'Brandon_Rea_Orzhov_Approach.html', 'Breanna_Lee_Tan_Gruul_Aggro.html', 'Brendan_Johnson_Bant_Control.html', 'Brener_Bant_Control.html', 'Brennan_Garcia_Jeskai_Fires.html', 'Brian_Braun-duin_Esper_Precinct_One.html', 'Brian_Garia_Izzet.html', 'Brokenwingss_Fires_of_Invention.html', 'Bryan_Gottlieb_Jeskai_PW.html', 'Bullwinkkle6705_Rakdos_Aggro.html', 'Bullwinkkle6705_Temur_Reclamation.html', 'Butakov_Abzan_Aggro.html', 'Butakov_Rakdos_Aggro.html', 'Cachyrulo_Grixis_Control.html', 'Calebd_Jund.html', 'Calebd_Jund_Aggro.html', 'Caleb_Durward_Jund_Aggro.html', 'Caleb_D_Simic_Oko.html', 'Callofcthulhu_Grixis_Control.html', 'Callofcthulhu_UB_Control.html', 'Camdenrk_Dimir_Midrange.html', 'Capi5681_Izzet_Phoenix.html', 'Carlos_Mendes_Grixis_Control.html', 'Carlos_Roberto_Krüger_Gate_Control.html', 'Carlos_Romão_Golos.html', 'Carlo_Negrete_Sultai_Sacrifice.html', 'CarrierHasArrived_Mono_Green_Aggro.html', 'Carson_Bell_Gruul_Adventures.html', 'Casey_Masterson_Simic_Food.html', 'Cesare_Carini_Rakdos_Sacrifice.html', 'cha21_UR_Aggro.html', 'Chantelle_Campbell_Sultai_Oven.html', 'Charles_Wickham_Sultaï_Sacrifice.html', 'Chayajom_Temur_Aggro.html', 'Chayajom_Temur_Aggro_PW.html', 'Chayapol_Poonsawat_Dimir_Reanimator.html', 'Chengalengaa_Grixis_Reanimate.html', 'Chen_Li_Red_Deck_Wins.html', 'Cherkashin_Dmitriy_Golgari_Adventures.html', 'Chiefofpool_Golgari_Land_Loss.html', 'ChillingLauge_Temur_Reclamation.html', 'Chingpai_Jeskai_Planeswalker.html', 'Chin_Yu_Meng_Jund_Sacrifice.html', 'Chitel_Arnaud_Orzhov_Vampire.html', 'Chrace_Rakdos_Aggro.html', 'Christian_Hauck_Selesnya_Aggro.html', 'Christian_Keffer_Bant_Control.html', 'Christian_Pearse_Esper_DOOM.html', 'Christopher_Japinga_Gate_Control.html', 'Christopher_Kelly_Izzet_Draw-two.html', 'Christophe_Paris_Grull_Adventure.html', 'Chris_Nielsen_W-b_Midrange.html', 'Chris_Yap_Selesnya_Adventure.html', 'CHTenshi_Jund.html', 'Chugun_Jeskai_PW.html', 'Clarence_Dews_Omnath.html', 'Clarence_Dews_Orzhov_Aggro.html', 'Claudio_Bomfim_Grixis_Control.html', 'CLYDE_THE_GLIDE_DREXLER_Adventure.html', 'Clément_Sarton_Uw_Control.html', 'coco_natsukaze_Naya_Feather.html', 'Cody_Mckinlay_Mardu_Aggro.html', 'CoffeeHouseRyan_UB_Control.html', 'ColdPier_Golgari_Control.html', 'ColdPier_Naya_Feather.html', 'Cole_G_Selesnya_Adventure.html', 'Colton_Gattis_Mono_Blue_Aggro.html', 'Conanhawk_Naya_Feather.html', 'Conanhawk_Weenie_White.html', 'Corey_Baumeister_Esper_Precinct_One.html', 'Corey_Lerch_Golos_Yarok.html', 'Corey_Lerch_Grixis_Midrange.html', 'Cornanhawk_Weenie_White.html', 'Corrado_De_Sio_Golgari_Ramp.html', 'Craig_Rocco_Jund_Chainwhirler.html', 'Cris_Smith_Jund_Aggro.html', 'Cyb3r_dragon_Temur_Elementals.html', 'Cydonia_Esper_DOOM.html', 'cypriankrzysztof_Abzan_Aggro.html', 'C_E.L_Zombies.html', 'Dafore_UR_Artifacts.html', 'Daniel_Russell_Sultai_Aggro.html', 'Dan_Jessup_Grixis_Drakes.html', 'Dark_Samurai_Red_Deck_Wins.html', 'dav5037_Reanimator.html', 'Dave_Sea_Selesnya_Aggro.html', 'Dave_Sea_UR_Aggro.html', 'Davide_Rinnen_Sultai_Sacrifice.html', 'David_Chamberlain_Golgari_Adventure.html', 'David_Ferré_Grixis.html', 'David_K_Azorious_Control.html', 'Delthar_Red_Deck_Wins.html', 'Demyanov_Gleb_Golgari_Adventures.html', 'Dennis_Raduazzo_Temur_Reclamation.html', 'Devin_Lafleur_Esper_DOOM.html', 'Dexter_Shee_Abzan_Dreadhorde.html', 'Diego_Carvalho_Sultai_Flash.html', 'Diliggord_Orzhov_Midrange_Knights.html', 'dillyg10_Golgari_Aggro.html', 'Dirednayt_Mono_White.html', 'Dogan_Sevik_Uw_Auras.html', 'Dominick_Dews_Temur_Elemental.html', 'dominizzi_Temur_Reclamation.html', 'Drake_Sasser_Gate_Control.html', 'Drew_Christensen_Simic_Manipulation.html', 'Drew_Iafrate_WW.html', 'Drew_Kobus_Feather_Naya.html', 'Drew_Kuenzinger_Reanimator.html', 'Drew_Stewart_Jeskai_PW.html', 'DRS_Mono_Black_Aggro.html', 'DRS_Rakdos_Aggro.html', 'Dwi_Nugroho_Mono_White_Aggro.html', 'Dyachenko_Andrew_Azorius_Fliers.html', 'Dyachenko_Andrew_Selesnya_Adventures.html', 'Dylan_Boulinguiez_Temur_Reclamation.html', 'Dylan_Feeman_Four_Color_Gates.html', 'Dylan_Huckabone_Mono_U_Arclight.html', 'Dylan_Petitt_Temur_Reclamation.html', 'Edmvyrus_UW_Control.html', 'Eduardo_Soto_Esper_Midrange.html', 'Edward_Wilson_Izzet_Control.html', 'Edz_Orzhov_Control.html', 'ElAguacateMagic_Mono_Blue_Aggro.html', 'Eli_Kassis_4c_Energy.html', 'Eli_Kassis_Golgari_Aggro.html', 'Ellison_Berryhill_Dimir_Midrange.html', 'ElYallo_Boros_Aggro.html', 'ElYallo_Mono_Blue_Aggro.html', 'ElYallo_Red_Deck_Wins.html', 'ElYallo_UB_Control.html', 'Emiliano_Arevalo_Bant_Midrange.html', 'Enotpaniker_UR_Artifacts.html', 'Enrico_Reanimator.html', 'Ergo_Rakdos_Aggro.html', 'Eric_Froehlich_Mardu_Knight.html', 'Erikhov_Maxim_Mono-red_Aggro.html', 'Erikhov_Maxim_Monored_Cavalcade.html', 'Erik_Rose_Red_Deck_Wins.html', 'Erratacorrige_Jund_Aggro.html', 'Erratacorrige_Mono_Green_Aggro.html', 'Evan_Adams_Sultai_Control.html', 'Fabian_Pineda_Jeskai_Walkers.html', 'Falc0rn_Ub_Control.html', 'fandenunu_Grixis_Aggro.html', 'Faskill_Rw_Feather.html', 'Federico_Del_Basso_4c_Energy.html', 'Federico_Redolli_Sultai_Aggro.html', 'FestiFan_Golgari_Aggro.html', 'FlamboyasaurusSex_Bant_Precinct_One.html', 'Flavio_Ruhke_Sultai_Flash.html', 'floatius_Red_Deck_Wins.html', 'Florian_Trotte_UW_Control.html', 'Folero_Rakdos_Aggro.html', 'Francesco_Giorgio_4c_Energy.html', 'Francesco_Hugony_Izzet_Control.html', 'Francis_Obien_Mono_G_Aggro.html', 'Frozen_light#13984_Golgari_Land_Loss.html', 'Frubsquared_Izzet_Control.html', 'Fujii_Tomoya_Mono_Black_Aggro.html', 'Fukaya_Yuuta_Grixis_Control.html', 'Fukuji_Yuuta_Fires_of_Invention.html', 'Fulgence_Temur_Aggro.html', 'Fuyuk_Morinaka_Mardu_Control.html', 'fyknight011_Grixis_Control.html', 'Gabriel_Dainotto_Golos.html', 'Gabriel_Sarfis_Mardu_Planeswalker.html', 'Gabriel_Stoffa_Golgari_Control.html', 'Gab_Rakdos_Aggro.html', 'Garret_Martin_Sultai_Food.html', 'Gaspartz_Gruul_Aggro.html', 'Gatobros_Jeskai_PW.html', 'GenerateWinner_Fires_of_Invention.html', 'Geoffrey_Marshall_Simic_Food.html', 'Gerald_Fordyce_Red_Deck_Wins.html', 'Gerard_Fabiano_4c_Energy.html', 'Gerschi_UR_Flash_Burn.html', 'GGoggles_Gate_Control.html', 'GHash77_Gate_Control.html', 'Giacomo_Brusatori_Azorius_Aggro.html', 'Gianmarco_Tolli_UR_Artifacts.html', 'GlauberT_Jund.html', 'Glenn_Muijen_Rg_Monsters.html', 'GlimpseOfRandomness_Mardu_Control.html', 'Gobern_Fires_of_Invention.html', 'golemjr_Azorius_Aggro.html', 'Gonzalo_Valdenegro_Rakdos_Aggro.html', 'Goshima_Akito_Bant_Aggro.html', 'gottelicious_Mardu_Control.html', 'Grace_Naces_Golos.html', 'Grantfly_Orzhov_Control.html', 'Gregory_Ervin_Sultai_Control.html', 'Grzegorz_Kowalski_UB_Control.html', 'Guilherme_Merjam_Mono_Green_Aggro.html', 'Guillem_Salvador_Arnal_Jund_Sacrifice.html', 'guinthos201111_Temur_Aggro_PW.html', 'Gul_Dukat_Mono_Black_Aggro.html', 'Gustavo_Coraiola_Gruul_Aggro.html', 'habibypes_Rakdos_Aggro.html', 'Hang_Sheng_Kwang_Mono_Black.html', 'Harm-Joost_Van_Kuijk_Temur_Planeswalkers.html', 'Harper_Grimsley_UB_Control.html', 'Harrison_Zudeima_Rakdos_Knights.html', 'Harry13_Orzhov_Control.html', 'Harry13_UB_Control.html', 'Hayata_Akira_Boros_Feather.html', 'HEROtsukai_Weenie_White.html', 'Hibino_Yasutaka_Temur_Reclamation.html', 'hieronymus_mosh_Azorius_Aggro.html', 'Holymadness_Orzhov_Aggro.html', 'holypanda_Orzhov_Aggro.html', 'Horiuchi_Makoto_Temur_Aggro.html', 'ht991122_Fires_of_Invention.html', 'Huey_Jensen_Boros_Feather.html', 'Huey_Jensen_Golgari_Citadel.html', 'Hujisaki_Masahiko_Boros_Aggro.html', 'Hyquare_Ub_Mill.html', 'Ichinose_Ryo_Jund.html', 'Ihavethefire_Dimir_Midrange.html', 'Ihavethefire_Esper_Hero.html', 'Ihavethefire_Golgari_Control.html', 'im2g00t4ubarn_Bant_Aggro.html', 'Imaizumi_Riku_Jund_Aggro.html', 'Ingham_Ramsay_Esper_Hero.html', 'INickStrad_Temur_Reclamation.html', 'Ishikawa_Koji_Sultai_Control.html', 'Ithaqua__Reanimator.html', 'Iwasaki_Yuusuke_Jund_Sacrifice.html', 'Jackie_Vecina_Mono_G_Stompy.html', 'Jack_Anid_Dimir_Pirates.html', 'Jacob_Crook_Golos.html', 'Jade_Go_Mono_Red.html', 'Jag_Naya_Aggro.html', 'Jake_Frederick_Sultai_Aggro.html', 'James_Primicias_Mardu_Packers.html', 'James_Weaver_Naya_Feather.html', 'James_Zhi_Mardu_Angel_Aggro.html', 'Jan-dirk_Matuszewski_Geister.html', 'Jarred_Cook_Cavalcade_Red.html', 'Jason_Pitts_Sultai_Sacrifice.html', 'Javier_Dominguez_Gruul_Aggro.html', 'Javier_Dominguez_Gruul_Aventure.html', 'Jean_Gaidioz_Pirates.html', 'Jeff_Esper_DOOM.html', 'Jens_Bosau_Boros_Feather.html', 'Jens_Bosau_Gruul_Aggro.html', 'Jeremy_Dezani_Bant_Control.html', 'Jesse_Jasper_Neyra_Azorius_Mill.html', 'Jesse_Kennon_Quasiduplicate.html', 'Jessica_Estephan_Bant_Aggro_PW.html', 'Jessica_Estephan_UB_Control.html', 'Jimmy_Kungle_Abzan_Midrange.html', 'Jimmy_Stubbs_Dimir_Pirates.html', 'Jim_Davis_Selesnya_Aggro.html', 'Jin_Liu_Dimir_Control.html', 'JMM_Dimir_Midrange.html', 'JMM_Izzet_Spells.html', 'JMM_RBW_Control.html', 'Joe_Andrees_Mardu_Vehicles.html', 'Joe_Fisher_Mono_Green_Aggro.html', 'Johanna_Klümper_Naya_Feather.html', 'John_Pennock_Abzan_Token_Angels.html', 'John_Rolf_Golgari_Aggro.html', 'John_Rolf_Jeskai_Planeswalker.html', 'John_Rolf_Jeskai_PW.html', 'John_Vorderbrueggen_Sultai_Aggro.html', 'Jonah_Niede_Selesnya_Aggro.html', 'Jonathan_P_Selesnya_Adventure.html', 'Jonathan_Sukenik_Fires_of_Invention.html', 'Jordan_Dean_Uw_Auras.html', 'Jorge_Ruiz_Vidal_Abzan_Midrange.html', 'Joseph_Stonesypher_Mono_Green_PW.html', 'Jose_Bolivar_Orzhov_Control.html', 'Jose_E._Canto_White_Weenie.html', 'Jose_Santana_Selesnya_Aggro.html', 'Joshua_Everly_UR_Artifacts.html', 'Joshua_Krotz_Gates.html', 'Josh_Reedy_Mono-blue_Aggro.html', 'Josh_Reedy_Mono_Blue_Aggro.html', 'João_Lucas_Caparroz_Golos.html', 'JoÃ£o_Victor_Silva_Izzet_Spells.html', 'jrhwhite_4c_Energy.html', 'Juaspas_Abzan.html', 'Julian_Felix_Flury_4c_Control.html', 'Julien_Berteuax_Temur_Reclamation.html', 'Jun.I_Grixis_Aggro.html', 'Junsik_Yoon_UB_Zombie.html', 'Justin_Miller_Reanimator.html', 'jwald_Gruul_Aggro.html', 'J_lew_Gruul.html', 'Jérémy_Leteve_Bant_Control.html', 'kado222_Grixis_Control.html', 'Kamo_Riki_Mono_Green_Aggro.html', 'Kanagawa_Takuya_Jund_Sacrifice.html', 'Kanazawa_Yuusuke_Gate_Control.html', 'Kanister_Mono_Blue_Arclight.html', 'Kanye_Best_Boros_Aggro.html', 'Kanye_Best_Temur_Aggro.html', 'Kapelan_Maxim_Mono-red_Aggro.html', 'karben_Red_Deck_Wins.html', 'Kashiwazaki_Isamu_Adventure.html', 'katoriarch123_Fires_of_Invention.html', 'katoriarch123_Sultai_Control.html', 'Kawashima_Takeru_Red_Deck_Wins.html', 'Kaya_Gregg_UW_Control.html', 'Kazaner3000_Selesnya_Aggro.html', 'KelMasterP_Dimir_Midrange.html', 'Kempa79_UR_Artifacts.html', 'kenelli_Mono_Black_Aggro.html', 'Kenji_Egashira_Golos.html', 'Ken_Yukuhiro_Mardu_Knight.html', 'Kevin_Chiche_Ur_Flash.html', 'Kevin_Jones_Golos.html', 'Keylan_Steffins_4c_Value.html', 'kikuya1226_Patriot_Midrange.html', 'Kimoto_Keiya_Boros_Feather.html', 'Kita_Masahiro_Temur_Elemental.html', 'Kiteon_Sultai_Aggro.html', 'Kiyofuji_Kazuya_Fires_of_Invention.html', 'Klimczur_Mono_Black_Aggro.html', 'Knur_therealhog_Mono_Green.html', 'kobayui_Abzan_Aggro.html', 'Kolesnik_Dmitriy_Temur_Elementals.html', 'Kolesnik_Dmitry_Temur_Elementals.html', 'Konstantin_Hittenberger_Konstantin_Rakdos_Sacrifice.html', 'Korolev_Pavel_Grixis_Midrange.html', 'Koshimoto_Haruki_Red_Deck_Wins.html', 'Kostenkov_Vladislav_Rakdos_Aggro.html', 'Kostenkov_Vlad_Izzet_Combo.html', 'Kristjan_Bullock_nan.html', 'Kryssys_Simic_Flash.html', 'Kunitomo_Daisuke_Azorius_Aggro.html', 'Kuroda_Masashiro_Simic_Food.html', 'Kurt_Stockbrugger_Esper_DOOM.html', 'Kvatt_Abzan_Aggro.html', 'Kyle_Knezovich_Abzan_Aggro.html', 'Kyle_Maas_Jeskai_Fires.html', 'Kylle_Combista_Gates-pearl_Harbor.html', 'L1X0_Jund_Sacrifice.html', 'LaCriaturaBB_Mono_Black_Aggro.html', 'LalauWBA_Mardu_Aggro.html', 'Lance_Mutter_Bant_Aggro.html', 'Laschenov_Ivan_Abzan_Wolves.html', 'Laschenov_Ivan_Gruul_Aggro.html', 'Laurent_Laclaverie_Golos_Field.html', 'Leandro_Floresta_Rakdos_Aggro.html', 'Lee_Duffy-ledbetter_UR_Aggro.html', 'Lee_Shi_Tian_Weenie_White.html', 'Levi_Sowers_Orzhov_Approach.html', 'levunga21_Golgari_Aggro.html', 'Lewkmtg_Boros_Feather.html', 'Lewkmtg_Selesnya_Aggro.html', 'Lilian_Couplé_Grixis_Midrange.html', 'Littledarwin_Mono_Blue_Aggro.html', 'Lkv118_Golgari_Food.html', 'lleaf33_Izzet_Control.html', 'Lorenz_Buaron_Ur_Thousand_Year_Storm.html', 'Louis_Guichard_Jund_Sacrifice.html', 'love-quandra_Orzhov_Control.html', 'LucasG1ggs_Red_Deck_Wins.html', 'Lucas_Esper_Berthoud_Golos.html', 'Lucas_Rinieri_4c_Gates.html', 'Luis_Machado_Dimir_Midrange.html', 'Luis_Salvatto_Golgari_Aggro.html', 'Luke_Mulcahy_Simic_Food.html', 'Magicisfuntodo_Orzhov_Control.html', 'Makino_Tatsuya_UR_Aggro.html', 'Makoto_Horiuchi_Bant_Aggro.html', 'Mak_Wai_Hou_Jund_Aggro.html', 'Manuel_Jacob_Sultai_Aggro.html', 'Marcasaurus_Esper_DOOM.html', 'Marcin_Tokajuk_(265)_Jund_Aggro.html', 'Marcio_Demetrius_Preto_Azorius_Legends.html', 'Marcos_Carbone_UW_Control.html', 'Marco_Santopadre_Orzhov_Control.html', 'Marcus_Chandler_Marcus_Vehicles.html', 'Marc_Russell_Orzhov_Aggro.html', 'Marc_Tobiasch_(Germany)_4c_Energy.html', 'mareo83_Dimir_Midrange.html', 'Markus_Spörk_Grb_Midrange.html', 'Mark_Abejuro_Mardu_Aristocrats.html', 'Mark_Cholo_Atienza_Vam-walang_Pira.html', 'Mark_Donaldson_Selesnya_Aggro.html', 'marolanzi_UR_Artifacts.html', 'Martijn_Van_Harlingen_Mono_W.html', 'Martine_Müller_Sultai_Sacrifice.html', 'Martin_Jůza_Orzhov_Aggro.html', 'Martin_Krawies_Sultai_Sacrifice.html', 'Masta_Shonen_Mardu_Angel.html', 'Mastermind1429_Simic_PW.html', 'Mastushika_Kouhei_Weenie_White.html', 'masuko_Azorius_Aggro.html', 'Matias_Alfredo_Leveratto_Golgari_Aggro.html', 'MatiCheto_Dimir_Midrange.html', 'MatiCheto_Grixis_Midrange.html', 'MatiCheto_UB_Control.html', 'Matsuo_Shintaro_UR_Aggro.html', 'Matteo_Soldi_Bant_Food.html', 'Matthew_Beltran_Nexus_Of_Gates.html', 'Matthew_Hoffman_Golgari_Aggro.html', 'Matthew_Nass_UB_Control.html', 'Matthieu_Habersetzer_Mono_Blue_Dredge.html', 'Matt_Culbert_Golgari_Aggro.html', 'Matt_Haney_Azorius_Embalm.html', 'Matt_Nass_Bant_Aggro_PW.html', 'Matt_Severa_4c_Energy.html', 'Matuffino_Boros_Aggro.html', 'Matuvuefr_Mardu_Angels.html', 'Maximov_Alexander_Simic_Flash.html', 'maxxattack_Gruul_Aggro.html', 'Max_Gibson-flader_Temur_Elementals.html', 'maybenextime_Izzet_Control.html', 'Mazuku94_UW_Auras.html', 'melv.p_Esper_DOOM.html', 'melv.p_TemurReclamation.html', 'menp777_Jeskai_Aggro.html', 'MentalMisstep_Temur_Reclamation.html', 'Mesheryakov_Maxim_Esper_DOOM.html', 'Mesheryakov_Maxim_Jeskai_Superfriends.html', 'Michael_Agnes_Golgari_Food.html', 'Michael_Hinderaker_4c_Energy.html', 'Michael_Posada_Izzet_Phoenix.html', 'Michael_Soesanto_Naya_Feather.html', 'Michael_Ullmann_Gruul_Aggro.html', 'MichalMusial_Sultai_Golos.html', 'Michiel_Valcke_UW_Auras.html', 'Mikeut2k3_Henge_Stomp.html', 'Mike_Donovan_Izzet_Control.html', 'Mike_Sigrist_4c_Energy.html', 'Mike_Sigrist_Simic_PW.html', 'Miroshnikova_Ekaterina_Gruul_Aggro.html', 'Mirozel1_Bant_Adventure.html', 'Mitchell_Tamblyn_Grixis_Aggro.html', 'Miyamoto_Keisuke_Mono_Black_Aggro.html', 'Miyata_Kentarou_Azorius_Aggro.html', 'Miyawaki_Takeshi_Simic_Flash.html', 'Mizuno_Masahito_Temur_Aggro.html', 'Moriya_Ryo_Mardu_Control.html', 'Mori_Mitsuhiro_Bant_Aggro.html', 'Mori_Yuuki_Azorius_Aggro.html', 'Morooka_Jun_Boros_Aggro.html', 'Motomura_Shigeru_Simic_Food.html', 'MountainMaster13_Bant_Control.html', 'mouthbreather1_Mardu_Control.html', 'MrCafouillette_UR_Control.html', 'mrprtrcr_Hour_of_Promise_Golgari.html', 'MrWishyWashy_Reanimator.html', 'Mtg_antiheld_Uw_Control.html', 'Muke_Mono_Black.html', 'Muranaka_Toshiki_Mono_Blue_Aggro.html', 'Murilo_Mazza_Jund_Control.html', 'Márcio_Carvalho_Bant_Aggro.html', 'Mélodie_Sagodira_Rakdos_Sacrifice.html', 'Nagao_Kengo_Sultai_Ramp.html', 'Nagao_Naoki_BG.html', 'Nagasou_Jund_Sacrifice.html', 'Nakajima_You_Temur_Reclamation.html', 'Nakamura_Kazuhiro_Boros_Feather.html', 'Nakane_Nozomi_Esper_Control.html', 'Nate_L_Chandra_Fires.html', 'Nathanael_Tripp_Jeskai_PW.html', 'Nathaniel_Knox_Mono_Blue_Aggro.html', 'Nathan_Shoup_Orzhov_Aggro.html', 'natsuki_Mardu_Control.html', 'Nebykov_Denis_Bant_Food.html', 'Nebykov_Denis_Bant_Ramp.html', 'Nebykov_Denis_Sultai_Midrange.html', 'Nematov_Ruslan_White_Weenie.html', 'NEObots_Mardu_Knight.html', 'NEObots_Mono_Black_Aggro.html', 'Nerevar83_Simic_PW.html', 'nex7_Orzhov_Control.html', 'Ng_Jun_Ye_Simic_Oko.html', 'Niceguymtg_Bant_Aggro.html', 'Nicholas_Hnatyshyn_Simic_Food.html', 'Nicholas_Koh_Jeskai_Fires.html', 'Nicolas-robin_Plinate_Temur_Reclamation.html', 'Nicolas_Delvalle_Bant_Control.html', 'Nicolas_Lorca_Mono_Green_Aggro.html', 'Nicola_Cordeschi_UR_Aggro.html', 'Niedzwiedz_Izzet_Midrange.html', 'Niels_Wardenier_Grixis_Reanimator.html', 'Nikhilesh_Mahendran_Bant_Ramp.html', 'NinoMtg_Adventure.html', 'Niyah_Jeskai_Aggro.html', 'NMT_Sco94_Simic_Control.html', 'Noah_Strasler_Golos_Yarok.html', 'Noe_Gated.html', 'Noe_Gate_Control.html', 'Noe_Tour27.html', 'Noguchi_Hiroshi_Gruul_Aggro.html', 'Nolan_Franck_UB_Control.html', 'Nshio_Tomoyasu_Fires_of_Invention.html', 'NumotTheNummy_Grixis_Control.html', 'Numotthenummy_Izzet_Control.html', 'OafMcNamara_Dimir_Midrange.html', 'OafMcNamara_Izzet_Control.html', 'odom_pl_BRW_control..html', 'OhSnap_Reanimator.html', 'Okuda_Masateru_Temur_Reclamation.html', 'OlavoJusMTM_Jeskai_PW.html', 'Ole_Andvik_Golos.html', 'Omar_Mukhayer_Mardu_Control.html', 'Ondrej_Strasky_Simic_Control.html', 'Onin_Fires_of_Invention.html', 'Onoe_Hajime_Esper_Control.html', 'Oomura_Hajime_Sultai_Aggro.html', 'Optimis344_Abzan_Aggro.html', 'Oreshkin_Dmitriy_Rakdos_Aristocrats.html', 'Oscar_Ramírez_Naya_Feather.html', 'Oskar_Sk¶ld_Reanimator.html', 'Owen_Estioco_Orzhov_Vampires.html', 'O_danielakos_Sultai_Control.html', 'Paolo_Crispino_Rakdos_Sacrifice.html', 'Paolo_Go_Mardu_Control.html', 'Paplinki_Sultai_Aggro.html', 'Parker_Connors_Sultai_Oven.html', 'Pasi_Poikela_Mono_Black_Aggro.html', 'pat0presidente_Naya_Feather.html', 'Patrick_K_Gruul_Aggro.html', 'Patxi_Bant_Control.html', 'Paulo_Vitor_Damo_Da_Rosa_Simic_Control.html', 'Paul_Herr_Jund_Aggro.html', 'Pdpgti_Mono_Black_Saccgro.html', 'Pedro_Lauria_UW_Control.html', 'Pedro_Perrini_Rakdos_Aggro.html', 'pepeteam_Bant_Control.html', 'pepeteam_Golgari_Aggro.html', 'Perobotelho_Mono_G_Stompy.html', 'PeterPea_UR_Artifacts.html', 'Philippe_Carloz_Adventure.deck.html', 'Philip_Reeves_Golgari_Adventures.html', 'Phillip_Fitchew_Jeskai_Flash.html', 'Pilototo_Mardu_Feather.html', 'Pinpan_Gruul_Aggro.html', 'Piotr_Glogowski_4c_Energy.html', 'Piotr_Głogowski_Golgari_Aggro.html', 'Popov_Stanislav_Bant_Food.html', 'Por_Yong_Xiang_Sultai_Oko.html', 'Poyo_del_Mal_Boros_Feather.html', 'Poyo_del_Mal_Red_Deck_Wins.html', 'Preston_Butler_Orzhov_Aggro.html', 'Qail_Shivji_Golos.html', 'Quatch_Jund.html', 'Quatch_Sultai_Aggro.html', 'Quentin_Garchery_Rb_Sacrifice.html', 'Raeko_Fires_of_Invention.html', 'rage_hs_Jund_Oven.html', 'RagingMachismo_UB_Control.html', 'Rahwaizh_Abdulrahman_Reanimator.html', 'Raphael_Smith_Selesnya.html', 'Raphaël_Lévy_Golgari_Aggro.html', 'rapidluis08_Orzhov_Aggro.html', 'rapidluis08_Temur_Elemental.html', 'rastaf_Mono_Green_Aggro.html', 'RaV__Reanimator.html', 'Raymond_Montoya_Bw_Vampire_Tokens.html', 'redryansox_Jeskai_Planeswalker.html', 'Remi_Saget_Bant_Reclamation.html', 'Ricardo_Diaz_Orzhov_Aggro.html', 'ristinend_Esper_DOOM.html', 'Robert_Lippmann_4c_Elementals.html', 'Robert_Taylor_Jund_Aggro.html', 'Robert_Wild_Boros_Feather.html', 'Robert_Wise_Esper_Hero.html', 'Rocardito_Mono_Black_Aggro.html', 'Rodrigo_Pereira_Dimir_Zombies.html', 'Rod_Osal_Approach_Convergence.html', 'romanmy_Jund_Aggro.html', 'Roman_Fusco_UW_Control.html', 'Rooney56_Dimir_Midrange.html', 'rushi_00_4c_Energy.html', 'Ryan_Stockburger_Mardu_Control.html', 'ryota09_UR_Artifacts.html', 'ryugi_Esper_Hero.html', 'ryugi_Esper_Midrange.html', \"Rémi_D'emmerez_Sultai_Oko-less.html\", 'Saher_Khalil_Golgari_Adventure.html', 'Saitou_Takahiro_Grixis_Midrange.html', 'Samshot_Golgari_Control.html', 'SamuelGraebner_Dimir_Control.html', 'SamuelGraebner_Sultai_Aggro.html', 'Samuel_Defeo_Gate_Control.html', 'Samuel_Pardee_4c_Energy.html', 'Sam_Birkenbile_Bant_Aggro.html', 'sans_UR_Artifacts.html', 'Sasayama_Shin_Mono_Blue_Aggro.html', 'Savin_Victor_Mono-blac_Aggro.html', 'Sayama_Tatsunosuke_Grixis_Midrange.html', 'Scappie_DimirMidrange.html', 'SeanElsewhere_Boros_Feather.html', 'Sebastian_Denno_Orzhov_Aggro.html', 'Sebastian_Pozzo_Simic_Control.html', 'Semulin_Naya_Aggro.html', 'sepomon_Naya_Feather.html', 'Serov_Stanislav_Temur_Reclamation.html', 'Serputko_Vyacheslav_Gruul_Aggro.html', 'Seth_Yandrofski_Jund_Midrange.html', 'SgtMcMuffins_Adventure.html', 'Shahar_Shenhar_Grixis_Aggro.html', 'Shahar_Shenhar_Grixis_Control.html', 'Shamsul_Bahrain_Esper_Control.html', 'Shamsul_Zainuddin_Esper_Control.html', 'Shasha_Red_Deck_Wins.html', 'Shawn_Khoo_Sultai_Flash.html', 'Shawn_Rayson_Niv-mizzet_Fires.html', 'Shiina_Kouji_Mono_Green_Aggro.html', 'Shimokawabe_Akinari_Selesnya_Aggro.html', 'Shiohata_Ryousuke_Simic_Food.html', 'Shota_Takano_Jund_Aggro.html', 'Sidorov_Ivan_Temur_Elementals.html', 'signblindman_Jund_Aggro.html', 'sikolio_Jund.html', 'Simon_Demay_Mardu_Knight.html', 'Skite_Gate_Control.html', 'Skupoy_Bw_Vampires.html', 'Skybilz_Gruul_Aggro.html', 'Skyfly22_Orzhov_Control.html', 'smile_papa4_Mono_Blue_Aggro.html', 'Smirnov_Alexander_Azorius_Control.html', 'Sneaky_homunkulus_URArtifacts.html', 'snowsk82000_Reanimator.html', 'soccerdude789_Adventure.html', 'Soedjadi_Sentosa_Jeskai_Planeswalkers.html', 'Sofiane_Sehil_Sultai_Oko.html', 'Sokos13_Grixis_Aggro.html', 'sokos13_Grixis_Midrange.html', 'solace_Golgari_Control.html', 'stainerson_Zombies.html', 'Stefano_Eusebi_UR_Artifacts.html', 'Stefan_Bill_Temur_Superfriends.html', 'Stefan_Schütz_Temur_Reclamation.html', 'Stephan_Schwarz_Selesnya_Aggro.html', 'Steven_Abbott_Orzhov_Aggro.html', 'Steven_Nesteby_Orzhov_Approach.html', 'StrixMix_Jund_Aggro.html', 'Suda_Yoshihiro_Mono_Green_Aggro.html', 'superradjoe_UR_Control.html', 'Suzuki_Kazushige_Temur_Reclamation.html', 'Swarm_OF_Mats_Jund_Aggro.html', 'Taalia_Vess_Mono_Black_Aggro.html', 'Tabananga_Orzhov_Aggro.html', 'Tableleg23_Esper_DOOM.html', 'Takahashi_Naoya_Azorius_Aggro.html', 'Takahashi_Naoya_Mono_Blue_Aggro.html', 'Takahashi_Naoya_Orzhov_Control.html', 'Takahashi_Ryou_Boros_Aggro.html', 'Takamiya_Issei_Mono_Green_Aggro.html', 'Takata_Kazuma_Mono_Green_Aggro.html', 'Takenaka_Tooru_UR_Aggro.html', 'Takeno_Ryo_Esper_Midrange.html', 'Takeno_Ryo_Mono_Green_Aggro.html', 'Tanabe_Takumi_Simic_Control.html', 'tangrams_Bant_Aggro.html', 'tangrams_Fires_of_Invention.html', 'Taniguchi_Hiroaki_Temur_Aggro.html', 'Taniguchi_Syougo_Esper_DOOM.html', 'Tanji_Kensuke_Grixis_Control.html', 'Taylor_Clarke_Grixis_Midrange.html', 'Team5c_Selesnya_Aggro.html', 'Tee3cat_Izzet_Phoenix.html', 'Teo_Yuen_Peir_(jack)_Simic_Oko.html', 'Tetezinho_Grixis_Midrange.html', 'Thanh_Nguyen_Grixis_Control.html', 'Theeradet_Yingviriyaprapan_Esper_Hero.html', 'Thegamerguy_Orzhov_Aggro.html', 'Theo_Moutier_Grixis.html', 'The_nayr_Jund_Aggro.html', 'The_Philosopher_Simic_Food.html', 'Thiago_Casassanta_Jund_Sacrifice.html', 'Thiago_Rosenmann_Simic_Control.html', 'Thierry_Ramboa_Bant_Control.html', 'Thijs_Van_Der_Meer_Jeskai_Superfriends.html', 'Thijz_Gate_Control.html', 'Thomas_Gyllenhammer_Abzan.html', 'Thomas_Thominen_UR_Artifacts.html', 'Thomas_Yarbrough_nan.html', 'Thorben_Beckmann_Azorius_One_Last_Time.html', 'Théau_Mery_Sultai_Sacrifice.html', 'Tiffany_Barnes_Mono_Black_Aggro.html', 'Timothy_Madsen_UB_Control.html', 'Timothy_Wu_Gr.html', 'Timothy_Wu_Rg.html', 'Tobe_Masamune_Weenie_White.html', 'Todd_Stevens_Orzhov_Control.html', 'Tokarev_Alexander_Izzet_Tempo.html', 'Tomita_Hiroki_Bant_Ramp.html', 'Tom_Stanton_Hour_of_Promise_Golgari.html', 'Tonouchi_Keita_Orzhov_Control.html', 'TopGrinder_UR_Aggro.html', 'Travv_Mardu_Planeswalker.html', 'Trent_Clarke_Sultai_Food.html', 'TroyGG36_Dimir_Midrange.html', 'Truedawn_Simic_Emry.html', 'truthordare_Izzet_Control.html', 'Tsutai_Koutarou_Simic_Food.html', 'Tulio_Jaudy_Abzan_Value.html', 'Tyler_Smith_Blue_White_Control.html', 'tyrion_lannister_Naya_Feather.html', 'Uchoa_Boros_Feather.html', 'Uemura_Akira_Orzhov_Aggro.html', 'Uniq_Abzan_Aggro.html', 'Upumpa89_Sultai_Aggro.html', 'Uri_Roberto_Mardu_Refurbish.html', 'Urlich_Naya_Feather.html', 'U_mad_bro_Weenie_White.html', 'Valorj_Sultai_Flash.html', 'Vasiliev_Vitaliy_Esper_Danse.html', 'Vasiliev_Vitaliy_Esper_Doom.html', 'Venom1_Golgari_Aggro.html', 'Venom1_Golgari_Control.html', 'Vergard_Mardu_Planeswalker.html', 'Vicent_Silvestre_Bant_Control.html', 'Vinay_Gupta_Mardu_Angel_Aggro.html', 'Vincentius_Gondowijoyo_Esper_DOOM.html', 'Vincent_Choy_5c_PW.html', 'Vincent_Hocquemiller_Simic_Food.html', 'Vladislav_Blinov_Golgari_Adventure.html', 'Vodkacrusader_Simic_PW.html', 'VTCLA_Golgari_Aggro.html', 'Waifugate_Esper_Precinct_One.html', 'Waifugate_Gruul_Aggro.html', 'Wakita_Daiki_Mono_Green_Aggro.html', 'Wakita_Tomoyuki_Sultai_Elemental.html', 'Wanja_Huber_Simic_Food.html', 'WarAndMagicTV_Simic_Flash.html', 'WaToO_UW_Control.html', 'Whiteba_Bant_Oko.html', 'William_Gutierrez_Grixix_Control.html', 'WillyBzzz_Jund_Oven.html', 'WingedHussar_Hour_of_Promise_Golgari.html', 'Wolf_Christopher_Simic_Oko.html', 'Wonkothekiller_UR_Artifacts.html', 'worrier1000_Selesnya_Aggro.html', 'Wu_Bi_Lun_Mardu_Knights.html', 'Wynand_Van_Zyl_4_Color_Doom.html', 'Wynand_Van_Zyl_Mardu_DOOM.html', 'xfile_Weenie_White.html', 'xhpc007_Sultai_Sacrifice.html', 'Xx_Mully60_xX_UB_Control.html', 'Yaggdryzzill_Weenie_White.html', 'Yamada_Chiaki_Adventure.html', 'Yamade_Masato_Simic_Food.html', 'Yamaguchi_Takurou_Temur_PW.html', 'yamakiller_Jund.html', 'Yamaki_Mardu_Aggro.html', 'Yamamura_Shouma_Adventure.html', 'Yanase_Kaname_Bant_Aggro.html', 'Yashiro_Kazuki_Izzet_Phoenix.html', 'Yasuda_Masayuki_UW_PW.html', 'Yellowhat_Azorius_Fly.html', 'Yellowhat_Izzet_Spells.html', 'Yellowhat_Mono_Black_Aggro.html', 'Yellowhat_Weenie_White.html', 'yerffej03_Golgari_Land_Loss.html', 'yerffej03_Golgari_PW.html', 'yerffej03_UW_Control.html', 'Yiming_Zhi_UW_Control.html', 'Yixian_Liang_Sultai_Food.html', 'Yohan_Dudognon_4colour_Good_Stuff.html', 'Yokoyama_Shohei_Grixis_Control.html', 'yoshidora_Azorius_Aggro.html', 'Yousuke_Takaku_Mardu_Gearhulk.html', 'Yuta_Hirosawa_4c_Energy.html', 'Zachery_Mcintosh_Golos.html', 'Zach_Keathley_G-w_Adventure.html', 'Zack_Brown_Selesnya_Aggro.html', 'zer1997_UW_Control.html', 'zeuth_UR_Artifacts.html', 'zhandrg1987_Feather_Mardu.html', 'zhandrg1987_Grixis_Aggro.html', 'zhandrg1987_Grixis_Midrange.html', 'Zhang_Bowen_UB_Control.html', 'Zhupikov_Alexander_Simic_Ramp.html', 'Zvavok_Sultai_Aggro.html', 'Zxrogue_Orzhov_Control.html', '_Batutinha__Golgari_Aggro.html', '_Falcon__Jeskai_Planeswalker.html', '_Falcon__Jund_Sacrifice.html', '_Falcon__Rakdos_Aggro.html', '_IlNano__Mono_Black_Aggro.html', '_mad_k1022_Dimir_Midrange.html', '_Tia93__Bant_Control.html', '__GMF___UW_Auras.html']\n"
     ]
    }
   ],
   "source": [
    "print(dir_names)"
   ]
  },
  {
   "cell_type": "code",
   "execution_count": 7,
   "metadata": {},
   "outputs": [
    {
     "data": {
      "text/html": [
       "<div>\n",
       "<style scoped>\n",
       "    .dataframe tbody tr th:only-of-type {\n",
       "        vertical-align: middle;\n",
       "    }\n",
       "\n",
       "    .dataframe tbody tr th {\n",
       "        vertical-align: top;\n",
       "    }\n",
       "\n",
       "    .dataframe thead th {\n",
       "        text-align: right;\n",
       "    }\n",
       "</style>\n",
       "<table border=\"1\" class=\"dataframe\">\n",
       "  <thead>\n",
       "    <tr style=\"text-align: right;\">\n",
       "      <th></th>\n",
       "      <th>player</th>\n",
       "      <th>url</th>\n",
       "      <th>name</th>\n",
       "    </tr>\n",
       "  </thead>\n",
       "  <tbody>\n",
       "    <tr>\n",
       "      <th>0</th>\n",
       "      <td>Robert_Lippmann</td>\n",
       "      <td>https://www.mtgtop8.com/event?e=23476&amp;amp;d=36...</td>\n",
       "      <td>4c_Elementals</td>\n",
       "    </tr>\n",
       "    <tr>\n",
       "      <th>1</th>\n",
       "      <td>Clarence_Dews</td>\n",
       "      <td>https://www.mtgtop8.com/event?e=23375&amp;amp;d=36...</td>\n",
       "      <td>Omnath</td>\n",
       "    </tr>\n",
       "    <tr>\n",
       "      <th>2</th>\n",
       "      <td>Yohan_Dudognon</td>\n",
       "      <td>https://www.mtgtop8.com/event?e=23384&amp;amp;d=36...</td>\n",
       "      <td>4colour_Good_Stuff</td>\n",
       "    </tr>\n",
       "    <tr>\n",
       "      <th>3</th>\n",
       "      <td>Aaron_Barich</td>\n",
       "      <td>https://www.mtgtop8.com/event?e=22218&amp;amp;d=35...</td>\n",
       "      <td>4c_Sun</td>\n",
       "    </tr>\n",
       "    <tr>\n",
       "      <th>4</th>\n",
       "      <td>rushi_00</td>\n",
       "      <td>https://www.mtgtop8.com/event?e=18688&amp;amp;d=31...</td>\n",
       "      <td>4c_Energy</td>\n",
       "    </tr>\n",
       "  </tbody>\n",
       "</table>\n",
       "</div>"
      ],
      "text/plain": [
       "            player                                                url  \\\n",
       "0  Robert_Lippmann  https://www.mtgtop8.com/event?e=23476&amp;d=36...   \n",
       "1    Clarence_Dews  https://www.mtgtop8.com/event?e=23375&amp;d=36...   \n",
       "2   Yohan_Dudognon  https://www.mtgtop8.com/event?e=23384&amp;d=36...   \n",
       "3     Aaron_Barich  https://www.mtgtop8.com/event?e=22218&amp;d=35...   \n",
       "4         rushi_00  https://www.mtgtop8.com/event?e=18688&amp;d=31...   \n",
       "\n",
       "                 name  \n",
       "0       4c_Elementals  \n",
       "1              Omnath  \n",
       "2  4colour_Good_Stuff  \n",
       "3              4c_Sun  \n",
       "4           4c_Energy  "
      ]
     },
     "execution_count": 7,
     "metadata": {},
     "output_type": "execute_result"
    }
   ],
   "source": [
    "deck_urls.head()"
   ]
  },
  {
   "cell_type": "code",
   "execution_count": 33,
   "metadata": {},
   "outputs": [
    {
     "data": {
      "text/html": [
       "<div>\n",
       "<style scoped>\n",
       "    .dataframe tbody tr th:only-of-type {\n",
       "        vertical-align: middle;\n",
       "    }\n",
       "\n",
       "    .dataframe tbody tr th {\n",
       "        vertical-align: top;\n",
       "    }\n",
       "\n",
       "    .dataframe thead th {\n",
       "        text-align: right;\n",
       "    }\n",
       "</style>\n",
       "<table border=\"1\" class=\"dataframe\">\n",
       "  <thead>\n",
       "    <tr style=\"text-align: right;\">\n",
       "      <th></th>\n",
       "      <th>player</th>\n",
       "      <th>url</th>\n",
       "      <th>name</th>\n",
       "      <th>deck_list</th>\n",
       "    </tr>\n",
       "  </thead>\n",
       "  <tbody>\n",
       "    <tr>\n",
       "      <th>0</th>\n",
       "      <td>Robert_Lippmann</td>\n",
       "      <td>https://www.mtgtop8.com/event?e=23476&amp;amp;d=36...</td>\n",
       "      <td>4c_Elementals</td>\n",
       "      <td>['13 Forest', '4 Llanowar Elves', '3 Greenbelt...</td>\n",
       "    </tr>\n",
       "    <tr>\n",
       "      <th>1</th>\n",
       "      <td>Clarence_Dews</td>\n",
       "      <td>https://www.mtgtop8.com/event?e=23375&amp;amp;d=36...</td>\n",
       "      <td>Omnath</td>\n",
       "      <td>['10 Forest', '7 Island', '4 Llanowar Elves', ...</td>\n",
       "    </tr>\n",
       "    <tr>\n",
       "      <th>2</th>\n",
       "      <td>Yohan_Dudognon</td>\n",
       "      <td>https://www.mtgtop8.com/event?e=23384&amp;amp;d=36...</td>\n",
       "      <td>4colour_Good_Stuff</td>\n",
       "      <td>['2 Essence Scatter', '4 Glacial Fortress', '7...</td>\n",
       "    </tr>\n",
       "    <tr>\n",
       "      <th>3</th>\n",
       "      <td>Aaron_Barich</td>\n",
       "      <td>https://www.mtgtop8.com/event?e=22218&amp;amp;d=35...</td>\n",
       "      <td>4c_Sun</td>\n",
       "      <td>['1 Planar Cleansing', '2 Forest', '2 Island',...</td>\n",
       "    </tr>\n",
       "    <tr>\n",
       "      <th>4</th>\n",
       "      <td>rushi_00</td>\n",
       "      <td>https://www.mtgtop8.com/event?e=18688&amp;amp;d=31...</td>\n",
       "      <td>4c_Energy</td>\n",
       "      <td>['6 Forest', '4 Swamp', '4 Blood Crypt', '4 Ca...</td>\n",
       "    </tr>\n",
       "  </tbody>\n",
       "</table>\n",
       "</div>"
      ],
      "text/plain": [
       "            player                                                url  \\\n",
       "0  Robert_Lippmann  https://www.mtgtop8.com/event?e=23476&amp;d=36...   \n",
       "1    Clarence_Dews  https://www.mtgtop8.com/event?e=23375&amp;d=36...   \n",
       "2   Yohan_Dudognon  https://www.mtgtop8.com/event?e=23384&amp;d=36...   \n",
       "3     Aaron_Barich  https://www.mtgtop8.com/event?e=22218&amp;d=35...   \n",
       "4         rushi_00  https://www.mtgtop8.com/event?e=18688&amp;d=31...   \n",
       "\n",
       "                 name                                          deck_list  \n",
       "0       4c_Elementals  ['13 Forest', '4 Llanowar Elves', '3 Greenbelt...  \n",
       "1              Omnath  ['10 Forest', '7 Island', '4 Llanowar Elves', ...  \n",
       "2  4colour_Good_Stuff  ['2 Essence Scatter', '4 Glacial Fortress', '7...  \n",
       "3              4c_Sun  ['1 Planar Cleansing', '2 Forest', '2 Island',...  \n",
       "4           4c_Energy  ['6 Forest', '4 Swamp', '4 Blood Crypt', '4 Ca...  "
      ]
     },
     "execution_count": 33,
     "metadata": {},
     "output_type": "execute_result"
    }
   ],
   "source": [
    "decks_clean.head()"
   ]
  },
  {
   "cell_type": "code",
   "execution_count": 32,
   "metadata": {},
   "outputs": [
    {
     "data": {
      "text/html": [
       "<div>\n",
       "<style scoped>\n",
       "    .dataframe tbody tr th:only-of-type {\n",
       "        vertical-align: middle;\n",
       "    }\n",
       "\n",
       "    .dataframe tbody tr th {\n",
       "        vertical-align: top;\n",
       "    }\n",
       "\n",
       "    .dataframe thead th {\n",
       "        text-align: right;\n",
       "    }\n",
       "</style>\n",
       "<table border=\"1\" class=\"dataframe\">\n",
       "  <thead>\n",
       "    <tr style=\"text-align: right;\">\n",
       "      <th></th>\n",
       "      <th>player</th>\n",
       "      <th>url</th>\n",
       "      <th>name</th>\n",
       "      <th>deck_list</th>\n",
       "    </tr>\n",
       "  </thead>\n",
       "  <tbody>\n",
       "    <tr>\n",
       "      <th>914</th>\n",
       "      <td>Conanhawk</td>\n",
       "      <td>https://www.mtgtop8.com/event?e=22351&amp;amp;d=35...</td>\n",
       "      <td>Weenie_White</td>\n",
       "      <td>['nan']</td>\n",
       "    </tr>\n",
       "    <tr>\n",
       "      <th>915</th>\n",
       "      <td>Björn_Krusche</td>\n",
       "      <td>https://www.mtgtop8.com/event?e=22391&amp;amp;d=35...</td>\n",
       "      <td>Weenie_White</td>\n",
       "      <td>['nan']</td>\n",
       "    </tr>\n",
       "    <tr>\n",
       "      <th>916</th>\n",
       "      <td>Drew_Iafrate</td>\n",
       "      <td>https://www.mtgtop8.com/event?e=22353&amp;amp;d=35...</td>\n",
       "      <td>WW</td>\n",
       "      <td>['nan']</td>\n",
       "    </tr>\n",
       "    <tr>\n",
       "      <th>917</th>\n",
       "      <td>Yellowhat</td>\n",
       "      <td>https://www.mtgtop8.com/event?e=22304&amp;amp;d=35...</td>\n",
       "      <td>Weenie_White</td>\n",
       "      <td>['nan']</td>\n",
       "    </tr>\n",
       "    <tr>\n",
       "      <th>918</th>\n",
       "      <td>Cornanhawk</td>\n",
       "      <td>https://www.mtgtop8.com/event?e=22304&amp;amp;d=35...</td>\n",
       "      <td>Weenie_White</td>\n",
       "      <td>['nan']</td>\n",
       "    </tr>\n",
       "  </tbody>\n",
       "</table>\n",
       "</div>"
      ],
      "text/plain": [
       "            player                                                url  \\\n",
       "914      Conanhawk  https://www.mtgtop8.com/event?e=22351&amp;d=35...   \n",
       "915  Björn_Krusche  https://www.mtgtop8.com/event?e=22391&amp;d=35...   \n",
       "916   Drew_Iafrate  https://www.mtgtop8.com/event?e=22353&amp;d=35...   \n",
       "917      Yellowhat  https://www.mtgtop8.com/event?e=22304&amp;d=35...   \n",
       "918     Cornanhawk  https://www.mtgtop8.com/event?e=22304&amp;d=35...   \n",
       "\n",
       "             name deck_list  \n",
       "914  Weenie_White   ['nan']  \n",
       "915  Weenie_White   ['nan']  \n",
       "916            WW   ['nan']  \n",
       "917  Weenie_White   ['nan']  \n",
       "918  Weenie_White   ['nan']  "
      ]
     },
     "execution_count": 32,
     "metadata": {},
     "output_type": "execute_result"
    }
   ],
   "source": [
    "decks_clean.tail()"
   ]
  },
  {
   "cell_type": "code",
   "execution_count": 38,
   "metadata": {},
   "outputs": [
    {
     "data": {
      "text/plain": [
       "'[\\'13 Forest\\', \\'4 Llanowar Elves\\', \\'3 Greenbelt Rampager\\', \\'2 Aethersphere Harvester\\', \\'3 Heart of Kiran\\', \"1 Lifecrafter\\'s Bestiary\", \\'2 Cartouche of Knowledge\\', \\'3 Rhonas the Indomitable\\', \\'2 Commit-Memory\\', \\'4 Steel Leaf Champion\\', \\'3 Hashep Oasis\\', \\'4 Hinterland Harbor\\', \\'2 Blossoming Defense\\', \"2 Nature\\'s Way\", \\'4 Servant of the Conduit\\', \\'4 Botanical Sanctum\\', \\'4 Vine Mare\\', \\'2 Vivien Reid\\', \\'3 Negate\\', \\'4 Ghalta, Primal Hunger\\', \\'4 Thrashing Brontodon\\', \\'2 Merfolk Branchwalker\\', \\'\"/>\\']'"
      ]
     },
     "execution_count": 38,
     "metadata": {},
     "output_type": "execute_result"
    }
   ],
   "source": [
    "decks_clean.iloc[0, 3]"
   ]
  },
  {
   "cell_type": "code",
   "execution_count": 39,
   "metadata": {},
   "outputs": [
    {
     "data": {
      "text/plain": [
       "'https://www.mtgtop8.com/event?e=23476&amp;d=362227&amp;f=ST'"
      ]
     },
     "execution_count": 39,
     "metadata": {},
     "output_type": "execute_result"
    }
   ],
   "source": [
    "decks_clean.url[0]"
   ]
  },
  {
   "cell_type": "markdown",
   "metadata": {},
   "source": [
    "### Assessment\n",
    "- [done] data from deck_urls.csv and deck_list.csv are of same object\n",
    "- [done] .html and .txt tags are irrelevant in name column\n",
    "- [done] `deck_list` may be type that is irrelevant\n",
    "- [done] `deck_list` column is one huge object\n",
    "- [done] irrelevant characters in `deck_list` column\n",
    "- [done] deck_urls needs a copy to work with\n",
    "- [done] multiple headers in `url` column because i must have ran the function too often\n",
    "- missing data at the end of the dataset\n",
    "- [done] deck_list column is not the right data type\n",
    "- duplicate observations\n",
    "- [done] deck_list column is not in the right order because the data was reorganized at some point\n",
    "- [done] decks are incorrectly named"
   ]
  },
  {
   "cell_type": "markdown",
   "metadata": {},
   "source": [
    "## Clean"
   ]
  },
  {
   "cell_type": "markdown",
   "metadata": {},
   "source": [
    "#### Define\n",
    "- append deck_urls.csv and deck_list.csv together"
   ]
  },
  {
   "cell_type": "markdown",
   "metadata": {},
   "source": [
    "#### Code"
   ]
  },
  {
   "cell_type": "code",
   "execution_count": 9,
   "metadata": {},
   "outputs": [],
   "source": [
    "deck_urls['deck_list'] = decks_clean"
   ]
  },
  {
   "cell_type": "code",
   "execution_count": 11,
   "metadata": {},
   "outputs": [],
   "source": [
    "deck_urls.to_csv('~/Documents/MTG/data/decks_clean.csv', index=False)"
   ]
  },
  {
   "cell_type": "markdown",
   "metadata": {},
   "source": [
    "#### Test"
   ]
  },
  {
   "cell_type": "code",
   "execution_count": 10,
   "metadata": {},
   "outputs": [
    {
     "data": {
      "text/html": [
       "<div>\n",
       "<style scoped>\n",
       "    .dataframe tbody tr th:only-of-type {\n",
       "        vertical-align: middle;\n",
       "    }\n",
       "\n",
       "    .dataframe tbody tr th {\n",
       "        vertical-align: top;\n",
       "    }\n",
       "\n",
       "    .dataframe thead th {\n",
       "        text-align: right;\n",
       "    }\n",
       "</style>\n",
       "<table border=\"1\" class=\"dataframe\">\n",
       "  <thead>\n",
       "    <tr style=\"text-align: right;\">\n",
       "      <th></th>\n",
       "      <th>player</th>\n",
       "      <th>url</th>\n",
       "      <th>name</th>\n",
       "      <th>deck_list</th>\n",
       "    </tr>\n",
       "  </thead>\n",
       "  <tbody>\n",
       "    <tr>\n",
       "      <th>0</th>\n",
       "      <td>Robert_Lippmann</td>\n",
       "      <td>https://www.mtgtop8.com/event?e=23476&amp;amp;d=36...</td>\n",
       "      <td>4c_Elementals</td>\n",
       "      <td>&lt;input name=\"c\" type=\"hidden\" value=\"13 Forest...</td>\n",
       "    </tr>\n",
       "    <tr>\n",
       "      <th>1</th>\n",
       "      <td>Clarence_Dews</td>\n",
       "      <td>https://www.mtgtop8.com/event?e=23375&amp;amp;d=36...</td>\n",
       "      <td>Omnath</td>\n",
       "      <td>&lt;input name=\"c\" type=\"hidden\" value=\"10 Forest...</td>\n",
       "    </tr>\n",
       "    <tr>\n",
       "      <th>2</th>\n",
       "      <td>Yohan_Dudognon</td>\n",
       "      <td>https://www.mtgtop8.com/event?e=23384&amp;amp;d=36...</td>\n",
       "      <td>4colour_Good_Stuff</td>\n",
       "      <td>&lt;input name=\"c\" type=\"hidden\" value=\"2 Essence...</td>\n",
       "    </tr>\n",
       "    <tr>\n",
       "      <th>3</th>\n",
       "      <td>Aaron_Barich</td>\n",
       "      <td>https://www.mtgtop8.com/event?e=22218&amp;amp;d=35...</td>\n",
       "      <td>4c_Sun</td>\n",
       "      <td>&lt;input name=\"c\" type=\"hidden\" value=\"1 Planar ...</td>\n",
       "    </tr>\n",
       "    <tr>\n",
       "      <th>4</th>\n",
       "      <td>rushi_00</td>\n",
       "      <td>https://www.mtgtop8.com/event?e=18688&amp;amp;d=31...</td>\n",
       "      <td>4c_Energy</td>\n",
       "      <td>&lt;input name=\"c\" type=\"hidden\" value=\"6 Forest|...</td>\n",
       "    </tr>\n",
       "  </tbody>\n",
       "</table>\n",
       "</div>"
      ],
      "text/plain": [
       "            player                                                url  \\\n",
       "0  Robert_Lippmann  https://www.mtgtop8.com/event?e=23476&amp;d=36...   \n",
       "1    Clarence_Dews  https://www.mtgtop8.com/event?e=23375&amp;d=36...   \n",
       "2   Yohan_Dudognon  https://www.mtgtop8.com/event?e=23384&amp;d=36...   \n",
       "3     Aaron_Barich  https://www.mtgtop8.com/event?e=22218&amp;d=35...   \n",
       "4         rushi_00  https://www.mtgtop8.com/event?e=18688&amp;d=31...   \n",
       "\n",
       "                 name                                          deck_list  \n",
       "0       4c_Elementals  <input name=\"c\" type=\"hidden\" value=\"13 Forest...  \n",
       "1              Omnath  <input name=\"c\" type=\"hidden\" value=\"10 Forest...  \n",
       "2  4colour_Good_Stuff  <input name=\"c\" type=\"hidden\" value=\"2 Essence...  \n",
       "3              4c_Sun  <input name=\"c\" type=\"hidden\" value=\"1 Planar ...  \n",
       "4           4c_Energy  <input name=\"c\" type=\"hidden\" value=\"6 Forest|...  "
      ]
     },
     "execution_count": 10,
     "metadata": {},
     "output_type": "execute_result"
    }
   ],
   "source": [
    "deck_urls.head()"
   ]
  },
  {
   "cell_type": "markdown",
   "metadata": {},
   "source": [
    "#### Define\n",
    "- create a copy of `deck_urls`"
   ]
  },
  {
   "cell_type": "markdown",
   "metadata": {},
   "source": [
    "#### Code"
   ]
  },
  {
   "cell_type": "code",
   "execution_count": 12,
   "metadata": {},
   "outputs": [],
   "source": [
    "decks_clean = deck_urls.copy()"
   ]
  },
  {
   "cell_type": "markdown",
   "metadata": {},
   "source": [
    "#### Test"
   ]
  },
  {
   "cell_type": "code",
   "execution_count": 13,
   "metadata": {},
   "outputs": [
    {
     "data": {
      "text/html": [
       "<div>\n",
       "<style scoped>\n",
       "    .dataframe tbody tr th:only-of-type {\n",
       "        vertical-align: middle;\n",
       "    }\n",
       "\n",
       "    .dataframe tbody tr th {\n",
       "        vertical-align: top;\n",
       "    }\n",
       "\n",
       "    .dataframe thead th {\n",
       "        text-align: right;\n",
       "    }\n",
       "</style>\n",
       "<table border=\"1\" class=\"dataframe\">\n",
       "  <thead>\n",
       "    <tr style=\"text-align: right;\">\n",
       "      <th></th>\n",
       "      <th>player</th>\n",
       "      <th>url</th>\n",
       "      <th>name</th>\n",
       "      <th>deck_list</th>\n",
       "    </tr>\n",
       "  </thead>\n",
       "  <tbody>\n",
       "    <tr>\n",
       "      <th>0</th>\n",
       "      <td>Robert_Lippmann</td>\n",
       "      <td>https://www.mtgtop8.com/event?e=23476&amp;amp;d=36...</td>\n",
       "      <td>4c_Elementals</td>\n",
       "      <td>&lt;input name=\"c\" type=\"hidden\" value=\"13 Forest...</td>\n",
       "    </tr>\n",
       "    <tr>\n",
       "      <th>1</th>\n",
       "      <td>Clarence_Dews</td>\n",
       "      <td>https://www.mtgtop8.com/event?e=23375&amp;amp;d=36...</td>\n",
       "      <td>Omnath</td>\n",
       "      <td>&lt;input name=\"c\" type=\"hidden\" value=\"10 Forest...</td>\n",
       "    </tr>\n",
       "    <tr>\n",
       "      <th>2</th>\n",
       "      <td>Yohan_Dudognon</td>\n",
       "      <td>https://www.mtgtop8.com/event?e=23384&amp;amp;d=36...</td>\n",
       "      <td>4colour_Good_Stuff</td>\n",
       "      <td>&lt;input name=\"c\" type=\"hidden\" value=\"2 Essence...</td>\n",
       "    </tr>\n",
       "    <tr>\n",
       "      <th>3</th>\n",
       "      <td>Aaron_Barich</td>\n",
       "      <td>https://www.mtgtop8.com/event?e=22218&amp;amp;d=35...</td>\n",
       "      <td>4c_Sun</td>\n",
       "      <td>&lt;input name=\"c\" type=\"hidden\" value=\"1 Planar ...</td>\n",
       "    </tr>\n",
       "    <tr>\n",
       "      <th>4</th>\n",
       "      <td>rushi_00</td>\n",
       "      <td>https://www.mtgtop8.com/event?e=18688&amp;amp;d=31...</td>\n",
       "      <td>4c_Energy</td>\n",
       "      <td>&lt;input name=\"c\" type=\"hidden\" value=\"6 Forest|...</td>\n",
       "    </tr>\n",
       "  </tbody>\n",
       "</table>\n",
       "</div>"
      ],
      "text/plain": [
       "            player                                                url  \\\n",
       "0  Robert_Lippmann  https://www.mtgtop8.com/event?e=23476&amp;d=36...   \n",
       "1    Clarence_Dews  https://www.mtgtop8.com/event?e=23375&amp;d=36...   \n",
       "2   Yohan_Dudognon  https://www.mtgtop8.com/event?e=23384&amp;d=36...   \n",
       "3     Aaron_Barich  https://www.mtgtop8.com/event?e=22218&amp;d=35...   \n",
       "4         rushi_00  https://www.mtgtop8.com/event?e=18688&amp;d=31...   \n",
       "\n",
       "                 name                                          deck_list  \n",
       "0       4c_Elementals  <input name=\"c\" type=\"hidden\" value=\"13 Forest...  \n",
       "1              Omnath  <input name=\"c\" type=\"hidden\" value=\"10 Forest...  \n",
       "2  4colour_Good_Stuff  <input name=\"c\" type=\"hidden\" value=\"2 Essence...  \n",
       "3              4c_Sun  <input name=\"c\" type=\"hidden\" value=\"1 Planar ...  \n",
       "4           4c_Energy  <input name=\"c\" type=\"hidden\" value=\"6 Forest|...  "
      ]
     },
     "execution_count": 13,
     "metadata": {},
     "output_type": "execute_result"
    }
   ],
   "source": [
    "decks_clean.head()"
   ]
  },
  {
   "cell_type": "markdown",
   "metadata": {},
   "source": [
    "#### Define\n",
    "- change type of `deck_list` to str"
   ]
  },
  {
   "cell_type": "markdown",
   "metadata": {},
   "source": [
    "#### Code"
   ]
  },
  {
   "cell_type": "code",
   "execution_count": 14,
   "metadata": {},
   "outputs": [],
   "source": [
    "decks_clean.deck_list = decks_clean.deck_list.astype('str')"
   ]
  },
  {
   "cell_type": "code",
   "execution_count": 16,
   "metadata": {},
   "outputs": [],
   "source": [
    "decks_clean.to_csv('~/Documents/MTG/data/decks_clean.csv', index=False)"
   ]
  },
  {
   "cell_type": "markdown",
   "metadata": {},
   "source": [
    "#### Test"
   ]
  },
  {
   "cell_type": "code",
   "execution_count": 15,
   "metadata": {},
   "outputs": [
    {
     "data": {
      "text/plain": [
       "str"
      ]
     },
     "execution_count": 15,
     "metadata": {},
     "output_type": "execute_result"
    }
   ],
   "source": [
    "type(decks_clean.deck_list[0])"
   ]
  },
  {
   "cell_type": "markdown",
   "metadata": {},
   "source": [
    "#### Define\n",
    "- drop .url and .text from the `name` column"
   ]
  },
  {
   "cell_type": "markdown",
   "metadata": {},
   "source": [
    "#### Code"
   ]
  },
  {
   "cell_type": "code",
   "execution_count": 17,
   "metadata": {},
   "outputs": [],
   "source": [
    "decks_clean.name = decks_clean.name.str.replace('.html.txt', '')"
   ]
  },
  {
   "cell_type": "code",
   "execution_count": 19,
   "metadata": {},
   "outputs": [],
   "source": [
    "decks_clean.to_csv('~/Documents/MTG/data/decks_clean.csv', index=False)"
   ]
  },
  {
   "cell_type": "markdown",
   "metadata": {},
   "source": [
    "#### Test"
   ]
  },
  {
   "cell_type": "code",
   "execution_count": 18,
   "metadata": {},
   "outputs": [
    {
     "data": {
      "text/html": [
       "<div>\n",
       "<style scoped>\n",
       "    .dataframe tbody tr th:only-of-type {\n",
       "        vertical-align: middle;\n",
       "    }\n",
       "\n",
       "    .dataframe tbody tr th {\n",
       "        vertical-align: top;\n",
       "    }\n",
       "\n",
       "    .dataframe thead th {\n",
       "        text-align: right;\n",
       "    }\n",
       "</style>\n",
       "<table border=\"1\" class=\"dataframe\">\n",
       "  <thead>\n",
       "    <tr style=\"text-align: right;\">\n",
       "      <th></th>\n",
       "      <th>player</th>\n",
       "      <th>url</th>\n",
       "      <th>name</th>\n",
       "      <th>deck_list</th>\n",
       "    </tr>\n",
       "  </thead>\n",
       "  <tbody>\n",
       "    <tr>\n",
       "      <th>0</th>\n",
       "      <td>Robert_Lippmann</td>\n",
       "      <td>https://www.mtgtop8.com/event?e=23476&amp;amp;d=36...</td>\n",
       "      <td>4c_Elementals</td>\n",
       "      <td>&lt;input name=\"c\" type=\"hidden\" value=\"13 Forest...</td>\n",
       "    </tr>\n",
       "    <tr>\n",
       "      <th>1</th>\n",
       "      <td>Clarence_Dews</td>\n",
       "      <td>https://www.mtgtop8.com/event?e=23375&amp;amp;d=36...</td>\n",
       "      <td>Omnath</td>\n",
       "      <td>&lt;input name=\"c\" type=\"hidden\" value=\"10 Forest...</td>\n",
       "    </tr>\n",
       "    <tr>\n",
       "      <th>2</th>\n",
       "      <td>Yohan_Dudognon</td>\n",
       "      <td>https://www.mtgtop8.com/event?e=23384&amp;amp;d=36...</td>\n",
       "      <td>4colour_Good_Stuff</td>\n",
       "      <td>&lt;input name=\"c\" type=\"hidden\" value=\"2 Essence...</td>\n",
       "    </tr>\n",
       "    <tr>\n",
       "      <th>3</th>\n",
       "      <td>Aaron_Barich</td>\n",
       "      <td>https://www.mtgtop8.com/event?e=22218&amp;amp;d=35...</td>\n",
       "      <td>4c_Sun</td>\n",
       "      <td>&lt;input name=\"c\" type=\"hidden\" value=\"1 Planar ...</td>\n",
       "    </tr>\n",
       "    <tr>\n",
       "      <th>4</th>\n",
       "      <td>rushi_00</td>\n",
       "      <td>https://www.mtgtop8.com/event?e=18688&amp;amp;d=31...</td>\n",
       "      <td>4c_Energy</td>\n",
       "      <td>&lt;input name=\"c\" type=\"hidden\" value=\"6 Forest|...</td>\n",
       "    </tr>\n",
       "  </tbody>\n",
       "</table>\n",
       "</div>"
      ],
      "text/plain": [
       "            player                                                url  \\\n",
       "0  Robert_Lippmann  https://www.mtgtop8.com/event?e=23476&amp;d=36...   \n",
       "1    Clarence_Dews  https://www.mtgtop8.com/event?e=23375&amp;d=36...   \n",
       "2   Yohan_Dudognon  https://www.mtgtop8.com/event?e=23384&amp;d=36...   \n",
       "3     Aaron_Barich  https://www.mtgtop8.com/event?e=22218&amp;d=35...   \n",
       "4         rushi_00  https://www.mtgtop8.com/event?e=18688&amp;d=31...   \n",
       "\n",
       "                 name                                          deck_list  \n",
       "0       4c_Elementals  <input name=\"c\" type=\"hidden\" value=\"13 Forest...  \n",
       "1              Omnath  <input name=\"c\" type=\"hidden\" value=\"10 Forest...  \n",
       "2  4colour_Good_Stuff  <input name=\"c\" type=\"hidden\" value=\"2 Essence...  \n",
       "3              4c_Sun  <input name=\"c\" type=\"hidden\" value=\"1 Planar ...  \n",
       "4           4c_Energy  <input name=\"c\" type=\"hidden\" value=\"6 Forest|...  "
      ]
     },
     "execution_count": 18,
     "metadata": {},
     "output_type": "execute_result"
    }
   ],
   "source": [
    "decks_clean.head()"
   ]
  },
  {
   "cell_type": "markdown",
   "metadata": {},
   "source": [
    "#### Define\n",
    "- get rid of all unneccessary characters in `deck_list`"
   ]
  },
  {
   "cell_type": "markdown",
   "metadata": {},
   "source": [
    "#### Code"
   ]
  },
  {
   "cell_type": "code",
   "execution_count": 20,
   "metadata": {},
   "outputs": [],
   "source": [
    "decks_clean.deck_list = decks_clean.deck_list.str.replace('<input name=\"c\" type=\"hidden\" value=', '')"
   ]
  },
  {
   "cell_type": "code",
   "execution_count": 21,
   "metadata": {},
   "outputs": [],
   "source": [
    "decks_clean.deck_list = decks_clean.deck_list.str.strip('\"')"
   ]
  },
  {
   "cell_type": "code",
   "execution_count": 23,
   "metadata": {},
   "outputs": [],
   "source": [
    "decks_clean.to_csv('~/Documents/MTG/data/decks_clean.csv', index=False)"
   ]
  },
  {
   "cell_type": "markdown",
   "metadata": {},
   "source": [
    "#### Test"
   ]
  },
  {
   "cell_type": "code",
   "execution_count": 22,
   "metadata": {},
   "outputs": [
    {
     "data": {
      "text/html": [
       "<div>\n",
       "<style scoped>\n",
       "    .dataframe tbody tr th:only-of-type {\n",
       "        vertical-align: middle;\n",
       "    }\n",
       "\n",
       "    .dataframe tbody tr th {\n",
       "        vertical-align: top;\n",
       "    }\n",
       "\n",
       "    .dataframe thead th {\n",
       "        text-align: right;\n",
       "    }\n",
       "</style>\n",
       "<table border=\"1\" class=\"dataframe\">\n",
       "  <thead>\n",
       "    <tr style=\"text-align: right;\">\n",
       "      <th></th>\n",
       "      <th>player</th>\n",
       "      <th>url</th>\n",
       "      <th>name</th>\n",
       "      <th>deck_list</th>\n",
       "    </tr>\n",
       "  </thead>\n",
       "  <tbody>\n",
       "    <tr>\n",
       "      <th>0</th>\n",
       "      <td>Robert_Lippmann</td>\n",
       "      <td>https://www.mtgtop8.com/event?e=23476&amp;amp;d=36...</td>\n",
       "      <td>4c_Elementals</td>\n",
       "      <td>13 Forest||4 Llanowar Elves||3 Greenbelt Rampa...</td>\n",
       "    </tr>\n",
       "    <tr>\n",
       "      <th>1</th>\n",
       "      <td>Clarence_Dews</td>\n",
       "      <td>https://www.mtgtop8.com/event?e=23375&amp;amp;d=36...</td>\n",
       "      <td>Omnath</td>\n",
       "      <td>10 Forest||7 Island||4 Llanowar Elves||4 Breed...</td>\n",
       "    </tr>\n",
       "    <tr>\n",
       "      <th>2</th>\n",
       "      <td>Yohan_Dudognon</td>\n",
       "      <td>https://www.mtgtop8.com/event?e=23384&amp;amp;d=36...</td>\n",
       "      <td>4colour_Good_Stuff</td>\n",
       "      <td>2 Essence Scatter||4 Glacial Fortress||7 Islan...</td>\n",
       "    </tr>\n",
       "    <tr>\n",
       "      <th>3</th>\n",
       "      <td>Aaron_Barich</td>\n",
       "      <td>https://www.mtgtop8.com/event?e=22218&amp;amp;d=35...</td>\n",
       "      <td>4c_Sun</td>\n",
       "      <td>1 Planar Cleansing||2 Forest||2 Island||1 Plai...</td>\n",
       "    </tr>\n",
       "    <tr>\n",
       "      <th>4</th>\n",
       "      <td>rushi_00</td>\n",
       "      <td>https://www.mtgtop8.com/event?e=18688&amp;amp;d=31...</td>\n",
       "      <td>4c_Energy</td>\n",
       "      <td>6 Forest||4 Swamp||4 Blood Crypt||4 Cauldron F...</td>\n",
       "    </tr>\n",
       "  </tbody>\n",
       "</table>\n",
       "</div>"
      ],
      "text/plain": [
       "            player                                                url  \\\n",
       "0  Robert_Lippmann  https://www.mtgtop8.com/event?e=23476&amp;d=36...   \n",
       "1    Clarence_Dews  https://www.mtgtop8.com/event?e=23375&amp;d=36...   \n",
       "2   Yohan_Dudognon  https://www.mtgtop8.com/event?e=23384&amp;d=36...   \n",
       "3     Aaron_Barich  https://www.mtgtop8.com/event?e=22218&amp;d=35...   \n",
       "4         rushi_00  https://www.mtgtop8.com/event?e=18688&amp;d=31...   \n",
       "\n",
       "                 name                                          deck_list  \n",
       "0       4c_Elementals  13 Forest||4 Llanowar Elves||3 Greenbelt Rampa...  \n",
       "1              Omnath  10 Forest||7 Island||4 Llanowar Elves||4 Breed...  \n",
       "2  4colour_Good_Stuff  2 Essence Scatter||4 Glacial Fortress||7 Islan...  \n",
       "3              4c_Sun  1 Planar Cleansing||2 Forest||2 Island||1 Plai...  \n",
       "4           4c_Energy  6 Forest||4 Swamp||4 Blood Crypt||4 Cauldron F...  "
      ]
     },
     "execution_count": 22,
     "metadata": {},
     "output_type": "execute_result"
    }
   ],
   "source": [
    "decks_clean.head()"
   ]
  },
  {
   "cell_type": "markdown",
   "metadata": {},
   "source": [
    "#### Define\n",
    "- split deck_list into multiple objects"
   ]
  },
  {
   "cell_type": "markdown",
   "metadata": {},
   "source": [
    "#### Code"
   ]
  },
  {
   "cell_type": "code",
   "execution_count": 24,
   "metadata": {},
   "outputs": [],
   "source": [
    "decks_clean.deck_list = decks_clean.deck_list.str.split(r'\\|\\|')"
   ]
  },
  {
   "cell_type": "code",
   "execution_count": 26,
   "metadata": {},
   "outputs": [],
   "source": [
    "decks_clean.to_csv('~/Documents/MTG/data/decks_clean.csv', index=False)"
   ]
  },
  {
   "cell_type": "markdown",
   "metadata": {},
   "source": [
    "#### Test"
   ]
  },
  {
   "cell_type": "code",
   "execution_count": 25,
   "metadata": {},
   "outputs": [
    {
     "data": {
      "text/html": [
       "<div>\n",
       "<style scoped>\n",
       "    .dataframe tbody tr th:only-of-type {\n",
       "        vertical-align: middle;\n",
       "    }\n",
       "\n",
       "    .dataframe tbody tr th {\n",
       "        vertical-align: top;\n",
       "    }\n",
       "\n",
       "    .dataframe thead th {\n",
       "        text-align: right;\n",
       "    }\n",
       "</style>\n",
       "<table border=\"1\" class=\"dataframe\">\n",
       "  <thead>\n",
       "    <tr style=\"text-align: right;\">\n",
       "      <th></th>\n",
       "      <th>player</th>\n",
       "      <th>url</th>\n",
       "      <th>name</th>\n",
       "      <th>deck_list</th>\n",
       "    </tr>\n",
       "  </thead>\n",
       "  <tbody>\n",
       "    <tr>\n",
       "      <th>0</th>\n",
       "      <td>Robert_Lippmann</td>\n",
       "      <td>https://www.mtgtop8.com/event?e=23476&amp;amp;d=36...</td>\n",
       "      <td>4c_Elementals</td>\n",
       "      <td>[13 Forest, 4 Llanowar Elves, 3 Greenbelt Ramp...</td>\n",
       "    </tr>\n",
       "    <tr>\n",
       "      <th>1</th>\n",
       "      <td>Clarence_Dews</td>\n",
       "      <td>https://www.mtgtop8.com/event?e=23375&amp;amp;d=36...</td>\n",
       "      <td>Omnath</td>\n",
       "      <td>[10 Forest, 7 Island, 4 Llanowar Elves, 4 Bree...</td>\n",
       "    </tr>\n",
       "    <tr>\n",
       "      <th>2</th>\n",
       "      <td>Yohan_Dudognon</td>\n",
       "      <td>https://www.mtgtop8.com/event?e=23384&amp;amp;d=36...</td>\n",
       "      <td>4colour_Good_Stuff</td>\n",
       "      <td>[2 Essence Scatter, 4 Glacial Fortress, 7 Isla...</td>\n",
       "    </tr>\n",
       "    <tr>\n",
       "      <th>3</th>\n",
       "      <td>Aaron_Barich</td>\n",
       "      <td>https://www.mtgtop8.com/event?e=22218&amp;amp;d=35...</td>\n",
       "      <td>4c_Sun</td>\n",
       "      <td>[1 Planar Cleansing, 2 Forest, 2 Island, 1 Pla...</td>\n",
       "    </tr>\n",
       "    <tr>\n",
       "      <th>4</th>\n",
       "      <td>rushi_00</td>\n",
       "      <td>https://www.mtgtop8.com/event?e=18688&amp;amp;d=31...</td>\n",
       "      <td>4c_Energy</td>\n",
       "      <td>[6 Forest, 4 Swamp, 4 Blood Crypt, 4 Cauldron ...</td>\n",
       "    </tr>\n",
       "  </tbody>\n",
       "</table>\n",
       "</div>"
      ],
      "text/plain": [
       "            player                                                url  \\\n",
       "0  Robert_Lippmann  https://www.mtgtop8.com/event?e=23476&amp;d=36...   \n",
       "1    Clarence_Dews  https://www.mtgtop8.com/event?e=23375&amp;d=36...   \n",
       "2   Yohan_Dudognon  https://www.mtgtop8.com/event?e=23384&amp;d=36...   \n",
       "3     Aaron_Barich  https://www.mtgtop8.com/event?e=22218&amp;d=35...   \n",
       "4         rushi_00  https://www.mtgtop8.com/event?e=18688&amp;d=31...   \n",
       "\n",
       "                 name                                          deck_list  \n",
       "0       4c_Elementals  [13 Forest, 4 Llanowar Elves, 3 Greenbelt Ramp...  \n",
       "1              Omnath  [10 Forest, 7 Island, 4 Llanowar Elves, 4 Bree...  \n",
       "2  4colour_Good_Stuff  [2 Essence Scatter, 4 Glacial Fortress, 7 Isla...  \n",
       "3              4c_Sun  [1 Planar Cleansing, 2 Forest, 2 Island, 1 Pla...  \n",
       "4           4c_Energy  [6 Forest, 4 Swamp, 4 Blood Crypt, 4 Cauldron ...  "
      ]
     },
     "execution_count": 25,
     "metadata": {},
     "output_type": "execute_result"
    }
   ],
   "source": [
    "decks_clean.head()"
   ]
  },
  {
   "cell_type": "markdown",
   "metadata": {},
   "source": [
    "#### Define\n",
    "- make `deck_list` column a str"
   ]
  },
  {
   "cell_type": "markdown",
   "metadata": {},
   "source": [
    "#### Code"
   ]
  },
  {
   "cell_type": "code",
   "execution_count": 29,
   "metadata": {},
   "outputs": [],
   "source": [
    "decks_clean.deck_list = decks_clean.deck_list.astype('str')"
   ]
  },
  {
   "cell_type": "code",
   "execution_count": 31,
   "metadata": {},
   "outputs": [],
   "source": [
    "decks_clean.to_csv('~/Documents/MTG/data/decks_clean.csv', index=False)"
   ]
  },
  {
   "cell_type": "markdown",
   "metadata": {},
   "source": [
    "#### Test"
   ]
  },
  {
   "cell_type": "code",
   "execution_count": 30,
   "metadata": {},
   "outputs": [
    {
     "data": {
      "text/plain": [
       "str"
      ]
     },
     "execution_count": 30,
     "metadata": {},
     "output_type": "execute_result"
    }
   ],
   "source": [
    "type(decks_clean.deck_list[0])"
   ]
  }
 ],
 "metadata": {
  "kernelspec": {
   "display_name": "Python 3",
   "language": "python",
   "name": "python3"
  },
  "language_info": {
   "codemirror_mode": {
    "name": "ipython",
    "version": 3
   },
   "file_extension": ".py",
   "mimetype": "text/x-python",
   "name": "python",
   "nbconvert_exporter": "python",
   "pygments_lexer": "ipython3",
   "version": "3.7.3"
  }
 },
 "nbformat": 4,
 "nbformat_minor": 4
}
