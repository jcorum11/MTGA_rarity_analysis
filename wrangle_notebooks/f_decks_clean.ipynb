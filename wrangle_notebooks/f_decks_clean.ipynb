{
 "cells": [
  {
   "cell_type": "code",
   "execution_count": 1,
   "metadata": {},
   "outputs": [],
   "source": [
    "# Load all packages necessary for analysis\n",
    "import pandas as pd\n",
    "import numpy as np\n",
    "import requests\n",
    "from bs4 import BeautifulSoup\n",
    "import json\n",
    "import re\n",
    "import os\n",
    "import timeit\n",
    "import filecmp"
   ]
  },
  {
   "cell_type": "code",
   "execution_count": 2,
   "metadata": {},
   "outputs": [],
   "source": [
    "decks_clean = pd.read_csv('~/Documents/MTG/data/decks_clean.csv')"
   ]
  },
  {
   "cell_type": "markdown",
   "metadata": {},
   "source": [
    "# decks_clean"
   ]
  },
  {
   "cell_type": "markdown",
   "metadata": {},
   "source": [
    "## Gather"
   ]
  },
  {
   "cell_type": "code",
   "execution_count": 3,
   "metadata": {},
   "outputs": [],
   "source": [
    "dir_names = []\n",
    "curdir = 'C:/Users/muroc/Documents/MTG/html_files'\n",
    "\n",
    "with os.scandir(curdir) as folder:\n",
    "    for file in folder:\n",
    "        if file.is_file():\n",
    "            dir_names.append(file.name)"
   ]
  },
  {
   "cell_type": "code",
   "execution_count": 4,
   "metadata": {},
   "outputs": [],
   "source": [
    "decks = []\n",
    "for i in np.arange(np.count_nonzero(dir_names)):\n",
    "    with open(str(curdir) + '/' + str(dir_names[i])) as file:\n",
    "        soup = BeautifulSoup(file, 'lxml')\n",
    "    cards = soup.find(lambda tag: tag.name=='input' and tag.has_attr('name') and tag['name']=='c')\n",
    "    player = soup.find()\n",
    "    decks.append(cards)"
   ]
  },
  {
   "cell_type": "code",
   "execution_count": 5,
   "metadata": {},
   "outputs": [],
   "source": [
    "deck_urls = pd.read_csv('~/Documents/MTG/data/deck_urls.csv')"
   ]
  },
  {
   "cell_type": "code",
   "execution_count": 6,
   "metadata": {},
   "outputs": [],
   "source": [
    "decks_dict = {\"deck_list\": decks}\n",
    "decks_clean = pd.DataFrame(decks_dict)"
   ]
  },
  {
   "cell_type": "code",
   "execution_count": 7,
   "metadata": {},
   "outputs": [],
   "source": [
    "decks_clean.to_csv('~/Documents/MTG/data/deck_list.csv', index=False)"
   ]
  },
  {
   "cell_type": "markdown",
   "metadata": {},
   "source": [
    "## Assess"
   ]
  },
  {
   "cell_type": "code",
   "execution_count": 8,
   "metadata": {
    "collapsed": true,
    "jupyter": {
     "outputs_hidden": true
    }
   },
   "outputs": [
    {
     "name": "stdout",
     "output_type": "stream",
     "text": [
      "['5647382910_Azorius_Aggro.html', 'Aaron_Barich_4c_Sun.html', 'Aaron_Higgins_Abzan_Precinct_One.html', 'Aaro_Nieminen_Boros_Aggro.html', 'Abram_Goldstein_Bant_Control.html', 'Adamantmtg_Mono_Black.html', 'Adam_Boyd_Izzet_Control.html', 'Adam_Fiffles_Sultai_Sacrifice.html', 'Aiden_Brier_Weenie_White.html', 'ajani_alex_Abzan_Midrange.html', 'Aka_Shunsuke_Mono_Green_Aggro.html', 'AKnightWhoSaysNi_Dimir_Midrange.html', 'Alberto_IbaÃñez_Sanchez_UR_Artifacts.html', 'Albert_Bayrante_Reanimator.html', 'Alber_vcf_Grixis_Control.html', 'Alejandro_Collado_Naya_Feather.html', 'Aleksander_Hudson_Gate_Control.html', 'Alessio_Magris_Bant_Food.html', 'Alexander_David_Romero_Mono_Blue.html', 'Alexander_Demura_UR_Prowess.html', 'Alexander_Hayne_4c_Energy.html', 'Alexander_Hayne_Mono_Black_Aggro.html', 'Alex_Barrera_Sultai_Sacrifice.html', 'AlfredoTorres_Esper_Precinct_One.html', 'AlfredoTorres_Naya_Feather.html', 'AliEnWaRe__Mono_Blue_Aggro.html', 'Ali_Aintrazi_Golgari_Control.html', 'Ali_Eldrazi_Jund_Golos.html', 'Amazonian_Naya_Feather.html', 'Ammazzanator_UW_Control.html', 'Anderson_Souto_Uw_Control.html', 'Andrea_Foroni_Izzet_Control.html', 'Andrea_Mengucci_Bant_Aggro.html', 'Andrew_Cuneo_Selesnya_Adventure.html', 'Andrew_C_Sultai_Sacrifice.html', 'Andrew_Huska_Simic_Control.html', 'Andrew_Jessup_Grixis_Drakes.html', 'Andrew_Maine_Orzhov_Control.html', 'Andrew_Manis_Golos.html', 'Andrew_Singleton_Sultai_Aggro.html', 'Andrew_Youngquist_Abzan_Aggro.html', 'Angel_Jay_Layson_Abzan.html', 'Angurtsov_Artem_Simic_Flash.html', 'Angurtsov_Artyom_Jeskai_Planeswalkers.html', 'Annamae_Izzet_Control.html', 'Anssi_Alkio_Esper_Doom.html', 'Anthony_Lee_Simic_Ramp.html', 'Anthony_P_Sultai_Sacrifice.html', 'Antoine_Cointe_Golgari_Adventure.html', 'Antoine_Lagarde_Bant_Control.html', 'Antony_Mitchell_Orzhov_Vampires.html', 'ArcaCrema_UR_Aggro.html', 'ArcaCrema_UR_Artifacts.html', 'ArielNagy_Reanimator.html', 'Arne_Huschenbeth_4c_Energy.html', 'Asano_Tatsurou_Gruul_Aggro.html', 'Asao_Kazuki_Bant_Aggro.html', 'Ashley_Muñoz_Golgari_Aggro.html', 'Ashlizzlle_Golgari_Aggro.html', 'AtogAtog10_Grixis_Aggro.html', 'Attila_Fur_Temur_Reclamation.html', 'Augermage_Jeskai_PW.html', 'Austin_Clark_Gate_Control.html', 'Awesome7574_Esper_Hero.html', 'Awesome7574_Esper_Midrange.html', 'Awesome7574_Esper_Precinct_One.html', 'azatoyellow_Mardu_Aggro.html', 'a_p_s_Selesnya_Adventure.html', 'Babelfish008_Izzet_Phoenix.html', 'babones_UR_Artifacts.html', 'Barry_Wilson_Dimir_Pirates.html', 'Bavan_Schimper_Rdw.html', 'Beerhayan_Gruul_Aggro.html', 'benbuzz790_Izzet_Control.html', 'Benjamin_Tario_Esper_Precinct_One.html', 'Benjamin_Weitz_4c_Energy.html', 'Ben_Ryan_Jeskai_Fires.html', 'Ben_Stark_Mardu_Knight.html', 'beraldi_Esper_Midrange.html', 'BernardoDG_Simic_Control.html', 'Bernardo_Melo_UR_Aggro.html', 'Billy_K_Cavalcade.html', 'Björn_Krusche_Weenie_White.html', 'bkm_Temur_Elemental.html', 'bloodsmurf_Reanimator.html', 'Bloody_Grixis_Control.html', 'Bloody_Orzhov_Aggro.html', 'Bloody_Temur_Aggro.html', 'bnjy99_Jund_Aggro.html', 'Bobodopalus_Orzhov_Knights.html', 'Brad_Nelson_Boros_Feather.html', 'Brandon_Rea_Orzhov_Approach.html', 'Breanna_Lee_Tan_Gruul_Aggro.html', 'Brendan_Johnson_Bant_Control.html', 'Brener_Bant_Control.html', 'Brennan_Garcia_Jeskai_Fires.html', 'Brian_Braun-duin_Esper_Precinct_One.html', 'Brian_Garia_Izzet.html', 'Brokenwingss_Fires_of_Invention.html', 'Bryan_Gottlieb_Jeskai_PW.html', 'Bullwinkkle6705_Rakdos_Aggro.html', 'Bullwinkkle6705_Temur_Reclamation.html', 'Butakov_Abzan_Aggro.html', 'Butakov_Rakdos_Aggro.html', 'Cachyrulo_Grixis_Control.html', 'Calebd_Jund.html', 'Calebd_Jund_Aggro.html', 'Caleb_Durward_Jund_Aggro.html', 'Caleb_D_Simic_Oko.html', 'Callofcthulhu_Grixis_Control.html', 'Callofcthulhu_UB_Control.html', 'Camdenrk_Dimir_Midrange.html', 'Capi5681_Izzet_Phoenix.html', 'Carlos_Mendes_Grixis_Control.html', 'Carlos_Roberto_Krüger_Gate_Control.html', 'Carlos_Romão_Golos.html', 'Carlo_Negrete_Sultai_Sacrifice.html', 'CarrierHasArrived_Mono_Green_Aggro.html', 'Carson_Bell_Gruul_Adventures.html', 'Casey_Masterson_Simic_Food.html', 'Cesare_Carini_Rakdos_Sacrifice.html', 'cha21_UR_Aggro.html', 'Chantelle_Campbell_Sultai_Oven.html', 'Charles_Wickham_Sultaï_Sacrifice.html', 'Chayajom_Temur_Aggro.html', 'Chayajom_Temur_Aggro_PW.html', 'Chayapol_Poonsawat_Dimir_Reanimator.html', 'Chengalengaa_Grixis_Reanimate.html', 'Chen_Li_Red_Deck_Wins.html', 'Cherkashin_Dmitriy_Golgari_Adventures.html', 'Chiefofpool_Golgari_Land_Loss.html', 'ChillingLauge_Temur_Reclamation.html', 'Chingpai_Jeskai_Planeswalker.html', 'Chin_Yu_Meng_Jund_Sacrifice.html', 'Chitel_Arnaud_Orzhov_Vampire.html', 'Chrace_Rakdos_Aggro.html', 'Christian_Hauck_Selesnya_Aggro.html', 'Christian_Keffer_Bant_Control.html', 'Christian_Pearse_Esper_DOOM.html', 'Christopher_Japinga_Gate_Control.html', 'Christopher_Kelly_Izzet_Draw-two.html', 'Christophe_Paris_Grull_Adventure.html', 'Chris_Nielsen_W-b_Midrange.html', 'Chris_Yap_Selesnya_Adventure.html', 'CHTenshi_Jund.html', 'Chugun_Jeskai_PW.html', 'Clarence_Dews_Omnath.html', 'Clarence_Dews_Orzhov_Aggro.html', 'Claudio_Bomfim_Grixis_Control.html', 'CLYDE_THE_GLIDE_DREXLER_Adventure.html', 'Clément_Sarton_Uw_Control.html', 'coco_natsukaze_Naya_Feather.html', 'Cody_Mckinlay_Mardu_Aggro.html', 'CoffeeHouseRyan_UB_Control.html', 'ColdPier_Golgari_Control.html', 'ColdPier_Naya_Feather.html', 'Cole_G_Selesnya_Adventure.html', 'Colton_Gattis_Mono_Blue_Aggro.html', 'Conanhawk_Naya_Feather.html', 'Conanhawk_Weenie_White.html', 'Corey_Baumeister_Esper_Precinct_One.html', 'Corey_Lerch_Golos_Yarok.html', 'Corey_Lerch_Grixis_Midrange.html', 'Cornanhawk_Weenie_White.html', 'Corrado_De_Sio_Golgari_Ramp.html', 'Craig_Rocco_Jund_Chainwhirler.html', 'Cris_Smith_Jund_Aggro.html', 'Cyb3r_dragon_Temur_Elementals.html', 'Cydonia_Esper_DOOM.html', 'cypriankrzysztof_Abzan_Aggro.html', 'C_E.L_Zombies.html', 'Dafore_UR_Artifacts.html', 'Daniel_Russell_Sultai_Aggro.html', 'Dan_Jessup_Grixis_Drakes.html', 'Dark_Samurai_Red_Deck_Wins.html', 'dav5037_Reanimator.html', 'Dave_Sea_Selesnya_Aggro.html', 'Dave_Sea_UR_Aggro.html', 'Davide_Rinnen_Sultai_Sacrifice.html', 'David_Chamberlain_Golgari_Adventure.html', 'David_Ferré_Grixis.html', 'David_K_Azorious_Control.html', 'Delthar_Red_Deck_Wins.html', 'Demyanov_Gleb_Golgari_Adventures.html', 'Dennis_Raduazzo_Temur_Reclamation.html', 'Devin_Lafleur_Esper_DOOM.html', 'Dexter_Shee_Abzan_Dreadhorde.html', 'Diego_Carvalho_Sultai_Flash.html', 'Diliggord_Orzhov_Midrange_Knights.html', 'dillyg10_Golgari_Aggro.html', 'Dirednayt_Mono_White.html', 'Dogan_Sevik_Uw_Auras.html', 'Dominick_Dews_Temur_Elemental.html', 'dominizzi_Temur_Reclamation.html', 'Drake_Sasser_Gate_Control.html', 'Drew_Christensen_Simic_Manipulation.html', 'Drew_Iafrate_WW.html', 'Drew_Kobus_Feather_Naya.html', 'Drew_Kuenzinger_Reanimator.html', 'Drew_Stewart_Jeskai_PW.html', 'DRS_Mono_Black_Aggro.html', 'DRS_Rakdos_Aggro.html', 'Dwi_Nugroho_Mono_White_Aggro.html', 'Dyachenko_Andrew_Azorius_Fliers.html', 'Dyachenko_Andrew_Selesnya_Adventures.html', 'Dylan_Boulinguiez_Temur_Reclamation.html', 'Dylan_Feeman_Four_Color_Gates.html', 'Dylan_Huckabone_Mono_U_Arclight.html', 'Dylan_Petitt_Temur_Reclamation.html', 'Edmvyrus_UW_Control.html', 'Eduardo_Soto_Esper_Midrange.html', 'Edward_Wilson_Izzet_Control.html', 'Edz_Orzhov_Control.html', 'ElAguacateMagic_Mono_Blue_Aggro.html', 'Eli_Kassis_4c_Energy.html', 'Eli_Kassis_Golgari_Aggro.html', 'Ellison_Berryhill_Dimir_Midrange.html', 'ElYallo_Boros_Aggro.html', 'ElYallo_Mono_Blue_Aggro.html', 'ElYallo_Red_Deck_Wins.html', 'ElYallo_UB_Control.html', 'Emiliano_Arevalo_Bant_Midrange.html', 'Enotpaniker_UR_Artifacts.html', 'Enrico_Reanimator.html', 'Ergo_Rakdos_Aggro.html', 'Eric_Froehlich_Mardu_Knight.html', 'Erikhov_Maxim_Mono-red_Aggro.html', 'Erikhov_Maxim_Monored_Cavalcade.html', 'Erik_Rose_Red_Deck_Wins.html', 'Erratacorrige_Jund_Aggro.html', 'Erratacorrige_Mono_Green_Aggro.html', 'Evan_Adams_Sultai_Control.html', 'Fabian_Pineda_Jeskai_Walkers.html', 'Falc0rn_Ub_Control.html', 'fandenunu_Grixis_Aggro.html', 'Faskill_Rw_Feather.html', 'Federico_Del_Basso_4c_Energy.html', 'Federico_Redolli_Sultai_Aggro.html', 'FestiFan_Golgari_Aggro.html', 'FlamboyasaurusSex_Bant_Precinct_One.html', 'Flavio_Ruhke_Sultai_Flash.html', 'floatius_Red_Deck_Wins.html', 'Florian_Trotte_UW_Control.html', 'Folero_Rakdos_Aggro.html', 'Francesco_Giorgio_4c_Energy.html', 'Francesco_Hugony_Izzet_Control.html', 'Francis_Obien_Mono_G_Aggro.html', 'Frozen_light#13984_Golgari_Land_Loss.html', 'Frubsquared_Izzet_Control.html', 'Fujii_Tomoya_Mono_Black_Aggro.html', 'Fukaya_Yuuta_Grixis_Control.html', 'Fukuji_Yuuta_Fires_of_Invention.html', 'Fulgence_Temur_Aggro.html', 'Fuyuk_Morinaka_Mardu_Control.html', 'fyknight011_Grixis_Control.html', 'Gabriel_Dainotto_Golos.html', 'Gabriel_Sarfis_Mardu_Planeswalker.html', 'Gabriel_Stoffa_Golgari_Control.html', 'Gab_Rakdos_Aggro.html', 'Garret_Martin_Sultai_Food.html', 'Gaspartz_Gruul_Aggro.html', 'Gatobros_Jeskai_PW.html', 'GenerateWinner_Fires_of_Invention.html', 'Geoffrey_Marshall_Simic_Food.html', 'Gerald_Fordyce_Red_Deck_Wins.html', 'Gerard_Fabiano_4c_Energy.html', 'Gerschi_UR_Flash_Burn.html', 'GGoggles_Gate_Control.html', 'GHash77_Gate_Control.html', 'Giacomo_Brusatori_Azorius_Aggro.html', 'Gianmarco_Tolli_UR_Artifacts.html', 'GlauberT_Jund.html', 'Glenn_Muijen_Rg_Monsters.html', 'GlimpseOfRandomness_Mardu_Control.html', 'Gobern_Fires_of_Invention.html', 'golemjr_Azorius_Aggro.html', 'Gonzalo_Valdenegro_Rakdos_Aggro.html', 'Goshima_Akito_Bant_Aggro.html', 'gottelicious_Mardu_Control.html', 'Grace_Naces_Golos.html', 'Grantfly_Orzhov_Control.html', 'Gregory_Ervin_Sultai_Control.html', 'Grzegorz_Kowalski_UB_Control.html', 'Guilherme_Merjam_Mono_Green_Aggro.html', 'Guillem_Salvador_Arnal_Jund_Sacrifice.html', 'guinthos201111_Temur_Aggro_PW.html', 'Gul_Dukat_Mono_Black_Aggro.html', 'Gustavo_Coraiola_Gruul_Aggro.html', 'habibypes_Rakdos_Aggro.html', 'Hang_Sheng_Kwang_Mono_Black.html', 'Harm-Joost_Van_Kuijk_Temur_Planeswalkers.html', 'Harper_Grimsley_UB_Control.html', 'Harrison_Zudeima_Rakdos_Knights.html', 'Harry13_Orzhov_Control.html', 'Harry13_UB_Control.html', 'Hayata_Akira_Boros_Feather.html', 'HEROtsukai_Weenie_White.html', 'Hibino_Yasutaka_Temur_Reclamation.html', 'hieronymus_mosh_Azorius_Aggro.html', 'Holymadness_Orzhov_Aggro.html', 'holypanda_Orzhov_Aggro.html', 'Horiuchi_Makoto_Temur_Aggro.html', 'ht991122_Fires_of_Invention.html', 'Huey_Jensen_Boros_Feather.html', 'Huey_Jensen_Golgari_Citadel.html', 'Hujisaki_Masahiko_Boros_Aggro.html', 'Hyquare_Ub_Mill.html', 'Ichinose_Ryo_Jund.html', 'Ihavethefire_Dimir_Midrange.html', 'Ihavethefire_Esper_Hero.html', 'Ihavethefire_Golgari_Control.html', 'im2g00t4ubarn_Bant_Aggro.html', 'Imaizumi_Riku_Jund_Aggro.html', 'Ingham_Ramsay_Esper_Hero.html', 'INickStrad_Temur_Reclamation.html', 'Ishikawa_Koji_Sultai_Control.html', 'Ithaqua__Reanimator.html', 'Iwasaki_Yuusuke_Jund_Sacrifice.html', 'Jackie_Vecina_Mono_G_Stompy.html', 'Jack_Anid_Dimir_Pirates.html', 'Jacob_Crook_Golos.html', 'Jade_Go_Mono_Red.html', 'Jag_Naya_Aggro.html', 'Jake_Frederick_Sultai_Aggro.html', 'James_Primicias_Mardu_Packers.html', 'James_Weaver_Naya_Feather.html', 'James_Zhi_Mardu_Angel_Aggro.html', 'Jan-dirk_Matuszewski_Geister.html', 'Jarred_Cook_Cavalcade_Red.html', 'Jason_Pitts_Sultai_Sacrifice.html', 'Javier_Dominguez_Gruul_Aggro.html', 'Javier_Dominguez_Gruul_Aventure.html', 'Jean_Gaidioz_Pirates.html', 'Jeff_Esper_DOOM.html', 'Jens_Bosau_Boros_Feather.html', 'Jens_Bosau_Gruul_Aggro.html', 'Jeremy_Dezani_Bant_Control.html', 'Jesse_Jasper_Neyra_Azorius_Mill.html', 'Jesse_Kennon_Quasiduplicate.html', 'Jessica_Estephan_Bant_Aggro_PW.html', 'Jessica_Estephan_UB_Control.html', 'Jimmy_Kungle_Abzan_Midrange.html', 'Jimmy_Stubbs_Dimir_Pirates.html', 'Jim_Davis_Selesnya_Aggro.html', 'Jin_Liu_Dimir_Control.html', 'JMM_Dimir_Midrange.html', 'JMM_Izzet_Spells.html', 'JMM_RBW_Control.html', 'Joe_Andrees_Mardu_Vehicles.html', 'Joe_Fisher_Mono_Green_Aggro.html', 'Johanna_Klümper_Naya_Feather.html', 'John_Pennock_Abzan_Token_Angels.html', 'John_Rolf_Golgari_Aggro.html', 'John_Rolf_Jeskai_Planeswalker.html', 'John_Rolf_Jeskai_PW.html', 'John_Vorderbrueggen_Sultai_Aggro.html', 'Jonah_Niede_Selesnya_Aggro.html', 'Jonathan_P_Selesnya_Adventure.html', 'Jonathan_Sukenik_Fires_of_Invention.html', 'Jordan_Dean_Uw_Auras.html', 'Jorge_Ruiz_Vidal_Abzan_Midrange.html', 'Joseph_Stonesypher_Mono_Green_PW.html', 'Jose_Bolivar_Orzhov_Control.html', 'Jose_E._Canto_White_Weenie.html', 'Jose_Santana_Selesnya_Aggro.html', 'Joshua_Everly_UR_Artifacts.html', 'Joshua_Krotz_Gates.html', 'Josh_Reedy_Mono-blue_Aggro.html', 'Josh_Reedy_Mono_Blue_Aggro.html', 'João_Lucas_Caparroz_Golos.html', 'JoÃ£o_Victor_Silva_Izzet_Spells.html', 'jrhwhite_4c_Energy.html', 'Juaspas_Abzan.html', 'Julian_Felix_Flury_4c_Control.html', 'Julien_Berteuax_Temur_Reclamation.html', 'Jun.I_Grixis_Aggro.html', 'Junsik_Yoon_UB_Zombie.html', 'Justin_Miller_Reanimator.html', 'jwald_Gruul_Aggro.html', 'J_lew_Gruul.html', 'Jérémy_Leteve_Bant_Control.html', 'kado222_Grixis_Control.html', 'Kamo_Riki_Mono_Green_Aggro.html', 'Kanagawa_Takuya_Jund_Sacrifice.html', 'Kanazawa_Yuusuke_Gate_Control.html', 'Kanister_Mono_Blue_Arclight.html', 'Kanye_Best_Boros_Aggro.html', 'Kanye_Best_Temur_Aggro.html', 'Kapelan_Maxim_Mono-red_Aggro.html', 'karben_Red_Deck_Wins.html', 'Kashiwazaki_Isamu_Adventure.html', 'katoriarch123_Fires_of_Invention.html', 'katoriarch123_Sultai_Control.html', 'Kawashima_Takeru_Red_Deck_Wins.html', 'Kaya_Gregg_UW_Control.html', 'Kazaner3000_Selesnya_Aggro.html', 'KelMasterP_Dimir_Midrange.html', 'Kempa79_UR_Artifacts.html', 'kenelli_Mono_Black_Aggro.html', 'Kenji_Egashira_Golos.html', 'Ken_Yukuhiro_Mardu_Knight.html', 'Kevin_Chiche_Ur_Flash.html', 'Kevin_Jones_Golos.html', 'Keylan_Steffins_4c_Value.html', 'kikuya1226_Patriot_Midrange.html', 'Kimoto_Keiya_Boros_Feather.html', 'Kita_Masahiro_Temur_Elemental.html', 'Kiteon_Sultai_Aggro.html', 'Kiyofuji_Kazuya_Fires_of_Invention.html', 'Klimczur_Mono_Black_Aggro.html', 'Knur_therealhog_Mono_Green.html', 'kobayui_Abzan_Aggro.html', 'Kolesnik_Dmitriy_Temur_Elementals.html', 'Kolesnik_Dmitry_Temur_Elementals.html', 'Konstantin_Hittenberger_Konstantin_Rakdos_Sacrifice.html', 'Korolev_Pavel_Grixis_Midrange.html', 'Koshimoto_Haruki_Red_Deck_Wins.html', 'Kostenkov_Vladislav_Rakdos_Aggro.html', 'Kostenkov_Vlad_Izzet_Combo.html', 'Kristjan_Bullock_nan.html', 'Kryssys_Simic_Flash.html', 'Kunitomo_Daisuke_Azorius_Aggro.html', 'Kuroda_Masashiro_Simic_Food.html', 'Kurt_Stockbrugger_Esper_DOOM.html', 'Kvatt_Abzan_Aggro.html', 'Kyle_Knezovich_Abzan_Aggro.html', 'Kyle_Maas_Jeskai_Fires.html', 'Kylle_Combista_Gates-pearl_Harbor.html', 'L1X0_Jund_Sacrifice.html', 'LaCriaturaBB_Mono_Black_Aggro.html', 'LalauWBA_Mardu_Aggro.html', 'Lance_Mutter_Bant_Aggro.html', 'Laschenov_Ivan_Abzan_Wolves.html', 'Laschenov_Ivan_Gruul_Aggro.html', 'Laurent_Laclaverie_Golos_Field.html', 'Leandro_Floresta_Rakdos_Aggro.html', 'Lee_Duffy-ledbetter_UR_Aggro.html', 'Lee_Shi_Tian_Weenie_White.html', 'Levi_Sowers_Orzhov_Approach.html', 'levunga21_Golgari_Aggro.html', 'Lewkmtg_Boros_Feather.html', 'Lewkmtg_Selesnya_Aggro.html', 'Lilian_Couplé_Grixis_Midrange.html', 'Littledarwin_Mono_Blue_Aggro.html', 'Lkv118_Golgari_Food.html', 'lleaf33_Izzet_Control.html', 'Lorenz_Buaron_Ur_Thousand_Year_Storm.html', 'Louis_Guichard_Jund_Sacrifice.html', 'love-quandra_Orzhov_Control.html', 'LucasG1ggs_Red_Deck_Wins.html', 'Lucas_Esper_Berthoud_Golos.html', 'Lucas_Rinieri_4c_Gates.html', 'Luis_Machado_Dimir_Midrange.html', 'Luis_Salvatto_Golgari_Aggro.html', 'Luke_Mulcahy_Simic_Food.html', 'Magicisfuntodo_Orzhov_Control.html', 'Makino_Tatsuya_UR_Aggro.html', 'Makoto_Horiuchi_Bant_Aggro.html', 'Mak_Wai_Hou_Jund_Aggro.html', 'Manuel_Jacob_Sultai_Aggro.html', 'Marcasaurus_Esper_DOOM.html', 'Marcin_Tokajuk_(265)_Jund_Aggro.html', 'Marcio_Demetrius_Preto_Azorius_Legends.html', 'Marcos_Carbone_UW_Control.html', 'Marco_Santopadre_Orzhov_Control.html', 'Marcus_Chandler_Marcus_Vehicles.html', 'Marc_Russell_Orzhov_Aggro.html', 'Marc_Tobiasch_(Germany)_4c_Energy.html', 'mareo83_Dimir_Midrange.html', 'Markus_Spörk_Grb_Midrange.html', 'Mark_Abejuro_Mardu_Aristocrats.html', 'Mark_Cholo_Atienza_Vam-walang_Pira.html', 'Mark_Donaldson_Selesnya_Aggro.html', 'marolanzi_UR_Artifacts.html', 'Martijn_Van_Harlingen_Mono_W.html', 'Martine_Müller_Sultai_Sacrifice.html', 'Martin_Jůza_Orzhov_Aggro.html', 'Martin_Krawies_Sultai_Sacrifice.html', 'Masta_Shonen_Mardu_Angel.html', 'Mastermind1429_Simic_PW.html', 'Mastushika_Kouhei_Weenie_White.html', 'masuko_Azorius_Aggro.html', 'Matias_Alfredo_Leveratto_Golgari_Aggro.html', 'MatiCheto_Dimir_Midrange.html', 'MatiCheto_Grixis_Midrange.html', 'MatiCheto_UB_Control.html', 'Matsuo_Shintaro_UR_Aggro.html', 'Matteo_Soldi_Bant_Food.html', 'Matthew_Beltran_Nexus_Of_Gates.html', 'Matthew_Hoffman_Golgari_Aggro.html', 'Matthew_Nass_UB_Control.html', 'Matthieu_Habersetzer_Mono_Blue_Dredge.html', 'Matt_Culbert_Golgari_Aggro.html', 'Matt_Haney_Azorius_Embalm.html', 'Matt_Nass_Bant_Aggro_PW.html', 'Matt_Severa_4c_Energy.html', 'Matuffino_Boros_Aggro.html', 'Matuvuefr_Mardu_Angels.html', 'Maximov_Alexander_Simic_Flash.html', 'maxxattack_Gruul_Aggro.html', 'Max_Gibson-flader_Temur_Elementals.html', 'maybenextime_Izzet_Control.html', 'Mazuku94_UW_Auras.html', 'melv.p_Esper_DOOM.html', 'melv.p_TemurReclamation.html', 'menp777_Jeskai_Aggro.html', 'MentalMisstep_Temur_Reclamation.html', 'Mesheryakov_Maxim_Esper_DOOM.html', 'Mesheryakov_Maxim_Jeskai_Superfriends.html', 'Michael_Agnes_Golgari_Food.html', 'Michael_Hinderaker_4c_Energy.html', 'Michael_Posada_Izzet_Phoenix.html', 'Michael_Soesanto_Naya_Feather.html', 'Michael_Ullmann_Gruul_Aggro.html', 'MichalMusial_Sultai_Golos.html', 'Michiel_Valcke_UW_Auras.html', 'Mikeut2k3_Henge_Stomp.html', 'Mike_Donovan_Izzet_Control.html', 'Mike_Sigrist_4c_Energy.html', 'Mike_Sigrist_Simic_PW.html', 'Miroshnikova_Ekaterina_Gruul_Aggro.html', 'Mirozel1_Bant_Adventure.html', 'Mitchell_Tamblyn_Grixis_Aggro.html', 'Miyamoto_Keisuke_Mono_Black_Aggro.html', 'Miyata_Kentarou_Azorius_Aggro.html', 'Miyawaki_Takeshi_Simic_Flash.html', 'Mizuno_Masahito_Temur_Aggro.html', 'Moriya_Ryo_Mardu_Control.html', 'Mori_Mitsuhiro_Bant_Aggro.html', 'Mori_Yuuki_Azorius_Aggro.html', 'Morooka_Jun_Boros_Aggro.html', 'Motomura_Shigeru_Simic_Food.html', 'MountainMaster13_Bant_Control.html', 'mouthbreather1_Mardu_Control.html', 'MrCafouillette_UR_Control.html', 'mrprtrcr_Hour_of_Promise_Golgari.html', 'MrWishyWashy_Reanimator.html', 'Mtg_antiheld_Uw_Control.html', 'Muke_Mono_Black.html', 'Muranaka_Toshiki_Mono_Blue_Aggro.html', 'Murilo_Mazza_Jund_Control.html', 'Márcio_Carvalho_Bant_Aggro.html', 'Mélodie_Sagodira_Rakdos_Sacrifice.html', 'Nagao_Kengo_Sultai_Ramp.html', 'Nagao_Naoki_BG.html', 'Nagasou_Jund_Sacrifice.html', 'Nakajima_You_Temur_Reclamation.html', 'Nakamura_Kazuhiro_Boros_Feather.html', 'Nakane_Nozomi_Esper_Control.html', 'Nate_L_Chandra_Fires.html', 'Nathanael_Tripp_Jeskai_PW.html', 'Nathaniel_Knox_Mono_Blue_Aggro.html', 'Nathan_Shoup_Orzhov_Aggro.html', 'natsuki_Mardu_Control.html', 'Nebykov_Denis_Bant_Food.html', 'Nebykov_Denis_Bant_Ramp.html', 'Nebykov_Denis_Sultai_Midrange.html', 'Nematov_Ruslan_White_Weenie.html', 'NEObots_Mardu_Knight.html', 'NEObots_Mono_Black_Aggro.html', 'Nerevar83_Simic_PW.html', 'nex7_Orzhov_Control.html', 'Ng_Jun_Ye_Simic_Oko.html', 'Niceguymtg_Bant_Aggro.html', 'Nicholas_Hnatyshyn_Simic_Food.html', 'Nicholas_Koh_Jeskai_Fires.html', 'Nicolas-robin_Plinate_Temur_Reclamation.html', 'Nicolas_Delvalle_Bant_Control.html', 'Nicolas_Lorca_Mono_Green_Aggro.html', 'Nicola_Cordeschi_UR_Aggro.html', 'Niedzwiedz_Izzet_Midrange.html', 'Niels_Wardenier_Grixis_Reanimator.html', 'Nikhilesh_Mahendran_Bant_Ramp.html', 'NinoMtg_Adventure.html', 'Niyah_Jeskai_Aggro.html', 'NMT_Sco94_Simic_Control.html', 'Noah_Strasler_Golos_Yarok.html', 'Noe_Gated.html', 'Noe_Gate_Control.html', 'Noe_Tour27.html', 'Noguchi_Hiroshi_Gruul_Aggro.html', 'Nolan_Franck_UB_Control.html', 'Nshio_Tomoyasu_Fires_of_Invention.html', 'NumotTheNummy_Grixis_Control.html', 'Numotthenummy_Izzet_Control.html', 'OafMcNamara_Dimir_Midrange.html', 'OafMcNamara_Izzet_Control.html', 'odom_pl_BRW_control..html', 'OhSnap_Reanimator.html', 'Okuda_Masateru_Temur_Reclamation.html', 'OlavoJusMTM_Jeskai_PW.html', 'Ole_Andvik_Golos.html', 'Omar_Mukhayer_Mardu_Control.html', 'Ondrej_Strasky_Simic_Control.html', 'Onin_Fires_of_Invention.html', 'Onoe_Hajime_Esper_Control.html', 'Oomura_Hajime_Sultai_Aggro.html', 'Optimis344_Abzan_Aggro.html', 'Oreshkin_Dmitriy_Rakdos_Aristocrats.html', 'Oscar_Ramírez_Naya_Feather.html', 'Oskar_Sk¶ld_Reanimator.html', 'Owen_Estioco_Orzhov_Vampires.html', 'O_danielakos_Sultai_Control.html', 'Paolo_Crispino_Rakdos_Sacrifice.html', 'Paolo_Go_Mardu_Control.html', 'Paplinki_Sultai_Aggro.html', 'Parker_Connors_Sultai_Oven.html', 'Pasi_Poikela_Mono_Black_Aggro.html', 'pat0presidente_Naya_Feather.html', 'Patrick_K_Gruul_Aggro.html', 'Patxi_Bant_Control.html', 'Paulo_Vitor_Damo_Da_Rosa_Simic_Control.html', 'Paul_Herr_Jund_Aggro.html', 'Pdpgti_Mono_Black_Saccgro.html', 'Pedro_Lauria_UW_Control.html', 'Pedro_Perrini_Rakdos_Aggro.html', 'pepeteam_Bant_Control.html', 'pepeteam_Golgari_Aggro.html', 'Perobotelho_Mono_G_Stompy.html', 'PeterPea_UR_Artifacts.html', 'Philippe_Carloz_Adventure.deck.html', 'Philip_Reeves_Golgari_Adventures.html', 'Phillip_Fitchew_Jeskai_Flash.html', 'Pilototo_Mardu_Feather.html', 'Pinpan_Gruul_Aggro.html', 'Piotr_Glogowski_4c_Energy.html', 'Piotr_Głogowski_Golgari_Aggro.html', 'Popov_Stanislav_Bant_Food.html', 'Por_Yong_Xiang_Sultai_Oko.html', 'Poyo_del_Mal_Boros_Feather.html', 'Poyo_del_Mal_Red_Deck_Wins.html', 'Preston_Butler_Orzhov_Aggro.html', 'Qail_Shivji_Golos.html', 'Quatch_Jund.html', 'Quatch_Sultai_Aggro.html', 'Quentin_Garchery_Rb_Sacrifice.html', 'Raeko_Fires_of_Invention.html', 'rage_hs_Jund_Oven.html', 'RagingMachismo_UB_Control.html', 'Rahwaizh_Abdulrahman_Reanimator.html', 'Raphael_Smith_Selesnya.html', 'Raphaël_Lévy_Golgari_Aggro.html', 'rapidluis08_Orzhov_Aggro.html', 'rapidluis08_Temur_Elemental.html', 'rastaf_Mono_Green_Aggro.html', 'RaV__Reanimator.html', 'Raymond_Montoya_Bw_Vampire_Tokens.html', 'redryansox_Jeskai_Planeswalker.html', 'Remi_Saget_Bant_Reclamation.html', 'Ricardo_Diaz_Orzhov_Aggro.html', 'ristinend_Esper_DOOM.html', 'Robert_Lippmann_4c_Elementals.html', 'Robert_Taylor_Jund_Aggro.html', 'Robert_Wild_Boros_Feather.html', 'Robert_Wise_Esper_Hero.html', 'Rocardito_Mono_Black_Aggro.html', 'Rodrigo_Pereira_Dimir_Zombies.html', 'Rod_Osal_Approach_Convergence.html', 'romanmy_Jund_Aggro.html', 'Roman_Fusco_UW_Control.html', 'Rooney56_Dimir_Midrange.html', 'rushi_00_4c_Energy.html', 'Ryan_Stockburger_Mardu_Control.html', 'ryota09_UR_Artifacts.html', 'ryugi_Esper_Hero.html', 'ryugi_Esper_Midrange.html', \"Rémi_D'emmerez_Sultai_Oko-less.html\", 'Saher_Khalil_Golgari_Adventure.html', 'Saitou_Takahiro_Grixis_Midrange.html', 'Samshot_Golgari_Control.html', 'SamuelGraebner_Dimir_Control.html', 'SamuelGraebner_Sultai_Aggro.html', 'Samuel_Defeo_Gate_Control.html', 'Samuel_Pardee_4c_Energy.html', 'Sam_Birkenbile_Bant_Aggro.html', 'sans_UR_Artifacts.html', 'Sasayama_Shin_Mono_Blue_Aggro.html', 'Savin_Victor_Mono-blac_Aggro.html', 'Sayama_Tatsunosuke_Grixis_Midrange.html', 'Scappie_DimirMidrange.html', 'SeanElsewhere_Boros_Feather.html', 'Sebastian_Denno_Orzhov_Aggro.html', 'Sebastian_Pozzo_Simic_Control.html', 'Semulin_Naya_Aggro.html', 'sepomon_Naya_Feather.html', 'Serov_Stanislav_Temur_Reclamation.html', 'Serputko_Vyacheslav_Gruul_Aggro.html', 'Seth_Yandrofski_Jund_Midrange.html', 'SgtMcMuffins_Adventure.html', 'Shahar_Shenhar_Grixis_Aggro.html', 'Shahar_Shenhar_Grixis_Control.html', 'Shamsul_Bahrain_Esper_Control.html', 'Shamsul_Zainuddin_Esper_Control.html', 'Shasha_Red_Deck_Wins.html', 'Shawn_Khoo_Sultai_Flash.html', 'Shawn_Rayson_Niv-mizzet_Fires.html', 'Shiina_Kouji_Mono_Green_Aggro.html', 'Shimokawabe_Akinari_Selesnya_Aggro.html', 'Shiohata_Ryousuke_Simic_Food.html', 'Shota_Takano_Jund_Aggro.html', 'Sidorov_Ivan_Temur_Elementals.html', 'signblindman_Jund_Aggro.html', 'sikolio_Jund.html', 'Simon_Demay_Mardu_Knight.html', 'Skite_Gate_Control.html', 'Skupoy_Bw_Vampires.html', 'Skybilz_Gruul_Aggro.html', 'Skyfly22_Orzhov_Control.html', 'smile_papa4_Mono_Blue_Aggro.html', 'Smirnov_Alexander_Azorius_Control.html', 'Sneaky_homunkulus_URArtifacts.html', 'snowsk82000_Reanimator.html', 'soccerdude789_Adventure.html', 'Soedjadi_Sentosa_Jeskai_Planeswalkers.html', 'Sofiane_Sehil_Sultai_Oko.html', 'Sokos13_Grixis_Aggro.html', 'sokos13_Grixis_Midrange.html', 'solace_Golgari_Control.html', 'stainerson_Zombies.html', 'Stefano_Eusebi_UR_Artifacts.html', 'Stefan_Bill_Temur_Superfriends.html', 'Stefan_Schütz_Temur_Reclamation.html', 'Stephan_Schwarz_Selesnya_Aggro.html', 'Steven_Abbott_Orzhov_Aggro.html', 'Steven_Nesteby_Orzhov_Approach.html', 'StrixMix_Jund_Aggro.html', 'Suda_Yoshihiro_Mono_Green_Aggro.html', 'superradjoe_UR_Control.html', 'Suzuki_Kazushige_Temur_Reclamation.html', 'Swarm_OF_Mats_Jund_Aggro.html', 'Taalia_Vess_Mono_Black_Aggro.html', 'Tabananga_Orzhov_Aggro.html', 'Tableleg23_Esper_DOOM.html', 'Takahashi_Naoya_Azorius_Aggro.html', 'Takahashi_Naoya_Mono_Blue_Aggro.html', 'Takahashi_Naoya_Orzhov_Control.html', 'Takahashi_Ryou_Boros_Aggro.html', 'Takamiya_Issei_Mono_Green_Aggro.html', 'Takata_Kazuma_Mono_Green_Aggro.html', 'Takenaka_Tooru_UR_Aggro.html', 'Takeno_Ryo_Esper_Midrange.html', 'Takeno_Ryo_Mono_Green_Aggro.html', 'Tanabe_Takumi_Simic_Control.html', 'tangrams_Bant_Aggro.html', 'tangrams_Fires_of_Invention.html', 'Taniguchi_Hiroaki_Temur_Aggro.html', 'Taniguchi_Syougo_Esper_DOOM.html', 'Tanji_Kensuke_Grixis_Control.html', 'Taylor_Clarke_Grixis_Midrange.html', 'Team5c_Selesnya_Aggro.html', 'Tee3cat_Izzet_Phoenix.html', 'Teo_Yuen_Peir_(jack)_Simic_Oko.html', 'Tetezinho_Grixis_Midrange.html', 'Thanh_Nguyen_Grixis_Control.html', 'Theeradet_Yingviriyaprapan_Esper_Hero.html', 'Thegamerguy_Orzhov_Aggro.html', 'Theo_Moutier_Grixis.html', 'The_nayr_Jund_Aggro.html', 'The_Philosopher_Simic_Food.html', 'Thiago_Casassanta_Jund_Sacrifice.html', 'Thiago_Rosenmann_Simic_Control.html', 'Thierry_Ramboa_Bant_Control.html', 'Thijs_Van_Der_Meer_Jeskai_Superfriends.html', 'Thijz_Gate_Control.html', 'Thomas_Gyllenhammer_Abzan.html', 'Thomas_Thominen_UR_Artifacts.html', 'Thomas_Yarbrough_nan.html', 'Thorben_Beckmann_Azorius_One_Last_Time.html', 'Théau_Mery_Sultai_Sacrifice.html', 'Tiffany_Barnes_Mono_Black_Aggro.html', 'Timothy_Madsen_UB_Control.html', 'Timothy_Wu_Gr.html', 'Timothy_Wu_Rg.html', 'Tobe_Masamune_Weenie_White.html', 'Todd_Stevens_Orzhov_Control.html', 'Tokarev_Alexander_Izzet_Tempo.html', 'Tomita_Hiroki_Bant_Ramp.html', 'Tom_Stanton_Hour_of_Promise_Golgari.html', 'Tonouchi_Keita_Orzhov_Control.html', 'TopGrinder_UR_Aggro.html', 'Travv_Mardu_Planeswalker.html', 'Trent_Clarke_Sultai_Food.html', 'TroyGG36_Dimir_Midrange.html', 'Truedawn_Simic_Emry.html', 'truthordare_Izzet_Control.html', 'Tsutai_Koutarou_Simic_Food.html', 'Tulio_Jaudy_Abzan_Value.html', 'Tyler_Smith_Blue_White_Control.html', 'tyrion_lannister_Naya_Feather.html', 'Uchoa_Boros_Feather.html', 'Uemura_Akira_Orzhov_Aggro.html', 'Uniq_Abzan_Aggro.html', 'Upumpa89_Sultai_Aggro.html', 'Uri_Roberto_Mardu_Refurbish.html', 'Urlich_Naya_Feather.html', 'U_mad_bro_Weenie_White.html', 'Valorj_Sultai_Flash.html', 'Vasiliev_Vitaliy_Esper_Danse.html', 'Vasiliev_Vitaliy_Esper_Doom.html', 'Venom1_Golgari_Aggro.html', 'Venom1_Golgari_Control.html', 'Vergard_Mardu_Planeswalker.html', 'Vicent_Silvestre_Bant_Control.html', 'Vinay_Gupta_Mardu_Angel_Aggro.html', 'Vincentius_Gondowijoyo_Esper_DOOM.html', 'Vincent_Choy_5c_PW.html', 'Vincent_Hocquemiller_Simic_Food.html', 'Vladislav_Blinov_Golgari_Adventure.html', 'Vodkacrusader_Simic_PW.html', 'VTCLA_Golgari_Aggro.html', 'Waifugate_Esper_Precinct_One.html', 'Waifugate_Gruul_Aggro.html', 'Wakita_Daiki_Mono_Green_Aggro.html', 'Wakita_Tomoyuki_Sultai_Elemental.html', 'Wanja_Huber_Simic_Food.html', 'WarAndMagicTV_Simic_Flash.html', 'WaToO_UW_Control.html', 'Whiteba_Bant_Oko.html', 'William_Gutierrez_Grixix_Control.html', 'WillyBzzz_Jund_Oven.html', 'WingedHussar_Hour_of_Promise_Golgari.html', 'Wolf_Christopher_Simic_Oko.html', 'Wonkothekiller_UR_Artifacts.html', 'worrier1000_Selesnya_Aggro.html', 'Wu_Bi_Lun_Mardu_Knights.html', 'Wynand_Van_Zyl_4_Color_Doom.html', 'Wynand_Van_Zyl_Mardu_DOOM.html', 'xfile_Weenie_White.html', 'xhpc007_Sultai_Sacrifice.html', 'Xx_Mully60_xX_UB_Control.html', 'Yaggdryzzill_Weenie_White.html', 'Yamada_Chiaki_Adventure.html', 'Yamade_Masato_Simic_Food.html', 'Yamaguchi_Takurou_Temur_PW.html', 'yamakiller_Jund.html', 'Yamaki_Mardu_Aggro.html', 'Yamamura_Shouma_Adventure.html', 'Yanase_Kaname_Bant_Aggro.html', 'Yashiro_Kazuki_Izzet_Phoenix.html', 'Yasuda_Masayuki_UW_PW.html', 'Yellowhat_Azorius_Fly.html', 'Yellowhat_Izzet_Spells.html', 'Yellowhat_Mono_Black_Aggro.html', 'Yellowhat_Weenie_White.html', 'yerffej03_Golgari_Land_Loss.html', 'yerffej03_Golgari_PW.html', 'yerffej03_UW_Control.html', 'Yiming_Zhi_UW_Control.html', 'Yixian_Liang_Sultai_Food.html', 'Yohan_Dudognon_4colour_Good_Stuff.html', 'Yokoyama_Shohei_Grixis_Control.html', 'yoshidora_Azorius_Aggro.html', 'Yousuke_Takaku_Mardu_Gearhulk.html', 'Yuta_Hirosawa_4c_Energy.html', 'Zachery_Mcintosh_Golos.html', 'Zach_Keathley_G-w_Adventure.html', 'Zack_Brown_Selesnya_Aggro.html', 'zer1997_UW_Control.html', 'zeuth_UR_Artifacts.html', 'zhandrg1987_Feather_Mardu.html', 'zhandrg1987_Grixis_Aggro.html', 'zhandrg1987_Grixis_Midrange.html', 'Zhang_Bowen_UB_Control.html', 'Zhupikov_Alexander_Simic_Ramp.html', 'Zvavok_Sultai_Aggro.html', 'Zxrogue_Orzhov_Control.html', '_Batutinha__Golgari_Aggro.html', '_Falcon__Jeskai_Planeswalker.html', '_Falcon__Jund_Sacrifice.html', '_Falcon__Rakdos_Aggro.html', '_IlNano__Mono_Black_Aggro.html', '_mad_k1022_Dimir_Midrange.html', '_Tia93__Bant_Control.html', '__GMF___UW_Auras.html']\n"
     ]
    }
   ],
   "source": [
    "print(dir_names)"
   ]
  },
  {
   "cell_type": "code",
   "execution_count": 9,
   "metadata": {},
   "outputs": [
    {
     "data": {
      "text/html": [
       "<div>\n",
       "<style scoped>\n",
       "    .dataframe tbody tr th:only-of-type {\n",
       "        vertical-align: middle;\n",
       "    }\n",
       "\n",
       "    .dataframe tbody tr th {\n",
       "        vertical-align: top;\n",
       "    }\n",
       "\n",
       "    .dataframe thead th {\n",
       "        text-align: right;\n",
       "    }\n",
       "</style>\n",
       "<table border=\"1\" class=\"dataframe\">\n",
       "  <thead>\n",
       "    <tr style=\"text-align: right;\">\n",
       "      <th></th>\n",
       "      <th>url</th>\n",
       "      <th>name</th>\n",
       "      <th>player</th>\n",
       "    </tr>\n",
       "  </thead>\n",
       "  <tbody>\n",
       "    <tr>\n",
       "      <th>0</th>\n",
       "      <td>https://www.mtgtop8.com/https://www.mtgtop8.co...</td>\n",
       "      <td>4c_Elementals.html.txt</td>\n",
       "      <td>Robert_Lippmann</td>\n",
       "    </tr>\n",
       "    <tr>\n",
       "      <th>1</th>\n",
       "      <td>https://www.mtgtop8.com/https://www.mtgtop8.co...</td>\n",
       "      <td>Omnath.html.txt</td>\n",
       "      <td>Clarence_Dews</td>\n",
       "    </tr>\n",
       "    <tr>\n",
       "      <th>2</th>\n",
       "      <td>https://www.mtgtop8.com/https://www.mtgtop8.co...</td>\n",
       "      <td>4colour_Good_Stuff.html.txt</td>\n",
       "      <td>Yohan_Dudognon</td>\n",
       "    </tr>\n",
       "    <tr>\n",
       "      <th>3</th>\n",
       "      <td>https://www.mtgtop8.com/https://www.mtgtop8.co...</td>\n",
       "      <td>4c_Sun.html.txt</td>\n",
       "      <td>Aaron_Barich</td>\n",
       "    </tr>\n",
       "    <tr>\n",
       "      <th>4</th>\n",
       "      <td>https://www.mtgtop8.com/https://www.mtgtop8.co...</td>\n",
       "      <td>4c_Energy.html.txt</td>\n",
       "      <td>rushi_00</td>\n",
       "    </tr>\n",
       "  </tbody>\n",
       "</table>\n",
       "</div>"
      ],
      "text/plain": [
       "                                                 url  \\\n",
       "0  https://www.mtgtop8.com/https://www.mtgtop8.co...   \n",
       "1  https://www.mtgtop8.com/https://www.mtgtop8.co...   \n",
       "2  https://www.mtgtop8.com/https://www.mtgtop8.co...   \n",
       "3  https://www.mtgtop8.com/https://www.mtgtop8.co...   \n",
       "4  https://www.mtgtop8.com/https://www.mtgtop8.co...   \n",
       "\n",
       "                          name           player  \n",
       "0       4c_Elementals.html.txt  Robert_Lippmann  \n",
       "1              Omnath.html.txt    Clarence_Dews  \n",
       "2  4colour_Good_Stuff.html.txt   Yohan_Dudognon  \n",
       "3              4c_Sun.html.txt     Aaron_Barich  \n",
       "4           4c_Energy.html.txt         rushi_00  "
      ]
     },
     "execution_count": 9,
     "metadata": {},
     "output_type": "execute_result"
    }
   ],
   "source": [
    "deck_urls.head()"
   ]
  },
  {
   "cell_type": "code",
   "execution_count": 39,
   "metadata": {},
   "outputs": [
    {
     "data": {
      "text/html": [
       "<div>\n",
       "<style scoped>\n",
       "    .dataframe tbody tr th:only-of-type {\n",
       "        vertical-align: middle;\n",
       "    }\n",
       "\n",
       "    .dataframe tbody tr th {\n",
       "        vertical-align: top;\n",
       "    }\n",
       "\n",
       "    .dataframe thead th {\n",
       "        text-align: right;\n",
       "    }\n",
       "</style>\n",
       "<table border=\"1\" class=\"dataframe\">\n",
       "  <thead>\n",
       "    <tr style=\"text-align: right;\">\n",
       "      <th></th>\n",
       "      <th>url</th>\n",
       "      <th>name</th>\n",
       "      <th>player</th>\n",
       "      <th>deck_list</th>\n",
       "    </tr>\n",
       "  </thead>\n",
       "  <tbody>\n",
       "    <tr>\n",
       "      <th>0</th>\n",
       "      <td>https://www.mtgtop8.com/event?e=23476&amp;amp;d=36...</td>\n",
       "      <td>4c_Elementals</td>\n",
       "      <td>Robert_Lippmann</td>\n",
       "      <td>['13 Forest', '4 Llanowar Elves', '3 Greenbelt...</td>\n",
       "    </tr>\n",
       "    <tr>\n",
       "      <th>1</th>\n",
       "      <td>https://www.mtgtop8.com/event?e=23375&amp;amp;d=36...</td>\n",
       "      <td>Omnath</td>\n",
       "      <td>Clarence_Dews</td>\n",
       "      <td>['10 Forest', '7 Island', '4 Llanowar Elves', ...</td>\n",
       "    </tr>\n",
       "    <tr>\n",
       "      <th>2</th>\n",
       "      <td>https://www.mtgtop8.com/event?e=23384&amp;amp;d=36...</td>\n",
       "      <td>4colour_Good_Stuff</td>\n",
       "      <td>Yohan_Dudognon</td>\n",
       "      <td>['2 Essence Scatter', '4 Glacial Fortress', '7...</td>\n",
       "    </tr>\n",
       "    <tr>\n",
       "      <th>3</th>\n",
       "      <td>https://www.mtgtop8.com/event?e=22218&amp;amp;d=35...</td>\n",
       "      <td>4c_Sun</td>\n",
       "      <td>Aaron_Barich</td>\n",
       "      <td>['1 Planar Cleansing', '2 Forest', '2 Island',...</td>\n",
       "    </tr>\n",
       "    <tr>\n",
       "      <th>4</th>\n",
       "      <td>https://www.mtgtop8.com/event?e=18688&amp;amp;d=31...</td>\n",
       "      <td>4c_Energy</td>\n",
       "      <td>rushi_00</td>\n",
       "      <td>['6 Forest', '4 Swamp', '4 Blood Crypt', '4 Ca...</td>\n",
       "    </tr>\n",
       "  </tbody>\n",
       "</table>\n",
       "</div>"
      ],
      "text/plain": [
       "                                                 url                name  \\\n",
       "0  https://www.mtgtop8.com/event?e=23476&amp;d=36...       4c_Elementals   \n",
       "1  https://www.mtgtop8.com/event?e=23375&amp;d=36...              Omnath   \n",
       "2  https://www.mtgtop8.com/event?e=23384&amp;d=36...  4colour_Good_Stuff   \n",
       "3  https://www.mtgtop8.com/event?e=22218&amp;d=35...              4c_Sun   \n",
       "4  https://www.mtgtop8.com/event?e=18688&amp;d=31...           4c_Energy   \n",
       "\n",
       "            player                                          deck_list  \n",
       "0  Robert_Lippmann  ['13 Forest', '4 Llanowar Elves', '3 Greenbelt...  \n",
       "1    Clarence_Dews  ['10 Forest', '7 Island', '4 Llanowar Elves', ...  \n",
       "2   Yohan_Dudognon  ['2 Essence Scatter', '4 Glacial Fortress', '7...  \n",
       "3     Aaron_Barich  ['1 Planar Cleansing', '2 Forest', '2 Island',...  \n",
       "4         rushi_00  ['6 Forest', '4 Swamp', '4 Blood Crypt', '4 Ca...  "
      ]
     },
     "execution_count": 39,
     "metadata": {},
     "output_type": "execute_result"
    }
   ],
   "source": [
    "decks_clean.head()"
   ]
  },
  {
   "cell_type": "code",
   "execution_count": 11,
   "metadata": {},
   "outputs": [
    {
     "data": {
      "text/html": [
       "<div>\n",
       "<style scoped>\n",
       "    .dataframe tbody tr th:only-of-type {\n",
       "        vertical-align: middle;\n",
       "    }\n",
       "\n",
       "    .dataframe tbody tr th {\n",
       "        vertical-align: top;\n",
       "    }\n",
       "\n",
       "    .dataframe thead th {\n",
       "        text-align: right;\n",
       "    }\n",
       "</style>\n",
       "<table border=\"1\" class=\"dataframe\">\n",
       "  <thead>\n",
       "    <tr style=\"text-align: right;\">\n",
       "      <th></th>\n",
       "      <th>deck_list</th>\n",
       "    </tr>\n",
       "  </thead>\n",
       "  <tbody>\n",
       "    <tr>\n",
       "      <th>869</th>\n",
       "      <td>&lt;input name=\"c\" type=\"hidden\" value=\"2 Mountai...</td>\n",
       "    </tr>\n",
       "    <tr>\n",
       "      <th>870</th>\n",
       "      <td>&lt;input name=\"c\" type=\"hidden\" value=\"19 Swamp|...</td>\n",
       "    </tr>\n",
       "    <tr>\n",
       "      <th>871</th>\n",
       "      <td>&lt;input name=\"c\" type=\"hidden\" value=\"4 Dragons...</td>\n",
       "    </tr>\n",
       "    <tr>\n",
       "      <th>872</th>\n",
       "      <td>&lt;input name=\"c\" type=\"hidden\" value=\"1 Shock||...</td>\n",
       "    </tr>\n",
       "    <tr>\n",
       "      <th>873</th>\n",
       "      <td>&lt;input name=\"c\" type=\"hidden\" value=\"3 Glacial...</td>\n",
       "    </tr>\n",
       "  </tbody>\n",
       "</table>\n",
       "</div>"
      ],
      "text/plain": [
       "                                             deck_list\n",
       "869  <input name=\"c\" type=\"hidden\" value=\"2 Mountai...\n",
       "870  <input name=\"c\" type=\"hidden\" value=\"19 Swamp|...\n",
       "871  <input name=\"c\" type=\"hidden\" value=\"4 Dragons...\n",
       "872  <input name=\"c\" type=\"hidden\" value=\"1 Shock||...\n",
       "873  <input name=\"c\" type=\"hidden\" value=\"3 Glacial..."
      ]
     },
     "execution_count": 11,
     "metadata": {},
     "output_type": "execute_result"
    }
   ],
   "source": [
    "decks_clean.tail()"
   ]
  },
  {
   "cell_type": "code",
   "execution_count": 12,
   "metadata": {},
   "outputs": [
    {
     "data": {
      "text/html": [
       "<div>\n",
       "<style scoped>\n",
       "    .dataframe tbody tr th:only-of-type {\n",
       "        vertical-align: middle;\n",
       "    }\n",
       "\n",
       "    .dataframe tbody tr th {\n",
       "        vertical-align: top;\n",
       "    }\n",
       "\n",
       "    .dataframe thead th {\n",
       "        text-align: right;\n",
       "    }\n",
       "</style>\n",
       "<table border=\"1\" class=\"dataframe\">\n",
       "  <thead>\n",
       "    <tr style=\"text-align: right;\">\n",
       "      <th></th>\n",
       "      <th>deck_list</th>\n",
       "    </tr>\n",
       "  </thead>\n",
       "  <tbody>\n",
       "  </tbody>\n",
       "</table>\n",
       "</div>"
      ],
      "text/plain": [
       "Empty DataFrame\n",
       "Columns: [deck_list]\n",
       "Index: []"
      ]
     },
     "execution_count": 12,
     "metadata": {},
     "output_type": "execute_result"
    }
   ],
   "source": [
    "decks_clean[decks_clean.deck_list == '[nan]']"
   ]
  },
  {
   "cell_type": "code",
   "execution_count": 13,
   "metadata": {},
   "outputs": [
    {
     "name": "stdout",
     "output_type": "stream",
     "text": [
      "<class 'pandas.core.frame.DataFrame'>\n",
      "RangeIndex: 874 entries, 0 to 873\n",
      "Data columns (total 1 columns):\n",
      "deck_list    874 non-null object\n",
      "dtypes: object(1)\n",
      "memory usage: 6.9+ KB\n"
     ]
    }
   ],
   "source": [
    "decks_clean.info()"
   ]
  },
  {
   "cell_type": "code",
   "execution_count": 40,
   "metadata": {},
   "outputs": [
    {
     "data": {
      "text/plain": [
       "'[\\'13 Forest\\', \\'4 Llanowar Elves\\', \\'3 Greenbelt Rampager\\', \\'2 Aethersphere Harvester\\', \\'3 Heart of Kiran\\', \"1 Lifecrafter\\'s Bestiary\", \\'2 Cartouche of Knowledge\\', \\'3 Rhonas the Indomitable\\', \\'2 Commit-Memory\\', \\'4 Steel Leaf Champion\\', \\'3 Hashep Oasis\\', \\'4 Hinterland Harbor\\', \\'2 Blossoming Defense\\', \"2 Nature\\'s Way\", \\'4 Servant of the Conduit\\', \\'4 Botanical Sanctum\\', \\'4 Vine Mare\\', \\'2 Vivien Reid\\', \\'3 Negate\\', \\'4 Ghalta, Primal Hunger\\', \\'4 Thrashing Brontodon\\', \\'2 Merfolk Branchwalker\\', \\'\"/>\\']'"
      ]
     },
     "execution_count": 40,
     "metadata": {},
     "output_type": "execute_result"
    }
   ],
   "source": [
    "decks_clean.deck_list[0]"
   ]
  },
  {
   "cell_type": "markdown",
   "metadata": {},
   "source": [
    "### Assessment\n",
    "- [done] data from deck_urls.csv and deck_list.csv are of same object\n",
    "- [done] .html and .txt tags are irrelevant in name column\n",
    "- [done] `deck_list` may be type that is irrelevant\n",
    "- [done] `deck_list` column is one huge object\n",
    "- [done] irrelevant characters in `deck_list` column\n",
    "- [done] deck_urls needs a copy to work with\n",
    "- [done] multiple headers in `url` column because i must have ran the function too often\n",
    "- missing data at the end of the dataset\n",
    "- [done] deck_list column is not the right data type\n",
    "- duplicate observations\n",
    "- deck_list column is not in the right order because the data was reorganized at some point\n",
    "- decks are incorrectly named"
   ]
  },
  {
   "cell_type": "markdown",
   "metadata": {},
   "source": [
    "## Clean"
   ]
  },
  {
   "cell_type": "markdown",
   "metadata": {},
   "source": [
    "#### Define\n",
    "- append deck_urls.csv and deck_list.csv together"
   ]
  },
  {
   "cell_type": "markdown",
   "metadata": {},
   "source": [
    "#### Code"
   ]
  },
  {
   "cell_type": "code",
   "execution_count": 14,
   "metadata": {},
   "outputs": [],
   "source": [
    "deck_urls['deck_list'] = decks_clean"
   ]
  },
  {
   "cell_type": "code",
   "execution_count": 15,
   "metadata": {},
   "outputs": [],
   "source": [
    "deck_urls.to_csv('~/Documents/MTG/data/decks_clean.csv', index=False)"
   ]
  },
  {
   "cell_type": "markdown",
   "metadata": {},
   "source": [
    "#### Test"
   ]
  },
  {
   "cell_type": "code",
   "execution_count": 16,
   "metadata": {},
   "outputs": [
    {
     "data": {
      "text/html": [
       "<div>\n",
       "<style scoped>\n",
       "    .dataframe tbody tr th:only-of-type {\n",
       "        vertical-align: middle;\n",
       "    }\n",
       "\n",
       "    .dataframe tbody tr th {\n",
       "        vertical-align: top;\n",
       "    }\n",
       "\n",
       "    .dataframe thead th {\n",
       "        text-align: right;\n",
       "    }\n",
       "</style>\n",
       "<table border=\"1\" class=\"dataframe\">\n",
       "  <thead>\n",
       "    <tr style=\"text-align: right;\">\n",
       "      <th></th>\n",
       "      <th>url</th>\n",
       "      <th>name</th>\n",
       "      <th>player</th>\n",
       "      <th>deck_list</th>\n",
       "    </tr>\n",
       "  </thead>\n",
       "  <tbody>\n",
       "    <tr>\n",
       "      <th>0</th>\n",
       "      <td>https://www.mtgtop8.com/https://www.mtgtop8.co...</td>\n",
       "      <td>4c_Elementals.html.txt</td>\n",
       "      <td>Robert_Lippmann</td>\n",
       "      <td>&lt;input name=\"c\" type=\"hidden\" value=\"13 Forest...</td>\n",
       "    </tr>\n",
       "    <tr>\n",
       "      <th>1</th>\n",
       "      <td>https://www.mtgtop8.com/https://www.mtgtop8.co...</td>\n",
       "      <td>Omnath.html.txt</td>\n",
       "      <td>Clarence_Dews</td>\n",
       "      <td>&lt;input name=\"c\" type=\"hidden\" value=\"10 Forest...</td>\n",
       "    </tr>\n",
       "    <tr>\n",
       "      <th>2</th>\n",
       "      <td>https://www.mtgtop8.com/https://www.mtgtop8.co...</td>\n",
       "      <td>4colour_Good_Stuff.html.txt</td>\n",
       "      <td>Yohan_Dudognon</td>\n",
       "      <td>&lt;input name=\"c\" type=\"hidden\" value=\"2 Essence...</td>\n",
       "    </tr>\n",
       "    <tr>\n",
       "      <th>3</th>\n",
       "      <td>https://www.mtgtop8.com/https://www.mtgtop8.co...</td>\n",
       "      <td>4c_Sun.html.txt</td>\n",
       "      <td>Aaron_Barich</td>\n",
       "      <td>&lt;input name=\"c\" type=\"hidden\" value=\"1 Planar ...</td>\n",
       "    </tr>\n",
       "    <tr>\n",
       "      <th>4</th>\n",
       "      <td>https://www.mtgtop8.com/https://www.mtgtop8.co...</td>\n",
       "      <td>4c_Energy.html.txt</td>\n",
       "      <td>rushi_00</td>\n",
       "      <td>&lt;input name=\"c\" type=\"hidden\" value=\"6 Forest|...</td>\n",
       "    </tr>\n",
       "  </tbody>\n",
       "</table>\n",
       "</div>"
      ],
      "text/plain": [
       "                                                 url  \\\n",
       "0  https://www.mtgtop8.com/https://www.mtgtop8.co...   \n",
       "1  https://www.mtgtop8.com/https://www.mtgtop8.co...   \n",
       "2  https://www.mtgtop8.com/https://www.mtgtop8.co...   \n",
       "3  https://www.mtgtop8.com/https://www.mtgtop8.co...   \n",
       "4  https://www.mtgtop8.com/https://www.mtgtop8.co...   \n",
       "\n",
       "                          name           player  \\\n",
       "0       4c_Elementals.html.txt  Robert_Lippmann   \n",
       "1              Omnath.html.txt    Clarence_Dews   \n",
       "2  4colour_Good_Stuff.html.txt   Yohan_Dudognon   \n",
       "3              4c_Sun.html.txt     Aaron_Barich   \n",
       "4           4c_Energy.html.txt         rushi_00   \n",
       "\n",
       "                                           deck_list  \n",
       "0  <input name=\"c\" type=\"hidden\" value=\"13 Forest...  \n",
       "1  <input name=\"c\" type=\"hidden\" value=\"10 Forest...  \n",
       "2  <input name=\"c\" type=\"hidden\" value=\"2 Essence...  \n",
       "3  <input name=\"c\" type=\"hidden\" value=\"1 Planar ...  \n",
       "4  <input name=\"c\" type=\"hidden\" value=\"6 Forest|...  "
      ]
     },
     "execution_count": 16,
     "metadata": {},
     "output_type": "execute_result"
    }
   ],
   "source": [
    "deck_urls.head()"
   ]
  },
  {
   "cell_type": "markdown",
   "metadata": {},
   "source": [
    "#### Define\n",
    "- create a copy of `deck_urls`"
   ]
  },
  {
   "cell_type": "markdown",
   "metadata": {},
   "source": [
    "#### Code"
   ]
  },
  {
   "cell_type": "code",
   "execution_count": 17,
   "metadata": {},
   "outputs": [],
   "source": [
    "decks_clean = deck_urls.copy()"
   ]
  },
  {
   "cell_type": "markdown",
   "metadata": {},
   "source": [
    "#### Test"
   ]
  },
  {
   "cell_type": "code",
   "execution_count": 18,
   "metadata": {},
   "outputs": [
    {
     "data": {
      "text/html": [
       "<div>\n",
       "<style scoped>\n",
       "    .dataframe tbody tr th:only-of-type {\n",
       "        vertical-align: middle;\n",
       "    }\n",
       "\n",
       "    .dataframe tbody tr th {\n",
       "        vertical-align: top;\n",
       "    }\n",
       "\n",
       "    .dataframe thead th {\n",
       "        text-align: right;\n",
       "    }\n",
       "</style>\n",
       "<table border=\"1\" class=\"dataframe\">\n",
       "  <thead>\n",
       "    <tr style=\"text-align: right;\">\n",
       "      <th></th>\n",
       "      <th>url</th>\n",
       "      <th>name</th>\n",
       "      <th>player</th>\n",
       "      <th>deck_list</th>\n",
       "    </tr>\n",
       "  </thead>\n",
       "  <tbody>\n",
       "    <tr>\n",
       "      <th>0</th>\n",
       "      <td>https://www.mtgtop8.com/https://www.mtgtop8.co...</td>\n",
       "      <td>4c_Elementals.html.txt</td>\n",
       "      <td>Robert_Lippmann</td>\n",
       "      <td>&lt;input name=\"c\" type=\"hidden\" value=\"13 Forest...</td>\n",
       "    </tr>\n",
       "    <tr>\n",
       "      <th>1</th>\n",
       "      <td>https://www.mtgtop8.com/https://www.mtgtop8.co...</td>\n",
       "      <td>Omnath.html.txt</td>\n",
       "      <td>Clarence_Dews</td>\n",
       "      <td>&lt;input name=\"c\" type=\"hidden\" value=\"10 Forest...</td>\n",
       "    </tr>\n",
       "    <tr>\n",
       "      <th>2</th>\n",
       "      <td>https://www.mtgtop8.com/https://www.mtgtop8.co...</td>\n",
       "      <td>4colour_Good_Stuff.html.txt</td>\n",
       "      <td>Yohan_Dudognon</td>\n",
       "      <td>&lt;input name=\"c\" type=\"hidden\" value=\"2 Essence...</td>\n",
       "    </tr>\n",
       "    <tr>\n",
       "      <th>3</th>\n",
       "      <td>https://www.mtgtop8.com/https://www.mtgtop8.co...</td>\n",
       "      <td>4c_Sun.html.txt</td>\n",
       "      <td>Aaron_Barich</td>\n",
       "      <td>&lt;input name=\"c\" type=\"hidden\" value=\"1 Planar ...</td>\n",
       "    </tr>\n",
       "    <tr>\n",
       "      <th>4</th>\n",
       "      <td>https://www.mtgtop8.com/https://www.mtgtop8.co...</td>\n",
       "      <td>4c_Energy.html.txt</td>\n",
       "      <td>rushi_00</td>\n",
       "      <td>&lt;input name=\"c\" type=\"hidden\" value=\"6 Forest|...</td>\n",
       "    </tr>\n",
       "  </tbody>\n",
       "</table>\n",
       "</div>"
      ],
      "text/plain": [
       "                                                 url  \\\n",
       "0  https://www.mtgtop8.com/https://www.mtgtop8.co...   \n",
       "1  https://www.mtgtop8.com/https://www.mtgtop8.co...   \n",
       "2  https://www.mtgtop8.com/https://www.mtgtop8.co...   \n",
       "3  https://www.mtgtop8.com/https://www.mtgtop8.co...   \n",
       "4  https://www.mtgtop8.com/https://www.mtgtop8.co...   \n",
       "\n",
       "                          name           player  \\\n",
       "0       4c_Elementals.html.txt  Robert_Lippmann   \n",
       "1              Omnath.html.txt    Clarence_Dews   \n",
       "2  4colour_Good_Stuff.html.txt   Yohan_Dudognon   \n",
       "3              4c_Sun.html.txt     Aaron_Barich   \n",
       "4           4c_Energy.html.txt         rushi_00   \n",
       "\n",
       "                                           deck_list  \n",
       "0  <input name=\"c\" type=\"hidden\" value=\"13 Forest...  \n",
       "1  <input name=\"c\" type=\"hidden\" value=\"10 Forest...  \n",
       "2  <input name=\"c\" type=\"hidden\" value=\"2 Essence...  \n",
       "3  <input name=\"c\" type=\"hidden\" value=\"1 Planar ...  \n",
       "4  <input name=\"c\" type=\"hidden\" value=\"6 Forest|...  "
      ]
     },
     "execution_count": 18,
     "metadata": {},
     "output_type": "execute_result"
    }
   ],
   "source": [
    "decks_clean.head()"
   ]
  },
  {
   "cell_type": "markdown",
   "metadata": {},
   "source": [
    "#### Define\n",
    "- change type of `deck_list` to str"
   ]
  },
  {
   "cell_type": "markdown",
   "metadata": {},
   "source": [
    "#### Code"
   ]
  },
  {
   "cell_type": "code",
   "execution_count": 19,
   "metadata": {},
   "outputs": [],
   "source": [
    "decks_clean.deck_list = decks_clean.deck_list.astype('str')"
   ]
  },
  {
   "cell_type": "code",
   "execution_count": 20,
   "metadata": {},
   "outputs": [],
   "source": [
    "decks_clean.to_csv('~/Documents/MTG/data/decks_clean.csv', index=False)"
   ]
  },
  {
   "cell_type": "markdown",
   "metadata": {},
   "source": [
    "#### Test"
   ]
  },
  {
   "cell_type": "code",
   "execution_count": 21,
   "metadata": {},
   "outputs": [
    {
     "data": {
      "text/plain": [
       "str"
      ]
     },
     "execution_count": 21,
     "metadata": {},
     "output_type": "execute_result"
    }
   ],
   "source": [
    "type(decks_clean.deck_list[0])"
   ]
  },
  {
   "cell_type": "markdown",
   "metadata": {},
   "source": [
    "#### Define\n",
    "- drop .url and .text from the `name` column"
   ]
  },
  {
   "cell_type": "markdown",
   "metadata": {},
   "source": [
    "#### Code"
   ]
  },
  {
   "cell_type": "code",
   "execution_count": 22,
   "metadata": {},
   "outputs": [],
   "source": [
    "decks_clean.name = decks_clean.name.str.replace('.html.txt', '')"
   ]
  },
  {
   "cell_type": "code",
   "execution_count": 23,
   "metadata": {},
   "outputs": [],
   "source": [
    "decks_clean.to_csv('~/Documents/MTG/data/decks_clean.csv', index=False)"
   ]
  },
  {
   "cell_type": "markdown",
   "metadata": {},
   "source": [
    "#### Test"
   ]
  },
  {
   "cell_type": "code",
   "execution_count": 24,
   "metadata": {},
   "outputs": [
    {
     "data": {
      "text/html": [
       "<div>\n",
       "<style scoped>\n",
       "    .dataframe tbody tr th:only-of-type {\n",
       "        vertical-align: middle;\n",
       "    }\n",
       "\n",
       "    .dataframe tbody tr th {\n",
       "        vertical-align: top;\n",
       "    }\n",
       "\n",
       "    .dataframe thead th {\n",
       "        text-align: right;\n",
       "    }\n",
       "</style>\n",
       "<table border=\"1\" class=\"dataframe\">\n",
       "  <thead>\n",
       "    <tr style=\"text-align: right;\">\n",
       "      <th></th>\n",
       "      <th>url</th>\n",
       "      <th>name</th>\n",
       "      <th>player</th>\n",
       "      <th>deck_list</th>\n",
       "    </tr>\n",
       "  </thead>\n",
       "  <tbody>\n",
       "    <tr>\n",
       "      <th>0</th>\n",
       "      <td>https://www.mtgtop8.com/https://www.mtgtop8.co...</td>\n",
       "      <td>4c_Elementals</td>\n",
       "      <td>Robert_Lippmann</td>\n",
       "      <td>&lt;input name=\"c\" type=\"hidden\" value=\"13 Forest...</td>\n",
       "    </tr>\n",
       "    <tr>\n",
       "      <th>1</th>\n",
       "      <td>https://www.mtgtop8.com/https://www.mtgtop8.co...</td>\n",
       "      <td>Omnath</td>\n",
       "      <td>Clarence_Dews</td>\n",
       "      <td>&lt;input name=\"c\" type=\"hidden\" value=\"10 Forest...</td>\n",
       "    </tr>\n",
       "    <tr>\n",
       "      <th>2</th>\n",
       "      <td>https://www.mtgtop8.com/https://www.mtgtop8.co...</td>\n",
       "      <td>4colour_Good_Stuff</td>\n",
       "      <td>Yohan_Dudognon</td>\n",
       "      <td>&lt;input name=\"c\" type=\"hidden\" value=\"2 Essence...</td>\n",
       "    </tr>\n",
       "    <tr>\n",
       "      <th>3</th>\n",
       "      <td>https://www.mtgtop8.com/https://www.mtgtop8.co...</td>\n",
       "      <td>4c_Sun</td>\n",
       "      <td>Aaron_Barich</td>\n",
       "      <td>&lt;input name=\"c\" type=\"hidden\" value=\"1 Planar ...</td>\n",
       "    </tr>\n",
       "    <tr>\n",
       "      <th>4</th>\n",
       "      <td>https://www.mtgtop8.com/https://www.mtgtop8.co...</td>\n",
       "      <td>4c_Energy</td>\n",
       "      <td>rushi_00</td>\n",
       "      <td>&lt;input name=\"c\" type=\"hidden\" value=\"6 Forest|...</td>\n",
       "    </tr>\n",
       "  </tbody>\n",
       "</table>\n",
       "</div>"
      ],
      "text/plain": [
       "                                                 url                name  \\\n",
       "0  https://www.mtgtop8.com/https://www.mtgtop8.co...       4c_Elementals   \n",
       "1  https://www.mtgtop8.com/https://www.mtgtop8.co...              Omnath   \n",
       "2  https://www.mtgtop8.com/https://www.mtgtop8.co...  4colour_Good_Stuff   \n",
       "3  https://www.mtgtop8.com/https://www.mtgtop8.co...              4c_Sun   \n",
       "4  https://www.mtgtop8.com/https://www.mtgtop8.co...           4c_Energy   \n",
       "\n",
       "            player                                          deck_list  \n",
       "0  Robert_Lippmann  <input name=\"c\" type=\"hidden\" value=\"13 Forest...  \n",
       "1    Clarence_Dews  <input name=\"c\" type=\"hidden\" value=\"10 Forest...  \n",
       "2   Yohan_Dudognon  <input name=\"c\" type=\"hidden\" value=\"2 Essence...  \n",
       "3     Aaron_Barich  <input name=\"c\" type=\"hidden\" value=\"1 Planar ...  \n",
       "4         rushi_00  <input name=\"c\" type=\"hidden\" value=\"6 Forest|...  "
      ]
     },
     "execution_count": 24,
     "metadata": {},
     "output_type": "execute_result"
    }
   ],
   "source": [
    "decks_clean.head()"
   ]
  },
  {
   "cell_type": "markdown",
   "metadata": {},
   "source": [
    "#### Define\n",
    "- get rid of all unneccessary characters in `deck_list`"
   ]
  },
  {
   "cell_type": "markdown",
   "metadata": {},
   "source": [
    "#### Code"
   ]
  },
  {
   "cell_type": "code",
   "execution_count": 25,
   "metadata": {},
   "outputs": [],
   "source": [
    "decks_clean.deck_list = decks_clean.deck_list.str.replace('<input name=\"c\" type=\"hidden\" value=', '')"
   ]
  },
  {
   "cell_type": "code",
   "execution_count": 26,
   "metadata": {},
   "outputs": [],
   "source": [
    "decks_clean.deck_list = decks_clean.deck_list.str.strip('\"')"
   ]
  },
  {
   "cell_type": "code",
   "execution_count": 27,
   "metadata": {},
   "outputs": [],
   "source": [
    "decks_clean.to_csv('~/Documents/MTG/data/decks_clean.csv', index=False)"
   ]
  },
  {
   "cell_type": "markdown",
   "metadata": {},
   "source": [
    "#### Test"
   ]
  },
  {
   "cell_type": "code",
   "execution_count": 28,
   "metadata": {},
   "outputs": [
    {
     "data": {
      "text/html": [
       "<div>\n",
       "<style scoped>\n",
       "    .dataframe tbody tr th:only-of-type {\n",
       "        vertical-align: middle;\n",
       "    }\n",
       "\n",
       "    .dataframe tbody tr th {\n",
       "        vertical-align: top;\n",
       "    }\n",
       "\n",
       "    .dataframe thead th {\n",
       "        text-align: right;\n",
       "    }\n",
       "</style>\n",
       "<table border=\"1\" class=\"dataframe\">\n",
       "  <thead>\n",
       "    <tr style=\"text-align: right;\">\n",
       "      <th></th>\n",
       "      <th>url</th>\n",
       "      <th>name</th>\n",
       "      <th>player</th>\n",
       "      <th>deck_list</th>\n",
       "    </tr>\n",
       "  </thead>\n",
       "  <tbody>\n",
       "    <tr>\n",
       "      <th>0</th>\n",
       "      <td>https://www.mtgtop8.com/https://www.mtgtop8.co...</td>\n",
       "      <td>4c_Elementals</td>\n",
       "      <td>Robert_Lippmann</td>\n",
       "      <td>13 Forest||4 Llanowar Elves||3 Greenbelt Rampa...</td>\n",
       "    </tr>\n",
       "    <tr>\n",
       "      <th>1</th>\n",
       "      <td>https://www.mtgtop8.com/https://www.mtgtop8.co...</td>\n",
       "      <td>Omnath</td>\n",
       "      <td>Clarence_Dews</td>\n",
       "      <td>10 Forest||7 Island||4 Llanowar Elves||4 Breed...</td>\n",
       "    </tr>\n",
       "    <tr>\n",
       "      <th>2</th>\n",
       "      <td>https://www.mtgtop8.com/https://www.mtgtop8.co...</td>\n",
       "      <td>4colour_Good_Stuff</td>\n",
       "      <td>Yohan_Dudognon</td>\n",
       "      <td>2 Essence Scatter||4 Glacial Fortress||7 Islan...</td>\n",
       "    </tr>\n",
       "    <tr>\n",
       "      <th>3</th>\n",
       "      <td>https://www.mtgtop8.com/https://www.mtgtop8.co...</td>\n",
       "      <td>4c_Sun</td>\n",
       "      <td>Aaron_Barich</td>\n",
       "      <td>1 Planar Cleansing||2 Forest||2 Island||1 Plai...</td>\n",
       "    </tr>\n",
       "    <tr>\n",
       "      <th>4</th>\n",
       "      <td>https://www.mtgtop8.com/https://www.mtgtop8.co...</td>\n",
       "      <td>4c_Energy</td>\n",
       "      <td>rushi_00</td>\n",
       "      <td>6 Forest||4 Swamp||4 Blood Crypt||4 Cauldron F...</td>\n",
       "    </tr>\n",
       "  </tbody>\n",
       "</table>\n",
       "</div>"
      ],
      "text/plain": [
       "                                                 url                name  \\\n",
       "0  https://www.mtgtop8.com/https://www.mtgtop8.co...       4c_Elementals   \n",
       "1  https://www.mtgtop8.com/https://www.mtgtop8.co...              Omnath   \n",
       "2  https://www.mtgtop8.com/https://www.mtgtop8.co...  4colour_Good_Stuff   \n",
       "3  https://www.mtgtop8.com/https://www.mtgtop8.co...              4c_Sun   \n",
       "4  https://www.mtgtop8.com/https://www.mtgtop8.co...           4c_Energy   \n",
       "\n",
       "            player                                          deck_list  \n",
       "0  Robert_Lippmann  13 Forest||4 Llanowar Elves||3 Greenbelt Rampa...  \n",
       "1    Clarence_Dews  10 Forest||7 Island||4 Llanowar Elves||4 Breed...  \n",
       "2   Yohan_Dudognon  2 Essence Scatter||4 Glacial Fortress||7 Islan...  \n",
       "3     Aaron_Barich  1 Planar Cleansing||2 Forest||2 Island||1 Plai...  \n",
       "4         rushi_00  6 Forest||4 Swamp||4 Blood Crypt||4 Cauldron F...  "
      ]
     },
     "execution_count": 28,
     "metadata": {},
     "output_type": "execute_result"
    }
   ],
   "source": [
    "decks_clean.head()"
   ]
  },
  {
   "cell_type": "markdown",
   "metadata": {},
   "source": [
    "#### Define\n",
    "- split deck_list into multiple objects"
   ]
  },
  {
   "cell_type": "markdown",
   "metadata": {},
   "source": [
    "#### Code"
   ]
  },
  {
   "cell_type": "code",
   "execution_count": 29,
   "metadata": {},
   "outputs": [],
   "source": [
    "decks_clean.deck_list = decks_clean.deck_list.str.split(r'\\|\\|')"
   ]
  },
  {
   "cell_type": "code",
   "execution_count": 30,
   "metadata": {},
   "outputs": [],
   "source": [
    "decks_clean.to_csv('~/Documents/MTG/data/decks_clean.csv', index=False)"
   ]
  },
  {
   "cell_type": "markdown",
   "metadata": {},
   "source": [
    "#### Test"
   ]
  },
  {
   "cell_type": "code",
   "execution_count": 31,
   "metadata": {},
   "outputs": [
    {
     "data": {
      "text/html": [
       "<div>\n",
       "<style scoped>\n",
       "    .dataframe tbody tr th:only-of-type {\n",
       "        vertical-align: middle;\n",
       "    }\n",
       "\n",
       "    .dataframe tbody tr th {\n",
       "        vertical-align: top;\n",
       "    }\n",
       "\n",
       "    .dataframe thead th {\n",
       "        text-align: right;\n",
       "    }\n",
       "</style>\n",
       "<table border=\"1\" class=\"dataframe\">\n",
       "  <thead>\n",
       "    <tr style=\"text-align: right;\">\n",
       "      <th></th>\n",
       "      <th>url</th>\n",
       "      <th>name</th>\n",
       "      <th>player</th>\n",
       "      <th>deck_list</th>\n",
       "    </tr>\n",
       "  </thead>\n",
       "  <tbody>\n",
       "    <tr>\n",
       "      <th>0</th>\n",
       "      <td>https://www.mtgtop8.com/https://www.mtgtop8.co...</td>\n",
       "      <td>4c_Elementals</td>\n",
       "      <td>Robert_Lippmann</td>\n",
       "      <td>[13 Forest, 4 Llanowar Elves, 3 Greenbelt Ramp...</td>\n",
       "    </tr>\n",
       "    <tr>\n",
       "      <th>1</th>\n",
       "      <td>https://www.mtgtop8.com/https://www.mtgtop8.co...</td>\n",
       "      <td>Omnath</td>\n",
       "      <td>Clarence_Dews</td>\n",
       "      <td>[10 Forest, 7 Island, 4 Llanowar Elves, 4 Bree...</td>\n",
       "    </tr>\n",
       "    <tr>\n",
       "      <th>2</th>\n",
       "      <td>https://www.mtgtop8.com/https://www.mtgtop8.co...</td>\n",
       "      <td>4colour_Good_Stuff</td>\n",
       "      <td>Yohan_Dudognon</td>\n",
       "      <td>[2 Essence Scatter, 4 Glacial Fortress, 7 Isla...</td>\n",
       "    </tr>\n",
       "    <tr>\n",
       "      <th>3</th>\n",
       "      <td>https://www.mtgtop8.com/https://www.mtgtop8.co...</td>\n",
       "      <td>4c_Sun</td>\n",
       "      <td>Aaron_Barich</td>\n",
       "      <td>[1 Planar Cleansing, 2 Forest, 2 Island, 1 Pla...</td>\n",
       "    </tr>\n",
       "    <tr>\n",
       "      <th>4</th>\n",
       "      <td>https://www.mtgtop8.com/https://www.mtgtop8.co...</td>\n",
       "      <td>4c_Energy</td>\n",
       "      <td>rushi_00</td>\n",
       "      <td>[6 Forest, 4 Swamp, 4 Blood Crypt, 4 Cauldron ...</td>\n",
       "    </tr>\n",
       "  </tbody>\n",
       "</table>\n",
       "</div>"
      ],
      "text/plain": [
       "                                                 url                name  \\\n",
       "0  https://www.mtgtop8.com/https://www.mtgtop8.co...       4c_Elementals   \n",
       "1  https://www.mtgtop8.com/https://www.mtgtop8.co...              Omnath   \n",
       "2  https://www.mtgtop8.com/https://www.mtgtop8.co...  4colour_Good_Stuff   \n",
       "3  https://www.mtgtop8.com/https://www.mtgtop8.co...              4c_Sun   \n",
       "4  https://www.mtgtop8.com/https://www.mtgtop8.co...           4c_Energy   \n",
       "\n",
       "            player                                          deck_list  \n",
       "0  Robert_Lippmann  [13 Forest, 4 Llanowar Elves, 3 Greenbelt Ramp...  \n",
       "1    Clarence_Dews  [10 Forest, 7 Island, 4 Llanowar Elves, 4 Bree...  \n",
       "2   Yohan_Dudognon  [2 Essence Scatter, 4 Glacial Fortress, 7 Isla...  \n",
       "3     Aaron_Barich  [1 Planar Cleansing, 2 Forest, 2 Island, 1 Pla...  \n",
       "4         rushi_00  [6 Forest, 4 Swamp, 4 Blood Crypt, 4 Cauldron ...  "
      ]
     },
     "execution_count": 31,
     "metadata": {},
     "output_type": "execute_result"
    }
   ],
   "source": [
    "decks_clean.head()"
   ]
  },
  {
   "cell_type": "markdown",
   "metadata": {},
   "source": [
    "#### Define\n",
    "- remove first https from `url` column"
   ]
  },
  {
   "cell_type": "markdown",
   "metadata": {},
   "source": [
    "#### Code"
   ]
  },
  {
   "cell_type": "code",
   "execution_count": 32,
   "metadata": {},
   "outputs": [],
   "source": [
    "decks_clean.url = decks_clean.url.str.replace('https://www.mtgtop8.com/', '')\n",
    "decks_clean.url = 'https://www.mtgtop8.com/' + decks_clean.url"
   ]
  },
  {
   "cell_type": "code",
   "execution_count": 33,
   "metadata": {},
   "outputs": [],
   "source": [
    "decks_clean.to_csv('~/Documents/MTG/data/decks_clean.csv', index=False)"
   ]
  },
  {
   "cell_type": "markdown",
   "metadata": {},
   "source": [
    "#### Test"
   ]
  },
  {
   "cell_type": "code",
   "execution_count": 34,
   "metadata": {},
   "outputs": [
    {
     "data": {
      "text/plain": [
       "'https://www.mtgtop8.com/event?e=23476&amp;d=362227&amp;f=ST'"
      ]
     },
     "execution_count": 34,
     "metadata": {},
     "output_type": "execute_result"
    }
   ],
   "source": [
    "decks_clean.url[0]"
   ]
  },
  {
   "cell_type": "markdown",
   "metadata": {},
   "source": [
    "#### Define\n",
    "- make `deck_list` column a str"
   ]
  },
  {
   "cell_type": "markdown",
   "metadata": {},
   "source": [
    "#### Code"
   ]
  },
  {
   "cell_type": "code",
   "execution_count": 35,
   "metadata": {},
   "outputs": [],
   "source": [
    "decks_clean.deck_list = decks_clean.deck_list.astype('str')"
   ]
  },
  {
   "cell_type": "code",
   "execution_count": 36,
   "metadata": {},
   "outputs": [],
   "source": [
    "decks_clean.to_csv('~/Documents/MTG/data/decks_clean.csv', index=False)"
   ]
  },
  {
   "cell_type": "markdown",
   "metadata": {},
   "source": [
    "#### Test"
   ]
  },
  {
   "cell_type": "code",
   "execution_count": 37,
   "metadata": {},
   "outputs": [
    {
     "data": {
      "text/plain": [
       "str"
      ]
     },
     "execution_count": 37,
     "metadata": {},
     "output_type": "execute_result"
    }
   ],
   "source": [
    "type(decks_clean.deck_list[0])"
   ]
  },
  {
   "cell_type": "markdown",
   "metadata": {},
   "source": [
    "#### Define\n",
    "- put data points in order in `deck_list"
   ]
  },
  {
   "cell_type": "markdown",
   "metadata": {},
   "source": [
    "#### Code"
   ]
  },
  {
   "cell_type": "code",
   "execution_count": 38,
   "metadata": {
    "collapsed": true,
    "jupyter": {
     "outputs_hidden": true
    }
   },
   "outputs": [
    {
     "data": {
      "text/plain": [
       "['nan']                                                                                                                                                                                                                                                                                                                                                                                                                                                                                                                                                                                                                                                                                                                                                                                                                                                     45\n",
       "['2 Shock', '10 Forest', '9 Mountain', '4 Bonecrusher Giant', '2 Embercleave', '2 Redcap Melee', '4 Once Upon a Time', '4 Questing Beast', '3 Lovestruck Beast', '2 Kraul Harpooner', '4 Pelt Collector', '4 Stomping Ground', '1 Shifting Ceratops', '2 Veil of Summer', '2 Thrashing Brontodon', '3 Skarrgan Hellkite', '4 Gruul Spellbreaker', '4 Zhur-Taa Goblin', '3 Collision-Colossus', '3 Paradise Druid', \"3 Domri's Ambush\", '\"/>']                                                                                                                                                                                                                                                                                                                                                                                                               26\n",
       "['10 Forest', '7 Island', '4 Breeding Pool', '2 Brazen Borrower', '1 Gadwick, the Wizened', '2 Mystical Dispute', '4 Gilded Goose', '4 Once Upon a Time', '2 Questing Beast', '4 Wicked Wolf', '4 Oko, Thief of Crowns', '2 Castle Vantress', '1 Fabled Passage', '4 Aether Gust', '4 Veil of Summer', '2 Voracious Hydra', '2 Negate', '2 Mass Manipulation', '4 Hydroid Krasis', '2 Temple of Mystery', '4 Nissa, Who Shakes the World', '4 Paradise Druid', '\"/>']                                                                                                                                                                                                                                                                                                                                                                                       16\n",
       "['2 Disenchant', '2 Island', '2 Mountain', '1 Plains', '4 Hallowed Fountain', '4 Mystical Dispute', '4 Bonecrusher Giant', '4 Fires of Invention', '3 Castle Vantress', '3 Fabled Passage', '2 Kenrith, the Returned King', '4 Legion Warboss', '4 Deafening Clarion', '4 Steam Vents', '3 Temple of Epiphany', '2 Devout Decree', '2 Aether Gust', '3 Cavalier of Gales', '4 Cavalier of Flame', '2 Sacred Foundry', '3 Shimmer of Possibility', '4 Sphinx of Foresight', '3 Temple of Triumph', '1 Solar Blaze', '4 Teferi, Time Raveler', '1 Sorcerous Spyglass', '\"/>']                                                                                                                                                                                                                                                                                 15\n",
       "['1 Essence Scatter', '4 Forest', '1 Island', '2 Swamp', '4 Fatal Push', '4 Glint-Sleeve Siphoner', '2 Rishkar, Peema Renegade', '4 Rogue Refiner', '4 Winding Constrictor', '3 Walking Ballista', '2 Nissa, Steward of Elements', '2 Fetid Pools', '2 The Scarab God', '2 Die Young', '1 Appetite for the Unnatural', '4 Attune with Aether', '4 Blossoming Defense', '4 Longtusk Cub', '4 Aether Hub', '4 Blooming Marsh', '4 Botanical Sanctum', '2 Negate', '3 Duress', \"2 Vraska's Contempt\", '3 Deathgorge Scavenger', '3 Hostage Taker', '\"/>']                                                                                                                                                                                                                                                                                                      12\n",
       "['4 Forest', '2 Island', '2 Plains', '4 Breeding Pool', '4 Hallowed Fountain', '3 Mystical Dispute', '4 Gilded Goose', '4 Oko, Thief of Crowns', '2 Castle Vantress', '3 Fabled Passage', '2 Conclave Tribunal', '2 Knight of Autumn', '3 Devout Decree', '3 Veil of Summer', '2 Negate', '3 Temple Garden', '2 Mass Manipulation', '3 Growth Spiral', '4 Hydroid Krasis', '3 Temple of Mystery', '3 Arboreal Grazer', '4 Nissa, Who Shakes the World', '1 Tamiyo, Collector of Tales', '4 Teferi, Time Raveler', '4 Time Wipe', '\"/>']                                                                                                                                                                                                                                                                                                                     10\n",
       "['6 Island', '3 Plains', '4 Hallowed Fountain', '2 Giant Killer', '3 Gadwick, the Wizened', '2 Mystical Dispute', '3 Vantress Gargoyle', '3 Castle Ardenvale', '3 Castle Vantress', '3 Fabled Passage', \"4 Chemister's Insight\", '4 Absorb', '4 Opt', '4 Tranquil Cove', '4 Devout Decree', '3 Aether Gust', '1 Essence Capture', '4 Quench', '3 Finale of Glory', '2 Prison Realm', \"4 Dovin's Veto\", '3 Teferi, Time Raveler', '3 Time Wipe', '\"/>']                                                                                                                                                                                                                                                                                                                                                                                                       9\n",
       "['7 Forest', '1 Island', '2 Swamp', '4 Breeding Pool', '4 Gilded Goose', '3 Once Upon a Time', '4 Wicked Wolf', '4 Oko, Thief of Crowns', '1 Castle Locthwain', '2 Fabled Passage', \"1 Assassin's Trophy\", '2 Vraska, Golgari Queen', '2 Disdainful Stroke', '4 Noxious Grasp', '3 Veil of Summer', '1 Negate', '4 Overgrown Tomb', '4 Watery Grave', '2 Thrashing Brontodon', '4 Hydroid Krasis', '2 Duress', '2 Liliana, Dreadhorde General', '2 Massacre Girl', '4 Nissa, Who Shakes the World', '4 Paradise Druid', '2 Casualties of War', '\"/>']                                                                                                                                                                                                                                                                                                        8\n",
       "['6 Forest', '1 Island', '1 Swamp', '4 Breeding Pool', '4 Gilded Goose', '4 Once Upon a Time', '4 Wicked Wolf', '4 Oko, Thief of Crowns', '1 Castle Garenbrig', '1 Castle Locthwain', '1 Castle Vantress', '2 Fabled Passage', \"4 Assassin's Trophy\", '3 Unmoored Ego', '3 Vraska, Golgari Queen', '2 Find-Finality', '2 Temple of Malady', \"4 Legion's End\", '4 Noxious Grasp', '4 Veil of Summer', '4 Overgrown Tomb', '3 Hydroid Krasis', '2 Temple of Mystery', '4 Nissa, Who Shakes the World', '3 Paradise Druid', '\"/>']                                                                                                                                                                                                                                                                                                                              8\n",
       "['3 Forest', '1 Island', '2 Swamp', '4 Breeding Pool', '4 Cauldron Familiar', '3 Murderous Rider', '4 Gilded Goose', '3 Once Upon a Time', '4 Trail of Crumbs', '1 Wicked Wolf', '4 Oko, Thief of Crowns', \"4 Witch's Oven\", '2 Castle Locthwain', '3 Fabled Passage', '2 Lovestruck Beast', '2 Vraska, Golgari Queen', '2 Aether Gust', '2 Noxious Grasp', '2 Rotting Regisaur', '2 Veil of Summer', '2 Negate', '4 Overgrown Tomb', '2 Temple Garden', '4 Watery Grave', '2 Thrashing Brontodon', '1 Ethereal Absolution', '2 Duress', '1 Liliana, Dreadhorde General', '3 Massacre Girl', '\"/>']                                                                                                                                                                                                                                                          8\n",
       "['2 Mountain', '1 Plains', '2 Swamp', '4 Blood Crypt', '4 Venerable Knight', '4 Worthy Knight', '4 Blacklance Paragon', '3 Embercleave', '1 Rimrock Knight', '4 Inspiring Veteran', '1 Steelclaw Lance', '2 Fabled Passage', '4 Tournament Grounds', '4 Acclaimed Contender', '4 Fervent Champion', '4 Godless Shrine', '3 Devout Decree', '4 Knight of the Ebon Legion', \"2 Legion's End\", '4 Noxious Grasp', '4 Rotting Regisaur', '4 Sacred Foundry', '1 Temple of Silence', '3 Duress', \"2 Ob Nixilis's Cruelty\", '\"/>']                                                                                                                                                                                                                                                                                                                                 8\n",
       "['9 Forest', '7 Swamp', '4 Foulmire Knight', '4 Murderous Rider', '2 Order of Midnight', '4 Edgewall Innkeeper', '1 The Great Henge', '4 Once Upon a Time', '1 Questing Beast', '2 Castle Locthwain', '2 Fabled Passage', '4 Lovestruck Beast', '2 Rankle, Master of Pranks', \"2 Assassin's Trophy\", '1 Vraska, Golgari Queen', '1 Cavalier of Night', \"2 Legion's End\", '1 Noxious Grasp', '2 Veil of Summer', '1 Vivien, Arkbow Ranger', '4 Overgrown Tomb', '2 Thrashing Brontodon', '4 Duress', '1 Liliana, Dreadhorde General', '2 Massacre Girl', '1 Nissa, Who Shakes the World', '3 Paradise Druid', '2 Sorcerous Spyglass', '\"/>']                                                                                                                                                                                                                  8\n",
       "['5 Forest', '1 Island', '2 Swamp', '4 Breeding Pool', '4 Cauldron Familiar', '3 Murderous Rider', '4 Gilded Goose', '2 Once Upon a Time', '1 Questing Beast', '4 Trail of Crumbs', '2 Wicked Wolf', '4 Oko, Thief of Crowns', \"4 Witch's Oven\", '2 Castle Locthwain', '3 Fabled Passage', '2 Lovestruck Beast', '3 Vraska, Golgari Queen', '2 Aether Gust', '2 Noxious Grasp', '1 Rotting Regisaur', '3 Veil of Summer', '1 Negate', '4 Overgrown Tomb', '4 Watery Grave', '2 Thrashing Brontodon', '2 Duress', '1 Liliana, Dreadhorde General', '3 Massacre Girl', '\"/>']                                                                                                                                                                                                                                                                                  8\n",
       "['8 Forest', '8 Plains', '4 Faerie Guidemother', '4 Giant Killer', '2 Glass Casket', '1 Hushbringer', '4 Shepherd of the Flock', '4 Once Upon a Time', '1 Questing Beast', '1 Castle Ardenvale', '1 Flaxen Intruder', '4 Lovestruck Beast', '3 Conclave Tribunal', '4 Venerated Loxodon', '2 Knight of Autumn', '3 March of the Multitudes', '3 Flower-Flourish', '4 Silhana Ledgewalker', '2 Devout Decree', '2 Veil of Summer', '4 Temple Garden', '2 Unbreakable Formation', '2 Gideon Blackblade', '2 God-Eternal Oketra', '\"/>']                                                                                                                                                                                                                                                                                                                        8\n",
       "['8 Forest', '6 Island', '4 Breeding Pool', '2 Mystical Dispute', '2 Gilded Goose', '2 Castle Garenbrig', '1 Castle Vantress', '3 Lovestruck Beast', '1 Quasiduplicate', '3 Aether Gust', '3 Agent of Treachery', '4 Cavalier of Thorns', '4 Leafkin Druid', '3 Shifting Ceratops', '4 Risen Reef', '2 Negate', '2 Thrashing Brontodon', '1 End-Raze Forerunners', '4 Hydroid Krasis', '4 Temple of Mystery', '2 Finale of Devastation', '4 Nissa, Who Shakes the World', '4 Paradise Druid', '1 Return to Nature', '1 Tamiyo, Collector of Tales', '\"/>']                                                                                                                                                                                                                                                                                                   8\n",
       "['2 Shock', '10 Forest', '8 Mountain', '3 Bonecrusher Giant', '3 Embercleave', '2 Redcap Melee', '2 Once Upon a Time', '2 Questing Beast', '4 Kraul Harpooner', '4 Pelt Collector', '4 Stomping Ground', '1 Rugged Highlands', '2 Flame Sweep', '2 Shifting Ceratops', '4 Veil of Summer', '2 Thrashing Brontodon', '3 Skarrgan Hellkite', '4 Gruul Spellbreaker', '4 Zhur-Taa Goblin', '3 Collision-Colossus', '3 Paradise Druid', '3 Return to Nature', '\"/>']                                                                                                                                                                                                                                                                                                                                                                                             8\n",
       "['11 Forest', '6 Swamp', '4 Cauldron Familiar', '3 Murderous Rider', '4 Gilded Goose', '4 Trail of Crumbs', '4 Wicked Wolf', \"4 Witch's Oven\", '1 Castle Locthwain', '3 Fabled Passage', '1 Garruk, Cursed Huntsman', '4 Lovestruck Beast', '4 Midnight Reaper', '3 Ritual of Soot', '2 Vraska, Golgari Queen', '4 Overgrown Tomb', '2 Thrashing Brontodon', '4 Duress', '3 Massacre Girl', '2 Paradise Druid', '2 Casualties of War', '\"/>']                                                                                                                                                                                                                                                                                                                                                                                                                7\n",
       "['4 Shock', '10 Forest', '5 Mountain', '3 Bonecrusher Giant', '4 Robber of the Rich', '4 Once Upon a Time', '3 Questing Beast', '3 Castle Embereth', '3 Lava Coil', '4 Pelt Collector', '4 Stomping Ground', '4 Shifting Ceratops', '2 Veil of Summer', '4 Voracious Hydra', '2 Thrashing Brontodon', '2 Skarrgan Hellkite', '4 Gruul Spellbreaker', '4 Zhur-Taa Goblin', '3 Domri, Anarch of Bolas', \"3 Domri's Ambush\", '\"/>']                                                                                                                                                                                                                                                                                                                                                                                                                             7\n",
       "['11 Forest', '6 Island', '4 Breeding Pool', '4 Brazen Borrower', '1 Mystical Dispute', '4 Gilded Goose', '4 Once Upon a Time', '4 Wicked Wolf', '4 Oko, Thief of Crowns', '2 Kraul Harpooner', '2 Disdainful Stroke', '4 Aether Gust', '3 Veil of Summer', '3 Voracious Hydra', '1 Negate', '2 Thrashing Brontodon', '4 Hydroid Krasis', '3 Temple of Mystery', '4 Nissa, Who Shakes the World', '4 Paradise Druid', '1 Mobilized District', '\"/>']                                                                                                                                                                                                                                                                                                                                                                                                         7\n",
       "['5 Forest', '1 Mountain', '3 Swamp', '4 Blood Crypt', '3 Cauldron Familiar', '4 Murderous Rider', '4 Gilded Goose', '3 Questing Beast', '4 Trail of Crumbs', '3 Wicked Wolf', \"4 Witch's Oven\", '1 Castle Locthwain', '3 Fabled Passage', '2 Vraska, Golgari Queen', '1 Find-Finality', '4 Stomping Ground', '2 Noxious Grasp', '4 Overgrown Tomb', '4 Cindervines', '3 Duress', '2 Liliana, Dreadhorde General', '3 Massacre Girl', '4 Paradise Druid', '4 Mayhem Devil', '\"/>']                                                                                                                                                                                                                                                                                                                                                                           7\n",
       "['2 Island', '2 Plains', '3 Swamp', '4 Hallowed Fountain', '1 Realm-Cloaked Giant', '2 Murderous Rider', '3 Dance of the Manse', '4 Doom Foretold', '4 Golden Egg', '1 Castle Locthwain', '1 Castle Vantress', '3 Fabled Passage', '1 Ritual of Soot', '4 Thought Erasure', '2 Mortify', '4 Godless Shrine', '2 Cavalier of Dawn', \"3 Legion's End\", '2 Noxious Grasp', '2 Watery Grave', '2 Cry of the Carnarium', '1 Ethereal Absolution', \"3 Kaya's Wrath\", '3 Temple of Silence', '2 Duress', '2 Davriel, Rogue Shadowmage', '2 Despark', '4 Oath of Kaya', '3 Teferi, Time Raveler', '3 Guild Globe', '\"/>']                                                                                                                                                                                                                                            7\n",
       "['1 Shock', '10 Forest', '10 Mountain', '4 Bonecrusher Giant', '3 Embercleave', '4 Rimrock Knight', '4 Edgewall Innkeeper', '4 Once Upon a Time', '4 Questing Beast', '2 Embereth Shieldbreaker', '4 Lovestruck Beast', '2 Experimental Frenzy', '2 Lava Coil', '4 Kraul Harpooner', '4 Stomping Ground', '1 Flame Sweep', '3 Veil of Summer', '4 Cindervines', \"4 Domri's Ambush\", '1 Sorcerous Spyglass', '\"/>']                                                                                                                                                                                                                                                                                                                                                                                                                                           7\n",
       "['2 Shock', '8 Island', '4 Mountain', '4 Brazen Borrower', '3 Gadwick, the Wizened', '2 Mystical Dispute', '4 Bonecrusher Giant', '2 Castle Vantress', '3 Fabled Passage', '2 Lava Coil', '4 Ionize', '4 Steam Vents', '4 Opt', '4 Temple of Epiphany', \"1 Chandra's Pyrohelix\", '4 Aether Gust', '4 Brineborn Cutthroat', '2 Chandra, Awakened Inferno', '2 Flame Sweep', '3 Negate', '1 Essence Capture', '2 Quench', \"3 Ral's Outburst\", '3 Sorcerous Spyglass', '\"/>']                                                                                                                                                                                                                                                                                                                                                                                   7\n",
       "['6 Forest', '5 Island', '4 Breeding Pool', '4 Hallowed Fountain', '1 Mystical Dispute', '4 Gilded Goose', '4 Once Upon a Time', '4 Wicked Wolf', '4 Oko, Thief of Crowns', '2 Castle Vantress', '3 Aether Gust', '2 Veil of Summer', '4 Voracious Hydra', '2 Negate', '4 Temple Garden', '3 Thrashing Brontodon', '3 Mass Manipulation', '1 Deputy of Detention', '3 Hydroid Krasis', '4 Nissa, Who Shakes the World', '4 Paradise Druid', '4 Teferi, Time Raveler', '\"/>']                                                                                                                                                                                                                                                                                                                                                                                 7\n",
       "['1 Planar Cleansing', '2 Forest', '2 Island', '1 Plains', '2 Breeding Pool', '2 Hallowed Fountain', '2 Realm-Cloaked Giant', '1 Beanstalk Giant', '3 Once Upon a Time', '1 Castle Vantress', '2 Fabled Passage', '4 Circuitous Route', '1 Knight of Autumn', '1 Boros Guildgate', '1 Dimir Guildgate', '1 Simic Guildgate', '1 Temple of Malady', '2 Disdainful Stroke', '1 Blossoming Sands', '1 Thornwood Falls', '1 Tranquil Cove', '3 Devout Decree', '3 Aether Gust', '4 Agent of Treachery', '1 Veil of Summer', '4 Golos, Tireless Pilgrim', '4 Field of the Dead', '2 Temple Garden', '2 Deputy of Detention', '4 Growth Spiral', '3 Hydroid Krasis', '1 Plaza of Harmony', '1 Azorius Guildgate', '1 Selesnya Guildgate', '1 Temple of Mystery', '2 Arboreal Grazer', '4 Teferi, Time Raveler', '2 Time Wipe', '\"/>']                              7\n",
       "['3 Glacial Fortress', '4 Breeding Pool', '3 Hallowed Fountain', \"2 Teshar, Ancestor's Apostle\", \"2 Urza's Ruinous Blast\", '4 Diligent Excavator', '4 Mox Amber', '1 Knight of Autumn', '4 Lazav, the Multifarious', '1 Godless Shrine', '1 Woodland Cemetery', '3 Temple of Malady', '2 Cerulean Drake', \"2 Legion's End\", '4 Kethis, the Hidden Hand', '2 Temple Garden', '4 Watery Grave', '1 Deputy of Detention', '1 Temple of Mystery', '3 Temple of Silence', '4 Fblthp, the Lost', '1 Jace, Wielder of Mysteries', '1 The Elderspell', '4 Oath of Kaya', '2 Sorin, Vengeful Bloodlord', '4 Tamiyo, Collector of Tales', '4 Teferi, Time Raveler', '1 Time Wipe', '3 Ashiok, Dream Render', '\"/>']                                                                                                                                                    6\n",
       "['4 Shock', '17 Mountain', '4 Rimrock Knight', '4 Robber of the Rich', '3 Slaying Fire', '4 Castle Embereth', '4 Fervent Champion', '4 Torbran, Thane of Red Fell', '4 Experimental Frenzy', '4 Lava Coil', '4 Runaway Steam-Kin', \"2 Chandra's Pyrohelix\", '4 Chandra, Acolyte of Flame', '4 Scorch Spitter', '2 Light Up the Stage', '1 Skewer the Critics', '2 Footlight Fiend', '4 Tibalt, Rakish Instigator', '\"/>']                                                                                                                                                                                                                                                                                                                                                                                                                                    6\n",
       "['2 Shock', '7 Forest', '4 Mountain', '1 Plains', '1 Deafening Silence', '1 The Great Henge', '2 Questing Beast', '1 Castle Embereth', '1 Castle Garenbrig', '4 Kraul Harpooner', '4 Nullhide Ferox', '4 Pelt Collector', '2 Deafening Clarion', '2 Justice Strike', '2 Knight of Autumn', '4 Stomping Ground', '3 Shifting Ceratops', '3 Veil of Summer', '1 Vivien, Arkbow Ranger', '2 Sacred Foundry', '4 Temple Garden', '2 Cindervines', '1 Domri, Chaos Bringer', '4 Gruul Spellbreaker', '2 Collision-Colossus', '2 Thrash-Threat', '1 Ilharg, the Raze-Boar', '2 Nissa, Who Shakes the World', '4 Paradise Druid', '2 Domri, Anarch of Bolas', '\"/>']                                                                                                                                                                                                6\n",
       "['1 Planar Cleansing', '3 Island', '2 Mountain', '1 Plains', '4 Hallowed Fountain', \"1 True Love's Kiss\", '1 Brazen Borrower', '4 Fae of Wishes', '4 Fires of Invention', '3 Castle Vantress', '3 Fabled Passage', '1 Garruk, Cursed Huntsman', '2 Kenrith, the Returned King', '4 Deafening Clarion', '4 Steam Vents', '3 Temple of Epiphany', '2 Aether Gust', '1 Agent of Treachery', '2 Cavalier of Gales', '2 Drawn from Dreams', '4 Cavalier of Flame', '1 Chandra, Awakened Inferno', '2 Sacred Foundry', '1 Sphinx of Foresight', \"1 Kaya's Wrath\", '2 Temple of Triumph', '3 Prison Realm', '1 Command the Dreadhorde', '1 The Elderspell', '1 Planewide Celebration', '1 Casualties of War', '1 Enter the God-Eternals', '1 Nicol Bolas, Dragon-God', '1 Solar Blaze', '3 Teferi, Time Raveler', '2 Time Wipe', '1 Sorcerous Spyglass', '\"/>']     6\n",
       "['6 Forest', '4 Swamp', '4 Blood Crypt', '4 Cauldron Familiar', '3 Murderous Rider', '1 Giant Opportunity', '4 Gilded Goose', '4 Once Upon a Time', '4 Trail of Crumbs', '3 Wicked Wolf', \"4 Witch's Oven\", '2 Castle Locthwain', '4 Lovestruck Beast', '1 Korvold, Fae-Cursed King', '1 Midnight Reaper', '4 Stomping Ground', '4 Rotting Regisaur', '2 Veil of Summer', '4 Overgrown Tomb', '2 Thrashing Brontodon', '3 Duress', '3 Massacre Girl', '4 Mayhem Devil', '\"/>']                                                                                                                                                                                                                                                                                                                                                                               6\n",
       "                                                                                                                                                                                                                                                                                                                                                                                                                                                                                                                                                                                                                                                                                                                                                                                                                                                            ..\n",
       "['2 Shock', '5 Mountain', '7 Plains', '2 Healing Grace', '1 Lyra Dawnbringer', '1 Shalai, Voice of Plenty', '2 Lava Coil', '3 Legion Warboss', '2 Integrity-Intervention', '2 Boros Guildgate', '4 Clifftop Retreat', '4 Defiant Strike', '2 Ajani, Adversary of Tyrants', '2 Demystify', '4 Sacred Foundry', '4 Reckless Rage', \"2 Justiciar's Portal\", '1 Thrash-Threat', '2 Gideon Blackblade', '4 Dreadhorde Arcanist', \"2 Samut's Sprint\", '1 Tibalt, Rakish Instigator', '4 Feather, the Redeemed', '4 Tenth District Legionnaire', '2 Adanto Vanguard', '3 Tocatli Honor Guard', '3 Sheltering Light', '\"/>']                                                                                                                                                                                                                                         1\n",
       "['4 Ensoul Artifact', '3 Stoke the Flames', '8 Mountain', '4 Shivan Reef', '4 Darksteel Citadel', '1 Rending Volley', '4 Roast', '4 Wild Slash', '4 Ghostfire Blade', '4 Swiftwater Cliffs', '4 Springleaf Drum', '4 Shrapnel Blast', '1 Bloodstained Mire', '4 Exquisite Firecraft', '4 Pia and Kiran Nalaar', '4 Thopter Engineer', '4 Chief of the Foundry', '4 Hangarback Walker', '4 Ornithopter', '2 Smash to Smithereens', '\"/>']                                                                                                                                                                                                                                                                                                                                                                                                                     1\n",
       "['6 Forest', '1 Mountain', '4 Swamp', '4 Llanowar Wastes', '3 Transgress the Mind', '1 Cinder Glade', '4 Smoldering Marsh', '1 Mindwrack Demon', '2 Den Protector', '2 Distended Mindbender', '2 Emrakul, the Promised End', '3 Liliana, the Last Hope', '4 Grapple with the Past', '3 Ishkanah, Grafwidow', \"3 Kozilek's Return\", '2 Pulse of Murasa', '4 Languish', '4 Fiery Impulse', '2 Nissa, Vastwood Seer', '4 Evolving Wilds', '1 Ultimate Price', '2 Pick the Brain', '2 To the Slaughter', '3 Traverse the Ulvenwald', '3 Vessel of Nascency', '1 Duress', '1 Dragonmaster Outcast', \"3 Pilgrim's Eye\", '\"/>']                                                                                                                                                                                                                                     1\n",
       "['4 Drowned Catacomb', '4 Glacial Fortress', '1 Swamp', '4 Hallowed Fountain', '1 Karn, Scion of Urza', '2 Cast Down', '4 Teferi, Hero of Dominaria', '4 Thought Erasure', '4 Godless Shrine', '4 Isolated Chapel', '4 Watery Grave', '3 Moment of Craving', '2 Cry of the Carnarium', '2 Kaya, Orzhov Usurper', \"4 Kaya's Wrath\", '2 Kasmina, Enigmatic Mentor', '4 Narset, Parter of Veils', '1 Command the Dreadhorde', '3 The Elderspell', '2 Liliana, Dreadhorde General', \"3 Dovin's Veto\", '2 Enter the God-Eternals', '3 Oath of Kaya', '4 Teferi, Time Raveler', \"2 Ixalan's Binding\", '2 Spell Pierce', '\"/>']                                                                                                                                                                                                                                     1\n",
       "['4 Glacial Fortress', '4 Sunpetal Grove', '1 Forest', '1 Island', '3 Llanowar Elves', '1 Plains', '4 Breeding Pool', '2 Hallowed Fountain', '2 Lyra Dawnbringer', '2 Shalai, Voice of Plenty', '4 Knight of Autumn', '2 March of the Multitudes', '2 Trostani Discordant', '4 Hinterland Harbor', '1 Vivien Reid', '4 Negate', '4 Temple Garden', '1 The Immortal Sun', '4 Hero of Precinct One', '4 Growth-Chamber Guardian', '2 Incubation Druid', '4 Deputy of Detention', '4 Hydroid Krasis', '3 Incubation-Incongruity', \"2 Ixalan's Binding\", '3 Settle the Wreckage', \"1 River's Rebuke\", '2 Carnage Tyrant', '\"/>']                                                                                                                                                                                                                                 1\n",
       "['3 Essence Scatter', '4 Drowned Catacomb', '7 Island', '6 Swamp', '4 Disallow', '4 Fatal Push', '1 Censor', '1 Hieroglyphic Illumination', '2 Commit-Memory', '4 Fetid Pools', '2 The Scarab God', '4 Glimmer of Genius', '4 Torrential Gearhulk', '3 Contraband Kingpin', '2 Negate', '2 Submerged Boneyard', '1 Nezahal, Primal Tide', '1 Golden Demise', '4 Moment of Craving', '3 Duress', '2 Search for Azcanta', \"1 Arguel's Blood Fast\", '2 Deadeye Tracker', \"4 Vraska's Contempt\", '1 Treasure Map', '3 Field of Ruin', '\"/>']                                                                                                                                                                                                                                                                                                                     1\n",
       "['4 Dragonskull Summit', '6 Mountain', '8 Swamp', '2 Banefire', '4 Blood Crypt', '4 Goblin Chainwhirler', '2 Experimental Frenzy', '4 Goblin Instigator', '4 Fanatical Firebrand', '1 Drill Bit', '4 Gutterbones', '4 Spawn of Mayhem', '4 Rix Maadi Reveler', '4 Skewer the Critics', '1 Bedevil', '4 Fireblade Artist', '4 Judith, the Scourge Diva', '2 Theater of Horrors', '4 Lightning Strike', '2 Duress', '2 Vicious Conquistador', '1 Fiery Cannonade', '\"/>']                                                                                                                                                                                                                                                                                                                                                                                      1\n",
       "['6 Island', '10 Plains', '4 Gideon, Ally of Zendikar', '4 Stasis Snare', '2 Spell Shrivel', '4 Prairie Stream', '2 Blessed Alliance', '4 Selfless Spirit', '1 Thalia, Heretic Cathar', '4 Spell Queller', '2 Fragmentize', '1 Ceremonious Rejection', \"4 Smuggler's Copter\", '1 Negate', '2 Linvala, the Preserver', '2 Void Shatter', '4 Reflector Mage', '4 Archangel Avacyn', '3 Declaration in Stone', '4 Thraben Inspector', '2 Jace, Unraveler of Secrets', '4 Port Town', '1 Westvale Abbey', '\"/>']                                                                                                                                                                                                                                                                                                                                                 1\n",
       "['2 Essence Scatter', '4 Glacial Fortress', '5 Island', '1 Plains', '1 Invoke the Divine', '1 Lyra Dawnbringer', '2 Seal Away', '4 Teferi, Hero of Dominaria', \"4 Chemister's Insight\", '4 Sinister Sabotage', '2 Lava Coil', '2 Legion Warboss', '3 Crackling Drake', '4 Deafening Clarion', '2 Justice Strike', '3 Niv-Mizzet, Parun', '1 Ral, Izzet Viceroy', '2 Expansion-Explosion', '4 Steam Vents', '4 Clifftop Retreat', '4 Sulfur Falls', '1 Disdainful Stroke', '2 Cleansing Nova', '3 Revitalize', '2 Negate', '2 Syncopate', '4 Sacred Foundry', \"1 Ixalan's Binding\", '1 Settle the Wreckage', '\"/>']                                                                                                                                                                                                                                           1\n",
       "['2 Drowned Catacomb', '3 Forest', '4 Llanowar Elves', '4 Breeding Pool', '2 Cast Down', \"3 Assassin's Trophy\", '2 Vraska, Golgari Queen', '3 Hinterland Harbor', '4 Woodland Cemetery', '2 Negate', '4 Overgrown Tomb', '4 Watery Grave', '4 Jadelight Ranger', '3 Thrashing Brontodon', '2 Cry of the Carnarium', '4 Hydroid Krasis', '2 Duress', '3 Command the Dreadhorde', '2 The Elderspell', '3 Nissa, Who Shakes the World', '3 Tamiyo, Collector of Tales', '4 Merfolk Branchwalker', '2 Ripjaw Raptor', '4 Wildgrowth Walker', '2 Hostage Taker', '\"/>']                                                                                                                                                                                                                                                                                           1\n",
       "['2 Mountain', '3 Swamp', '1 Battlefield Forge', '2 Transgress the Mind', '1 Ob Nixilis Reignited', '1 Painful Truths', '2 Ruinous Path', '3 Radiant Flames', '1 Canopy Vista', '1 Prairie Stream', '4 Shambling Vent', '2 Smoldering Marsh', '1 Roast', \"3 Kolaghan's Command\", '3 Soulfire Grand Master', '1 Outpost Siege', '1 Murderous Cut', '4 Crackling Doom', '1 Cranial Archive', '3 Kalitas, Traitor of Ghet', '1 Chandra, Flamecaller', '4 Goblin Dark-Dwellers', '2 Ayli, Eternal Pilgrim', '1 Needle Spires', '2 Bloodstained Mire', '4 Polluted Delta', '4 Wooded Foothills', '3 Hallowed Moonlight', '1 Infinite Obliteration', '4 Fiery Impulse', '1 Pia and Kiran Nalaar', '2 Hangarback Walker', '1 Nomad Outpost', '2 Read the Bones', '3 Duress', '\"/>']                                                                                 1\n",
       "['1 Glacial Fortress', '1 Sunpetal Grove', '2 Forest', '2 Island', '1 Plains', '2 Breeding Pool', '2 Hallowed Fountain', '1 Grow from the Ashes', '1 Memorial to Genius', '4 Circuitous Route', '1 Simic Guildgate', '1 Hinterland Harbor', '1 Blossoming Sands', '1 Thornwood Falls', '1 Tranquil Cove', '4 Elvish Rejuvenator', '2 Devout Decree', '3 Agent of Treachery', '2 Veil of Summer', '4 Field of the Dead', '4 Scapeshift', '2 Temple Garden', '3 Baffling End', '1 The Immortal Sun', '2 Deputy of Detention', '4 Growth Spiral', '4 Hydroid Krasis', '1 Azorius Guildgate', '1 Selesnya Guildgate', '2 Temple of Mystery', '2 Arboreal Grazer', \"1 Dovin's Veto\", '4 Teferi, Time Raveler', '3 Time Wipe', '2 Ashiok, Dream Render', '1 Blast Zone', '1 Field of Ruin', '\"/>']                                                                 1\n",
       "['2 Augur of Bolas', '4 Shock', '7 Island', '6 Mountain', '2 Radical Idea', '4 Arclight Phoenix', '4 Lava Coil', '3 Legion Warboss', '2 Beacon Bolt', '2 Crackling Drake', '2 Discovery-Dispersal', '4 Steam Vents', '4 Opt', '4 Sulfur Falls', '4 Goblin Electromancer', '2 Disdainful Stroke', '2 Tormenting Voice', '2 Negate', '2 Lightning Strike', '2 Narset, Parter of Veils', '2 Finale of Promise', '3 Saheeli, Sublime Artificer', '4 Chart a Course', '2 Spell Pierce', '\"/>']                                                                                                                                                                                                                                                                                                                                                                    1\n",
       "['3 Glacial Fortress', '4 Shock', '4 Hallowed Fountain', '2 Karn, Scion of Urza', '2 Lyra Dawnbringer', '1 Teferi, Hero of Dominaria', '2 Lava Coil', '4 Legion Warboss', '4 Deafening Clarion', '4 Steam Vents', '4 Opt', '1 Clifftop Retreat', '3 Sulfur Falls', '4 Sacred Foundry', '2 Prison Realm', '4 Narset, Parter of Veils', '4 Sarkhan the Masterless', \"3 Dovin's Veto\", '4 Teferi, Time Raveler', '3 Saheeli, Sublime Artificer', '4 Interplanar Beacon', '2 Mobilized District', \"1 Ixalan's Binding\", '2 Search for Azcanta', \"1 River's Rebuke\", '3 Spell Pierce', '\"/>']                                                                                                                                                                                                                                                                     1\n",
       "['5 Plains', '5 Swamp', '4 Fatal Push', '3 Approach of the Second Sun', '4 Cast Out', '1 Dispossess', '1 Torment of Hailfire', '1 Scavenger Grounds', '4 Authority of the Consuls', '3 Fumigate', '3 Lost Legacy', '4 Concealed Courtyard', \"2 Mastermind's Acquisition\", '4 Moment of Craving', '1 Profane Procession', \"1 Azor's Gateway\", '4 Arch of Orazca', '4 Forsaken Sanctuary', '4 Duress', '4 Settle the Wreckage', \"3 Vraska's Contempt\", '4 Thaumatic Compass', '4 Treasure Map', '2 Field of Ruin', '\"/>']                                                                                                                                                                                                                                                                                                                                      1\n",
       "['4 Glacial Fortress', '5 Forest', '1 Island', '4 Llanowar Elves', '4 Breeding Pool', '4 Hallowed Fountain', '2 Lyra Dawnbringer', '2 Shalai, Voice of Plenty', '4 Hinterland Harbor', '2 Thorn Lieutenant', '3 Negate', '4 Temple Garden', '4 Mass Manipulation', '4 Incubation Druid', '1 Deputy of Detention', '2 Frilled Mystic', '4 Hydroid Krasis', '4 Nissa, Who Shakes the World', '4 Paradise Druid', '4 Teferi, Time Raveler', '3 Tolsimir, Friend to Wolves', '2 Entrancing Melody', \"1 River's Rebuke\", '3 Ripjaw Raptor', '\"/>']                                                                                                                                                                                                                                                                                                                1\n",
       "['1 Murder', '1 Island', '8 Swamp', '3 Transgress the Mind', '1 Ob Nixilis Reignited', '1 Ruinous Path', '1 Blighted Fen', '4 Sunken Hollow', '1 Distended Mindbender', '2 Eternal Scourge', '2 Unsubstantiate', '4 Cryptbreaker', '4 Haunted Dead', '2 Liliana, the Last Hope', '3 Voldaren Pariah', '1 Geier Reach Sanitarium', '1 Key to the City', '4 Scrapheap Scrounger', \"4 Smuggler's Copter\", '3 Negate', '3 Kalitas, Traitor of Ghet', '3 Submerged Boneyard', '2 Evolving Wilds', '2 Murderous Compulsion', '2 To the Slaughter', '4 Prized Amalgam', '4 Choked Estuary', '4 Grasp of Darkness', '\"/>']                                                                                                                                                                                                                                           1\n",
       "['5 Forest', '3 Island', '1 Mountain', '1 Release the Gremlins', '3 Rogue Refiner', '2 Manglehorn', '1 Sheltered Thicket', '2 Radiant Flames', '1 Lumbering Falls', '2 Sanctum of Ugin', '4 Elder Deep-Fiend', '4 Grapple with the Past', '3 Ishkanah, Grafwidow', '4 Primal Druid', '1 Confiscation Coup', '2 Harnessed Lightning', '1 Filigree Familiar', '4 Aether Hub', '3 Botanical Sanctum', '1 Spirebluff Canal', '2 Negate', \"4 Kozilek's Return\", '1 World Breaker', '2 Pulse of Murasa', '2 Evolving Wilds', '4 Tireless Tracker', '4 Traverse the Ulvenwald', '4 Vessel of Nascency', '2 Fevered Visions', '2 Dispel', '\"/>']                                                                                                                                                                                                                     1\n",
       "['3 Essence Scatter', '2 Drowned Catacomb', '3 Forest', '1 Island', '2 Swamp', '4 Fatal Push', '4 Glint-Sleeve Siphoner', '4 Rogue Refiner', '2 Vizier of Many Faces', '2 Fetid Pools', '1 Supreme Will', '3 The Scarab God', '2 Confiscation Coup', '3 Essence Extraction', '1 Gonti, Lord of Luxury', '2 Appetite for the Unnatural', '4 Attune with Aether', '3 Bristling Hydra', '4 Servant of the Conduit', '4 Aether Hub', '4 Blooming Marsh', '4 Botanical Sanctum', '3 Negate', '4 Duress', \"1 River's Rebuke\", \"3 Vraska's Contempt\", '2 Vraska, Relic Seeker', '\"/>']                                                                                                                                                                                                                                                                              1\n",
       "['4 Dragonskull Summit', '14 Mountain', '1 Swamp', '2 Kari Zev, Skyship Raider', '2 Heart of Kiran', '1 Ahn-Crop Crasher', '3 Glorybringer', '3 Hazoret the Fervent', '2 Soul-Scar Mage', '4 Canyon Slough', '4 Goblin Chainwhirler', '2 Doomfall', '2 Hour of Glory', '3 Abrade', \"2 Chandra's Defeat\", '3 Chandra, Torch of Defiance', '2 Pia Nalaar', '2 Unlicensed Disintegration', '4 Bomat Courier', '4 Scrapheap Scrounger', '2 Aether Hub', '2 Rekindling Phoenix', '2 Magma Spray', '2 Lightning Strike', '3 Duress', '\"/>']                                                                                                                                                                                                                                                                                                                        1\n",
       "['22 Forest', '4 Llanowar Elves', '4 Steel Leaf Champion', '4 Adventurous Impulse', '4 Kraul Harpooner', '4 Nullhide Ferox', '4 Pelt Collector', '4 Prey Upon', '4 Thorn Lieutenant', '3 Vivien Reid', '3 Ghalta, Primal Hunger', '4 Thrashing Brontodon', '3 Biogenic Ooze', '2 End-Raze Forerunners', '3 Deathgorge Scavenger', '3 Crushing Canopy', '\"/>']                                                                                                                                                                                                                                                                                                                                                                                                                                                                                                1\n",
       "['4 Ensoul Artifact', '3 Stoke the Flames', '8 Mountain', '4 Shivan Reef', '3 Searing Blood', '4 Darksteel Citadel', '2 Rending Volley', '4 Roast', '1 Mana Confluence', '4 Ghostfire Blade', '4 Swiftwater Cliffs', '3 Springleaf Drum', '2 Phyrexian Revoker', '2 Negate', '4 Shrapnel Blast', '4 Exquisite Firecraft', '4 Pia and Kiran Nalaar', '3 Thopter Engineer', '4 Chief of the Foundry', '4 Hangarback Walker', '4 Ornithopter', '\"/>']                                                                                                                                                                                                                                                                                                                                                                                                           1\n",
       "['4 Drowned Catacomb', '4 Glacial Fortress', '1 Plains', '1 Swamp', '4 Hallowed Fountain', '3 Teferi, Hero of Dominaria', '4 Thought Erasure', '2 Unmoored Ego', '1 Mortify', '4 Godless Shrine', '3 Isolated Chapel', '2 Devout Decree', \"2 Legion's End\", '2 Noxious Grasp', '4 Watery Grave', '1 Cry of the Carnarium', '3 Basilica Bell-Haunt', '1 Kaya, Orzhov Usurper', \"3 Kaya's Wrath\", '1 Temple of Silence', '4 Narset, Parter of Veils', \"1 Bolas's Citadel\", '1 Command the Dreadhorde', '2 The Elderspell', '1 Liliana, Dreadhorde General', '2 Despark', \"1 Dovin's Veto\", '2 Enter the God-Eternals', '3 Oath of Kaya', '4 Teferi, Time Raveler', \"1 Tyrant's Scorn\", '2 Ashiok, Dream Render', '1 Search for Azcanta', '\"/>']                                                                                                                1\n",
       "['4 Rootbound Crag', '4 Shock', '1 Forest', '4 Llanowar Elves', '2 Mountain', '4 Breeding Pool', '1 Lava Coil', '4 Steam Vents', '4 Stomping Ground', '3 Hinterland Harbor', '1 Vivien Reid', '2 Aether Gust', '2 Chandra, Acolyte of Flame', '2 Chandra, Awakened Inferno', '4 Fry', '4 Leafkin Druid', '3 Shifting Ceratops', '4 Omnath, Locus of the Roil', '4 Risen Reef', '4 Jadelight Ranger', '2 Thrashing Brontodon', '3 Lightning Strike', '2 Temple of Mystery', '1 Living Twister', '2 Ripjaw Raptor', '4 Wildgrowth Walker', '\"/>']                                                                                                                                                                                                                                                                                                              1\n",
       "['4 Glacial Fortress', '5 Island', '1 Karn, Scion of Urza', '1 Invoke the Divine', '2 Lyra Dawnbringer', '2 Seal Away', '1 Fight with Fire', '4 Teferi, Hero of Dominaria', \"2 Chemister's Insight\", '2 Lava Coil', '3 Legion Warboss', '2 Crackling Drake', '3 Deafening Clarion', '2 Justice Strike', '2 Niv-Mizzet, Parun', '2 Expansion-Explosion', '4 Steam Vents', '3 Opt', '4 Clifftop Retreat', '4 Sulfur Falls', '1 Cleansing Nova', '2 Revitalize', '2 Negate', '2 Syncopate', '4 Sacred Foundry', '2 Dual Shot', \"1 Ixalan's Binding\", '1 Settle the Wreckage', '2 Sailor of Means', '2 Star of Extinction', '2 Treasure Map', '1 Spell Pierce', '\"/>']                                                                                                                                                                                           1\n",
       "['2 Forest', '2 Plains', '3 Caves of Koilos', '4 Llanowar Wastes', '2 Drown in Sorrow', '3 Herald of Torment', '2 Self-Inflicted Wound', '2 Den Protector', \"4 Dromoka's Command\", '2 Warden of the First Tree', '2 Ajani, Mentor of Heroes', '4 Temple of Malady', '4 Abzan Charm', '4 Anafenza, the Foremost', '4 Siege Rhino', '2 Sorin, Solemn Visitor', '4 Sandsteppe Citadel', '4 Thoughtseize', '4 Windswept Heath', '2 Tragic Arrogance', '4 Hangarback Walker', '1 Urborg, Tomb of Yawgmoth', '4 Ultimate Price', \"1 Elspeth, Sun's Champion\", '4 Fleecemane Lion', '1 Temple of Silence', '\"/>']                                                                                                                                                                                                                                                   1\n",
       "['8 Forest', '4 Llanowar Elves', '6 Swamp', '2 Crucible of Worlds', \"4 Assassin's Trophy\", '2 Vraska, Golgari Queen', '2 Woodland Cemetery', '2 Vivien Reid', '2 Overgrown Tomb', '3 Moment of Craving', '2 Ravenous Chupacabra', '4 Jadelight Ranger', '3 Thrashing Brontodon', '2 Golgari Guildgate', '4 Duress', '1 Command the Dreadhorde', '1 The Elderspell', \"2 Ob Nixilis's Cruelty\", '1 Nissa, Who Shakes the World', '2 Paradise Druid', '1 Planewide Celebration', '3 Casualties of War', '2 Carnage Tyrant', '4 Merfolk Branchwalker', '4 Wildgrowth Walker', '4 Field of Ruin', '\"/>']                                                                                                                                                                                                                                                          1\n",
       "['4 Dragonskull Summit', '17 Mountain', '1 Swamp', '4 Heart of Kiran', '2 Spire of Industry', '2 Glorybringer', '2 Soul-Scar Mage', '4 Canyon Slough', '2 Karn, Scion of Urza', '4 Goblin Chainwhirler', '4 Abrade', '1 Ifnir Deadlands', '1 Scavenger Grounds', '3 Chandra, Torch of Defiance', '2 Pia Nalaar', '4 Unlicensed Disintegration', '4 Bomat Courier', '4 Scrapheap Scrounger', '1 Dire Fleet Daredevil', '4 Rekindling Phoenix', '1 Angrath, the Flame-Chained', '2 Magma Spray', '3 Duress', '2 Heartless Pillage', \"1 Vance's Blasting Cannons\", '1 Treasure Map', '\"/>']                                                                                                                                                                                                                                                                     1\n",
       "['3 Glacial Fortress', '4 Sunpetal Grove', '3 Forest', '4 Llanowar Elves', '4 Breeding Pool', '4 Hallowed Fountain', '4 Venerated Loxodon', '4 Pelt Collector', '2 Emmara, Soul of the Accord', '2 Knight of Autumn', '1 Trostani Discordant', '4 Chamber Sentry', '1 Hinterland Harbor', '1 Disdainful Stroke', '1 Ajani, Adversary of Tyrants', '3 Negate', '4 Temple Garden', '4 Baffling End', '4 Growth-Chamber Guardian', '4 Deputy of Detention', '2 Nissa, Who Shakes the World', '4 Vivien, Champion of the Wilds', \"4 Huatli's Raptor\", '4 Teferi, Time Raveler', '\"/>']                                                                                                                                                                                                                                                                           1\n",
       "['1 Doom Blade', '2 Sign in Blood', '4 Dragonskull Summit', '4 Lifebane Zombie', '3 Chandra, Pyromaster', '4 Mountain', '10 Swamp', '4 Blood Crypt', '2 Tragic Slip', '3 Devour Flesh', \"2 Curse of Death's Hold\", '3 Liliana of the Veil', '2 Victim of Night', '2 Olivia Voldaren', '1 Mutavault', '2 Evolving Wilds', '4 Desecration Demon', '2 Ultimate Price', '2 Underworld Connections', '3 Dreadbore', \"2 Rakdos's Return\", '2 Slaughter Games', '3 Mutilate', '4 Duress', '4 Vampire Nighthawk', '\"/>']                                                                                                                                                                                                                                                                                                                                             1\n",
       "Name: deck_list, Length: 388, dtype: int64"
      ]
     },
     "execution_count": 38,
     "metadata": {},
     "output_type": "execute_result"
    }
   ],
   "source": [
    "decks_clean.deck_list.value_counts()"
   ]
  },
  {
   "cell_type": "code",
   "execution_count": null,
   "metadata": {},
   "outputs": [],
   "source": []
  }
 ],
 "metadata": {
  "kernelspec": {
   "display_name": "Python 3",
   "language": "python",
   "name": "python3"
  },
  "language_info": {
   "codemirror_mode": {
    "name": "ipython",
    "version": 3
   },
   "file_extension": ".py",
   "mimetype": "text/x-python",
   "name": "python",
   "nbconvert_exporter": "python",
   "pygments_lexer": "ipython3",
   "version": "3.7.3"
  }
 },
 "nbformat": 4,
 "nbformat_minor": 4
}
