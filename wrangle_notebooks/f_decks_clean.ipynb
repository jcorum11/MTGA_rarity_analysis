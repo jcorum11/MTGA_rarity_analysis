{
 "cells": [
  {
   "cell_type": "code",
   "execution_count": 2,
   "metadata": {},
   "outputs": [],
   "source": [
    "# Load all packages necessary for analysis\n",
    "import pandas as pd\n",
    "import numpy as np\n",
    "import requests\n",
    "from bs4 import BeautifulSoup\n",
    "import json\n",
    "import re\n",
    "import os\n",
    "import timeit\n",
    "import filecmp"
   ]
  },
  {
   "cell_type": "markdown",
   "metadata": {},
   "source": [
    "# decks_clean"
   ]
  },
  {
   "cell_type": "markdown",
   "metadata": {},
   "source": [
    "## Gather"
   ]
  },
  {
   "cell_type": "code",
   "execution_count": 62,
   "metadata": {},
   "outputs": [],
   "source": [
    "dir_names = []\n",
    "curdir = 'C:/Users/muroc/Documents/MTG/html_files'\n",
    "\n",
    "with os.scandir(curdir) as folder:\n",
    "    for file in folder:\n",
    "        if file.is_file():\n",
    "            dir_names.append(file.name)"
   ]
  },
  {
   "cell_type": "code",
   "execution_count": 63,
   "metadata": {},
   "outputs": [],
   "source": [
    "decks = []\n",
    "for i in np.arange(np.count_nonzero(dir_names)):\n",
    "    with open(str(curdir) + '/' + str(dir_names[i])) as file:\n",
    "        soup = BeautifulSoup(file, 'lxml')\n",
    "    cards = soup.find(lambda tag: tag.name=='input' and tag.has_attr('name') and tag['name']=='c')\n",
    "    decks.append(cards)"
   ]
  },
  {
   "cell_type": "code",
   "execution_count": 64,
   "metadata": {},
   "outputs": [],
   "source": [
    "deck_urls = pd.read_csv('~/Documents/MTG/data/deck_urls.csv')"
   ]
  },
  {
   "cell_type": "code",
   "execution_count": 65,
   "metadata": {},
   "outputs": [],
   "source": [
    "decks_dict = {\"deck_list\": decks}\n",
    "decks_clean = pd.DataFrame(decks_dict)"
   ]
  },
  {
   "cell_type": "code",
   "execution_count": 66,
   "metadata": {},
   "outputs": [],
   "source": [
    "decks_clean.to_csv('~/Documents/MTG/data/deck_list.csv', index=False)"
   ]
  },
  {
   "cell_type": "markdown",
   "metadata": {},
   "source": [
    "## Assess"
   ]
  },
  {
   "cell_type": "code",
   "execution_count": 82,
   "metadata": {},
   "outputs": [
    {
     "data": {
      "text/html": [
       "<div>\n",
       "<style scoped>\n",
       "    .dataframe tbody tr th:only-of-type {\n",
       "        vertical-align: middle;\n",
       "    }\n",
       "\n",
       "    .dataframe tbody tr th {\n",
       "        vertical-align: top;\n",
       "    }\n",
       "\n",
       "    .dataframe thead th {\n",
       "        text-align: right;\n",
       "    }\n",
       "</style>\n",
       "<table border=\"1\" class=\"dataframe\">\n",
       "  <thead>\n",
       "    <tr style=\"text-align: right;\">\n",
       "      <th></th>\n",
       "      <th>url</th>\n",
       "      <th>name</th>\n",
       "      <th>player</th>\n",
       "      <th>deck_list</th>\n",
       "    </tr>\n",
       "  </thead>\n",
       "  <tbody>\n",
       "    <tr>\n",
       "      <th>0</th>\n",
       "      <td>https://www.mtgtop8.com/https://www.mtgtop8.co...</td>\n",
       "      <td>4c_Elementals.html.txt</td>\n",
       "      <td>Robert_Lippmann</td>\n",
       "      <td>&lt;input name=\"c\" type=\"hidden\" value=\"13 Forest...</td>\n",
       "    </tr>\n",
       "    <tr>\n",
       "      <th>1</th>\n",
       "      <td>https://www.mtgtop8.com/https://www.mtgtop8.co...</td>\n",
       "      <td>Omnath.html.txt</td>\n",
       "      <td>Clarence_Dews</td>\n",
       "      <td>&lt;input name=\"c\" type=\"hidden\" value=\"10 Forest...</td>\n",
       "    </tr>\n",
       "    <tr>\n",
       "      <th>2</th>\n",
       "      <td>https://www.mtgtop8.com/https://www.mtgtop8.co...</td>\n",
       "      <td>4colour_Good_Stuff.html.txt</td>\n",
       "      <td>Yohan_Dudognon</td>\n",
       "      <td>&lt;input name=\"c\" type=\"hidden\" value=\"2 Essence...</td>\n",
       "    </tr>\n",
       "    <tr>\n",
       "      <th>3</th>\n",
       "      <td>https://www.mtgtop8.com/https://www.mtgtop8.co...</td>\n",
       "      <td>4c_Sun.html.txt</td>\n",
       "      <td>Aaron_Barich</td>\n",
       "      <td>&lt;input name=\"c\" type=\"hidden\" value=\"1 Planar ...</td>\n",
       "    </tr>\n",
       "    <tr>\n",
       "      <th>4</th>\n",
       "      <td>https://www.mtgtop8.com/https://www.mtgtop8.co...</td>\n",
       "      <td>4c_Energy.html.txt</td>\n",
       "      <td>rushi_00</td>\n",
       "      <td>&lt;input name=\"c\" type=\"hidden\" value=\"6 Forest|...</td>\n",
       "    </tr>\n",
       "  </tbody>\n",
       "</table>\n",
       "</div>"
      ],
      "text/plain": [
       "                                                 url  \\\n",
       "0  https://www.mtgtop8.com/https://www.mtgtop8.co...   \n",
       "1  https://www.mtgtop8.com/https://www.mtgtop8.co...   \n",
       "2  https://www.mtgtop8.com/https://www.mtgtop8.co...   \n",
       "3  https://www.mtgtop8.com/https://www.mtgtop8.co...   \n",
       "4  https://www.mtgtop8.com/https://www.mtgtop8.co...   \n",
       "\n",
       "                          name           player  \\\n",
       "0       4c_Elementals.html.txt  Robert_Lippmann   \n",
       "1              Omnath.html.txt    Clarence_Dews   \n",
       "2  4colour_Good_Stuff.html.txt   Yohan_Dudognon   \n",
       "3              4c_Sun.html.txt     Aaron_Barich   \n",
       "4           4c_Energy.html.txt         rushi_00   \n",
       "\n",
       "                                           deck_list  \n",
       "0  <input name=\"c\" type=\"hidden\" value=\"13 Forest...  \n",
       "1  <input name=\"c\" type=\"hidden\" value=\"10 Forest...  \n",
       "2  <input name=\"c\" type=\"hidden\" value=\"2 Essence...  \n",
       "3  <input name=\"c\" type=\"hidden\" value=\"1 Planar ...  \n",
       "4  <input name=\"c\" type=\"hidden\" value=\"6 Forest|...  "
      ]
     },
     "execution_count": 82,
     "metadata": {},
     "output_type": "execute_result"
    }
   ],
   "source": [
    "deck_urls.head()"
   ]
  },
  {
   "cell_type": "code",
   "execution_count": 83,
   "metadata": {},
   "outputs": [
    {
     "data": {
      "text/html": [
       "<div>\n",
       "<style scoped>\n",
       "    .dataframe tbody tr th:only-of-type {\n",
       "        vertical-align: middle;\n",
       "    }\n",
       "\n",
       "    .dataframe tbody tr th {\n",
       "        vertical-align: top;\n",
       "    }\n",
       "\n",
       "    .dataframe thead th {\n",
       "        text-align: right;\n",
       "    }\n",
       "</style>\n",
       "<table border=\"1\" class=\"dataframe\">\n",
       "  <thead>\n",
       "    <tr style=\"text-align: right;\">\n",
       "      <th></th>\n",
       "      <th>url</th>\n",
       "      <th>name</th>\n",
       "      <th>player</th>\n",
       "      <th>deck_list</th>\n",
       "    </tr>\n",
       "  </thead>\n",
       "  <tbody>\n",
       "    <tr>\n",
       "      <th>0</th>\n",
       "      <td>https://www.mtgtop8.com/https://www.mtgtop8.co...</td>\n",
       "      <td>4c_Elementals</td>\n",
       "      <td>Robert_Lippmann</td>\n",
       "      <td>&lt;input name=\"c\" type=\"hidden\" value=\"13 Forest...</td>\n",
       "    </tr>\n",
       "    <tr>\n",
       "      <th>1</th>\n",
       "      <td>https://www.mtgtop8.com/https://www.mtgtop8.co...</td>\n",
       "      <td>Omnath</td>\n",
       "      <td>Clarence_Dews</td>\n",
       "      <td>&lt;input name=\"c\" type=\"hidden\" value=\"10 Forest...</td>\n",
       "    </tr>\n",
       "    <tr>\n",
       "      <th>2</th>\n",
       "      <td>https://www.mtgtop8.com/https://www.mtgtop8.co...</td>\n",
       "      <td>4colour_Good_Stuff</td>\n",
       "      <td>Yohan_Dudognon</td>\n",
       "      <td>&lt;input name=\"c\" type=\"hidden\" value=\"2 Essence...</td>\n",
       "    </tr>\n",
       "    <tr>\n",
       "      <th>3</th>\n",
       "      <td>https://www.mtgtop8.com/https://www.mtgtop8.co...</td>\n",
       "      <td>4c_Sun</td>\n",
       "      <td>Aaron_Barich</td>\n",
       "      <td>&lt;input name=\"c\" type=\"hidden\" value=\"1 Planar ...</td>\n",
       "    </tr>\n",
       "    <tr>\n",
       "      <th>4</th>\n",
       "      <td>https://www.mtgtop8.com/https://www.mtgtop8.co...</td>\n",
       "      <td>4c_Energy</td>\n",
       "      <td>rushi_00</td>\n",
       "      <td>&lt;input name=\"c\" type=\"hidden\" value=\"6 Forest|...</td>\n",
       "    </tr>\n",
       "  </tbody>\n",
       "</table>\n",
       "</div>"
      ],
      "text/plain": [
       "                                                 url                name  \\\n",
       "0  https://www.mtgtop8.com/https://www.mtgtop8.co...       4c_Elementals   \n",
       "1  https://www.mtgtop8.com/https://www.mtgtop8.co...              Omnath   \n",
       "2  https://www.mtgtop8.com/https://www.mtgtop8.co...  4colour_Good_Stuff   \n",
       "3  https://www.mtgtop8.com/https://www.mtgtop8.co...              4c_Sun   \n",
       "4  https://www.mtgtop8.com/https://www.mtgtop8.co...           4c_Energy   \n",
       "\n",
       "            player                                          deck_list  \n",
       "0  Robert_Lippmann  <input name=\"c\" type=\"hidden\" value=\"13 Forest...  \n",
       "1    Clarence_Dews  <input name=\"c\" type=\"hidden\" value=\"10 Forest...  \n",
       "2   Yohan_Dudognon  <input name=\"c\" type=\"hidden\" value=\"2 Essence...  \n",
       "3     Aaron_Barich  <input name=\"c\" type=\"hidden\" value=\"1 Planar ...  \n",
       "4         rushi_00  <input name=\"c\" type=\"hidden\" value=\"6 Forest|...  "
      ]
     },
     "execution_count": 83,
     "metadata": {},
     "output_type": "execute_result"
    }
   ],
   "source": [
    "decks_clean.head()"
   ]
  },
  {
   "cell_type": "markdown",
   "metadata": {},
   "source": [
    "### Assessment\n",
    "- [done] data from deck_urls.csv and deck_list.csv are of same object\n",
    "- [done] .html and .txt tags are irrelevant in name column\n",
    "- [done] `deck_list` may be type that is irrelevant\n",
    "-  `deck_list` column is one huge object\n",
    "- irrelevant characters in `deck_list` column\n",
    "- [done] deck_urls needs a copy to work with\n",
    "- multiple headers in `url` column because i must have ran the function too often"
   ]
  },
  {
   "cell_type": "markdown",
   "metadata": {},
   "source": [
    "## Clean"
   ]
  },
  {
   "cell_type": "markdown",
   "metadata": {},
   "source": [
    "#### Define\n",
    "- append deck_urls.csv and deck_list.csv together"
   ]
  },
  {
   "cell_type": "markdown",
   "metadata": {},
   "source": [
    "#### Code"
   ]
  },
  {
   "cell_type": "code",
   "execution_count": 68,
   "metadata": {},
   "outputs": [],
   "source": [
    "deck_urls['deck_list'] = decks_clean"
   ]
  },
  {
   "cell_type": "code",
   "execution_count": 70,
   "metadata": {},
   "outputs": [],
   "source": [
    "deck_urls.to_csv('~/Documents/MTG/data/decks_clean.csv')"
   ]
  },
  {
   "cell_type": "markdown",
   "metadata": {},
   "source": [
    "#### Test"
   ]
  },
  {
   "cell_type": "code",
   "execution_count": 69,
   "metadata": {},
   "outputs": [
    {
     "data": {
      "text/html": [
       "<div>\n",
       "<style scoped>\n",
       "    .dataframe tbody tr th:only-of-type {\n",
       "        vertical-align: middle;\n",
       "    }\n",
       "\n",
       "    .dataframe tbody tr th {\n",
       "        vertical-align: top;\n",
       "    }\n",
       "\n",
       "    .dataframe thead th {\n",
       "        text-align: right;\n",
       "    }\n",
       "</style>\n",
       "<table border=\"1\" class=\"dataframe\">\n",
       "  <thead>\n",
       "    <tr style=\"text-align: right;\">\n",
       "      <th></th>\n",
       "      <th>url</th>\n",
       "      <th>name</th>\n",
       "      <th>player</th>\n",
       "      <th>deck_list</th>\n",
       "    </tr>\n",
       "  </thead>\n",
       "  <tbody>\n",
       "    <tr>\n",
       "      <th>0</th>\n",
       "      <td>https://www.mtgtop8.com/https://www.mtgtop8.co...</td>\n",
       "      <td>4c_Elementals.html.txt</td>\n",
       "      <td>Robert_Lippmann</td>\n",
       "      <td>&lt;input name=\"c\" type=\"hidden\" value=\"13 Forest...</td>\n",
       "    </tr>\n",
       "    <tr>\n",
       "      <th>1</th>\n",
       "      <td>https://www.mtgtop8.com/https://www.mtgtop8.co...</td>\n",
       "      <td>Omnath.html.txt</td>\n",
       "      <td>Clarence_Dews</td>\n",
       "      <td>&lt;input name=\"c\" type=\"hidden\" value=\"10 Forest...</td>\n",
       "    </tr>\n",
       "    <tr>\n",
       "      <th>2</th>\n",
       "      <td>https://www.mtgtop8.com/https://www.mtgtop8.co...</td>\n",
       "      <td>4colour_Good_Stuff.html.txt</td>\n",
       "      <td>Yohan_Dudognon</td>\n",
       "      <td>&lt;input name=\"c\" type=\"hidden\" value=\"2 Essence...</td>\n",
       "    </tr>\n",
       "    <tr>\n",
       "      <th>3</th>\n",
       "      <td>https://www.mtgtop8.com/https://www.mtgtop8.co...</td>\n",
       "      <td>4c_Sun.html.txt</td>\n",
       "      <td>Aaron_Barich</td>\n",
       "      <td>&lt;input name=\"c\" type=\"hidden\" value=\"1 Planar ...</td>\n",
       "    </tr>\n",
       "    <tr>\n",
       "      <th>4</th>\n",
       "      <td>https://www.mtgtop8.com/https://www.mtgtop8.co...</td>\n",
       "      <td>4c_Energy.html.txt</td>\n",
       "      <td>rushi_00</td>\n",
       "      <td>&lt;input name=\"c\" type=\"hidden\" value=\"6 Forest|...</td>\n",
       "    </tr>\n",
       "  </tbody>\n",
       "</table>\n",
       "</div>"
      ],
      "text/plain": [
       "                                                 url  \\\n",
       "0  https://www.mtgtop8.com/https://www.mtgtop8.co...   \n",
       "1  https://www.mtgtop8.com/https://www.mtgtop8.co...   \n",
       "2  https://www.mtgtop8.com/https://www.mtgtop8.co...   \n",
       "3  https://www.mtgtop8.com/https://www.mtgtop8.co...   \n",
       "4  https://www.mtgtop8.com/https://www.mtgtop8.co...   \n",
       "\n",
       "                          name           player  \\\n",
       "0       4c_Elementals.html.txt  Robert_Lippmann   \n",
       "1              Omnath.html.txt    Clarence_Dews   \n",
       "2  4colour_Good_Stuff.html.txt   Yohan_Dudognon   \n",
       "3              4c_Sun.html.txt     Aaron_Barich   \n",
       "4           4c_Energy.html.txt         rushi_00   \n",
       "\n",
       "                                           deck_list  \n",
       "0  <input name=\"c\" type=\"hidden\" value=\"13 Forest...  \n",
       "1  <input name=\"c\" type=\"hidden\" value=\"10 Forest...  \n",
       "2  <input name=\"c\" type=\"hidden\" value=\"2 Essence...  \n",
       "3  <input name=\"c\" type=\"hidden\" value=\"1 Planar ...  \n",
       "4  <input name=\"c\" type=\"hidden\" value=\"6 Forest|...  "
      ]
     },
     "execution_count": 69,
     "metadata": {},
     "output_type": "execute_result"
    }
   ],
   "source": [
    "deck_urls.head()"
   ]
  },
  {
   "cell_type": "markdown",
   "metadata": {},
   "source": [
    "#### Define\n",
    "- create a copy of `deck_urls`"
   ]
  },
  {
   "cell_type": "markdown",
   "metadata": {},
   "source": [
    "#### Code"
   ]
  },
  {
   "cell_type": "code",
   "execution_count": 71,
   "metadata": {},
   "outputs": [],
   "source": [
    "decks_clean = deck_urls.copy()"
   ]
  },
  {
   "cell_type": "markdown",
   "metadata": {},
   "source": [
    "#### Test"
   ]
  },
  {
   "cell_type": "code",
   "execution_count": 72,
   "metadata": {},
   "outputs": [
    {
     "data": {
      "text/html": [
       "<div>\n",
       "<style scoped>\n",
       "    .dataframe tbody tr th:only-of-type {\n",
       "        vertical-align: middle;\n",
       "    }\n",
       "\n",
       "    .dataframe tbody tr th {\n",
       "        vertical-align: top;\n",
       "    }\n",
       "\n",
       "    .dataframe thead th {\n",
       "        text-align: right;\n",
       "    }\n",
       "</style>\n",
       "<table border=\"1\" class=\"dataframe\">\n",
       "  <thead>\n",
       "    <tr style=\"text-align: right;\">\n",
       "      <th></th>\n",
       "      <th>url</th>\n",
       "      <th>name</th>\n",
       "      <th>player</th>\n",
       "      <th>deck_list</th>\n",
       "    </tr>\n",
       "  </thead>\n",
       "  <tbody>\n",
       "    <tr>\n",
       "      <th>0</th>\n",
       "      <td>https://www.mtgtop8.com/https://www.mtgtop8.co...</td>\n",
       "      <td>4c_Elementals.html.txt</td>\n",
       "      <td>Robert_Lippmann</td>\n",
       "      <td>&lt;input name=\"c\" type=\"hidden\" value=\"13 Forest...</td>\n",
       "    </tr>\n",
       "    <tr>\n",
       "      <th>1</th>\n",
       "      <td>https://www.mtgtop8.com/https://www.mtgtop8.co...</td>\n",
       "      <td>Omnath.html.txt</td>\n",
       "      <td>Clarence_Dews</td>\n",
       "      <td>&lt;input name=\"c\" type=\"hidden\" value=\"10 Forest...</td>\n",
       "    </tr>\n",
       "    <tr>\n",
       "      <th>2</th>\n",
       "      <td>https://www.mtgtop8.com/https://www.mtgtop8.co...</td>\n",
       "      <td>4colour_Good_Stuff.html.txt</td>\n",
       "      <td>Yohan_Dudognon</td>\n",
       "      <td>&lt;input name=\"c\" type=\"hidden\" value=\"2 Essence...</td>\n",
       "    </tr>\n",
       "    <tr>\n",
       "      <th>3</th>\n",
       "      <td>https://www.mtgtop8.com/https://www.mtgtop8.co...</td>\n",
       "      <td>4c_Sun.html.txt</td>\n",
       "      <td>Aaron_Barich</td>\n",
       "      <td>&lt;input name=\"c\" type=\"hidden\" value=\"1 Planar ...</td>\n",
       "    </tr>\n",
       "    <tr>\n",
       "      <th>4</th>\n",
       "      <td>https://www.mtgtop8.com/https://www.mtgtop8.co...</td>\n",
       "      <td>4c_Energy.html.txt</td>\n",
       "      <td>rushi_00</td>\n",
       "      <td>&lt;input name=\"c\" type=\"hidden\" value=\"6 Forest|...</td>\n",
       "    </tr>\n",
       "  </tbody>\n",
       "</table>\n",
       "</div>"
      ],
      "text/plain": [
       "                                                 url  \\\n",
       "0  https://www.mtgtop8.com/https://www.mtgtop8.co...   \n",
       "1  https://www.mtgtop8.com/https://www.mtgtop8.co...   \n",
       "2  https://www.mtgtop8.com/https://www.mtgtop8.co...   \n",
       "3  https://www.mtgtop8.com/https://www.mtgtop8.co...   \n",
       "4  https://www.mtgtop8.com/https://www.mtgtop8.co...   \n",
       "\n",
       "                          name           player  \\\n",
       "0       4c_Elementals.html.txt  Robert_Lippmann   \n",
       "1              Omnath.html.txt    Clarence_Dews   \n",
       "2  4colour_Good_Stuff.html.txt   Yohan_Dudognon   \n",
       "3              4c_Sun.html.txt     Aaron_Barich   \n",
       "4           4c_Energy.html.txt         rushi_00   \n",
       "\n",
       "                                           deck_list  \n",
       "0  <input name=\"c\" type=\"hidden\" value=\"13 Forest...  \n",
       "1  <input name=\"c\" type=\"hidden\" value=\"10 Forest...  \n",
       "2  <input name=\"c\" type=\"hidden\" value=\"2 Essence...  \n",
       "3  <input name=\"c\" type=\"hidden\" value=\"1 Planar ...  \n",
       "4  <input name=\"c\" type=\"hidden\" value=\"6 Forest|...  "
      ]
     },
     "execution_count": 72,
     "metadata": {},
     "output_type": "execute_result"
    }
   ],
   "source": [
    "decks_clean.head()"
   ]
  },
  {
   "cell_type": "markdown",
   "metadata": {},
   "source": [
    "#### Define\n",
    "- change type of `deck_list` to str"
   ]
  },
  {
   "cell_type": "markdown",
   "metadata": {},
   "source": [
    "#### Code"
   ]
  },
  {
   "cell_type": "code",
   "execution_count": 73,
   "metadata": {},
   "outputs": [],
   "source": [
    "decks_clean.deck_list = decks_clean.deck_list.astype('str')"
   ]
  },
  {
   "cell_type": "code",
   "execution_count": 74,
   "metadata": {},
   "outputs": [],
   "source": [
    "decks_clean.to_csv('~/Documents/MTG/data/decks_clean.csv')"
   ]
  },
  {
   "cell_type": "markdown",
   "metadata": {},
   "source": [
    "#### Test"
   ]
  },
  {
   "cell_type": "code",
   "execution_count": 75,
   "metadata": {},
   "outputs": [
    {
     "data": {
      "text/plain": [
       "str"
      ]
     },
     "execution_count": 75,
     "metadata": {},
     "output_type": "execute_result"
    }
   ],
   "source": [
    "type(decks_clean.deck_list[0])"
   ]
  },
  {
   "cell_type": "markdown",
   "metadata": {},
   "source": [
    "#### Define\n",
    "- drop .url and .text from the `name` column"
   ]
  },
  {
   "cell_type": "markdown",
   "metadata": {},
   "source": [
    "#### Code"
   ]
  },
  {
   "cell_type": "code",
   "execution_count": 78,
   "metadata": {},
   "outputs": [],
   "source": [
    "decks_clean.name = decks_clean.name.str.replace('.html.txt', '')"
   ]
  },
  {
   "cell_type": "code",
   "execution_count": 81,
   "metadata": {},
   "outputs": [],
   "source": [
    "decks_clean.to_csv('~/Documents/MTG/data/decks_clean.csv')"
   ]
  },
  {
   "cell_type": "markdown",
   "metadata": {},
   "source": [
    "#### Test"
   ]
  },
  {
   "cell_type": "code",
   "execution_count": 79,
   "metadata": {},
   "outputs": [
    {
     "data": {
      "text/html": [
       "<div>\n",
       "<style scoped>\n",
       "    .dataframe tbody tr th:only-of-type {\n",
       "        vertical-align: middle;\n",
       "    }\n",
       "\n",
       "    .dataframe tbody tr th {\n",
       "        vertical-align: top;\n",
       "    }\n",
       "\n",
       "    .dataframe thead th {\n",
       "        text-align: right;\n",
       "    }\n",
       "</style>\n",
       "<table border=\"1\" class=\"dataframe\">\n",
       "  <thead>\n",
       "    <tr style=\"text-align: right;\">\n",
       "      <th></th>\n",
       "      <th>url</th>\n",
       "      <th>name</th>\n",
       "      <th>player</th>\n",
       "      <th>deck_list</th>\n",
       "    </tr>\n",
       "  </thead>\n",
       "  <tbody>\n",
       "    <tr>\n",
       "      <th>0</th>\n",
       "      <td>https://www.mtgtop8.com/https://www.mtgtop8.co...</td>\n",
       "      <td>4c_Elementals</td>\n",
       "      <td>Robert_Lippmann</td>\n",
       "      <td>&lt;input name=\"c\" type=\"hidden\" value=\"13 Forest...</td>\n",
       "    </tr>\n",
       "    <tr>\n",
       "      <th>1</th>\n",
       "      <td>https://www.mtgtop8.com/https://www.mtgtop8.co...</td>\n",
       "      <td>Omnath</td>\n",
       "      <td>Clarence_Dews</td>\n",
       "      <td>&lt;input name=\"c\" type=\"hidden\" value=\"10 Forest...</td>\n",
       "    </tr>\n",
       "    <tr>\n",
       "      <th>2</th>\n",
       "      <td>https://www.mtgtop8.com/https://www.mtgtop8.co...</td>\n",
       "      <td>4colour_Good_Stuff</td>\n",
       "      <td>Yohan_Dudognon</td>\n",
       "      <td>&lt;input name=\"c\" type=\"hidden\" value=\"2 Essence...</td>\n",
       "    </tr>\n",
       "    <tr>\n",
       "      <th>3</th>\n",
       "      <td>https://www.mtgtop8.com/https://www.mtgtop8.co...</td>\n",
       "      <td>4c_Sun</td>\n",
       "      <td>Aaron_Barich</td>\n",
       "      <td>&lt;input name=\"c\" type=\"hidden\" value=\"1 Planar ...</td>\n",
       "    </tr>\n",
       "    <tr>\n",
       "      <th>4</th>\n",
       "      <td>https://www.mtgtop8.com/https://www.mtgtop8.co...</td>\n",
       "      <td>4c_Energy</td>\n",
       "      <td>rushi_00</td>\n",
       "      <td>&lt;input name=\"c\" type=\"hidden\" value=\"6 Forest|...</td>\n",
       "    </tr>\n",
       "  </tbody>\n",
       "</table>\n",
       "</div>"
      ],
      "text/plain": [
       "                                                 url                name  \\\n",
       "0  https://www.mtgtop8.com/https://www.mtgtop8.co...       4c_Elementals   \n",
       "1  https://www.mtgtop8.com/https://www.mtgtop8.co...              Omnath   \n",
       "2  https://www.mtgtop8.com/https://www.mtgtop8.co...  4colour_Good_Stuff   \n",
       "3  https://www.mtgtop8.com/https://www.mtgtop8.co...              4c_Sun   \n",
       "4  https://www.mtgtop8.com/https://www.mtgtop8.co...           4c_Energy   \n",
       "\n",
       "            player                                          deck_list  \n",
       "0  Robert_Lippmann  <input name=\"c\" type=\"hidden\" value=\"13 Forest...  \n",
       "1    Clarence_Dews  <input name=\"c\" type=\"hidden\" value=\"10 Forest...  \n",
       "2   Yohan_Dudognon  <input name=\"c\" type=\"hidden\" value=\"2 Essence...  \n",
       "3     Aaron_Barich  <input name=\"c\" type=\"hidden\" value=\"1 Planar ...  \n",
       "4         rushi_00  <input name=\"c\" type=\"hidden\" value=\"6 Forest|...  "
      ]
     },
     "execution_count": 79,
     "metadata": {},
     "output_type": "execute_result"
    }
   ],
   "source": [
    "decks_clean.head()"
   ]
  },
  {
   "cell_type": "markdown",
   "metadata": {},
   "source": [
    "#### Define\n",
    "- get rid of all unneccessary characters in `deck_list`"
   ]
  },
  {
   "cell_type": "markdown",
   "metadata": {},
   "source": [
    "#### Code"
   ]
  },
  {
   "cell_type": "code",
   "execution_count": 84,
   "metadata": {},
   "outputs": [],
   "source": [
    "decks_clean.deck_list = decks_clean.deck_list.str.replace('<input name=\"c\" type=\"hidden\" value=', '')"
   ]
  },
  {
   "cell_type": "code",
   "execution_count": 87,
   "metadata": {},
   "outputs": [],
   "source": [
    "decks_clean.deck_list = decks_clean.deck_list.str.strip('\"')"
   ]
  },
  {
   "cell_type": "markdown",
   "metadata": {},
   "source": [
    "#### Test"
   ]
  },
  {
   "cell_type": "code",
   "execution_count": 88,
   "metadata": {},
   "outputs": [
    {
     "data": {
      "text/html": [
       "<div>\n",
       "<style scoped>\n",
       "    .dataframe tbody tr th:only-of-type {\n",
       "        vertical-align: middle;\n",
       "    }\n",
       "\n",
       "    .dataframe tbody tr th {\n",
       "        vertical-align: top;\n",
       "    }\n",
       "\n",
       "    .dataframe thead th {\n",
       "        text-align: right;\n",
       "    }\n",
       "</style>\n",
       "<table border=\"1\" class=\"dataframe\">\n",
       "  <thead>\n",
       "    <tr style=\"text-align: right;\">\n",
       "      <th></th>\n",
       "      <th>url</th>\n",
       "      <th>name</th>\n",
       "      <th>player</th>\n",
       "      <th>deck_list</th>\n",
       "    </tr>\n",
       "  </thead>\n",
       "  <tbody>\n",
       "    <tr>\n",
       "      <th>0</th>\n",
       "      <td>https://www.mtgtop8.com/https://www.mtgtop8.co...</td>\n",
       "      <td>4c_Elementals</td>\n",
       "      <td>Robert_Lippmann</td>\n",
       "      <td>13 Forest||4 Llanowar Elves||3 Greenbelt Rampa...</td>\n",
       "    </tr>\n",
       "    <tr>\n",
       "      <th>1</th>\n",
       "      <td>https://www.mtgtop8.com/https://www.mtgtop8.co...</td>\n",
       "      <td>Omnath</td>\n",
       "      <td>Clarence_Dews</td>\n",
       "      <td>10 Forest||7 Island||4 Llanowar Elves||4 Breed...</td>\n",
       "    </tr>\n",
       "    <tr>\n",
       "      <th>2</th>\n",
       "      <td>https://www.mtgtop8.com/https://www.mtgtop8.co...</td>\n",
       "      <td>4colour_Good_Stuff</td>\n",
       "      <td>Yohan_Dudognon</td>\n",
       "      <td>2 Essence Scatter||4 Glacial Fortress||7 Islan...</td>\n",
       "    </tr>\n",
       "    <tr>\n",
       "      <th>3</th>\n",
       "      <td>https://www.mtgtop8.com/https://www.mtgtop8.co...</td>\n",
       "      <td>4c_Sun</td>\n",
       "      <td>Aaron_Barich</td>\n",
       "      <td>1 Planar Cleansing||2 Forest||2 Island||1 Plai...</td>\n",
       "    </tr>\n",
       "    <tr>\n",
       "      <th>4</th>\n",
       "      <td>https://www.mtgtop8.com/https://www.mtgtop8.co...</td>\n",
       "      <td>4c_Energy</td>\n",
       "      <td>rushi_00</td>\n",
       "      <td>6 Forest||4 Swamp||4 Blood Crypt||4 Cauldron F...</td>\n",
       "    </tr>\n",
       "  </tbody>\n",
       "</table>\n",
       "</div>"
      ],
      "text/plain": [
       "                                                 url                name  \\\n",
       "0  https://www.mtgtop8.com/https://www.mtgtop8.co...       4c_Elementals   \n",
       "1  https://www.mtgtop8.com/https://www.mtgtop8.co...              Omnath   \n",
       "2  https://www.mtgtop8.com/https://www.mtgtop8.co...  4colour_Good_Stuff   \n",
       "3  https://www.mtgtop8.com/https://www.mtgtop8.co...              4c_Sun   \n",
       "4  https://www.mtgtop8.com/https://www.mtgtop8.co...           4c_Energy   \n",
       "\n",
       "            player                                          deck_list  \n",
       "0  Robert_Lippmann  13 Forest||4 Llanowar Elves||3 Greenbelt Rampa...  \n",
       "1    Clarence_Dews  10 Forest||7 Island||4 Llanowar Elves||4 Breed...  \n",
       "2   Yohan_Dudognon  2 Essence Scatter||4 Glacial Fortress||7 Islan...  \n",
       "3     Aaron_Barich  1 Planar Cleansing||2 Forest||2 Island||1 Plai...  \n",
       "4         rushi_00  6 Forest||4 Swamp||4 Blood Crypt||4 Cauldron F...  "
      ]
     },
     "execution_count": 88,
     "metadata": {},
     "output_type": "execute_result"
    }
   ],
   "source": [
    "decks_clean.head()"
   ]
  },
  {
   "cell_type": "markdown",
   "metadata": {},
   "source": [
    "#### Define\n",
    "- split deck_list into multiple objects"
   ]
  },
  {
   "cell_type": "markdown",
   "metadata": {},
   "source": [
    "#### Code"
   ]
  },
  {
   "cell_type": "code",
   "execution_count": 93,
   "metadata": {},
   "outputs": [],
   "source": [
    "decks_clean.deck_list = decks_clean.deck_list.str.split(r'\\|\\|')"
   ]
  },
  {
   "cell_type": "markdown",
   "metadata": {},
   "source": [
    "#### Test"
   ]
  },
  {
   "cell_type": "code",
   "execution_count": 94,
   "metadata": {},
   "outputs": [
    {
     "data": {
      "text/html": [
       "<div>\n",
       "<style scoped>\n",
       "    .dataframe tbody tr th:only-of-type {\n",
       "        vertical-align: middle;\n",
       "    }\n",
       "\n",
       "    .dataframe tbody tr th {\n",
       "        vertical-align: top;\n",
       "    }\n",
       "\n",
       "    .dataframe thead th {\n",
       "        text-align: right;\n",
       "    }\n",
       "</style>\n",
       "<table border=\"1\" class=\"dataframe\">\n",
       "  <thead>\n",
       "    <tr style=\"text-align: right;\">\n",
       "      <th></th>\n",
       "      <th>url</th>\n",
       "      <th>name</th>\n",
       "      <th>player</th>\n",
       "      <th>deck_list</th>\n",
       "    </tr>\n",
       "  </thead>\n",
       "  <tbody>\n",
       "    <tr>\n",
       "      <th>0</th>\n",
       "      <td>https://www.mtgtop8.com/https://www.mtgtop8.co...</td>\n",
       "      <td>4c_Elementals</td>\n",
       "      <td>Robert_Lippmann</td>\n",
       "      <td>[13 Forest, 4 Llanowar Elves, 3 Greenbelt Ramp...</td>\n",
       "    </tr>\n",
       "    <tr>\n",
       "      <th>1</th>\n",
       "      <td>https://www.mtgtop8.com/https://www.mtgtop8.co...</td>\n",
       "      <td>Omnath</td>\n",
       "      <td>Clarence_Dews</td>\n",
       "      <td>[10 Forest, 7 Island, 4 Llanowar Elves, 4 Bree...</td>\n",
       "    </tr>\n",
       "    <tr>\n",
       "      <th>2</th>\n",
       "      <td>https://www.mtgtop8.com/https://www.mtgtop8.co...</td>\n",
       "      <td>4colour_Good_Stuff</td>\n",
       "      <td>Yohan_Dudognon</td>\n",
       "      <td>[2 Essence Scatter, 4 Glacial Fortress, 7 Isla...</td>\n",
       "    </tr>\n",
       "    <tr>\n",
       "      <th>3</th>\n",
       "      <td>https://www.mtgtop8.com/https://www.mtgtop8.co...</td>\n",
       "      <td>4c_Sun</td>\n",
       "      <td>Aaron_Barich</td>\n",
       "      <td>[1 Planar Cleansing, 2 Forest, 2 Island, 1 Pla...</td>\n",
       "    </tr>\n",
       "    <tr>\n",
       "      <th>4</th>\n",
       "      <td>https://www.mtgtop8.com/https://www.mtgtop8.co...</td>\n",
       "      <td>4c_Energy</td>\n",
       "      <td>rushi_00</td>\n",
       "      <td>[6 Forest, 4 Swamp, 4 Blood Crypt, 4 Cauldron ...</td>\n",
       "    </tr>\n",
       "  </tbody>\n",
       "</table>\n",
       "</div>"
      ],
      "text/plain": [
       "                                                 url                name  \\\n",
       "0  https://www.mtgtop8.com/https://www.mtgtop8.co...       4c_Elementals   \n",
       "1  https://www.mtgtop8.com/https://www.mtgtop8.co...              Omnath   \n",
       "2  https://www.mtgtop8.com/https://www.mtgtop8.co...  4colour_Good_Stuff   \n",
       "3  https://www.mtgtop8.com/https://www.mtgtop8.co...              4c_Sun   \n",
       "4  https://www.mtgtop8.com/https://www.mtgtop8.co...           4c_Energy   \n",
       "\n",
       "            player                                          deck_list  \n",
       "0  Robert_Lippmann  [13 Forest, 4 Llanowar Elves, 3 Greenbelt Ramp...  \n",
       "1    Clarence_Dews  [10 Forest, 7 Island, 4 Llanowar Elves, 4 Bree...  \n",
       "2   Yohan_Dudognon  [2 Essence Scatter, 4 Glacial Fortress, 7 Isla...  \n",
       "3     Aaron_Barich  [1 Planar Cleansing, 2 Forest, 2 Island, 1 Pla...  \n",
       "4         rushi_00  [6 Forest, 4 Swamp, 4 Blood Crypt, 4 Cauldron ...  "
      ]
     },
     "execution_count": 94,
     "metadata": {},
     "output_type": "execute_result"
    }
   ],
   "source": [
    "decks_clean.head()"
   ]
  },
  {
   "cell_type": "code",
   "execution_count": null,
   "metadata": {},
   "outputs": [],
   "source": []
  }
 ],
 "metadata": {
  "kernelspec": {
   "display_name": "Python 3",
   "language": "python",
   "name": "python3"
  },
  "language_info": {
   "codemirror_mode": {
    "name": "ipython",
    "version": 3
   },
   "file_extension": ".py",
   "mimetype": "text/x-python",
   "name": "python",
   "nbconvert_exporter": "python",
   "pygments_lexer": "ipython3",
   "version": "3.7.3"
  }
 },
 "nbformat": 4,
 "nbformat_minor": 4
}
