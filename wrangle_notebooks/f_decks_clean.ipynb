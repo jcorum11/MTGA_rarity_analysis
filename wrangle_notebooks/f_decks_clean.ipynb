{
 "cells": [
  {
   "cell_type": "code",
   "execution_count": 1,
   "metadata": {},
   "outputs": [],
   "source": [
    "# Load all packages necessary for analysis\n",
    "import pandas as pd\n",
    "import numpy as np\n",
    "import requests\n",
    "from bs4 import BeautifulSoup\n",
    "import json\n",
    "import re\n",
    "import os\n",
    "import timeit\n",
    "import filecmp"
   ]
  },
  {
   "cell_type": "code",
   "execution_count": 2,
   "metadata": {},
   "outputs": [],
   "source": [
    "decks_clean = pd.read_csv('~/Documents/MTG/data/decks_clean.csv')"
   ]
  },
  {
   "cell_type": "markdown",
   "metadata": {},
   "source": [
    "# decks_clean"
   ]
  },
  {
   "cell_type": "markdown",
   "metadata": {},
   "source": [
    "## Gather"
   ]
  },
  {
   "cell_type": "code",
   "execution_count": 19,
   "metadata": {},
   "outputs": [],
   "source": [
    "dir_names = []\n",
    "curdir = 'C:/Users/muroc/Documents/MTG/html_files'\n",
    "\n",
    "with os.scandir(curdir) as folder:\n",
    "    for file in folder:\n",
    "        if file.is_file():\n",
    "            dir_names.append(file.name)"
   ]
  },
  {
   "cell_type": "code",
   "execution_count": 20,
   "metadata": {},
   "outputs": [],
   "source": [
    "decks = []\n",
    "for i in np.arange(np.count_nonzero(dir_names)):\n",
    "    with open(str(curdir) + '/' + str(dir_names[i])) as file:\n",
    "        soup = BeautifulSoup(file, 'lxml')\n",
    "    cards = soup.find(lambda tag: tag.name=='input' and tag.has_attr('name') and tag['name']=='c')\n",
    "    decks.append(cards)"
   ]
  },
  {
   "cell_type": "code",
   "execution_count": 21,
   "metadata": {},
   "outputs": [],
   "source": [
    "deck_urls = pd.read_csv('~/Documents/MTG/data/deck_urls.csv')"
   ]
  },
  {
   "cell_type": "code",
   "execution_count": 22,
   "metadata": {},
   "outputs": [],
   "source": [
    "decks_dict = {\"deck_list\": decks}\n",
    "decks_clean = pd.DataFrame(decks_dict)"
   ]
  },
  {
   "cell_type": "code",
   "execution_count": 23,
   "metadata": {},
   "outputs": [],
   "source": [
    "decks_clean.to_csv('~/Documents/MTG/data/deck_list.csv', index=False)"
   ]
  },
  {
   "cell_type": "markdown",
   "metadata": {},
   "source": [
    "## Assess"
   ]
  },
  {
   "cell_type": "code",
   "execution_count": 24,
   "metadata": {},
   "outputs": [
    {
     "data": {
      "text/html": [
       "<div>\n",
       "<style scoped>\n",
       "    .dataframe tbody tr th:only-of-type {\n",
       "        vertical-align: middle;\n",
       "    }\n",
       "\n",
       "    .dataframe tbody tr th {\n",
       "        vertical-align: top;\n",
       "    }\n",
       "\n",
       "    .dataframe thead th {\n",
       "        text-align: right;\n",
       "    }\n",
       "</style>\n",
       "<table border=\"1\" class=\"dataframe\">\n",
       "  <thead>\n",
       "    <tr style=\"text-align: right;\">\n",
       "      <th></th>\n",
       "      <th>url</th>\n",
       "      <th>name</th>\n",
       "      <th>player</th>\n",
       "    </tr>\n",
       "  </thead>\n",
       "  <tbody>\n",
       "    <tr>\n",
       "      <th>0</th>\n",
       "      <td>https://www.mtgtop8.com/https://www.mtgtop8.co...</td>\n",
       "      <td>4c_Elementals.html.txt</td>\n",
       "      <td>Robert_Lippmann</td>\n",
       "    </tr>\n",
       "    <tr>\n",
       "      <th>1</th>\n",
       "      <td>https://www.mtgtop8.com/https://www.mtgtop8.co...</td>\n",
       "      <td>Omnath.html.txt</td>\n",
       "      <td>Clarence_Dews</td>\n",
       "    </tr>\n",
       "    <tr>\n",
       "      <th>2</th>\n",
       "      <td>https://www.mtgtop8.com/https://www.mtgtop8.co...</td>\n",
       "      <td>4colour_Good_Stuff.html.txt</td>\n",
       "      <td>Yohan_Dudognon</td>\n",
       "    </tr>\n",
       "    <tr>\n",
       "      <th>3</th>\n",
       "      <td>https://www.mtgtop8.com/https://www.mtgtop8.co...</td>\n",
       "      <td>4c_Sun.html.txt</td>\n",
       "      <td>Aaron_Barich</td>\n",
       "    </tr>\n",
       "    <tr>\n",
       "      <th>4</th>\n",
       "      <td>https://www.mtgtop8.com/https://www.mtgtop8.co...</td>\n",
       "      <td>4c_Energy.html.txt</td>\n",
       "      <td>rushi_00</td>\n",
       "    </tr>\n",
       "  </tbody>\n",
       "</table>\n",
       "</div>"
      ],
      "text/plain": [
       "                                                 url  \\\n",
       "0  https://www.mtgtop8.com/https://www.mtgtop8.co...   \n",
       "1  https://www.mtgtop8.com/https://www.mtgtop8.co...   \n",
       "2  https://www.mtgtop8.com/https://www.mtgtop8.co...   \n",
       "3  https://www.mtgtop8.com/https://www.mtgtop8.co...   \n",
       "4  https://www.mtgtop8.com/https://www.mtgtop8.co...   \n",
       "\n",
       "                          name           player  \n",
       "0       4c_Elementals.html.txt  Robert_Lippmann  \n",
       "1              Omnath.html.txt    Clarence_Dews  \n",
       "2  4colour_Good_Stuff.html.txt   Yohan_Dudognon  \n",
       "3              4c_Sun.html.txt     Aaron_Barich  \n",
       "4           4c_Energy.html.txt         rushi_00  "
      ]
     },
     "execution_count": 24,
     "metadata": {},
     "output_type": "execute_result"
    }
   ],
   "source": [
    "deck_urls.head()"
   ]
  },
  {
   "cell_type": "code",
   "execution_count": 51,
   "metadata": {},
   "outputs": [
    {
     "data": {
      "text/html": [
       "<div>\n",
       "<style scoped>\n",
       "    .dataframe tbody tr th:only-of-type {\n",
       "        vertical-align: middle;\n",
       "    }\n",
       "\n",
       "    .dataframe tbody tr th {\n",
       "        vertical-align: top;\n",
       "    }\n",
       "\n",
       "    .dataframe thead th {\n",
       "        text-align: right;\n",
       "    }\n",
       "</style>\n",
       "<table border=\"1\" class=\"dataframe\">\n",
       "  <thead>\n",
       "    <tr style=\"text-align: right;\">\n",
       "      <th></th>\n",
       "      <th>url</th>\n",
       "      <th>name</th>\n",
       "      <th>player</th>\n",
       "      <th>deck_list</th>\n",
       "    </tr>\n",
       "  </thead>\n",
       "  <tbody>\n",
       "    <tr>\n",
       "      <th>0</th>\n",
       "      <td>https://www.mtgtop8.com/event?e=23476&amp;amp;d=36...</td>\n",
       "      <td>4c_Elementals</td>\n",
       "      <td>Robert_Lippmann</td>\n",
       "      <td>[13 Forest, 4 Llanowar Elves, 3 Greenbelt Ramp...</td>\n",
       "    </tr>\n",
       "    <tr>\n",
       "      <th>1</th>\n",
       "      <td>https://www.mtgtop8.com/event?e=23375&amp;amp;d=36...</td>\n",
       "      <td>Omnath</td>\n",
       "      <td>Clarence_Dews</td>\n",
       "      <td>[10 Forest, 7 Island, 4 Llanowar Elves, 4 Bree...</td>\n",
       "    </tr>\n",
       "    <tr>\n",
       "      <th>2</th>\n",
       "      <td>https://www.mtgtop8.com/event?e=23384&amp;amp;d=36...</td>\n",
       "      <td>4colour_Good_Stuff</td>\n",
       "      <td>Yohan_Dudognon</td>\n",
       "      <td>[2 Essence Scatter, 4 Glacial Fortress, 7 Isla...</td>\n",
       "    </tr>\n",
       "    <tr>\n",
       "      <th>3</th>\n",
       "      <td>https://www.mtgtop8.com/event?e=22218&amp;amp;d=35...</td>\n",
       "      <td>4c_Sun</td>\n",
       "      <td>Aaron_Barich</td>\n",
       "      <td>[1 Planar Cleansing, 2 Forest, 2 Island, 1 Pla...</td>\n",
       "    </tr>\n",
       "    <tr>\n",
       "      <th>4</th>\n",
       "      <td>https://www.mtgtop8.com/event?e=18688&amp;amp;d=31...</td>\n",
       "      <td>4c_Energy</td>\n",
       "      <td>rushi_00</td>\n",
       "      <td>[6 Forest, 4 Swamp, 4 Blood Crypt, 4 Cauldron ...</td>\n",
       "    </tr>\n",
       "  </tbody>\n",
       "</table>\n",
       "</div>"
      ],
      "text/plain": [
       "                                                 url                name  \\\n",
       "0  https://www.mtgtop8.com/event?e=23476&amp;d=36...       4c_Elementals   \n",
       "1  https://www.mtgtop8.com/event?e=23375&amp;d=36...              Omnath   \n",
       "2  https://www.mtgtop8.com/event?e=23384&amp;d=36...  4colour_Good_Stuff   \n",
       "3  https://www.mtgtop8.com/event?e=22218&amp;d=35...              4c_Sun   \n",
       "4  https://www.mtgtop8.com/event?e=18688&amp;d=31...           4c_Energy   \n",
       "\n",
       "            player                                          deck_list  \n",
       "0  Robert_Lippmann  [13 Forest, 4 Llanowar Elves, 3 Greenbelt Ramp...  \n",
       "1    Clarence_Dews  [10 Forest, 7 Island, 4 Llanowar Elves, 4 Bree...  \n",
       "2   Yohan_Dudognon  [2 Essence Scatter, 4 Glacial Fortress, 7 Isla...  \n",
       "3     Aaron_Barich  [1 Planar Cleansing, 2 Forest, 2 Island, 1 Pla...  \n",
       "4         rushi_00  [6 Forest, 4 Swamp, 4 Blood Crypt, 4 Cauldron ...  "
      ]
     },
     "execution_count": 51,
     "metadata": {},
     "output_type": "execute_result"
    }
   ],
   "source": [
    "decks_clean.head()"
   ]
  },
  {
   "cell_type": "code",
   "execution_count": 52,
   "metadata": {},
   "outputs": [
    {
     "data": {
      "text/html": [
       "<div>\n",
       "<style scoped>\n",
       "    .dataframe tbody tr th:only-of-type {\n",
       "        vertical-align: middle;\n",
       "    }\n",
       "\n",
       "    .dataframe tbody tr th {\n",
       "        vertical-align: top;\n",
       "    }\n",
       "\n",
       "    .dataframe thead th {\n",
       "        text-align: right;\n",
       "    }\n",
       "</style>\n",
       "<table border=\"1\" class=\"dataframe\">\n",
       "  <thead>\n",
       "    <tr style=\"text-align: right;\">\n",
       "      <th></th>\n",
       "      <th>url</th>\n",
       "      <th>name</th>\n",
       "      <th>player</th>\n",
       "      <th>deck_list</th>\n",
       "    </tr>\n",
       "  </thead>\n",
       "  <tbody>\n",
       "    <tr>\n",
       "      <th>914</th>\n",
       "      <td>https://www.mtgtop8.com/event?e=22351&amp;amp;d=35...</td>\n",
       "      <td>Weenie_White</td>\n",
       "      <td>Conanhawk</td>\n",
       "      <td>[nan]</td>\n",
       "    </tr>\n",
       "    <tr>\n",
       "      <th>915</th>\n",
       "      <td>https://www.mtgtop8.com/event?e=22391&amp;amp;d=35...</td>\n",
       "      <td>Weenie_White</td>\n",
       "      <td>Björn_Krusche</td>\n",
       "      <td>[nan]</td>\n",
       "    </tr>\n",
       "    <tr>\n",
       "      <th>916</th>\n",
       "      <td>https://www.mtgtop8.com/event?e=22353&amp;amp;d=35...</td>\n",
       "      <td>WW</td>\n",
       "      <td>Drew_Iafrate</td>\n",
       "      <td>[nan]</td>\n",
       "    </tr>\n",
       "    <tr>\n",
       "      <th>917</th>\n",
       "      <td>https://www.mtgtop8.com/event?e=22304&amp;amp;d=35...</td>\n",
       "      <td>Weenie_White</td>\n",
       "      <td>Yellowhat</td>\n",
       "      <td>[nan]</td>\n",
       "    </tr>\n",
       "    <tr>\n",
       "      <th>918</th>\n",
       "      <td>https://www.mtgtop8.com/event?e=22304&amp;amp;d=35...</td>\n",
       "      <td>Weenie_White</td>\n",
       "      <td>Cornanhawk</td>\n",
       "      <td>[nan]</td>\n",
       "    </tr>\n",
       "  </tbody>\n",
       "</table>\n",
       "</div>"
      ],
      "text/plain": [
       "                                                   url          name  \\\n",
       "914  https://www.mtgtop8.com/event?e=22351&amp;d=35...  Weenie_White   \n",
       "915  https://www.mtgtop8.com/event?e=22391&amp;d=35...  Weenie_White   \n",
       "916  https://www.mtgtop8.com/event?e=22353&amp;d=35...            WW   \n",
       "917  https://www.mtgtop8.com/event?e=22304&amp;d=35...  Weenie_White   \n",
       "918  https://www.mtgtop8.com/event?e=22304&amp;d=35...  Weenie_White   \n",
       "\n",
       "            player deck_list  \n",
       "914      Conanhawk     [nan]  \n",
       "915  Björn_Krusche     [nan]  \n",
       "916   Drew_Iafrate     [nan]  \n",
       "917      Yellowhat     [nan]  \n",
       "918     Cornanhawk     [nan]  "
      ]
     },
     "execution_count": 52,
     "metadata": {},
     "output_type": "execute_result"
    }
   ],
   "source": [
    "decks_clean.tail()"
   ]
  },
  {
   "cell_type": "code",
   "execution_count": 53,
   "metadata": {},
   "outputs": [
    {
     "data": {
      "text/html": [
       "<div>\n",
       "<style scoped>\n",
       "    .dataframe tbody tr th:only-of-type {\n",
       "        vertical-align: middle;\n",
       "    }\n",
       "\n",
       "    .dataframe tbody tr th {\n",
       "        vertical-align: top;\n",
       "    }\n",
       "\n",
       "    .dataframe thead th {\n",
       "        text-align: right;\n",
       "    }\n",
       "</style>\n",
       "<table border=\"1\" class=\"dataframe\">\n",
       "  <thead>\n",
       "    <tr style=\"text-align: right;\">\n",
       "      <th></th>\n",
       "      <th>url</th>\n",
       "      <th>name</th>\n",
       "      <th>player</th>\n",
       "      <th>deck_list</th>\n",
       "    </tr>\n",
       "  </thead>\n",
       "  <tbody>\n",
       "  </tbody>\n",
       "</table>\n",
       "</div>"
      ],
      "text/plain": [
       "Empty DataFrame\n",
       "Columns: [url, name, player, deck_list]\n",
       "Index: []"
      ]
     },
     "execution_count": 53,
     "metadata": {},
     "output_type": "execute_result"
    }
   ],
   "source": [
    "decks_clean[decks_clean.deck_list == '[nan]']"
   ]
  },
  {
   "cell_type": "code",
   "execution_count": 55,
   "metadata": {},
   "outputs": [
    {
     "name": "stdout",
     "output_type": "stream",
     "text": [
      "<class 'pandas.core.frame.DataFrame'>\n",
      "RangeIndex: 919 entries, 0 to 918\n",
      "Data columns (total 4 columns):\n",
      "url          919 non-null object\n",
      "name         919 non-null object\n",
      "player       919 non-null object\n",
      "deck_list    919 non-null object\n",
      "dtypes: object(4)\n",
      "memory usage: 28.8+ KB\n"
     ]
    }
   ],
   "source": [
    "decks_clean.info()"
   ]
  },
  {
   "cell_type": "code",
   "execution_count": 61,
   "metadata": {},
   "outputs": [
    {
     "data": {
      "text/plain": [
       "pandas.core.series.Series"
      ]
     },
     "execution_count": 61,
     "metadata": {},
     "output_type": "execute_result"
    }
   ],
   "source": []
  },
  {
   "cell_type": "markdown",
   "metadata": {},
   "source": [
    "### Assessment\n",
    "- [done] data from deck_urls.csv and deck_list.csv are of same object\n",
    "- [done] .html and .txt tags are irrelevant in name column\n",
    "- [done] `deck_list` may be type that is irrelevant\n",
    "- [done] `deck_list` column is one huge object\n",
    "- [done] irrelevant characters in `deck_list` column\n",
    "- [done] deck_urls needs a copy to work with\n",
    "- [done] multiple headers in `url` column because i must have ran the function too often\n",
    "- missing data at the end of the dataset\n",
    "- [done] deck_list column is not the right data type"
   ]
  },
  {
   "cell_type": "markdown",
   "metadata": {},
   "source": [
    "## Clean"
   ]
  },
  {
   "cell_type": "markdown",
   "metadata": {},
   "source": [
    "#### Define\n",
    "- append deck_urls.csv and deck_list.csv together"
   ]
  },
  {
   "cell_type": "markdown",
   "metadata": {},
   "source": [
    "#### Code"
   ]
  },
  {
   "cell_type": "code",
   "execution_count": 28,
   "metadata": {},
   "outputs": [],
   "source": [
    "deck_urls['deck_list'] = decks_clean"
   ]
  },
  {
   "cell_type": "code",
   "execution_count": 29,
   "metadata": {},
   "outputs": [],
   "source": [
    "deck_urls.to_csv('~/Documents/MTG/data/decks_clean.csv', index=False)"
   ]
  },
  {
   "cell_type": "markdown",
   "metadata": {},
   "source": [
    "#### Test"
   ]
  },
  {
   "cell_type": "code",
   "execution_count": 30,
   "metadata": {},
   "outputs": [
    {
     "data": {
      "text/html": [
       "<div>\n",
       "<style scoped>\n",
       "    .dataframe tbody tr th:only-of-type {\n",
       "        vertical-align: middle;\n",
       "    }\n",
       "\n",
       "    .dataframe tbody tr th {\n",
       "        vertical-align: top;\n",
       "    }\n",
       "\n",
       "    .dataframe thead th {\n",
       "        text-align: right;\n",
       "    }\n",
       "</style>\n",
       "<table border=\"1\" class=\"dataframe\">\n",
       "  <thead>\n",
       "    <tr style=\"text-align: right;\">\n",
       "      <th></th>\n",
       "      <th>url</th>\n",
       "      <th>name</th>\n",
       "      <th>player</th>\n",
       "      <th>deck_list</th>\n",
       "    </tr>\n",
       "  </thead>\n",
       "  <tbody>\n",
       "    <tr>\n",
       "      <th>0</th>\n",
       "      <td>https://www.mtgtop8.com/https://www.mtgtop8.co...</td>\n",
       "      <td>4c_Elementals.html.txt</td>\n",
       "      <td>Robert_Lippmann</td>\n",
       "      <td>&lt;input name=\"c\" type=\"hidden\" value=\"13 Forest...</td>\n",
       "    </tr>\n",
       "    <tr>\n",
       "      <th>1</th>\n",
       "      <td>https://www.mtgtop8.com/https://www.mtgtop8.co...</td>\n",
       "      <td>Omnath.html.txt</td>\n",
       "      <td>Clarence_Dews</td>\n",
       "      <td>&lt;input name=\"c\" type=\"hidden\" value=\"10 Forest...</td>\n",
       "    </tr>\n",
       "    <tr>\n",
       "      <th>2</th>\n",
       "      <td>https://www.mtgtop8.com/https://www.mtgtop8.co...</td>\n",
       "      <td>4colour_Good_Stuff.html.txt</td>\n",
       "      <td>Yohan_Dudognon</td>\n",
       "      <td>&lt;input name=\"c\" type=\"hidden\" value=\"2 Essence...</td>\n",
       "    </tr>\n",
       "    <tr>\n",
       "      <th>3</th>\n",
       "      <td>https://www.mtgtop8.com/https://www.mtgtop8.co...</td>\n",
       "      <td>4c_Sun.html.txt</td>\n",
       "      <td>Aaron_Barich</td>\n",
       "      <td>&lt;input name=\"c\" type=\"hidden\" value=\"1 Planar ...</td>\n",
       "    </tr>\n",
       "    <tr>\n",
       "      <th>4</th>\n",
       "      <td>https://www.mtgtop8.com/https://www.mtgtop8.co...</td>\n",
       "      <td>4c_Energy.html.txt</td>\n",
       "      <td>rushi_00</td>\n",
       "      <td>&lt;input name=\"c\" type=\"hidden\" value=\"6 Forest|...</td>\n",
       "    </tr>\n",
       "  </tbody>\n",
       "</table>\n",
       "</div>"
      ],
      "text/plain": [
       "                                                 url  \\\n",
       "0  https://www.mtgtop8.com/https://www.mtgtop8.co...   \n",
       "1  https://www.mtgtop8.com/https://www.mtgtop8.co...   \n",
       "2  https://www.mtgtop8.com/https://www.mtgtop8.co...   \n",
       "3  https://www.mtgtop8.com/https://www.mtgtop8.co...   \n",
       "4  https://www.mtgtop8.com/https://www.mtgtop8.co...   \n",
       "\n",
       "                          name           player  \\\n",
       "0       4c_Elementals.html.txt  Robert_Lippmann   \n",
       "1              Omnath.html.txt    Clarence_Dews   \n",
       "2  4colour_Good_Stuff.html.txt   Yohan_Dudognon   \n",
       "3              4c_Sun.html.txt     Aaron_Barich   \n",
       "4           4c_Energy.html.txt         rushi_00   \n",
       "\n",
       "                                           deck_list  \n",
       "0  <input name=\"c\" type=\"hidden\" value=\"13 Forest...  \n",
       "1  <input name=\"c\" type=\"hidden\" value=\"10 Forest...  \n",
       "2  <input name=\"c\" type=\"hidden\" value=\"2 Essence...  \n",
       "3  <input name=\"c\" type=\"hidden\" value=\"1 Planar ...  \n",
       "4  <input name=\"c\" type=\"hidden\" value=\"6 Forest|...  "
      ]
     },
     "execution_count": 30,
     "metadata": {},
     "output_type": "execute_result"
    }
   ],
   "source": [
    "deck_urls.head()"
   ]
  },
  {
   "cell_type": "markdown",
   "metadata": {},
   "source": [
    "#### Define\n",
    "- create a copy of `deck_urls`"
   ]
  },
  {
   "cell_type": "markdown",
   "metadata": {},
   "source": [
    "#### Code"
   ]
  },
  {
   "cell_type": "code",
   "execution_count": 31,
   "metadata": {},
   "outputs": [],
   "source": [
    "decks_clean = deck_urls.copy()"
   ]
  },
  {
   "cell_type": "markdown",
   "metadata": {},
   "source": [
    "#### Test"
   ]
  },
  {
   "cell_type": "code",
   "execution_count": 32,
   "metadata": {},
   "outputs": [
    {
     "data": {
      "text/html": [
       "<div>\n",
       "<style scoped>\n",
       "    .dataframe tbody tr th:only-of-type {\n",
       "        vertical-align: middle;\n",
       "    }\n",
       "\n",
       "    .dataframe tbody tr th {\n",
       "        vertical-align: top;\n",
       "    }\n",
       "\n",
       "    .dataframe thead th {\n",
       "        text-align: right;\n",
       "    }\n",
       "</style>\n",
       "<table border=\"1\" class=\"dataframe\">\n",
       "  <thead>\n",
       "    <tr style=\"text-align: right;\">\n",
       "      <th></th>\n",
       "      <th>url</th>\n",
       "      <th>name</th>\n",
       "      <th>player</th>\n",
       "      <th>deck_list</th>\n",
       "    </tr>\n",
       "  </thead>\n",
       "  <tbody>\n",
       "    <tr>\n",
       "      <th>0</th>\n",
       "      <td>https://www.mtgtop8.com/https://www.mtgtop8.co...</td>\n",
       "      <td>4c_Elementals.html.txt</td>\n",
       "      <td>Robert_Lippmann</td>\n",
       "      <td>&lt;input name=\"c\" type=\"hidden\" value=\"13 Forest...</td>\n",
       "    </tr>\n",
       "    <tr>\n",
       "      <th>1</th>\n",
       "      <td>https://www.mtgtop8.com/https://www.mtgtop8.co...</td>\n",
       "      <td>Omnath.html.txt</td>\n",
       "      <td>Clarence_Dews</td>\n",
       "      <td>&lt;input name=\"c\" type=\"hidden\" value=\"10 Forest...</td>\n",
       "    </tr>\n",
       "    <tr>\n",
       "      <th>2</th>\n",
       "      <td>https://www.mtgtop8.com/https://www.mtgtop8.co...</td>\n",
       "      <td>4colour_Good_Stuff.html.txt</td>\n",
       "      <td>Yohan_Dudognon</td>\n",
       "      <td>&lt;input name=\"c\" type=\"hidden\" value=\"2 Essence...</td>\n",
       "    </tr>\n",
       "    <tr>\n",
       "      <th>3</th>\n",
       "      <td>https://www.mtgtop8.com/https://www.mtgtop8.co...</td>\n",
       "      <td>4c_Sun.html.txt</td>\n",
       "      <td>Aaron_Barich</td>\n",
       "      <td>&lt;input name=\"c\" type=\"hidden\" value=\"1 Planar ...</td>\n",
       "    </tr>\n",
       "    <tr>\n",
       "      <th>4</th>\n",
       "      <td>https://www.mtgtop8.com/https://www.mtgtop8.co...</td>\n",
       "      <td>4c_Energy.html.txt</td>\n",
       "      <td>rushi_00</td>\n",
       "      <td>&lt;input name=\"c\" type=\"hidden\" value=\"6 Forest|...</td>\n",
       "    </tr>\n",
       "  </tbody>\n",
       "</table>\n",
       "</div>"
      ],
      "text/plain": [
       "                                                 url  \\\n",
       "0  https://www.mtgtop8.com/https://www.mtgtop8.co...   \n",
       "1  https://www.mtgtop8.com/https://www.mtgtop8.co...   \n",
       "2  https://www.mtgtop8.com/https://www.mtgtop8.co...   \n",
       "3  https://www.mtgtop8.com/https://www.mtgtop8.co...   \n",
       "4  https://www.mtgtop8.com/https://www.mtgtop8.co...   \n",
       "\n",
       "                          name           player  \\\n",
       "0       4c_Elementals.html.txt  Robert_Lippmann   \n",
       "1              Omnath.html.txt    Clarence_Dews   \n",
       "2  4colour_Good_Stuff.html.txt   Yohan_Dudognon   \n",
       "3              4c_Sun.html.txt     Aaron_Barich   \n",
       "4           4c_Energy.html.txt         rushi_00   \n",
       "\n",
       "                                           deck_list  \n",
       "0  <input name=\"c\" type=\"hidden\" value=\"13 Forest...  \n",
       "1  <input name=\"c\" type=\"hidden\" value=\"10 Forest...  \n",
       "2  <input name=\"c\" type=\"hidden\" value=\"2 Essence...  \n",
       "3  <input name=\"c\" type=\"hidden\" value=\"1 Planar ...  \n",
       "4  <input name=\"c\" type=\"hidden\" value=\"6 Forest|...  "
      ]
     },
     "execution_count": 32,
     "metadata": {},
     "output_type": "execute_result"
    }
   ],
   "source": [
    "decks_clean.head()"
   ]
  },
  {
   "cell_type": "markdown",
   "metadata": {},
   "source": [
    "#### Define\n",
    "- change type of `deck_list` to str"
   ]
  },
  {
   "cell_type": "markdown",
   "metadata": {},
   "source": [
    "#### Code"
   ]
  },
  {
   "cell_type": "code",
   "execution_count": 33,
   "metadata": {},
   "outputs": [],
   "source": [
    "decks_clean.deck_list = decks_clean.deck_list.astype('str')"
   ]
  },
  {
   "cell_type": "code",
   "execution_count": 34,
   "metadata": {},
   "outputs": [],
   "source": [
    "decks_clean.to_csv('~/Documents/MTG/data/decks_clean.csv', index=False)"
   ]
  },
  {
   "cell_type": "markdown",
   "metadata": {},
   "source": [
    "#### Test"
   ]
  },
  {
   "cell_type": "code",
   "execution_count": 35,
   "metadata": {},
   "outputs": [
    {
     "data": {
      "text/plain": [
       "str"
      ]
     },
     "execution_count": 35,
     "metadata": {},
     "output_type": "execute_result"
    }
   ],
   "source": [
    "type(decks_clean.deck_list[0])"
   ]
  },
  {
   "cell_type": "markdown",
   "metadata": {},
   "source": [
    "#### Define\n",
    "- drop .url and .text from the `name` column"
   ]
  },
  {
   "cell_type": "markdown",
   "metadata": {},
   "source": [
    "#### Code"
   ]
  },
  {
   "cell_type": "code",
   "execution_count": 36,
   "metadata": {},
   "outputs": [],
   "source": [
    "decks_clean.name = decks_clean.name.str.replace('.html.txt', '')"
   ]
  },
  {
   "cell_type": "code",
   "execution_count": 37,
   "metadata": {},
   "outputs": [],
   "source": [
    "decks_clean.to_csv('~/Documents/MTG/data/decks_clean.csv', index=False)"
   ]
  },
  {
   "cell_type": "markdown",
   "metadata": {},
   "source": [
    "#### Test"
   ]
  },
  {
   "cell_type": "code",
   "execution_count": 38,
   "metadata": {},
   "outputs": [
    {
     "data": {
      "text/html": [
       "<div>\n",
       "<style scoped>\n",
       "    .dataframe tbody tr th:only-of-type {\n",
       "        vertical-align: middle;\n",
       "    }\n",
       "\n",
       "    .dataframe tbody tr th {\n",
       "        vertical-align: top;\n",
       "    }\n",
       "\n",
       "    .dataframe thead th {\n",
       "        text-align: right;\n",
       "    }\n",
       "</style>\n",
       "<table border=\"1\" class=\"dataframe\">\n",
       "  <thead>\n",
       "    <tr style=\"text-align: right;\">\n",
       "      <th></th>\n",
       "      <th>url</th>\n",
       "      <th>name</th>\n",
       "      <th>player</th>\n",
       "      <th>deck_list</th>\n",
       "    </tr>\n",
       "  </thead>\n",
       "  <tbody>\n",
       "    <tr>\n",
       "      <th>0</th>\n",
       "      <td>https://www.mtgtop8.com/https://www.mtgtop8.co...</td>\n",
       "      <td>4c_Elementals</td>\n",
       "      <td>Robert_Lippmann</td>\n",
       "      <td>&lt;input name=\"c\" type=\"hidden\" value=\"13 Forest...</td>\n",
       "    </tr>\n",
       "    <tr>\n",
       "      <th>1</th>\n",
       "      <td>https://www.mtgtop8.com/https://www.mtgtop8.co...</td>\n",
       "      <td>Omnath</td>\n",
       "      <td>Clarence_Dews</td>\n",
       "      <td>&lt;input name=\"c\" type=\"hidden\" value=\"10 Forest...</td>\n",
       "    </tr>\n",
       "    <tr>\n",
       "      <th>2</th>\n",
       "      <td>https://www.mtgtop8.com/https://www.mtgtop8.co...</td>\n",
       "      <td>4colour_Good_Stuff</td>\n",
       "      <td>Yohan_Dudognon</td>\n",
       "      <td>&lt;input name=\"c\" type=\"hidden\" value=\"2 Essence...</td>\n",
       "    </tr>\n",
       "    <tr>\n",
       "      <th>3</th>\n",
       "      <td>https://www.mtgtop8.com/https://www.mtgtop8.co...</td>\n",
       "      <td>4c_Sun</td>\n",
       "      <td>Aaron_Barich</td>\n",
       "      <td>&lt;input name=\"c\" type=\"hidden\" value=\"1 Planar ...</td>\n",
       "    </tr>\n",
       "    <tr>\n",
       "      <th>4</th>\n",
       "      <td>https://www.mtgtop8.com/https://www.mtgtop8.co...</td>\n",
       "      <td>4c_Energy</td>\n",
       "      <td>rushi_00</td>\n",
       "      <td>&lt;input name=\"c\" type=\"hidden\" value=\"6 Forest|...</td>\n",
       "    </tr>\n",
       "  </tbody>\n",
       "</table>\n",
       "</div>"
      ],
      "text/plain": [
       "                                                 url                name  \\\n",
       "0  https://www.mtgtop8.com/https://www.mtgtop8.co...       4c_Elementals   \n",
       "1  https://www.mtgtop8.com/https://www.mtgtop8.co...              Omnath   \n",
       "2  https://www.mtgtop8.com/https://www.mtgtop8.co...  4colour_Good_Stuff   \n",
       "3  https://www.mtgtop8.com/https://www.mtgtop8.co...              4c_Sun   \n",
       "4  https://www.mtgtop8.com/https://www.mtgtop8.co...           4c_Energy   \n",
       "\n",
       "            player                                          deck_list  \n",
       "0  Robert_Lippmann  <input name=\"c\" type=\"hidden\" value=\"13 Forest...  \n",
       "1    Clarence_Dews  <input name=\"c\" type=\"hidden\" value=\"10 Forest...  \n",
       "2   Yohan_Dudognon  <input name=\"c\" type=\"hidden\" value=\"2 Essence...  \n",
       "3     Aaron_Barich  <input name=\"c\" type=\"hidden\" value=\"1 Planar ...  \n",
       "4         rushi_00  <input name=\"c\" type=\"hidden\" value=\"6 Forest|...  "
      ]
     },
     "execution_count": 38,
     "metadata": {},
     "output_type": "execute_result"
    }
   ],
   "source": [
    "decks_clean.head()"
   ]
  },
  {
   "cell_type": "markdown",
   "metadata": {},
   "source": [
    "#### Define\n",
    "- get rid of all unneccessary characters in `deck_list`"
   ]
  },
  {
   "cell_type": "markdown",
   "metadata": {},
   "source": [
    "#### Code"
   ]
  },
  {
   "cell_type": "code",
   "execution_count": 39,
   "metadata": {},
   "outputs": [],
   "source": [
    "decks_clean.deck_list = decks_clean.deck_list.str.replace('<input name=\"c\" type=\"hidden\" value=', '')"
   ]
  },
  {
   "cell_type": "code",
   "execution_count": 40,
   "metadata": {},
   "outputs": [],
   "source": [
    "decks_clean.deck_list = decks_clean.deck_list.str.strip('\"')"
   ]
  },
  {
   "cell_type": "code",
   "execution_count": 41,
   "metadata": {},
   "outputs": [],
   "source": [
    "decks_clean.to_csv('~/Documents/MTG/data/decks_clean.csv', index=False)"
   ]
  },
  {
   "cell_type": "markdown",
   "metadata": {},
   "source": [
    "#### Test"
   ]
  },
  {
   "cell_type": "code",
   "execution_count": 42,
   "metadata": {},
   "outputs": [
    {
     "data": {
      "text/html": [
       "<div>\n",
       "<style scoped>\n",
       "    .dataframe tbody tr th:only-of-type {\n",
       "        vertical-align: middle;\n",
       "    }\n",
       "\n",
       "    .dataframe tbody tr th {\n",
       "        vertical-align: top;\n",
       "    }\n",
       "\n",
       "    .dataframe thead th {\n",
       "        text-align: right;\n",
       "    }\n",
       "</style>\n",
       "<table border=\"1\" class=\"dataframe\">\n",
       "  <thead>\n",
       "    <tr style=\"text-align: right;\">\n",
       "      <th></th>\n",
       "      <th>url</th>\n",
       "      <th>name</th>\n",
       "      <th>player</th>\n",
       "      <th>deck_list</th>\n",
       "    </tr>\n",
       "  </thead>\n",
       "  <tbody>\n",
       "    <tr>\n",
       "      <th>0</th>\n",
       "      <td>https://www.mtgtop8.com/https://www.mtgtop8.co...</td>\n",
       "      <td>4c_Elementals</td>\n",
       "      <td>Robert_Lippmann</td>\n",
       "      <td>13 Forest||4 Llanowar Elves||3 Greenbelt Rampa...</td>\n",
       "    </tr>\n",
       "    <tr>\n",
       "      <th>1</th>\n",
       "      <td>https://www.mtgtop8.com/https://www.mtgtop8.co...</td>\n",
       "      <td>Omnath</td>\n",
       "      <td>Clarence_Dews</td>\n",
       "      <td>10 Forest||7 Island||4 Llanowar Elves||4 Breed...</td>\n",
       "    </tr>\n",
       "    <tr>\n",
       "      <th>2</th>\n",
       "      <td>https://www.mtgtop8.com/https://www.mtgtop8.co...</td>\n",
       "      <td>4colour_Good_Stuff</td>\n",
       "      <td>Yohan_Dudognon</td>\n",
       "      <td>2 Essence Scatter||4 Glacial Fortress||7 Islan...</td>\n",
       "    </tr>\n",
       "    <tr>\n",
       "      <th>3</th>\n",
       "      <td>https://www.mtgtop8.com/https://www.mtgtop8.co...</td>\n",
       "      <td>4c_Sun</td>\n",
       "      <td>Aaron_Barich</td>\n",
       "      <td>1 Planar Cleansing||2 Forest||2 Island||1 Plai...</td>\n",
       "    </tr>\n",
       "    <tr>\n",
       "      <th>4</th>\n",
       "      <td>https://www.mtgtop8.com/https://www.mtgtop8.co...</td>\n",
       "      <td>4c_Energy</td>\n",
       "      <td>rushi_00</td>\n",
       "      <td>6 Forest||4 Swamp||4 Blood Crypt||4 Cauldron F...</td>\n",
       "    </tr>\n",
       "  </tbody>\n",
       "</table>\n",
       "</div>"
      ],
      "text/plain": [
       "                                                 url                name  \\\n",
       "0  https://www.mtgtop8.com/https://www.mtgtop8.co...       4c_Elementals   \n",
       "1  https://www.mtgtop8.com/https://www.mtgtop8.co...              Omnath   \n",
       "2  https://www.mtgtop8.com/https://www.mtgtop8.co...  4colour_Good_Stuff   \n",
       "3  https://www.mtgtop8.com/https://www.mtgtop8.co...              4c_Sun   \n",
       "4  https://www.mtgtop8.com/https://www.mtgtop8.co...           4c_Energy   \n",
       "\n",
       "            player                                          deck_list  \n",
       "0  Robert_Lippmann  13 Forest||4 Llanowar Elves||3 Greenbelt Rampa...  \n",
       "1    Clarence_Dews  10 Forest||7 Island||4 Llanowar Elves||4 Breed...  \n",
       "2   Yohan_Dudognon  2 Essence Scatter||4 Glacial Fortress||7 Islan...  \n",
       "3     Aaron_Barich  1 Planar Cleansing||2 Forest||2 Island||1 Plai...  \n",
       "4         rushi_00  6 Forest||4 Swamp||4 Blood Crypt||4 Cauldron F...  "
      ]
     },
     "execution_count": 42,
     "metadata": {},
     "output_type": "execute_result"
    }
   ],
   "source": [
    "decks_clean.head()"
   ]
  },
  {
   "cell_type": "markdown",
   "metadata": {},
   "source": [
    "#### Define\n",
    "- split deck_list into multiple objects"
   ]
  },
  {
   "cell_type": "markdown",
   "metadata": {},
   "source": [
    "#### Code"
   ]
  },
  {
   "cell_type": "code",
   "execution_count": 43,
   "metadata": {},
   "outputs": [],
   "source": [
    "decks_clean.deck_list = decks_clean.deck_list.str.split(r'\\|\\|')"
   ]
  },
  {
   "cell_type": "code",
   "execution_count": 44,
   "metadata": {},
   "outputs": [],
   "source": [
    "decks_clean.to_csv('~/Documents/MTG/data/decks_clean.csv', index=False)"
   ]
  },
  {
   "cell_type": "markdown",
   "metadata": {},
   "source": [
    "#### Test"
   ]
  },
  {
   "cell_type": "code",
   "execution_count": 45,
   "metadata": {},
   "outputs": [
    {
     "data": {
      "text/html": [
       "<div>\n",
       "<style scoped>\n",
       "    .dataframe tbody tr th:only-of-type {\n",
       "        vertical-align: middle;\n",
       "    }\n",
       "\n",
       "    .dataframe tbody tr th {\n",
       "        vertical-align: top;\n",
       "    }\n",
       "\n",
       "    .dataframe thead th {\n",
       "        text-align: right;\n",
       "    }\n",
       "</style>\n",
       "<table border=\"1\" class=\"dataframe\">\n",
       "  <thead>\n",
       "    <tr style=\"text-align: right;\">\n",
       "      <th></th>\n",
       "      <th>url</th>\n",
       "      <th>name</th>\n",
       "      <th>player</th>\n",
       "      <th>deck_list</th>\n",
       "    </tr>\n",
       "  </thead>\n",
       "  <tbody>\n",
       "    <tr>\n",
       "      <th>0</th>\n",
       "      <td>https://www.mtgtop8.com/https://www.mtgtop8.co...</td>\n",
       "      <td>4c_Elementals</td>\n",
       "      <td>Robert_Lippmann</td>\n",
       "      <td>[13 Forest, 4 Llanowar Elves, 3 Greenbelt Ramp...</td>\n",
       "    </tr>\n",
       "    <tr>\n",
       "      <th>1</th>\n",
       "      <td>https://www.mtgtop8.com/https://www.mtgtop8.co...</td>\n",
       "      <td>Omnath</td>\n",
       "      <td>Clarence_Dews</td>\n",
       "      <td>[10 Forest, 7 Island, 4 Llanowar Elves, 4 Bree...</td>\n",
       "    </tr>\n",
       "    <tr>\n",
       "      <th>2</th>\n",
       "      <td>https://www.mtgtop8.com/https://www.mtgtop8.co...</td>\n",
       "      <td>4colour_Good_Stuff</td>\n",
       "      <td>Yohan_Dudognon</td>\n",
       "      <td>[2 Essence Scatter, 4 Glacial Fortress, 7 Isla...</td>\n",
       "    </tr>\n",
       "    <tr>\n",
       "      <th>3</th>\n",
       "      <td>https://www.mtgtop8.com/https://www.mtgtop8.co...</td>\n",
       "      <td>4c_Sun</td>\n",
       "      <td>Aaron_Barich</td>\n",
       "      <td>[1 Planar Cleansing, 2 Forest, 2 Island, 1 Pla...</td>\n",
       "    </tr>\n",
       "    <tr>\n",
       "      <th>4</th>\n",
       "      <td>https://www.mtgtop8.com/https://www.mtgtop8.co...</td>\n",
       "      <td>4c_Energy</td>\n",
       "      <td>rushi_00</td>\n",
       "      <td>[6 Forest, 4 Swamp, 4 Blood Crypt, 4 Cauldron ...</td>\n",
       "    </tr>\n",
       "  </tbody>\n",
       "</table>\n",
       "</div>"
      ],
      "text/plain": [
       "                                                 url                name  \\\n",
       "0  https://www.mtgtop8.com/https://www.mtgtop8.co...       4c_Elementals   \n",
       "1  https://www.mtgtop8.com/https://www.mtgtop8.co...              Omnath   \n",
       "2  https://www.mtgtop8.com/https://www.mtgtop8.co...  4colour_Good_Stuff   \n",
       "3  https://www.mtgtop8.com/https://www.mtgtop8.co...              4c_Sun   \n",
       "4  https://www.mtgtop8.com/https://www.mtgtop8.co...           4c_Energy   \n",
       "\n",
       "            player                                          deck_list  \n",
       "0  Robert_Lippmann  [13 Forest, 4 Llanowar Elves, 3 Greenbelt Ramp...  \n",
       "1    Clarence_Dews  [10 Forest, 7 Island, 4 Llanowar Elves, 4 Bree...  \n",
       "2   Yohan_Dudognon  [2 Essence Scatter, 4 Glacial Fortress, 7 Isla...  \n",
       "3     Aaron_Barich  [1 Planar Cleansing, 2 Forest, 2 Island, 1 Pla...  \n",
       "4         rushi_00  [6 Forest, 4 Swamp, 4 Blood Crypt, 4 Cauldron ...  "
      ]
     },
     "execution_count": 45,
     "metadata": {},
     "output_type": "execute_result"
    }
   ],
   "source": [
    "decks_clean.head()"
   ]
  },
  {
   "cell_type": "markdown",
   "metadata": {},
   "source": [
    "#### Define\n",
    "- remove first https from `url` column"
   ]
  },
  {
   "cell_type": "markdown",
   "metadata": {},
   "source": [
    "#### Code"
   ]
  },
  {
   "cell_type": "code",
   "execution_count": 46,
   "metadata": {},
   "outputs": [],
   "source": [
    "decks_clean.url = decks_clean.url.str.replace('https://www.mtgtop8.com/', '')\n",
    "decks_clean.url = 'https://www.mtgtop8.com/' + decks_clean.url"
   ]
  },
  {
   "cell_type": "code",
   "execution_count": 47,
   "metadata": {},
   "outputs": [],
   "source": [
    "decks_clean.to_csv('~/Documents/MTG/data/decks_clean.csv', index=False)"
   ]
  },
  {
   "cell_type": "markdown",
   "metadata": {},
   "source": [
    "#### Test"
   ]
  },
  {
   "cell_type": "code",
   "execution_count": 48,
   "metadata": {},
   "outputs": [
    {
     "data": {
      "text/plain": [
       "'https://www.mtgtop8.com/event?e=23476&amp;d=362227&amp;f=ST'"
      ]
     },
     "execution_count": 48,
     "metadata": {},
     "output_type": "execute_result"
    }
   ],
   "source": [
    "decks_clean.url[0]"
   ]
  },
  {
   "cell_type": "markdown",
   "metadata": {},
   "source": [
    "#### Define\n",
    "- make `deck_list` column a str"
   ]
  },
  {
   "cell_type": "markdown",
   "metadata": {},
   "source": [
    "#### Code"
   ]
  },
  {
   "cell_type": "code",
   "execution_count": 62,
   "metadata": {},
   "outputs": [],
   "source": [
    "decks_clean.deck_list = decks_clean.deck_list.astype('str')"
   ]
  },
  {
   "cell_type": "code",
   "execution_count": 64,
   "metadata": {},
   "outputs": [],
   "source": [
    "decks_clean.to_csv('~/Documents/MTG/data/decks_clean.csv', index=False)"
   ]
  },
  {
   "cell_type": "markdown",
   "metadata": {},
   "source": [
    "#### Test"
   ]
  },
  {
   "cell_type": "code",
   "execution_count": 63,
   "metadata": {},
   "outputs": [
    {
     "data": {
      "text/plain": [
       "str"
      ]
     },
     "execution_count": 63,
     "metadata": {},
     "output_type": "execute_result"
    }
   ],
   "source": [
    "type(decks_clean.deck_list[0])"
   ]
  },
  {
   "cell_type": "markdown",
   "metadata": {},
   "source": [
    "#### Define\n",
    "- figure out how many '[nan]' are in deck_list"
   ]
  },
  {
   "cell_type": "markdown",
   "metadata": {},
   "source": [
    "#### Code"
   ]
  },
  {
   "cell_type": "code",
   "execution_count": 9,
   "metadata": {},
   "outputs": [
    {
     "data": {
      "text/plain": [
       "['nan']                                                                                                                                                                                                                                                                                                                                                                                                                                                                                                                                                                                                                                                                                                                                                                                                                            45\n",
       "['2 Shock', '10 Forest', '9 Mountain', '4 Bonecrusher Giant', '2 Embercleave', '2 Redcap Melee', '4 Once Upon a Time', '4 Questing Beast', '3 Lovestruck Beast', '2 Kraul Harpooner', '4 Pelt Collector', '4 Stomping Ground', '1 Shifting Ceratops', '2 Veil of Summer', '2 Thrashing Brontodon', '3 Skarrgan Hellkite', '4 Gruul Spellbreaker', '4 Zhur-Taa Goblin', '3 Collision-Colossus', '3 Paradise Druid', \"3 Domri's Ambush\", '\"/>']                                                                                                                                                                                                                                                                                                                                                                                      26\n",
       "['10 Forest', '7 Island', '4 Breeding Pool', '2 Brazen Borrower', '1 Gadwick, the Wizened', '2 Mystical Dispute', '4 Gilded Goose', '4 Once Upon a Time', '2 Questing Beast', '4 Wicked Wolf', '4 Oko, Thief of Crowns', '2 Castle Vantress', '1 Fabled Passage', '4 Aether Gust', '4 Veil of Summer', '2 Voracious Hydra', '2 Negate', '2 Mass Manipulation', '4 Hydroid Krasis', '2 Temple of Mystery', '4 Nissa, Who Shakes the World', '4 Paradise Druid', '\"/>']                                                                                                                                                                                                                                                                                                                                                              16\n",
       "['2 Disenchant', '2 Island', '2 Mountain', '1 Plains', '4 Hallowed Fountain', '4 Mystical Dispute', '4 Bonecrusher Giant', '4 Fires of Invention', '3 Castle Vantress', '3 Fabled Passage', '2 Kenrith, the Returned King', '4 Legion Warboss', '4 Deafening Clarion', '4 Steam Vents', '3 Temple of Epiphany', '2 Devout Decree', '2 Aether Gust', '3 Cavalier of Gales', '4 Cavalier of Flame', '2 Sacred Foundry', '3 Shimmer of Possibility', '4 Sphinx of Foresight', '3 Temple of Triumph', '1 Solar Blaze', '4 Teferi, Time Raveler', '1 Sorcerous Spyglass', '\"/>']                                                                                                                                                                                                                                                        15\n",
       "['1 Essence Scatter', '4 Forest', '1 Island', '2 Swamp', '4 Fatal Push', '4 Glint-Sleeve Siphoner', '2 Rishkar, Peema Renegade', '4 Rogue Refiner', '4 Winding Constrictor', '3 Walking Ballista', '2 Nissa, Steward of Elements', '2 Fetid Pools', '2 The Scarab God', '2 Die Young', '1 Appetite for the Unnatural', '4 Attune with Aether', '4 Blossoming Defense', '4 Longtusk Cub', '4 Aether Hub', '4 Blooming Marsh', '4 Botanical Sanctum', '2 Negate', '3 Duress', \"2 Vraska's Contempt\", '3 Deathgorge Scavenger', '3 Hostage Taker', '\"/>']                                                                                                                                                                                                                                                                             12\n",
       "['4 Forest', '2 Island', '2 Plains', '4 Breeding Pool', '4 Hallowed Fountain', '3 Mystical Dispute', '4 Gilded Goose', '4 Oko, Thief of Crowns', '2 Castle Vantress', '3 Fabled Passage', '2 Conclave Tribunal', '2 Knight of Autumn', '3 Devout Decree', '3 Veil of Summer', '2 Negate', '3 Temple Garden', '2 Mass Manipulation', '3 Growth Spiral', '4 Hydroid Krasis', '3 Temple of Mystery', '3 Arboreal Grazer', '4 Nissa, Who Shakes the World', '1 Tamiyo, Collector of Tales', '4 Teferi, Time Raveler', '4 Time Wipe', '\"/>']                                                                                                                                                                                                                                                                                            10\n",
       "['6 Island', '3 Plains', '4 Hallowed Fountain', '2 Giant Killer', '3 Gadwick, the Wizened', '2 Mystical Dispute', '3 Vantress Gargoyle', '3 Castle Ardenvale', '3 Castle Vantress', '3 Fabled Passage', \"4 Chemister's Insight\", '4 Absorb', '4 Opt', '4 Tranquil Cove', '4 Devout Decree', '3 Aether Gust', '1 Essence Capture', '4 Quench', '3 Finale of Glory', '2 Prison Realm', \"4 Dovin's Veto\", '3 Teferi, Time Raveler', '3 Time Wipe', '\"/>']                                                                                                                                                                                                                                                                                                                                                                              9\n",
       "['8 Forest', '8 Plains', '4 Faerie Guidemother', '4 Giant Killer', '2 Glass Casket', '1 Hushbringer', '4 Shepherd of the Flock', '4 Once Upon a Time', '1 Questing Beast', '1 Castle Ardenvale', '1 Flaxen Intruder', '4 Lovestruck Beast', '3 Conclave Tribunal', '4 Venerated Loxodon', '2 Knight of Autumn', '3 March of the Multitudes', '3 Flower-Flourish', '4 Silhana Ledgewalker', '2 Devout Decree', '2 Veil of Summer', '4 Temple Garden', '2 Unbreakable Formation', '2 Gideon Blackblade', '2 God-Eternal Oketra', '\"/>']                                                                                                                                                                                                                                                                                               8\n",
       "['6 Forest', '1 Island', '1 Swamp', '4 Breeding Pool', '4 Gilded Goose', '4 Once Upon a Time', '4 Wicked Wolf', '4 Oko, Thief of Crowns', '1 Castle Garenbrig', '1 Castle Locthwain', '1 Castle Vantress', '2 Fabled Passage', \"4 Assassin's Trophy\", '3 Unmoored Ego', '3 Vraska, Golgari Queen', '2 Find-Finality', '2 Temple of Malady', \"4 Legion's End\", '4 Noxious Grasp', '4 Veil of Summer', '4 Overgrown Tomb', '3 Hydroid Krasis', '2 Temple of Mystery', '4 Nissa, Who Shakes the World', '3 Paradise Druid', '\"/>']                                                                                                                                                                                                                                                                                                     8\n",
       "['9 Forest', '7 Swamp', '4 Foulmire Knight', '4 Murderous Rider', '2 Order of Midnight', '4 Edgewall Innkeeper', '1 The Great Henge', '4 Once Upon a Time', '1 Questing Beast', '2 Castle Locthwain', '2 Fabled Passage', '4 Lovestruck Beast', '2 Rankle, Master of Pranks', \"2 Assassin's Trophy\", '1 Vraska, Golgari Queen', '1 Cavalier of Night', \"2 Legion's End\", '1 Noxious Grasp', '2 Veil of Summer', '1 Vivien, Arkbow Ranger', '4 Overgrown Tomb', '2 Thrashing Brontodon', '4 Duress', '1 Liliana, Dreadhorde General', '2 Massacre Girl', '1 Nissa, Who Shakes the World', '3 Paradise Druid', '2 Sorcerous Spyglass', '\"/>']                                                                                                                                                                                         8\n",
       "['2 Mountain', '1 Plains', '2 Swamp', '4 Blood Crypt', '4 Venerable Knight', '4 Worthy Knight', '4 Blacklance Paragon', '3 Embercleave', '1 Rimrock Knight', '4 Inspiring Veteran', '1 Steelclaw Lance', '2 Fabled Passage', '4 Tournament Grounds', '4 Acclaimed Contender', '4 Fervent Champion', '4 Godless Shrine', '3 Devout Decree', '4 Knight of the Ebon Legion', \"2 Legion's End\", '4 Noxious Grasp', '4 Rotting Regisaur', '4 Sacred Foundry', '1 Temple of Silence', '3 Duress', \"2 Ob Nixilis's Cruelty\", '\"/>']                                                                                                                                                                                                                                                                                                        8\n",
       "['3 Forest', '1 Island', '2 Swamp', '4 Breeding Pool', '4 Cauldron Familiar', '3 Murderous Rider', '4 Gilded Goose', '3 Once Upon a Time', '4 Trail of Crumbs', '1 Wicked Wolf', '4 Oko, Thief of Crowns', \"4 Witch's Oven\", '2 Castle Locthwain', '3 Fabled Passage', '2 Lovestruck Beast', '2 Vraska, Golgari Queen', '2 Aether Gust', '2 Noxious Grasp', '2 Rotting Regisaur', '2 Veil of Summer', '2 Negate', '4 Overgrown Tomb', '2 Temple Garden', '4 Watery Grave', '2 Thrashing Brontodon', '1 Ethereal Absolution', '2 Duress', '1 Liliana, Dreadhorde General', '3 Massacre Girl', '\"/>']                                                                                                                                                                                                                                 8\n",
       "['2 Shock', '10 Forest', '8 Mountain', '3 Bonecrusher Giant', '3 Embercleave', '2 Redcap Melee', '2 Once Upon a Time', '2 Questing Beast', '4 Kraul Harpooner', '4 Pelt Collector', '4 Stomping Ground', '1 Rugged Highlands', '2 Flame Sweep', '2 Shifting Ceratops', '4 Veil of Summer', '2 Thrashing Brontodon', '3 Skarrgan Hellkite', '4 Gruul Spellbreaker', '4 Zhur-Taa Goblin', '3 Collision-Colossus', '3 Paradise Druid', '3 Return to Nature', '\"/>']                                                                                                                                                                                                                                                                                                                                                                    8\n",
       "['7 Forest', '1 Island', '2 Swamp', '4 Breeding Pool', '4 Gilded Goose', '3 Once Upon a Time', '4 Wicked Wolf', '4 Oko, Thief of Crowns', '1 Castle Locthwain', '2 Fabled Passage', \"1 Assassin's Trophy\", '2 Vraska, Golgari Queen', '2 Disdainful Stroke', '4 Noxious Grasp', '3 Veil of Summer', '1 Negate', '4 Overgrown Tomb', '4 Watery Grave', '2 Thrashing Brontodon', '4 Hydroid Krasis', '2 Duress', '2 Liliana, Dreadhorde General', '2 Massacre Girl', '4 Nissa, Who Shakes the World', '4 Paradise Druid', '2 Casualties of War', '\"/>']                                                                                                                                                                                                                                                                               8\n",
       "['5 Forest', '1 Island', '2 Swamp', '4 Breeding Pool', '4 Cauldron Familiar', '3 Murderous Rider', '4 Gilded Goose', '2 Once Upon a Time', '1 Questing Beast', '4 Trail of Crumbs', '2 Wicked Wolf', '4 Oko, Thief of Crowns', \"4 Witch's Oven\", '2 Castle Locthwain', '3 Fabled Passage', '2 Lovestruck Beast', '3 Vraska, Golgari Queen', '2 Aether Gust', '2 Noxious Grasp', '1 Rotting Regisaur', '3 Veil of Summer', '1 Negate', '4 Overgrown Tomb', '4 Watery Grave', '2 Thrashing Brontodon', '2 Duress', '1 Liliana, Dreadhorde General', '3 Massacre Girl', '\"/>']                                                                                                                                                                                                                                                         8\n",
       "['8 Forest', '6 Island', '4 Breeding Pool', '2 Mystical Dispute', '2 Gilded Goose', '2 Castle Garenbrig', '1 Castle Vantress', '3 Lovestruck Beast', '1 Quasiduplicate', '3 Aether Gust', '3 Agent of Treachery', '4 Cavalier of Thorns', '4 Leafkin Druid', '3 Shifting Ceratops', '4 Risen Reef', '2 Negate', '2 Thrashing Brontodon', '1 End-Raze Forerunners', '4 Hydroid Krasis', '4 Temple of Mystery', '2 Finale of Devastation', '4 Nissa, Who Shakes the World', '4 Paradise Druid', '1 Return to Nature', '1 Tamiyo, Collector of Tales', '\"/>']                                                                                                                                                                                                                                                                          8\n",
       "['11 Forest', '6 Swamp', '4 Cauldron Familiar', '3 Murderous Rider', '4 Gilded Goose', '4 Trail of Crumbs', '4 Wicked Wolf', \"4 Witch's Oven\", '1 Castle Locthwain', '3 Fabled Passage', '1 Garruk, Cursed Huntsman', '4 Lovestruck Beast', '4 Midnight Reaper', '3 Ritual of Soot', '2 Vraska, Golgari Queen', '4 Overgrown Tomb', '2 Thrashing Brontodon', '4 Duress', '3 Massacre Girl', '2 Paradise Druid', '2 Casualties of War', '\"/>']                                                                                                                                                                                                                                                                                                                                                                                       7\n",
       "['5 Forest', '1 Mountain', '3 Swamp', '4 Blood Crypt', '3 Cauldron Familiar', '4 Murderous Rider', '4 Gilded Goose', '3 Questing Beast', '4 Trail of Crumbs', '3 Wicked Wolf', \"4 Witch's Oven\", '1 Castle Locthwain', '3 Fabled Passage', '2 Vraska, Golgari Queen', '1 Find-Finality', '4 Stomping Ground', '2 Noxious Grasp', '4 Overgrown Tomb', '4 Cindervines', '3 Duress', '2 Liliana, Dreadhorde General', '3 Massacre Girl', '4 Paradise Druid', '4 Mayhem Devil', '\"/>']                                                                                                                                                                                                                                                                                                                                                  7\n",
       "['1 Planar Cleansing', '2 Forest', '2 Island', '1 Plains', '2 Breeding Pool', '2 Hallowed Fountain', '2 Realm-Cloaked Giant', '1 Beanstalk Giant', '3 Once Upon a Time', '1 Castle Vantress', '2 Fabled Passage', '4 Circuitous Route', '1 Knight of Autumn', '1 Boros Guildgate', '1 Dimir Guildgate', '1 Simic Guildgate', '1 Temple of Malady', '2 Disdainful Stroke', '1 Blossoming Sands', '1 Thornwood Falls', '1 Tranquil Cove', '3 Devout Decree', '3 Aether Gust', '4 Agent of Treachery', '1 Veil of Summer', '4 Golos, Tireless Pilgrim', '4 Field of the Dead', '2 Temple Garden', '2 Deputy of Detention', '4 Growth Spiral', '3 Hydroid Krasis', '1 Plaza of Harmony', '1 Azorius Guildgate', '1 Selesnya Guildgate', '1 Temple of Mystery', '2 Arboreal Grazer', '4 Teferi, Time Raveler', '2 Time Wipe', '\"/>']     7\n",
       "['2 Shock', '8 Island', '4 Mountain', '4 Brazen Borrower', '3 Gadwick, the Wizened', '2 Mystical Dispute', '4 Bonecrusher Giant', '2 Castle Vantress', '3 Fabled Passage', '2 Lava Coil', '4 Ionize', '4 Steam Vents', '4 Opt', '4 Temple of Epiphany', \"1 Chandra's Pyrohelix\", '4 Aether Gust', '4 Brineborn Cutthroat', '2 Chandra, Awakened Inferno', '2 Flame Sweep', '3 Negate', '1 Essence Capture', '2 Quench', \"3 Ral's Outburst\", '3 Sorcerous Spyglass', '\"/>']                                                                                                                                                                                                                                                                                                                                                          7\n",
       "['1 Shock', '10 Forest', '10 Mountain', '4 Bonecrusher Giant', '3 Embercleave', '4 Rimrock Knight', '4 Edgewall Innkeeper', '4 Once Upon a Time', '4 Questing Beast', '2 Embereth Shieldbreaker', '4 Lovestruck Beast', '2 Experimental Frenzy', '2 Lava Coil', '4 Kraul Harpooner', '4 Stomping Ground', '1 Flame Sweep', '3 Veil of Summer', '4 Cindervines', \"4 Domri's Ambush\", '1 Sorcerous Spyglass', '\"/>']                                                                                                                                                                                                                                                                                                                                                                                                                  7\n",
       "['6 Forest', '5 Island', '4 Breeding Pool', '4 Hallowed Fountain', '1 Mystical Dispute', '4 Gilded Goose', '4 Once Upon a Time', '4 Wicked Wolf', '4 Oko, Thief of Crowns', '2 Castle Vantress', '3 Aether Gust', '2 Veil of Summer', '4 Voracious Hydra', '2 Negate', '4 Temple Garden', '3 Thrashing Brontodon', '3 Mass Manipulation', '1 Deputy of Detention', '3 Hydroid Krasis', '4 Nissa, Who Shakes the World', '4 Paradise Druid', '4 Teferi, Time Raveler', '\"/>']                                                                                                                                                                                                                                                                                                                                                        7\n",
       "['11 Forest', '6 Island', '4 Breeding Pool', '4 Brazen Borrower', '1 Mystical Dispute', '4 Gilded Goose', '4 Once Upon a Time', '4 Wicked Wolf', '4 Oko, Thief of Crowns', '2 Kraul Harpooner', '2 Disdainful Stroke', '4 Aether Gust', '3 Veil of Summer', '3 Voracious Hydra', '1 Negate', '2 Thrashing Brontodon', '4 Hydroid Krasis', '3 Temple of Mystery', '4 Nissa, Who Shakes the World', '4 Paradise Druid', '1 Mobilized District', '\"/>']                                                                                                                                                                                                                                                                                                                                                                                7\n",
       "['4 Shock', '10 Forest', '5 Mountain', '3 Bonecrusher Giant', '4 Robber of the Rich', '4 Once Upon a Time', '3 Questing Beast', '3 Castle Embereth', '3 Lava Coil', '4 Pelt Collector', '4 Stomping Ground', '4 Shifting Ceratops', '2 Veil of Summer', '4 Voracious Hydra', '2 Thrashing Brontodon', '2 Skarrgan Hellkite', '4 Gruul Spellbreaker', '4 Zhur-Taa Goblin', '3 Domri, Anarch of Bolas', \"3 Domri's Ambush\", '\"/>']                                                                                                                                                                                                                                                                                                                                                                                                    7\n",
       "['2 Island', '2 Plains', '3 Swamp', '4 Hallowed Fountain', '1 Realm-Cloaked Giant', '2 Murderous Rider', '3 Dance of the Manse', '4 Doom Foretold', '4 Golden Egg', '1 Castle Locthwain', '1 Castle Vantress', '3 Fabled Passage', '1 Ritual of Soot', '4 Thought Erasure', '2 Mortify', '4 Godless Shrine', '2 Cavalier of Dawn', \"3 Legion's End\", '2 Noxious Grasp', '2 Watery Grave', '2 Cry of the Carnarium', '1 Ethereal Absolution', \"3 Kaya's Wrath\", '3 Temple of Silence', '2 Duress', '2 Davriel, Rogue Shadowmage', '2 Despark', '4 Oath of Kaya', '3 Teferi, Time Raveler', '3 Guild Globe', '\"/>']                                                                                                                                                                                                                   7\n",
       "['3 Glacial Fortress', '4 Breeding Pool', '3 Hallowed Fountain', \"2 Teshar, Ancestor's Apostle\", \"2 Urza's Ruinous Blast\", '4 Diligent Excavator', '4 Mox Amber', '1 Knight of Autumn', '4 Lazav, the Multifarious', '1 Godless Shrine', '1 Woodland Cemetery', '3 Temple of Malady', '2 Cerulean Drake', \"2 Legion's End\", '4 Kethis, the Hidden Hand', '2 Temple Garden', '4 Watery Grave', '1 Deputy of Detention', '1 Temple of Mystery', '3 Temple of Silence', '4 Fblthp, the Lost', '1 Jace, Wielder of Mysteries', '1 The Elderspell', '4 Oath of Kaya', '2 Sorin, Vengeful Bloodlord', '4 Tamiyo, Collector of Tales', '4 Teferi, Time Raveler', '1 Time Wipe', '3 Ashiok, Dream Render', '\"/>']                                                                                                                           6\n",
       "['2 Shock', '7 Forest', '4 Mountain', '1 Plains', '1 Deafening Silence', '1 The Great Henge', '2 Questing Beast', '1 Castle Embereth', '1 Castle Garenbrig', '4 Kraul Harpooner', '4 Nullhide Ferox', '4 Pelt Collector', '2 Deafening Clarion', '2 Justice Strike', '2 Knight of Autumn', '4 Stomping Ground', '3 Shifting Ceratops', '3 Veil of Summer', '1 Vivien, Arkbow Ranger', '2 Sacred Foundry', '4 Temple Garden', '2 Cindervines', '1 Domri, Chaos Bringer', '4 Gruul Spellbreaker', '2 Collision-Colossus', '2 Thrash-Threat', '1 Ilharg, the Raze-Boar', '2 Nissa, Who Shakes the World', '4 Paradise Druid', '2 Domri, Anarch of Bolas', '\"/>']                                                                                                                                                                       6\n",
       "['4 Shock', '17 Mountain', '4 Rimrock Knight', '4 Robber of the Rich', '3 Slaying Fire', '4 Castle Embereth', '4 Fervent Champion', '4 Torbran, Thane of Red Fell', '4 Experimental Frenzy', '4 Lava Coil', '4 Runaway Steam-Kin', \"2 Chandra's Pyrohelix\", '4 Chandra, Acolyte of Flame', '4 Scorch Spitter', '2 Light Up the Stage', '1 Skewer the Critics', '2 Footlight Fiend', '4 Tibalt, Rakish Instigator', '\"/>']                                                                                                                                                                                                                                                                                                                                                                                                           6\n",
       "['8 Forest', '7 Swamp', '4 Blacklance Paragon', '2 Murderous Rider', '2 Order of Midnight', '4 Questing Beast', '2 Fabled Passage', '3 Rankle, Master of Pranks', '4 Pelt Collector', \"2 Assassin's Trophy\", '2 Find-Finality', '4 Temple of Malady', '4 Knight of the Ebon Legion', \"1 Legion's End\", '2 Noxious Grasp', '2 Veil of Summer', '3 Vivien, Arkbow Ranger', '4 Overgrown Tomb', '1 Thrashing Brontodon', '2 Drill Bit', '4 Spawn of Mayhem', '2 Davriel, Rogue Shadowmage', '4 Paradise Druid', '2 Disfigure', '\"/>']                                                                                                                                                                                                                                                                                                  6\n",
       "['6 Forest', '4 Swamp', '4 Blood Crypt', '4 Cauldron Familiar', '3 Murderous Rider', '1 Giant Opportunity', '4 Gilded Goose', '4 Once Upon a Time', '4 Trail of Crumbs', '3 Wicked Wolf', \"4 Witch's Oven\", '2 Castle Locthwain', '4 Lovestruck Beast', '1 Korvold, Fae-Cursed King', '1 Midnight Reaper', '4 Stomping Ground', '4 Rotting Regisaur', '2 Veil of Summer', '4 Overgrown Tomb', '2 Thrashing Brontodon', '3 Duress', '3 Massacre Girl', '4 Mayhem Devil', '\"/>']                                                                                                                                                                                                                                                                                                                                                      6\n",
       "                                                                                                                                                                                                                                                                                                                                                                                                                                                                                                                                                                                                                                                                                                                                                                                                                                   ..\n",
       "['10 Forest', '6 Swamp', '2 Fatal Push', '3 Greenbelt Rampager', '4 Heart of Kiran', '2 Walking Ballista', '4 Karn, Scion of Urza', '2 Cast Down', '2 Phyrexian Scriptures', '1 The Eldest Reborn', '2 Ifnir Deadlands', '4 Woodland Cemetery', '2 Gonti, Lord of Luxury', '3 Nissa, Vital Force', \"1 Cultivator's Caravan\", '4 Scrapheap Scrounger', '4 Blooming Marsh', '1 Naturalize', '2 Golden Demise', '4 Thrashing Brontodon', '4 Duress', \"3 Vraska's Contempt\", '2 Deathgorge Scavenger', '2 Vraska, Relic Seeker', '1 Sorcerous Spyglass', '\"/>']                                                                                                                                                                                                                                                                         1\n",
       "['4 Forest', '4 Llanowar Elves', '4 Breeding Pool', '3 Cast Down', '3 Find-Finality', '4 Hinterland Harbor', '4 Woodland Cemetery', '2 Disdainful Stroke', '2 Vivien Reid', '3 Negate', '4 Overgrown Tomb', '4 Watery Grave', '3 Moment of Craving', '4 Jadelight Ranger', '2 Thrashing Brontodon', \"2 Hadana's Climb\", '4 Growth-Chamber Guardian', '4 Incubation Druid', '4 Hydroid Krasis', '2 Zegana, Utopian Speaker', '3 Duress', '3 Merfolk Branchwalker', '3 Hostage Taker', '\"/>']                                                                                                                                                                                                                                                                                                                                         1\n",
       "['1 Doom Blade', '3 Lifebane Zombie', '14 Swamp', '2 Bile Blight', '4 Devour Flesh', '4 Nightveil Specter', '4 Thoughtseize', '4 Mutavault', '4 Desecration Demon', '4 Pack Rat', '1 Ultimate Price', '4 Underworld Connections', '2 Pithing Needle', '1 Dark Betrayal', '2 Erebos, God of the Dead', '4 Gray Merchant of Asphodel', \"4 Hero's Downfall\", \"1 Pharika's Cure\", '1 Whip of Erebos', '4 Temple of Deceit', '4 Temple of Silence', '4 Duress', '\"/>']                                                                                                                                                                                                                                                                                                                                                                   1\n",
       "['1 Glacial Fortress', '1 Sunpetal Grove', '2 Forest', '2 Island', '1 Plains', '2 Breeding Pool', '2 Hallowed Fountain', '2 Teferi, Hero of Dominaria', '4 Circuitous Route', '1 Simic Guildgate', '1 Hinterland Harbor', '1 Temple of Malady', '1 Thornwood Falls', '1 Tranquil Cove', '4 Elvish Rejuvenator', '2 Nexus of Fate', '3 Aether Gust', '3 Veil of Summer', '3 Golos, Tireless Pilgrim', '4 Field of the Dead', '2 Scapeshift', '2 Temple Garden', '1 Arch of Orazca', '4 Deputy of Detention', '4 Growth Spiral', '4 Hydroid Krasis', '1 Azorius Guildgate', '1 Golgari Guildgate', '1 Izzet Guildgate', '1 Selesnya Guildgate', '1 Temple of Mystery', '2 Arboreal Grazer', \"3 Dovin's Veto\", '4 Teferi, Time Raveler', '2 Time Wipe', '1 Blast Zone', '\"/>']                                                         1\n",
       "['4 Shock', '19 Mountain', '2 Bonecrusher Giant', '3 Redcap Melee', '4 Rimrock Knight', '3 Slaying Fire', '3 Castle Embereth', '4 Fervent Champion', '4 Torbran, Thane of Red Fell', '2 Experimental Frenzy', '2 Lava Coil', '3 Legion Warboss', '4 Runaway Steam-Kin', '4 Chandra, Acolyte of Flame', '4 Scorch Spitter', '2 Light Up the Stage', '3 Skewer the Critics', '3 Chandra, Fire Artisan', '2 Tibalt, Rakish Instigator', '\"/>']                                                                                                                                                                                                                                                                                                                                                                                         1\n",
       "['4 Shock', '20 Mountain', '4 Ghitu Lavarunner', '4 Goblin Chainwhirler', \"3 Wizard's Lightning\", '4 Experimental Frenzy', '4 Lava Coil', '3 Legion Warboss', '4 Runaway Steam-Kin', '4 Viashino Pyromancer', '2 Dire Fleet Daredevil', '4 Fanatical Firebrand', '2 Rekindling Phoenix', '4 Light Up the Stage', '4 Lightning Strike', '2 Chandra, Fire Artisan', '3 Tibalt, Rakish Instigator', '\"/>']                                                                                                                                                                                                                                                                                                                                                                                                                             1\n",
       "['4 Augur of Bolas', '4 Shock', '8 Island', '7 Mountain', \"3 Chemister's Insight\", '2 Lava Coil', '1 Beacon Bolt', '3 Ionize', '2 Niv-Mizzet, Parun', '4 Expansion-Explosion', '4 Steam Vents', '4 Opt', '4 Sulfur Falls', '1 Doublecast', '3 Negate', '2 Rekindling Phoenix', '1 Skewer the Critics', '4 Lightning Strike', '2 Narset, Parter of Veils', '4 Ral, Storm Conduit', \"1 Ral's Outburst\", '3 Saheeli, Sublime Artificer', '2 Search for Azcanta', '2 Fiery Cannonade', '\"/>']                                                                                                                                                                                                                                                                                                                                           1\n",
       "['2 Glacial Fortress', '4 Shock', '1 Plains', '4 Hallowed Fountain', '2 Adeliz, the Cinder Wind', '1 Lava Coil', '1 Aurelia, Exemplar of Justice', '4 Steam Vents', '4 Clifftop Retreat', '2 Temple of Epiphany', '4 Defiant Strike', '1 Ajani, Adversary of Tyrants', '1 Devout Decree', '2 Aether Gust', '1 Chandra, Acolyte of Flame', '2 Fry', '1 Infuriate', '4 Lightning Stormkin', '4 Sacred Foundry', '4 Reckless Rage', '3 Deputy of Detention', '4 Gods Willing', '1 Temple of Triumph', '4 Gideon Blackblade', '4 Dreadhorde Arcanist', \"2 Dovin's Veto\", '3 Feather, the Redeemed', '1 Teferi, Time Raveler', '4 Tenth District Legionnaire', '\"/>']                                                                                                                                                                    1\n",
       "['4 Sunpetal Grove', '8 Forest', '4 Llanowar Elves', '1 Plains', '2 Aethersphere Harvester', \"3 Lifecrafter's Bestiary\", '2 Walking Ballista', '2 Manglehorn', '1 Prepare-Fight', '4 Scattered Groves', \"3 On Serra's Wings\", '1 Hashep Oasis', '4 Servant of the Conduit', '3 Verdurous Gearhulk', '4 Aether Hub', '4 Vine Mare', '2 Vivien Reid', '1 Tranquil Expanse', '4 Jadelight Ranger', '3 Thrashing Brontodon', '1 Silent Gravestone', '2 Settle the Wreckage', '2 Carnage Tyrant', '4 Merfolk Branchwalker', '4 Wildgrowth Walker', '1 Sorcerous Spyglass', '1 Treasure Map', '\"/>']                                                                                                                                                                                                                                      1\n",
       "['4 Shock', '20 Mountain', '2 Fight with Fire', '4 Ghitu Lavarunner', '4 Goblin Chainwhirler', \"3 Wizard's Lightning\", '4 Experimental Frenzy', '4 Lava Coil', '2 Legion Warboss', '4 Runaway Steam-Kin', '4 Viashino Pyromancer', '2 Dire Fleet Daredevil', '3 Fanatical Firebrand', '2 Rekindling Phoenix', '4 Light Up the Stage', '4 Lightning Strike', '2 Chandra, Fire Artisan', '3 Tibalt, Rakish Instigator', '\"/>']                                                                                                                                                                                                                                                                                                                                                                                                        1\n",
       "['2 Shock', '5 Mountain', '7 Plains', '2 Healing Grace', '1 Lyra Dawnbringer', '1 Shalai, Voice of Plenty', '2 Lava Coil', '3 Legion Warboss', '2 Integrity-Intervention', '2 Boros Guildgate', '4 Clifftop Retreat', '4 Defiant Strike', '2 Ajani, Adversary of Tyrants', '2 Demystify', '4 Sacred Foundry', '4 Reckless Rage', \"2 Justiciar's Portal\", '1 Thrash-Threat', '2 Gideon Blackblade', '4 Dreadhorde Arcanist', \"2 Samut's Sprint\", '1 Tibalt, Rakish Instigator', '4 Feather, the Redeemed', '4 Tenth District Legionnaire', '2 Adanto Vanguard', '3 Tocatli Honor Guard', '3 Sheltering Light', '\"/>']                                                                                                                                                                                                                1\n",
       "['1 Essence Scatter', '4 Glacial Fortress', '5 Island', '7 Plains', '4 Disallow', '3 Cast Out', '2 Forsake the Worldly', '1 Hieroglyphic Illumination', '1 Commit-Memory', '4 Irrigated Farmland', '2 Karn, Scion of Urza', '3 Lyra Dawnbringer', '4 Seal Away', '2 Blink of an Eye', '3 Teferi, Hero of Dominaria', \"1 Jace's Defeat\", '3 Ipnu Rivulet', '2 Authority of the Consuls', '3 Fumigate', '3 Glimmer of Genius', '3 Torrential Gearhulk', '4 Negate', '2 Syncopate', '1 Unknown Card', '3 Settle the Wreckage', '1 Search for Azcanta', '3 Field of Ruin', '\"/>']                                                                                                                                                                                                                                                       1\n",
       "['2 Essence Scatter', '2 Sleep', '20 Island', '2 Deep Freeze', '4 Merfolk Trickster', '4 Tempest Djinn', \"4 Wizard's Retort\", '4 Opt', '2 Disdainful Stroke', '3 Exclusion Mage', '2 Surge Mare', '2 Negate', '4 Curious Obsession', '4 Mist-Cloaked Herald', '4 Warkite Marauder', '4 Dive Down', '4 Siren Stormtamer', '4 Spell Pierce', '\"/>']                                                                                                                                                                                                                                                                                                                                                                                                                                                                                   1\n",
       "['2 Jace, Memory Adept', '4 Tidebinder Mage', '2 Pacifism', '12 Island', '1 Ephara, God of the Polis', '3 Temple of Enlightenment', '4 Hallowed Fountain', '4 Cloudfin Raptor', '2 Rapid Hybridization', '4 Nightveil Specter', '1 Godless Shrine', '2 Negate', '4 Mutavault', '3 Gainsay', '2 Domestication', '4 Detention Sphere', '4 Frostburn Weird', \"4 Judge's Familiar\", '1 Revoke Existence', '2 Glare of Heresy', '2 Bident of Thassa', '4 Master of Waves', '4 Thassa, God of the Sea', '\"/>']                                                                                                                                                                                                                                                                                                                            1\n",
       "['4 Dragonskull Summit', '6 Mountain', '8 Swamp', '2 Banefire', '4 Blood Crypt', '4 Goblin Chainwhirler', '2 Experimental Frenzy', '4 Goblin Instigator', '4 Fanatical Firebrand', '1 Drill Bit', '4 Gutterbones', '4 Spawn of Mayhem', '4 Rix Maadi Reveler', '4 Skewer the Critics', '1 Bedevil', '4 Fireblade Artist', '4 Judith, the Scourge Diva', '2 Theater of Horrors', '4 Lightning Strike', '2 Duress', '2 Vicious Conquistador', '1 Fiery Cannonade', '\"/>']                                                                                                                                                                                                                                                                                                                                                             1\n",
       "['3 Essence Scatter', '4 Drowned Catacomb', '7 Island', '6 Swamp', '4 Disallow', '4 Fatal Push', '1 Censor', '1 Hieroglyphic Illumination', '2 Commit-Memory', '4 Fetid Pools', '2 The Scarab God', '4 Glimmer of Genius', '4 Torrential Gearhulk', '3 Contraband Kingpin', '2 Negate', '2 Submerged Boneyard', '1 Nezahal, Primal Tide', '1 Golden Demise', '4 Moment of Craving', '3 Duress', '2 Search for Azcanta', \"1 Arguel's Blood Fast\", '2 Deadeye Tracker', \"4 Vraska's Contempt\", '1 Treasure Map', '3 Field of Ruin', '\"/>']                                                                                                                                                                                                                                                                                            1\n",
       "['6 Forest', '1 Mountain', '4 Swamp', '4 Llanowar Wastes', '3 Transgress the Mind', '1 Cinder Glade', '4 Smoldering Marsh', '1 Mindwrack Demon', '2 Den Protector', '2 Distended Mindbender', '2 Emrakul, the Promised End', '3 Liliana, the Last Hope', '4 Grapple with the Past', '3 Ishkanah, Grafwidow', \"3 Kozilek's Return\", '2 Pulse of Murasa', '4 Languish', '4 Fiery Impulse', '2 Nissa, Vastwood Seer', '4 Evolving Wilds', '1 Ultimate Price', '2 Pick the Brain', '2 To the Slaughter', '3 Traverse the Ulvenwald', '3 Vessel of Nascency', '1 Duress', '1 Dragonmaster Outcast', \"3 Pilgrim's Eye\", '\"/>']                                                                                                                                                                                                            1\n",
       "['4 Forest', '1 Swamp', '3 Fatal Push', '4 Glint-Sleeve Siphoner', '2 Rishkar, Peema Renegade', '4 Winding Constrictor', '4 Walking Ballista', '2 Cartouche of Ambition', '2 Fetid Pools', '2 Hashep Oasis', '1 Ifnir Deadlands', '2 Blossoming Defense', '4 Bristling Hydra', '4 Servant of the Conduit', '4 Aether Hub', '4 Blooming Marsh', '4 Botanical Sanctum', '4 Jadelight Ranger', '2 Thrashing Brontodon', \"4 Hadana's Climb\", '2 Foul Orchard', '4 Duress', \"4 Vraska's Contempt\", '2 Deathgorge Scavenger', \"2 Shapers' Sanctuary\", '\"/>']                                                                                                                                                                                                                                                                              1\n",
       "['3 Forest', '2 Island', '4 Llanowar Elves', '1 Swamp', '3 Aethersphere Harvester', '4 Walking Ballista', '2 Manglehorn', '4 Gate to the Afterlife', '4 Champion of Wits', \"3 Jace's Defeat\", '2 Hour of Glory', \"2 God-Pharaoh's Gift\", '4 Ipnu Rivulet', '1 Hinterland Harbor', '3 Glint-Nest Crane', '2 Minister of Inquiries', '4 Verdurous Gearhulk', '4 Aether Hub', '4 Blooming Marsh', '4 Botanical Sanctum', '2 Vivien Reid', '3 Negate', '2 Thrashing Brontodon', '4 Merfolk Branchwalker', '4 Hostage Taker', '\"/>']                                                                                                                                                                                                                                                                                                     1\n",
       "['4 Drowned Catacomb', '2 Forest', '2 Island', '3 Llanowar Elves', '1 Swamp', '2 Breeding Pool', '1 Cast Down', '1 Ritual of Soot', \"1 Assassin's Trophy\", '3 Thought Erasure', '1 Unmoored Ego', '1 Vraska, Golgari Queen', '4 Hinterland Harbor', '4 Woodland Cemetery', '2 Exclusion Mage', '3 Negate', '4 Overgrown Tomb', '3 Watery Grave', '1 Ravenous Chupacabra', '4 Jadelight Ranger', '3 Thrashing Brontodon', '2 Cry of the Carnarium', '2 Narset, Parter of Veils', '3 Command the Dreadhorde', '2 The Elderspell', '1 Massacre Girl', '3 Enter the God-Eternals', '4 Tamiyo, Collector of Tales', '4 Merfolk Branchwalker', '4 Wildgrowth Walker', '\"/>']                                                                                                                                                              1\n",
       "['4 Glacial Fortress', '5 Island', '1 Karn, Scion of Urza', '1 Invoke the Divine', '2 Lyra Dawnbringer', '2 Seal Away', '1 Fight with Fire', '4 Teferi, Hero of Dominaria', \"2 Chemister's Insight\", '2 Lava Coil', '3 Legion Warboss', '2 Crackling Drake', '3 Deafening Clarion', '2 Justice Strike', '2 Niv-Mizzet, Parun', '2 Expansion-Explosion', '4 Steam Vents', '3 Opt', '4 Clifftop Retreat', '4 Sulfur Falls', '1 Cleansing Nova', '2 Revitalize', '2 Negate', '2 Syncopate', '4 Sacred Foundry', '2 Dual Shot', \"1 Ixalan's Binding\", '1 Settle the Wreckage', '2 Sailor of Means', '2 Star of Extinction', '2 Treasure Map', '1 Spell Pierce', '\"/>']                                                                                                                                                                  1\n",
       "['5 Mountain', '10 Plains', '3 Banefire', '4 Dauntless Bodyguard', '4 History of Benalia', '2 Citywide Bust', '4 Conclave Tribunal', '3 Hunted Witness', '3 Experimental Frenzy', '2 Lava Coil', '2 Aurelia, Exemplar of Justice', '4 Boros Challenger', \"2 Tajic, Legion's Edge\", '4 Clifftop Retreat', '3 Ajani, Adversary of Tyrants', '3 Heroic Reinforcements', '4 Sacred Foundry', '4 Adanto Vanguard', \"4 Legion's Landing\", '3 Tocatli Honor Guard', '2 Fiery Cannonade', '\"/>']                                                                                                                                                                                                                                                                                                                                            1\n",
       "['3 Rootbound Crag', '2 Island', '1 Mountain', '2 Gift of Paradise', '4 Breeding Pool', '4 Shivan Fire', \"4 Chemister's Insight\", '4 Sinister Sabotage', '2 Lava Coil', '3 Niv-Mizzet, Parun', '4 Expansion-Explosion', '4 Steam Vents', '4 Stomping Ground', '2 Opt', '4 Hinterland Harbor', '4 Sulfur Falls', '3 Negate', '2 Syncopate', '2 Rekindling Phoenix', '2 Biogenic Ooze', '4 Wilderness Reclamation', '4 Growth Spiral', '1 Entrancing Melody', '2 Search for Azcanta', '2 Fiery Cannonade', '2 Crushing Canopy', '\"/>']                                                                                                                                                                                                                                                                                                1\n",
       "['4 Essence Scatter', '4 Drowned Catacomb', '7 Island', '6 Swamp', '4 Disallow', '4 Fatal Push', '1 Hieroglyphic Illumination', '2 Commit-Memory', '4 Fetid Pools', \"1 Bontu's Last Reckoning\", '2 The Scarab God', '4 Glimmer of Genius', '4 Torrential Gearhulk', '3 Contraband Kingpin', '2 Negate', '2 Submerged Boneyard', '1 Nezahal, Primal Tide', '1 Golden Demise', '4 Moment of Craving', '3 Duress', '2 Search for Azcanta', \"1 Arguel's Blood Fast\", '1 Deadeye Tracker', \"4 Vraska's Contempt\", '1 Treasure Map', '3 Field of Ruin', '\"/>']                                                                                                                                                                                                                                                                            1\n",
       "['4 Shock', '7 Island', '6 Mountain', '3 Enigma Drake', '4 Radical Idea', '4 Arclight Phoenix', '4 Lava Coil', '3 Beacon Bolt', '4 Crackling Drake', '3 Niv-Mizzet, Parun', '1 Ral, Izzet Viceroy', '2 Discovery-Dispersal', '4 Steam Vents', '4 Opt', '4 Sulfur Falls', '3 Goblin Electromancer', '2 Disdainful Stroke', '1 Tormenting Voice', '2 Negate', '4 Chart a Course', '3 Dive Down', '3 Fiery Cannonade', '\"/>']                                                                                                                                                                                                                                                                                                                                                                                                          1\n",
       "['4 Glacial Fortress', '3 Island', '2 Plains', '4 Hallowed Fountain', '2 Lyra Dawnbringer', \"4 Urza's Ruinous Blast\", '3 Shalai, Voice of Plenty', '3 Teferi, Hero of Dominaria', '2 Mox Amber', '2 Disdainful Stroke', '4 Negate', '2 Mass Manipulation', '1 Deputy of Detention', '1 Azorius Guildgate', '2 Ugin, the Ineffable', '4 Prison Realm', '2 The Wanderer', '4 Fblthp, the Lost', '4 Narset, Parter of Veils', '4 Teferi, Time Raveler', '4 Dovin, Hand of Control', '4 Interplanar Beacon', '4 Mobilized District', '2 Entrancing Melody', '4 Field of Ruin', '\"/>']                                                                                                                                                                                                                                                   1\n",
       "['4 Glacial Fortress', '6 Island', '6 Plains', '2 Favorable Winds', '4 Hallowed Fountain', \"4 Healer's Hawk\", '4 Remorseful Cleric', '3 Supreme Phantom', '2 Devout Decree', '3 Hanged Executioner', \"4 Sephara, Sky's Blade\", '2 Aether Gust', '3 Cerulean Drake', '4 Spectral Sailor', '4 Winged Words', '4 Empyrean Eagle', '2 Negate', '4 Faerie Miscreant', '2 Sky Tether', '2 Depose-Deploy', '4 Siren Stormtamer', '2 Spell Pierce', '\"/>']                                                                                                                                                                                                                                                                                                                                                                                  1\n",
       "['2 Sunpetal Grove', '2 Forest', '1 Plains', '3 Swamp', '2 Karn, Scion of Urza', '1 Lyra Dawnbringer', '2 Shalai, Voice of Plenty', '2 Cast Down', '3 The Eldest Reborn', '2 Ritual of Soot', '3 District Guide', \"3 Assassin's Trophy\", '2 Golgari Findbroker', '4 Knight of Autumn', '2 March of the Multitudes', '2 Dead Weight', '4 Isolated Chapel', '4 Woodland Cemetery', '3 Dryad Greenseeker', '4 Thorn Lieutenant', '4 Overgrown Tomb', '3 Temple Garden', '2 Moment of Craving', '2 Ravenous Chupacabra', '1 Arch of Orazca', '3 Duress', \"3 Vraska's Contempt\", '2 Carnage Tyrant', '2 Vraska, Relic Seeker', '2 Treasure Map', '\"/>']                                                                                                                                                                                  1\n",
       "['1 Murder', '1 Island', '8 Swamp', '3 Transgress the Mind', '1 Ob Nixilis Reignited', '1 Ruinous Path', '1 Blighted Fen', '4 Sunken Hollow', '1 Distended Mindbender', '2 Eternal Scourge', '2 Unsubstantiate', '4 Cryptbreaker', '4 Haunted Dead', '2 Liliana, the Last Hope', '3 Voldaren Pariah', '1 Geier Reach Sanitarium', '1 Key to the City', '4 Scrapheap Scrounger', \"4 Smuggler's Copter\", '3 Negate', '3 Kalitas, Traitor of Ghet', '3 Submerged Boneyard', '2 Evolving Wilds', '2 Murderous Compulsion', '2 To the Slaughter', '4 Prized Amalgam', '4 Choked Estuary', '4 Grasp of Darkness', '\"/>']                                                                                                                                                                                                                  1\n",
       "['20 Island', '1 Unsummon', '4 Merfolk Trickster', '4 Tempest Djinn', \"3 Wizard's Retort\", '4 Opt', '2 Transmogrifying Wand', '2 Aether Gust', '1 Brineborn Cutthroat', '3 Cerulean Drake', '4 Spectral Sailor', '4 Negate', '4 Curious Obsession', '3 Essence Capture', '2 Pteramander', '3 Dive Down', '2 Entrancing Melody', \"2 Lookout's Dispersal\", '4 Siren Stormtamer', '3 Spell Pierce', '\"/>']                                                                                                                                                                                                                                                                                                                                                                                                                             1\n",
       "Name: deck_list, Length: 388, dtype: int64"
      ]
     },
     "execution_count": 9,
     "metadata": {},
     "output_type": "execute_result"
    }
   ],
   "source": [
    "decks_clean.deck_list.value_counts()"
   ]
  },
  {
   "cell_type": "code",
   "execution_count": null,
   "metadata": {},
   "outputs": [],
   "source": []
  }
 ],
 "metadata": {
  "kernelspec": {
   "display_name": "Python 3",
   "language": "python",
   "name": "python3"
  },
  "language_info": {
   "codemirror_mode": {
    "name": "ipython",
    "version": 3
   },
   "file_extension": ".py",
   "mimetype": "text/x-python",
   "name": "python",
   "nbconvert_exporter": "python",
   "pygments_lexer": "ipython3",
   "version": "3.7.3"
  }
 },
 "nbformat": 4,
 "nbformat_minor": 4
}
