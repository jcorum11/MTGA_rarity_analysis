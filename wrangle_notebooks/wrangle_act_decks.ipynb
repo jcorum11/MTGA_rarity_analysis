{
 "cells": [
  {
   "cell_type": "code",
   "execution_count": 3,
   "metadata": {},
   "outputs": [],
   "source": [
    "# Load all packages necessary for analysis\n",
    "import pandas as pd\n",
    "import numpy as np\n",
    "import requests\n",
    "from bs4 import BeautifulSoup\n",
    "import json\n",
    "import re\n",
    "import os\n",
    "import timeit\n",
    "import filecmp\n",
    "import url_stripper"
   ]
  },
  {
   "cell_type": "markdown",
   "metadata": {},
   "source": [
    "## decks"
   ]
  },
  {
   "cell_type": "code",
   "execution_count": null,
   "metadata": {},
   "outputs": [],
   "source": [
    "# create a web crawler to request html pages from deck_type_urls\n",
    "\n",
    "# create a new path and name it newpath\n",
    "oldpath = str(os.path.abspath(os.curdir))\n",
    "newpath = oldpath.replace('\\\\type_html_files', '\\\\deck_html_files')\n",
    "\n",
    "# check to make sure that there is no path that matches newpath and create a folder called html_files if there isn't\n",
    "if not os.path.exists(newpath):\n",
    "    os.makedirs(newpath)\n",
    "\n",
    "# change the current directory to newpath\n",
    "os.chdir(newpath)\n",
    "\n",
    "# scrape all html files from urls in deck_urls and put them in html_files folder\n",
    "deck_errors = []\n",
    "\n",
    "for i in np.arange(deck_urls.shape[0]):\n",
    "    try:\n",
    "        if filecmp.cmp(deck_urls.name[i]) == True:\n",
    "            deck_html = requests.get(deck_urls.url[i])\n",
    "            with open(deck_urls.name[i], 'wb') as file:\n",
    "                file.write(deck_html.content)\n",
    "        else:\n",
    "            deck_html = requests.get(deck_urls.url[i])\n",
    "            with open(deck_urls.name[i] + str(i))\n",
    "    except Exception as e:\n",
    "        print(str(i) + ' ' + str(e))\n",
    "        deck_errors.append(i)"
   ]
  },
  {
   "cell_type": "code",
   "execution_count": null,
   "metadata": {},
   "outputs": [],
   "source": [
    "filecmp.cmp(deck_urls.name[1], deck_urls.name[2])"
   ]
  },
  {
   "cell_type": "code",
   "execution_count": null,
   "metadata": {},
   "outputs": [],
   "source": [
    "os.path.abspath(os.curdir)"
   ]
  },
  {
   "cell_type": "code",
   "execution_count": null,
   "metadata": {},
   "outputs": [],
   "source": [
    "os.chdir('C:\\\\Users\\\\muroc\\\\Documents\\\\MTG\\\\type_html_files')"
   ]
  }
 ],
 "metadata": {
  "kernelspec": {
   "display_name": "Python 3",
   "language": "python",
   "name": "python3"
  },
  "language_info": {
   "codemirror_mode": {
    "name": "ipython",
    "version": 3
   },
   "file_extension": ".py",
   "mimetype": "text/x-python",
   "name": "python",
   "nbconvert_exporter": "python",
   "pygments_lexer": "ipython3",
   "version": "3.7.3"
  }
 },
 "nbformat": 4,
 "nbformat_minor": 4
}
