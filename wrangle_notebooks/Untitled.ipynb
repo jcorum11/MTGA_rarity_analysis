{
 "cells": [
  {
   "cell_type": "code",
   "execution_count": 1,
   "metadata": {},
   "outputs": [],
   "source": [
    "import pandas as pd \n",
    "import numpy as np\n",
    "from bs4 import BeautifulSoup"
   ]
  },
  {
   "cell_type": "code",
   "execution_count": 4,
   "metadata": {},
   "outputs": [],
   "source": [
    "with open('C:/Users/muroc/Documents/MTG/html_files/Conanhawk_Weenie_White.html') as file:\n",
    "    soup = BeautifulSoup(file, 'lxml')"
   ]
  },
  {
   "cell_type": "code",
   "execution_count": 5,
   "metadata": {},
   "outputs": [
    {
     "data": {
      "text/plain": [
       "<input name=\"c\" type=\"hidden\" value=\"4 Rootbound Crag||4 Shock||9 Forest||4 Llanowar Elves||7 Mountain||4 Lava Coil||3 Legion Warboss||4 Stomping Ground||4 Thorn Lieutenant||3 Vivien Reid||2 Dire Fleet Daredevil||4 Rekindling Phoenix||1 Thrashing Brontodon||3 Skarrgan Hellkite||4 Growth-Chamber Guardian||2 Domri, Chaos Bringer||4 Gruul Spellbreaker||2 Collision-Colossus||3 Domri, Anarch of Bolas||3 Domri's Ambush||1 Sentinel Totem||\"/>"
      ]
     },
     "execution_count": 5,
     "metadata": {},
     "output_type": "execute_result"
    }
   ],
   "source": [
    "soup.find(lambda tag: tag.name=='input' and tag.has_attr('name') and tag['name']=='c')"
   ]
  },
  {
   "cell_type": "code",
   "execution_count": null,
   "metadata": {},
   "outputs": [],
   "source": []
  }
 ],
 "metadata": {
  "kernelspec": {
   "display_name": "Python 3",
   "language": "python",
   "name": "python3"
  },
  "language_info": {
   "codemirror_mode": {
    "name": "ipython",
    "version": 3
   },
   "file_extension": ".py",
   "mimetype": "text/x-python",
   "name": "python",
   "nbconvert_exporter": "python",
   "pygments_lexer": "ipython3",
   "version": "3.7.3"
  }
 },
 "nbformat": 4,
 "nbformat_minor": 4
}
