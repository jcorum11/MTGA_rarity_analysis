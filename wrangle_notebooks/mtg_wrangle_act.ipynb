{
 "cells": [
  {
   "cell_type": "code",
   "execution_count": 1,
   "metadata": {},
   "outputs": [],
   "source": [
    "import pandas as pd\n",
    "import numpy as np\n",
    "import itertools\n",
    "import os\n",
    "import re\n",
    "import requests\n",
    "import json"
   ]
  },
  {
   "cell_type": "markdown",
   "metadata": {},
   "source": [
    "# Gather"
   ]
  },
  {
   "cell_type": "code",
   "execution_count": 8,
   "metadata": {},
   "outputs": [],
   "source": [
    "# pull standard cards from mtgjson\n",
    "standard_sets = requests.get('https://www.mtgjson.com/files/StandardPrintings.json')\n",
    "standard_sets_clean = standard_sets.json()\n",
    "\n",
    "# code to save standard_sets as a json file \n",
    "with open('standard_sets_clean.txt', 'w') as outfile:\n",
    "    json.dump(standard_sets_clean, outfile)\n",
    "\n",
    "# code to load standard_sets_clean\n",
    "with open('standard_sets_clean.txt', encoding='utf-8') as file:\n",
    "    standard_sets_clean = json.load(file)"
   ]
  },
  {
   "cell_type": "code",
   "execution_count": 43,
   "metadata": {
    "collapsed": true,
    "jupyter": {
     "outputs_hidden": true
    }
   },
   "outputs": [
    {
     "ename": "FileNotFoundError",
     "evalue": "[Errno 2] File b'C:/Users/muroc/Documents/MTG/data/decks.csv' does not exist: b'C:/Users/muroc/Documents/MTG/data/decks.csv'",
     "output_type": "error",
     "traceback": [
      "\u001b[0;31m---------------------------------------------------------------------------\u001b[0m",
      "\u001b[0;31mFileNotFoundError\u001b[0m                         Traceback (most recent call last)",
      "\u001b[0;32m<ipython-input-43-6a4aa109fb57>\u001b[0m in \u001b[0;36m<module>\u001b[0;34m\u001b[0m\n\u001b[0;32m----> 1\u001b[0;31m \u001b[0mdecks\u001b[0m \u001b[0;34m=\u001b[0m \u001b[0mpd\u001b[0m\u001b[0;34m.\u001b[0m\u001b[0mread_csv\u001b[0m\u001b[0;34m(\u001b[0m\u001b[0;34m'C:/Users/muroc/Documents/MTG/data/decks.csv'\u001b[0m\u001b[0;34m)\u001b[0m\u001b[0;34m\u001b[0m\u001b[0;34m\u001b[0m\u001b[0m\n\u001b[0m",
      "\u001b[0;32m~/anaconda3/lib/python3.7/site-packages/pandas/io/parsers.py\u001b[0m in \u001b[0;36mparser_f\u001b[0;34m(filepath_or_buffer, sep, delimiter, header, names, index_col, usecols, squeeze, prefix, mangle_dupe_cols, dtype, engine, converters, true_values, false_values, skipinitialspace, skiprows, skipfooter, nrows, na_values, keep_default_na, na_filter, verbose, skip_blank_lines, parse_dates, infer_datetime_format, keep_date_col, date_parser, dayfirst, cache_dates, iterator, chunksize, compression, thousands, decimal, lineterminator, quotechar, quoting, doublequote, escapechar, comment, encoding, dialect, error_bad_lines, warn_bad_lines, delim_whitespace, low_memory, memory_map, float_precision)\u001b[0m\n\u001b[1;32m    683\u001b[0m         )\n\u001b[1;32m    684\u001b[0m \u001b[0;34m\u001b[0m\u001b[0m\n\u001b[0;32m--> 685\u001b[0;31m         \u001b[0;32mreturn\u001b[0m \u001b[0m_read\u001b[0m\u001b[0;34m(\u001b[0m\u001b[0mfilepath_or_buffer\u001b[0m\u001b[0;34m,\u001b[0m \u001b[0mkwds\u001b[0m\u001b[0;34m)\u001b[0m\u001b[0;34m\u001b[0m\u001b[0;34m\u001b[0m\u001b[0m\n\u001b[0m\u001b[1;32m    686\u001b[0m \u001b[0;34m\u001b[0m\u001b[0m\n\u001b[1;32m    687\u001b[0m     \u001b[0mparser_f\u001b[0m\u001b[0;34m.\u001b[0m\u001b[0m__name__\u001b[0m \u001b[0;34m=\u001b[0m \u001b[0mname\u001b[0m\u001b[0;34m\u001b[0m\u001b[0;34m\u001b[0m\u001b[0m\n",
      "\u001b[0;32m~/anaconda3/lib/python3.7/site-packages/pandas/io/parsers.py\u001b[0m in \u001b[0;36m_read\u001b[0;34m(filepath_or_buffer, kwds)\u001b[0m\n\u001b[1;32m    455\u001b[0m \u001b[0;34m\u001b[0m\u001b[0m\n\u001b[1;32m    456\u001b[0m     \u001b[0;31m# Create the parser.\u001b[0m\u001b[0;34m\u001b[0m\u001b[0;34m\u001b[0m\u001b[0;34m\u001b[0m\u001b[0m\n\u001b[0;32m--> 457\u001b[0;31m     \u001b[0mparser\u001b[0m \u001b[0;34m=\u001b[0m \u001b[0mTextFileReader\u001b[0m\u001b[0;34m(\u001b[0m\u001b[0mfp_or_buf\u001b[0m\u001b[0;34m,\u001b[0m \u001b[0;34m**\u001b[0m\u001b[0mkwds\u001b[0m\u001b[0;34m)\u001b[0m\u001b[0;34m\u001b[0m\u001b[0;34m\u001b[0m\u001b[0m\n\u001b[0m\u001b[1;32m    458\u001b[0m \u001b[0;34m\u001b[0m\u001b[0m\n\u001b[1;32m    459\u001b[0m     \u001b[0;32mif\u001b[0m \u001b[0mchunksize\u001b[0m \u001b[0;32mor\u001b[0m \u001b[0miterator\u001b[0m\u001b[0;34m:\u001b[0m\u001b[0;34m\u001b[0m\u001b[0;34m\u001b[0m\u001b[0m\n",
      "\u001b[0;32m~/anaconda3/lib/python3.7/site-packages/pandas/io/parsers.py\u001b[0m in \u001b[0;36m__init__\u001b[0;34m(self, f, engine, **kwds)\u001b[0m\n\u001b[1;32m    893\u001b[0m             \u001b[0mself\u001b[0m\u001b[0;34m.\u001b[0m\u001b[0moptions\u001b[0m\u001b[0;34m[\u001b[0m\u001b[0;34m\"has_index_names\"\u001b[0m\u001b[0;34m]\u001b[0m \u001b[0;34m=\u001b[0m \u001b[0mkwds\u001b[0m\u001b[0;34m[\u001b[0m\u001b[0;34m\"has_index_names\"\u001b[0m\u001b[0;34m]\u001b[0m\u001b[0;34m\u001b[0m\u001b[0;34m\u001b[0m\u001b[0m\n\u001b[1;32m    894\u001b[0m \u001b[0;34m\u001b[0m\u001b[0m\n\u001b[0;32m--> 895\u001b[0;31m         \u001b[0mself\u001b[0m\u001b[0;34m.\u001b[0m\u001b[0m_make_engine\u001b[0m\u001b[0;34m(\u001b[0m\u001b[0mself\u001b[0m\u001b[0;34m.\u001b[0m\u001b[0mengine\u001b[0m\u001b[0;34m)\u001b[0m\u001b[0;34m\u001b[0m\u001b[0;34m\u001b[0m\u001b[0m\n\u001b[0m\u001b[1;32m    896\u001b[0m \u001b[0;34m\u001b[0m\u001b[0m\n\u001b[1;32m    897\u001b[0m     \u001b[0;32mdef\u001b[0m \u001b[0mclose\u001b[0m\u001b[0;34m(\u001b[0m\u001b[0mself\u001b[0m\u001b[0;34m)\u001b[0m\u001b[0;34m:\u001b[0m\u001b[0;34m\u001b[0m\u001b[0;34m\u001b[0m\u001b[0m\n",
      "\u001b[0;32m~/anaconda3/lib/python3.7/site-packages/pandas/io/parsers.py\u001b[0m in \u001b[0;36m_make_engine\u001b[0;34m(self, engine)\u001b[0m\n\u001b[1;32m   1133\u001b[0m     \u001b[0;32mdef\u001b[0m \u001b[0m_make_engine\u001b[0m\u001b[0;34m(\u001b[0m\u001b[0mself\u001b[0m\u001b[0;34m,\u001b[0m \u001b[0mengine\u001b[0m\u001b[0;34m=\u001b[0m\u001b[0;34m\"c\"\u001b[0m\u001b[0;34m)\u001b[0m\u001b[0;34m:\u001b[0m\u001b[0;34m\u001b[0m\u001b[0;34m\u001b[0m\u001b[0m\n\u001b[1;32m   1134\u001b[0m         \u001b[0;32mif\u001b[0m \u001b[0mengine\u001b[0m \u001b[0;34m==\u001b[0m \u001b[0;34m\"c\"\u001b[0m\u001b[0;34m:\u001b[0m\u001b[0;34m\u001b[0m\u001b[0;34m\u001b[0m\u001b[0m\n\u001b[0;32m-> 1135\u001b[0;31m             \u001b[0mself\u001b[0m\u001b[0;34m.\u001b[0m\u001b[0m_engine\u001b[0m \u001b[0;34m=\u001b[0m \u001b[0mCParserWrapper\u001b[0m\u001b[0;34m(\u001b[0m\u001b[0mself\u001b[0m\u001b[0;34m.\u001b[0m\u001b[0mf\u001b[0m\u001b[0;34m,\u001b[0m \u001b[0;34m**\u001b[0m\u001b[0mself\u001b[0m\u001b[0;34m.\u001b[0m\u001b[0moptions\u001b[0m\u001b[0;34m)\u001b[0m\u001b[0;34m\u001b[0m\u001b[0;34m\u001b[0m\u001b[0m\n\u001b[0m\u001b[1;32m   1136\u001b[0m         \u001b[0;32melse\u001b[0m\u001b[0;34m:\u001b[0m\u001b[0;34m\u001b[0m\u001b[0;34m\u001b[0m\u001b[0m\n\u001b[1;32m   1137\u001b[0m             \u001b[0;32mif\u001b[0m \u001b[0mengine\u001b[0m \u001b[0;34m==\u001b[0m \u001b[0;34m\"python\"\u001b[0m\u001b[0;34m:\u001b[0m\u001b[0;34m\u001b[0m\u001b[0;34m\u001b[0m\u001b[0m\n",
      "\u001b[0;32m~/anaconda3/lib/python3.7/site-packages/pandas/io/parsers.py\u001b[0m in \u001b[0;36m__init__\u001b[0;34m(self, src, **kwds)\u001b[0m\n\u001b[1;32m   1915\u001b[0m         \u001b[0mkwds\u001b[0m\u001b[0;34m[\u001b[0m\u001b[0;34m\"usecols\"\u001b[0m\u001b[0;34m]\u001b[0m \u001b[0;34m=\u001b[0m \u001b[0mself\u001b[0m\u001b[0;34m.\u001b[0m\u001b[0musecols\u001b[0m\u001b[0;34m\u001b[0m\u001b[0;34m\u001b[0m\u001b[0m\n\u001b[1;32m   1916\u001b[0m \u001b[0;34m\u001b[0m\u001b[0m\n\u001b[0;32m-> 1917\u001b[0;31m         \u001b[0mself\u001b[0m\u001b[0;34m.\u001b[0m\u001b[0m_reader\u001b[0m \u001b[0;34m=\u001b[0m \u001b[0mparsers\u001b[0m\u001b[0;34m.\u001b[0m\u001b[0mTextReader\u001b[0m\u001b[0;34m(\u001b[0m\u001b[0msrc\u001b[0m\u001b[0;34m,\u001b[0m \u001b[0;34m**\u001b[0m\u001b[0mkwds\u001b[0m\u001b[0;34m)\u001b[0m\u001b[0;34m\u001b[0m\u001b[0;34m\u001b[0m\u001b[0m\n\u001b[0m\u001b[1;32m   1918\u001b[0m         \u001b[0mself\u001b[0m\u001b[0;34m.\u001b[0m\u001b[0munnamed_cols\u001b[0m \u001b[0;34m=\u001b[0m \u001b[0mself\u001b[0m\u001b[0;34m.\u001b[0m\u001b[0m_reader\u001b[0m\u001b[0;34m.\u001b[0m\u001b[0munnamed_cols\u001b[0m\u001b[0;34m\u001b[0m\u001b[0;34m\u001b[0m\u001b[0m\n\u001b[1;32m   1919\u001b[0m \u001b[0;34m\u001b[0m\u001b[0m\n",
      "\u001b[0;32mpandas/_libs/parsers.pyx\u001b[0m in \u001b[0;36mpandas._libs.parsers.TextReader.__cinit__\u001b[0;34m()\u001b[0m\n",
      "\u001b[0;32mpandas/_libs/parsers.pyx\u001b[0m in \u001b[0;36mpandas._libs.parsers.TextReader._setup_parser_source\u001b[0;34m()\u001b[0m\n",
      "\u001b[0;31mFileNotFoundError\u001b[0m: [Errno 2] File b'C:/Users/muroc/Documents/MTG/data/decks.csv' does not exist: b'C:/Users/muroc/Documents/MTG/data/decks.csv'"
     ]
    }
   ],
   "source": [
    "decks = pd.read_csv('C:/Users/muroc/Documents/MTG/data/decks.csv')"
   ]
  },
  {
   "cell_type": "code",
   "execution_count": 3,
   "metadata": {},
   "outputs": [],
   "source": [
    "decks = pd.read_csv('/home/steadyjingo/Documents/MTGA_rarity_analysis/data/decks.csv')"
   ]
  },
  {
   "cell_type": "code",
   "execution_count": 45,
   "metadata": {},
   "outputs": [],
   "source": [
    "decks_archive = decks.copy()"
   ]
  },
  {
   "cell_type": "code",
   "execution_count": 61,
   "metadata": {},
   "outputs": [],
   "source": [
    "decks_archive = pd.read_csv('/home/steadyjingo/Documents/MTGA_rarity_analysis/data/decks_archive.csv')"
   ]
  },
  {
   "cell_type": "code",
   "execution_count": 7,
   "metadata": {},
   "outputs": [],
   "source": [
    "decks_clean = decks.copy()"
   ]
  },
  {
   "cell_type": "code",
   "execution_count": 7,
   "metadata": {},
   "outputs": [],
   "source": [
    "decks_clean = pd.read_csv('~/Documents/MTGA_rarity_analysis/data/decks_clean.csv')"
   ]
  },
  {
   "cell_type": "markdown",
   "metadata": {},
   "source": [
    "# Assess"
   ]
  },
  {
   "cell_type": "code",
   "execution_count": null,
   "metadata": {},
   "outputs": [],
   "source": [
    "decks_clean.head()"
   ]
  },
  {
   "cell_type": "code",
   "execution_count": null,
   "metadata": {},
   "outputs": [],
   "source": [
    "decks_clean.tail()"
   ]
  },
  {
   "cell_type": "code",
   "execution_count": null,
   "metadata": {},
   "outputs": [],
   "source": [
    "decks_clean.sample(10)"
   ]
  },
  {
   "cell_type": "code",
   "execution_count": 6,
   "metadata": {},
   "outputs": [
    {
     "data": {
      "text/html": [
       "<div>\n",
       "<style scoped>\n",
       "    .dataframe tbody tr th:only-of-type {\n",
       "        vertical-align: middle;\n",
       "    }\n",
       "\n",
       "    .dataframe tbody tr th {\n",
       "        vertical-align: top;\n",
       "    }\n",
       "\n",
       "    .dataframe thead th {\n",
       "        text-align: right;\n",
       "    }\n",
       "</style>\n",
       "<table border=\"1\" class=\"dataframe\">\n",
       "  <thead>\n",
       "    <tr style=\"text-align: right;\">\n",
       "      <th></th>\n",
       "      <th>deck_list</th>\n",
       "      <th>player</th>\n",
       "      <th>url</th>\n",
       "      <th>name</th>\n",
       "    </tr>\n",
       "  </thead>\n",
       "  <tbody>\n",
       "    <tr>\n",
       "      <th>0</th>\n",
       "      <td>2 Shock, 10 Island, 4 Mountain, 4 Brazen Borro...</td>\n",
       "      <td>Jessica_Estephan</td>\n",
       "      <td>https://www.mtgtop8.com/event?e=23942&amp;d=366798...</td>\n",
       "      <td>Izzet_Flash</td>\n",
       "    </tr>\n",
       "    <tr>\n",
       "      <th>1</th>\n",
       "      <td>4 Shock, 18 Mountain, 4 Bonecrusher Giant, 3 E...</td>\n",
       "      <td>Andrew_Boncher</td>\n",
       "      <td>https://www.mtgtop8.com/event?e=23810&amp;d=365477...</td>\n",
       "      <td>Red_Deck_Wins</td>\n",
       "    </tr>\n",
       "    <tr>\n",
       "      <th>2</th>\n",
       "      <td>10 Island, 4 Mountain, 4 Brazen Borrower, 4 Ga...</td>\n",
       "      <td>Brandon_Banks</td>\n",
       "      <td>https://www.mtgtop8.com/event?e=23997&amp;d=367303...</td>\n",
       "      <td>Izzet_Control</td>\n",
       "    </tr>\n",
       "    <tr>\n",
       "      <th>3</th>\n",
       "      <td>6 Forest, 3 Swamp, 4 Breeding Pool, 4 Cauldron...</td>\n",
       "      <td>Andrew_C</td>\n",
       "      <td>https://www.mtgtop8.com/event?e=23716&amp;d=364618...</td>\n",
       "      <td>Sultai_Sacrifice</td>\n",
       "    </tr>\n",
       "    <tr>\n",
       "      <th>4</th>\n",
       "      <td>1 Forest, 2 Island, 2 Mountain, 4 Breeding Poo...</td>\n",
       "      <td>Mx-hejji</td>\n",
       "      <td>https://www.mtgtop8.com/event?e=23796&amp;d=365372...</td>\n",
       "      <td>Reclamation</td>\n",
       "    </tr>\n",
       "    <tr>\n",
       "      <th>...</th>\n",
       "      <td>...</td>\n",
       "      <td>...</td>\n",
       "      <td>...</td>\n",
       "      <td>...</td>\n",
       "    </tr>\n",
       "    <tr>\n",
       "      <th>337</th>\n",
       "      <td>1 Disenchant, 2 Island, 2 Mountain, 1 Plains, ...</td>\n",
       "      <td>Matthew_Watts</td>\n",
       "      <td>https://www.mtgtop8.com/event?e=24037&amp;d=367686...</td>\n",
       "      <td>Jeskai_Fires</td>\n",
       "    </tr>\n",
       "    <tr>\n",
       "      <th>338</th>\n",
       "      <td>4 Shock, 17 Mountain, 4 Claim the Firstborn, 4...</td>\n",
       "      <td>Sandydogmtg</td>\n",
       "      <td>https://www.mtgtop8.com/event?e=24137&amp;d=368458...</td>\n",
       "      <td>Red_Deck_Wins</td>\n",
       "    </tr>\n",
       "    <tr>\n",
       "      <th>339</th>\n",
       "      <td>4 Chandra's Spitfire, 4 Shock, 18 Mountain, 3 ...</td>\n",
       "      <td>Billy_K</td>\n",
       "      <td>https://www.mtgtop8.com/event?e=23716&amp;d=364614...</td>\n",
       "      <td>Cavalcade</td>\n",
       "    </tr>\n",
       "    <tr>\n",
       "      <th>340</th>\n",
       "      <td>9 Forest, 8 Mountain, 4 Bonecrusher Giant, 3 E...</td>\n",
       "      <td>Esther_Trujillo</td>\n",
       "      <td>https://www.mtgtop8.com/event?e=23942&amp;d=366790...</td>\n",
       "      <td>Gruul_Aggro</td>\n",
       "    </tr>\n",
       "    <tr>\n",
       "      <th>341</th>\n",
       "      <td>7 Forest, 7 Island, 4 Breeding Pool, 2 Brazen ...</td>\n",
       "      <td>Benjamin_Czarny</td>\n",
       "      <td>https://www.mtgtop8.com/event?e=24037&amp;d=367687...</td>\n",
       "      <td>Ug_Flash</td>\n",
       "    </tr>\n",
       "  </tbody>\n",
       "</table>\n",
       "<p>342 rows × 4 columns</p>\n",
       "</div>"
      ],
      "text/plain": [
       "                                             deck_list            player  \\\n",
       "0    2 Shock, 10 Island, 4 Mountain, 4 Brazen Borro...  Jessica_Estephan   \n",
       "1    4 Shock, 18 Mountain, 4 Bonecrusher Giant, 3 E...    Andrew_Boncher   \n",
       "2    10 Island, 4 Mountain, 4 Brazen Borrower, 4 Ga...     Brandon_Banks   \n",
       "3    6 Forest, 3 Swamp, 4 Breeding Pool, 4 Cauldron...          Andrew_C   \n",
       "4    1 Forest, 2 Island, 2 Mountain, 4 Breeding Poo...          Mx-hejji   \n",
       "..                                                 ...               ...   \n",
       "337  1 Disenchant, 2 Island, 2 Mountain, 1 Plains, ...     Matthew_Watts   \n",
       "338  4 Shock, 17 Mountain, 4 Claim the Firstborn, 4...       Sandydogmtg   \n",
       "339  4 Chandra's Spitfire, 4 Shock, 18 Mountain, 3 ...           Billy_K   \n",
       "340  9 Forest, 8 Mountain, 4 Bonecrusher Giant, 3 E...   Esther_Trujillo   \n",
       "341  7 Forest, 7 Island, 4 Breeding Pool, 2 Brazen ...   Benjamin_Czarny   \n",
       "\n",
       "                                                   url              name  \n",
       "0    https://www.mtgtop8.com/event?e=23942&d=366798...       Izzet_Flash  \n",
       "1    https://www.mtgtop8.com/event?e=23810&d=365477...     Red_Deck_Wins  \n",
       "2    https://www.mtgtop8.com/event?e=23997&d=367303...     Izzet_Control  \n",
       "3    https://www.mtgtop8.com/event?e=23716&d=364618...  Sultai_Sacrifice  \n",
       "4    https://www.mtgtop8.com/event?e=23796&d=365372...       Reclamation  \n",
       "..                                                 ...               ...  \n",
       "337  https://www.mtgtop8.com/event?e=24037&d=367686...      Jeskai_Fires  \n",
       "338  https://www.mtgtop8.com/event?e=24137&d=368458...     Red_Deck_Wins  \n",
       "339  https://www.mtgtop8.com/event?e=23716&d=364614...         Cavalcade  \n",
       "340  https://www.mtgtop8.com/event?e=23942&d=366790...       Gruul_Aggro  \n",
       "341  https://www.mtgtop8.com/event?e=24037&d=367687...          Ug_Flash  \n",
       "\n",
       "[342 rows x 4 columns]"
      ]
     },
     "execution_count": 6,
     "metadata": {},
     "output_type": "execute_result"
    }
   ],
   "source": [
    "decks_clean"
   ]
  },
  {
   "cell_type": "code",
   "execution_count": 45,
   "metadata": {},
   "outputs": [
    {
     "data": {
      "text/html": [
       "<div>\n",
       "<style scoped>\n",
       "    .dataframe tbody tr th:only-of-type {\n",
       "        vertical-align: middle;\n",
       "    }\n",
       "\n",
       "    .dataframe tbody tr th {\n",
       "        vertical-align: top;\n",
       "    }\n",
       "\n",
       "    .dataframe thead th {\n",
       "        text-align: right;\n",
       "    }\n",
       "</style>\n",
       "<table border=\"1\" class=\"dataframe\">\n",
       "  <thead>\n",
       "    <tr style=\"text-align: right;\">\n",
       "      <th></th>\n",
       "      <th>deck_list</th>\n",
       "      <th>player</th>\n",
       "      <th>url</th>\n",
       "      <th>name</th>\n",
       "    </tr>\n",
       "  </thead>\n",
       "  <tbody>\n",
       "    <tr>\n",
       "      <th>0</th>\n",
       "      <td>2 Shock, 10 Island, 4 Mountain, 4 Brazen Borro...</td>\n",
       "      <td>Jessica_Estephan</td>\n",
       "      <td>https://www.mtgtop8.com/event?e=23942&amp;d=366798...</td>\n",
       "      <td>Izzet_Flash</td>\n",
       "    </tr>\n",
       "    <tr>\n",
       "      <th>1</th>\n",
       "      <td>4 Shock, 18 Mountain, 4 Bonecrusher Giant, 3 E...</td>\n",
       "      <td>Andrew_Boncher</td>\n",
       "      <td>https://www.mtgtop8.com/event?e=23810&amp;d=365477...</td>\n",
       "      <td>Red_Deck_Wins</td>\n",
       "    </tr>\n",
       "    <tr>\n",
       "      <th>2</th>\n",
       "      <td>10 Island, 4 Mountain, 4 Brazen Borrower, 4 Ga...</td>\n",
       "      <td>Brandon_Banks</td>\n",
       "      <td>https://www.mtgtop8.com/event?e=23997&amp;d=367303...</td>\n",
       "      <td>Izzet_Control</td>\n",
       "    </tr>\n",
       "    <tr>\n",
       "      <th>3</th>\n",
       "      <td>6 Forest, 3 Swamp, 4 Breeding Pool, 4 Cauldron...</td>\n",
       "      <td>Andrew_C</td>\n",
       "      <td>https://www.mtgtop8.com/event?e=23716&amp;d=364618...</td>\n",
       "      <td>Sultai_Sacrifice</td>\n",
       "    </tr>\n",
       "    <tr>\n",
       "      <th>4</th>\n",
       "      <td>1 Forest, 2 Island, 2 Mountain, 4 Breeding Poo...</td>\n",
       "      <td>Mx-hejji</td>\n",
       "      <td>https://www.mtgtop8.com/event?e=23796&amp;d=365372...</td>\n",
       "      <td>Reclamation</td>\n",
       "    </tr>\n",
       "    <tr>\n",
       "      <th>...</th>\n",
       "      <td>...</td>\n",
       "      <td>...</td>\n",
       "      <td>...</td>\n",
       "      <td>...</td>\n",
       "    </tr>\n",
       "    <tr>\n",
       "      <th>337</th>\n",
       "      <td>1 Disenchant, 2 Island, 2 Mountain, 1 Plains, ...</td>\n",
       "      <td>Matthew_Watts</td>\n",
       "      <td>https://www.mtgtop8.com/event?e=24037&amp;d=367686...</td>\n",
       "      <td>Jeskai_Fires</td>\n",
       "    </tr>\n",
       "    <tr>\n",
       "      <th>338</th>\n",
       "      <td>4 Shock, 17 Mountain, 4 Claim the Firstborn, 4...</td>\n",
       "      <td>Sandydogmtg</td>\n",
       "      <td>https://www.mtgtop8.com/event?e=24137&amp;d=368458...</td>\n",
       "      <td>Red_Deck_Wins</td>\n",
       "    </tr>\n",
       "    <tr>\n",
       "      <th>339</th>\n",
       "      <td>4 Chandra's Spitfire, 4 Shock, 18 Mountain, 3 ...</td>\n",
       "      <td>Billy_K</td>\n",
       "      <td>https://www.mtgtop8.com/event?e=23716&amp;d=364614...</td>\n",
       "      <td>Cavalcade</td>\n",
       "    </tr>\n",
       "    <tr>\n",
       "      <th>340</th>\n",
       "      <td>9 Forest, 8 Mountain, 4 Bonecrusher Giant, 3 E...</td>\n",
       "      <td>Esther_Trujillo</td>\n",
       "      <td>https://www.mtgtop8.com/event?e=23942&amp;d=366790...</td>\n",
       "      <td>Gruul_Aggro</td>\n",
       "    </tr>\n",
       "    <tr>\n",
       "      <th>341</th>\n",
       "      <td>7 Forest, 7 Island, 4 Breeding Pool, 2 Brazen ...</td>\n",
       "      <td>Benjamin_Czarny</td>\n",
       "      <td>https://www.mtgtop8.com/event?e=24037&amp;d=367687...</td>\n",
       "      <td>Ug_Flash</td>\n",
       "    </tr>\n",
       "  </tbody>\n",
       "</table>\n",
       "<p>342 rows × 4 columns</p>\n",
       "</div>"
      ],
      "text/plain": [
       "                                             deck_list            player  \\\n",
       "0    2 Shock, 10 Island, 4 Mountain, 4 Brazen Borro...  Jessica_Estephan   \n",
       "1    4 Shock, 18 Mountain, 4 Bonecrusher Giant, 3 E...    Andrew_Boncher   \n",
       "2    10 Island, 4 Mountain, 4 Brazen Borrower, 4 Ga...     Brandon_Banks   \n",
       "3    6 Forest, 3 Swamp, 4 Breeding Pool, 4 Cauldron...          Andrew_C   \n",
       "4    1 Forest, 2 Island, 2 Mountain, 4 Breeding Poo...          Mx-hejji   \n",
       "..                                                 ...               ...   \n",
       "337  1 Disenchant, 2 Island, 2 Mountain, 1 Plains, ...     Matthew_Watts   \n",
       "338  4 Shock, 17 Mountain, 4 Claim the Firstborn, 4...       Sandydogmtg   \n",
       "339  4 Chandra's Spitfire, 4 Shock, 18 Mountain, 3 ...           Billy_K   \n",
       "340  9 Forest, 8 Mountain, 4 Bonecrusher Giant, 3 E...   Esther_Trujillo   \n",
       "341  7 Forest, 7 Island, 4 Breeding Pool, 2 Brazen ...   Benjamin_Czarny   \n",
       "\n",
       "                                                   url              name  \n",
       "0    https://www.mtgtop8.com/event?e=23942&d=366798...       Izzet_Flash  \n",
       "1    https://www.mtgtop8.com/event?e=23810&d=365477...     Red_Deck_Wins  \n",
       "2    https://www.mtgtop8.com/event?e=23997&d=367303...     Izzet_Control  \n",
       "3    https://www.mtgtop8.com/event?e=23716&d=364618...  Sultai_Sacrifice  \n",
       "4    https://www.mtgtop8.com/event?e=23796&d=365372...       Reclamation  \n",
       "..                                                 ...               ...  \n",
       "337  https://www.mtgtop8.com/event?e=24037&d=367686...      Jeskai_Fires  \n",
       "338  https://www.mtgtop8.com/event?e=24137&d=368458...     Red_Deck_Wins  \n",
       "339  https://www.mtgtop8.com/event?e=23716&d=364614...         Cavalcade  \n",
       "340  https://www.mtgtop8.com/event?e=23942&d=366790...       Gruul_Aggro  \n",
       "341  https://www.mtgtop8.com/event?e=24037&d=367687...          Ug_Flash  \n",
       "\n",
       "[342 rows x 4 columns]"
      ]
     },
     "execution_count": 45,
     "metadata": {},
     "output_type": "execute_result"
    }
   ],
   "source": [
    "decks"
   ]
  },
  {
   "cell_type": "code",
   "execution_count": null,
   "metadata": {},
   "outputs": [],
   "source": [
    "type(decks.deck_list[0])"
   ]
  },
  {
   "cell_type": "code",
   "execution_count": 38,
   "metadata": {},
   "outputs": [
    {
     "data": {
      "text/html": [
       "<div>\n",
       "<style scoped>\n",
       "    .dataframe tbody tr th:only-of-type {\n",
       "        vertical-align: middle;\n",
       "    }\n",
       "\n",
       "    .dataframe tbody tr th {\n",
       "        vertical-align: top;\n",
       "    }\n",
       "\n",
       "    .dataframe thead th {\n",
       "        text-align: right;\n",
       "    }\n",
       "</style>\n",
       "<table border=\"1\" class=\"dataframe\">\n",
       "  <thead>\n",
       "    <tr style=\"text-align: right;\">\n",
       "      <th></th>\n",
       "      <th>deck_list</th>\n",
       "      <th>url</th>\n",
       "      <th>common</th>\n",
       "      <th>mythic</th>\n",
       "      <th>rare</th>\n",
       "      <th>uncommon</th>\n",
       "    </tr>\n",
       "  </thead>\n",
       "  <tbody>\n",
       "    <tr>\n",
       "      <th>0</th>\n",
       "      <td>2 Shock, 10 Island, 4 Mountain, 4 Brazen Borro...</td>\n",
       "      <td>https://www.mtgtop8.com/event?e=23942&amp;d=366798...</td>\n",
       "      <td>28.0</td>\n",
       "      <td>6.0</td>\n",
       "      <td>25.0</td>\n",
       "      <td>16.0</td>\n",
       "    </tr>\n",
       "    <tr>\n",
       "      <th>1</th>\n",
       "      <td>4 Shock, 18 Mountain, 4 Bonecrusher Giant, 3 E...</td>\n",
       "      <td>https://www.mtgtop8.com/event?e=23810&amp;d=365477...</td>\n",
       "      <td>34.0</td>\n",
       "      <td>3.0</td>\n",
       "      <td>25.0</td>\n",
       "      <td>13.0</td>\n",
       "    </tr>\n",
       "    <tr>\n",
       "      <th>2</th>\n",
       "      <td>10 Island, 4 Mountain, 4 Brazen Borrower, 4 Ga...</td>\n",
       "      <td>https://www.mtgtop8.com/event?e=23997&amp;d=367303...</td>\n",
       "      <td>25.0</td>\n",
       "      <td>7.0</td>\n",
       "      <td>25.0</td>\n",
       "      <td>18.0</td>\n",
       "    </tr>\n",
       "    <tr>\n",
       "      <th>3</th>\n",
       "      <td>6 Forest, 3 Swamp, 4 Breeding Pool, 4 Cauldron...</td>\n",
       "      <td>https://www.mtgtop8.com/event?e=23716&amp;d=364618...</td>\n",
       "      <td>13.0</td>\n",
       "      <td>7.0</td>\n",
       "      <td>35.0</td>\n",
       "      <td>20.0</td>\n",
       "    </tr>\n",
       "    <tr>\n",
       "      <th>4</th>\n",
       "      <td>1 Forest, 2 Island, 2 Mountain, 4 Breeding Poo...</td>\n",
       "      <td>https://www.mtgtop8.com/event?e=23796&amp;d=365372...</td>\n",
       "      <td>18.0</td>\n",
       "      <td>2.0</td>\n",
       "      <td>38.0</td>\n",
       "      <td>17.0</td>\n",
       "    </tr>\n",
       "    <tr>\n",
       "      <th>...</th>\n",
       "      <td>...</td>\n",
       "      <td>...</td>\n",
       "      <td>...</td>\n",
       "      <td>...</td>\n",
       "      <td>...</td>\n",
       "      <td>...</td>\n",
       "    </tr>\n",
       "    <tr>\n",
       "      <th>313</th>\n",
       "      <td>1 Disenchant, 2 Island, 2 Mountain, 1 Plains, ...</td>\n",
       "      <td>https://www.mtgtop8.com/event?e=24037&amp;d=367686...</td>\n",
       "      <td>9.0</td>\n",
       "      <td>10.0</td>\n",
       "      <td>46.0</td>\n",
       "      <td>10.0</td>\n",
       "    </tr>\n",
       "    <tr>\n",
       "      <th>314</th>\n",
       "      <td>4 Shock, 17 Mountain, 4 Claim the Firstborn, 4...</td>\n",
       "      <td>https://www.mtgtop8.com/event?e=24137&amp;d=368458...</td>\n",
       "      <td>33.0</td>\n",
       "      <td>7.0</td>\n",
       "      <td>17.0</td>\n",
       "      <td>18.0</td>\n",
       "    </tr>\n",
       "    <tr>\n",
       "      <th>315</th>\n",
       "      <td>4 Chandra's Spitfire, 4 Shock, 18 Mountain, 3 ...</td>\n",
       "      <td>https://www.mtgtop8.com/event?e=23716&amp;d=364614...</td>\n",
       "      <td>31.0</td>\n",
       "      <td>NaN</td>\n",
       "      <td>22.0</td>\n",
       "      <td>22.0</td>\n",
       "    </tr>\n",
       "    <tr>\n",
       "      <th>316</th>\n",
       "      <td>9 Forest, 8 Mountain, 4 Bonecrusher Giant, 3 E...</td>\n",
       "      <td>https://www.mtgtop8.com/event?e=23942&amp;d=366790...</td>\n",
       "      <td>22.0</td>\n",
       "      <td>8.0</td>\n",
       "      <td>27.0</td>\n",
       "      <td>18.0</td>\n",
       "    </tr>\n",
       "    <tr>\n",
       "      <th>317</th>\n",
       "      <td>7 Forest, 7 Island, 4 Breeding Pool, 2 Brazen ...</td>\n",
       "      <td>https://www.mtgtop8.com/event?e=24037&amp;d=367687...</td>\n",
       "      <td>24.0</td>\n",
       "      <td>5.0</td>\n",
       "      <td>26.0</td>\n",
       "      <td>20.0</td>\n",
       "    </tr>\n",
       "  </tbody>\n",
       "</table>\n",
       "<p>318 rows × 6 columns</p>\n",
       "</div>"
      ],
      "text/plain": [
       "                                             deck_list  \\\n",
       "0    2 Shock, 10 Island, 4 Mountain, 4 Brazen Borro...   \n",
       "1    4 Shock, 18 Mountain, 4 Bonecrusher Giant, 3 E...   \n",
       "2    10 Island, 4 Mountain, 4 Brazen Borrower, 4 Ga...   \n",
       "3    6 Forest, 3 Swamp, 4 Breeding Pool, 4 Cauldron...   \n",
       "4    1 Forest, 2 Island, 2 Mountain, 4 Breeding Poo...   \n",
       "..                                                 ...   \n",
       "313  1 Disenchant, 2 Island, 2 Mountain, 1 Plains, ...   \n",
       "314  4 Shock, 17 Mountain, 4 Claim the Firstborn, 4...   \n",
       "315  4 Chandra's Spitfire, 4 Shock, 18 Mountain, 3 ...   \n",
       "316  9 Forest, 8 Mountain, 4 Bonecrusher Giant, 3 E...   \n",
       "317  7 Forest, 7 Island, 4 Breeding Pool, 2 Brazen ...   \n",
       "\n",
       "                                                   url  common  mythic  rare  \\\n",
       "0    https://www.mtgtop8.com/event?e=23942&d=366798...    28.0     6.0  25.0   \n",
       "1    https://www.mtgtop8.com/event?e=23810&d=365477...    34.0     3.0  25.0   \n",
       "2    https://www.mtgtop8.com/event?e=23997&d=367303...    25.0     7.0  25.0   \n",
       "3    https://www.mtgtop8.com/event?e=23716&d=364618...    13.0     7.0  35.0   \n",
       "4    https://www.mtgtop8.com/event?e=23796&d=365372...    18.0     2.0  38.0   \n",
       "..                                                 ...     ...     ...   ...   \n",
       "313  https://www.mtgtop8.com/event?e=24037&d=367686...     9.0    10.0  46.0   \n",
       "314  https://www.mtgtop8.com/event?e=24137&d=368458...    33.0     7.0  17.0   \n",
       "315  https://www.mtgtop8.com/event?e=23716&d=364614...    31.0     NaN  22.0   \n",
       "316  https://www.mtgtop8.com/event?e=23942&d=366790...    22.0     8.0  27.0   \n",
       "317  https://www.mtgtop8.com/event?e=24037&d=367687...    24.0     5.0  26.0   \n",
       "\n",
       "     uncommon  \n",
       "0        16.0  \n",
       "1        13.0  \n",
       "2        18.0  \n",
       "3        20.0  \n",
       "4        17.0  \n",
       "..        ...  \n",
       "313      10.0  \n",
       "314      18.0  \n",
       "315      22.0  \n",
       "316      18.0  \n",
       "317      20.0  \n",
       "\n",
       "[318 rows x 6 columns]"
      ]
     },
     "execution_count": 38,
     "metadata": {},
     "output_type": "execute_result"
    }
   ],
   "source": [
    "decks_archive_clean"
   ]
  },
  {
   "cell_type": "code",
   "execution_count": 37,
   "metadata": {},
   "outputs": [
    {
     "data": {
      "text/html": [
       "<div>\n",
       "<style scoped>\n",
       "    .dataframe tbody tr th:only-of-type {\n",
       "        vertical-align: middle;\n",
       "    }\n",
       "\n",
       "    .dataframe tbody tr th {\n",
       "        vertical-align: top;\n",
       "    }\n",
       "\n",
       "    .dataframe thead th {\n",
       "        text-align: right;\n",
       "    }\n",
       "</style>\n",
       "<table border=\"1\" class=\"dataframe\">\n",
       "  <thead>\n",
       "    <tr style=\"text-align: right;\">\n",
       "      <th></th>\n",
       "      <th></th>\n",
       "      <th>deck_list</th>\n",
       "      <th>url</th>\n",
       "      <th>common</th>\n",
       "      <th>mythic</th>\n",
       "      <th>rare</th>\n",
       "      <th>uncommon</th>\n",
       "    </tr>\n",
       "    <tr>\n",
       "      <th>player</th>\n",
       "      <th>deck_name</th>\n",
       "      <th></th>\n",
       "      <th></th>\n",
       "      <th></th>\n",
       "      <th></th>\n",
       "      <th></th>\n",
       "      <th></th>\n",
       "    </tr>\n",
       "  </thead>\n",
       "  <tbody>\n",
       "    <tr>\n",
       "      <th>Jessica_Estephan</th>\n",
       "      <th>Izzet_Flash</th>\n",
       "      <td>2 Shock, 10 Island, 4 Mountain, 4 Brazen Borro...</td>\n",
       "      <td>https://www.mtgtop8.com/event?e=23942&amp;d=366798...</td>\n",
       "      <td>28.0</td>\n",
       "      <td>6.0</td>\n",
       "      <td>25.0</td>\n",
       "      <td>16.0</td>\n",
       "    </tr>\n",
       "    <tr>\n",
       "      <th>Andrew_Boncher</th>\n",
       "      <th>Red_Deck_Wins</th>\n",
       "      <td>4 Shock, 18 Mountain, 4 Bonecrusher Giant, 3 E...</td>\n",
       "      <td>https://www.mtgtop8.com/event?e=23810&amp;d=365477...</td>\n",
       "      <td>34.0</td>\n",
       "      <td>3.0</td>\n",
       "      <td>25.0</td>\n",
       "      <td>13.0</td>\n",
       "    </tr>\n",
       "    <tr>\n",
       "      <th>Brandon_Banks</th>\n",
       "      <th>Izzet_Control</th>\n",
       "      <td>10 Island, 4 Mountain, 4 Brazen Borrower, 4 Ga...</td>\n",
       "      <td>https://www.mtgtop8.com/event?e=23997&amp;d=367303...</td>\n",
       "      <td>25.0</td>\n",
       "      <td>7.0</td>\n",
       "      <td>25.0</td>\n",
       "      <td>18.0</td>\n",
       "    </tr>\n",
       "    <tr>\n",
       "      <th>Andrew_C</th>\n",
       "      <th>Sultai_Sacrifice</th>\n",
       "      <td>6 Forest, 3 Swamp, 4 Breeding Pool, 4 Cauldron...</td>\n",
       "      <td>https://www.mtgtop8.com/event?e=23716&amp;d=364618...</td>\n",
       "      <td>13.0</td>\n",
       "      <td>7.0</td>\n",
       "      <td>35.0</td>\n",
       "      <td>20.0</td>\n",
       "    </tr>\n",
       "    <tr>\n",
       "      <th>Mx-hejji</th>\n",
       "      <th>Reclamation</th>\n",
       "      <td>1 Forest, 2 Island, 2 Mountain, 4 Breeding Poo...</td>\n",
       "      <td>https://www.mtgtop8.com/event?e=23796&amp;d=365372...</td>\n",
       "      <td>18.0</td>\n",
       "      <td>2.0</td>\n",
       "      <td>38.0</td>\n",
       "      <td>17.0</td>\n",
       "    </tr>\n",
       "    <tr>\n",
       "      <th>...</th>\n",
       "      <th>...</th>\n",
       "      <td>...</td>\n",
       "      <td>...</td>\n",
       "      <td>...</td>\n",
       "      <td>...</td>\n",
       "      <td>...</td>\n",
       "      <td>...</td>\n",
       "    </tr>\n",
       "    <tr>\n",
       "      <th>Matthew_Watts</th>\n",
       "      <th>Jeskai_Fires</th>\n",
       "      <td>1 Disenchant, 2 Island, 2 Mountain, 1 Plains, ...</td>\n",
       "      <td>https://www.mtgtop8.com/event?e=24037&amp;d=367686...</td>\n",
       "      <td>9.0</td>\n",
       "      <td>10.0</td>\n",
       "      <td>46.0</td>\n",
       "      <td>10.0</td>\n",
       "    </tr>\n",
       "    <tr>\n",
       "      <th>Sandydogmtg</th>\n",
       "      <th>Red_Deck_Wins</th>\n",
       "      <td>4 Shock, 17 Mountain, 4 Claim the Firstborn, 4...</td>\n",
       "      <td>https://www.mtgtop8.com/event?e=24137&amp;d=368458...</td>\n",
       "      <td>33.0</td>\n",
       "      <td>7.0</td>\n",
       "      <td>17.0</td>\n",
       "      <td>18.0</td>\n",
       "    </tr>\n",
       "    <tr>\n",
       "      <th>Billy_K</th>\n",
       "      <th>Cavalcade</th>\n",
       "      <td>4 Chandra's Spitfire, 4 Shock, 18 Mountain, 3 ...</td>\n",
       "      <td>https://www.mtgtop8.com/event?e=23716&amp;d=364614...</td>\n",
       "      <td>31.0</td>\n",
       "      <td>NaN</td>\n",
       "      <td>22.0</td>\n",
       "      <td>22.0</td>\n",
       "    </tr>\n",
       "    <tr>\n",
       "      <th>Esther_Trujillo</th>\n",
       "      <th>Gruul_Aggro</th>\n",
       "      <td>9 Forest, 8 Mountain, 4 Bonecrusher Giant, 3 E...</td>\n",
       "      <td>https://www.mtgtop8.com/event?e=23942&amp;d=366790...</td>\n",
       "      <td>22.0</td>\n",
       "      <td>8.0</td>\n",
       "      <td>27.0</td>\n",
       "      <td>18.0</td>\n",
       "    </tr>\n",
       "    <tr>\n",
       "      <th>Benjamin_Czarny</th>\n",
       "      <th>Ug_Flash</th>\n",
       "      <td>7 Forest, 7 Island, 4 Breeding Pool, 2 Brazen ...</td>\n",
       "      <td>https://www.mtgtop8.com/event?e=24037&amp;d=367687...</td>\n",
       "      <td>24.0</td>\n",
       "      <td>5.0</td>\n",
       "      <td>26.0</td>\n",
       "      <td>20.0</td>\n",
       "    </tr>\n",
       "  </tbody>\n",
       "</table>\n",
       "<p>318 rows × 6 columns</p>\n",
       "</div>"
      ],
      "text/plain": [
       "                                                                           deck_list  \\\n",
       "player           deck_name                                                             \n",
       "Jessica_Estephan Izzet_Flash       2 Shock, 10 Island, 4 Mountain, 4 Brazen Borro...   \n",
       "Andrew_Boncher   Red_Deck_Wins     4 Shock, 18 Mountain, 4 Bonecrusher Giant, 3 E...   \n",
       "Brandon_Banks    Izzet_Control     10 Island, 4 Mountain, 4 Brazen Borrower, 4 Ga...   \n",
       "Andrew_C         Sultai_Sacrifice  6 Forest, 3 Swamp, 4 Breeding Pool, 4 Cauldron...   \n",
       "Mx-hejji         Reclamation       1 Forest, 2 Island, 2 Mountain, 4 Breeding Poo...   \n",
       "...                                                                              ...   \n",
       "Matthew_Watts    Jeskai_Fires      1 Disenchant, 2 Island, 2 Mountain, 1 Plains, ...   \n",
       "Sandydogmtg      Red_Deck_Wins     4 Shock, 17 Mountain, 4 Claim the Firstborn, 4...   \n",
       "Billy_K          Cavalcade         4 Chandra's Spitfire, 4 Shock, 18 Mountain, 3 ...   \n",
       "Esther_Trujillo  Gruul_Aggro       9 Forest, 8 Mountain, 4 Bonecrusher Giant, 3 E...   \n",
       "Benjamin_Czarny  Ug_Flash          7 Forest, 7 Island, 4 Breeding Pool, 2 Brazen ...   \n",
       "\n",
       "                                                                                 url  \\\n",
       "player           deck_name                                                             \n",
       "Jessica_Estephan Izzet_Flash       https://www.mtgtop8.com/event?e=23942&d=366798...   \n",
       "Andrew_Boncher   Red_Deck_Wins     https://www.mtgtop8.com/event?e=23810&d=365477...   \n",
       "Brandon_Banks    Izzet_Control     https://www.mtgtop8.com/event?e=23997&d=367303...   \n",
       "Andrew_C         Sultai_Sacrifice  https://www.mtgtop8.com/event?e=23716&d=364618...   \n",
       "Mx-hejji         Reclamation       https://www.mtgtop8.com/event?e=23796&d=365372...   \n",
       "...                                                                              ...   \n",
       "Matthew_Watts    Jeskai_Fires      https://www.mtgtop8.com/event?e=24037&d=367686...   \n",
       "Sandydogmtg      Red_Deck_Wins     https://www.mtgtop8.com/event?e=24137&d=368458...   \n",
       "Billy_K          Cavalcade         https://www.mtgtop8.com/event?e=23716&d=364614...   \n",
       "Esther_Trujillo  Gruul_Aggro       https://www.mtgtop8.com/event?e=23942&d=366790...   \n",
       "Benjamin_Czarny  Ug_Flash          https://www.mtgtop8.com/event?e=24037&d=367687...   \n",
       "\n",
       "                                   common  mythic  rare  uncommon  \n",
       "player           deck_name                                         \n",
       "Jessica_Estephan Izzet_Flash         28.0     6.0  25.0      16.0  \n",
       "Andrew_Boncher   Red_Deck_Wins       34.0     3.0  25.0      13.0  \n",
       "Brandon_Banks    Izzet_Control       25.0     7.0  25.0      18.0  \n",
       "Andrew_C         Sultai_Sacrifice    13.0     7.0  35.0      20.0  \n",
       "Mx-hejji         Reclamation         18.0     2.0  38.0      17.0  \n",
       "...                                   ...     ...   ...       ...  \n",
       "Matthew_Watts    Jeskai_Fires         9.0    10.0  46.0      10.0  \n",
       "Sandydogmtg      Red_Deck_Wins       33.0     7.0  17.0      18.0  \n",
       "Billy_K          Cavalcade           31.0     NaN  22.0      22.0  \n",
       "Esther_Trujillo  Gruul_Aggro         22.0     8.0  27.0      18.0  \n",
       "Benjamin_Czarny  Ug_Flash            24.0     5.0  26.0      20.0  \n",
       "\n",
       "[318 rows x 6 columns]"
      ]
     },
     "execution_count": 37,
     "metadata": {},
     "output_type": "execute_result"
    }
   ],
   "source": [
    "decks_archive"
   ]
  },
  {
   "cell_type": "markdown",
   "metadata": {},
   "source": [
    "## Assessment\n",
    "- [done] deck_list column has , for delimiter but names can also have a comma\n",
    "- [done] cards are in one column\n",
    "- [done] multiple cards are in one object\n",
    "- [done] card number and card name are the same object\n",
    "- [done] null values in `deck_list` column\n",
    "- [done] rarities not present in the data\n",
    "- [done] some card names still have a comma at the end\n",
    "- [done] some decks have multiple observations\n",
    "- [done] many cards have nan values for rarity\n",
    "- [done] dual cards are considered two cards in standard_sets_clean but only one card in decks_clean"
   ]
  },
  {
   "cell_type": "markdown",
   "metadata": {},
   "source": [
    "# Clean"
   ]
  },
  {
   "cell_type": "markdown",
   "metadata": {},
   "source": [
    "## Define\n",
    "- drop decks that have the same player and name"
   ]
  },
  {
   "cell_type": "markdown",
   "metadata": {},
   "source": [
    "## Code"
   ]
  },
  {
   "cell_type": "code",
   "execution_count": 8,
   "metadata": {},
   "outputs": [],
   "source": [
    "decks_clean.drop_duplicates(subset=['player', 'name'], inplace=True)"
   ]
  },
  {
   "cell_type": "markdown",
   "metadata": {},
   "source": [
    "## Test"
   ]
  },
  {
   "cell_type": "code",
   "execution_count": 9,
   "metadata": {},
   "outputs": [
    {
     "data": {
      "text/plain": [
       "0"
      ]
     },
     "execution_count": 9,
     "metadata": {},
     "output_type": "execute_result"
    }
   ],
   "source": [
    "decks_clean.duplicated(subset=['player', 'name']).sum()"
   ]
  },
  {
   "cell_type": "markdown",
   "metadata": {},
   "source": [
    "## Define\n",
    "- filter for any lists in `deck_list` that have null values in it"
   ]
  },
  {
   "cell_type": "markdown",
   "metadata": {},
   "source": [
    "## Code"
   ]
  },
  {
   "cell_type": "code",
   "execution_count": 10,
   "metadata": {},
   "outputs": [],
   "source": [
    "decks_clean.deck_list = decks_clean[decks_clean.astype(str)['deck_list'] != \"['nan']\"]"
   ]
  },
  {
   "cell_type": "markdown",
   "metadata": {},
   "source": [
    "## Test"
   ]
  },
  {
   "cell_type": "code",
   "execution_count": 11,
   "metadata": {},
   "outputs": [
    {
     "data": {
      "text/html": [
       "<div>\n",
       "<style scoped>\n",
       "    .dataframe tbody tr th:only-of-type {\n",
       "        vertical-align: middle;\n",
       "    }\n",
       "\n",
       "    .dataframe tbody tr th {\n",
       "        vertical-align: top;\n",
       "    }\n",
       "\n",
       "    .dataframe thead th {\n",
       "        text-align: right;\n",
       "    }\n",
       "</style>\n",
       "<table border=\"1\" class=\"dataframe\">\n",
       "  <thead>\n",
       "    <tr style=\"text-align: right;\">\n",
       "      <th></th>\n",
       "      <th>deck_list</th>\n",
       "      <th>player</th>\n",
       "      <th>url</th>\n",
       "      <th>name</th>\n",
       "    </tr>\n",
       "  </thead>\n",
       "  <tbody>\n",
       "  </tbody>\n",
       "</table>\n",
       "</div>"
      ],
      "text/plain": [
       "Empty DataFrame\n",
       "Columns: [deck_list, player, url, name]\n",
       "Index: []"
      ]
     },
     "execution_count": 11,
     "metadata": {},
     "output_type": "execute_result"
    }
   ],
   "source": [
    "decks_clean[decks_clean.astype(str)['deck_list'] == \"['nan']\"]"
   ]
  },
  {
   "cell_type": "markdown",
   "metadata": {},
   "source": [
    "## Define\n",
    "- make , in `deck_list` into '|' without mistaking commas in names"
   ]
  },
  {
   "cell_type": "markdown",
   "metadata": {},
   "source": [
    "## Code"
   ]
  },
  {
   "cell_type": "code",
   "execution_count": 12,
   "metadata": {},
   "outputs": [],
   "source": [
    "decks_clean.deck_list = decks_clean.deck_list.astype('str')\n",
    "decks_clean.deck_list = decks_clean.deck_list.str.replace(', (?=\\d)', '|')"
   ]
  },
  {
   "cell_type": "markdown",
   "metadata": {},
   "source": [
    "## Test"
   ]
  },
  {
   "cell_type": "code",
   "execution_count": 13,
   "metadata": {},
   "outputs": [
    {
     "data": {
      "text/html": [
       "<div>\n",
       "<style scoped>\n",
       "    .dataframe tbody tr th:only-of-type {\n",
       "        vertical-align: middle;\n",
       "    }\n",
       "\n",
       "    .dataframe tbody tr th {\n",
       "        vertical-align: top;\n",
       "    }\n",
       "\n",
       "    .dataframe thead th {\n",
       "        text-align: right;\n",
       "    }\n",
       "</style>\n",
       "<table border=\"1\" class=\"dataframe\">\n",
       "  <thead>\n",
       "    <tr style=\"text-align: right;\">\n",
       "      <th></th>\n",
       "      <th>deck_list</th>\n",
       "      <th>player</th>\n",
       "      <th>url</th>\n",
       "      <th>name</th>\n",
       "    </tr>\n",
       "  </thead>\n",
       "  <tbody>\n",
       "    <tr>\n",
       "      <th>0</th>\n",
       "      <td>2 Shock|10 Island|4 Mountain|4 Brazen Borrower...</td>\n",
       "      <td>Jessica_Estephan</td>\n",
       "      <td>https://www.mtgtop8.com/event?e=23942&amp;d=366798...</td>\n",
       "      <td>Izzet_Flash</td>\n",
       "    </tr>\n",
       "    <tr>\n",
       "      <th>1</th>\n",
       "      <td>4 Shock|18 Mountain|4 Bonecrusher Giant|3 Embe...</td>\n",
       "      <td>Andrew_Boncher</td>\n",
       "      <td>https://www.mtgtop8.com/event?e=23810&amp;d=365477...</td>\n",
       "      <td>Red_Deck_Wins</td>\n",
       "    </tr>\n",
       "    <tr>\n",
       "      <th>2</th>\n",
       "      <td>10 Island|4 Mountain|4 Brazen Borrower|4 Gadwi...</td>\n",
       "      <td>Brandon_Banks</td>\n",
       "      <td>https://www.mtgtop8.com/event?e=23997&amp;d=367303...</td>\n",
       "      <td>Izzet_Control</td>\n",
       "    </tr>\n",
       "    <tr>\n",
       "      <th>3</th>\n",
       "      <td>6 Forest|3 Swamp|4 Breeding Pool|4 Cauldron Fa...</td>\n",
       "      <td>Andrew_C</td>\n",
       "      <td>https://www.mtgtop8.com/event?e=23716&amp;d=364618...</td>\n",
       "      <td>Sultai_Sacrifice</td>\n",
       "    </tr>\n",
       "    <tr>\n",
       "      <th>4</th>\n",
       "      <td>1 Forest|2 Island|2 Mountain|4 Breeding Pool|2...</td>\n",
       "      <td>Mx-hejji</td>\n",
       "      <td>https://www.mtgtop8.com/event?e=23796&amp;d=365372...</td>\n",
       "      <td>Reclamation</td>\n",
       "    </tr>\n",
       "  </tbody>\n",
       "</table>\n",
       "</div>"
      ],
      "text/plain": [
       "                                           deck_list            player  \\\n",
       "0  2 Shock|10 Island|4 Mountain|4 Brazen Borrower...  Jessica_Estephan   \n",
       "1  4 Shock|18 Mountain|4 Bonecrusher Giant|3 Embe...    Andrew_Boncher   \n",
       "2  10 Island|4 Mountain|4 Brazen Borrower|4 Gadwi...     Brandon_Banks   \n",
       "3  6 Forest|3 Swamp|4 Breeding Pool|4 Cauldron Fa...          Andrew_C   \n",
       "4  1 Forest|2 Island|2 Mountain|4 Breeding Pool|2...          Mx-hejji   \n",
       "\n",
       "                                                 url              name  \n",
       "0  https://www.mtgtop8.com/event?e=23942&d=366798...       Izzet_Flash  \n",
       "1  https://www.mtgtop8.com/event?e=23810&d=365477...     Red_Deck_Wins  \n",
       "2  https://www.mtgtop8.com/event?e=23997&d=367303...     Izzet_Control  \n",
       "3  https://www.mtgtop8.com/event?e=23716&d=364618...  Sultai_Sacrifice  \n",
       "4  https://www.mtgtop8.com/event?e=23796&d=365372...       Reclamation  "
      ]
     },
     "execution_count": 13,
     "metadata": {},
     "output_type": "execute_result"
    }
   ],
   "source": [
    "decks_clean.head()"
   ]
  },
  {
   "cell_type": "markdown",
   "metadata": {},
   "source": [
    "## Define\n",
    "- split `deck_list` by card"
   ]
  },
  {
   "cell_type": "markdown",
   "metadata": {},
   "source": [
    "## Code"
   ]
  },
  {
   "cell_type": "code",
   "execution_count": 14,
   "metadata": {},
   "outputs": [],
   "source": [
    "new = decks_clean.deck_list.str.split('|', expand=True)\n",
    "decks_clean = decks_clean.join(new)"
   ]
  },
  {
   "cell_type": "markdown",
   "metadata": {},
   "source": [
    "## Test"
   ]
  },
  {
   "cell_type": "code",
   "execution_count": 15,
   "metadata": {},
   "outputs": [
    {
     "data": {
      "text/html": [
       "<div>\n",
       "<style scoped>\n",
       "    .dataframe tbody tr th:only-of-type {\n",
       "        vertical-align: middle;\n",
       "    }\n",
       "\n",
       "    .dataframe tbody tr th {\n",
       "        vertical-align: top;\n",
       "    }\n",
       "\n",
       "    .dataframe thead th {\n",
       "        text-align: right;\n",
       "    }\n",
       "</style>\n",
       "<table border=\"1\" class=\"dataframe\">\n",
       "  <thead>\n",
       "    <tr style=\"text-align: right;\">\n",
       "      <th></th>\n",
       "      <th>deck_list</th>\n",
       "      <th>player</th>\n",
       "      <th>url</th>\n",
       "      <th>name</th>\n",
       "      <th>0</th>\n",
       "      <th>1</th>\n",
       "      <th>2</th>\n",
       "      <th>3</th>\n",
       "      <th>4</th>\n",
       "      <th>5</th>\n",
       "      <th>...</th>\n",
       "      <th>29</th>\n",
       "      <th>30</th>\n",
       "      <th>31</th>\n",
       "      <th>32</th>\n",
       "      <th>33</th>\n",
       "      <th>34</th>\n",
       "      <th>35</th>\n",
       "      <th>36</th>\n",
       "      <th>37</th>\n",
       "      <th>38</th>\n",
       "    </tr>\n",
       "  </thead>\n",
       "  <tbody>\n",
       "    <tr>\n",
       "      <th>0</th>\n",
       "      <td>2 Shock|10 Island|4 Mountain|4 Brazen Borrower...</td>\n",
       "      <td>Jessica_Estephan</td>\n",
       "      <td>https://www.mtgtop8.com/event?e=23942&amp;d=366798...</td>\n",
       "      <td>Izzet_Flash</td>\n",
       "      <td>2 Shock</td>\n",
       "      <td>10 Island</td>\n",
       "      <td>4 Mountain</td>\n",
       "      <td>4 Brazen Borrower</td>\n",
       "      <td>3 Gadwick, the Wizened</td>\n",
       "      <td>2 Mystical Dispute</td>\n",
       "      <td>...</td>\n",
       "      <td>None</td>\n",
       "      <td>None</td>\n",
       "      <td>None</td>\n",
       "      <td>None</td>\n",
       "      <td>None</td>\n",
       "      <td>None</td>\n",
       "      <td>None</td>\n",
       "      <td>None</td>\n",
       "      <td>None</td>\n",
       "      <td>None</td>\n",
       "    </tr>\n",
       "    <tr>\n",
       "      <th>1</th>\n",
       "      <td>4 Shock|18 Mountain|4 Bonecrusher Giant|3 Embe...</td>\n",
       "      <td>Andrew_Boncher</td>\n",
       "      <td>https://www.mtgtop8.com/event?e=23810&amp;d=365477...</td>\n",
       "      <td>Red_Deck_Wins</td>\n",
       "      <td>4 Shock</td>\n",
       "      <td>18 Mountain</td>\n",
       "      <td>4 Bonecrusher Giant</td>\n",
       "      <td>3 Embercleave</td>\n",
       "      <td>4 Embereth Paladin</td>\n",
       "      <td>4 Rimrock Knight</td>\n",
       "      <td>...</td>\n",
       "      <td>None</td>\n",
       "      <td>None</td>\n",
       "      <td>None</td>\n",
       "      <td>None</td>\n",
       "      <td>None</td>\n",
       "      <td>None</td>\n",
       "      <td>None</td>\n",
       "      <td>None</td>\n",
       "      <td>None</td>\n",
       "      <td>None</td>\n",
       "    </tr>\n",
       "    <tr>\n",
       "      <th>2</th>\n",
       "      <td>10 Island|4 Mountain|4 Brazen Borrower|4 Gadwi...</td>\n",
       "      <td>Brandon_Banks</td>\n",
       "      <td>https://www.mtgtop8.com/event?e=23997&amp;d=367303...</td>\n",
       "      <td>Izzet_Control</td>\n",
       "      <td>10 Island</td>\n",
       "      <td>4 Mountain</td>\n",
       "      <td>4 Brazen Borrower</td>\n",
       "      <td>4 Gadwick, the Wizened</td>\n",
       "      <td>3 Mystical Dispute</td>\n",
       "      <td>4 Bonecrusher Giant</td>\n",
       "      <td>...</td>\n",
       "      <td>None</td>\n",
       "      <td>None</td>\n",
       "      <td>None</td>\n",
       "      <td>None</td>\n",
       "      <td>None</td>\n",
       "      <td>None</td>\n",
       "      <td>None</td>\n",
       "      <td>None</td>\n",
       "      <td>None</td>\n",
       "      <td>None</td>\n",
       "    </tr>\n",
       "    <tr>\n",
       "      <th>3</th>\n",
       "      <td>6 Forest|3 Swamp|4 Breeding Pool|4 Cauldron Fa...</td>\n",
       "      <td>Andrew_C</td>\n",
       "      <td>https://www.mtgtop8.com/event?e=23716&amp;d=364618...</td>\n",
       "      <td>Sultai_Sacrifice</td>\n",
       "      <td>6 Forest</td>\n",
       "      <td>3 Swamp</td>\n",
       "      <td>4 Breeding Pool</td>\n",
       "      <td>4 Cauldron Familiar</td>\n",
       "      <td>3 Murderous Rider</td>\n",
       "      <td>4 Gilded Goose</td>\n",
       "      <td>...</td>\n",
       "      <td>None</td>\n",
       "      <td>None</td>\n",
       "      <td>None</td>\n",
       "      <td>None</td>\n",
       "      <td>None</td>\n",
       "      <td>None</td>\n",
       "      <td>None</td>\n",
       "      <td>None</td>\n",
       "      <td>None</td>\n",
       "      <td>None</td>\n",
       "    </tr>\n",
       "    <tr>\n",
       "      <th>4</th>\n",
       "      <td>1 Forest|2 Island|2 Mountain|4 Breeding Pool|2...</td>\n",
       "      <td>Mx-hejji</td>\n",
       "      <td>https://www.mtgtop8.com/event?e=23796&amp;d=365372...</td>\n",
       "      <td>Reclamation</td>\n",
       "      <td>1 Forest</td>\n",
       "      <td>2 Island</td>\n",
       "      <td>2 Mountain</td>\n",
       "      <td>4 Breeding Pool</td>\n",
       "      <td>2 Brazen Borrower</td>\n",
       "      <td>2 Mystical Dispute</td>\n",
       "      <td>...</td>\n",
       "      <td>None</td>\n",
       "      <td>None</td>\n",
       "      <td>None</td>\n",
       "      <td>None</td>\n",
       "      <td>None</td>\n",
       "      <td>None</td>\n",
       "      <td>None</td>\n",
       "      <td>None</td>\n",
       "      <td>None</td>\n",
       "      <td>None</td>\n",
       "    </tr>\n",
       "  </tbody>\n",
       "</table>\n",
       "<p>5 rows × 43 columns</p>\n",
       "</div>"
      ],
      "text/plain": [
       "                                           deck_list            player  \\\n",
       "0  2 Shock|10 Island|4 Mountain|4 Brazen Borrower...  Jessica_Estephan   \n",
       "1  4 Shock|18 Mountain|4 Bonecrusher Giant|3 Embe...    Andrew_Boncher   \n",
       "2  10 Island|4 Mountain|4 Brazen Borrower|4 Gadwi...     Brandon_Banks   \n",
       "3  6 Forest|3 Swamp|4 Breeding Pool|4 Cauldron Fa...          Andrew_C   \n",
       "4  1 Forest|2 Island|2 Mountain|4 Breeding Pool|2...          Mx-hejji   \n",
       "\n",
       "                                                 url              name  \\\n",
       "0  https://www.mtgtop8.com/event?e=23942&d=366798...       Izzet_Flash   \n",
       "1  https://www.mtgtop8.com/event?e=23810&d=365477...     Red_Deck_Wins   \n",
       "2  https://www.mtgtop8.com/event?e=23997&d=367303...     Izzet_Control   \n",
       "3  https://www.mtgtop8.com/event?e=23716&d=364618...  Sultai_Sacrifice   \n",
       "4  https://www.mtgtop8.com/event?e=23796&d=365372...       Reclamation   \n",
       "\n",
       "           0            1                    2                       3  \\\n",
       "0    2 Shock    10 Island           4 Mountain       4 Brazen Borrower   \n",
       "1    4 Shock  18 Mountain  4 Bonecrusher Giant           3 Embercleave   \n",
       "2  10 Island   4 Mountain    4 Brazen Borrower  4 Gadwick, the Wizened   \n",
       "3   6 Forest      3 Swamp      4 Breeding Pool     4 Cauldron Familiar   \n",
       "4   1 Forest     2 Island           2 Mountain         4 Breeding Pool   \n",
       "\n",
       "                        4                    5  ...    29    30    31    32  \\\n",
       "0  3 Gadwick, the Wizened   2 Mystical Dispute  ...  None  None  None  None   \n",
       "1      4 Embereth Paladin     4 Rimrock Knight  ...  None  None  None  None   \n",
       "2      3 Mystical Dispute  4 Bonecrusher Giant  ...  None  None  None  None   \n",
       "3       3 Murderous Rider       4 Gilded Goose  ...  None  None  None  None   \n",
       "4       2 Brazen Borrower   2 Mystical Dispute  ...  None  None  None  None   \n",
       "\n",
       "     33    34    35    36    37    38  \n",
       "0  None  None  None  None  None  None  \n",
       "1  None  None  None  None  None  None  \n",
       "2  None  None  None  None  None  None  \n",
       "3  None  None  None  None  None  None  \n",
       "4  None  None  None  None  None  None  \n",
       "\n",
       "[5 rows x 43 columns]"
      ]
     },
     "execution_count": 15,
     "metadata": {},
     "output_type": "execute_result"
    }
   ],
   "source": [
    "decks_clean.head()"
   ]
  },
  {
   "cell_type": "markdown",
   "metadata": {},
   "source": [
    "## Define \n",
    "- melt cards into one column"
   ]
  },
  {
   "cell_type": "markdown",
   "metadata": {},
   "source": [
    "## Code"
   ]
  },
  {
   "cell_type": "code",
   "execution_count": 16,
   "metadata": {},
   "outputs": [],
   "source": [
    "decks_clean = pd.melt(decks_clean, id_vars=['deck_list', 'player', 'url', 'name'], value_vars=decks_clean.columns[4:45])"
   ]
  },
  {
   "cell_type": "code",
   "execution_count": 17,
   "metadata": {},
   "outputs": [],
   "source": [
    "decks_clean = decks_clean.rename(columns={'value':'cards'}).drop(columns=['deck_list', 'variable'])"
   ]
  },
  {
   "cell_type": "markdown",
   "metadata": {},
   "source": [
    "## Test"
   ]
  },
  {
   "cell_type": "code",
   "execution_count": 18,
   "metadata": {},
   "outputs": [
    {
     "data": {
      "text/plain": [
       "(12402, 4)"
      ]
     },
     "execution_count": 18,
     "metadata": {},
     "output_type": "execute_result"
    }
   ],
   "source": [
    "decks_clean.shape"
   ]
  },
  {
   "cell_type": "code",
   "execution_count": 19,
   "metadata": {},
   "outputs": [
    {
     "data": {
      "text/html": [
       "<div>\n",
       "<style scoped>\n",
       "    .dataframe tbody tr th:only-of-type {\n",
       "        vertical-align: middle;\n",
       "    }\n",
       "\n",
       "    .dataframe tbody tr th {\n",
       "        vertical-align: top;\n",
       "    }\n",
       "\n",
       "    .dataframe thead th {\n",
       "        text-align: right;\n",
       "    }\n",
       "</style>\n",
       "<table border=\"1\" class=\"dataframe\">\n",
       "  <thead>\n",
       "    <tr style=\"text-align: right;\">\n",
       "      <th></th>\n",
       "      <th>player</th>\n",
       "      <th>url</th>\n",
       "      <th>name</th>\n",
       "      <th>cards</th>\n",
       "    </tr>\n",
       "  </thead>\n",
       "  <tbody>\n",
       "    <tr>\n",
       "      <th>0</th>\n",
       "      <td>Jessica_Estephan</td>\n",
       "      <td>https://www.mtgtop8.com/event?e=23942&amp;d=366798...</td>\n",
       "      <td>Izzet_Flash</td>\n",
       "      <td>2 Shock</td>\n",
       "    </tr>\n",
       "    <tr>\n",
       "      <th>1</th>\n",
       "      <td>Andrew_Boncher</td>\n",
       "      <td>https://www.mtgtop8.com/event?e=23810&amp;d=365477...</td>\n",
       "      <td>Red_Deck_Wins</td>\n",
       "      <td>4 Shock</td>\n",
       "    </tr>\n",
       "    <tr>\n",
       "      <th>2</th>\n",
       "      <td>Brandon_Banks</td>\n",
       "      <td>https://www.mtgtop8.com/event?e=23997&amp;d=367303...</td>\n",
       "      <td>Izzet_Control</td>\n",
       "      <td>10 Island</td>\n",
       "    </tr>\n",
       "    <tr>\n",
       "      <th>3</th>\n",
       "      <td>Andrew_C</td>\n",
       "      <td>https://www.mtgtop8.com/event?e=23716&amp;d=364618...</td>\n",
       "      <td>Sultai_Sacrifice</td>\n",
       "      <td>6 Forest</td>\n",
       "    </tr>\n",
       "    <tr>\n",
       "      <th>4</th>\n",
       "      <td>Mx-hejji</td>\n",
       "      <td>https://www.mtgtop8.com/event?e=23796&amp;d=365372...</td>\n",
       "      <td>Reclamation</td>\n",
       "      <td>1 Forest</td>\n",
       "    </tr>\n",
       "  </tbody>\n",
       "</table>\n",
       "</div>"
      ],
      "text/plain": [
       "             player                                                url  \\\n",
       "0  Jessica_Estephan  https://www.mtgtop8.com/event?e=23942&d=366798...   \n",
       "1    Andrew_Boncher  https://www.mtgtop8.com/event?e=23810&d=365477...   \n",
       "2     Brandon_Banks  https://www.mtgtop8.com/event?e=23997&d=367303...   \n",
       "3          Andrew_C  https://www.mtgtop8.com/event?e=23716&d=364618...   \n",
       "4          Mx-hejji  https://www.mtgtop8.com/event?e=23796&d=365372...   \n",
       "\n",
       "               name      cards  \n",
       "0       Izzet_Flash    2 Shock  \n",
       "1     Red_Deck_Wins    4 Shock  \n",
       "2     Izzet_Control  10 Island  \n",
       "3  Sultai_Sacrifice   6 Forest  \n",
       "4       Reclamation   1 Forest  "
      ]
     },
     "execution_count": 19,
     "metadata": {},
     "output_type": "execute_result"
    }
   ],
   "source": [
    "decks_clean.head()"
   ]
  },
  {
   "cell_type": "markdown",
   "metadata": {},
   "source": [
    "## Define\n",
    "- drop rows that have 'None' in them"
   ]
  },
  {
   "cell_type": "markdown",
   "metadata": {},
   "source": [
    "## Code"
   ]
  },
  {
   "cell_type": "code",
   "execution_count": 20,
   "metadata": {},
   "outputs": [],
   "source": [
    "decks_clean.cards = decks_clean.cards.astype('str')"
   ]
  },
  {
   "cell_type": "code",
   "execution_count": 21,
   "metadata": {},
   "outputs": [],
   "source": [
    "decks_clean = decks_clean[decks_clean.cards != 'None']"
   ]
  },
  {
   "cell_type": "code",
   "execution_count": 22,
   "metadata": {},
   "outputs": [],
   "source": [
    "decks_clean.to_csv('~/Documents/MTGA_rarity_analysis/data/decks_clean.csv', index=False)"
   ]
  },
  {
   "cell_type": "markdown",
   "metadata": {},
   "source": [
    "## Test"
   ]
  },
  {
   "cell_type": "code",
   "execution_count": 23,
   "metadata": {},
   "outputs": [
    {
     "data": {
      "text/html": [
       "<div>\n",
       "<style scoped>\n",
       "    .dataframe tbody tr th:only-of-type {\n",
       "        vertical-align: middle;\n",
       "    }\n",
       "\n",
       "    .dataframe tbody tr th {\n",
       "        vertical-align: top;\n",
       "    }\n",
       "\n",
       "    .dataframe thead th {\n",
       "        text-align: right;\n",
       "    }\n",
       "</style>\n",
       "<table border=\"1\" class=\"dataframe\">\n",
       "  <thead>\n",
       "    <tr style=\"text-align: right;\">\n",
       "      <th></th>\n",
       "      <th>player</th>\n",
       "      <th>url</th>\n",
       "      <th>name</th>\n",
       "      <th>cards</th>\n",
       "    </tr>\n",
       "  </thead>\n",
       "  <tbody>\n",
       "  </tbody>\n",
       "</table>\n",
       "</div>"
      ],
      "text/plain": [
       "Empty DataFrame\n",
       "Columns: [player, url, name, cards]\n",
       "Index: []"
      ]
     },
     "execution_count": 23,
     "metadata": {},
     "output_type": "execute_result"
    }
   ],
   "source": [
    "decks_clean[decks_clean.cards == 'None']"
   ]
  },
  {
   "cell_type": "markdown",
   "metadata": {},
   "source": [
    "## Define\n",
    "- get numbers out of `cards` column"
   ]
  },
  {
   "cell_type": "markdown",
   "metadata": {},
   "source": [
    "## Code"
   ]
  },
  {
   "cell_type": "code",
   "execution_count": 24,
   "metadata": {},
   "outputs": [],
   "source": [
    "new = decks_clean.cards.str.split('(?<=\\d)\\s', expand=True)\n",
    "decks_clean = decks_clean.join(new).rename(columns={'name':'deck_name', 0:'num', 1:'card_name'}).drop(columns=['cards'])"
   ]
  },
  {
   "cell_type": "markdown",
   "metadata": {},
   "source": [
    "## Test"
   ]
  },
  {
   "cell_type": "code",
   "execution_count": 25,
   "metadata": {},
   "outputs": [
    {
     "data": {
      "text/html": [
       "<div>\n",
       "<style scoped>\n",
       "    .dataframe tbody tr th:only-of-type {\n",
       "        vertical-align: middle;\n",
       "    }\n",
       "\n",
       "    .dataframe tbody tr th {\n",
       "        vertical-align: top;\n",
       "    }\n",
       "\n",
       "    .dataframe thead th {\n",
       "        text-align: right;\n",
       "    }\n",
       "</style>\n",
       "<table border=\"1\" class=\"dataframe\">\n",
       "  <thead>\n",
       "    <tr style=\"text-align: right;\">\n",
       "      <th></th>\n",
       "      <th>player</th>\n",
       "      <th>url</th>\n",
       "      <th>deck_name</th>\n",
       "      <th>num</th>\n",
       "      <th>card_name</th>\n",
       "    </tr>\n",
       "  </thead>\n",
       "  <tbody>\n",
       "    <tr>\n",
       "      <th>0</th>\n",
       "      <td>Jessica_Estephan</td>\n",
       "      <td>https://www.mtgtop8.com/event?e=23942&amp;d=366798...</td>\n",
       "      <td>Izzet_Flash</td>\n",
       "      <td>2</td>\n",
       "      <td>Shock</td>\n",
       "    </tr>\n",
       "    <tr>\n",
       "      <th>1</th>\n",
       "      <td>Andrew_Boncher</td>\n",
       "      <td>https://www.mtgtop8.com/event?e=23810&amp;d=365477...</td>\n",
       "      <td>Red_Deck_Wins</td>\n",
       "      <td>4</td>\n",
       "      <td>Shock</td>\n",
       "    </tr>\n",
       "    <tr>\n",
       "      <th>2</th>\n",
       "      <td>Brandon_Banks</td>\n",
       "      <td>https://www.mtgtop8.com/event?e=23997&amp;d=367303...</td>\n",
       "      <td>Izzet_Control</td>\n",
       "      <td>10</td>\n",
       "      <td>Island</td>\n",
       "    </tr>\n",
       "    <tr>\n",
       "      <th>3</th>\n",
       "      <td>Andrew_C</td>\n",
       "      <td>https://www.mtgtop8.com/event?e=23716&amp;d=364618...</td>\n",
       "      <td>Sultai_Sacrifice</td>\n",
       "      <td>6</td>\n",
       "      <td>Forest</td>\n",
       "    </tr>\n",
       "    <tr>\n",
       "      <th>4</th>\n",
       "      <td>Mx-hejji</td>\n",
       "      <td>https://www.mtgtop8.com/event?e=23796&amp;d=365372...</td>\n",
       "      <td>Reclamation</td>\n",
       "      <td>1</td>\n",
       "      <td>Forest</td>\n",
       "    </tr>\n",
       "  </tbody>\n",
       "</table>\n",
       "</div>"
      ],
      "text/plain": [
       "             player                                                url  \\\n",
       "0  Jessica_Estephan  https://www.mtgtop8.com/event?e=23942&d=366798...   \n",
       "1    Andrew_Boncher  https://www.mtgtop8.com/event?e=23810&d=365477...   \n",
       "2     Brandon_Banks  https://www.mtgtop8.com/event?e=23997&d=367303...   \n",
       "3          Andrew_C  https://www.mtgtop8.com/event?e=23716&d=364618...   \n",
       "4          Mx-hejji  https://www.mtgtop8.com/event?e=23796&d=365372...   \n",
       "\n",
       "          deck_name num card_name  \n",
       "0       Izzet_Flash   2     Shock  \n",
       "1     Red_Deck_Wins   4     Shock  \n",
       "2     Izzet_Control  10    Island  \n",
       "3  Sultai_Sacrifice   6    Forest  \n",
       "4       Reclamation   1    Forest  "
      ]
     },
     "execution_count": 25,
     "metadata": {},
     "output_type": "execute_result"
    }
   ],
   "source": [
    "decks_clean.head()"
   ]
  },
  {
   "cell_type": "code",
   "execution_count": 26,
   "metadata": {},
   "outputs": [],
   "source": [
    "decks_clean.to_csv('~/Documents/MTGA_rarity_analysis/data/decks_clean.csv', index=False)"
   ]
  },
  {
   "cell_type": "markdown",
   "metadata": {},
   "source": [
    "## Define\n",
    "- Add card rarity to decks_clean"
   ]
  },
  {
   "cell_type": "code",
   "execution_count": 27,
   "metadata": {},
   "outputs": [],
   "source": [
    "# code to get rarity in a list by themselves\n",
    "card_rarities = []\n",
    "for i in standard_sets_clean.keys():\n",
    "    current_set = standard_sets_clean[i]['cards']\n",
    "    for a in np.arange(np.count_nonzero(current_set)):\n",
    "        rarity = current_set[a]['rarity']\n",
    "        card_rarities.append(rarity)"
   ]
  },
  {
   "cell_type": "code",
   "execution_count": 28,
   "metadata": {},
   "outputs": [],
   "source": [
    "# code to get names in a list by themselves\n",
    "card_names = []\n",
    "for i in standard_sets_clean.keys():\n",
    "    current_set = standard_sets_clean[i]['cards']\n",
    "    for a in np.arange(np.count_nonzero(current_set)):\n",
    "        name = current_set[a]['name']\n",
    "        card_names.append(name)"
   ]
  },
  {
   "cell_type": "code",
   "execution_count": 29,
   "metadata": {},
   "outputs": [],
   "source": [
    "# code to create dataframe of card_rarities and card_names\n",
    "mtg_card_rarities = pd.DataFrame({'card_name': card_names, 'card_rarity': card_rarities})\n",
    "mtg_card_rarities_clean = mtg_card_rarities.copy()\n",
    "mtg_card_rarities_clean.to_csv('~/Documents/MTGA_rarity_analysis/data/mtg_card_rarities_clean.csv', index=False)"
   ]
  },
  {
   "cell_type": "code",
   "execution_count": 30,
   "metadata": {},
   "outputs": [],
   "source": [
    "# drop duplicates in mtg_card_rarities_clean\n",
    "mtg_card_rarities_clean.drop_duplicates(inplace=True)"
   ]
  },
  {
   "cell_type": "code",
   "execution_count": 31,
   "metadata": {},
   "outputs": [],
   "source": [
    "mtg_card_rarities_clean.to_csv('~/Documents/MTGA_rarity_analysis/data/mtg_card_rarities_clean.csv', index=False)"
   ]
  },
  {
   "cell_type": "code",
   "execution_count": 32,
   "metadata": {},
   "outputs": [],
   "source": [
    "mtg_card_rarities_clean = pd.read_csv('~/Documents/MTGA_rarity_analysis/data/mtg_card_rarities_clean.csv')"
   ]
  },
  {
   "cell_type": "code",
   "execution_count": 33,
   "metadata": {},
   "outputs": [],
   "source": [
    "decks_clean = decks_clean.join(mtg_card_rarities_clean.set_index('card_name'), on='card_name')"
   ]
  },
  {
   "cell_type": "code",
   "execution_count": 34,
   "metadata": {},
   "outputs": [],
   "source": [
    "decks_clean.num = decks_clean.num.astype('int64')"
   ]
  },
  {
   "cell_type": "markdown",
   "metadata": {},
   "source": [
    "## Test"
   ]
  },
  {
   "cell_type": "code",
   "execution_count": 35,
   "metadata": {},
   "outputs": [
    {
     "data": {
      "text/html": [
       "<div>\n",
       "<style scoped>\n",
       "    .dataframe tbody tr th:only-of-type {\n",
       "        vertical-align: middle;\n",
       "    }\n",
       "\n",
       "    .dataframe tbody tr th {\n",
       "        vertical-align: top;\n",
       "    }\n",
       "\n",
       "    .dataframe thead th {\n",
       "        text-align: right;\n",
       "    }\n",
       "</style>\n",
       "<table border=\"1\" class=\"dataframe\">\n",
       "  <thead>\n",
       "    <tr style=\"text-align: right;\">\n",
       "      <th></th>\n",
       "      <th>card_name</th>\n",
       "      <th>card_rarity</th>\n",
       "    </tr>\n",
       "  </thead>\n",
       "  <tbody>\n",
       "    <tr>\n",
       "      <th>0</th>\n",
       "      <td>Acclaimed Contender</td>\n",
       "      <td>rare</td>\n",
       "    </tr>\n",
       "    <tr>\n",
       "      <th>1</th>\n",
       "      <td>Alela, Artful Provocateur</td>\n",
       "      <td>mythic</td>\n",
       "    </tr>\n",
       "    <tr>\n",
       "      <th>2</th>\n",
       "      <td>All That Glitters</td>\n",
       "      <td>uncommon</td>\n",
       "    </tr>\n",
       "    <tr>\n",
       "      <th>3</th>\n",
       "      <td>Bring to Life</td>\n",
       "      <td>uncommon</td>\n",
       "    </tr>\n",
       "    <tr>\n",
       "      <th>4</th>\n",
       "      <td>Animating Faerie</td>\n",
       "      <td>uncommon</td>\n",
       "    </tr>\n",
       "    <tr>\n",
       "      <th>...</th>\n",
       "      <td>...</td>\n",
       "      <td>...</td>\n",
       "    </tr>\n",
       "    <tr>\n",
       "      <th>1415</th>\n",
       "      <td>Wall of Runes</td>\n",
       "      <td>common</td>\n",
       "    </tr>\n",
       "    <tr>\n",
       "      <th>1416</th>\n",
       "      <td>Wanderer's Strike</td>\n",
       "      <td>common</td>\n",
       "    </tr>\n",
       "    <tr>\n",
       "      <th>1417</th>\n",
       "      <td>War Screecher</td>\n",
       "      <td>common</td>\n",
       "    </tr>\n",
       "    <tr>\n",
       "      <th>1418</th>\n",
       "      <td>Wardscale Crocodile</td>\n",
       "      <td>common</td>\n",
       "    </tr>\n",
       "    <tr>\n",
       "      <th>1419</th>\n",
       "      <td>Widespread Brutality</td>\n",
       "      <td>rare</td>\n",
       "    </tr>\n",
       "  </tbody>\n",
       "</table>\n",
       "<p>1420 rows × 2 columns</p>\n",
       "</div>"
      ],
      "text/plain": [
       "                      card_name card_rarity\n",
       "0           Acclaimed Contender        rare\n",
       "1     Alela, Artful Provocateur      mythic\n",
       "2             All That Glitters    uncommon\n",
       "3                 Bring to Life    uncommon\n",
       "4              Animating Faerie    uncommon\n",
       "...                         ...         ...\n",
       "1415              Wall of Runes      common\n",
       "1416          Wanderer's Strike      common\n",
       "1417              War Screecher      common\n",
       "1418        Wardscale Crocodile      common\n",
       "1419       Widespread Brutality        rare\n",
       "\n",
       "[1420 rows x 2 columns]"
      ]
     },
     "execution_count": 35,
     "metadata": {},
     "output_type": "execute_result"
    }
   ],
   "source": [
    "mtg_card_rarities_clean"
   ]
  },
  {
   "cell_type": "code",
   "execution_count": 36,
   "metadata": {},
   "outputs": [
    {
     "data": {
      "text/html": [
       "<div>\n",
       "<style scoped>\n",
       "    .dataframe tbody tr th:only-of-type {\n",
       "        vertical-align: middle;\n",
       "    }\n",
       "\n",
       "    .dataframe tbody tr th {\n",
       "        vertical-align: top;\n",
       "    }\n",
       "\n",
       "    .dataframe thead th {\n",
       "        text-align: right;\n",
       "    }\n",
       "</style>\n",
       "<table border=\"1\" class=\"dataframe\">\n",
       "  <thead>\n",
       "    <tr style=\"text-align: right;\">\n",
       "      <th></th>\n",
       "      <th>player</th>\n",
       "      <th>url</th>\n",
       "      <th>deck_name</th>\n",
       "      <th>num</th>\n",
       "      <th>card_name</th>\n",
       "      <th>card_rarity</th>\n",
       "    </tr>\n",
       "  </thead>\n",
       "  <tbody>\n",
       "    <tr>\n",
       "      <th>0</th>\n",
       "      <td>Jessica_Estephan</td>\n",
       "      <td>https://www.mtgtop8.com/event?e=23942&amp;d=366798...</td>\n",
       "      <td>Izzet_Flash</td>\n",
       "      <td>2</td>\n",
       "      <td>Shock</td>\n",
       "      <td>common</td>\n",
       "    </tr>\n",
       "    <tr>\n",
       "      <th>1</th>\n",
       "      <td>Andrew_Boncher</td>\n",
       "      <td>https://www.mtgtop8.com/event?e=23810&amp;d=365477...</td>\n",
       "      <td>Red_Deck_Wins</td>\n",
       "      <td>4</td>\n",
       "      <td>Shock</td>\n",
       "      <td>common</td>\n",
       "    </tr>\n",
       "    <tr>\n",
       "      <th>2</th>\n",
       "      <td>Brandon_Banks</td>\n",
       "      <td>https://www.mtgtop8.com/event?e=23997&amp;d=367303...</td>\n",
       "      <td>Izzet_Control</td>\n",
       "      <td>10</td>\n",
       "      <td>Island</td>\n",
       "      <td>common</td>\n",
       "    </tr>\n",
       "    <tr>\n",
       "      <th>3</th>\n",
       "      <td>Andrew_C</td>\n",
       "      <td>https://www.mtgtop8.com/event?e=23716&amp;d=364618...</td>\n",
       "      <td>Sultai_Sacrifice</td>\n",
       "      <td>6</td>\n",
       "      <td>Forest</td>\n",
       "      <td>common</td>\n",
       "    </tr>\n",
       "    <tr>\n",
       "      <th>4</th>\n",
       "      <td>Mx-hejji</td>\n",
       "      <td>https://www.mtgtop8.com/event?e=23796&amp;d=365372...</td>\n",
       "      <td>Reclamation</td>\n",
       "      <td>1</td>\n",
       "      <td>Forest</td>\n",
       "      <td>common</td>\n",
       "    </tr>\n",
       "    <tr>\n",
       "      <th>...</th>\n",
       "      <td>...</td>\n",
       "      <td>...</td>\n",
       "      <td>...</td>\n",
       "      <td>...</td>\n",
       "      <td>...</td>\n",
       "      <td>...</td>\n",
       "    </tr>\n",
       "    <tr>\n",
       "      <th>11100</th>\n",
       "      <td>Fulgence</td>\n",
       "      <td>https://www.mtgtop8.com/event?e=23856&amp;d=365902...</td>\n",
       "      <td>Niv-Mizzet_Reborn</td>\n",
       "      <td>1</td>\n",
       "      <td>Tamiyo, Collector of Tales</td>\n",
       "      <td>rare</td>\n",
       "    </tr>\n",
       "    <tr>\n",
       "      <th>11418</th>\n",
       "      <td>Fulgence</td>\n",
       "      <td>https://www.mtgtop8.com/event?e=23856&amp;d=365902...</td>\n",
       "      <td>Niv-Mizzet_Reborn</td>\n",
       "      <td>3</td>\n",
       "      <td>Teferi, Time Raveler</td>\n",
       "      <td>rare</td>\n",
       "    </tr>\n",
       "    <tr>\n",
       "      <th>11736</th>\n",
       "      <td>Fulgence</td>\n",
       "      <td>https://www.mtgtop8.com/event?e=23856&amp;d=365902...</td>\n",
       "      <td>Niv-Mizzet_Reborn</td>\n",
       "      <td>1</td>\n",
       "      <td>Tolsimir, Friend to Wolves</td>\n",
       "      <td>rare</td>\n",
       "    </tr>\n",
       "    <tr>\n",
       "      <th>12054</th>\n",
       "      <td>Fulgence</td>\n",
       "      <td>https://www.mtgtop8.com/event?e=23856&amp;d=365902...</td>\n",
       "      <td>Niv-Mizzet_Reborn</td>\n",
       "      <td>1</td>\n",
       "      <td>Tyrant's Scorn</td>\n",
       "      <td>uncommon</td>\n",
       "    </tr>\n",
       "    <tr>\n",
       "      <th>12372</th>\n",
       "      <td>Fulgence</td>\n",
       "      <td>https://www.mtgtop8.com/event?e=23856&amp;d=365902...</td>\n",
       "      <td>Niv-Mizzet_Reborn</td>\n",
       "      <td>1</td>\n",
       "      <td>Guild Globe,</td>\n",
       "      <td>NaN</td>\n",
       "    </tr>\n",
       "  </tbody>\n",
       "</table>\n",
       "<p>7586 rows × 6 columns</p>\n",
       "</div>"
      ],
      "text/plain": [
       "                 player                                                url  \\\n",
       "0      Jessica_Estephan  https://www.mtgtop8.com/event?e=23942&d=366798...   \n",
       "1        Andrew_Boncher  https://www.mtgtop8.com/event?e=23810&d=365477...   \n",
       "2         Brandon_Banks  https://www.mtgtop8.com/event?e=23997&d=367303...   \n",
       "3              Andrew_C  https://www.mtgtop8.com/event?e=23716&d=364618...   \n",
       "4              Mx-hejji  https://www.mtgtop8.com/event?e=23796&d=365372...   \n",
       "...                 ...                                                ...   \n",
       "11100          Fulgence  https://www.mtgtop8.com/event?e=23856&d=365902...   \n",
       "11418          Fulgence  https://www.mtgtop8.com/event?e=23856&d=365902...   \n",
       "11736          Fulgence  https://www.mtgtop8.com/event?e=23856&d=365902...   \n",
       "12054          Fulgence  https://www.mtgtop8.com/event?e=23856&d=365902...   \n",
       "12372          Fulgence  https://www.mtgtop8.com/event?e=23856&d=365902...   \n",
       "\n",
       "               deck_name  num                   card_name card_rarity  \n",
       "0            Izzet_Flash    2                       Shock      common  \n",
       "1          Red_Deck_Wins    4                       Shock      common  \n",
       "2          Izzet_Control   10                      Island      common  \n",
       "3       Sultai_Sacrifice    6                      Forest      common  \n",
       "4            Reclamation    1                      Forest      common  \n",
       "...                  ...  ...                         ...         ...  \n",
       "11100  Niv-Mizzet_Reborn    1  Tamiyo, Collector of Tales        rare  \n",
       "11418  Niv-Mizzet_Reborn    3        Teferi, Time Raveler        rare  \n",
       "11736  Niv-Mizzet_Reborn    1  Tolsimir, Friend to Wolves        rare  \n",
       "12054  Niv-Mizzet_Reborn    1              Tyrant's Scorn    uncommon  \n",
       "12372  Niv-Mizzet_Reborn    1               Guild Globe,          NaN  \n",
       "\n",
       "[7586 rows x 6 columns]"
      ]
     },
     "execution_count": 36,
     "metadata": {},
     "output_type": "execute_result"
    }
   ],
   "source": [
    "decks_clean"
   ]
  },
  {
   "cell_type": "code",
   "execution_count": 37,
   "metadata": {},
   "outputs": [
    {
     "name": "stdout",
     "output_type": "stream",
     "text": [
      "<class 'pandas.core.frame.DataFrame'>\n",
      "Int64Index: 7586 entries, 0 to 12372\n",
      "Data columns (total 6 columns):\n",
      "player         7586 non-null object\n",
      "url            7562 non-null object\n",
      "deck_name      7562 non-null object\n",
      "num            7586 non-null int64\n",
      "card_name      7586 non-null object\n",
      "card_rarity    7206 non-null object\n",
      "dtypes: int64(1), object(5)\n",
      "memory usage: 414.9+ KB\n"
     ]
    }
   ],
   "source": [
    "decks_clean.info()"
   ]
  },
  {
   "cell_type": "code",
   "execution_count": 38,
   "metadata": {},
   "outputs": [
    {
     "data": {
      "text/plain": [
       "str"
      ]
     },
     "execution_count": 38,
     "metadata": {},
     "output_type": "execute_result"
    }
   ],
   "source": [
    "type(decks_clean.card_rarity[0])"
   ]
  },
  {
   "cell_type": "code",
   "execution_count": 39,
   "metadata": {},
   "outputs": [
    {
     "data": {
      "text/html": [
       "<div>\n",
       "<style scoped>\n",
       "    .dataframe tbody tr th:only-of-type {\n",
       "        vertical-align: middle;\n",
       "    }\n",
       "\n",
       "    .dataframe tbody tr th {\n",
       "        vertical-align: top;\n",
       "    }\n",
       "\n",
       "    .dataframe thead th {\n",
       "        text-align: right;\n",
       "    }\n",
       "</style>\n",
       "<table border=\"1\" class=\"dataframe\">\n",
       "  <thead>\n",
       "    <tr style=\"text-align: right;\">\n",
       "      <th></th>\n",
       "      <th>player</th>\n",
       "      <th>url</th>\n",
       "      <th>deck_name</th>\n",
       "      <th>num</th>\n",
       "      <th>card_name</th>\n",
       "      <th>card_rarity</th>\n",
       "    </tr>\n",
       "  </thead>\n",
       "  <tbody>\n",
       "    <tr>\n",
       "      <th>4763</th>\n",
       "      <td>Kawamura_Yuusaku</td>\n",
       "      <td>https://www.mtgtop8.com/event?e=24122&amp;d=368350...</td>\n",
       "      <td>UW_Control</td>\n",
       "      <td>2</td>\n",
       "      <td>Aether Gust</td>\n",
       "      <td>uncommon</td>\n",
       "    </tr>\n",
       "    <tr>\n",
       "      <th>2001</th>\n",
       "      <td>Trent_Clarke</td>\n",
       "      <td>https://www.mtgtop8.com/event?e=23704&amp;d=364528...</td>\n",
       "      <td>Sultai_Food</td>\n",
       "      <td>4</td>\n",
       "      <td>Wicked Wolf</td>\n",
       "      <td>rare</td>\n",
       "    </tr>\n",
       "    <tr>\n",
       "      <th>2607</th>\n",
       "      <td>Lukas261997</td>\n",
       "      <td>https://www.mtgtop8.com/event?e=24137&amp;d=368460...</td>\n",
       "      <td>Fires_of_Invention</td>\n",
       "      <td>3</td>\n",
       "      <td>Castle Vantress</td>\n",
       "      <td>rare</td>\n",
       "    </tr>\n",
       "    <tr>\n",
       "      <th>343</th>\n",
       "      <td>Jibri_Thomas</td>\n",
       "      <td>https://www.mtgtop8.com/event?e=24177&amp;d=368762...</td>\n",
       "      <td>Rakdos_Aggro</td>\n",
       "      <td>9</td>\n",
       "      <td>Swamp</td>\n",
       "      <td>common</td>\n",
       "    </tr>\n",
       "    <tr>\n",
       "      <th>5935</th>\n",
       "      <td>truthordare</td>\n",
       "      <td>https://www.mtgtop8.com/event?e=23812&amp;d=365508...</td>\n",
       "      <td>UW_Control</td>\n",
       "      <td>2</td>\n",
       "      <td>Finale of Glory</td>\n",
       "      <td>mythic</td>\n",
       "    </tr>\n",
       "    <tr>\n",
       "      <th>7756</th>\n",
       "      <td>Rémi_D'emmerez</td>\n",
       "      <td>https://www.mtgtop8.com/event?e=23754&amp;d=364990...</td>\n",
       "      <td>Sultai_Oko-less</td>\n",
       "      <td>4</td>\n",
       "      <td>Duress</td>\n",
       "      <td>common</td>\n",
       "    </tr>\n",
       "    <tr>\n",
       "      <th>4896</th>\n",
       "      <td>dominizzi</td>\n",
       "      <td>NaN</td>\n",
       "      <td>NaN</td>\n",
       "      <td>4</td>\n",
       "      <td>Opt</td>\n",
       "      <td>common</td>\n",
       "    </tr>\n",
       "    <tr>\n",
       "      <th>5461</th>\n",
       "      <td>Tirentu</td>\n",
       "      <td>https://www.mtgtop8.com/event?e=23812&amp;d=365506...</td>\n",
       "      <td>Gruul_Aggro</td>\n",
       "      <td>4</td>\n",
       "      <td>Zhur-Taa Goblin</td>\n",
       "      <td>uncommon</td>\n",
       "    </tr>\n",
       "    <tr>\n",
       "      <th>6037</th>\n",
       "      <td>Matthew_Watts</td>\n",
       "      <td>https://www.mtgtop8.com/event?e=24037&amp;d=367686...</td>\n",
       "      <td>Jeskai_Fires</td>\n",
       "      <td>4</td>\n",
       "      <td>Cavalier of Flame</td>\n",
       "      <td>mythic</td>\n",
       "    </tr>\n",
       "    <tr>\n",
       "      <th>4808</th>\n",
       "      <td>Itou_Takurou</td>\n",
       "      <td>https://www.mtgtop8.com/event?e=23968&amp;d=367031...</td>\n",
       "      <td>Sultai_Control</td>\n",
       "      <td>1</td>\n",
       "      <td>Agent of Treachery</td>\n",
       "      <td>rare</td>\n",
       "    </tr>\n",
       "  </tbody>\n",
       "</table>\n",
       "</div>"
      ],
      "text/plain": [
       "                player                                                url  \\\n",
       "4763  Kawamura_Yuusaku  https://www.mtgtop8.com/event?e=24122&d=368350...   \n",
       "2001      Trent_Clarke  https://www.mtgtop8.com/event?e=23704&d=364528...   \n",
       "2607       Lukas261997  https://www.mtgtop8.com/event?e=24137&d=368460...   \n",
       "343       Jibri_Thomas  https://www.mtgtop8.com/event?e=24177&d=368762...   \n",
       "5935       truthordare  https://www.mtgtop8.com/event?e=23812&d=365508...   \n",
       "7756    Rémi_D'emmerez  https://www.mtgtop8.com/event?e=23754&d=364990...   \n",
       "4896         dominizzi                                                NaN   \n",
       "5461           Tirentu  https://www.mtgtop8.com/event?e=23812&d=365506...   \n",
       "6037     Matthew_Watts  https://www.mtgtop8.com/event?e=24037&d=367686...   \n",
       "4808      Itou_Takurou  https://www.mtgtop8.com/event?e=23968&d=367031...   \n",
       "\n",
       "               deck_name  num           card_name card_rarity  \n",
       "4763          UW_Control    2         Aether Gust    uncommon  \n",
       "2001         Sultai_Food    4         Wicked Wolf        rare  \n",
       "2607  Fires_of_Invention    3     Castle Vantress        rare  \n",
       "343         Rakdos_Aggro    9               Swamp      common  \n",
       "5935          UW_Control    2     Finale of Glory      mythic  \n",
       "7756     Sultai_Oko-less    4              Duress      common  \n",
       "4896                 NaN    4                 Opt      common  \n",
       "5461         Gruul_Aggro    4     Zhur-Taa Goblin    uncommon  \n",
       "6037        Jeskai_Fires    4   Cavalier of Flame      mythic  \n",
       "4808      Sultai_Control    1  Agent of Treachery        rare  "
      ]
     },
     "execution_count": 39,
     "metadata": {},
     "output_type": "execute_result"
    }
   ],
   "source": [
    "decks_clean.sample(10)"
   ]
  },
  {
   "cell_type": "code",
   "execution_count": 40,
   "metadata": {},
   "outputs": [
    {
     "data": {
      "text/plain": [
       "419"
      ]
     },
     "execution_count": 40,
     "metadata": {},
     "output_type": "execute_result"
    }
   ],
   "source": [
    "decks_clean.card_name.nunique()"
   ]
  },
  {
   "cell_type": "code",
   "execution_count": 41,
   "metadata": {},
   "outputs": [
    {
     "data": {
      "text/plain": [
       "(1420, 2)"
      ]
     },
     "execution_count": 41,
     "metadata": {},
     "output_type": "execute_result"
    }
   ],
   "source": [
    "mtg_card_rarities_clean.shape"
   ]
  },
  {
   "cell_type": "code",
   "execution_count": 42,
   "metadata": {},
   "outputs": [],
   "source": [
    "dc_rarity_null = decks_clean[decks_clean.card_rarity == '0']"
   ]
  },
  {
   "cell_type": "code",
   "execution_count": 43,
   "metadata": {},
   "outputs": [
    {
     "data": {
      "text/plain": [
       "Series([], Name: card_name, dtype: int64)"
      ]
     },
     "execution_count": 43,
     "metadata": {},
     "output_type": "execute_result"
    }
   ],
   "source": [
    "dc_rarity_null.card_name.value_counts()"
   ]
  },
  {
   "cell_type": "code",
   "execution_count": 44,
   "metadata": {},
   "outputs": [
    {
     "data": {
      "text/plain": [
       "(0, 6)"
      ]
     },
     "execution_count": 44,
     "metadata": {},
     "output_type": "execute_result"
    }
   ],
   "source": [
    "dc_rarity_null.shape"
   ]
  },
  {
   "cell_type": "code",
   "execution_count": 45,
   "metadata": {},
   "outputs": [],
   "source": [
    "decks_clean.to_csv('~/Documents/MTGA_rarity_analysis/data/decks_clean.csv', index=False)"
   ]
  },
  {
   "cell_type": "markdown",
   "metadata": {},
   "source": [
    "## Define\n",
    "- get rid of nan in `rarity`"
   ]
  },
  {
   "cell_type": "markdown",
   "metadata": {},
   "source": [
    "## Code "
   ]
  },
  {
   "cell_type": "code",
   "execution_count": 46,
   "metadata": {},
   "outputs": [],
   "source": [
    "decks_clean.card_name = decks_clean.card_name.str.replace(', $', '')"
   ]
  },
  {
   "cell_type": "code",
   "execution_count": 47,
   "metadata": {},
   "outputs": [],
   "source": [
    "decks_clean = decks_clean.join(mtg_card_rarities_clean.set_index('card_name'), on='card_name', lsuffix='x').drop(columns='card_rarityx')"
   ]
  },
  {
   "cell_type": "code",
   "execution_count": 48,
   "metadata": {},
   "outputs": [],
   "source": [
    "decks_clean.card_name = decks_clean.card_name.replace('Emry, Lurker of the Loch ', 'Emry, Lurker of the Loch')"
   ]
  },
  {
   "cell_type": "code",
   "execution_count": 49,
   "metadata": {},
   "outputs": [],
   "source": [
    "conditions = [decks_clean.card_name.eq('Expansion-Explosion'), \n",
    "              decks_clean.card_name.eq('Collision-Colossus'), \n",
    "              decks_clean.card_name.eq('Flower-Flourish'), \n",
    "              decks_clean.card_name.eq('Find-Finality'), \n",
    "              decks_clean.card_name.eq('Incubation-Incongruity'), \n",
    "              decks_clean.card_name.eq('Status-Statue'), \n",
    "              decks_clean.card_name.eq('Discovery-Dispersal'), \n",
    "              decks_clean.card_name.eq('Thrash-Threat'), \n",
    "              decks_clean.card_name.eq('Emry, Lurker of the Loch')]\n",
    "\n",
    "choices = ['rare', 'uncommon', 'uncommon', 'rare', 'uncommon', 'uncommon', 'uncommon', 'rare', 'rare']\n",
    "\n",
    "decks_clean['rarity2'] = np.select(conditions, choices)\n",
    "\n",
    "decks_clean.card_rarity.fillna(decks_clean.rarity2, inplace=True)"
   ]
  },
  {
   "cell_type": "code",
   "execution_count": 50,
   "metadata": {},
   "outputs": [],
   "source": [
    "decks_clean.drop(columns=['rarity2'], inplace=True)"
   ]
  },
  {
   "cell_type": "code",
   "execution_count": 51,
   "metadata": {},
   "outputs": [],
   "source": [
    "decks_clean = decks_clean[decks_clean.card_rarity != '0']"
   ]
  },
  {
   "cell_type": "code",
   "execution_count": 52,
   "metadata": {},
   "outputs": [],
   "source": [
    "decks_clean.card_rarity = decks_clean.card_rarity.astype('str')"
   ]
  },
  {
   "cell_type": "markdown",
   "metadata": {},
   "source": [
    "## Test"
   ]
  },
  {
   "cell_type": "code",
   "execution_count": 53,
   "metadata": {},
   "outputs": [
    {
     "data": {
      "text/html": [
       "<div>\n",
       "<style scoped>\n",
       "    .dataframe tbody tr th:only-of-type {\n",
       "        vertical-align: middle;\n",
       "    }\n",
       "\n",
       "    .dataframe tbody tr th {\n",
       "        vertical-align: top;\n",
       "    }\n",
       "\n",
       "    .dataframe thead th {\n",
       "        text-align: right;\n",
       "    }\n",
       "</style>\n",
       "<table border=\"1\" class=\"dataframe\">\n",
       "  <thead>\n",
       "    <tr style=\"text-align: right;\">\n",
       "      <th></th>\n",
       "      <th>player</th>\n",
       "      <th>url</th>\n",
       "      <th>deck_name</th>\n",
       "      <th>num</th>\n",
       "      <th>card_name</th>\n",
       "      <th>card_rarity</th>\n",
       "    </tr>\n",
       "  </thead>\n",
       "  <tbody>\n",
       "    <tr>\n",
       "      <th>0</th>\n",
       "      <td>Jessica_Estephan</td>\n",
       "      <td>https://www.mtgtop8.com/event?e=23942&amp;d=366798...</td>\n",
       "      <td>Izzet_Flash</td>\n",
       "      <td>2</td>\n",
       "      <td>Shock</td>\n",
       "      <td>common</td>\n",
       "    </tr>\n",
       "    <tr>\n",
       "      <th>1</th>\n",
       "      <td>Andrew_Boncher</td>\n",
       "      <td>https://www.mtgtop8.com/event?e=23810&amp;d=365477...</td>\n",
       "      <td>Red_Deck_Wins</td>\n",
       "      <td>4</td>\n",
       "      <td>Shock</td>\n",
       "      <td>common</td>\n",
       "    </tr>\n",
       "    <tr>\n",
       "      <th>2</th>\n",
       "      <td>Brandon_Banks</td>\n",
       "      <td>https://www.mtgtop8.com/event?e=23997&amp;d=367303...</td>\n",
       "      <td>Izzet_Control</td>\n",
       "      <td>10</td>\n",
       "      <td>Island</td>\n",
       "      <td>common</td>\n",
       "    </tr>\n",
       "    <tr>\n",
       "      <th>3</th>\n",
       "      <td>Andrew_C</td>\n",
       "      <td>https://www.mtgtop8.com/event?e=23716&amp;d=364618...</td>\n",
       "      <td>Sultai_Sacrifice</td>\n",
       "      <td>6</td>\n",
       "      <td>Forest</td>\n",
       "      <td>common</td>\n",
       "    </tr>\n",
       "    <tr>\n",
       "      <th>4</th>\n",
       "      <td>Mx-hejji</td>\n",
       "      <td>https://www.mtgtop8.com/event?e=23796&amp;d=365372...</td>\n",
       "      <td>Reclamation</td>\n",
       "      <td>1</td>\n",
       "      <td>Forest</td>\n",
       "      <td>common</td>\n",
       "    </tr>\n",
       "    <tr>\n",
       "      <th>...</th>\n",
       "      <td>...</td>\n",
       "      <td>...</td>\n",
       "      <td>...</td>\n",
       "      <td>...</td>\n",
       "      <td>...</td>\n",
       "      <td>...</td>\n",
       "    </tr>\n",
       "    <tr>\n",
       "      <th>11100</th>\n",
       "      <td>Fulgence</td>\n",
       "      <td>https://www.mtgtop8.com/event?e=23856&amp;d=365902...</td>\n",
       "      <td>Niv-Mizzet_Reborn</td>\n",
       "      <td>1</td>\n",
       "      <td>Tamiyo, Collector of Tales</td>\n",
       "      <td>rare</td>\n",
       "    </tr>\n",
       "    <tr>\n",
       "      <th>11418</th>\n",
       "      <td>Fulgence</td>\n",
       "      <td>https://www.mtgtop8.com/event?e=23856&amp;d=365902...</td>\n",
       "      <td>Niv-Mizzet_Reborn</td>\n",
       "      <td>3</td>\n",
       "      <td>Teferi, Time Raveler</td>\n",
       "      <td>rare</td>\n",
       "    </tr>\n",
       "    <tr>\n",
       "      <th>11736</th>\n",
       "      <td>Fulgence</td>\n",
       "      <td>https://www.mtgtop8.com/event?e=23856&amp;d=365902...</td>\n",
       "      <td>Niv-Mizzet_Reborn</td>\n",
       "      <td>1</td>\n",
       "      <td>Tolsimir, Friend to Wolves</td>\n",
       "      <td>rare</td>\n",
       "    </tr>\n",
       "    <tr>\n",
       "      <th>12054</th>\n",
       "      <td>Fulgence</td>\n",
       "      <td>https://www.mtgtop8.com/event?e=23856&amp;d=365902...</td>\n",
       "      <td>Niv-Mizzet_Reborn</td>\n",
       "      <td>1</td>\n",
       "      <td>Tyrant's Scorn</td>\n",
       "      <td>uncommon</td>\n",
       "    </tr>\n",
       "    <tr>\n",
       "      <th>12372</th>\n",
       "      <td>Fulgence</td>\n",
       "      <td>https://www.mtgtop8.com/event?e=23856&amp;d=365902...</td>\n",
       "      <td>Niv-Mizzet_Reborn</td>\n",
       "      <td>1</td>\n",
       "      <td>Guild Globe</td>\n",
       "      <td>common</td>\n",
       "    </tr>\n",
       "  </tbody>\n",
       "</table>\n",
       "<p>7582 rows × 6 columns</p>\n",
       "</div>"
      ],
      "text/plain": [
       "                 player                                                url  \\\n",
       "0      Jessica_Estephan  https://www.mtgtop8.com/event?e=23942&d=366798...   \n",
       "1        Andrew_Boncher  https://www.mtgtop8.com/event?e=23810&d=365477...   \n",
       "2         Brandon_Banks  https://www.mtgtop8.com/event?e=23997&d=367303...   \n",
       "3              Andrew_C  https://www.mtgtop8.com/event?e=23716&d=364618...   \n",
       "4              Mx-hejji  https://www.mtgtop8.com/event?e=23796&d=365372...   \n",
       "...                 ...                                                ...   \n",
       "11100          Fulgence  https://www.mtgtop8.com/event?e=23856&d=365902...   \n",
       "11418          Fulgence  https://www.mtgtop8.com/event?e=23856&d=365902...   \n",
       "11736          Fulgence  https://www.mtgtop8.com/event?e=23856&d=365902...   \n",
       "12054          Fulgence  https://www.mtgtop8.com/event?e=23856&d=365902...   \n",
       "12372          Fulgence  https://www.mtgtop8.com/event?e=23856&d=365902...   \n",
       "\n",
       "               deck_name  num                   card_name card_rarity  \n",
       "0            Izzet_Flash    2                       Shock      common  \n",
       "1          Red_Deck_Wins    4                       Shock      common  \n",
       "2          Izzet_Control   10                      Island      common  \n",
       "3       Sultai_Sacrifice    6                      Forest      common  \n",
       "4            Reclamation    1                      Forest      common  \n",
       "...                  ...  ...                         ...         ...  \n",
       "11100  Niv-Mizzet_Reborn    1  Tamiyo, Collector of Tales        rare  \n",
       "11418  Niv-Mizzet_Reborn    3        Teferi, Time Raveler        rare  \n",
       "11736  Niv-Mizzet_Reborn    1  Tolsimir, Friend to Wolves        rare  \n",
       "12054  Niv-Mizzet_Reborn    1              Tyrant's Scorn    uncommon  \n",
       "12372  Niv-Mizzet_Reborn    1                 Guild Globe      common  \n",
       "\n",
       "[7582 rows x 6 columns]"
      ]
     },
     "execution_count": 53,
     "metadata": {},
     "output_type": "execute_result"
    }
   ],
   "source": [
    "decks_clean"
   ]
  },
  {
   "cell_type": "code",
   "execution_count": 54,
   "metadata": {},
   "outputs": [],
   "source": [
    "dc_rarity_null = decks_clean[decks_clean.card_rarity == 'nan']"
   ]
  },
  {
   "cell_type": "code",
   "execution_count": 55,
   "metadata": {},
   "outputs": [
    {
     "data": {
      "text/plain": [
       "Series([], Name: card_rarity, dtype: int64)"
      ]
     },
     "execution_count": 55,
     "metadata": {},
     "output_type": "execute_result"
    }
   ],
   "source": [
    "dc_rarity_null.card_rarity.value_counts()"
   ]
  },
  {
   "cell_type": "code",
   "execution_count": 56,
   "metadata": {},
   "outputs": [
    {
     "data": {
      "text/plain": [
       "rare        3393\n",
       "uncommon    1876\n",
       "common      1531\n",
       "mythic       782\n",
       "Name: card_rarity, dtype: int64"
      ]
     },
     "execution_count": 56,
     "metadata": {},
     "output_type": "execute_result"
    }
   ],
   "source": [
    "decks_clean.card_rarity.value_counts()"
   ]
  },
  {
   "cell_type": "code",
   "execution_count": 57,
   "metadata": {},
   "outputs": [
    {
     "name": "stdout",
     "output_type": "stream",
     "text": [
      "<class 'pandas.core.frame.DataFrame'>\n",
      "Int64Index: 7582 entries, 0 to 12372\n",
      "Data columns (total 6 columns):\n",
      "player         7582 non-null object\n",
      "url            7558 non-null object\n",
      "deck_name      7558 non-null object\n",
      "num            7582 non-null int64\n",
      "card_name      7582 non-null object\n",
      "card_rarity    7582 non-null object\n",
      "dtypes: int64(1), object(5)\n",
      "memory usage: 414.6+ KB\n"
     ]
    }
   ],
   "source": [
    "decks_clean.info()"
   ]
  },
  {
   "cell_type": "code",
   "execution_count": 58,
   "metadata": {},
   "outputs": [],
   "source": [
    "decks_clean.to_csv('~/Documents/MTGA_rarity_analysis/data/decks_clean.csv', index=False)"
   ]
  },
  {
   "cell_type": "markdown",
   "metadata": {},
   "source": [
    "## Define\n",
    "- merge deck rarity info in decks_clean with decks_archive"
   ]
  },
  {
   "cell_type": "markdown",
   "metadata": {},
   "source": [
    "## Code"
   ]
  },
  {
   "cell_type": "code",
   "execution_count": 46,
   "metadata": {},
   "outputs": [],
   "source": [
    "decks_archive.drop_duplicates(subset=['player', 'name'], inplace=True)"
   ]
  },
  {
   "cell_type": "code",
   "execution_count": 47,
   "metadata": {},
   "outputs": [],
   "source": [
    "decks_archive.rename(columns={'name': 'deck_name'}, inplace=True)"
   ]
  },
  {
   "cell_type": "code",
   "execution_count": 48,
   "metadata": {},
   "outputs": [],
   "source": [
    "df_rarities = decks_clean.groupby(['player', 'deck_name', 'card_rarity']).sum()['num'].unstack()"
   ]
  },
  {
   "cell_type": "code",
   "execution_count": 49,
   "metadata": {},
   "outputs": [],
   "source": [
    "decks_archive = decks_archive.set_index(['player','deck_name']).join(df_rarities)"
   ]
  },
  {
   "cell_type": "code",
   "execution_count": 51,
   "metadata": {},
   "outputs": [],
   "source": [
    "decks_archive.reset_index(level=decks_archive.index.names, inplace=True)"
   ]
  },
  {
   "cell_type": "code",
   "execution_count": 63,
   "metadata": {},
   "outputs": [],
   "source": [
    "decks_archive.fillna(0, inplace=True)"
   ]
  },
  {
   "cell_type": "code",
   "execution_count": 64,
   "metadata": {},
   "outputs": [],
   "source": [
    "decks_archive.loc[:, 'common':'uncommon'] = decks_archive.loc[:, 'common':'uncommon'].astype('int64')"
   ]
  },
  {
   "cell_type": "markdown",
   "metadata": {},
   "source": [
    "## Test"
   ]
  },
  {
   "cell_type": "code",
   "execution_count": 65,
   "metadata": {},
   "outputs": [
    {
     "data": {
      "text/html": [
       "<div>\n",
       "<style scoped>\n",
       "    .dataframe tbody tr th:only-of-type {\n",
       "        vertical-align: middle;\n",
       "    }\n",
       "\n",
       "    .dataframe tbody tr th {\n",
       "        vertical-align: top;\n",
       "    }\n",
       "\n",
       "    .dataframe thead th {\n",
       "        text-align: right;\n",
       "    }\n",
       "</style>\n",
       "<table border=\"1\" class=\"dataframe\">\n",
       "  <thead>\n",
       "    <tr style=\"text-align: right;\">\n",
       "      <th></th>\n",
       "      <th>player</th>\n",
       "      <th>deck_name</th>\n",
       "      <th>deck_list</th>\n",
       "      <th>url</th>\n",
       "      <th>common</th>\n",
       "      <th>mythic</th>\n",
       "      <th>rare</th>\n",
       "      <th>uncommon</th>\n",
       "    </tr>\n",
       "  </thead>\n",
       "  <tbody>\n",
       "    <tr>\n",
       "      <th>0</th>\n",
       "      <td>Jessica_Estephan</td>\n",
       "      <td>Izzet_Flash</td>\n",
       "      <td>2 Shock, 10 Island, 4 Mountain, 4 Brazen Borro...</td>\n",
       "      <td>https://www.mtgtop8.com/event?e=23942&amp;d=366798...</td>\n",
       "      <td>28</td>\n",
       "      <td>6</td>\n",
       "      <td>25</td>\n",
       "      <td>16</td>\n",
       "    </tr>\n",
       "    <tr>\n",
       "      <th>1</th>\n",
       "      <td>Andrew_Boncher</td>\n",
       "      <td>Red_Deck_Wins</td>\n",
       "      <td>4 Shock, 18 Mountain, 4 Bonecrusher Giant, 3 E...</td>\n",
       "      <td>https://www.mtgtop8.com/event?e=23810&amp;d=365477...</td>\n",
       "      <td>34</td>\n",
       "      <td>3</td>\n",
       "      <td>25</td>\n",
       "      <td>13</td>\n",
       "    </tr>\n",
       "    <tr>\n",
       "      <th>2</th>\n",
       "      <td>Brandon_Banks</td>\n",
       "      <td>Izzet_Control</td>\n",
       "      <td>10 Island, 4 Mountain, 4 Brazen Borrower, 4 Ga...</td>\n",
       "      <td>https://www.mtgtop8.com/event?e=23997&amp;d=367303...</td>\n",
       "      <td>25</td>\n",
       "      <td>7</td>\n",
       "      <td>25</td>\n",
       "      <td>18</td>\n",
       "    </tr>\n",
       "    <tr>\n",
       "      <th>3</th>\n",
       "      <td>Andrew_C</td>\n",
       "      <td>Sultai_Sacrifice</td>\n",
       "      <td>6 Forest, 3 Swamp, 4 Breeding Pool, 4 Cauldron...</td>\n",
       "      <td>https://www.mtgtop8.com/event?e=23716&amp;d=364618...</td>\n",
       "      <td>13</td>\n",
       "      <td>7</td>\n",
       "      <td>35</td>\n",
       "      <td>20</td>\n",
       "    </tr>\n",
       "    <tr>\n",
       "      <th>4</th>\n",
       "      <td>Mx-hejji</td>\n",
       "      <td>Reclamation</td>\n",
       "      <td>1 Forest, 2 Island, 2 Mountain, 4 Breeding Poo...</td>\n",
       "      <td>https://www.mtgtop8.com/event?e=23796&amp;d=365372...</td>\n",
       "      <td>18</td>\n",
       "      <td>2</td>\n",
       "      <td>38</td>\n",
       "      <td>17</td>\n",
       "    </tr>\n",
       "    <tr>\n",
       "      <th>...</th>\n",
       "      <td>...</td>\n",
       "      <td>...</td>\n",
       "      <td>...</td>\n",
       "      <td>...</td>\n",
       "      <td>...</td>\n",
       "      <td>...</td>\n",
       "      <td>...</td>\n",
       "      <td>...</td>\n",
       "    </tr>\n",
       "    <tr>\n",
       "      <th>313</th>\n",
       "      <td>Matthew_Watts</td>\n",
       "      <td>Jeskai_Fires</td>\n",
       "      <td>1 Disenchant, 2 Island, 2 Mountain, 1 Plains, ...</td>\n",
       "      <td>https://www.mtgtop8.com/event?e=24037&amp;d=367686...</td>\n",
       "      <td>9</td>\n",
       "      <td>10</td>\n",
       "      <td>46</td>\n",
       "      <td>10</td>\n",
       "    </tr>\n",
       "    <tr>\n",
       "      <th>314</th>\n",
       "      <td>Sandydogmtg</td>\n",
       "      <td>Red_Deck_Wins</td>\n",
       "      <td>4 Shock, 17 Mountain, 4 Claim the Firstborn, 4...</td>\n",
       "      <td>https://www.mtgtop8.com/event?e=24137&amp;d=368458...</td>\n",
       "      <td>33</td>\n",
       "      <td>7</td>\n",
       "      <td>17</td>\n",
       "      <td>18</td>\n",
       "    </tr>\n",
       "    <tr>\n",
       "      <th>315</th>\n",
       "      <td>Billy_K</td>\n",
       "      <td>Cavalcade</td>\n",
       "      <td>4 Chandra's Spitfire, 4 Shock, 18 Mountain, 3 ...</td>\n",
       "      <td>https://www.mtgtop8.com/event?e=23716&amp;d=364614...</td>\n",
       "      <td>31</td>\n",
       "      <td>0</td>\n",
       "      <td>22</td>\n",
       "      <td>22</td>\n",
       "    </tr>\n",
       "    <tr>\n",
       "      <th>316</th>\n",
       "      <td>Esther_Trujillo</td>\n",
       "      <td>Gruul_Aggro</td>\n",
       "      <td>9 Forest, 8 Mountain, 4 Bonecrusher Giant, 3 E...</td>\n",
       "      <td>https://www.mtgtop8.com/event?e=23942&amp;d=366790...</td>\n",
       "      <td>22</td>\n",
       "      <td>8</td>\n",
       "      <td>27</td>\n",
       "      <td>18</td>\n",
       "    </tr>\n",
       "    <tr>\n",
       "      <th>317</th>\n",
       "      <td>Benjamin_Czarny</td>\n",
       "      <td>Ug_Flash</td>\n",
       "      <td>7 Forest, 7 Island, 4 Breeding Pool, 2 Brazen ...</td>\n",
       "      <td>https://www.mtgtop8.com/event?e=24037&amp;d=367687...</td>\n",
       "      <td>24</td>\n",
       "      <td>5</td>\n",
       "      <td>26</td>\n",
       "      <td>20</td>\n",
       "    </tr>\n",
       "  </tbody>\n",
       "</table>\n",
       "<p>318 rows × 8 columns</p>\n",
       "</div>"
      ],
      "text/plain": [
       "               player         deck_name  \\\n",
       "0    Jessica_Estephan       Izzet_Flash   \n",
       "1      Andrew_Boncher     Red_Deck_Wins   \n",
       "2       Brandon_Banks     Izzet_Control   \n",
       "3            Andrew_C  Sultai_Sacrifice   \n",
       "4            Mx-hejji       Reclamation   \n",
       "..                ...               ...   \n",
       "313     Matthew_Watts      Jeskai_Fires   \n",
       "314       Sandydogmtg     Red_Deck_Wins   \n",
       "315           Billy_K         Cavalcade   \n",
       "316   Esther_Trujillo       Gruul_Aggro   \n",
       "317   Benjamin_Czarny          Ug_Flash   \n",
       "\n",
       "                                             deck_list  \\\n",
       "0    2 Shock, 10 Island, 4 Mountain, 4 Brazen Borro...   \n",
       "1    4 Shock, 18 Mountain, 4 Bonecrusher Giant, 3 E...   \n",
       "2    10 Island, 4 Mountain, 4 Brazen Borrower, 4 Ga...   \n",
       "3    6 Forest, 3 Swamp, 4 Breeding Pool, 4 Cauldron...   \n",
       "4    1 Forest, 2 Island, 2 Mountain, 4 Breeding Poo...   \n",
       "..                                                 ...   \n",
       "313  1 Disenchant, 2 Island, 2 Mountain, 1 Plains, ...   \n",
       "314  4 Shock, 17 Mountain, 4 Claim the Firstborn, 4...   \n",
       "315  4 Chandra's Spitfire, 4 Shock, 18 Mountain, 3 ...   \n",
       "316  9 Forest, 8 Mountain, 4 Bonecrusher Giant, 3 E...   \n",
       "317  7 Forest, 7 Island, 4 Breeding Pool, 2 Brazen ...   \n",
       "\n",
       "                                                   url  common  mythic  rare  \\\n",
       "0    https://www.mtgtop8.com/event?e=23942&d=366798...      28       6    25   \n",
       "1    https://www.mtgtop8.com/event?e=23810&d=365477...      34       3    25   \n",
       "2    https://www.mtgtop8.com/event?e=23997&d=367303...      25       7    25   \n",
       "3    https://www.mtgtop8.com/event?e=23716&d=364618...      13       7    35   \n",
       "4    https://www.mtgtop8.com/event?e=23796&d=365372...      18       2    38   \n",
       "..                                                 ...     ...     ...   ...   \n",
       "313  https://www.mtgtop8.com/event?e=24037&d=367686...       9      10    46   \n",
       "314  https://www.mtgtop8.com/event?e=24137&d=368458...      33       7    17   \n",
       "315  https://www.mtgtop8.com/event?e=23716&d=364614...      31       0    22   \n",
       "316  https://www.mtgtop8.com/event?e=23942&d=366790...      22       8    27   \n",
       "317  https://www.mtgtop8.com/event?e=24037&d=367687...      24       5    26   \n",
       "\n",
       "     uncommon  \n",
       "0          16  \n",
       "1          13  \n",
       "2          18  \n",
       "3          20  \n",
       "4          17  \n",
       "..        ...  \n",
       "313        10  \n",
       "314        18  \n",
       "315        22  \n",
       "316        18  \n",
       "317        20  \n",
       "\n",
       "[318 rows x 8 columns]"
      ]
     },
     "execution_count": 65,
     "metadata": {},
     "output_type": "execute_result"
    }
   ],
   "source": [
    "decks_archive"
   ]
  },
  {
   "cell_type": "code",
   "execution_count": 60,
   "metadata": {},
   "outputs": [],
   "source": [
    "df = decks_clean[decks_clean.duplicated()]"
   ]
  },
  {
   "cell_type": "code",
   "execution_count": 61,
   "metadata": {},
   "outputs": [
    {
     "data": {
      "text/html": [
       "<div>\n",
       "<style scoped>\n",
       "    .dataframe tbody tr th:only-of-type {\n",
       "        vertical-align: middle;\n",
       "    }\n",
       "\n",
       "    .dataframe tbody tr th {\n",
       "        vertical-align: top;\n",
       "    }\n",
       "\n",
       "    .dataframe thead th {\n",
       "        text-align: right;\n",
       "    }\n",
       "</style>\n",
       "<table border=\"1\" class=\"dataframe\">\n",
       "  <thead>\n",
       "    <tr style=\"text-align: right;\">\n",
       "      <th></th>\n",
       "      <th>player</th>\n",
       "      <th>url</th>\n",
       "      <th>deck_name</th>\n",
       "      <th>num</th>\n",
       "      <th>card_name</th>\n",
       "      <th>card_rarity</th>\n",
       "    </tr>\n",
       "  </thead>\n",
       "  <tbody>\n",
       "  </tbody>\n",
       "</table>\n",
       "</div>"
      ],
      "text/plain": [
       "Empty DataFrame\n",
       "Columns: [player, url, deck_name, num, card_name, card_rarity]\n",
       "Index: []"
      ]
     },
     "execution_count": 61,
     "metadata": {},
     "output_type": "execute_result"
    }
   ],
   "source": [
    "df.query('player in \"__forge__\" and deck_name in \"Mono_Black_Aggro\" and card_name in \"Massacre Girl\"')"
   ]
  },
  {
   "cell_type": "code",
   "execution_count": 62,
   "metadata": {},
   "outputs": [
    {
     "data": {
      "text/plain": [
       "Series([], Name: num, dtype: int64)"
      ]
     },
     "execution_count": 62,
     "metadata": {},
     "output_type": "execute_result"
    }
   ],
   "source": [
    "df.groupby(['player', 'deck_name', 'card_name']).num.sum()"
   ]
  },
  {
   "cell_type": "code",
   "execution_count": 43,
   "metadata": {},
   "outputs": [
    {
     "data": {
      "text/html": [
       "<div>\n",
       "<style scoped>\n",
       "    .dataframe tbody tr th:only-of-type {\n",
       "        vertical-align: middle;\n",
       "    }\n",
       "\n",
       "    .dataframe tbody tr th {\n",
       "        vertical-align: top;\n",
       "    }\n",
       "\n",
       "    .dataframe thead th {\n",
       "        text-align: right;\n",
       "    }\n",
       "</style>\n",
       "<table border=\"1\" class=\"dataframe\">\n",
       "  <thead>\n",
       "    <tr style=\"text-align: right;\">\n",
       "      <th></th>\n",
       "      <th>card_rarity</th>\n",
       "      <th>common</th>\n",
       "      <th>mythic</th>\n",
       "      <th>rare</th>\n",
       "      <th>uncommon</th>\n",
       "    </tr>\n",
       "    <tr>\n",
       "      <th>player</th>\n",
       "      <th>deck_name</th>\n",
       "      <th></th>\n",
       "      <th></th>\n",
       "      <th></th>\n",
       "      <th></th>\n",
       "    </tr>\n",
       "  </thead>\n",
       "  <tbody>\n",
       "    <tr>\n",
       "      <th>ACG88</th>\n",
       "      <th>Sultai_Ramp</th>\n",
       "      <td>12.0</td>\n",
       "      <td>10.0</td>\n",
       "      <td>34.0</td>\n",
       "      <td>20.0</td>\n",
       "    </tr>\n",
       "    <tr>\n",
       "      <th>Aaron_James_Alicante</th>\n",
       "      <th>Rakdos_Aggro</th>\n",
       "      <td>15.0</td>\n",
       "      <td>8.0</td>\n",
       "      <td>37.0</td>\n",
       "      <td>15.0</td>\n",
       "    </tr>\n",
       "    <tr>\n",
       "      <th>Abram_Goldstein</th>\n",
       "      <th>Bant_Control</th>\n",
       "      <td>15.0</td>\n",
       "      <td>7.0</td>\n",
       "      <td>39.0</td>\n",
       "      <td>14.0</td>\n",
       "    </tr>\n",
       "    <tr>\n",
       "      <th>Ace_Ashley_Baron</th>\n",
       "      <th>Rakdos_Aggro</th>\n",
       "      <td>15.0</td>\n",
       "      <td>8.0</td>\n",
       "      <td>38.0</td>\n",
       "      <td>14.0</td>\n",
       "    </tr>\n",
       "    <tr>\n",
       "      <th>Al-malik_Ali</th>\n",
       "      <th>Esper_DOOM</th>\n",
       "      <td>6.0</td>\n",
       "      <td>9.0</td>\n",
       "      <td>44.0</td>\n",
       "      <td>16.0</td>\n",
       "    </tr>\n",
       "    <tr>\n",
       "      <th>...</th>\n",
       "      <th>...</th>\n",
       "      <td>...</td>\n",
       "      <td>...</td>\n",
       "      <td>...</td>\n",
       "      <td>...</td>\n",
       "    </tr>\n",
       "    <tr>\n",
       "      <th>utared</th>\n",
       "      <th>Izzet_Control</th>\n",
       "      <td>24.0</td>\n",
       "      <td>4.0</td>\n",
       "      <td>26.0</td>\n",
       "      <td>21.0</td>\n",
       "    </tr>\n",
       "    <tr>\n",
       "      <th>xhpc007</th>\n",
       "      <th>Sultai_Sacrifice</th>\n",
       "      <td>11.0</td>\n",
       "      <td>8.0</td>\n",
       "      <td>35.0</td>\n",
       "      <td>21.0</td>\n",
       "    </tr>\n",
       "    <tr>\n",
       "      <th>yamakiller</th>\n",
       "      <th>Rakdos_Aggro</th>\n",
       "      <td>15.0</td>\n",
       "      <td>8.0</td>\n",
       "      <td>37.0</td>\n",
       "      <td>15.0</td>\n",
       "    </tr>\n",
       "    <tr>\n",
       "      <th>yerffej03</th>\n",
       "      <th>Simic_Ramp</th>\n",
       "      <td>29.0</td>\n",
       "      <td>10.0</td>\n",
       "      <td>26.0</td>\n",
       "      <td>11.0</td>\n",
       "    </tr>\n",
       "    <tr>\n",
       "      <th>zer1997</th>\n",
       "      <th>UW_Control</th>\n",
       "      <td>16.0</td>\n",
       "      <td>7.0</td>\n",
       "      <td>30.0</td>\n",
       "      <td>22.0</td>\n",
       "    </tr>\n",
       "  </tbody>\n",
       "</table>\n",
       "<p>317 rows × 4 columns</p>\n",
       "</div>"
      ],
      "text/plain": [
       "card_rarity                            common  mythic  rare  uncommon\n",
       "player               deck_name                                       \n",
       "ACG88                Sultai_Ramp         12.0    10.0  34.0      20.0\n",
       "Aaron_James_Alicante Rakdos_Aggro        15.0     8.0  37.0      15.0\n",
       "Abram_Goldstein      Bant_Control        15.0     7.0  39.0      14.0\n",
       "Ace_Ashley_Baron     Rakdos_Aggro        15.0     8.0  38.0      14.0\n",
       "Al-malik_Ali         Esper_DOOM           6.0     9.0  44.0      16.0\n",
       "...                                       ...     ...   ...       ...\n",
       "utared               Izzet_Control       24.0     4.0  26.0      21.0\n",
       "xhpc007              Sultai_Sacrifice    11.0     8.0  35.0      21.0\n",
       "yamakiller           Rakdos_Aggro        15.0     8.0  37.0      15.0\n",
       "yerffej03            Simic_Ramp          29.0    10.0  26.0      11.0\n",
       "zer1997              UW_Control          16.0     7.0  30.0      22.0\n",
       "\n",
       "[317 rows x 4 columns]"
      ]
     },
     "execution_count": 43,
     "metadata": {},
     "output_type": "execute_result"
    }
   ],
   "source": [
    "df_rarities"
   ]
  },
  {
   "cell_type": "code",
   "execution_count": 66,
   "metadata": {},
   "outputs": [],
   "source": [
    "decks_archive.to_csv('/home/steadyjingo/Documents/MTGA_rarity_analysis/data/decks_archive.csv', index=False)"
   ]
  },
  {
   "cell_type": "code",
   "execution_count": null,
   "metadata": {},
   "outputs": [],
   "source": []
  }
 ],
 "metadata": {
  "kernelspec": {
   "display_name": "Python 3",
   "language": "python",
   "name": "python3"
  },
  "language_info": {
   "codemirror_mode": {
    "name": "ipython",
    "version": 3
   },
   "file_extension": ".py",
   "mimetype": "text/x-python",
   "name": "python",
   "nbconvert_exporter": "python",
   "pygments_lexer": "ipython3",
   "version": "3.7.6"
  }
 },
 "nbformat": 4,
 "nbformat_minor": 4
}
