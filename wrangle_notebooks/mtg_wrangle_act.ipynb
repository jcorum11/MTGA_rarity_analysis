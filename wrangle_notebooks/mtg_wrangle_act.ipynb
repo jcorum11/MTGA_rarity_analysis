{
 "cells": [
  {
   "cell_type": "code",
   "execution_count": 1,
   "metadata": {},
   "outputs": [],
   "source": [
    "import pandas as pd\n",
    "import numpy as np\n",
    "import itertools\n",
    "import pickle\n",
    "import os\n",
    "import re"
   ]
  },
  {
   "cell_type": "markdown",
   "metadata": {},
   "source": [
    "# Gather"
   ]
  },
  {
   "cell_type": "code",
   "execution_count": 2,
   "metadata": {
    "collapsed": true,
    "jupyter": {
     "outputs_hidden": true
    }
   },
   "outputs": [
    {
     "ename": "FileNotFoundError",
     "evalue": "[Errno 2] File b'C:/Users/muroc/Documents/MTG/data/decks.csv' does not exist: b'C:/Users/muroc/Documents/MTG/data/decks.csv'",
     "output_type": "error",
     "traceback": [
      "\u001b[0;31m---------------------------------------------------------------------------\u001b[0m",
      "\u001b[0;31mFileNotFoundError\u001b[0m                         Traceback (most recent call last)",
      "\u001b[0;32m<ipython-input-2-6a4aa109fb57>\u001b[0m in \u001b[0;36m<module>\u001b[0;34m\u001b[0m\n\u001b[0;32m----> 1\u001b[0;31m \u001b[0mdecks\u001b[0m \u001b[0;34m=\u001b[0m \u001b[0mpd\u001b[0m\u001b[0;34m.\u001b[0m\u001b[0mread_csv\u001b[0m\u001b[0;34m(\u001b[0m\u001b[0;34m'C:/Users/muroc/Documents/MTG/data/decks.csv'\u001b[0m\u001b[0;34m)\u001b[0m\u001b[0;34m\u001b[0m\u001b[0;34m\u001b[0m\u001b[0m\n\u001b[0m",
      "\u001b[0;32m~/anaconda3/lib/python3.7/site-packages/pandas/io/parsers.py\u001b[0m in \u001b[0;36mparser_f\u001b[0;34m(filepath_or_buffer, sep, delimiter, header, names, index_col, usecols, squeeze, prefix, mangle_dupe_cols, dtype, engine, converters, true_values, false_values, skipinitialspace, skiprows, skipfooter, nrows, na_values, keep_default_na, na_filter, verbose, skip_blank_lines, parse_dates, infer_datetime_format, keep_date_col, date_parser, dayfirst, cache_dates, iterator, chunksize, compression, thousands, decimal, lineterminator, quotechar, quoting, doublequote, escapechar, comment, encoding, dialect, error_bad_lines, warn_bad_lines, delim_whitespace, low_memory, memory_map, float_precision)\u001b[0m\n\u001b[1;32m    683\u001b[0m         )\n\u001b[1;32m    684\u001b[0m \u001b[0;34m\u001b[0m\u001b[0m\n\u001b[0;32m--> 685\u001b[0;31m         \u001b[0;32mreturn\u001b[0m \u001b[0m_read\u001b[0m\u001b[0;34m(\u001b[0m\u001b[0mfilepath_or_buffer\u001b[0m\u001b[0;34m,\u001b[0m \u001b[0mkwds\u001b[0m\u001b[0;34m)\u001b[0m\u001b[0;34m\u001b[0m\u001b[0;34m\u001b[0m\u001b[0m\n\u001b[0m\u001b[1;32m    686\u001b[0m \u001b[0;34m\u001b[0m\u001b[0m\n\u001b[1;32m    687\u001b[0m     \u001b[0mparser_f\u001b[0m\u001b[0;34m.\u001b[0m\u001b[0m__name__\u001b[0m \u001b[0;34m=\u001b[0m \u001b[0mname\u001b[0m\u001b[0;34m\u001b[0m\u001b[0;34m\u001b[0m\u001b[0m\n",
      "\u001b[0;32m~/anaconda3/lib/python3.7/site-packages/pandas/io/parsers.py\u001b[0m in \u001b[0;36m_read\u001b[0;34m(filepath_or_buffer, kwds)\u001b[0m\n\u001b[1;32m    455\u001b[0m \u001b[0;34m\u001b[0m\u001b[0m\n\u001b[1;32m    456\u001b[0m     \u001b[0;31m# Create the parser.\u001b[0m\u001b[0;34m\u001b[0m\u001b[0;34m\u001b[0m\u001b[0;34m\u001b[0m\u001b[0m\n\u001b[0;32m--> 457\u001b[0;31m     \u001b[0mparser\u001b[0m \u001b[0;34m=\u001b[0m \u001b[0mTextFileReader\u001b[0m\u001b[0;34m(\u001b[0m\u001b[0mfp_or_buf\u001b[0m\u001b[0;34m,\u001b[0m \u001b[0;34m**\u001b[0m\u001b[0mkwds\u001b[0m\u001b[0;34m)\u001b[0m\u001b[0;34m\u001b[0m\u001b[0;34m\u001b[0m\u001b[0m\n\u001b[0m\u001b[1;32m    458\u001b[0m \u001b[0;34m\u001b[0m\u001b[0m\n\u001b[1;32m    459\u001b[0m     \u001b[0;32mif\u001b[0m \u001b[0mchunksize\u001b[0m \u001b[0;32mor\u001b[0m \u001b[0miterator\u001b[0m\u001b[0;34m:\u001b[0m\u001b[0;34m\u001b[0m\u001b[0;34m\u001b[0m\u001b[0m\n",
      "\u001b[0;32m~/anaconda3/lib/python3.7/site-packages/pandas/io/parsers.py\u001b[0m in \u001b[0;36m__init__\u001b[0;34m(self, f, engine, **kwds)\u001b[0m\n\u001b[1;32m    893\u001b[0m             \u001b[0mself\u001b[0m\u001b[0;34m.\u001b[0m\u001b[0moptions\u001b[0m\u001b[0;34m[\u001b[0m\u001b[0;34m\"has_index_names\"\u001b[0m\u001b[0;34m]\u001b[0m \u001b[0;34m=\u001b[0m \u001b[0mkwds\u001b[0m\u001b[0;34m[\u001b[0m\u001b[0;34m\"has_index_names\"\u001b[0m\u001b[0;34m]\u001b[0m\u001b[0;34m\u001b[0m\u001b[0;34m\u001b[0m\u001b[0m\n\u001b[1;32m    894\u001b[0m \u001b[0;34m\u001b[0m\u001b[0m\n\u001b[0;32m--> 895\u001b[0;31m         \u001b[0mself\u001b[0m\u001b[0;34m.\u001b[0m\u001b[0m_make_engine\u001b[0m\u001b[0;34m(\u001b[0m\u001b[0mself\u001b[0m\u001b[0;34m.\u001b[0m\u001b[0mengine\u001b[0m\u001b[0;34m)\u001b[0m\u001b[0;34m\u001b[0m\u001b[0;34m\u001b[0m\u001b[0m\n\u001b[0m\u001b[1;32m    896\u001b[0m \u001b[0;34m\u001b[0m\u001b[0m\n\u001b[1;32m    897\u001b[0m     \u001b[0;32mdef\u001b[0m \u001b[0mclose\u001b[0m\u001b[0;34m(\u001b[0m\u001b[0mself\u001b[0m\u001b[0;34m)\u001b[0m\u001b[0;34m:\u001b[0m\u001b[0;34m\u001b[0m\u001b[0;34m\u001b[0m\u001b[0m\n",
      "\u001b[0;32m~/anaconda3/lib/python3.7/site-packages/pandas/io/parsers.py\u001b[0m in \u001b[0;36m_make_engine\u001b[0;34m(self, engine)\u001b[0m\n\u001b[1;32m   1133\u001b[0m     \u001b[0;32mdef\u001b[0m \u001b[0m_make_engine\u001b[0m\u001b[0;34m(\u001b[0m\u001b[0mself\u001b[0m\u001b[0;34m,\u001b[0m \u001b[0mengine\u001b[0m\u001b[0;34m=\u001b[0m\u001b[0;34m\"c\"\u001b[0m\u001b[0;34m)\u001b[0m\u001b[0;34m:\u001b[0m\u001b[0;34m\u001b[0m\u001b[0;34m\u001b[0m\u001b[0m\n\u001b[1;32m   1134\u001b[0m         \u001b[0;32mif\u001b[0m \u001b[0mengine\u001b[0m \u001b[0;34m==\u001b[0m \u001b[0;34m\"c\"\u001b[0m\u001b[0;34m:\u001b[0m\u001b[0;34m\u001b[0m\u001b[0;34m\u001b[0m\u001b[0m\n\u001b[0;32m-> 1135\u001b[0;31m             \u001b[0mself\u001b[0m\u001b[0;34m.\u001b[0m\u001b[0m_engine\u001b[0m \u001b[0;34m=\u001b[0m \u001b[0mCParserWrapper\u001b[0m\u001b[0;34m(\u001b[0m\u001b[0mself\u001b[0m\u001b[0;34m.\u001b[0m\u001b[0mf\u001b[0m\u001b[0;34m,\u001b[0m \u001b[0;34m**\u001b[0m\u001b[0mself\u001b[0m\u001b[0;34m.\u001b[0m\u001b[0moptions\u001b[0m\u001b[0;34m)\u001b[0m\u001b[0;34m\u001b[0m\u001b[0;34m\u001b[0m\u001b[0m\n\u001b[0m\u001b[1;32m   1136\u001b[0m         \u001b[0;32melse\u001b[0m\u001b[0;34m:\u001b[0m\u001b[0;34m\u001b[0m\u001b[0;34m\u001b[0m\u001b[0m\n\u001b[1;32m   1137\u001b[0m             \u001b[0;32mif\u001b[0m \u001b[0mengine\u001b[0m \u001b[0;34m==\u001b[0m \u001b[0;34m\"python\"\u001b[0m\u001b[0;34m:\u001b[0m\u001b[0;34m\u001b[0m\u001b[0;34m\u001b[0m\u001b[0m\n",
      "\u001b[0;32m~/anaconda3/lib/python3.7/site-packages/pandas/io/parsers.py\u001b[0m in \u001b[0;36m__init__\u001b[0;34m(self, src, **kwds)\u001b[0m\n\u001b[1;32m   1915\u001b[0m         \u001b[0mkwds\u001b[0m\u001b[0;34m[\u001b[0m\u001b[0;34m\"usecols\"\u001b[0m\u001b[0;34m]\u001b[0m \u001b[0;34m=\u001b[0m \u001b[0mself\u001b[0m\u001b[0;34m.\u001b[0m\u001b[0musecols\u001b[0m\u001b[0;34m\u001b[0m\u001b[0;34m\u001b[0m\u001b[0m\n\u001b[1;32m   1916\u001b[0m \u001b[0;34m\u001b[0m\u001b[0m\n\u001b[0;32m-> 1917\u001b[0;31m         \u001b[0mself\u001b[0m\u001b[0;34m.\u001b[0m\u001b[0m_reader\u001b[0m \u001b[0;34m=\u001b[0m \u001b[0mparsers\u001b[0m\u001b[0;34m.\u001b[0m\u001b[0mTextReader\u001b[0m\u001b[0;34m(\u001b[0m\u001b[0msrc\u001b[0m\u001b[0;34m,\u001b[0m \u001b[0;34m**\u001b[0m\u001b[0mkwds\u001b[0m\u001b[0;34m)\u001b[0m\u001b[0;34m\u001b[0m\u001b[0;34m\u001b[0m\u001b[0m\n\u001b[0m\u001b[1;32m   1918\u001b[0m         \u001b[0mself\u001b[0m\u001b[0;34m.\u001b[0m\u001b[0munnamed_cols\u001b[0m \u001b[0;34m=\u001b[0m \u001b[0mself\u001b[0m\u001b[0;34m.\u001b[0m\u001b[0m_reader\u001b[0m\u001b[0;34m.\u001b[0m\u001b[0munnamed_cols\u001b[0m\u001b[0;34m\u001b[0m\u001b[0;34m\u001b[0m\u001b[0m\n\u001b[1;32m   1919\u001b[0m \u001b[0;34m\u001b[0m\u001b[0m\n",
      "\u001b[0;32mpandas/_libs/parsers.pyx\u001b[0m in \u001b[0;36mpandas._libs.parsers.TextReader.__cinit__\u001b[0;34m()\u001b[0m\n",
      "\u001b[0;32mpandas/_libs/parsers.pyx\u001b[0m in \u001b[0;36mpandas._libs.parsers.TextReader._setup_parser_source\u001b[0;34m()\u001b[0m\n",
      "\u001b[0;31mFileNotFoundError\u001b[0m: [Errno 2] File b'C:/Users/muroc/Documents/MTG/data/decks.csv' does not exist: b'C:/Users/muroc/Documents/MTG/data/decks.csv'"
     ]
    }
   ],
   "source": [
    "decks = pd.read_csv('C:/Users/muroc/Documents/MTG/data/decks.csv')"
   ]
  },
  {
   "cell_type": "code",
   "execution_count": 42,
   "metadata": {},
   "outputs": [],
   "source": [
    "decks = pd.read_csv('~/Documents/programs/python/MTGA_rarity_analysis/data/decks.csv')"
   ]
  },
  {
   "cell_type": "code",
   "execution_count": 43,
   "metadata": {},
   "outputs": [],
   "source": [
    "decks_clean = decks.copy()"
   ]
  },
  {
   "cell_type": "markdown",
   "metadata": {},
   "source": [
    "# Assess"
   ]
  },
  {
   "cell_type": "code",
   "execution_count": 5,
   "metadata": {},
   "outputs": [
    {
     "data": {
      "text/html": [
       "<div>\n",
       "<style scoped>\n",
       "    .dataframe tbody tr th:only-of-type {\n",
       "        vertical-align: middle;\n",
       "    }\n",
       "\n",
       "    .dataframe tbody tr th {\n",
       "        vertical-align: top;\n",
       "    }\n",
       "\n",
       "    .dataframe thead th {\n",
       "        text-align: right;\n",
       "    }\n",
       "</style>\n",
       "<table border=\"1\" class=\"dataframe\">\n",
       "  <thead>\n",
       "    <tr style=\"text-align: right;\">\n",
       "      <th></th>\n",
       "      <th>deck_list</th>\n",
       "      <th>player</th>\n",
       "      <th>url</th>\n",
       "      <th>name</th>\n",
       "    </tr>\n",
       "  </thead>\n",
       "  <tbody>\n",
       "    <tr>\n",
       "      <td>0</td>\n",
       "      <td>2 Forest, 1 Island, 1 Mountain, 2 Swamp, 3 Bre...</td>\n",
       "      <td>Julian_Felix_Flury</td>\n",
       "      <td>https://www.mtgtop8.com/event?e=23581&amp;d=363309...</td>\n",
       "      <td>4c_Control</td>\n",
       "    </tr>\n",
       "    <tr>\n",
       "      <td>1</td>\n",
       "      <td>4 Shock, 1 Forest, 1 Island, 1 Mountain, 1 Swa...</td>\n",
       "      <td>Robert_Lippmann</td>\n",
       "      <td>https://www.mtgtop8.com/event?e=23476&amp;d=362227...</td>\n",
       "      <td>4c_Elementals</td>\n",
       "    </tr>\n",
       "    <tr>\n",
       "      <td>2</td>\n",
       "      <td>3 Forest, 1 Island, 2 Plains, 1 Swamp, 4 Breed...</td>\n",
       "      <td>Keylan_Steffins</td>\n",
       "      <td>https://www.mtgtop8.com/event?e=23516&amp;d=362603...</td>\n",
       "      <td>4c_Value</td>\n",
       "    </tr>\n",
       "    <tr>\n",
       "      <td>3</td>\n",
       "      <td>1 Island, 1 Mountain, 2 Plains, 3 Swamp, 2 Blo...</td>\n",
       "      <td>Wynand_Van_Zyl</td>\n",
       "      <td>https://www.mtgtop8.com/event?e=23773&amp;d=365167...</td>\n",
       "      <td>4_Color_Doom_</td>\n",
       "    </tr>\n",
       "    <tr>\n",
       "      <td>4</td>\n",
       "      <td>1 Island, 1 Mountain, 1 Plains, 4 Hallowed Fou...</td>\n",
       "      <td>Vincent_Choy</td>\n",
       "      <td>https://www.mtgtop8.com/event?e=23600&amp;d=363526...</td>\n",
       "      <td>5c_PW</td>\n",
       "    </tr>\n",
       "  </tbody>\n",
       "</table>\n",
       "</div>"
      ],
      "text/plain": [
       "                                           deck_list              player  \\\n",
       "0  2 Forest, 1 Island, 1 Mountain, 2 Swamp, 3 Bre...  Julian_Felix_Flury   \n",
       "1  4 Shock, 1 Forest, 1 Island, 1 Mountain, 1 Swa...     Robert_Lippmann   \n",
       "2  3 Forest, 1 Island, 2 Plains, 1 Swamp, 4 Breed...     Keylan_Steffins   \n",
       "3  1 Island, 1 Mountain, 2 Plains, 3 Swamp, 2 Blo...      Wynand_Van_Zyl   \n",
       "4  1 Island, 1 Mountain, 1 Plains, 4 Hallowed Fou...        Vincent_Choy   \n",
       "\n",
       "                                                 url           name  \n",
       "0  https://www.mtgtop8.com/event?e=23581&d=363309...     4c_Control  \n",
       "1  https://www.mtgtop8.com/event?e=23476&d=362227...  4c_Elementals  \n",
       "2  https://www.mtgtop8.com/event?e=23516&d=362603...       4c_Value  \n",
       "3  https://www.mtgtop8.com/event?e=23773&d=365167...  4_Color_Doom_  \n",
       "4  https://www.mtgtop8.com/event?e=23600&d=363526...          5c_PW  "
      ]
     },
     "execution_count": 5,
     "metadata": {},
     "output_type": "execute_result"
    }
   ],
   "source": [
    "decks_clean.head()"
   ]
  },
  {
   "cell_type": "code",
   "execution_count": 6,
   "metadata": {},
   "outputs": [
    {
     "data": {
      "text/html": [
       "<div>\n",
       "<style scoped>\n",
       "    .dataframe tbody tr th:only-of-type {\n",
       "        vertical-align: middle;\n",
       "    }\n",
       "\n",
       "    .dataframe tbody tr th {\n",
       "        vertical-align: top;\n",
       "    }\n",
       "\n",
       "    .dataframe thead th {\n",
       "        text-align: right;\n",
       "    }\n",
       "</style>\n",
       "<table border=\"1\" class=\"dataframe\">\n",
       "  <thead>\n",
       "    <tr style=\"text-align: right;\">\n",
       "      <th></th>\n",
       "      <th>deck_list</th>\n",
       "      <th>player</th>\n",
       "      <th>url</th>\n",
       "      <th>name</th>\n",
       "    </tr>\n",
       "  </thead>\n",
       "  <tbody>\n",
       "    <tr>\n",
       "      <td>446</td>\n",
       "      <td>6 Island, 4 Plains, 4 Hallowed Fountain, 3 Gla...</td>\n",
       "      <td>truthordare</td>\n",
       "      <td>https://www.mtgtop8.com/event?e=23812&amp;d=365508...</td>\n",
       "      <td>UW_Control</td>\n",
       "    </tr>\n",
       "    <tr>\n",
       "      <td>447</td>\n",
       "      <td>4 Planar Cleansing, 7 Island, 5 Plains, 4 Hall...</td>\n",
       "      <td>Yokokawa_Yuuta</td>\n",
       "      <td>https://www.mtgtop8.com/event?e=23907&amp;d=366416...</td>\n",
       "      <td>UW_Control</td>\n",
       "    </tr>\n",
       "    <tr>\n",
       "      <td>448</td>\n",
       "      <td>1 Disenchant, 7 Island, 4 Plains, 4 Hallowed F...</td>\n",
       "      <td>zer1997</td>\n",
       "      <td>https://www.mtgtop8.com/event?e=23772&amp;d=365157...</td>\n",
       "      <td>UW_Control</td>\n",
       "    </tr>\n",
       "    <tr>\n",
       "      <td>449</td>\n",
       "      <td>17 Plains, 4 Loyal Pegasus, 4 Faerie Guidemoth...</td>\n",
       "      <td>Brandon_Krussow</td>\n",
       "      <td>https://www.mtgtop8.com/event?e=23943&amp;d=366839...</td>\n",
       "      <td>White_Weenie</td>\n",
       "    </tr>\n",
       "    <tr>\n",
       "      <td>450</td>\n",
       "      <td>2 Disenchant, 17 Plains, 4 Loyal Pegasus, 4 Fa...</td>\n",
       "      <td>Nematov_Ruslan</td>\n",
       "      <td>https://www.mtgtop8.com/event?e=23578&amp;d=363291...</td>\n",
       "      <td>White_Weenie</td>\n",
       "    </tr>\n",
       "  </tbody>\n",
       "</table>\n",
       "</div>"
      ],
      "text/plain": [
       "                                             deck_list           player  \\\n",
       "446  6 Island, 4 Plains, 4 Hallowed Fountain, 3 Gla...      truthordare   \n",
       "447  4 Planar Cleansing, 7 Island, 5 Plains, 4 Hall...   Yokokawa_Yuuta   \n",
       "448  1 Disenchant, 7 Island, 4 Plains, 4 Hallowed F...          zer1997   \n",
       "449  17 Plains, 4 Loyal Pegasus, 4 Faerie Guidemoth...  Brandon_Krussow   \n",
       "450  2 Disenchant, 17 Plains, 4 Loyal Pegasus, 4 Fa...   Nematov_Ruslan   \n",
       "\n",
       "                                                   url          name  \n",
       "446  https://www.mtgtop8.com/event?e=23812&d=365508...    UW_Control  \n",
       "447  https://www.mtgtop8.com/event?e=23907&d=366416...    UW_Control  \n",
       "448  https://www.mtgtop8.com/event?e=23772&d=365157...    UW_Control  \n",
       "449  https://www.mtgtop8.com/event?e=23943&d=366839...  White_Weenie  \n",
       "450  https://www.mtgtop8.com/event?e=23578&d=363291...  White_Weenie  "
      ]
     },
     "execution_count": 6,
     "metadata": {},
     "output_type": "execute_result"
    }
   ],
   "source": [
    "decks_clean.tail()"
   ]
  },
  {
   "cell_type": "code",
   "execution_count": 10,
   "metadata": {},
   "outputs": [
    {
     "data": {
      "text/html": [
       "<div>\n",
       "<style scoped>\n",
       "    .dataframe tbody tr th:only-of-type {\n",
       "        vertical-align: middle;\n",
       "    }\n",
       "\n",
       "    .dataframe tbody tr th {\n",
       "        vertical-align: top;\n",
       "    }\n",
       "\n",
       "    .dataframe thead th {\n",
       "        text-align: right;\n",
       "    }\n",
       "</style>\n",
       "<table border=\"1\" class=\"dataframe\">\n",
       "  <thead>\n",
       "    <tr style=\"text-align: right;\">\n",
       "      <th></th>\n",
       "      <th>deck_list</th>\n",
       "      <th>player</th>\n",
       "      <th>url</th>\n",
       "      <th>name</th>\n",
       "    </tr>\n",
       "  </thead>\n",
       "  <tbody>\n",
       "  </tbody>\n",
       "</table>\n",
       "</div>"
      ],
      "text/plain": [
       "Empty DataFrame\n",
       "Columns: [deck_list, player, url, name]\n",
       "Index: []"
      ]
     },
     "execution_count": 10,
     "metadata": {},
     "output_type": "execute_result"
    }
   ],
   "source": [
    "decks_clean[decks_clean.astype(str)['deck_list'] == \"['nan']\"]"
   ]
  },
  {
   "cell_type": "markdown",
   "metadata": {},
   "source": [
    "## Assessment\n",
    "- [done] deck_list column has , for delimiter but names can also have a comma\n",
    "- [done] cards are in one column\n",
    "- [done] multiple cards are in one object\n",
    "- card number and card name are the same object\n",
    "- [done] null values in `deck_list` column\n",
    "- rarities not present in the data"
   ]
  },
  {
   "cell_type": "markdown",
   "metadata": {},
   "source": [
    "# Clean"
   ]
  },
  {
   "cell_type": "markdown",
   "metadata": {},
   "source": [
    "## Define\n",
    "- filter for any lists in `deck_list` that have null values in it"
   ]
  },
  {
   "cell_type": "markdown",
   "metadata": {},
   "source": [
    "## Code"
   ]
  },
  {
   "cell_type": "code",
   "execution_count": 11,
   "metadata": {},
   "outputs": [],
   "source": [
    "decks_clean.deck_list = decks_clean[decks_clean.astype(str)['deck_list'] != \"['nan']\"]"
   ]
  },
  {
   "cell_type": "markdown",
   "metadata": {},
   "source": [
    "## Test"
   ]
  },
  {
   "cell_type": "code",
   "execution_count": 12,
   "metadata": {},
   "outputs": [
    {
     "data": {
      "text/html": [
       "<div>\n",
       "<style scoped>\n",
       "    .dataframe tbody tr th:only-of-type {\n",
       "        vertical-align: middle;\n",
       "    }\n",
       "\n",
       "    .dataframe tbody tr th {\n",
       "        vertical-align: top;\n",
       "    }\n",
       "\n",
       "    .dataframe thead th {\n",
       "        text-align: right;\n",
       "    }\n",
       "</style>\n",
       "<table border=\"1\" class=\"dataframe\">\n",
       "  <thead>\n",
       "    <tr style=\"text-align: right;\">\n",
       "      <th></th>\n",
       "      <th>deck_list</th>\n",
       "      <th>player</th>\n",
       "      <th>url</th>\n",
       "      <th>name</th>\n",
       "    </tr>\n",
       "  </thead>\n",
       "  <tbody>\n",
       "  </tbody>\n",
       "</table>\n",
       "</div>"
      ],
      "text/plain": [
       "Empty DataFrame\n",
       "Columns: [deck_list, player, url, name]\n",
       "Index: []"
      ]
     },
     "execution_count": 12,
     "metadata": {},
     "output_type": "execute_result"
    }
   ],
   "source": [
    "decks_clean[decks_clean.astype(str)['deck_list'] == \"['nan']\"]"
   ]
  },
  {
   "cell_type": "markdown",
   "metadata": {},
   "source": [
    "## Define\n",
    "- make , in `deck_list` into '|' without mistaking commas in names"
   ]
  },
  {
   "cell_type": "markdown",
   "metadata": {},
   "source": [
    "## Code"
   ]
  },
  {
   "cell_type": "code",
   "execution_count": 14,
   "metadata": {},
   "outputs": [],
   "source": [
    "decks_clean.deck_list = decks_clean.deck_list.str.replace(', (?=\\d)', '|')"
   ]
  },
  {
   "cell_type": "markdown",
   "metadata": {},
   "source": [
    "## Define\n",
    "- split `deck_list` by card"
   ]
  },
  {
   "cell_type": "markdown",
   "metadata": {},
   "source": [
    "## Code"
   ]
  },
  {
   "cell_type": "code",
   "execution_count": 15,
   "metadata": {},
   "outputs": [],
   "source": [
    "new = decks_clean.deck_list.str.split('|', expand=True)\n",
    "decks_clean = decks_clean.join(new)"
   ]
  },
  {
   "cell_type": "markdown",
   "metadata": {},
   "source": [
    "## Test"
   ]
  },
  {
   "cell_type": "code",
   "execution_count": 16,
   "metadata": {
    "collapsed": true,
    "jupyter": {
     "outputs_hidden": true
    }
   },
   "outputs": [
    {
     "data": {
      "text/html": [
       "<div>\n",
       "<style scoped>\n",
       "    .dataframe tbody tr th:only-of-type {\n",
       "        vertical-align: middle;\n",
       "    }\n",
       "\n",
       "    .dataframe tbody tr th {\n",
       "        vertical-align: top;\n",
       "    }\n",
       "\n",
       "    .dataframe thead th {\n",
       "        text-align: right;\n",
       "    }\n",
       "</style>\n",
       "<table border=\"1\" class=\"dataframe\">\n",
       "  <thead>\n",
       "    <tr style=\"text-align: right;\">\n",
       "      <th></th>\n",
       "      <th>deck_list</th>\n",
       "      <th>player</th>\n",
       "      <th>url</th>\n",
       "      <th>name</th>\n",
       "      <th>0</th>\n",
       "      <th>1</th>\n",
       "      <th>2</th>\n",
       "      <th>3</th>\n",
       "      <th>4</th>\n",
       "      <th>5</th>\n",
       "      <th>...</th>\n",
       "      <th>30</th>\n",
       "      <th>31</th>\n",
       "      <th>32</th>\n",
       "      <th>33</th>\n",
       "      <th>34</th>\n",
       "      <th>35</th>\n",
       "      <th>36</th>\n",
       "      <th>37</th>\n",
       "      <th>38</th>\n",
       "      <th>39</th>\n",
       "    </tr>\n",
       "  </thead>\n",
       "  <tbody>\n",
       "    <tr>\n",
       "      <td>0</td>\n",
       "      <td>2 Forest|1 Island|1 Mountain|2 Swamp|3 Breedin...</td>\n",
       "      <td>Julian_Felix_Flury</td>\n",
       "      <td>https://www.mtgtop8.com/event?e=23581&amp;d=363309...</td>\n",
       "      <td>4c_Control</td>\n",
       "      <td>2 Forest</td>\n",
       "      <td>1 Island</td>\n",
       "      <td>1 Mountain</td>\n",
       "      <td>2 Swamp</td>\n",
       "      <td>3 Breeding Pool</td>\n",
       "      <td>2 Mystical Dispute</td>\n",
       "      <td>...</td>\n",
       "      <td>None</td>\n",
       "      <td>None</td>\n",
       "      <td>None</td>\n",
       "      <td>None</td>\n",
       "      <td>None</td>\n",
       "      <td>None</td>\n",
       "      <td>None</td>\n",
       "      <td>None</td>\n",
       "      <td>None</td>\n",
       "      <td>None</td>\n",
       "    </tr>\n",
       "    <tr>\n",
       "      <td>1</td>\n",
       "      <td>4 Shock|1 Forest|1 Island|1 Mountain|1 Swamp|1...</td>\n",
       "      <td>Robert_Lippmann</td>\n",
       "      <td>https://www.mtgtop8.com/event?e=23476&amp;d=362227...</td>\n",
       "      <td>4c_Elementals</td>\n",
       "      <td>4 Shock</td>\n",
       "      <td>1 Forest</td>\n",
       "      <td>1 Island</td>\n",
       "      <td>1 Mountain</td>\n",
       "      <td>1 Swamp</td>\n",
       "      <td>1 Blood Crypt</td>\n",
       "      <td>...</td>\n",
       "      <td>2 Overgrown Tomb</td>\n",
       "      <td>2 Watery Grave</td>\n",
       "      <td>1 Temple of Mystery</td>\n",
       "      <td>3 Neoform,</td>\n",
       "      <td>None</td>\n",
       "      <td>None</td>\n",
       "      <td>None</td>\n",
       "      <td>None</td>\n",
       "      <td>None</td>\n",
       "      <td>None</td>\n",
       "    </tr>\n",
       "    <tr>\n",
       "      <td>2</td>\n",
       "      <td>3 Forest|1 Island|2 Plains|1 Swamp|4 Breeding ...</td>\n",
       "      <td>Keylan_Steffins</td>\n",
       "      <td>https://www.mtgtop8.com/event?e=23516&amp;d=362603...</td>\n",
       "      <td>4c_Value</td>\n",
       "      <td>3 Forest</td>\n",
       "      <td>1 Island</td>\n",
       "      <td>2 Plains</td>\n",
       "      <td>1 Swamp</td>\n",
       "      <td>4 Breeding Pool</td>\n",
       "      <td>4 Gilded Goose</td>\n",
       "      <td>...</td>\n",
       "      <td>None</td>\n",
       "      <td>None</td>\n",
       "      <td>None</td>\n",
       "      <td>None</td>\n",
       "      <td>None</td>\n",
       "      <td>None</td>\n",
       "      <td>None</td>\n",
       "      <td>None</td>\n",
       "      <td>None</td>\n",
       "      <td>None</td>\n",
       "    </tr>\n",
       "    <tr>\n",
       "      <td>3</td>\n",
       "      <td>1 Island|1 Mountain|2 Plains|3 Swamp|2 Blood C...</td>\n",
       "      <td>Wynand_Van_Zyl</td>\n",
       "      <td>https://www.mtgtop8.com/event?e=23773&amp;d=365167...</td>\n",
       "      <td>4_Color_Doom_</td>\n",
       "      <td>1 Island</td>\n",
       "      <td>1 Mountain</td>\n",
       "      <td>2 Plains</td>\n",
       "      <td>3 Swamp</td>\n",
       "      <td>2 Blood Crypt</td>\n",
       "      <td>1 Hallowed Fountain</td>\n",
       "      <td>...</td>\n",
       "      <td>4 Oath of Kaya</td>\n",
       "      <td>4 Guild Globe</td>\n",
       "      <td>2 Sorcerous Spyglass,</td>\n",
       "      <td>None</td>\n",
       "      <td>None</td>\n",
       "      <td>None</td>\n",
       "      <td>None</td>\n",
       "      <td>None</td>\n",
       "      <td>None</td>\n",
       "      <td>None</td>\n",
       "    </tr>\n",
       "    <tr>\n",
       "      <td>4</td>\n",
       "      <td>1 Island|1 Mountain|1 Plains|4 Hallowed Founta...</td>\n",
       "      <td>Vincent_Choy</td>\n",
       "      <td>https://www.mtgtop8.com/event?e=23600&amp;d=363526...</td>\n",
       "      <td>5c_PW</td>\n",
       "      <td>1 Island</td>\n",
       "      <td>1 Mountain</td>\n",
       "      <td>1 Plains</td>\n",
       "      <td>4 Hallowed Fountain</td>\n",
       "      <td>3 Fae of Wishes</td>\n",
       "      <td>4 Fires of Invention</td>\n",
       "      <td>...</td>\n",
       "      <td>4 Teferi, Time Raveler</td>\n",
       "      <td>1 Time Wipe</td>\n",
       "      <td>1 Ashiok, Dream Render</td>\n",
       "      <td>1 Blast Zone</td>\n",
       "      <td>4 Interplanar Beacon</td>\n",
       "      <td>1 Karn's Bastion</td>\n",
       "      <td>1 Sorcerous Spyglass,</td>\n",
       "      <td>None</td>\n",
       "      <td>None</td>\n",
       "      <td>None</td>\n",
       "    </tr>\n",
       "  </tbody>\n",
       "</table>\n",
       "<p>5 rows × 44 columns</p>\n",
       "</div>"
      ],
      "text/plain": [
       "                                           deck_list              player  \\\n",
       "0  2 Forest|1 Island|1 Mountain|2 Swamp|3 Breedin...  Julian_Felix_Flury   \n",
       "1  4 Shock|1 Forest|1 Island|1 Mountain|1 Swamp|1...     Robert_Lippmann   \n",
       "2  3 Forest|1 Island|2 Plains|1 Swamp|4 Breeding ...     Keylan_Steffins   \n",
       "3  1 Island|1 Mountain|2 Plains|3 Swamp|2 Blood C...      Wynand_Van_Zyl   \n",
       "4  1 Island|1 Mountain|1 Plains|4 Hallowed Founta...        Vincent_Choy   \n",
       "\n",
       "                                                 url           name         0  \\\n",
       "0  https://www.mtgtop8.com/event?e=23581&d=363309...     4c_Control  2 Forest   \n",
       "1  https://www.mtgtop8.com/event?e=23476&d=362227...  4c_Elementals   4 Shock   \n",
       "2  https://www.mtgtop8.com/event?e=23516&d=362603...       4c_Value  3 Forest   \n",
       "3  https://www.mtgtop8.com/event?e=23773&d=365167...  4_Color_Doom_  1 Island   \n",
       "4  https://www.mtgtop8.com/event?e=23600&d=363526...          5c_PW  1 Island   \n",
       "\n",
       "            1           2                    3                4  \\\n",
       "0    1 Island  1 Mountain              2 Swamp  3 Breeding Pool   \n",
       "1    1 Forest    1 Island           1 Mountain          1 Swamp   \n",
       "2    1 Island    2 Plains              1 Swamp  4 Breeding Pool   \n",
       "3  1 Mountain    2 Plains              3 Swamp    2 Blood Crypt   \n",
       "4  1 Mountain    1 Plains  4 Hallowed Fountain  3 Fae of Wishes   \n",
       "\n",
       "                      5  ...                      30              31  \\\n",
       "0    2 Mystical Dispute  ...                    None            None   \n",
       "1         1 Blood Crypt  ...        2 Overgrown Tomb  2 Watery Grave   \n",
       "2        4 Gilded Goose  ...                    None            None   \n",
       "3   1 Hallowed Fountain  ...          4 Oath of Kaya   4 Guild Globe   \n",
       "4  4 Fires of Invention  ...  4 Teferi, Time Raveler     1 Time Wipe   \n",
       "\n",
       "                       32            33                    34  \\\n",
       "0                    None          None                  None   \n",
       "1     1 Temple of Mystery   3 Neoform,                   None   \n",
       "2                    None          None                  None   \n",
       "3  2 Sorcerous Spyglass,           None                  None   \n",
       "4  1 Ashiok, Dream Render  1 Blast Zone  4 Interplanar Beacon   \n",
       "\n",
       "                 35                      36    37    38    39  \n",
       "0              None                    None  None  None  None  \n",
       "1              None                    None  None  None  None  \n",
       "2              None                    None  None  None  None  \n",
       "3              None                    None  None  None  None  \n",
       "4  1 Karn's Bastion  1 Sorcerous Spyglass,   None  None  None  \n",
       "\n",
       "[5 rows x 44 columns]"
      ]
     },
     "execution_count": 16,
     "metadata": {},
     "output_type": "execute_result"
    }
   ],
   "source": [
    "decks_clean.head()"
   ]
  },
  {
   "cell_type": "markdown",
   "metadata": {},
   "source": [
    "## Define \n",
    "- melt cards into one column"
   ]
  },
  {
   "cell_type": "markdown",
   "metadata": {},
   "source": [
    "## Code"
   ]
  },
  {
   "cell_type": "code",
   "execution_count": 17,
   "metadata": {},
   "outputs": [],
   "source": [
    "decks_clean = pd.melt(decks_clean, id_vars=['deck_list', 'player', 'url', 'name'], value_vars=decks_clean.columns[4:45])"
   ]
  },
  {
   "cell_type": "code",
   "execution_count": 18,
   "metadata": {},
   "outputs": [],
   "source": [
    "decks_clean = decks_clean.rename(columns={'value':'cards'}).drop(columns=['deck_list', 'variable'])"
   ]
  },
  {
   "cell_type": "markdown",
   "metadata": {},
   "source": [
    "## Test"
   ]
  },
  {
   "cell_type": "code",
   "execution_count": 19,
   "metadata": {},
   "outputs": [
    {
     "data": {
      "text/plain": [
       "(18040, 4)"
      ]
     },
     "execution_count": 19,
     "metadata": {},
     "output_type": "execute_result"
    }
   ],
   "source": [
    "decks_clean.shape"
   ]
  },
  {
   "cell_type": "code",
   "execution_count": 20,
   "metadata": {},
   "outputs": [
    {
     "data": {
      "text/html": [
       "<div>\n",
       "<style scoped>\n",
       "    .dataframe tbody tr th:only-of-type {\n",
       "        vertical-align: middle;\n",
       "    }\n",
       "\n",
       "    .dataframe tbody tr th {\n",
       "        vertical-align: top;\n",
       "    }\n",
       "\n",
       "    .dataframe thead th {\n",
       "        text-align: right;\n",
       "    }\n",
       "</style>\n",
       "<table border=\"1\" class=\"dataframe\">\n",
       "  <thead>\n",
       "    <tr style=\"text-align: right;\">\n",
       "      <th></th>\n",
       "      <th>player</th>\n",
       "      <th>url</th>\n",
       "      <th>name</th>\n",
       "      <th>cards</th>\n",
       "    </tr>\n",
       "  </thead>\n",
       "  <tbody>\n",
       "    <tr>\n",
       "      <td>0</td>\n",
       "      <td>Julian_Felix_Flury</td>\n",
       "      <td>https://www.mtgtop8.com/event?e=23581&amp;d=363309...</td>\n",
       "      <td>4c_Control</td>\n",
       "      <td>2 Forest</td>\n",
       "    </tr>\n",
       "    <tr>\n",
       "      <td>1</td>\n",
       "      <td>Robert_Lippmann</td>\n",
       "      <td>https://www.mtgtop8.com/event?e=23476&amp;d=362227...</td>\n",
       "      <td>4c_Elementals</td>\n",
       "      <td>4 Shock</td>\n",
       "    </tr>\n",
       "    <tr>\n",
       "      <td>2</td>\n",
       "      <td>Keylan_Steffins</td>\n",
       "      <td>https://www.mtgtop8.com/event?e=23516&amp;d=362603...</td>\n",
       "      <td>4c_Value</td>\n",
       "      <td>3 Forest</td>\n",
       "    </tr>\n",
       "    <tr>\n",
       "      <td>3</td>\n",
       "      <td>Wynand_Van_Zyl</td>\n",
       "      <td>https://www.mtgtop8.com/event?e=23773&amp;d=365167...</td>\n",
       "      <td>4_Color_Doom_</td>\n",
       "      <td>1 Island</td>\n",
       "    </tr>\n",
       "    <tr>\n",
       "      <td>4</td>\n",
       "      <td>Vincent_Choy</td>\n",
       "      <td>https://www.mtgtop8.com/event?e=23600&amp;d=363526...</td>\n",
       "      <td>5c_PW</td>\n",
       "      <td>1 Island</td>\n",
       "    </tr>\n",
       "  </tbody>\n",
       "</table>\n",
       "</div>"
      ],
      "text/plain": [
       "               player                                                url  \\\n",
       "0  Julian_Felix_Flury  https://www.mtgtop8.com/event?e=23581&d=363309...   \n",
       "1     Robert_Lippmann  https://www.mtgtop8.com/event?e=23476&d=362227...   \n",
       "2     Keylan_Steffins  https://www.mtgtop8.com/event?e=23516&d=362603...   \n",
       "3      Wynand_Van_Zyl  https://www.mtgtop8.com/event?e=23773&d=365167...   \n",
       "4        Vincent_Choy  https://www.mtgtop8.com/event?e=23600&d=363526...   \n",
       "\n",
       "            name     cards  \n",
       "0     4c_Control  2 Forest  \n",
       "1  4c_Elementals   4 Shock  \n",
       "2       4c_Value  3 Forest  \n",
       "3  4_Color_Doom_  1 Island  \n",
       "4          5c_PW  1 Island  "
      ]
     },
     "execution_count": 20,
     "metadata": {},
     "output_type": "execute_result"
    }
   ],
   "source": [
    "decks_clean.head()"
   ]
  },
  {
   "cell_type": "markdown",
   "metadata": {},
   "source": [
    "## Define\n",
    "- drop rows that have 'None' in them"
   ]
  },
  {
   "cell_type": "markdown",
   "metadata": {},
   "source": [
    "## Code"
   ]
  },
  {
   "cell_type": "code",
   "execution_count": 21,
   "metadata": {},
   "outputs": [],
   "source": [
    "decks_clean.cards = decks_clean.cards.astype('str')"
   ]
  },
  {
   "cell_type": "code",
   "execution_count": 22,
   "metadata": {},
   "outputs": [],
   "source": [
    "decks_clean = decks_clean[decks_clean.cards != 'None']"
   ]
  },
  {
   "cell_type": "code",
   "execution_count": 46,
   "metadata": {},
   "outputs": [],
   "source": [
    "decks_clean.to_csv('~/Documents/programs/python/MTGA_rarity_analysis/data/decks.csv', index=False)"
   ]
  },
  {
   "cell_type": "markdown",
   "metadata": {},
   "source": [
    "## Define\n",
    "- get numbers out of `cards` column"
   ]
  },
  {
   "cell_type": "markdown",
   "metadata": {},
   "source": [
    "## Code"
   ]
  },
  {
   "cell_type": "code",
   "execution_count": 48,
   "metadata": {},
   "outputs": [],
   "source": [
    "new = decks_clean.cards.str.split('(?<=\\d)\\s', expand=True)\n",
    "decks_clean = decks_clean.join(new).rename(columns={'name':'deck_name', 0:'num', 1:'card_name'}).drop(columns=['cards'])"
   ]
  },
  {
   "cell_type": "markdown",
   "metadata": {},
   "source": [
    "## Test"
   ]
  },
  {
   "cell_type": "code",
   "execution_count": 49,
   "metadata": {},
   "outputs": [
    {
     "data": {
      "text/html": [
       "<div>\n",
       "<style scoped>\n",
       "    .dataframe tbody tr th:only-of-type {\n",
       "        vertical-align: middle;\n",
       "    }\n",
       "\n",
       "    .dataframe tbody tr th {\n",
       "        vertical-align: top;\n",
       "    }\n",
       "\n",
       "    .dataframe thead th {\n",
       "        text-align: right;\n",
       "    }\n",
       "</style>\n",
       "<table border=\"1\" class=\"dataframe\">\n",
       "  <thead>\n",
       "    <tr style=\"text-align: right;\">\n",
       "      <th></th>\n",
       "      <th>player</th>\n",
       "      <th>url</th>\n",
       "      <th>deck_name</th>\n",
       "      <th>num</th>\n",
       "      <th>card_name</th>\n",
       "    </tr>\n",
       "  </thead>\n",
       "  <tbody>\n",
       "    <tr>\n",
       "      <td>0</td>\n",
       "      <td>Julian_Felix_Flury</td>\n",
       "      <td>https://www.mtgtop8.com/event?e=23581&amp;d=363309...</td>\n",
       "      <td>4c_Control</td>\n",
       "      <td>2</td>\n",
       "      <td>Forest</td>\n",
       "    </tr>\n",
       "    <tr>\n",
       "      <td>1</td>\n",
       "      <td>Robert_Lippmann</td>\n",
       "      <td>https://www.mtgtop8.com/event?e=23476&amp;d=362227...</td>\n",
       "      <td>4c_Elementals</td>\n",
       "      <td>4</td>\n",
       "      <td>Shock</td>\n",
       "    </tr>\n",
       "    <tr>\n",
       "      <td>2</td>\n",
       "      <td>Keylan_Steffins</td>\n",
       "      <td>https://www.mtgtop8.com/event?e=23516&amp;d=362603...</td>\n",
       "      <td>4c_Value</td>\n",
       "      <td>3</td>\n",
       "      <td>Forest</td>\n",
       "    </tr>\n",
       "    <tr>\n",
       "      <td>3</td>\n",
       "      <td>Wynand_Van_Zyl</td>\n",
       "      <td>https://www.mtgtop8.com/event?e=23773&amp;d=365167...</td>\n",
       "      <td>4_Color_Doom_</td>\n",
       "      <td>1</td>\n",
       "      <td>Island</td>\n",
       "    </tr>\n",
       "    <tr>\n",
       "      <td>4</td>\n",
       "      <td>Vincent_Choy</td>\n",
       "      <td>https://www.mtgtop8.com/event?e=23600&amp;d=363526...</td>\n",
       "      <td>5c_PW</td>\n",
       "      <td>1</td>\n",
       "      <td>Island</td>\n",
       "    </tr>\n",
       "  </tbody>\n",
       "</table>\n",
       "</div>"
      ],
      "text/plain": [
       "               player                                                url  \\\n",
       "0  Julian_Felix_Flury  https://www.mtgtop8.com/event?e=23581&d=363309...   \n",
       "1     Robert_Lippmann  https://www.mtgtop8.com/event?e=23476&d=362227...   \n",
       "2     Keylan_Steffins  https://www.mtgtop8.com/event?e=23516&d=362603...   \n",
       "3      Wynand_Van_Zyl  https://www.mtgtop8.com/event?e=23773&d=365167...   \n",
       "4        Vincent_Choy  https://www.mtgtop8.com/event?e=23600&d=363526...   \n",
       "\n",
       "       deck_name num card_name  \n",
       "0     4c_Control   2    Forest  \n",
       "1  4c_Elementals   4     Shock  \n",
       "2       4c_Value   3    Forest  \n",
       "3  4_Color_Doom_   1    Island  \n",
       "4          5c_PW   1    Island  "
      ]
     },
     "execution_count": 49,
     "metadata": {},
     "output_type": "execute_result"
    }
   ],
   "source": [
    "decks_clean.head()"
   ]
  },
  {
   "cell_type": "code",
   "execution_count": 50,
   "metadata": {},
   "outputs": [],
   "source": [
    "decks_clean.to_csv('~/Documents/programs/python/MTGA_rarity_analysis/data/decks.csv', index=False)"
   ]
  },
  {
   "cell_type": "code",
   "execution_count": null,
   "metadata": {},
   "outputs": [],
   "source": []
  }
 ],
 "metadata": {
  "kernelspec": {
   "display_name": "Python 3",
   "language": "python",
   "name": "python3"
  },
  "language_info": {
   "codemirror_mode": {
    "name": "ipython",
    "version": 3
   },
   "file_extension": ".py",
   "mimetype": "text/x-python",
   "name": "python",
   "nbconvert_exporter": "python",
   "pygments_lexer": "ipython3",
   "version": "3.7.4"
  }
 },
 "nbformat": 4,
 "nbformat_minor": 4
}
