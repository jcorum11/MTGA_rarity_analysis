{
 "cells": [
  {
   "cell_type": "code",
   "execution_count": 2,
   "metadata": {},
   "outputs": [],
   "source": [
    "import pandas as pd\n",
    "import numpy as np\n",
    "import itertools\n",
    "import os\n",
    "import re\n",
    "import requests\n",
    "import json"
   ]
  },
  {
   "cell_type": "markdown",
   "metadata": {},
   "source": [
    "# Gather"
   ]
  },
  {
   "cell_type": "code",
   "execution_count": 4,
   "metadata": {},
   "outputs": [],
   "source": [
    "# pull standard cards from mtgjson\n",
    "standard_sets = requests.get('https://www.mtgjson.com/files/StandardPrintings.json')\n",
    "standard_sets_clean = standard_sets.json()\n",
    "\n",
    "# code to save standard_sets as a json file \n",
    "with open('standard_sets_clean.txt', 'w') as outfile:\n",
    "    json.dump(standard_sets_clean, outfile)\n",
    "\n",
    "# code to load standard_sets_clean\n",
    "with open('standard_sets_clean.txt', encoding='utf-8') as file:\n",
    "    standard_sets_clean = json.load(file)"
   ]
  },
  {
   "cell_type": "code",
   "execution_count": 2,
   "metadata": {
    "collapsed": true,
    "jupyter": {
     "outputs_hidden": true
    }
   },
   "outputs": [
    {
     "ename": "FileNotFoundError",
     "evalue": "[Errno 2] File b'C:/Users/muroc/Documents/MTG/data/decks.csv' does not exist: b'C:/Users/muroc/Documents/MTG/data/decks.csv'",
     "output_type": "error",
     "traceback": [
      "\u001b[0;31m---------------------------------------------------------------------------\u001b[0m",
      "\u001b[0;31mFileNotFoundError\u001b[0m                         Traceback (most recent call last)",
      "\u001b[0;32m<ipython-input-2-6a4aa109fb57>\u001b[0m in \u001b[0;36m<module>\u001b[0;34m\u001b[0m\n\u001b[0;32m----> 1\u001b[0;31m \u001b[0mdecks\u001b[0m \u001b[0;34m=\u001b[0m \u001b[0mpd\u001b[0m\u001b[0;34m.\u001b[0m\u001b[0mread_csv\u001b[0m\u001b[0;34m(\u001b[0m\u001b[0;34m'C:/Users/muroc/Documents/MTG/data/decks.csv'\u001b[0m\u001b[0;34m)\u001b[0m\u001b[0;34m\u001b[0m\u001b[0;34m\u001b[0m\u001b[0m\n\u001b[0m",
      "\u001b[0;32m~/anaconda3/lib/python3.7/site-packages/pandas/io/parsers.py\u001b[0m in \u001b[0;36mparser_f\u001b[0;34m(filepath_or_buffer, sep, delimiter, header, names, index_col, usecols, squeeze, prefix, mangle_dupe_cols, dtype, engine, converters, true_values, false_values, skipinitialspace, skiprows, skipfooter, nrows, na_values, keep_default_na, na_filter, verbose, skip_blank_lines, parse_dates, infer_datetime_format, keep_date_col, date_parser, dayfirst, cache_dates, iterator, chunksize, compression, thousands, decimal, lineterminator, quotechar, quoting, doublequote, escapechar, comment, encoding, dialect, error_bad_lines, warn_bad_lines, delim_whitespace, low_memory, memory_map, float_precision)\u001b[0m\n\u001b[1;32m    683\u001b[0m         )\n\u001b[1;32m    684\u001b[0m \u001b[0;34m\u001b[0m\u001b[0m\n\u001b[0;32m--> 685\u001b[0;31m         \u001b[0;32mreturn\u001b[0m \u001b[0m_read\u001b[0m\u001b[0;34m(\u001b[0m\u001b[0mfilepath_or_buffer\u001b[0m\u001b[0;34m,\u001b[0m \u001b[0mkwds\u001b[0m\u001b[0;34m)\u001b[0m\u001b[0;34m\u001b[0m\u001b[0;34m\u001b[0m\u001b[0m\n\u001b[0m\u001b[1;32m    686\u001b[0m \u001b[0;34m\u001b[0m\u001b[0m\n\u001b[1;32m    687\u001b[0m     \u001b[0mparser_f\u001b[0m\u001b[0;34m.\u001b[0m\u001b[0m__name__\u001b[0m \u001b[0;34m=\u001b[0m \u001b[0mname\u001b[0m\u001b[0;34m\u001b[0m\u001b[0;34m\u001b[0m\u001b[0m\n",
      "\u001b[0;32m~/anaconda3/lib/python3.7/site-packages/pandas/io/parsers.py\u001b[0m in \u001b[0;36m_read\u001b[0;34m(filepath_or_buffer, kwds)\u001b[0m\n\u001b[1;32m    455\u001b[0m \u001b[0;34m\u001b[0m\u001b[0m\n\u001b[1;32m    456\u001b[0m     \u001b[0;31m# Create the parser.\u001b[0m\u001b[0;34m\u001b[0m\u001b[0;34m\u001b[0m\u001b[0;34m\u001b[0m\u001b[0m\n\u001b[0;32m--> 457\u001b[0;31m     \u001b[0mparser\u001b[0m \u001b[0;34m=\u001b[0m \u001b[0mTextFileReader\u001b[0m\u001b[0;34m(\u001b[0m\u001b[0mfp_or_buf\u001b[0m\u001b[0;34m,\u001b[0m \u001b[0;34m**\u001b[0m\u001b[0mkwds\u001b[0m\u001b[0;34m)\u001b[0m\u001b[0;34m\u001b[0m\u001b[0;34m\u001b[0m\u001b[0m\n\u001b[0m\u001b[1;32m    458\u001b[0m \u001b[0;34m\u001b[0m\u001b[0m\n\u001b[1;32m    459\u001b[0m     \u001b[0;32mif\u001b[0m \u001b[0mchunksize\u001b[0m \u001b[0;32mor\u001b[0m \u001b[0miterator\u001b[0m\u001b[0;34m:\u001b[0m\u001b[0;34m\u001b[0m\u001b[0;34m\u001b[0m\u001b[0m\n",
      "\u001b[0;32m~/anaconda3/lib/python3.7/site-packages/pandas/io/parsers.py\u001b[0m in \u001b[0;36m__init__\u001b[0;34m(self, f, engine, **kwds)\u001b[0m\n\u001b[1;32m    893\u001b[0m             \u001b[0mself\u001b[0m\u001b[0;34m.\u001b[0m\u001b[0moptions\u001b[0m\u001b[0;34m[\u001b[0m\u001b[0;34m\"has_index_names\"\u001b[0m\u001b[0;34m]\u001b[0m \u001b[0;34m=\u001b[0m \u001b[0mkwds\u001b[0m\u001b[0;34m[\u001b[0m\u001b[0;34m\"has_index_names\"\u001b[0m\u001b[0;34m]\u001b[0m\u001b[0;34m\u001b[0m\u001b[0;34m\u001b[0m\u001b[0m\n\u001b[1;32m    894\u001b[0m \u001b[0;34m\u001b[0m\u001b[0m\n\u001b[0;32m--> 895\u001b[0;31m         \u001b[0mself\u001b[0m\u001b[0;34m.\u001b[0m\u001b[0m_make_engine\u001b[0m\u001b[0;34m(\u001b[0m\u001b[0mself\u001b[0m\u001b[0;34m.\u001b[0m\u001b[0mengine\u001b[0m\u001b[0;34m)\u001b[0m\u001b[0;34m\u001b[0m\u001b[0;34m\u001b[0m\u001b[0m\n\u001b[0m\u001b[1;32m    896\u001b[0m \u001b[0;34m\u001b[0m\u001b[0m\n\u001b[1;32m    897\u001b[0m     \u001b[0;32mdef\u001b[0m \u001b[0mclose\u001b[0m\u001b[0;34m(\u001b[0m\u001b[0mself\u001b[0m\u001b[0;34m)\u001b[0m\u001b[0;34m:\u001b[0m\u001b[0;34m\u001b[0m\u001b[0;34m\u001b[0m\u001b[0m\n",
      "\u001b[0;32m~/anaconda3/lib/python3.7/site-packages/pandas/io/parsers.py\u001b[0m in \u001b[0;36m_make_engine\u001b[0;34m(self, engine)\u001b[0m\n\u001b[1;32m   1133\u001b[0m     \u001b[0;32mdef\u001b[0m \u001b[0m_make_engine\u001b[0m\u001b[0;34m(\u001b[0m\u001b[0mself\u001b[0m\u001b[0;34m,\u001b[0m \u001b[0mengine\u001b[0m\u001b[0;34m=\u001b[0m\u001b[0;34m\"c\"\u001b[0m\u001b[0;34m)\u001b[0m\u001b[0;34m:\u001b[0m\u001b[0;34m\u001b[0m\u001b[0;34m\u001b[0m\u001b[0m\n\u001b[1;32m   1134\u001b[0m         \u001b[0;32mif\u001b[0m \u001b[0mengine\u001b[0m \u001b[0;34m==\u001b[0m \u001b[0;34m\"c\"\u001b[0m\u001b[0;34m:\u001b[0m\u001b[0;34m\u001b[0m\u001b[0;34m\u001b[0m\u001b[0m\n\u001b[0;32m-> 1135\u001b[0;31m             \u001b[0mself\u001b[0m\u001b[0;34m.\u001b[0m\u001b[0m_engine\u001b[0m \u001b[0;34m=\u001b[0m \u001b[0mCParserWrapper\u001b[0m\u001b[0;34m(\u001b[0m\u001b[0mself\u001b[0m\u001b[0;34m.\u001b[0m\u001b[0mf\u001b[0m\u001b[0;34m,\u001b[0m \u001b[0;34m**\u001b[0m\u001b[0mself\u001b[0m\u001b[0;34m.\u001b[0m\u001b[0moptions\u001b[0m\u001b[0;34m)\u001b[0m\u001b[0;34m\u001b[0m\u001b[0;34m\u001b[0m\u001b[0m\n\u001b[0m\u001b[1;32m   1136\u001b[0m         \u001b[0;32melse\u001b[0m\u001b[0;34m:\u001b[0m\u001b[0;34m\u001b[0m\u001b[0;34m\u001b[0m\u001b[0m\n\u001b[1;32m   1137\u001b[0m             \u001b[0;32mif\u001b[0m \u001b[0mengine\u001b[0m \u001b[0;34m==\u001b[0m \u001b[0;34m\"python\"\u001b[0m\u001b[0;34m:\u001b[0m\u001b[0;34m\u001b[0m\u001b[0;34m\u001b[0m\u001b[0m\n",
      "\u001b[0;32m~/anaconda3/lib/python3.7/site-packages/pandas/io/parsers.py\u001b[0m in \u001b[0;36m__init__\u001b[0;34m(self, src, **kwds)\u001b[0m\n\u001b[1;32m   1915\u001b[0m         \u001b[0mkwds\u001b[0m\u001b[0;34m[\u001b[0m\u001b[0;34m\"usecols\"\u001b[0m\u001b[0;34m]\u001b[0m \u001b[0;34m=\u001b[0m \u001b[0mself\u001b[0m\u001b[0;34m.\u001b[0m\u001b[0musecols\u001b[0m\u001b[0;34m\u001b[0m\u001b[0;34m\u001b[0m\u001b[0m\n\u001b[1;32m   1916\u001b[0m \u001b[0;34m\u001b[0m\u001b[0m\n\u001b[0;32m-> 1917\u001b[0;31m         \u001b[0mself\u001b[0m\u001b[0;34m.\u001b[0m\u001b[0m_reader\u001b[0m \u001b[0;34m=\u001b[0m \u001b[0mparsers\u001b[0m\u001b[0;34m.\u001b[0m\u001b[0mTextReader\u001b[0m\u001b[0;34m(\u001b[0m\u001b[0msrc\u001b[0m\u001b[0;34m,\u001b[0m \u001b[0;34m**\u001b[0m\u001b[0mkwds\u001b[0m\u001b[0;34m)\u001b[0m\u001b[0;34m\u001b[0m\u001b[0;34m\u001b[0m\u001b[0m\n\u001b[0m\u001b[1;32m   1918\u001b[0m         \u001b[0mself\u001b[0m\u001b[0;34m.\u001b[0m\u001b[0munnamed_cols\u001b[0m \u001b[0;34m=\u001b[0m \u001b[0mself\u001b[0m\u001b[0;34m.\u001b[0m\u001b[0m_reader\u001b[0m\u001b[0;34m.\u001b[0m\u001b[0munnamed_cols\u001b[0m\u001b[0;34m\u001b[0m\u001b[0;34m\u001b[0m\u001b[0m\n\u001b[1;32m   1919\u001b[0m \u001b[0;34m\u001b[0m\u001b[0m\n",
      "\u001b[0;32mpandas/_libs/parsers.pyx\u001b[0m in \u001b[0;36mpandas._libs.parsers.TextReader.__cinit__\u001b[0;34m()\u001b[0m\n",
      "\u001b[0;32mpandas/_libs/parsers.pyx\u001b[0m in \u001b[0;36mpandas._libs.parsers.TextReader._setup_parser_source\u001b[0;34m()\u001b[0m\n",
      "\u001b[0;31mFileNotFoundError\u001b[0m: [Errno 2] File b'C:/Users/muroc/Documents/MTG/data/decks.csv' does not exist: b'C:/Users/muroc/Documents/MTG/data/decks.csv'"
     ]
    }
   ],
   "source": [
    "decks = pd.read_csv('C:/Users/muroc/Documents/MTG/data/decks.csv')"
   ]
  },
  {
   "cell_type": "code",
   "execution_count": 42,
   "metadata": {},
   "outputs": [],
   "source": [
    "decks = pd.read_csv('~/Documents/programs/python/MTGA_rarity_analysis/data/mtg_data.csv')"
   ]
  },
  {
   "cell_type": "code",
   "execution_count": 43,
   "metadata": {},
   "outputs": [],
   "source": [
    "decks_clean = decks.copy()"
   ]
  },
  {
   "cell_type": "code",
   "execution_count": 32,
   "metadata": {},
   "outputs": [],
   "source": [
    "decks_clean = pd.read_csv('~/Documents/MTGA_rarity_analysis/data/decks_clean.csv')"
   ]
  },
  {
   "cell_type": "markdown",
   "metadata": {},
   "source": [
    "# Assess"
   ]
  },
  {
   "cell_type": "code",
   "execution_count": 33,
   "metadata": {},
   "outputs": [
    {
     "data": {
      "text/html": [
       "<div>\n",
       "<style scoped>\n",
       "    .dataframe tbody tr th:only-of-type {\n",
       "        vertical-align: middle;\n",
       "    }\n",
       "\n",
       "    .dataframe tbody tr th {\n",
       "        vertical-align: top;\n",
       "    }\n",
       "\n",
       "    .dataframe thead th {\n",
       "        text-align: right;\n",
       "    }\n",
       "</style>\n",
       "<table border=\"1\" class=\"dataframe\">\n",
       "  <thead>\n",
       "    <tr style=\"text-align: right;\">\n",
       "      <th></th>\n",
       "      <th>player</th>\n",
       "      <th>url</th>\n",
       "      <th>deck_name</th>\n",
       "      <th>num</th>\n",
       "      <th>card_name</th>\n",
       "      <th>card_rarity</th>\n",
       "    </tr>\n",
       "  </thead>\n",
       "  <tbody>\n",
       "    <tr>\n",
       "      <td>0</td>\n",
       "      <td>Julian_Felix_Flury</td>\n",
       "      <td>https://www.mtgtop8.com/event?e=23581&amp;d=363309...</td>\n",
       "      <td>4c_Control</td>\n",
       "      <td>2</td>\n",
       "      <td>Forest</td>\n",
       "      <td>common</td>\n",
       "    </tr>\n",
       "    <tr>\n",
       "      <td>1</td>\n",
       "      <td>Robert_Lippmann</td>\n",
       "      <td>https://www.mtgtop8.com/event?e=23476&amp;d=362227...</td>\n",
       "      <td>4c_Elementals</td>\n",
       "      <td>4</td>\n",
       "      <td>Shock</td>\n",
       "      <td>common</td>\n",
       "    </tr>\n",
       "    <tr>\n",
       "      <td>2</td>\n",
       "      <td>Keylan_Steffins</td>\n",
       "      <td>https://www.mtgtop8.com/event?e=23516&amp;d=362603...</td>\n",
       "      <td>4c_Value</td>\n",
       "      <td>3</td>\n",
       "      <td>Forest</td>\n",
       "      <td>common</td>\n",
       "    </tr>\n",
       "    <tr>\n",
       "      <td>3</td>\n",
       "      <td>Wynand_Van_Zyl</td>\n",
       "      <td>https://www.mtgtop8.com/event?e=23773&amp;d=365167...</td>\n",
       "      <td>4_Color_Doom_</td>\n",
       "      <td>1</td>\n",
       "      <td>Island</td>\n",
       "      <td>common</td>\n",
       "    </tr>\n",
       "    <tr>\n",
       "      <td>4</td>\n",
       "      <td>Vincent_Choy</td>\n",
       "      <td>https://www.mtgtop8.com/event?e=23600&amp;d=363526...</td>\n",
       "      <td>5c_PW</td>\n",
       "      <td>1</td>\n",
       "      <td>Island</td>\n",
       "      <td>common</td>\n",
       "    </tr>\n",
       "  </tbody>\n",
       "</table>\n",
       "</div>"
      ],
      "text/plain": [
       "               player                                                url  \\\n",
       "0  Julian_Felix_Flury  https://www.mtgtop8.com/event?e=23581&d=363309...   \n",
       "1     Robert_Lippmann  https://www.mtgtop8.com/event?e=23476&d=362227...   \n",
       "2     Keylan_Steffins  https://www.mtgtop8.com/event?e=23516&d=362603...   \n",
       "3      Wynand_Van_Zyl  https://www.mtgtop8.com/event?e=23773&d=365167...   \n",
       "4        Vincent_Choy  https://www.mtgtop8.com/event?e=23600&d=363526...   \n",
       "\n",
       "       deck_name  num card_name card_rarity  \n",
       "0     4c_Control    2    Forest      common  \n",
       "1  4c_Elementals    4     Shock      common  \n",
       "2       4c_Value    3    Forest      common  \n",
       "3  4_Color_Doom_    1    Island      common  \n",
       "4          5c_PW    1    Island      common  "
      ]
     },
     "execution_count": 33,
     "metadata": {},
     "output_type": "execute_result"
    }
   ],
   "source": [
    "decks_clean.head()"
   ]
  },
  {
   "cell_type": "code",
   "execution_count": 53,
   "metadata": {},
   "outputs": [
    {
     "data": {
      "text/html": [
       "<div>\n",
       "<style scoped>\n",
       "    .dataframe tbody tr th:only-of-type {\n",
       "        vertical-align: middle;\n",
       "    }\n",
       "\n",
       "    .dataframe tbody tr th {\n",
       "        vertical-align: top;\n",
       "    }\n",
       "\n",
       "    .dataframe thead th {\n",
       "        text-align: right;\n",
       "    }\n",
       "</style>\n",
       "<table border=\"1\" class=\"dataframe\">\n",
       "  <thead>\n",
       "    <tr style=\"text-align: right;\">\n",
       "      <th></th>\n",
       "      <th>player</th>\n",
       "      <th>url</th>\n",
       "      <th>deck_name</th>\n",
       "      <th>num</th>\n",
       "      <th>card_name</th>\n",
       "    </tr>\n",
       "  </thead>\n",
       "  <tbody>\n",
       "    <tr>\n",
       "      <td>11046</td>\n",
       "      <td>Chingpai</td>\n",
       "      <td>https://www.mtgtop8.com/event?e=23587&amp;d=363362...</td>\n",
       "      <td>Jeskai_Planeswalker</td>\n",
       "      <td>1</td>\n",
       "      <td>Blast Zone</td>\n",
       "    </tr>\n",
       "    <tr>\n",
       "      <td>11047</td>\n",
       "      <td>Fulgence</td>\n",
       "      <td>https://www.mtgtop8.com/event?e=23856&amp;d=365902...</td>\n",
       "      <td>Niv-Mizzet_Reborn</td>\n",
       "      <td>1</td>\n",
       "      <td>Guild Globe,</td>\n",
       "    </tr>\n",
       "    <tr>\n",
       "      <td>11048</td>\n",
       "      <td>Chingpai</td>\n",
       "      <td>https://www.mtgtop8.com/event?e=23678&amp;d=364322...</td>\n",
       "      <td>Jeskai_Planeswalker</td>\n",
       "      <td>2</td>\n",
       "      <td>Interplanar Beacon,</td>\n",
       "    </tr>\n",
       "    <tr>\n",
       "      <td>11049</td>\n",
       "      <td>Chingpai</td>\n",
       "      <td>https://www.mtgtop8.com/event?e=23622&amp;d=363723...</td>\n",
       "      <td>Jeskai_Planeswalker</td>\n",
       "      <td>2</td>\n",
       "      <td>Interplanar Beacon,</td>\n",
       "    </tr>\n",
       "    <tr>\n",
       "      <td>11050</td>\n",
       "      <td>Chingpai</td>\n",
       "      <td>https://www.mtgtop8.com/event?e=23587&amp;d=363362...</td>\n",
       "      <td>Jeskai_Planeswalker</td>\n",
       "      <td>2</td>\n",
       "      <td>Interplanar Beacon,</td>\n",
       "    </tr>\n",
       "  </tbody>\n",
       "</table>\n",
       "</div>"
      ],
      "text/plain": [
       "         player                                                url  \\\n",
       "11046  Chingpai  https://www.mtgtop8.com/event?e=23587&d=363362...   \n",
       "11047  Fulgence  https://www.mtgtop8.com/event?e=23856&d=365902...   \n",
       "11048  Chingpai  https://www.mtgtop8.com/event?e=23678&d=364322...   \n",
       "11049  Chingpai  https://www.mtgtop8.com/event?e=23622&d=363723...   \n",
       "11050  Chingpai  https://www.mtgtop8.com/event?e=23587&d=363362...   \n",
       "\n",
       "                 deck_name num             card_name  \n",
       "11046  Jeskai_Planeswalker   1            Blast Zone  \n",
       "11047    Niv-Mizzet_Reborn   1         Guild Globe,   \n",
       "11048  Jeskai_Planeswalker   2  Interplanar Beacon,   \n",
       "11049  Jeskai_Planeswalker   2  Interplanar Beacon,   \n",
       "11050  Jeskai_Planeswalker   2  Interplanar Beacon,   "
      ]
     },
     "execution_count": 53,
     "metadata": {},
     "output_type": "execute_result"
    }
   ],
   "source": [
    "decks_clean.tail()"
   ]
  },
  {
   "cell_type": "code",
   "execution_count": 55,
   "metadata": {},
   "outputs": [
    {
     "data": {
      "text/html": [
       "<div>\n",
       "<style scoped>\n",
       "    .dataframe tbody tr th:only-of-type {\n",
       "        vertical-align: middle;\n",
       "    }\n",
       "\n",
       "    .dataframe tbody tr th {\n",
       "        vertical-align: top;\n",
       "    }\n",
       "\n",
       "    .dataframe thead th {\n",
       "        text-align: right;\n",
       "    }\n",
       "</style>\n",
       "<table border=\"1\" class=\"dataframe\">\n",
       "  <thead>\n",
       "    <tr style=\"text-align: right;\">\n",
       "      <th></th>\n",
       "      <th>player</th>\n",
       "      <th>url</th>\n",
       "      <th>deck_name</th>\n",
       "      <th>num</th>\n",
       "      <th>card_name</th>\n",
       "    </tr>\n",
       "  </thead>\n",
       "  <tbody>\n",
       "    <tr>\n",
       "      <td>10181</td>\n",
       "      <td>Dylan_Gottesman</td>\n",
       "      <td>https://www.mtgtop8.com/event?e=24059&amp;d=367919...</td>\n",
       "      <td>Jund_Sacrifice</td>\n",
       "      <td>4</td>\n",
       "      <td>Casualties of War</td>\n",
       "    </tr>\n",
       "    <tr>\n",
       "      <td>994</td>\n",
       "      <td>Kurt_Stockbrugger</td>\n",
       "      <td>https://www.mtgtop8.com/event?e=23600&amp;d=363527...</td>\n",
       "      <td>Esper_DOOM</td>\n",
       "      <td>2</td>\n",
       "      <td>Swamp</td>\n",
       "    </tr>\n",
       "    <tr>\n",
       "      <td>4980</td>\n",
       "      <td>Maesono_Kanta</td>\n",
       "      <td>https://www.mtgtop8.com/event?e=23968&amp;d=367033...</td>\n",
       "      <td>Adventure</td>\n",
       "      <td>4</td>\n",
       "      <td>Escape to the Wilds</td>\n",
       "    </tr>\n",
       "    <tr>\n",
       "      <td>4763</td>\n",
       "      <td>Erikhov_Maxim</td>\n",
       "      <td>https://www.mtgtop8.com/event?e=23741&amp;d=364838...</td>\n",
       "      <td>Mono-red_Aggro</td>\n",
       "      <td>4</td>\n",
       "      <td>Runaway Steam-Kin</td>\n",
       "    </tr>\n",
       "    <tr>\n",
       "      <td>3875</td>\n",
       "      <td>Hang_Sheng_Kwang</td>\n",
       "      <td>https://www.mtgtop8.com/event?e=23574&amp;d=363266...</td>\n",
       "      <td>Mono_Black</td>\n",
       "      <td>3</td>\n",
       "      <td>Midnight Reaper</td>\n",
       "    </tr>\n",
       "    <tr>\n",
       "      <td>9925</td>\n",
       "      <td>Chris_Yap</td>\n",
       "      <td>https://www.mtgtop8.com/event?e=23704&amp;d=364532...</td>\n",
       "      <td>Selesnya_Adventure</td>\n",
       "      <td>3</td>\n",
       "      <td>Gideon Blackblade</td>\n",
       "    </tr>\n",
       "    <tr>\n",
       "      <td>9604</td>\n",
       "      <td>Julian_John</td>\n",
       "      <td>https://www.mtgtop8.com/event?e=24054&amp;d=367877...</td>\n",
       "      <td>Simic_Flash</td>\n",
       "      <td>3</td>\n",
       "      <td>Paradise Druid</td>\n",
       "    </tr>\n",
       "    <tr>\n",
       "      <td>10317</td>\n",
       "      <td>Jeffery_Mullins</td>\n",
       "      <td>https://www.mtgtop8.com/event?e=23993&amp;d=367256...</td>\n",
       "      <td>Adventure</td>\n",
       "      <td>1</td>\n",
       "      <td>Planewide Celebration</td>\n",
       "    </tr>\n",
       "    <tr>\n",
       "      <td>5545</td>\n",
       "      <td>Venom1</td>\n",
       "      <td>https://www.mtgtop8.com/event?e=23925&amp;d=366567...</td>\n",
       "      <td>Golgari_Aggro</td>\n",
       "      <td>4</td>\n",
       "      <td>Midnight Reaper</td>\n",
       "    </tr>\n",
       "    <tr>\n",
       "      <td>1581</td>\n",
       "      <td>Peter_Yong</td>\n",
       "      <td>https://www.mtgtop8.com/event?e=24055&amp;d=367885...</td>\n",
       "      <td>Jund_Sacrifice</td>\n",
       "      <td>4</td>\n",
       "      <td>Blood Crypt</td>\n",
       "    </tr>\n",
       "  </tbody>\n",
       "</table>\n",
       "</div>"
      ],
      "text/plain": [
       "                  player                                                url  \\\n",
       "10181    Dylan_Gottesman  https://www.mtgtop8.com/event?e=24059&d=367919...   \n",
       "994    Kurt_Stockbrugger  https://www.mtgtop8.com/event?e=23600&d=363527...   \n",
       "4980       Maesono_Kanta  https://www.mtgtop8.com/event?e=23968&d=367033...   \n",
       "4763       Erikhov_Maxim  https://www.mtgtop8.com/event?e=23741&d=364838...   \n",
       "3875    Hang_Sheng_Kwang  https://www.mtgtop8.com/event?e=23574&d=363266...   \n",
       "9925           Chris_Yap  https://www.mtgtop8.com/event?e=23704&d=364532...   \n",
       "9604         Julian_John  https://www.mtgtop8.com/event?e=24054&d=367877...   \n",
       "10317    Jeffery_Mullins  https://www.mtgtop8.com/event?e=23993&d=367256...   \n",
       "5545              Venom1  https://www.mtgtop8.com/event?e=23925&d=366567...   \n",
       "1581          Peter_Yong  https://www.mtgtop8.com/event?e=24055&d=367885...   \n",
       "\n",
       "                deck_name num              card_name  \n",
       "10181      Jund_Sacrifice   4      Casualties of War  \n",
       "994            Esper_DOOM   2                  Swamp  \n",
       "4980            Adventure   4    Escape to the Wilds  \n",
       "4763       Mono-red_Aggro   4      Runaway Steam-Kin  \n",
       "3875           Mono_Black   3        Midnight Reaper  \n",
       "9925   Selesnya_Adventure   3      Gideon Blackblade  \n",
       "9604          Simic_Flash   3         Paradise Druid  \n",
       "10317           Adventure   1  Planewide Celebration  \n",
       "5545        Golgari_Aggro   4        Midnight Reaper  \n",
       "1581       Jund_Sacrifice   4            Blood Crypt  "
      ]
     },
     "execution_count": 55,
     "metadata": {},
     "output_type": "execute_result"
    }
   ],
   "source": [
    "decks_clean.sample(10)"
   ]
  },
  {
   "cell_type": "code",
   "execution_count": 56,
   "metadata": {},
   "outputs": [
    {
     "data": {
      "text/html": [
       "<div>\n",
       "<style scoped>\n",
       "    .dataframe tbody tr th:only-of-type {\n",
       "        vertical-align: middle;\n",
       "    }\n",
       "\n",
       "    .dataframe tbody tr th {\n",
       "        vertical-align: top;\n",
       "    }\n",
       "\n",
       "    .dataframe thead th {\n",
       "        text-align: right;\n",
       "    }\n",
       "</style>\n",
       "<table border=\"1\" class=\"dataframe\">\n",
       "  <thead>\n",
       "    <tr style=\"text-align: right;\">\n",
       "      <th></th>\n",
       "      <th>player</th>\n",
       "      <th>url</th>\n",
       "      <th>deck_name</th>\n",
       "      <th>num</th>\n",
       "      <th>card_name</th>\n",
       "    </tr>\n",
       "  </thead>\n",
       "  <tbody>\n",
       "    <tr>\n",
       "      <td>0</td>\n",
       "      <td>Julian_Felix_Flury</td>\n",
       "      <td>https://www.mtgtop8.com/event?e=23581&amp;d=363309...</td>\n",
       "      <td>4c_Control</td>\n",
       "      <td>2</td>\n",
       "      <td>Forest</td>\n",
       "    </tr>\n",
       "    <tr>\n",
       "      <td>1</td>\n",
       "      <td>Robert_Lippmann</td>\n",
       "      <td>https://www.mtgtop8.com/event?e=23476&amp;d=362227...</td>\n",
       "      <td>4c_Elementals</td>\n",
       "      <td>4</td>\n",
       "      <td>Shock</td>\n",
       "    </tr>\n",
       "    <tr>\n",
       "      <td>2</td>\n",
       "      <td>Keylan_Steffins</td>\n",
       "      <td>https://www.mtgtop8.com/event?e=23516&amp;d=362603...</td>\n",
       "      <td>4c_Value</td>\n",
       "      <td>3</td>\n",
       "      <td>Forest</td>\n",
       "    </tr>\n",
       "    <tr>\n",
       "      <td>3</td>\n",
       "      <td>Wynand_Van_Zyl</td>\n",
       "      <td>https://www.mtgtop8.com/event?e=23773&amp;d=365167...</td>\n",
       "      <td>4_Color_Doom_</td>\n",
       "      <td>1</td>\n",
       "      <td>Island</td>\n",
       "    </tr>\n",
       "    <tr>\n",
       "      <td>4</td>\n",
       "      <td>Vincent_Choy</td>\n",
       "      <td>https://www.mtgtop8.com/event?e=23600&amp;d=363526...</td>\n",
       "      <td>5c_PW</td>\n",
       "      <td>1</td>\n",
       "      <td>Island</td>\n",
       "    </tr>\n",
       "    <tr>\n",
       "      <td>...</td>\n",
       "      <td>...</td>\n",
       "      <td>...</td>\n",
       "      <td>...</td>\n",
       "      <td>...</td>\n",
       "      <td>...</td>\n",
       "    </tr>\n",
       "    <tr>\n",
       "      <td>11046</td>\n",
       "      <td>Chingpai</td>\n",
       "      <td>https://www.mtgtop8.com/event?e=23587&amp;d=363362...</td>\n",
       "      <td>Jeskai_Planeswalker</td>\n",
       "      <td>1</td>\n",
       "      <td>Blast Zone</td>\n",
       "    </tr>\n",
       "    <tr>\n",
       "      <td>11047</td>\n",
       "      <td>Fulgence</td>\n",
       "      <td>https://www.mtgtop8.com/event?e=23856&amp;d=365902...</td>\n",
       "      <td>Niv-Mizzet_Reborn</td>\n",
       "      <td>1</td>\n",
       "      <td>Guild Globe,</td>\n",
       "    </tr>\n",
       "    <tr>\n",
       "      <td>11048</td>\n",
       "      <td>Chingpai</td>\n",
       "      <td>https://www.mtgtop8.com/event?e=23678&amp;d=364322...</td>\n",
       "      <td>Jeskai_Planeswalker</td>\n",
       "      <td>2</td>\n",
       "      <td>Interplanar Beacon,</td>\n",
       "    </tr>\n",
       "    <tr>\n",
       "      <td>11049</td>\n",
       "      <td>Chingpai</td>\n",
       "      <td>https://www.mtgtop8.com/event?e=23622&amp;d=363723...</td>\n",
       "      <td>Jeskai_Planeswalker</td>\n",
       "      <td>2</td>\n",
       "      <td>Interplanar Beacon,</td>\n",
       "    </tr>\n",
       "    <tr>\n",
       "      <td>11050</td>\n",
       "      <td>Chingpai</td>\n",
       "      <td>https://www.mtgtop8.com/event?e=23587&amp;d=363362...</td>\n",
       "      <td>Jeskai_Planeswalker</td>\n",
       "      <td>2</td>\n",
       "      <td>Interplanar Beacon,</td>\n",
       "    </tr>\n",
       "  </tbody>\n",
       "</table>\n",
       "<p>11051 rows × 5 columns</p>\n",
       "</div>"
      ],
      "text/plain": [
       "                   player                                                url  \\\n",
       "0      Julian_Felix_Flury  https://www.mtgtop8.com/event?e=23581&d=363309...   \n",
       "1         Robert_Lippmann  https://www.mtgtop8.com/event?e=23476&d=362227...   \n",
       "2         Keylan_Steffins  https://www.mtgtop8.com/event?e=23516&d=362603...   \n",
       "3          Wynand_Van_Zyl  https://www.mtgtop8.com/event?e=23773&d=365167...   \n",
       "4            Vincent_Choy  https://www.mtgtop8.com/event?e=23600&d=363526...   \n",
       "...                   ...                                                ...   \n",
       "11046            Chingpai  https://www.mtgtop8.com/event?e=23587&d=363362...   \n",
       "11047            Fulgence  https://www.mtgtop8.com/event?e=23856&d=365902...   \n",
       "11048            Chingpai  https://www.mtgtop8.com/event?e=23678&d=364322...   \n",
       "11049            Chingpai  https://www.mtgtop8.com/event?e=23622&d=363723...   \n",
       "11050            Chingpai  https://www.mtgtop8.com/event?e=23587&d=363362...   \n",
       "\n",
       "                 deck_name num             card_name  \n",
       "0               4c_Control   2                Forest  \n",
       "1            4c_Elementals   4                 Shock  \n",
       "2                 4c_Value   3                Forest  \n",
       "3            4_Color_Doom_   1                Island  \n",
       "4                    5c_PW   1                Island  \n",
       "...                    ...  ..                   ...  \n",
       "11046  Jeskai_Planeswalker   1            Blast Zone  \n",
       "11047    Niv-Mizzet_Reborn   1         Guild Globe,   \n",
       "11048  Jeskai_Planeswalker   2  Interplanar Beacon,   \n",
       "11049  Jeskai_Planeswalker   2  Interplanar Beacon,   \n",
       "11050  Jeskai_Planeswalker   2  Interplanar Beacon,   \n",
       "\n",
       "[11051 rows x 5 columns]"
      ]
     },
     "execution_count": 56,
     "metadata": {},
     "output_type": "execute_result"
    }
   ],
   "source": [
    "decks_clean"
   ]
  },
  {
   "cell_type": "code",
   "execution_count": 64,
   "metadata": {},
   "outputs": [
    {
     "data": {
      "text/html": [
       "<div>\n",
       "<style scoped>\n",
       "    .dataframe tbody tr th:only-of-type {\n",
       "        vertical-align: middle;\n",
       "    }\n",
       "\n",
       "    .dataframe tbody tr th {\n",
       "        vertical-align: top;\n",
       "    }\n",
       "\n",
       "    .dataframe thead th {\n",
       "        text-align: right;\n",
       "    }\n",
       "</style>\n",
       "<table border=\"1\" class=\"dataframe\">\n",
       "  <thead>\n",
       "    <tr style=\"text-align: right;\">\n",
       "      <th></th>\n",
       "      <th>Unnamed: 0</th>\n",
       "      <th>player</th>\n",
       "      <th>url</th>\n",
       "      <th>name</th>\n",
       "      <th>cards</th>\n",
       "    </tr>\n",
       "  </thead>\n",
       "  <tbody>\n",
       "    <tr>\n",
       "      <td>0</td>\n",
       "      <td>0</td>\n",
       "      <td>Julian_Felix_Flury</td>\n",
       "      <td>https://www.mtgtop8.com/event?e=23581&amp;d=363309...</td>\n",
       "      <td>4c_Control</td>\n",
       "      <td>2 Forest</td>\n",
       "    </tr>\n",
       "    <tr>\n",
       "      <td>1</td>\n",
       "      <td>1</td>\n",
       "      <td>Robert_Lippmann</td>\n",
       "      <td>https://www.mtgtop8.com/event?e=23476&amp;d=362227...</td>\n",
       "      <td>4c_Elementals</td>\n",
       "      <td>4 Shock</td>\n",
       "    </tr>\n",
       "    <tr>\n",
       "      <td>2</td>\n",
       "      <td>2</td>\n",
       "      <td>Keylan_Steffins</td>\n",
       "      <td>https://www.mtgtop8.com/event?e=23516&amp;d=362603...</td>\n",
       "      <td>4c_Value</td>\n",
       "      <td>3 Forest</td>\n",
       "    </tr>\n",
       "    <tr>\n",
       "      <td>3</td>\n",
       "      <td>3</td>\n",
       "      <td>Wynand_Van_Zyl</td>\n",
       "      <td>https://www.mtgtop8.com/event?e=23773&amp;d=365167...</td>\n",
       "      <td>4_Color_Doom_</td>\n",
       "      <td>1 Island</td>\n",
       "    </tr>\n",
       "    <tr>\n",
       "      <td>4</td>\n",
       "      <td>4</td>\n",
       "      <td>Vincent_Choy</td>\n",
       "      <td>https://www.mtgtop8.com/event?e=23600&amp;d=363526...</td>\n",
       "      <td>5c_PW</td>\n",
       "      <td>1 Island</td>\n",
       "    </tr>\n",
       "    <tr>\n",
       "      <td>...</td>\n",
       "      <td>...</td>\n",
       "      <td>...</td>\n",
       "      <td>...</td>\n",
       "      <td>...</td>\n",
       "      <td>...</td>\n",
       "    </tr>\n",
       "    <tr>\n",
       "      <td>11046</td>\n",
       "      <td>17341</td>\n",
       "      <td>Chingpai</td>\n",
       "      <td>https://www.mtgtop8.com/event?e=23587&amp;d=363362...</td>\n",
       "      <td>Jeskai_Planeswalker</td>\n",
       "      <td>1 Blast Zone</td>\n",
       "    </tr>\n",
       "    <tr>\n",
       "      <td>11047</td>\n",
       "      <td>17416</td>\n",
       "      <td>Fulgence</td>\n",
       "      <td>https://www.mtgtop8.com/event?e=23856&amp;d=365902...</td>\n",
       "      <td>Niv-Mizzet_Reborn</td>\n",
       "      <td>1 Guild Globe,</td>\n",
       "    </tr>\n",
       "    <tr>\n",
       "      <td>11048</td>\n",
       "      <td>17790</td>\n",
       "      <td>Chingpai</td>\n",
       "      <td>https://www.mtgtop8.com/event?e=23678&amp;d=364322...</td>\n",
       "      <td>Jeskai_Planeswalker</td>\n",
       "      <td>2 Interplanar Beacon,</td>\n",
       "    </tr>\n",
       "    <tr>\n",
       "      <td>11049</td>\n",
       "      <td>17791</td>\n",
       "      <td>Chingpai</td>\n",
       "      <td>https://www.mtgtop8.com/event?e=23622&amp;d=363723...</td>\n",
       "      <td>Jeskai_Planeswalker</td>\n",
       "      <td>2 Interplanar Beacon,</td>\n",
       "    </tr>\n",
       "    <tr>\n",
       "      <td>11050</td>\n",
       "      <td>17792</td>\n",
       "      <td>Chingpai</td>\n",
       "      <td>https://www.mtgtop8.com/event?e=23587&amp;d=363362...</td>\n",
       "      <td>Jeskai_Planeswalker</td>\n",
       "      <td>2 Interplanar Beacon,</td>\n",
       "    </tr>\n",
       "  </tbody>\n",
       "</table>\n",
       "<p>11051 rows × 5 columns</p>\n",
       "</div>"
      ],
      "text/plain": [
       "       Unnamed: 0              player  \\\n",
       "0               0  Julian_Felix_Flury   \n",
       "1               1     Robert_Lippmann   \n",
       "2               2     Keylan_Steffins   \n",
       "3               3      Wynand_Van_Zyl   \n",
       "4               4        Vincent_Choy   \n",
       "...           ...                 ...   \n",
       "11046       17341            Chingpai   \n",
       "11047       17416            Fulgence   \n",
       "11048       17790            Chingpai   \n",
       "11049       17791            Chingpai   \n",
       "11050       17792            Chingpai   \n",
       "\n",
       "                                                     url                 name  \\\n",
       "0      https://www.mtgtop8.com/event?e=23581&d=363309...           4c_Control   \n",
       "1      https://www.mtgtop8.com/event?e=23476&d=362227...        4c_Elementals   \n",
       "2      https://www.mtgtop8.com/event?e=23516&d=362603...             4c_Value   \n",
       "3      https://www.mtgtop8.com/event?e=23773&d=365167...        4_Color_Doom_   \n",
       "4      https://www.mtgtop8.com/event?e=23600&d=363526...                5c_PW   \n",
       "...                                                  ...                  ...   \n",
       "11046  https://www.mtgtop8.com/event?e=23587&d=363362...  Jeskai_Planeswalker   \n",
       "11047  https://www.mtgtop8.com/event?e=23856&d=365902...    Niv-Mizzet_Reborn   \n",
       "11048  https://www.mtgtop8.com/event?e=23678&d=364322...  Jeskai_Planeswalker   \n",
       "11049  https://www.mtgtop8.com/event?e=23622&d=363723...  Jeskai_Planeswalker   \n",
       "11050  https://www.mtgtop8.com/event?e=23587&d=363362...  Jeskai_Planeswalker   \n",
       "\n",
       "                        cards  \n",
       "0                    2 Forest  \n",
       "1                     4 Shock  \n",
       "2                    3 Forest  \n",
       "3                    1 Island  \n",
       "4                    1 Island  \n",
       "...                       ...  \n",
       "11046            1 Blast Zone  \n",
       "11047         1 Guild Globe,   \n",
       "11048  2 Interplanar Beacon,   \n",
       "11049  2 Interplanar Beacon,   \n",
       "11050  2 Interplanar Beacon,   \n",
       "\n",
       "[11051 rows x 5 columns]"
      ]
     },
     "execution_count": 64,
     "metadata": {},
     "output_type": "execute_result"
    }
   ],
   "source": [
    "decks"
   ]
  },
  {
   "cell_type": "markdown",
   "metadata": {},
   "source": [
    "## Assessment\n",
    "- [done] deck_list column has , for delimiter but names can also have a comma\n",
    "- [done] cards are in one column\n",
    "- [done] multiple cards are in one object\n",
    "- [done] card number and card name are the same object\n",
    "- [done] null values in `deck_list` column\n",
    "- [done] rarities not present in the data\n",
    "- [done] some card names still have a comma at the end\n",
    "- some decks have multiple observations\n",
    "- many cards have nan values for rarity\n",
    "- dual cards are considered two cards in standard_sets_clean but only one card in decks_clean"
   ]
  },
  {
   "cell_type": "markdown",
   "metadata": {},
   "source": [
    "# Clean"
   ]
  },
  {
   "cell_type": "markdown",
   "metadata": {},
   "source": [
    "## Define\n",
    "- filter for any lists in `deck_list` that have null values in it"
   ]
  },
  {
   "cell_type": "markdown",
   "metadata": {},
   "source": [
    "## Code"
   ]
  },
  {
   "cell_type": "code",
   "execution_count": 11,
   "metadata": {},
   "outputs": [],
   "source": [
    "decks_clean.deck_list = decks_clean[decks_clean.astype(str)['deck_list'] != \"['nan']\"]"
   ]
  },
  {
   "cell_type": "markdown",
   "metadata": {},
   "source": [
    "## Test"
   ]
  },
  {
   "cell_type": "code",
   "execution_count": 12,
   "metadata": {},
   "outputs": [
    {
     "data": {
      "text/html": [
       "<div>\n",
       "<style scoped>\n",
       "    .dataframe tbody tr th:only-of-type {\n",
       "        vertical-align: middle;\n",
       "    }\n",
       "\n",
       "    .dataframe tbody tr th {\n",
       "        vertical-align: top;\n",
       "    }\n",
       "\n",
       "    .dataframe thead th {\n",
       "        text-align: right;\n",
       "    }\n",
       "</style>\n",
       "<table border=\"1\" class=\"dataframe\">\n",
       "  <thead>\n",
       "    <tr style=\"text-align: right;\">\n",
       "      <th></th>\n",
       "      <th>deck_list</th>\n",
       "      <th>player</th>\n",
       "      <th>url</th>\n",
       "      <th>name</th>\n",
       "    </tr>\n",
       "  </thead>\n",
       "  <tbody>\n",
       "  </tbody>\n",
       "</table>\n",
       "</div>"
      ],
      "text/plain": [
       "Empty DataFrame\n",
       "Columns: [deck_list, player, url, name]\n",
       "Index: []"
      ]
     },
     "execution_count": 12,
     "metadata": {},
     "output_type": "execute_result"
    }
   ],
   "source": [
    "decks_clean[decks_clean.astype(str)['deck_list'] == \"['nan']\"]"
   ]
  },
  {
   "cell_type": "markdown",
   "metadata": {},
   "source": [
    "## Define\n",
    "- make , in `deck_list` into '|' without mistaking commas in names"
   ]
  },
  {
   "cell_type": "markdown",
   "metadata": {},
   "source": [
    "## Code"
   ]
  },
  {
   "cell_type": "code",
   "execution_count": 14,
   "metadata": {},
   "outputs": [],
   "source": [
    "decks_clean.deck_list = decks_clean.deck_list.str.replace(', (?=\\d)', '|')"
   ]
  },
  {
   "cell_type": "markdown",
   "metadata": {},
   "source": [
    "## Define\n",
    "- split `deck_list` by card"
   ]
  },
  {
   "cell_type": "markdown",
   "metadata": {},
   "source": [
    "## Code"
   ]
  },
  {
   "cell_type": "code",
   "execution_count": 15,
   "metadata": {},
   "outputs": [],
   "source": [
    "new = decks_clean.deck_list.str.split('|', expand=True)\n",
    "decks_clean = decks_clean.join(new)"
   ]
  },
  {
   "cell_type": "markdown",
   "metadata": {},
   "source": [
    "## Test"
   ]
  },
  {
   "cell_type": "code",
   "execution_count": 16,
   "metadata": {
    "collapsed": true,
    "jupyter": {
     "outputs_hidden": true
    }
   },
   "outputs": [
    {
     "data": {
      "text/html": [
       "<div>\n",
       "<style scoped>\n",
       "    .dataframe tbody tr th:only-of-type {\n",
       "        vertical-align: middle;\n",
       "    }\n",
       "\n",
       "    .dataframe tbody tr th {\n",
       "        vertical-align: top;\n",
       "    }\n",
       "\n",
       "    .dataframe thead th {\n",
       "        text-align: right;\n",
       "    }\n",
       "</style>\n",
       "<table border=\"1\" class=\"dataframe\">\n",
       "  <thead>\n",
       "    <tr style=\"text-align: right;\">\n",
       "      <th></th>\n",
       "      <th>deck_list</th>\n",
       "      <th>player</th>\n",
       "      <th>url</th>\n",
       "      <th>name</th>\n",
       "      <th>0</th>\n",
       "      <th>1</th>\n",
       "      <th>2</th>\n",
       "      <th>3</th>\n",
       "      <th>4</th>\n",
       "      <th>5</th>\n",
       "      <th>...</th>\n",
       "      <th>30</th>\n",
       "      <th>31</th>\n",
       "      <th>32</th>\n",
       "      <th>33</th>\n",
       "      <th>34</th>\n",
       "      <th>35</th>\n",
       "      <th>36</th>\n",
       "      <th>37</th>\n",
       "      <th>38</th>\n",
       "      <th>39</th>\n",
       "    </tr>\n",
       "  </thead>\n",
       "  <tbody>\n",
       "    <tr>\n",
       "      <td>0</td>\n",
       "      <td>2 Forest|1 Island|1 Mountain|2 Swamp|3 Breedin...</td>\n",
       "      <td>Julian_Felix_Flury</td>\n",
       "      <td>https://www.mtgtop8.com/event?e=23581&amp;d=363309...</td>\n",
       "      <td>4c_Control</td>\n",
       "      <td>2 Forest</td>\n",
       "      <td>1 Island</td>\n",
       "      <td>1 Mountain</td>\n",
       "      <td>2 Swamp</td>\n",
       "      <td>3 Breeding Pool</td>\n",
       "      <td>2 Mystical Dispute</td>\n",
       "      <td>...</td>\n",
       "      <td>None</td>\n",
       "      <td>None</td>\n",
       "      <td>None</td>\n",
       "      <td>None</td>\n",
       "      <td>None</td>\n",
       "      <td>None</td>\n",
       "      <td>None</td>\n",
       "      <td>None</td>\n",
       "      <td>None</td>\n",
       "      <td>None</td>\n",
       "    </tr>\n",
       "    <tr>\n",
       "      <td>1</td>\n",
       "      <td>4 Shock|1 Forest|1 Island|1 Mountain|1 Swamp|1...</td>\n",
       "      <td>Robert_Lippmann</td>\n",
       "      <td>https://www.mtgtop8.com/event?e=23476&amp;d=362227...</td>\n",
       "      <td>4c_Elementals</td>\n",
       "      <td>4 Shock</td>\n",
       "      <td>1 Forest</td>\n",
       "      <td>1 Island</td>\n",
       "      <td>1 Mountain</td>\n",
       "      <td>1 Swamp</td>\n",
       "      <td>1 Blood Crypt</td>\n",
       "      <td>...</td>\n",
       "      <td>2 Overgrown Tomb</td>\n",
       "      <td>2 Watery Grave</td>\n",
       "      <td>1 Temple of Mystery</td>\n",
       "      <td>3 Neoform,</td>\n",
       "      <td>None</td>\n",
       "      <td>None</td>\n",
       "      <td>None</td>\n",
       "      <td>None</td>\n",
       "      <td>None</td>\n",
       "      <td>None</td>\n",
       "    </tr>\n",
       "    <tr>\n",
       "      <td>2</td>\n",
       "      <td>3 Forest|1 Island|2 Plains|1 Swamp|4 Breeding ...</td>\n",
       "      <td>Keylan_Steffins</td>\n",
       "      <td>https://www.mtgtop8.com/event?e=23516&amp;d=362603...</td>\n",
       "      <td>4c_Value</td>\n",
       "      <td>3 Forest</td>\n",
       "      <td>1 Island</td>\n",
       "      <td>2 Plains</td>\n",
       "      <td>1 Swamp</td>\n",
       "      <td>4 Breeding Pool</td>\n",
       "      <td>4 Gilded Goose</td>\n",
       "      <td>...</td>\n",
       "      <td>None</td>\n",
       "      <td>None</td>\n",
       "      <td>None</td>\n",
       "      <td>None</td>\n",
       "      <td>None</td>\n",
       "      <td>None</td>\n",
       "      <td>None</td>\n",
       "      <td>None</td>\n",
       "      <td>None</td>\n",
       "      <td>None</td>\n",
       "    </tr>\n",
       "    <tr>\n",
       "      <td>3</td>\n",
       "      <td>1 Island|1 Mountain|2 Plains|3 Swamp|2 Blood C...</td>\n",
       "      <td>Wynand_Van_Zyl</td>\n",
       "      <td>https://www.mtgtop8.com/event?e=23773&amp;d=365167...</td>\n",
       "      <td>4_Color_Doom_</td>\n",
       "      <td>1 Island</td>\n",
       "      <td>1 Mountain</td>\n",
       "      <td>2 Plains</td>\n",
       "      <td>3 Swamp</td>\n",
       "      <td>2 Blood Crypt</td>\n",
       "      <td>1 Hallowed Fountain</td>\n",
       "      <td>...</td>\n",
       "      <td>4 Oath of Kaya</td>\n",
       "      <td>4 Guild Globe</td>\n",
       "      <td>2 Sorcerous Spyglass,</td>\n",
       "      <td>None</td>\n",
       "      <td>None</td>\n",
       "      <td>None</td>\n",
       "      <td>None</td>\n",
       "      <td>None</td>\n",
       "      <td>None</td>\n",
       "      <td>None</td>\n",
       "    </tr>\n",
       "    <tr>\n",
       "      <td>4</td>\n",
       "      <td>1 Island|1 Mountain|1 Plains|4 Hallowed Founta...</td>\n",
       "      <td>Vincent_Choy</td>\n",
       "      <td>https://www.mtgtop8.com/event?e=23600&amp;d=363526...</td>\n",
       "      <td>5c_PW</td>\n",
       "      <td>1 Island</td>\n",
       "      <td>1 Mountain</td>\n",
       "      <td>1 Plains</td>\n",
       "      <td>4 Hallowed Fountain</td>\n",
       "      <td>3 Fae of Wishes</td>\n",
       "      <td>4 Fires of Invention</td>\n",
       "      <td>...</td>\n",
       "      <td>4 Teferi, Time Raveler</td>\n",
       "      <td>1 Time Wipe</td>\n",
       "      <td>1 Ashiok, Dream Render</td>\n",
       "      <td>1 Blast Zone</td>\n",
       "      <td>4 Interplanar Beacon</td>\n",
       "      <td>1 Karn's Bastion</td>\n",
       "      <td>1 Sorcerous Spyglass,</td>\n",
       "      <td>None</td>\n",
       "      <td>None</td>\n",
       "      <td>None</td>\n",
       "    </tr>\n",
       "  </tbody>\n",
       "</table>\n",
       "<p>5 rows × 44 columns</p>\n",
       "</div>"
      ],
      "text/plain": [
       "                                           deck_list              player  \\\n",
       "0  2 Forest|1 Island|1 Mountain|2 Swamp|3 Breedin...  Julian_Felix_Flury   \n",
       "1  4 Shock|1 Forest|1 Island|1 Mountain|1 Swamp|1...     Robert_Lippmann   \n",
       "2  3 Forest|1 Island|2 Plains|1 Swamp|4 Breeding ...     Keylan_Steffins   \n",
       "3  1 Island|1 Mountain|2 Plains|3 Swamp|2 Blood C...      Wynand_Van_Zyl   \n",
       "4  1 Island|1 Mountain|1 Plains|4 Hallowed Founta...        Vincent_Choy   \n",
       "\n",
       "                                                 url           name         0  \\\n",
       "0  https://www.mtgtop8.com/event?e=23581&d=363309...     4c_Control  2 Forest   \n",
       "1  https://www.mtgtop8.com/event?e=23476&d=362227...  4c_Elementals   4 Shock   \n",
       "2  https://www.mtgtop8.com/event?e=23516&d=362603...       4c_Value  3 Forest   \n",
       "3  https://www.mtgtop8.com/event?e=23773&d=365167...  4_Color_Doom_  1 Island   \n",
       "4  https://www.mtgtop8.com/event?e=23600&d=363526...          5c_PW  1 Island   \n",
       "\n",
       "            1           2                    3                4  \\\n",
       "0    1 Island  1 Mountain              2 Swamp  3 Breeding Pool   \n",
       "1    1 Forest    1 Island           1 Mountain          1 Swamp   \n",
       "2    1 Island    2 Plains              1 Swamp  4 Breeding Pool   \n",
       "3  1 Mountain    2 Plains              3 Swamp    2 Blood Crypt   \n",
       "4  1 Mountain    1 Plains  4 Hallowed Fountain  3 Fae of Wishes   \n",
       "\n",
       "                      5  ...                      30              31  \\\n",
       "0    2 Mystical Dispute  ...                    None            None   \n",
       "1         1 Blood Crypt  ...        2 Overgrown Tomb  2 Watery Grave   \n",
       "2        4 Gilded Goose  ...                    None            None   \n",
       "3   1 Hallowed Fountain  ...          4 Oath of Kaya   4 Guild Globe   \n",
       "4  4 Fires of Invention  ...  4 Teferi, Time Raveler     1 Time Wipe   \n",
       "\n",
       "                       32            33                    34  \\\n",
       "0                    None          None                  None   \n",
       "1     1 Temple of Mystery   3 Neoform,                   None   \n",
       "2                    None          None                  None   \n",
       "3  2 Sorcerous Spyglass,           None                  None   \n",
       "4  1 Ashiok, Dream Render  1 Blast Zone  4 Interplanar Beacon   \n",
       "\n",
       "                 35                      36    37    38    39  \n",
       "0              None                    None  None  None  None  \n",
       "1              None                    None  None  None  None  \n",
       "2              None                    None  None  None  None  \n",
       "3              None                    None  None  None  None  \n",
       "4  1 Karn's Bastion  1 Sorcerous Spyglass,   None  None  None  \n",
       "\n",
       "[5 rows x 44 columns]"
      ]
     },
     "execution_count": 16,
     "metadata": {},
     "output_type": "execute_result"
    }
   ],
   "source": [
    "decks_clean.head()"
   ]
  },
  {
   "cell_type": "markdown",
   "metadata": {},
   "source": [
    "## Define \n",
    "- melt cards into one column"
   ]
  },
  {
   "cell_type": "markdown",
   "metadata": {},
   "source": [
    "## Code"
   ]
  },
  {
   "cell_type": "code",
   "execution_count": 17,
   "metadata": {},
   "outputs": [],
   "source": [
    "decks_clean = pd.melt(decks_clean, id_vars=['deck_list', 'player', 'url', 'name'], value_vars=decks_clean.columns[4:45])"
   ]
  },
  {
   "cell_type": "code",
   "execution_count": 18,
   "metadata": {},
   "outputs": [],
   "source": [
    "decks_clean = decks_clean.rename(columns={'value':'cards'}).drop(columns=['deck_list', 'variable'])"
   ]
  },
  {
   "cell_type": "markdown",
   "metadata": {},
   "source": [
    "## Test"
   ]
  },
  {
   "cell_type": "code",
   "execution_count": 19,
   "metadata": {},
   "outputs": [
    {
     "data": {
      "text/plain": [
       "(18040, 4)"
      ]
     },
     "execution_count": 19,
     "metadata": {},
     "output_type": "execute_result"
    }
   ],
   "source": [
    "decks_clean.shape"
   ]
  },
  {
   "cell_type": "code",
   "execution_count": 20,
   "metadata": {},
   "outputs": [
    {
     "data": {
      "text/html": [
       "<div>\n",
       "<style scoped>\n",
       "    .dataframe tbody tr th:only-of-type {\n",
       "        vertical-align: middle;\n",
       "    }\n",
       "\n",
       "    .dataframe tbody tr th {\n",
       "        vertical-align: top;\n",
       "    }\n",
       "\n",
       "    .dataframe thead th {\n",
       "        text-align: right;\n",
       "    }\n",
       "</style>\n",
       "<table border=\"1\" class=\"dataframe\">\n",
       "  <thead>\n",
       "    <tr style=\"text-align: right;\">\n",
       "      <th></th>\n",
       "      <th>player</th>\n",
       "      <th>url</th>\n",
       "      <th>name</th>\n",
       "      <th>cards</th>\n",
       "    </tr>\n",
       "  </thead>\n",
       "  <tbody>\n",
       "    <tr>\n",
       "      <td>0</td>\n",
       "      <td>Julian_Felix_Flury</td>\n",
       "      <td>https://www.mtgtop8.com/event?e=23581&amp;d=363309...</td>\n",
       "      <td>4c_Control</td>\n",
       "      <td>2 Forest</td>\n",
       "    </tr>\n",
       "    <tr>\n",
       "      <td>1</td>\n",
       "      <td>Robert_Lippmann</td>\n",
       "      <td>https://www.mtgtop8.com/event?e=23476&amp;d=362227...</td>\n",
       "      <td>4c_Elementals</td>\n",
       "      <td>4 Shock</td>\n",
       "    </tr>\n",
       "    <tr>\n",
       "      <td>2</td>\n",
       "      <td>Keylan_Steffins</td>\n",
       "      <td>https://www.mtgtop8.com/event?e=23516&amp;d=362603...</td>\n",
       "      <td>4c_Value</td>\n",
       "      <td>3 Forest</td>\n",
       "    </tr>\n",
       "    <tr>\n",
       "      <td>3</td>\n",
       "      <td>Wynand_Van_Zyl</td>\n",
       "      <td>https://www.mtgtop8.com/event?e=23773&amp;d=365167...</td>\n",
       "      <td>4_Color_Doom_</td>\n",
       "      <td>1 Island</td>\n",
       "    </tr>\n",
       "    <tr>\n",
       "      <td>4</td>\n",
       "      <td>Vincent_Choy</td>\n",
       "      <td>https://www.mtgtop8.com/event?e=23600&amp;d=363526...</td>\n",
       "      <td>5c_PW</td>\n",
       "      <td>1 Island</td>\n",
       "    </tr>\n",
       "  </tbody>\n",
       "</table>\n",
       "</div>"
      ],
      "text/plain": [
       "               player                                                url  \\\n",
       "0  Julian_Felix_Flury  https://www.mtgtop8.com/event?e=23581&d=363309...   \n",
       "1     Robert_Lippmann  https://www.mtgtop8.com/event?e=23476&d=362227...   \n",
       "2     Keylan_Steffins  https://www.mtgtop8.com/event?e=23516&d=362603...   \n",
       "3      Wynand_Van_Zyl  https://www.mtgtop8.com/event?e=23773&d=365167...   \n",
       "4        Vincent_Choy  https://www.mtgtop8.com/event?e=23600&d=363526...   \n",
       "\n",
       "            name     cards  \n",
       "0     4c_Control  2 Forest  \n",
       "1  4c_Elementals   4 Shock  \n",
       "2       4c_Value  3 Forest  \n",
       "3  4_Color_Doom_  1 Island  \n",
       "4          5c_PW  1 Island  "
      ]
     },
     "execution_count": 20,
     "metadata": {},
     "output_type": "execute_result"
    }
   ],
   "source": [
    "decks_clean.head()"
   ]
  },
  {
   "cell_type": "markdown",
   "metadata": {},
   "source": [
    "## Define\n",
    "- drop rows that have 'None' in them"
   ]
  },
  {
   "cell_type": "markdown",
   "metadata": {},
   "source": [
    "## Code"
   ]
  },
  {
   "cell_type": "code",
   "execution_count": 21,
   "metadata": {},
   "outputs": [],
   "source": [
    "decks_clean.cards = decks_clean.cards.astype('str')"
   ]
  },
  {
   "cell_type": "code",
   "execution_count": 22,
   "metadata": {},
   "outputs": [],
   "source": [
    "decks_clean = decks_clean[decks_clean.cards != 'None']"
   ]
  },
  {
   "cell_type": "code",
   "execution_count": 46,
   "metadata": {},
   "outputs": [],
   "source": [
    "decks_clean.to_csv('~/Documents/programs/python/MTGA_rarity_analysis/data/decks_clean.csv', index=False)"
   ]
  },
  {
   "cell_type": "markdown",
   "metadata": {},
   "source": [
    "## Test"
   ]
  },
  {
   "cell_type": "code",
   "execution_count": 65,
   "metadata": {
    "collapsed": true,
    "jupyter": {
     "outputs_hidden": true
    }
   },
   "outputs": [
    {
     "ename": "AttributeError",
     "evalue": "'DataFrame' object has no attribute 'cards'",
     "output_type": "error",
     "traceback": [
      "\u001b[0;31m---------------------------------------------------------------------------\u001b[0m",
      "\u001b[0;31mAttributeError\u001b[0m                            Traceback (most recent call last)",
      "\u001b[0;32m<ipython-input-65-6dd5e75a16ba>\u001b[0m in \u001b[0;36m<module>\u001b[0;34m\u001b[0m\n\u001b[0;32m----> 1\u001b[0;31m \u001b[0mdecks_clean\u001b[0m\u001b[0;34m[\u001b[0m\u001b[0mdecks_clean\u001b[0m\u001b[0;34m.\u001b[0m\u001b[0mcards\u001b[0m \u001b[0;32min\u001b[0m \u001b[0;34m'None'\u001b[0m\u001b[0;34m]\u001b[0m\u001b[0;34m\u001b[0m\u001b[0;34m\u001b[0m\u001b[0m\n\u001b[0m",
      "\u001b[0;32m~/anaconda3/lib/python3.7/site-packages/pandas/core/generic.py\u001b[0m in \u001b[0;36m__getattr__\u001b[0;34m(self, name)\u001b[0m\n\u001b[1;32m   5177\u001b[0m             \u001b[0;32mif\u001b[0m \u001b[0mself\u001b[0m\u001b[0;34m.\u001b[0m\u001b[0m_info_axis\u001b[0m\u001b[0;34m.\u001b[0m\u001b[0m_can_hold_identifiers_and_holds_name\u001b[0m\u001b[0;34m(\u001b[0m\u001b[0mname\u001b[0m\u001b[0;34m)\u001b[0m\u001b[0;34m:\u001b[0m\u001b[0;34m\u001b[0m\u001b[0;34m\u001b[0m\u001b[0m\n\u001b[1;32m   5178\u001b[0m                 \u001b[0;32mreturn\u001b[0m \u001b[0mself\u001b[0m\u001b[0;34m[\u001b[0m\u001b[0mname\u001b[0m\u001b[0;34m]\u001b[0m\u001b[0;34m\u001b[0m\u001b[0;34m\u001b[0m\u001b[0m\n\u001b[0;32m-> 5179\u001b[0;31m             \u001b[0;32mreturn\u001b[0m \u001b[0mobject\u001b[0m\u001b[0;34m.\u001b[0m\u001b[0m__getattribute__\u001b[0m\u001b[0;34m(\u001b[0m\u001b[0mself\u001b[0m\u001b[0;34m,\u001b[0m \u001b[0mname\u001b[0m\u001b[0;34m)\u001b[0m\u001b[0;34m\u001b[0m\u001b[0;34m\u001b[0m\u001b[0m\n\u001b[0m\u001b[1;32m   5180\u001b[0m \u001b[0;34m\u001b[0m\u001b[0m\n\u001b[1;32m   5181\u001b[0m     \u001b[0;32mdef\u001b[0m \u001b[0m__setattr__\u001b[0m\u001b[0;34m(\u001b[0m\u001b[0mself\u001b[0m\u001b[0;34m,\u001b[0m \u001b[0mname\u001b[0m\u001b[0;34m,\u001b[0m \u001b[0mvalue\u001b[0m\u001b[0;34m)\u001b[0m\u001b[0;34m:\u001b[0m\u001b[0;34m\u001b[0m\u001b[0;34m\u001b[0m\u001b[0m\n",
      "\u001b[0;31mAttributeError\u001b[0m: 'DataFrame' object has no attribute 'cards'"
     ]
    }
   ],
   "source": [
    "decks_clean[decks_clean.cards in 'None']"
   ]
  },
  {
   "cell_type": "markdown",
   "metadata": {},
   "source": [
    "## Define\n",
    "- get numbers out of `cards` column"
   ]
  },
  {
   "cell_type": "markdown",
   "metadata": {},
   "source": [
    "## Code"
   ]
  },
  {
   "cell_type": "code",
   "execution_count": 48,
   "metadata": {},
   "outputs": [],
   "source": [
    "new = decks_clean.cards.str.split('(?<=\\d)\\s', expand=True)\n",
    "decks_clean = decks_clean.join(new).rename(columns={'name':'deck_name', 0:'num', 1:'card_name'}).drop(columns=['cards'])"
   ]
  },
  {
   "cell_type": "markdown",
   "metadata": {},
   "source": [
    "## Test"
   ]
  },
  {
   "cell_type": "code",
   "execution_count": 49,
   "metadata": {},
   "outputs": [
    {
     "data": {
      "text/html": [
       "<div>\n",
       "<style scoped>\n",
       "    .dataframe tbody tr th:only-of-type {\n",
       "        vertical-align: middle;\n",
       "    }\n",
       "\n",
       "    .dataframe tbody tr th {\n",
       "        vertical-align: top;\n",
       "    }\n",
       "\n",
       "    .dataframe thead th {\n",
       "        text-align: right;\n",
       "    }\n",
       "</style>\n",
       "<table border=\"1\" class=\"dataframe\">\n",
       "  <thead>\n",
       "    <tr style=\"text-align: right;\">\n",
       "      <th></th>\n",
       "      <th>player</th>\n",
       "      <th>url</th>\n",
       "      <th>deck_name</th>\n",
       "      <th>num</th>\n",
       "      <th>card_name</th>\n",
       "    </tr>\n",
       "  </thead>\n",
       "  <tbody>\n",
       "    <tr>\n",
       "      <td>0</td>\n",
       "      <td>Julian_Felix_Flury</td>\n",
       "      <td>https://www.mtgtop8.com/event?e=23581&amp;d=363309...</td>\n",
       "      <td>4c_Control</td>\n",
       "      <td>2</td>\n",
       "      <td>Forest</td>\n",
       "    </tr>\n",
       "    <tr>\n",
       "      <td>1</td>\n",
       "      <td>Robert_Lippmann</td>\n",
       "      <td>https://www.mtgtop8.com/event?e=23476&amp;d=362227...</td>\n",
       "      <td>4c_Elementals</td>\n",
       "      <td>4</td>\n",
       "      <td>Shock</td>\n",
       "    </tr>\n",
       "    <tr>\n",
       "      <td>2</td>\n",
       "      <td>Keylan_Steffins</td>\n",
       "      <td>https://www.mtgtop8.com/event?e=23516&amp;d=362603...</td>\n",
       "      <td>4c_Value</td>\n",
       "      <td>3</td>\n",
       "      <td>Forest</td>\n",
       "    </tr>\n",
       "    <tr>\n",
       "      <td>3</td>\n",
       "      <td>Wynand_Van_Zyl</td>\n",
       "      <td>https://www.mtgtop8.com/event?e=23773&amp;d=365167...</td>\n",
       "      <td>4_Color_Doom_</td>\n",
       "      <td>1</td>\n",
       "      <td>Island</td>\n",
       "    </tr>\n",
       "    <tr>\n",
       "      <td>4</td>\n",
       "      <td>Vincent_Choy</td>\n",
       "      <td>https://www.mtgtop8.com/event?e=23600&amp;d=363526...</td>\n",
       "      <td>5c_PW</td>\n",
       "      <td>1</td>\n",
       "      <td>Island</td>\n",
       "    </tr>\n",
       "  </tbody>\n",
       "</table>\n",
       "</div>"
      ],
      "text/plain": [
       "               player                                                url  \\\n",
       "0  Julian_Felix_Flury  https://www.mtgtop8.com/event?e=23581&d=363309...   \n",
       "1     Robert_Lippmann  https://www.mtgtop8.com/event?e=23476&d=362227...   \n",
       "2     Keylan_Steffins  https://www.mtgtop8.com/event?e=23516&d=362603...   \n",
       "3      Wynand_Van_Zyl  https://www.mtgtop8.com/event?e=23773&d=365167...   \n",
       "4        Vincent_Choy  https://www.mtgtop8.com/event?e=23600&d=363526...   \n",
       "\n",
       "       deck_name num card_name  \n",
       "0     4c_Control   2    Forest  \n",
       "1  4c_Elementals   4     Shock  \n",
       "2       4c_Value   3    Forest  \n",
       "3  4_Color_Doom_   1    Island  \n",
       "4          5c_PW   1    Island  "
      ]
     },
     "execution_count": 49,
     "metadata": {},
     "output_type": "execute_result"
    }
   ],
   "source": [
    "decks_clean.head()"
   ]
  },
  {
   "cell_type": "code",
   "execution_count": 50,
   "metadata": {},
   "outputs": [],
   "source": [
    "decks_clean.to_csv('~/Documents/programs/python/MTGA_rarity_analysis/data/decks_clean.csv', index=False)"
   ]
  },
  {
   "cell_type": "markdown",
   "metadata": {},
   "source": [
    "## Define\n",
    "- Add card rarity to decks_clean"
   ]
  },
  {
   "cell_type": "code",
   "execution_count": 11,
   "metadata": {},
   "outputs": [],
   "source": [
    "# code to get rarity in a list by themselves\n",
    "card_rarities = []\n",
    "for i in standard_sets_clean.keys():\n",
    "    current_set = standard_sets_clean[i]['cards']\n",
    "    for a in np.arange(np.count_nonzero(current_set)):\n",
    "        rarity = current_set[a]['rarity']\n",
    "        card_rarities.append(rarity)"
   ]
  },
  {
   "cell_type": "code",
   "execution_count": 12,
   "metadata": {},
   "outputs": [],
   "source": [
    "# code to get names in a list by themselves\n",
    "card_names = []\n",
    "for i in standard_sets_clean.keys():\n",
    "    current_set = standard_sets_clean[i]['cards']\n",
    "    for a in np.arange(np.count_nonzero(current_set)):\n",
    "        name = current_set[a]['name']\n",
    "        card_names.append(name)"
   ]
  },
  {
   "cell_type": "code",
   "execution_count": 13,
   "metadata": {},
   "outputs": [],
   "source": [
    "# code to create dataframe of card_rarities and card_names\n",
    "mtg_card_rarities = pd.DataFrame({'card_name': card_names, 'card_rarity': card_rarities})\n",
    "mtg_card_rarities_clean = mtg_card_rarities.copy()\n",
    "mtg_card_rarities_clean.to_csv('~/Documents/MTGA_rarity_analysis/data/mtg_card_rarities_clean.csv', index=False)"
   ]
  },
  {
   "cell_type": "code",
   "execution_count": 14,
   "metadata": {},
   "outputs": [],
   "source": [
    "# drop duplicates in mtg_card_rarities_clean\n",
    "mtg_card_rarities_clean.drop_duplicates(inplace=True)"
   ]
  },
  {
   "cell_type": "code",
   "execution_count": 15,
   "metadata": {},
   "outputs": [],
   "source": [
    "mtg_card_rarities_clean.to_csv('~/Documents/MTGA_rarity_analysis/data/mtg_card_rarities_clean.csv', index=False)"
   ]
  },
  {
   "cell_type": "code",
   "execution_count": 16,
   "metadata": {},
   "outputs": [],
   "source": [
    "mtg_card_rarities_clean = pd.read_csv('~/Documents/MTGA_rarity_analysis/data/mtg_card_rarities_clean.csv')"
   ]
  },
  {
   "cell_type": "code",
   "execution_count": 19,
   "metadata": {
    "collapsed": true,
    "jupyter": {
     "outputs_hidden": true
    }
   },
   "outputs": [
    {
     "ename": "ValueError",
     "evalue": "columns overlap but no suffix specified: Index(['card_rarity'], dtype='object')",
     "output_type": "error",
     "traceback": [
      "\u001b[0;31m---------------------------------------------------------------------------\u001b[0m",
      "\u001b[0;31mValueError\u001b[0m                                Traceback (most recent call last)",
      "\u001b[0;32m<ipython-input-19-a81e8d6632a7>\u001b[0m in \u001b[0;36m<module>\u001b[0;34m\u001b[0m\n\u001b[0;32m----> 1\u001b[0;31m \u001b[0mdecks_clean\u001b[0m \u001b[0;34m=\u001b[0m \u001b[0mdecks_clean\u001b[0m\u001b[0;34m.\u001b[0m\u001b[0mjoin\u001b[0m\u001b[0;34m(\u001b[0m\u001b[0mmtg_card_rarities_clean\u001b[0m\u001b[0;34m.\u001b[0m\u001b[0mset_index\u001b[0m\u001b[0;34m(\u001b[0m\u001b[0;34m'card_name'\u001b[0m\u001b[0;34m)\u001b[0m\u001b[0;34m,\u001b[0m \u001b[0mon\u001b[0m\u001b[0;34m=\u001b[0m\u001b[0;34m'card_name'\u001b[0m\u001b[0;34m)\u001b[0m\u001b[0;34m\u001b[0m\u001b[0;34m\u001b[0m\u001b[0m\n\u001b[0m",
      "\u001b[0;32m~/anaconda3/lib/python3.7/site-packages/pandas/core/frame.py\u001b[0m in \u001b[0;36mjoin\u001b[0;34m(self, other, on, how, lsuffix, rsuffix, sort)\u001b[0m\n\u001b[1;32m   7244\u001b[0m         \u001b[0;31m# For SparseDataFrame's benefit\u001b[0m\u001b[0;34m\u001b[0m\u001b[0;34m\u001b[0m\u001b[0;34m\u001b[0m\u001b[0m\n\u001b[1;32m   7245\u001b[0m         return self._join_compat(\n\u001b[0;32m-> 7246\u001b[0;31m             \u001b[0mother\u001b[0m\u001b[0;34m,\u001b[0m \u001b[0mon\u001b[0m\u001b[0;34m=\u001b[0m\u001b[0mon\u001b[0m\u001b[0;34m,\u001b[0m \u001b[0mhow\u001b[0m\u001b[0;34m=\u001b[0m\u001b[0mhow\u001b[0m\u001b[0;34m,\u001b[0m \u001b[0mlsuffix\u001b[0m\u001b[0;34m=\u001b[0m\u001b[0mlsuffix\u001b[0m\u001b[0;34m,\u001b[0m \u001b[0mrsuffix\u001b[0m\u001b[0;34m=\u001b[0m\u001b[0mrsuffix\u001b[0m\u001b[0;34m,\u001b[0m \u001b[0msort\u001b[0m\u001b[0;34m=\u001b[0m\u001b[0msort\u001b[0m\u001b[0;34m\u001b[0m\u001b[0;34m\u001b[0m\u001b[0m\n\u001b[0m\u001b[1;32m   7247\u001b[0m         )\n\u001b[1;32m   7248\u001b[0m \u001b[0;34m\u001b[0m\u001b[0m\n",
      "\u001b[0;32m~/anaconda3/lib/python3.7/site-packages/pandas/core/frame.py\u001b[0m in \u001b[0;36m_join_compat\u001b[0;34m(self, other, on, how, lsuffix, rsuffix, sort)\u001b[0m\n\u001b[1;32m   7267\u001b[0m                 \u001b[0mright_index\u001b[0m\u001b[0;34m=\u001b[0m\u001b[0;32mTrue\u001b[0m\u001b[0;34m,\u001b[0m\u001b[0;34m\u001b[0m\u001b[0;34m\u001b[0m\u001b[0m\n\u001b[1;32m   7268\u001b[0m                 \u001b[0msuffixes\u001b[0m\u001b[0;34m=\u001b[0m\u001b[0;34m(\u001b[0m\u001b[0mlsuffix\u001b[0m\u001b[0;34m,\u001b[0m \u001b[0mrsuffix\u001b[0m\u001b[0;34m)\u001b[0m\u001b[0;34m,\u001b[0m\u001b[0;34m\u001b[0m\u001b[0;34m\u001b[0m\u001b[0m\n\u001b[0;32m-> 7269\u001b[0;31m                 \u001b[0msort\u001b[0m\u001b[0;34m=\u001b[0m\u001b[0msort\u001b[0m\u001b[0;34m,\u001b[0m\u001b[0;34m\u001b[0m\u001b[0;34m\u001b[0m\u001b[0m\n\u001b[0m\u001b[1;32m   7270\u001b[0m             )\n\u001b[1;32m   7271\u001b[0m         \u001b[0;32melse\u001b[0m\u001b[0;34m:\u001b[0m\u001b[0;34m\u001b[0m\u001b[0;34m\u001b[0m\u001b[0m\n",
      "\u001b[0;32m~/anaconda3/lib/python3.7/site-packages/pandas/core/reshape/merge.py\u001b[0m in \u001b[0;36mmerge\u001b[0;34m(left, right, how, on, left_on, right_on, left_index, right_index, sort, suffixes, copy, indicator, validate)\u001b[0m\n\u001b[1;32m     81\u001b[0m         \u001b[0mvalidate\u001b[0m\u001b[0;34m=\u001b[0m\u001b[0mvalidate\u001b[0m\u001b[0;34m,\u001b[0m\u001b[0;34m\u001b[0m\u001b[0;34m\u001b[0m\u001b[0m\n\u001b[1;32m     82\u001b[0m     )\n\u001b[0;32m---> 83\u001b[0;31m     \u001b[0;32mreturn\u001b[0m \u001b[0mop\u001b[0m\u001b[0;34m.\u001b[0m\u001b[0mget_result\u001b[0m\u001b[0;34m(\u001b[0m\u001b[0;34m)\u001b[0m\u001b[0;34m\u001b[0m\u001b[0;34m\u001b[0m\u001b[0m\n\u001b[0m\u001b[1;32m     84\u001b[0m \u001b[0;34m\u001b[0m\u001b[0m\n\u001b[1;32m     85\u001b[0m \u001b[0;34m\u001b[0m\u001b[0m\n",
      "\u001b[0;32m~/anaconda3/lib/python3.7/site-packages/pandas/core/reshape/merge.py\u001b[0m in \u001b[0;36mget_result\u001b[0;34m(self)\u001b[0m\n\u001b[1;32m    646\u001b[0m \u001b[0;34m\u001b[0m\u001b[0m\n\u001b[1;32m    647\u001b[0m         llabels, rlabels = _items_overlap_with_suffix(\n\u001b[0;32m--> 648\u001b[0;31m             \u001b[0mldata\u001b[0m\u001b[0;34m.\u001b[0m\u001b[0mitems\u001b[0m\u001b[0;34m,\u001b[0m \u001b[0mlsuf\u001b[0m\u001b[0;34m,\u001b[0m \u001b[0mrdata\u001b[0m\u001b[0;34m.\u001b[0m\u001b[0mitems\u001b[0m\u001b[0;34m,\u001b[0m \u001b[0mrsuf\u001b[0m\u001b[0;34m\u001b[0m\u001b[0;34m\u001b[0m\u001b[0m\n\u001b[0m\u001b[1;32m    649\u001b[0m         )\n\u001b[1;32m    650\u001b[0m \u001b[0;34m\u001b[0m\u001b[0m\n",
      "\u001b[0;32m~/anaconda3/lib/python3.7/site-packages/pandas/core/reshape/merge.py\u001b[0m in \u001b[0;36m_items_overlap_with_suffix\u001b[0;34m(left, lsuffix, right, rsuffix)\u001b[0m\n\u001b[1;32m   2009\u001b[0m         raise ValueError(\n\u001b[1;32m   2010\u001b[0m             \u001b[0;34m\"columns overlap but no suffix specified: \"\u001b[0m\u001b[0;34m\u001b[0m\u001b[0;34m\u001b[0m\u001b[0m\n\u001b[0;32m-> 2011\u001b[0;31m             \u001b[0;34m\"{rename}\"\u001b[0m\u001b[0;34m.\u001b[0m\u001b[0mformat\u001b[0m\u001b[0;34m(\u001b[0m\u001b[0mrename\u001b[0m\u001b[0;34m=\u001b[0m\u001b[0mto_rename\u001b[0m\u001b[0;34m)\u001b[0m\u001b[0;34m\u001b[0m\u001b[0;34m\u001b[0m\u001b[0m\n\u001b[0m\u001b[1;32m   2012\u001b[0m         )\n\u001b[1;32m   2013\u001b[0m \u001b[0;34m\u001b[0m\u001b[0m\n",
      "\u001b[0;31mValueError\u001b[0m: columns overlap but no suffix specified: Index(['card_rarity'], dtype='object')"
     ]
    }
   ],
   "source": [
    "decks_clean = decks_clean.join(mtg_card_rarities_clean.set_index('card_name'), on='card_name')"
   ]
  },
  {
   "cell_type": "markdown",
   "metadata": {},
   "source": [
    "## Test"
   ]
  },
  {
   "cell_type": "code",
   "execution_count": 18,
   "metadata": {},
   "outputs": [
    {
     "data": {
      "text/html": [
       "<div>\n",
       "<style scoped>\n",
       "    .dataframe tbody tr th:only-of-type {\n",
       "        vertical-align: middle;\n",
       "    }\n",
       "\n",
       "    .dataframe tbody tr th {\n",
       "        vertical-align: top;\n",
       "    }\n",
       "\n",
       "    .dataframe thead th {\n",
       "        text-align: right;\n",
       "    }\n",
       "</style>\n",
       "<table border=\"1\" class=\"dataframe\">\n",
       "  <thead>\n",
       "    <tr style=\"text-align: right;\">\n",
       "      <th></th>\n",
       "      <th>card_name</th>\n",
       "      <th>card_rarity</th>\n",
       "    </tr>\n",
       "  </thead>\n",
       "  <tbody>\n",
       "    <tr>\n",
       "      <td>0</td>\n",
       "      <td>Acclaimed Contender</td>\n",
       "      <td>rare</td>\n",
       "    </tr>\n",
       "    <tr>\n",
       "      <td>1</td>\n",
       "      <td>Alela, Artful Provocateur</td>\n",
       "      <td>mythic</td>\n",
       "    </tr>\n",
       "    <tr>\n",
       "      <td>2</td>\n",
       "      <td>All That Glitters</td>\n",
       "      <td>uncommon</td>\n",
       "    </tr>\n",
       "    <tr>\n",
       "      <td>3</td>\n",
       "      <td>Bring to Life</td>\n",
       "      <td>uncommon</td>\n",
       "    </tr>\n",
       "    <tr>\n",
       "      <td>4</td>\n",
       "      <td>Animating Faerie</td>\n",
       "      <td>uncommon</td>\n",
       "    </tr>\n",
       "    <tr>\n",
       "      <td>...</td>\n",
       "      <td>...</td>\n",
       "      <td>...</td>\n",
       "    </tr>\n",
       "    <tr>\n",
       "      <td>1415</td>\n",
       "      <td>Wall of Runes</td>\n",
       "      <td>common</td>\n",
       "    </tr>\n",
       "    <tr>\n",
       "      <td>1416</td>\n",
       "      <td>Wanderer's Strike</td>\n",
       "      <td>common</td>\n",
       "    </tr>\n",
       "    <tr>\n",
       "      <td>1417</td>\n",
       "      <td>War Screecher</td>\n",
       "      <td>common</td>\n",
       "    </tr>\n",
       "    <tr>\n",
       "      <td>1418</td>\n",
       "      <td>Wardscale Crocodile</td>\n",
       "      <td>common</td>\n",
       "    </tr>\n",
       "    <tr>\n",
       "      <td>1419</td>\n",
       "      <td>Widespread Brutality</td>\n",
       "      <td>rare</td>\n",
       "    </tr>\n",
       "  </tbody>\n",
       "</table>\n",
       "<p>1420 rows × 2 columns</p>\n",
       "</div>"
      ],
      "text/plain": [
       "                      card_name card_rarity\n",
       "0           Acclaimed Contender        rare\n",
       "1     Alela, Artful Provocateur      mythic\n",
       "2             All That Glitters    uncommon\n",
       "3                 Bring to Life    uncommon\n",
       "4              Animating Faerie    uncommon\n",
       "...                         ...         ...\n",
       "1415              Wall of Runes      common\n",
       "1416          Wanderer's Strike      common\n",
       "1417              War Screecher      common\n",
       "1418        Wardscale Crocodile      common\n",
       "1419       Widespread Brutality        rare\n",
       "\n",
       "[1420 rows x 2 columns]"
      ]
     },
     "execution_count": 18,
     "metadata": {},
     "output_type": "execute_result"
    }
   ],
   "source": [
    "mtg_card_rarities_clean"
   ]
  },
  {
   "cell_type": "code",
   "execution_count": 20,
   "metadata": {},
   "outputs": [
    {
     "data": {
      "text/html": [
       "<div>\n",
       "<style scoped>\n",
       "    .dataframe tbody tr th:only-of-type {\n",
       "        vertical-align: middle;\n",
       "    }\n",
       "\n",
       "    .dataframe tbody tr th {\n",
       "        vertical-align: top;\n",
       "    }\n",
       "\n",
       "    .dataframe thead th {\n",
       "        text-align: right;\n",
       "    }\n",
       "</style>\n",
       "<table border=\"1\" class=\"dataframe\">\n",
       "  <thead>\n",
       "    <tr style=\"text-align: right;\">\n",
       "      <th></th>\n",
       "      <th>player</th>\n",
       "      <th>url</th>\n",
       "      <th>deck_name</th>\n",
       "      <th>num</th>\n",
       "      <th>card_name</th>\n",
       "      <th>card_rarity</th>\n",
       "    </tr>\n",
       "  </thead>\n",
       "  <tbody>\n",
       "    <tr>\n",
       "      <td>0</td>\n",
       "      <td>Julian_Felix_Flury</td>\n",
       "      <td>https://www.mtgtop8.com/event?e=23581&amp;d=363309...</td>\n",
       "      <td>4c_Control</td>\n",
       "      <td>2</td>\n",
       "      <td>Forest</td>\n",
       "      <td>common</td>\n",
       "    </tr>\n",
       "    <tr>\n",
       "      <td>1</td>\n",
       "      <td>Robert_Lippmann</td>\n",
       "      <td>https://www.mtgtop8.com/event?e=23476&amp;d=362227...</td>\n",
       "      <td>4c_Elementals</td>\n",
       "      <td>4</td>\n",
       "      <td>Shock</td>\n",
       "      <td>common</td>\n",
       "    </tr>\n",
       "    <tr>\n",
       "      <td>2</td>\n",
       "      <td>Keylan_Steffins</td>\n",
       "      <td>https://www.mtgtop8.com/event?e=23516&amp;d=362603...</td>\n",
       "      <td>4c_Value</td>\n",
       "      <td>3</td>\n",
       "      <td>Forest</td>\n",
       "      <td>common</td>\n",
       "    </tr>\n",
       "    <tr>\n",
       "      <td>3</td>\n",
       "      <td>Wynand_Van_Zyl</td>\n",
       "      <td>https://www.mtgtop8.com/event?e=23773&amp;d=365167...</td>\n",
       "      <td>4_Color_Doom_</td>\n",
       "      <td>1</td>\n",
       "      <td>Island</td>\n",
       "      <td>common</td>\n",
       "    </tr>\n",
       "    <tr>\n",
       "      <td>4</td>\n",
       "      <td>Vincent_Choy</td>\n",
       "      <td>https://www.mtgtop8.com/event?e=23600&amp;d=363526...</td>\n",
       "      <td>5c_PW</td>\n",
       "      <td>1</td>\n",
       "      <td>Island</td>\n",
       "      <td>common</td>\n",
       "    </tr>\n",
       "    <tr>\n",
       "      <td>...</td>\n",
       "      <td>...</td>\n",
       "      <td>...</td>\n",
       "      <td>...</td>\n",
       "      <td>...</td>\n",
       "      <td>...</td>\n",
       "      <td>...</td>\n",
       "    </tr>\n",
       "    <tr>\n",
       "      <td>11046</td>\n",
       "      <td>Chingpai</td>\n",
       "      <td>https://www.mtgtop8.com/event?e=23587&amp;d=363362...</td>\n",
       "      <td>Jeskai_Planeswalker</td>\n",
       "      <td>1</td>\n",
       "      <td>Blast Zone</td>\n",
       "      <td>rare</td>\n",
       "    </tr>\n",
       "    <tr>\n",
       "      <td>11047</td>\n",
       "      <td>Fulgence</td>\n",
       "      <td>https://www.mtgtop8.com/event?e=23856&amp;d=365902...</td>\n",
       "      <td>Niv-Mizzet_Reborn</td>\n",
       "      <td>1</td>\n",
       "      <td>Guild Globe</td>\n",
       "      <td>NaN</td>\n",
       "    </tr>\n",
       "    <tr>\n",
       "      <td>11048</td>\n",
       "      <td>Chingpai</td>\n",
       "      <td>https://www.mtgtop8.com/event?e=23678&amp;d=364322...</td>\n",
       "      <td>Jeskai_Planeswalker</td>\n",
       "      <td>2</td>\n",
       "      <td>Interplanar Beacon</td>\n",
       "      <td>NaN</td>\n",
       "    </tr>\n",
       "    <tr>\n",
       "      <td>11049</td>\n",
       "      <td>Chingpai</td>\n",
       "      <td>https://www.mtgtop8.com/event?e=23622&amp;d=363723...</td>\n",
       "      <td>Jeskai_Planeswalker</td>\n",
       "      <td>2</td>\n",
       "      <td>Interplanar Beacon</td>\n",
       "      <td>NaN</td>\n",
       "    </tr>\n",
       "    <tr>\n",
       "      <td>11050</td>\n",
       "      <td>Chingpai</td>\n",
       "      <td>https://www.mtgtop8.com/event?e=23587&amp;d=363362...</td>\n",
       "      <td>Jeskai_Planeswalker</td>\n",
       "      <td>2</td>\n",
       "      <td>Interplanar Beacon</td>\n",
       "      <td>NaN</td>\n",
       "    </tr>\n",
       "  </tbody>\n",
       "</table>\n",
       "<p>11051 rows × 6 columns</p>\n",
       "</div>"
      ],
      "text/plain": [
       "                   player                                                url  \\\n",
       "0      Julian_Felix_Flury  https://www.mtgtop8.com/event?e=23581&d=363309...   \n",
       "1         Robert_Lippmann  https://www.mtgtop8.com/event?e=23476&d=362227...   \n",
       "2         Keylan_Steffins  https://www.mtgtop8.com/event?e=23516&d=362603...   \n",
       "3          Wynand_Van_Zyl  https://www.mtgtop8.com/event?e=23773&d=365167...   \n",
       "4            Vincent_Choy  https://www.mtgtop8.com/event?e=23600&d=363526...   \n",
       "...                   ...                                                ...   \n",
       "11046            Chingpai  https://www.mtgtop8.com/event?e=23587&d=363362...   \n",
       "11047            Fulgence  https://www.mtgtop8.com/event?e=23856&d=365902...   \n",
       "11048            Chingpai  https://www.mtgtop8.com/event?e=23678&d=364322...   \n",
       "11049            Chingpai  https://www.mtgtop8.com/event?e=23622&d=363723...   \n",
       "11050            Chingpai  https://www.mtgtop8.com/event?e=23587&d=363362...   \n",
       "\n",
       "                 deck_name  num           card_name card_rarity  \n",
       "0               4c_Control    2              Forest      common  \n",
       "1            4c_Elementals    4               Shock      common  \n",
       "2                 4c_Value    3              Forest      common  \n",
       "3            4_Color_Doom_    1              Island      common  \n",
       "4                    5c_PW    1              Island      common  \n",
       "...                    ...  ...                 ...         ...  \n",
       "11046  Jeskai_Planeswalker    1          Blast Zone        rare  \n",
       "11047    Niv-Mizzet_Reborn    1         Guild Globe         NaN  \n",
       "11048  Jeskai_Planeswalker    2  Interplanar Beacon         NaN  \n",
       "11049  Jeskai_Planeswalker    2  Interplanar Beacon         NaN  \n",
       "11050  Jeskai_Planeswalker    2  Interplanar Beacon         NaN  \n",
       "\n",
       "[11051 rows x 6 columns]"
      ]
     },
     "execution_count": 20,
     "metadata": {},
     "output_type": "execute_result"
    }
   ],
   "source": [
    "decks_clean"
   ]
  },
  {
   "cell_type": "code",
   "execution_count": 40,
   "metadata": {},
   "outputs": [
    {
     "name": "stdout",
     "output_type": "stream",
     "text": [
      "<class 'pandas.core.frame.DataFrame'>\n",
      "RangeIndex: 11051 entries, 0 to 11050\n",
      "Data columns (total 6 columns):\n",
      "player         11051 non-null object\n",
      "url            11051 non-null object\n",
      "deck_name      11028 non-null object\n",
      "num            11051 non-null int64\n",
      "card_name      11051 non-null object\n",
      "card_rarity    10519 non-null object\n",
      "dtypes: int64(1), object(5)\n",
      "memory usage: 518.1+ KB\n"
     ]
    }
   ],
   "source": [
    "decks_clean.info()"
   ]
  },
  {
   "cell_type": "code",
   "execution_count": 41,
   "metadata": {},
   "outputs": [
    {
     "data": {
      "text/plain": [
       "str"
      ]
     },
     "execution_count": 41,
     "metadata": {},
     "output_type": "execute_result"
    }
   ],
   "source": [
    "type(decks_clean.card_rarity[0])"
   ]
  },
  {
   "cell_type": "code",
   "execution_count": 42,
   "metadata": {},
   "outputs": [
    {
     "data": {
      "text/html": [
       "<div>\n",
       "<style scoped>\n",
       "    .dataframe tbody tr th:only-of-type {\n",
       "        vertical-align: middle;\n",
       "    }\n",
       "\n",
       "    .dataframe tbody tr th {\n",
       "        vertical-align: top;\n",
       "    }\n",
       "\n",
       "    .dataframe thead th {\n",
       "        text-align: right;\n",
       "    }\n",
       "</style>\n",
       "<table border=\"1\" class=\"dataframe\">\n",
       "  <thead>\n",
       "    <tr style=\"text-align: right;\">\n",
       "      <th></th>\n",
       "      <th>player</th>\n",
       "      <th>url</th>\n",
       "      <th>deck_name</th>\n",
       "      <th>num</th>\n",
       "      <th>card_name</th>\n",
       "      <th>card_rarity</th>\n",
       "    </tr>\n",
       "  </thead>\n",
       "  <tbody>\n",
       "    <tr>\n",
       "      <td>1621</td>\n",
       "      <td>Mh_voltage</td>\n",
       "      <td>https://www.mtgtop8.com/event?e=23874&amp;d=366097...</td>\n",
       "      <td>Mono_Black</td>\n",
       "      <td>4</td>\n",
       "      <td>Murderous Rider</td>\n",
       "      <td>rare</td>\n",
       "    </tr>\n",
       "    <tr>\n",
       "      <td>194</td>\n",
       "      <td>William_Jensen</td>\n",
       "      <td>https://www.mtgtop8.com/event?e=23942&amp;d=366834...</td>\n",
       "      <td>Izzet_Flash</td>\n",
       "      <td>9</td>\n",
       "      <td>Island</td>\n",
       "      <td>common</td>\n",
       "    </tr>\n",
       "    <tr>\n",
       "      <td>2908</td>\n",
       "      <td>Chingpai</td>\n",
       "      <td>https://www.mtgtop8.com/event?e=23622&amp;d=363723...</td>\n",
       "      <td>Jeskai_Planeswalker</td>\n",
       "      <td>1</td>\n",
       "      <td>Realm-Cloaked Giant</td>\n",
       "      <td>mythic</td>\n",
       "    </tr>\n",
       "    <tr>\n",
       "      <td>7720</td>\n",
       "      <td>_Tia93_</td>\n",
       "      <td>https://www.mtgtop8.com/event?e=23594&amp;d=363483...</td>\n",
       "      <td>Bant_Control</td>\n",
       "      <td>3</td>\n",
       "      <td>Growth Spiral</td>\n",
       "      <td>common</td>\n",
       "    </tr>\n",
       "    <tr>\n",
       "      <td>4570</td>\n",
       "      <td>Nebykov_Denis</td>\n",
       "      <td>https://www.mtgtop8.com/event?e=23741&amp;d=364835...</td>\n",
       "      <td>Bant_Food</td>\n",
       "      <td>4</td>\n",
       "      <td>Fabled Passage</td>\n",
       "      <td>rare</td>\n",
       "    </tr>\n",
       "    <tr>\n",
       "      <td>6082</td>\n",
       "      <td>Edgar_Magalhaes</td>\n",
       "      <td>https://www.mtgtop8.com/event?e=24032&amp;d=367629...</td>\n",
       "      <td>Jund_Sacrifice</td>\n",
       "      <td>3</td>\n",
       "      <td>Lovestruck Beast</td>\n",
       "      <td>rare</td>\n",
       "    </tr>\n",
       "    <tr>\n",
       "      <td>6353</td>\n",
       "      <td>Brener</td>\n",
       "      <td>https://www.mtgtop8.com/event?e=23590&amp;d=363420...</td>\n",
       "      <td>Bant_Control</td>\n",
       "      <td>3</td>\n",
       "      <td>Temple Garden</td>\n",
       "      <td>rare</td>\n",
       "    </tr>\n",
       "    <tr>\n",
       "      <td>3515</td>\n",
       "      <td>Leonardo_Martins</td>\n",
       "      <td>https://www.mtgtop8.com/event?e=23974&amp;d=367072...</td>\n",
       "      <td>Simic_Ramp</td>\n",
       "      <td>1</td>\n",
       "      <td>Castle Vantress</td>\n",
       "      <td>rare</td>\n",
       "    </tr>\n",
       "    <tr>\n",
       "      <td>10472</td>\n",
       "      <td>Yixian_Liang</td>\n",
       "      <td>https://www.mtgtop8.com/event?e=23503&amp;d=362414...</td>\n",
       "      <td>Sultai_Food</td>\n",
       "      <td>4</td>\n",
       "      <td>Paradise Druid</td>\n",
       "      <td>uncommon</td>\n",
       "    </tr>\n",
       "    <tr>\n",
       "      <td>3780</td>\n",
       "      <td>Robert_Berni</td>\n",
       "      <td>https://www.mtgtop8.com/event?e=24055&amp;d=367889...</td>\n",
       "      <td>Izzet_Control</td>\n",
       "      <td>3</td>\n",
       "      <td>Fabled Passage</td>\n",
       "      <td>rare</td>\n",
       "    </tr>\n",
       "  </tbody>\n",
       "</table>\n",
       "</div>"
      ],
      "text/plain": [
       "                 player                                                url  \\\n",
       "1621         Mh_voltage  https://www.mtgtop8.com/event?e=23874&d=366097...   \n",
       "194      William_Jensen  https://www.mtgtop8.com/event?e=23942&d=366834...   \n",
       "2908           Chingpai  https://www.mtgtop8.com/event?e=23622&d=363723...   \n",
       "7720            _Tia93_  https://www.mtgtop8.com/event?e=23594&d=363483...   \n",
       "4570      Nebykov_Denis  https://www.mtgtop8.com/event?e=23741&d=364835...   \n",
       "6082    Edgar_Magalhaes  https://www.mtgtop8.com/event?e=24032&d=367629...   \n",
       "6353             Brener  https://www.mtgtop8.com/event?e=23590&d=363420...   \n",
       "3515   Leonardo_Martins  https://www.mtgtop8.com/event?e=23974&d=367072...   \n",
       "10472      Yixian_Liang  https://www.mtgtop8.com/event?e=23503&d=362414...   \n",
       "3780       Robert_Berni  https://www.mtgtop8.com/event?e=24055&d=367889...   \n",
       "\n",
       "                 deck_name  num            card_name card_rarity  \n",
       "1621            Mono_Black    4      Murderous Rider        rare  \n",
       "194            Izzet_Flash    9               Island      common  \n",
       "2908   Jeskai_Planeswalker    1  Realm-Cloaked Giant      mythic  \n",
       "7720          Bant_Control    3        Growth Spiral      common  \n",
       "4570             Bant_Food    4       Fabled Passage        rare  \n",
       "6082        Jund_Sacrifice    3     Lovestruck Beast        rare  \n",
       "6353          Bant_Control    3        Temple Garden        rare  \n",
       "3515            Simic_Ramp    1      Castle Vantress        rare  \n",
       "10472          Sultai_Food    4       Paradise Druid    uncommon  \n",
       "3780         Izzet_Control    3       Fabled Passage        rare  "
      ]
     },
     "execution_count": 42,
     "metadata": {},
     "output_type": "execute_result"
    }
   ],
   "source": [
    "decks_clean.sample(10)"
   ]
  },
  {
   "cell_type": "code",
   "execution_count": 57,
   "metadata": {},
   "outputs": [
    {
     "data": {
      "text/plain": [
       "(466, 66)"
      ]
     },
     "execution_count": 57,
     "metadata": {},
     "output_type": "execute_result"
    }
   ],
   "source": [
    "decks_clean.card_name.nunique(), dc_rarity_null.card_name.nunique()"
   ]
  },
  {
   "cell_type": "code",
   "execution_count": 58,
   "metadata": {},
   "outputs": [
    {
     "data": {
      "text/plain": [
       "(1420, 2)"
      ]
     },
     "execution_count": 58,
     "metadata": {},
     "output_type": "execute_result"
    }
   ],
   "source": [
    "mtg_card_rarities_clean.shape"
   ]
  },
  {
   "cell_type": "code",
   "execution_count": 52,
   "metadata": {},
   "outputs": [],
   "source": [
    "dc_rarity_null = decks_clean[decks_clean.card_rarity.isna()]"
   ]
  },
  {
   "cell_type": "code",
   "execution_count": 55,
   "metadata": {},
   "outputs": [
    {
     "data": {
      "text/plain": [
       "Sorcerous Spyglass,                90\n",
       "Mayhem Devil,                      34\n",
       "Casualties of War,                 30\n",
       "Expansion-Explosion                28\n",
       "Tolsimir, Friend to Wolves,        26\n",
       "                                   ..\n",
       "Call of the Conclave                1\n",
       "Angrath, Captain of Chaos,          1\n",
       "Massacre                            1\n",
       "Tomik, Distinguished Advokist,      1\n",
       "Carnival-Carnage                    1\n",
       "Name: card_name, Length: 66, dtype: int64"
      ]
     },
     "execution_count": 55,
     "metadata": {},
     "output_type": "execute_result"
    }
   ],
   "source": [
    "dc_rarity_null.card_name.value_counts()"
   ]
  },
  {
   "cell_type": "code",
   "execution_count": 59,
   "metadata": {},
   "outputs": [],
   "source": [
    "decks_clean.to_csv('~/Documents/MTGA_rarity_analysis/data/decks_clean.csv', index=False)"
   ]
  },
  {
   "cell_type": "markdown",
   "metadata": {},
   "source": [
    "## Define\n",
    "- get rid of nan in `card_name`"
   ]
  },
  {
   "cell_type": "markdown",
   "metadata": {},
   "source": [
    "## Code "
   ]
  },
  {
   "cell_type": "code",
   "execution_count": 7,
   "metadata": {},
   "outputs": [],
   "source": [
    "decks_clean.card_name = decks_clean.card_name.str.replace(', $', '')"
   ]
  },
  {
   "cell_type": "code",
   "execution_count": 8,
   "metadata": {
    "collapsed": true,
    "jupyter": {
     "outputs_hidden": true
    }
   },
   "outputs": [
    {
     "ename": "NameError",
     "evalue": "name 'mtg_card_rarities_clean' is not defined",
     "output_type": "error",
     "traceback": [
      "\u001b[0;31m---------------------------------------------------------------------------\u001b[0m",
      "\u001b[0;31mNameError\u001b[0m                                 Traceback (most recent call last)",
      "\u001b[0;32m<ipython-input-8-7adf7e0f0302>\u001b[0m in \u001b[0;36m<module>\u001b[0;34m\u001b[0m\n\u001b[0;32m----> 1\u001b[0;31m \u001b[0mdecks_clean\u001b[0m \u001b[0;34m=\u001b[0m \u001b[0mdecks_clean\u001b[0m\u001b[0;34m.\u001b[0m\u001b[0mjoin\u001b[0m\u001b[0;34m(\u001b[0m\u001b[0mmtg_card_rarities_clean\u001b[0m\u001b[0;34m.\u001b[0m\u001b[0mset_index\u001b[0m\u001b[0;34m(\u001b[0m\u001b[0;34m'card_name'\u001b[0m\u001b[0;34m)\u001b[0m\u001b[0;34m,\u001b[0m \u001b[0mon\u001b[0m\u001b[0;34m=\u001b[0m\u001b[0;34m'card_name'\u001b[0m\u001b[0;34m,\u001b[0m \u001b[0mlsuffix\u001b[0m\u001b[0;34m=\u001b[0m\u001b[0;34m'x'\u001b[0m\u001b[0;34m)\u001b[0m\u001b[0;34m.\u001b[0m\u001b[0mdrop\u001b[0m\u001b[0;34m(\u001b[0m\u001b[0mcolumns\u001b[0m\u001b[0;34m=\u001b[0m\u001b[0;34m'card_rarityx'\u001b[0m\u001b[0;34m)\u001b[0m\u001b[0;34m\u001b[0m\u001b[0;34m\u001b[0m\u001b[0m\n\u001b[0m",
      "\u001b[0;31mNameError\u001b[0m: name 'mtg_card_rarities_clean' is not defined"
     ]
    }
   ],
   "source": [
    "decks_clean = decks_clean.join(mtg_card_rarities_clean.set_index('card_name'), on='card_name', lsuffix='x').drop(columns='card_rarityx')"
   ]
  },
  {
   "cell_type": "code",
   "execution_count": 9,
   "metadata": {},
   "outputs": [],
   "source": [
    "dual_cards = decks_clean[decks_clean.card_name.str.contains('.+-.+') & decks_clean.card_rarity.isna()]\n",
    "new = dual_cards.card_name.str.split('-', expand=True)\n",
    "dual_cards = dual_cards.join(new)"
   ]
  },
  {
   "cell_type": "code",
   "execution_count": 10,
   "metadata": {},
   "outputs": [],
   "source": [
    "dual_cards = dual_cards.melt(id_vars=list(decks_clean.columns), value_vars=[0, 1], value_name='card_name_2').drop(columns=['variable'])"
   ]
  },
  {
   "cell_type": "code",
   "execution_count": 11,
   "metadata": {},
   "outputs": [],
   "source": [
    "decks_clean = decks_clean.join(dual_cards[['card_name', 'card_name_2']].set_index('card_name'), on='card_name')"
   ]
  },
  {
   "cell_type": "code",
   "execution_count": 88,
   "metadata": {},
   "outputs": [],
   "source": [
    "decks_clean.card_rarity = decks_clean.card_rarity.astype('str')\n",
    "for i in np.arange(decks_clean.shape[0]):\n",
    "    if decks_clean.card_name[i] == 'Expansion-Explosion':\n",
    "        re.sub('', 'rare', decks_clean.card_rarity[i])\n",
    "    elif decks_clean.card_name[i] == 'Collision-Colossus':\n",
    "        re.sub('', 'uncommon', decks_clean.card_rarity[i])\n",
    "    elif decks_clean.card_name[i] == 'Flower-Flourish':\n",
    "        re.sub('', 'uncommon', decks_clean.card_rarity[i])\n",
    "    elif decks_clean.card_name[i] == 'Thrash-Threat':\n",
    "        re.sub('', 'rare', decks_clean.card_rarity[i])\n",
    "    elif decks_clean.card_name[i] == 'Discovery-Dispersal':\n",
    "        re.sub('', 'uncommon', decks_clean.card_rarity[i])\n",
    "    elif decks_clean.card_name[i] == 'Stasus-Statue':\n",
    "        re.sub('', 'uncommon', decks_clean.card_rarity[i])\n",
    "    elif decks_clean.card_name[i] == 'Bedeck-Bedazzle':\n",
    "        re.sub('', 'rare', decks_clean.card_rarity[i])\n",
    "    elif decks_clean.card_name[i] == 'Consecrate-Consume':\n",
    "        re.sub('', 'uncommon', decks_clean.card_rarity[i])\n",
    "    elif decks_clean.card_name[i] == 'Carnival-Carnage':\n",
    "        re.sub('', 'uncommon', decks_clean.card_rarity[i])"
   ]
  },
  {
   "cell_type": "code",
   "execution_count": 89,
   "metadata": {},
   "outputs": [],
   "source": [
    "decks_clean.card_rarity.dropna(inplace=True)"
   ]
  },
  {
   "cell_type": "markdown",
   "metadata": {},
   "source": [
    "## Test"
   ]
  },
  {
   "cell_type": "code",
   "execution_count": 90,
   "metadata": {},
   "outputs": [
    {
     "data": {
      "text/plain": [
       "0"
      ]
     },
     "execution_count": 90,
     "metadata": {},
     "output_type": "execute_result"
    }
   ],
   "source": [
    "decks_clean.card_rarity.isna().sum()"
   ]
  },
  {
   "cell_type": "code",
   "execution_count": 34,
   "metadata": {},
   "outputs": [],
   "source": [
    "dc_rarity_null = decks_clean[decks_clean.card_rarity.isna()]"
   ]
  },
  {
   "cell_type": "code",
   "execution_count": 84,
   "metadata": {},
   "outputs": [
    {
     "data": {
      "text/plain": [
       "80"
      ]
     },
     "execution_count": 84,
     "metadata": {},
     "output_type": "execute_result"
    }
   ],
   "source": [
    "dc_rarity_null.shape[0]"
   ]
  },
  {
   "cell_type": "code",
   "execution_count": 82,
   "metadata": {},
   "outputs": [
    {
     "data": {
      "text/plain": [
       "Expansion-Explosion     28\n",
       "Collision-Colossus      13\n",
       "Flower-Flourish         12\n",
       "Find-Finality           12\n",
       "Thrash-Threat            3\n",
       "Unknown Card             2\n",
       "Discovery-Dispersal      2\n",
       "Massacre                 1\n",
       "Silhana Ledgewalker      1\n",
       "Call of the Conclave     1\n",
       "Status-Statue            1\n",
       "Angrath's Fury           1\n",
       "Bedeck-Bedazzle          1\n",
       "Consecrate-Consume       1\n",
       "Carnival-Carnage         1\n",
       "Name: card_name, dtype: int64"
      ]
     },
     "execution_count": 82,
     "metadata": {},
     "output_type": "execute_result"
    }
   ],
   "source": [
    "dc_rarity_null.card_name.value_counts()"
   ]
  },
  {
   "cell_type": "code",
   "execution_count": 89,
   "metadata": {},
   "outputs": [
    {
     "data": {
      "text/plain": [
       "dict_keys(['ELD', 'GRN', 'M20', 'RNA', 'WAR'])"
      ]
     },
     "execution_count": 89,
     "metadata": {},
     "output_type": "execute_result"
    }
   ],
   "source": [
    "standard_sets_clean.keys()"
   ]
  },
  {
   "cell_type": "code",
   "execution_count": 94,
   "metadata": {},
   "outputs": [],
   "source": [
    "names = []\n",
    "for i in standard_sets_clean['GRN']['cards']:\n",
    "    names.append(i['name'])"
   ]
  },
  {
   "cell_type": "code",
   "execution_count": 95,
   "metadata": {
    "collapsed": true,
    "jupyter": {
     "outputs_hidden": true
    }
   },
   "outputs": [
    {
     "data": {
      "text/plain": [
       "['Affectionate Indrik',\n",
       " 'Arboretum Elemental',\n",
       " 'Arclight Phoenix',\n",
       " 'Artful Takedown',\n",
       " \"Assassin's Trophy\",\n",
       " 'Assemble',\n",
       " 'Assure',\n",
       " 'Attendant of Vraska',\n",
       " 'Aurelia, Exemplar of Justice',\n",
       " 'Barging Sergeant',\n",
       " 'Barrier of Bones',\n",
       " 'Bartizan Bats',\n",
       " 'Beacon Bolt',\n",
       " 'Beamsplitter Mage',\n",
       " 'Beast Whisperer',\n",
       " 'Blade Instructor',\n",
       " 'Blood Operative',\n",
       " 'Book Devourer',\n",
       " 'Boros Challenger',\n",
       " 'Boros Guildgate',\n",
       " 'Boros Guildgate',\n",
       " 'Boros Locket',\n",
       " 'Bounty Agent',\n",
       " 'Bounty of Might',\n",
       " 'Burglar Rat',\n",
       " 'Camaraderie',\n",
       " 'Candlelight Vigil',\n",
       " 'Capture Sphere',\n",
       " 'Centaur Peacemaker',\n",
       " 'Chamber Sentry',\n",
       " 'Chance for Glory',\n",
       " 'Charnel Troll',\n",
       " \"Chemister's Insight\",\n",
       " 'Child of Night',\n",
       " 'Chromatic Lantern',\n",
       " 'Circuitous Route',\n",
       " 'Citywatch Sphinx',\n",
       " 'Citywide Bust',\n",
       " 'Collar the Culprit',\n",
       " 'Command the Storm',\n",
       " 'Conclave Cavalier',\n",
       " 'Conclave Guildmage',\n",
       " 'Conclave Tribunal',\n",
       " 'Concoct',\n",
       " 'Connive',\n",
       " 'Cosmotronic Wave',\n",
       " 'Crackling Drake',\n",
       " 'Creeping Chill',\n",
       " 'Crush Contraband',\n",
       " 'Crushing Canopy',\n",
       " 'Darkblade Agent',\n",
       " 'Dawn of Hope',\n",
       " 'Dazzling Lights',\n",
       " 'Dead Weight',\n",
       " 'Deadly Visit',\n",
       " 'Deafening Clarion',\n",
       " 'Demotion',\n",
       " 'Devious Cover-Up',\n",
       " 'Devkarin Dissident',\n",
       " 'Dimir Guildgate',\n",
       " 'Dimir Guildgate',\n",
       " 'Dimir Informant',\n",
       " 'Dimir Locket',\n",
       " 'Dimir Spybug',\n",
       " 'Direct Current',\n",
       " 'Dispersal',\n",
       " 'Discovery',\n",
       " 'Disdainful Stroke',\n",
       " 'Disinformation Campaign',\n",
       " 'District Guide',\n",
       " 'Divine Visitation',\n",
       " 'Doom Whisperer',\n",
       " 'Douser of Lights',\n",
       " 'Dream Eater',\n",
       " 'Drowned Secrets',\n",
       " 'Electrostatic Field',\n",
       " 'Emmara, Soul of the Accord',\n",
       " 'Enhanced Surveillance',\n",
       " 'Erratic Cyclops',\n",
       " 'Erstwhile Trooper',\n",
       " 'Etrata, the Silencer',\n",
       " 'Explosion',\n",
       " 'Expansion',\n",
       " 'Experimental Frenzy',\n",
       " 'Fearless Halberdier',\n",
       " 'Finality',\n",
       " 'Find',\n",
       " 'Fire Urchin',\n",
       " \"Firemind's Research\",\n",
       " 'Flight of Equenauts',\n",
       " 'Flourish',\n",
       " 'Flower',\n",
       " 'Forest',\n",
       " 'Fresh-Faced Recruit',\n",
       " 'Garrison Sergeant',\n",
       " 'Gatekeeper Gargoyle',\n",
       " 'Gateway Plaza',\n",
       " 'Generous Stray',\n",
       " 'Gird for Battle',\n",
       " 'Glaive of the Guildpact',\n",
       " 'Glowspore Shaman',\n",
       " 'Goblin Banneret',\n",
       " 'Goblin Cratermaker',\n",
       " 'Goblin Electromancer',\n",
       " 'Goblin Locksmith',\n",
       " 'Golgari Findbroker',\n",
       " 'Golgari Guildgate',\n",
       " 'Golgari Guildgate',\n",
       " 'Golgari Locket',\n",
       " 'Golgari Raiders',\n",
       " 'Grappling Sundew',\n",
       " 'Gravitic Punch',\n",
       " 'Gruesome Menagerie',\n",
       " 'Guild Summit',\n",
       " \"Guildmages' Forum\",\n",
       " 'Haazda Marshal',\n",
       " 'Hammer Dropper',\n",
       " 'Hatchery Spider',\n",
       " \"Healer's Hawk\",\n",
       " 'Hellkite Whelp',\n",
       " 'Hired Poisoner',\n",
       " 'Hitchclaw Recluse',\n",
       " 'House Guildmage',\n",
       " 'Hunted Witness',\n",
       " 'Hypothesizzle',\n",
       " 'Impervious Greatwurm',\n",
       " 'Inescapable Blaze',\n",
       " 'Inspiring Unicorn',\n",
       " 'Intervention',\n",
       " 'Integrity',\n",
       " 'Intrusive Packbeast',\n",
       " 'Invent',\n",
       " 'Invert',\n",
       " 'Ionize',\n",
       " 'Ironshell Beetle',\n",
       " 'Island',\n",
       " 'Izoni, Thousand-Eyed',\n",
       " 'Izzet Guildgate',\n",
       " 'Izzet Guildgate',\n",
       " 'Izzet Locket',\n",
       " 'Join Shields',\n",
       " 'Justice Strike',\n",
       " 'Knight of Autumn',\n",
       " 'Kraul Foragers',\n",
       " 'Kraul Harpooner',\n",
       " 'Kraul Raider',\n",
       " 'Kraul Swarm',\n",
       " 'Lava Coil',\n",
       " 'Lazav, the Multifarious',\n",
       " 'League Guildmage',\n",
       " 'Leapfrog',\n",
       " 'Ledev Champion',\n",
       " 'Ledev Guardian',\n",
       " 'Legion Guildmage',\n",
       " 'Legion Warboss',\n",
       " 'Light of the Legion',\n",
       " 'Lotleth Giant',\n",
       " 'Loxodon Restorer',\n",
       " 'Luminous Bonds',\n",
       " 'Maniacal Rage',\n",
       " 'March of the Multitudes',\n",
       " 'Mausoleum Secrets',\n",
       " 'Maximize Altitude',\n",
       " 'Maximize Velocity',\n",
       " 'Mephitic Vapors',\n",
       " 'Midnight Reaper',\n",
       " 'Might of the Masses',\n",
       " 'Mission Briefing',\n",
       " 'Mnemonic Betrayal',\n",
       " 'Molderhulk',\n",
       " 'Moodmark Painter',\n",
       " 'Mountain',\n",
       " 'Murmuring Mystic',\n",
       " 'Muse Drake',\n",
       " 'Narcomoeba',\n",
       " 'Necrotic Wound',\n",
       " 'Never Happened',\n",
       " 'Nightveil Predator',\n",
       " 'Nightveil Sprite',\n",
       " 'Niv-Mizzet, Parun',\n",
       " 'Notion Rain',\n",
       " 'Nullhide Ferox',\n",
       " 'Ochran Assassin',\n",
       " 'Omnispell Adept',\n",
       " 'Ornery Goblin',\n",
       " 'Overgrown Tomb',\n",
       " \"Pack's Favor\",\n",
       " 'Parhelion Patrol',\n",
       " 'Passwall Adept',\n",
       " 'Pause for Reflection',\n",
       " 'Pelt Collector',\n",
       " 'Pilfering Imp',\n",
       " 'Piston-Fist Cyclops',\n",
       " 'Pitiless Gorgon',\n",
       " 'Plaguecrafter',\n",
       " 'Plains',\n",
       " 'Portcullis Vine',\n",
       " 'Precision Bolt',\n",
       " 'Prey Upon',\n",
       " 'Price of Fame',\n",
       " 'Quasiduplicate',\n",
       " 'Radical Idea',\n",
       " \"Ral's Dispersal\",\n",
       " \"Ral's Staticaster\",\n",
       " 'Ral, Caller of Storms',\n",
       " 'Ral, Izzet Viceroy',\n",
       " 'Rampaging Monument',\n",
       " 'Resurgence',\n",
       " 'Response',\n",
       " 'Rhizome Lurcher',\n",
       " 'Righteous Blow',\n",
       " 'Risk Factor',\n",
       " 'Ritual of Soot',\n",
       " 'Roc Charger',\n",
       " 'Rosemane Centaur',\n",
       " 'Rubblebelt Boar',\n",
       " 'Runaway Steam-Kin',\n",
       " 'Sacred Foundry',\n",
       " 'Selective Snare',\n",
       " 'Selesnya Guildgate',\n",
       " 'Selesnya Guildgate',\n",
       " 'Selesnya Locket',\n",
       " 'Severed Strands',\n",
       " 'Siege Wurm',\n",
       " 'Silent Dart',\n",
       " 'Sinister Sabotage',\n",
       " 'Skyknight Legionnaire',\n",
       " 'Skyline Scout',\n",
       " 'Smelt-Ward Minotaur',\n",
       " 'Sonic Assault',\n",
       " 'Spinal Centipede',\n",
       " 'Sprouting Renewal',\n",
       " 'Statue',\n",
       " 'Status',\n",
       " 'Steam Vents',\n",
       " 'Street Riot',\n",
       " 'Sumala Woodshaper',\n",
       " 'Sunhome Stalwart',\n",
       " 'Sure Strike',\n",
       " 'Swamp',\n",
       " 'Swarm Guildmage',\n",
       " 'Swathcutter Giant',\n",
       " 'Swiftblade Vindicator',\n",
       " 'Sworn Companions',\n",
       " \"Tajic, Legion's Edge\",\n",
       " 'Take Heart',\n",
       " 'Temple Garden',\n",
       " 'Tenth District Guard',\n",
       " 'Thief of Sanity',\n",
       " 'Thought Erasure',\n",
       " 'Thoughtbound Phantasm',\n",
       " 'Thousand-Year Storm',\n",
       " 'Torch Courier',\n",
       " 'Trostani Discordant',\n",
       " 'Truefire Captain',\n",
       " 'Undercity Necrolisk',\n",
       " 'Undercity Uprising',\n",
       " 'Underrealm Lich',\n",
       " 'Unexplained Disappearance',\n",
       " 'Unmoored Ego',\n",
       " 'Urban Utopia',\n",
       " 'Vedalken Mesmerist',\n",
       " 'Veiled Shade',\n",
       " 'Venerated Loxodon',\n",
       " 'Vernadi Shieldmate',\n",
       " 'Vicious Rumors',\n",
       " 'Vigorspore Wurm',\n",
       " 'Vivid Revival',\n",
       " \"Vraska's Stoneglare\",\n",
       " 'Vraska, Golgari Queen',\n",
       " 'Vraska, Regal Gorgon',\n",
       " 'Wall of Mist',\n",
       " 'Wand of Vertebrae',\n",
       " 'Wary Okapi',\n",
       " 'Watcher in the Mist',\n",
       " 'Watery Grave',\n",
       " 'Wee Dragonauts',\n",
       " 'Whisper Agent',\n",
       " 'Whispering Snitch',\n",
       " 'Wild Ceratok',\n",
       " 'Wishcoin Crab',\n",
       " 'Wojek Bodyguard',\n",
       " 'Worldsoul Colossus']"
      ]
     },
     "execution_count": 95,
     "metadata": {},
     "output_type": "execute_result"
    }
   ],
   "source": [
    "names"
   ]
  },
  {
   "cell_type": "code",
   "execution_count": 96,
   "metadata": {},
   "outputs": [
    {
     "data": {
      "text/html": [
       "<div>\n",
       "<style scoped>\n",
       "    .dataframe tbody tr th:only-of-type {\n",
       "        vertical-align: middle;\n",
       "    }\n",
       "\n",
       "    .dataframe tbody tr th {\n",
       "        vertical-align: top;\n",
       "    }\n",
       "\n",
       "    .dataframe thead th {\n",
       "        text-align: right;\n",
       "    }\n",
       "</style>\n",
       "<table border=\"1\" class=\"dataframe\">\n",
       "  <thead>\n",
       "    <tr style=\"text-align: right;\">\n",
       "      <th></th>\n",
       "      <th>player</th>\n",
       "      <th>url</th>\n",
       "      <th>deck_name</th>\n",
       "      <th>num</th>\n",
       "      <th>card_name</th>\n",
       "      <th>card_rarity</th>\n",
       "    </tr>\n",
       "  </thead>\n",
       "  <tbody>\n",
       "    <tr>\n",
       "      <td>7898</td>\n",
       "      <td>David_Pound</td>\n",
       "      <td>https://www.mtgtop8.com/event?e=23943&amp;d=366838...</td>\n",
       "      <td>Lucky_Golgari</td>\n",
       "      <td>1</td>\n",
       "      <td>Massacre</td>\n",
       "      <td>NaN</td>\n",
       "    </tr>\n",
       "  </tbody>\n",
       "</table>\n",
       "</div>"
      ],
      "text/plain": [
       "           player                                                url  \\\n",
       "7898  David_Pound  https://www.mtgtop8.com/event?e=23943&d=366838...   \n",
       "\n",
       "          deck_name  num card_name card_rarity  \n",
       "7898  Lucky_Golgari    1  Massacre         NaN  "
      ]
     },
     "execution_count": 96,
     "metadata": {},
     "output_type": "execute_result"
    }
   ],
   "source": [
    "decks_clean[decks_clean.card_name == 'Massacre']"
   ]
  },
  {
   "cell_type": "code",
   "execution_count": 108,
   "metadata": {},
   "outputs": [
    {
     "data": {
      "text/html": [
       "<div>\n",
       "<style scoped>\n",
       "    .dataframe tbody tr th:only-of-type {\n",
       "        vertical-align: middle;\n",
       "    }\n",
       "\n",
       "    .dataframe tbody tr th {\n",
       "        vertical-align: top;\n",
       "    }\n",
       "\n",
       "    .dataframe thead th {\n",
       "        text-align: right;\n",
       "    }\n",
       "</style>\n",
       "<table border=\"1\" class=\"dataframe\">\n",
       "  <thead>\n",
       "    <tr style=\"text-align: right;\">\n",
       "      <th></th>\n",
       "      <th>player</th>\n",
       "      <th>url</th>\n",
       "      <th>deck_name</th>\n",
       "      <th>num</th>\n",
       "      <th>card_name</th>\n",
       "      <th>card_rarity</th>\n",
       "      <th>0</th>\n",
       "      <th>1</th>\n",
       "    </tr>\n",
       "  </thead>\n",
       "  <tbody>\n",
       "    <tr>\n",
       "      <td>3541</td>\n",
       "      <td>Rémi_D'emmerez</td>\n",
       "      <td>https://www.mtgtop8.com/event?e=23754&amp;d=364990...</td>\n",
       "      <td>Sultai_Oko-less</td>\n",
       "      <td>2</td>\n",
       "      <td>Find-Finality</td>\n",
       "      <td>NaN</td>\n",
       "      <td>Find</td>\n",
       "      <td>Finality</td>\n",
       "    </tr>\n",
       "    <tr>\n",
       "      <td>4460</td>\n",
       "      <td>Nobuta_Kazuhito</td>\n",
       "      <td>https://www.mtgtop8.com/event?e=23980&amp;d=367109...</td>\n",
       "      <td>Temur_Aggro</td>\n",
       "      <td>1</td>\n",
       "      <td>Status-Statue</td>\n",
       "      <td>NaN</td>\n",
       "      <td>Status</td>\n",
       "      <td>Statue</td>\n",
       "    </tr>\n",
       "    <tr>\n",
       "      <td>4511</td>\n",
       "      <td>Robert_Lippmann</td>\n",
       "      <td>https://www.mtgtop8.com/event?e=23476&amp;d=362227...</td>\n",
       "      <td>4c_Elementals</td>\n",
       "      <td>2</td>\n",
       "      <td>Find-Finality</td>\n",
       "      <td>NaN</td>\n",
       "      <td>Find</td>\n",
       "      <td>Finality</td>\n",
       "    </tr>\n",
       "    <tr>\n",
       "      <td>4919</td>\n",
       "      <td>Bullwinkkle6705</td>\n",
       "      <td>https://www.mtgtop8.com/event?e=23653&amp;d=364109...</td>\n",
       "      <td>Temur_Reclamation</td>\n",
       "      <td>3</td>\n",
       "      <td>Expansion-Explosion</td>\n",
       "      <td>NaN</td>\n",
       "      <td>Expansion</td>\n",
       "      <td>Explosion</td>\n",
       "    </tr>\n",
       "    <tr>\n",
       "      <td>4923</td>\n",
       "      <td>Hibino_Yasutaka</td>\n",
       "      <td>https://www.mtgtop8.com/event?e=23749&amp;d=364939...</td>\n",
       "      <td>Temur_Reclamation</td>\n",
       "      <td>4</td>\n",
       "      <td>Expansion-Explosion</td>\n",
       "      <td>NaN</td>\n",
       "      <td>Expansion</td>\n",
       "      <td>Explosion</td>\n",
       "    </tr>\n",
       "  </tbody>\n",
       "</table>\n",
       "</div>"
      ],
      "text/plain": [
       "               player                                                url  \\\n",
       "3541   Rémi_D'emmerez  https://www.mtgtop8.com/event?e=23754&d=364990...   \n",
       "4460  Nobuta_Kazuhito  https://www.mtgtop8.com/event?e=23980&d=367109...   \n",
       "4511  Robert_Lippmann  https://www.mtgtop8.com/event?e=23476&d=362227...   \n",
       "4919  Bullwinkkle6705  https://www.mtgtop8.com/event?e=23653&d=364109...   \n",
       "4923  Hibino_Yasutaka  https://www.mtgtop8.com/event?e=23749&d=364939...   \n",
       "\n",
       "              deck_name  num            card_name card_rarity          0  \\\n",
       "3541    Sultai_Oko-less    2        Find-Finality         NaN       Find   \n",
       "4460        Temur_Aggro    1        Status-Statue         NaN     Status   \n",
       "4511      4c_Elementals    2        Find-Finality         NaN       Find   \n",
       "4919  Temur_Reclamation    3  Expansion-Explosion         NaN  Expansion   \n",
       "4923  Temur_Reclamation    4  Expansion-Explosion         NaN  Expansion   \n",
       "\n",
       "              1  \n",
       "3541   Finality  \n",
       "4460     Statue  \n",
       "4511   Finality  \n",
       "4919  Explosion  \n",
       "4923  Explosion  "
      ]
     },
     "execution_count": 108,
     "metadata": {},
     "output_type": "execute_result"
    }
   ],
   "source": [
    "dual_cards.head()"
   ]
  },
  {
   "cell_type": "code",
   "execution_count": 109,
   "metadata": {},
   "outputs": [
    {
     "data": {
      "text/plain": [
       "3541          Find\n",
       "4460        Status\n",
       "4511          Find\n",
       "4919     Expansion\n",
       "4923     Expansion\n",
       "           ...    \n",
       "8822        Flower\n",
       "10441    Collision\n",
       "10442    Collision\n",
       "10608       Thrash\n",
       "10609       Thrash\n",
       "Name: 0, Length: 74, dtype: object"
      ]
     },
     "execution_count": 109,
     "metadata": {},
     "output_type": "execute_result"
    }
   ],
   "source": [
    "dual_cards[0]"
   ]
  },
  {
   "cell_type": "code",
   "execution_count": 111,
   "metadata": {},
   "outputs": [
    {
     "data": {
      "text/plain": [
       "['player', 'url', 'deck_name', 'num', 'card_name', 'card_rarity']"
      ]
     },
     "execution_count": 111,
     "metadata": {},
     "output_type": "execute_result"
    }
   ],
   "source": [
    "list(decks_clean.columns)"
   ]
  },
  {
   "cell_type": "code",
   "execution_count": 91,
   "metadata": {},
   "outputs": [],
   "source": [
    "decks_clean.to_csv('~/Documents/MTGA_rarity_analysis/data/decks_clean.csv', index=False)"
   ]
  },
  {
   "cell_type": "code",
   "execution_count": null,
   "metadata": {},
   "outputs": [],
   "source": []
  }
 ],
 "metadata": {
  "kernelspec": {
   "display_name": "Python 3",
   "language": "python",
   "name": "python3"
  },
  "language_info": {
   "codemirror_mode": {
    "name": "ipython",
    "version": 3
   },
   "file_extension": ".py",
   "mimetype": "text/x-python",
   "name": "python",
   "nbconvert_exporter": "python",
   "pygments_lexer": "ipython3",
   "version": "3.7.4"
  }
 },
 "nbformat": 4,
 "nbformat_minor": 4
}
