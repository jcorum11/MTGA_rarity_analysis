{
 "cells": [
  {
   "cell_type": "code",
   "execution_count": 1,
   "metadata": {},
   "outputs": [],
   "source": [
    "import pandas as pd\n",
    "import numpy as np\n",
    "import itertools\n",
    "import os\n",
    "import re\n",
    "import requests\n",
    "import json"
   ]
  },
  {
   "cell_type": "markdown",
   "metadata": {},
   "source": [
    "# Gather"
   ]
  },
  {
   "cell_type": "code",
   "execution_count": 2,
   "metadata": {},
   "outputs": [],
   "source": [
    "# pull standard cards from mtgjson\n",
    "standard_sets = requests.get('https://www.mtgjson.com/files/StandardPrintings.json')\n",
    "standard_sets_clean = standard_sets.json()\n",
    "\n",
    "# code to save standard_sets as a json file \n",
    "with open('standard_sets_clean.txt', 'w') as outfile:\n",
    "    json.dump(standard_sets_clean, outfile)\n",
    "\n",
    "# code to load standard_sets_clean\n",
    "with open('standard_sets_clean.txt', encoding='utf-8') as file:\n",
    "    standard_sets_clean = json.load(file)"
   ]
  },
  {
   "cell_type": "code",
   "execution_count": null,
   "metadata": {},
   "outputs": [],
   "source": [
    "decks = pd.read_csv('C:/Users/muroc/Documents/MTG/data/decks.csv')"
   ]
  },
  {
   "cell_type": "code",
   "execution_count": 3,
   "metadata": {},
   "outputs": [],
   "source": [
    "decks = pd.read_csv('/home/steadyjingo/Documents/MTGA_rarity_analysis/data/decks.csv')"
   ]
  },
  {
   "cell_type": "code",
   "execution_count": 4,
   "metadata": {},
   "outputs": [],
   "source": [
    "decks_clean = decks.copy()"
   ]
  },
  {
   "cell_type": "code",
   "execution_count": null,
   "metadata": {},
   "outputs": [],
   "source": [
    "decks_clean = pd.read_csv('~/Documents/MTGA_rarity_analysis/data/decks_clean.csv')"
   ]
  },
  {
   "cell_type": "markdown",
   "metadata": {},
   "source": [
    "# Assess"
   ]
  },
  {
   "cell_type": "code",
   "execution_count": null,
   "metadata": {},
   "outputs": [],
   "source": [
    "decks_clean.head()"
   ]
  },
  {
   "cell_type": "code",
   "execution_count": null,
   "metadata": {},
   "outputs": [],
   "source": [
    "decks_clean.tail()"
   ]
  },
  {
   "cell_type": "code",
   "execution_count": null,
   "metadata": {},
   "outputs": [],
   "source": [
    "decks_clean.sample(10)"
   ]
  },
  {
   "cell_type": "code",
   "execution_count": 6,
   "metadata": {},
   "outputs": [
    {
     "data": {
      "text/html": [
       "<div>\n",
       "<style scoped>\n",
       "    .dataframe tbody tr th:only-of-type {\n",
       "        vertical-align: middle;\n",
       "    }\n",
       "\n",
       "    .dataframe tbody tr th {\n",
       "        vertical-align: top;\n",
       "    }\n",
       "\n",
       "    .dataframe thead th {\n",
       "        text-align: right;\n",
       "    }\n",
       "</style>\n",
       "<table border=\"1\" class=\"dataframe\">\n",
       "  <thead>\n",
       "    <tr style=\"text-align: right;\">\n",
       "      <th></th>\n",
       "      <th>deck_list</th>\n",
       "      <th>player</th>\n",
       "      <th>url</th>\n",
       "      <th>name</th>\n",
       "    </tr>\n",
       "  </thead>\n",
       "  <tbody>\n",
       "    <tr>\n",
       "      <th>0</th>\n",
       "      <td>2 Shock, 10 Island, 4 Mountain, 4 Brazen Borro...</td>\n",
       "      <td>Jessica_Estephan</td>\n",
       "      <td>https://www.mtgtop8.com/event?e=23942&amp;d=366798...</td>\n",
       "      <td>Izzet_Flash</td>\n",
       "    </tr>\n",
       "    <tr>\n",
       "      <th>1</th>\n",
       "      <td>4 Shock, 18 Mountain, 4 Bonecrusher Giant, 3 E...</td>\n",
       "      <td>Andrew_Boncher</td>\n",
       "      <td>https://www.mtgtop8.com/event?e=23810&amp;d=365477...</td>\n",
       "      <td>Red_Deck_Wins</td>\n",
       "    </tr>\n",
       "    <tr>\n",
       "      <th>2</th>\n",
       "      <td>10 Island, 4 Mountain, 4 Brazen Borrower, 4 Ga...</td>\n",
       "      <td>Brandon_Banks</td>\n",
       "      <td>https://www.mtgtop8.com/event?e=23997&amp;d=367303...</td>\n",
       "      <td>Izzet_Control</td>\n",
       "    </tr>\n",
       "    <tr>\n",
       "      <th>3</th>\n",
       "      <td>6 Forest, 3 Swamp, 4 Breeding Pool, 4 Cauldron...</td>\n",
       "      <td>Andrew_C</td>\n",
       "      <td>https://www.mtgtop8.com/event?e=23716&amp;d=364618...</td>\n",
       "      <td>Sultai_Sacrifice</td>\n",
       "    </tr>\n",
       "    <tr>\n",
       "      <th>4</th>\n",
       "      <td>1 Forest, 2 Island, 2 Mountain, 4 Breeding Poo...</td>\n",
       "      <td>Mx-hejji</td>\n",
       "      <td>https://www.mtgtop8.com/event?e=23796&amp;d=365372...</td>\n",
       "      <td>Reclamation</td>\n",
       "    </tr>\n",
       "    <tr>\n",
       "      <th>...</th>\n",
       "      <td>...</td>\n",
       "      <td>...</td>\n",
       "      <td>...</td>\n",
       "      <td>...</td>\n",
       "    </tr>\n",
       "    <tr>\n",
       "      <th>337</th>\n",
       "      <td>1 Disenchant, 2 Island, 2 Mountain, 1 Plains, ...</td>\n",
       "      <td>Matthew_Watts</td>\n",
       "      <td>https://www.mtgtop8.com/event?e=24037&amp;d=367686...</td>\n",
       "      <td>Jeskai_Fires</td>\n",
       "    </tr>\n",
       "    <tr>\n",
       "      <th>338</th>\n",
       "      <td>4 Shock, 17 Mountain, 4 Claim the Firstborn, 4...</td>\n",
       "      <td>Sandydogmtg</td>\n",
       "      <td>https://www.mtgtop8.com/event?e=24137&amp;d=368458...</td>\n",
       "      <td>Red_Deck_Wins</td>\n",
       "    </tr>\n",
       "    <tr>\n",
       "      <th>339</th>\n",
       "      <td>4 Chandra's Spitfire, 4 Shock, 18 Mountain, 3 ...</td>\n",
       "      <td>Billy_K</td>\n",
       "      <td>https://www.mtgtop8.com/event?e=23716&amp;d=364614...</td>\n",
       "      <td>Cavalcade</td>\n",
       "    </tr>\n",
       "    <tr>\n",
       "      <th>340</th>\n",
       "      <td>9 Forest, 8 Mountain, 4 Bonecrusher Giant, 3 E...</td>\n",
       "      <td>Esther_Trujillo</td>\n",
       "      <td>https://www.mtgtop8.com/event?e=23942&amp;d=366790...</td>\n",
       "      <td>Gruul_Aggro</td>\n",
       "    </tr>\n",
       "    <tr>\n",
       "      <th>341</th>\n",
       "      <td>7 Forest, 7 Island, 4 Breeding Pool, 2 Brazen ...</td>\n",
       "      <td>Benjamin_Czarny</td>\n",
       "      <td>https://www.mtgtop8.com/event?e=24037&amp;d=367687...</td>\n",
       "      <td>Ug_Flash</td>\n",
       "    </tr>\n",
       "  </tbody>\n",
       "</table>\n",
       "<p>342 rows × 4 columns</p>\n",
       "</div>"
      ],
      "text/plain": [
       "                                             deck_list            player  \\\n",
       "0    2 Shock, 10 Island, 4 Mountain, 4 Brazen Borro...  Jessica_Estephan   \n",
       "1    4 Shock, 18 Mountain, 4 Bonecrusher Giant, 3 E...    Andrew_Boncher   \n",
       "2    10 Island, 4 Mountain, 4 Brazen Borrower, 4 Ga...     Brandon_Banks   \n",
       "3    6 Forest, 3 Swamp, 4 Breeding Pool, 4 Cauldron...          Andrew_C   \n",
       "4    1 Forest, 2 Island, 2 Mountain, 4 Breeding Poo...          Mx-hejji   \n",
       "..                                                 ...               ...   \n",
       "337  1 Disenchant, 2 Island, 2 Mountain, 1 Plains, ...     Matthew_Watts   \n",
       "338  4 Shock, 17 Mountain, 4 Claim the Firstborn, 4...       Sandydogmtg   \n",
       "339  4 Chandra's Spitfire, 4 Shock, 18 Mountain, 3 ...           Billy_K   \n",
       "340  9 Forest, 8 Mountain, 4 Bonecrusher Giant, 3 E...   Esther_Trujillo   \n",
       "341  7 Forest, 7 Island, 4 Breeding Pool, 2 Brazen ...   Benjamin_Czarny   \n",
       "\n",
       "                                                   url              name  \n",
       "0    https://www.mtgtop8.com/event?e=23942&d=366798...       Izzet_Flash  \n",
       "1    https://www.mtgtop8.com/event?e=23810&d=365477...     Red_Deck_Wins  \n",
       "2    https://www.mtgtop8.com/event?e=23997&d=367303...     Izzet_Control  \n",
       "3    https://www.mtgtop8.com/event?e=23716&d=364618...  Sultai_Sacrifice  \n",
       "4    https://www.mtgtop8.com/event?e=23796&d=365372...       Reclamation  \n",
       "..                                                 ...               ...  \n",
       "337  https://www.mtgtop8.com/event?e=24037&d=367686...      Jeskai_Fires  \n",
       "338  https://www.mtgtop8.com/event?e=24137&d=368458...     Red_Deck_Wins  \n",
       "339  https://www.mtgtop8.com/event?e=23716&d=364614...         Cavalcade  \n",
       "340  https://www.mtgtop8.com/event?e=23942&d=366790...       Gruul_Aggro  \n",
       "341  https://www.mtgtop8.com/event?e=24037&d=367687...          Ug_Flash  \n",
       "\n",
       "[342 rows x 4 columns]"
      ]
     },
     "execution_count": 6,
     "metadata": {},
     "output_type": "execute_result"
    }
   ],
   "source": [
    "decks_clean"
   ]
  },
  {
   "cell_type": "code",
   "execution_count": null,
   "metadata": {},
   "outputs": [],
   "source": [
    "decks"
   ]
  },
  {
   "cell_type": "code",
   "execution_count": null,
   "metadata": {},
   "outputs": [],
   "source": [
    "type(decks.deck_list[0])"
   ]
  },
  {
   "cell_type": "markdown",
   "metadata": {},
   "source": [
    "## Assessment\n",
    "- [done] deck_list column has , for delimiter but names can also have a comma\n",
    "- [done] cards are in one column\n",
    "- [done] multiple cards are in one object\n",
    "- [done] card number and card name are the same object\n",
    "- [done] null values in `deck_list` column\n",
    "- [done] rarities not present in the data\n",
    "- [done] some card names still have a comma at the end\n",
    "- some decks have multiple observations\n",
    "- [done] many cards have nan values for rarity\n",
    "- [done] dual cards are considered two cards in standard_sets_clean but only one card in decks_clean"
   ]
  },
  {
   "cell_type": "markdown",
   "metadata": {},
   "source": [
    "# Clean"
   ]
  },
  {
   "cell_type": "markdown",
   "metadata": {},
   "source": [
    "## Define\n",
    "- drop decks that have the same player and name"
   ]
  },
  {
   "cell_type": "markdown",
   "metadata": {},
   "source": [
    "## Code"
   ]
  },
  {
   "cell_type": "code",
   "execution_count": 7,
   "metadata": {},
   "outputs": [],
   "source": [
    "decks_clean.drop_duplicates(subset=['player', 'name'], inplace=True)"
   ]
  },
  {
   "cell_type": "markdown",
   "metadata": {},
   "source": [
    "## Test"
   ]
  },
  {
   "cell_type": "code",
   "execution_count": 9,
   "metadata": {},
   "outputs": [
    {
     "data": {
      "text/plain": [
       "0"
      ]
     },
     "execution_count": 9,
     "metadata": {},
     "output_type": "execute_result"
    }
   ],
   "source": [
    "decks_clean.duplicated(subset=['player', 'name']).sum()"
   ]
  },
  {
   "cell_type": "markdown",
   "metadata": {},
   "source": [
    "## Define\n",
    "- filter for any lists in `deck_list` that have null values in it"
   ]
  },
  {
   "cell_type": "markdown",
   "metadata": {},
   "source": [
    "## Code"
   ]
  },
  {
   "cell_type": "code",
   "execution_count": 10,
   "metadata": {},
   "outputs": [],
   "source": [
    "decks_clean.deck_list = decks_clean[decks_clean.astype(str)['deck_list'] != \"['nan']\"]"
   ]
  },
  {
   "cell_type": "markdown",
   "metadata": {},
   "source": [
    "## Test"
   ]
  },
  {
   "cell_type": "code",
   "execution_count": 11,
   "metadata": {},
   "outputs": [
    {
     "data": {
      "text/html": [
       "<div>\n",
       "<style scoped>\n",
       "    .dataframe tbody tr th:only-of-type {\n",
       "        vertical-align: middle;\n",
       "    }\n",
       "\n",
       "    .dataframe tbody tr th {\n",
       "        vertical-align: top;\n",
       "    }\n",
       "\n",
       "    .dataframe thead th {\n",
       "        text-align: right;\n",
       "    }\n",
       "</style>\n",
       "<table border=\"1\" class=\"dataframe\">\n",
       "  <thead>\n",
       "    <tr style=\"text-align: right;\">\n",
       "      <th></th>\n",
       "      <th>deck_list</th>\n",
       "      <th>player</th>\n",
       "      <th>url</th>\n",
       "      <th>name</th>\n",
       "    </tr>\n",
       "  </thead>\n",
       "  <tbody>\n",
       "  </tbody>\n",
       "</table>\n",
       "</div>"
      ],
      "text/plain": [
       "Empty DataFrame\n",
       "Columns: [deck_list, player, url, name]\n",
       "Index: []"
      ]
     },
     "execution_count": 11,
     "metadata": {},
     "output_type": "execute_result"
    }
   ],
   "source": [
    "decks_clean[decks_clean.astype(str)['deck_list'] == \"['nan']\"]"
   ]
  },
  {
   "cell_type": "markdown",
   "metadata": {},
   "source": [
    "## Define\n",
    "- make , in `deck_list` into '|' without mistaking commas in names"
   ]
  },
  {
   "cell_type": "markdown",
   "metadata": {},
   "source": [
    "## Code"
   ]
  },
  {
   "cell_type": "code",
   "execution_count": 12,
   "metadata": {},
   "outputs": [],
   "source": [
    "decks_clean.deck_list = decks_clean.deck_list.astype('str')\n",
    "decks_clean.deck_list = decks_clean.deck_list.str.replace(', (?=\\d)', '|')"
   ]
  },
  {
   "cell_type": "markdown",
   "metadata": {},
   "source": [
    "## Test"
   ]
  },
  {
   "cell_type": "code",
   "execution_count": 13,
   "metadata": {},
   "outputs": [
    {
     "data": {
      "text/html": [
       "<div>\n",
       "<style scoped>\n",
       "    .dataframe tbody tr th:only-of-type {\n",
       "        vertical-align: middle;\n",
       "    }\n",
       "\n",
       "    .dataframe tbody tr th {\n",
       "        vertical-align: top;\n",
       "    }\n",
       "\n",
       "    .dataframe thead th {\n",
       "        text-align: right;\n",
       "    }\n",
       "</style>\n",
       "<table border=\"1\" class=\"dataframe\">\n",
       "  <thead>\n",
       "    <tr style=\"text-align: right;\">\n",
       "      <th></th>\n",
       "      <th>deck_list</th>\n",
       "      <th>player</th>\n",
       "      <th>url</th>\n",
       "      <th>name</th>\n",
       "    </tr>\n",
       "  </thead>\n",
       "  <tbody>\n",
       "    <tr>\n",
       "      <th>0</th>\n",
       "      <td>2 Shock|10 Island|4 Mountain|4 Brazen Borrower...</td>\n",
       "      <td>Jessica_Estephan</td>\n",
       "      <td>https://www.mtgtop8.com/event?e=23942&amp;d=366798...</td>\n",
       "      <td>Izzet_Flash</td>\n",
       "    </tr>\n",
       "    <tr>\n",
       "      <th>1</th>\n",
       "      <td>4 Shock|18 Mountain|4 Bonecrusher Giant|3 Embe...</td>\n",
       "      <td>Andrew_Boncher</td>\n",
       "      <td>https://www.mtgtop8.com/event?e=23810&amp;d=365477...</td>\n",
       "      <td>Red_Deck_Wins</td>\n",
       "    </tr>\n",
       "    <tr>\n",
       "      <th>2</th>\n",
       "      <td>10 Island|4 Mountain|4 Brazen Borrower|4 Gadwi...</td>\n",
       "      <td>Brandon_Banks</td>\n",
       "      <td>https://www.mtgtop8.com/event?e=23997&amp;d=367303...</td>\n",
       "      <td>Izzet_Control</td>\n",
       "    </tr>\n",
       "    <tr>\n",
       "      <th>3</th>\n",
       "      <td>6 Forest|3 Swamp|4 Breeding Pool|4 Cauldron Fa...</td>\n",
       "      <td>Andrew_C</td>\n",
       "      <td>https://www.mtgtop8.com/event?e=23716&amp;d=364618...</td>\n",
       "      <td>Sultai_Sacrifice</td>\n",
       "    </tr>\n",
       "    <tr>\n",
       "      <th>4</th>\n",
       "      <td>1 Forest|2 Island|2 Mountain|4 Breeding Pool|2...</td>\n",
       "      <td>Mx-hejji</td>\n",
       "      <td>https://www.mtgtop8.com/event?e=23796&amp;d=365372...</td>\n",
       "      <td>Reclamation</td>\n",
       "    </tr>\n",
       "  </tbody>\n",
       "</table>\n",
       "</div>"
      ],
      "text/plain": [
       "                                           deck_list            player  \\\n",
       "0  2 Shock|10 Island|4 Mountain|4 Brazen Borrower...  Jessica_Estephan   \n",
       "1  4 Shock|18 Mountain|4 Bonecrusher Giant|3 Embe...    Andrew_Boncher   \n",
       "2  10 Island|4 Mountain|4 Brazen Borrower|4 Gadwi...     Brandon_Banks   \n",
       "3  6 Forest|3 Swamp|4 Breeding Pool|4 Cauldron Fa...          Andrew_C   \n",
       "4  1 Forest|2 Island|2 Mountain|4 Breeding Pool|2...          Mx-hejji   \n",
       "\n",
       "                                                 url              name  \n",
       "0  https://www.mtgtop8.com/event?e=23942&d=366798...       Izzet_Flash  \n",
       "1  https://www.mtgtop8.com/event?e=23810&d=365477...     Red_Deck_Wins  \n",
       "2  https://www.mtgtop8.com/event?e=23997&d=367303...     Izzet_Control  \n",
       "3  https://www.mtgtop8.com/event?e=23716&d=364618...  Sultai_Sacrifice  \n",
       "4  https://www.mtgtop8.com/event?e=23796&d=365372...       Reclamation  "
      ]
     },
     "execution_count": 13,
     "metadata": {},
     "output_type": "execute_result"
    }
   ],
   "source": [
    "decks_clean.head()"
   ]
  },
  {
   "cell_type": "markdown",
   "metadata": {},
   "source": [
    "## Define\n",
    "- split `deck_list` by card"
   ]
  },
  {
   "cell_type": "markdown",
   "metadata": {},
   "source": [
    "## Code"
   ]
  },
  {
   "cell_type": "code",
   "execution_count": 14,
   "metadata": {},
   "outputs": [],
   "source": [
    "new = decks_clean.deck_list.str.split('|', expand=True)\n",
    "decks_clean = decks_clean.join(new)"
   ]
  },
  {
   "cell_type": "markdown",
   "metadata": {},
   "source": [
    "## Test"
   ]
  },
  {
   "cell_type": "code",
   "execution_count": 15,
   "metadata": {},
   "outputs": [
    {
     "data": {
      "text/html": [
       "<div>\n",
       "<style scoped>\n",
       "    .dataframe tbody tr th:only-of-type {\n",
       "        vertical-align: middle;\n",
       "    }\n",
       "\n",
       "    .dataframe tbody tr th {\n",
       "        vertical-align: top;\n",
       "    }\n",
       "\n",
       "    .dataframe thead th {\n",
       "        text-align: right;\n",
       "    }\n",
       "</style>\n",
       "<table border=\"1\" class=\"dataframe\">\n",
       "  <thead>\n",
       "    <tr style=\"text-align: right;\">\n",
       "      <th></th>\n",
       "      <th>deck_list</th>\n",
       "      <th>player</th>\n",
       "      <th>url</th>\n",
       "      <th>name</th>\n",
       "      <th>0</th>\n",
       "      <th>1</th>\n",
       "      <th>2</th>\n",
       "      <th>3</th>\n",
       "      <th>4</th>\n",
       "      <th>5</th>\n",
       "      <th>...</th>\n",
       "      <th>29</th>\n",
       "      <th>30</th>\n",
       "      <th>31</th>\n",
       "      <th>32</th>\n",
       "      <th>33</th>\n",
       "      <th>34</th>\n",
       "      <th>35</th>\n",
       "      <th>36</th>\n",
       "      <th>37</th>\n",
       "      <th>38</th>\n",
       "    </tr>\n",
       "  </thead>\n",
       "  <tbody>\n",
       "    <tr>\n",
       "      <th>0</th>\n",
       "      <td>2 Shock|10 Island|4 Mountain|4 Brazen Borrower...</td>\n",
       "      <td>Jessica_Estephan</td>\n",
       "      <td>https://www.mtgtop8.com/event?e=23942&amp;d=366798...</td>\n",
       "      <td>Izzet_Flash</td>\n",
       "      <td>2 Shock</td>\n",
       "      <td>10 Island</td>\n",
       "      <td>4 Mountain</td>\n",
       "      <td>4 Brazen Borrower</td>\n",
       "      <td>3 Gadwick, the Wizened</td>\n",
       "      <td>2 Mystical Dispute</td>\n",
       "      <td>...</td>\n",
       "      <td>None</td>\n",
       "      <td>None</td>\n",
       "      <td>None</td>\n",
       "      <td>None</td>\n",
       "      <td>None</td>\n",
       "      <td>None</td>\n",
       "      <td>None</td>\n",
       "      <td>None</td>\n",
       "      <td>None</td>\n",
       "      <td>None</td>\n",
       "    </tr>\n",
       "    <tr>\n",
       "      <th>1</th>\n",
       "      <td>4 Shock|18 Mountain|4 Bonecrusher Giant|3 Embe...</td>\n",
       "      <td>Andrew_Boncher</td>\n",
       "      <td>https://www.mtgtop8.com/event?e=23810&amp;d=365477...</td>\n",
       "      <td>Red_Deck_Wins</td>\n",
       "      <td>4 Shock</td>\n",
       "      <td>18 Mountain</td>\n",
       "      <td>4 Bonecrusher Giant</td>\n",
       "      <td>3 Embercleave</td>\n",
       "      <td>4 Embereth Paladin</td>\n",
       "      <td>4 Rimrock Knight</td>\n",
       "      <td>...</td>\n",
       "      <td>None</td>\n",
       "      <td>None</td>\n",
       "      <td>None</td>\n",
       "      <td>None</td>\n",
       "      <td>None</td>\n",
       "      <td>None</td>\n",
       "      <td>None</td>\n",
       "      <td>None</td>\n",
       "      <td>None</td>\n",
       "      <td>None</td>\n",
       "    </tr>\n",
       "    <tr>\n",
       "      <th>2</th>\n",
       "      <td>10 Island|4 Mountain|4 Brazen Borrower|4 Gadwi...</td>\n",
       "      <td>Brandon_Banks</td>\n",
       "      <td>https://www.mtgtop8.com/event?e=23997&amp;d=367303...</td>\n",
       "      <td>Izzet_Control</td>\n",
       "      <td>10 Island</td>\n",
       "      <td>4 Mountain</td>\n",
       "      <td>4 Brazen Borrower</td>\n",
       "      <td>4 Gadwick, the Wizened</td>\n",
       "      <td>3 Mystical Dispute</td>\n",
       "      <td>4 Bonecrusher Giant</td>\n",
       "      <td>...</td>\n",
       "      <td>None</td>\n",
       "      <td>None</td>\n",
       "      <td>None</td>\n",
       "      <td>None</td>\n",
       "      <td>None</td>\n",
       "      <td>None</td>\n",
       "      <td>None</td>\n",
       "      <td>None</td>\n",
       "      <td>None</td>\n",
       "      <td>None</td>\n",
       "    </tr>\n",
       "    <tr>\n",
       "      <th>3</th>\n",
       "      <td>6 Forest|3 Swamp|4 Breeding Pool|4 Cauldron Fa...</td>\n",
       "      <td>Andrew_C</td>\n",
       "      <td>https://www.mtgtop8.com/event?e=23716&amp;d=364618...</td>\n",
       "      <td>Sultai_Sacrifice</td>\n",
       "      <td>6 Forest</td>\n",
       "      <td>3 Swamp</td>\n",
       "      <td>4 Breeding Pool</td>\n",
       "      <td>4 Cauldron Familiar</td>\n",
       "      <td>3 Murderous Rider</td>\n",
       "      <td>4 Gilded Goose</td>\n",
       "      <td>...</td>\n",
       "      <td>None</td>\n",
       "      <td>None</td>\n",
       "      <td>None</td>\n",
       "      <td>None</td>\n",
       "      <td>None</td>\n",
       "      <td>None</td>\n",
       "      <td>None</td>\n",
       "      <td>None</td>\n",
       "      <td>None</td>\n",
       "      <td>None</td>\n",
       "    </tr>\n",
       "    <tr>\n",
       "      <th>4</th>\n",
       "      <td>1 Forest|2 Island|2 Mountain|4 Breeding Pool|2...</td>\n",
       "      <td>Mx-hejji</td>\n",
       "      <td>https://www.mtgtop8.com/event?e=23796&amp;d=365372...</td>\n",
       "      <td>Reclamation</td>\n",
       "      <td>1 Forest</td>\n",
       "      <td>2 Island</td>\n",
       "      <td>2 Mountain</td>\n",
       "      <td>4 Breeding Pool</td>\n",
       "      <td>2 Brazen Borrower</td>\n",
       "      <td>2 Mystical Dispute</td>\n",
       "      <td>...</td>\n",
       "      <td>None</td>\n",
       "      <td>None</td>\n",
       "      <td>None</td>\n",
       "      <td>None</td>\n",
       "      <td>None</td>\n",
       "      <td>None</td>\n",
       "      <td>None</td>\n",
       "      <td>None</td>\n",
       "      <td>None</td>\n",
       "      <td>None</td>\n",
       "    </tr>\n",
       "  </tbody>\n",
       "</table>\n",
       "<p>5 rows × 43 columns</p>\n",
       "</div>"
      ],
      "text/plain": [
       "                                           deck_list            player  \\\n",
       "0  2 Shock|10 Island|4 Mountain|4 Brazen Borrower...  Jessica_Estephan   \n",
       "1  4 Shock|18 Mountain|4 Bonecrusher Giant|3 Embe...    Andrew_Boncher   \n",
       "2  10 Island|4 Mountain|4 Brazen Borrower|4 Gadwi...     Brandon_Banks   \n",
       "3  6 Forest|3 Swamp|4 Breeding Pool|4 Cauldron Fa...          Andrew_C   \n",
       "4  1 Forest|2 Island|2 Mountain|4 Breeding Pool|2...          Mx-hejji   \n",
       "\n",
       "                                                 url              name  \\\n",
       "0  https://www.mtgtop8.com/event?e=23942&d=366798...       Izzet_Flash   \n",
       "1  https://www.mtgtop8.com/event?e=23810&d=365477...     Red_Deck_Wins   \n",
       "2  https://www.mtgtop8.com/event?e=23997&d=367303...     Izzet_Control   \n",
       "3  https://www.mtgtop8.com/event?e=23716&d=364618...  Sultai_Sacrifice   \n",
       "4  https://www.mtgtop8.com/event?e=23796&d=365372...       Reclamation   \n",
       "\n",
       "           0            1                    2                       3  \\\n",
       "0    2 Shock    10 Island           4 Mountain       4 Brazen Borrower   \n",
       "1    4 Shock  18 Mountain  4 Bonecrusher Giant           3 Embercleave   \n",
       "2  10 Island   4 Mountain    4 Brazen Borrower  4 Gadwick, the Wizened   \n",
       "3   6 Forest      3 Swamp      4 Breeding Pool     4 Cauldron Familiar   \n",
       "4   1 Forest     2 Island           2 Mountain         4 Breeding Pool   \n",
       "\n",
       "                        4                    5  ...    29    30    31    32  \\\n",
       "0  3 Gadwick, the Wizened   2 Mystical Dispute  ...  None  None  None  None   \n",
       "1      4 Embereth Paladin     4 Rimrock Knight  ...  None  None  None  None   \n",
       "2      3 Mystical Dispute  4 Bonecrusher Giant  ...  None  None  None  None   \n",
       "3       3 Murderous Rider       4 Gilded Goose  ...  None  None  None  None   \n",
       "4       2 Brazen Borrower   2 Mystical Dispute  ...  None  None  None  None   \n",
       "\n",
       "     33    34    35    36    37    38  \n",
       "0  None  None  None  None  None  None  \n",
       "1  None  None  None  None  None  None  \n",
       "2  None  None  None  None  None  None  \n",
       "3  None  None  None  None  None  None  \n",
       "4  None  None  None  None  None  None  \n",
       "\n",
       "[5 rows x 43 columns]"
      ]
     },
     "execution_count": 15,
     "metadata": {},
     "output_type": "execute_result"
    }
   ],
   "source": [
    "decks_clean.head()"
   ]
  },
  {
   "cell_type": "markdown",
   "metadata": {},
   "source": [
    "## Define \n",
    "- melt cards into one column"
   ]
  },
  {
   "cell_type": "markdown",
   "metadata": {},
   "source": [
    "## Code"
   ]
  },
  {
   "cell_type": "code",
   "execution_count": 16,
   "metadata": {},
   "outputs": [],
   "source": [
    "decks_clean = pd.melt(decks_clean, id_vars=['deck_list', 'player', 'url', 'name'], value_vars=decks_clean.columns[4:45])"
   ]
  },
  {
   "cell_type": "code",
   "execution_count": 17,
   "metadata": {},
   "outputs": [],
   "source": [
    "decks_clean = decks_clean.rename(columns={'value':'cards'}).drop(columns=['deck_list', 'variable'])"
   ]
  },
  {
   "cell_type": "markdown",
   "metadata": {},
   "source": [
    "## Test"
   ]
  },
  {
   "cell_type": "code",
   "execution_count": 18,
   "metadata": {},
   "outputs": [
    {
     "data": {
      "text/plain": [
       "(12402, 4)"
      ]
     },
     "execution_count": 18,
     "metadata": {},
     "output_type": "execute_result"
    }
   ],
   "source": [
    "decks_clean.shape"
   ]
  },
  {
   "cell_type": "code",
   "execution_count": 19,
   "metadata": {},
   "outputs": [
    {
     "data": {
      "text/html": [
       "<div>\n",
       "<style scoped>\n",
       "    .dataframe tbody tr th:only-of-type {\n",
       "        vertical-align: middle;\n",
       "    }\n",
       "\n",
       "    .dataframe tbody tr th {\n",
       "        vertical-align: top;\n",
       "    }\n",
       "\n",
       "    .dataframe thead th {\n",
       "        text-align: right;\n",
       "    }\n",
       "</style>\n",
       "<table border=\"1\" class=\"dataframe\">\n",
       "  <thead>\n",
       "    <tr style=\"text-align: right;\">\n",
       "      <th></th>\n",
       "      <th>player</th>\n",
       "      <th>url</th>\n",
       "      <th>name</th>\n",
       "      <th>cards</th>\n",
       "    </tr>\n",
       "  </thead>\n",
       "  <tbody>\n",
       "    <tr>\n",
       "      <th>0</th>\n",
       "      <td>Jessica_Estephan</td>\n",
       "      <td>https://www.mtgtop8.com/event?e=23942&amp;d=366798...</td>\n",
       "      <td>Izzet_Flash</td>\n",
       "      <td>2 Shock</td>\n",
       "    </tr>\n",
       "    <tr>\n",
       "      <th>1</th>\n",
       "      <td>Andrew_Boncher</td>\n",
       "      <td>https://www.mtgtop8.com/event?e=23810&amp;d=365477...</td>\n",
       "      <td>Red_Deck_Wins</td>\n",
       "      <td>4 Shock</td>\n",
       "    </tr>\n",
       "    <tr>\n",
       "      <th>2</th>\n",
       "      <td>Brandon_Banks</td>\n",
       "      <td>https://www.mtgtop8.com/event?e=23997&amp;d=367303...</td>\n",
       "      <td>Izzet_Control</td>\n",
       "      <td>10 Island</td>\n",
       "    </tr>\n",
       "    <tr>\n",
       "      <th>3</th>\n",
       "      <td>Andrew_C</td>\n",
       "      <td>https://www.mtgtop8.com/event?e=23716&amp;d=364618...</td>\n",
       "      <td>Sultai_Sacrifice</td>\n",
       "      <td>6 Forest</td>\n",
       "    </tr>\n",
       "    <tr>\n",
       "      <th>4</th>\n",
       "      <td>Mx-hejji</td>\n",
       "      <td>https://www.mtgtop8.com/event?e=23796&amp;d=365372...</td>\n",
       "      <td>Reclamation</td>\n",
       "      <td>1 Forest</td>\n",
       "    </tr>\n",
       "  </tbody>\n",
       "</table>\n",
       "</div>"
      ],
      "text/plain": [
       "             player                                                url  \\\n",
       "0  Jessica_Estephan  https://www.mtgtop8.com/event?e=23942&d=366798...   \n",
       "1    Andrew_Boncher  https://www.mtgtop8.com/event?e=23810&d=365477...   \n",
       "2     Brandon_Banks  https://www.mtgtop8.com/event?e=23997&d=367303...   \n",
       "3          Andrew_C  https://www.mtgtop8.com/event?e=23716&d=364618...   \n",
       "4          Mx-hejji  https://www.mtgtop8.com/event?e=23796&d=365372...   \n",
       "\n",
       "               name      cards  \n",
       "0       Izzet_Flash    2 Shock  \n",
       "1     Red_Deck_Wins    4 Shock  \n",
       "2     Izzet_Control  10 Island  \n",
       "3  Sultai_Sacrifice   6 Forest  \n",
       "4       Reclamation   1 Forest  "
      ]
     },
     "execution_count": 19,
     "metadata": {},
     "output_type": "execute_result"
    }
   ],
   "source": [
    "decks_clean.head()"
   ]
  },
  {
   "cell_type": "markdown",
   "metadata": {},
   "source": [
    "## Define\n",
    "- drop rows that have 'None' in them"
   ]
  },
  {
   "cell_type": "markdown",
   "metadata": {},
   "source": [
    "## Code"
   ]
  },
  {
   "cell_type": "code",
   "execution_count": 20,
   "metadata": {},
   "outputs": [],
   "source": [
    "decks_clean.cards = decks_clean.cards.astype('str')"
   ]
  },
  {
   "cell_type": "code",
   "execution_count": 21,
   "metadata": {},
   "outputs": [],
   "source": [
    "decks_clean = decks_clean[decks_clean.cards != 'None']"
   ]
  },
  {
   "cell_type": "code",
   "execution_count": 22,
   "metadata": {},
   "outputs": [],
   "source": [
    "decks_clean.to_csv('~/Documents/MTGA_rarity_analysis/data/decks_clean.csv', index=False)"
   ]
  },
  {
   "cell_type": "markdown",
   "metadata": {},
   "source": [
    "## Test"
   ]
  },
  {
   "cell_type": "code",
   "execution_count": 23,
   "metadata": {},
   "outputs": [
    {
     "data": {
      "text/html": [
       "<div>\n",
       "<style scoped>\n",
       "    .dataframe tbody tr th:only-of-type {\n",
       "        vertical-align: middle;\n",
       "    }\n",
       "\n",
       "    .dataframe tbody tr th {\n",
       "        vertical-align: top;\n",
       "    }\n",
       "\n",
       "    .dataframe thead th {\n",
       "        text-align: right;\n",
       "    }\n",
       "</style>\n",
       "<table border=\"1\" class=\"dataframe\">\n",
       "  <thead>\n",
       "    <tr style=\"text-align: right;\">\n",
       "      <th></th>\n",
       "      <th>player</th>\n",
       "      <th>url</th>\n",
       "      <th>name</th>\n",
       "      <th>cards</th>\n",
       "    </tr>\n",
       "  </thead>\n",
       "  <tbody>\n",
       "  </tbody>\n",
       "</table>\n",
       "</div>"
      ],
      "text/plain": [
       "Empty DataFrame\n",
       "Columns: [player, url, name, cards]\n",
       "Index: []"
      ]
     },
     "execution_count": 23,
     "metadata": {},
     "output_type": "execute_result"
    }
   ],
   "source": [
    "decks_clean[decks_clean.cards == 'None']"
   ]
  },
  {
   "cell_type": "markdown",
   "metadata": {},
   "source": [
    "## Define\n",
    "- get numbers out of `cards` column"
   ]
  },
  {
   "cell_type": "markdown",
   "metadata": {},
   "source": [
    "## Code"
   ]
  },
  {
   "cell_type": "code",
   "execution_count": 24,
   "metadata": {},
   "outputs": [],
   "source": [
    "new = decks_clean.cards.str.split('(?<=\\d)\\s', expand=True)\n",
    "decks_clean = decks_clean.join(new).rename(columns={'name':'deck_name', 0:'num', 1:'card_name'}).drop(columns=['cards'])"
   ]
  },
  {
   "cell_type": "markdown",
   "metadata": {},
   "source": [
    "## Test"
   ]
  },
  {
   "cell_type": "code",
   "execution_count": 25,
   "metadata": {},
   "outputs": [
    {
     "data": {
      "text/html": [
       "<div>\n",
       "<style scoped>\n",
       "    .dataframe tbody tr th:only-of-type {\n",
       "        vertical-align: middle;\n",
       "    }\n",
       "\n",
       "    .dataframe tbody tr th {\n",
       "        vertical-align: top;\n",
       "    }\n",
       "\n",
       "    .dataframe thead th {\n",
       "        text-align: right;\n",
       "    }\n",
       "</style>\n",
       "<table border=\"1\" class=\"dataframe\">\n",
       "  <thead>\n",
       "    <tr style=\"text-align: right;\">\n",
       "      <th></th>\n",
       "      <th>player</th>\n",
       "      <th>url</th>\n",
       "      <th>deck_name</th>\n",
       "      <th>num</th>\n",
       "      <th>card_name</th>\n",
       "    </tr>\n",
       "  </thead>\n",
       "  <tbody>\n",
       "    <tr>\n",
       "      <th>0</th>\n",
       "      <td>Jessica_Estephan</td>\n",
       "      <td>https://www.mtgtop8.com/event?e=23942&amp;d=366798...</td>\n",
       "      <td>Izzet_Flash</td>\n",
       "      <td>2</td>\n",
       "      <td>Shock</td>\n",
       "    </tr>\n",
       "    <tr>\n",
       "      <th>1</th>\n",
       "      <td>Andrew_Boncher</td>\n",
       "      <td>https://www.mtgtop8.com/event?e=23810&amp;d=365477...</td>\n",
       "      <td>Red_Deck_Wins</td>\n",
       "      <td>4</td>\n",
       "      <td>Shock</td>\n",
       "    </tr>\n",
       "    <tr>\n",
       "      <th>2</th>\n",
       "      <td>Brandon_Banks</td>\n",
       "      <td>https://www.mtgtop8.com/event?e=23997&amp;d=367303...</td>\n",
       "      <td>Izzet_Control</td>\n",
       "      <td>10</td>\n",
       "      <td>Island</td>\n",
       "    </tr>\n",
       "    <tr>\n",
       "      <th>3</th>\n",
       "      <td>Andrew_C</td>\n",
       "      <td>https://www.mtgtop8.com/event?e=23716&amp;d=364618...</td>\n",
       "      <td>Sultai_Sacrifice</td>\n",
       "      <td>6</td>\n",
       "      <td>Forest</td>\n",
       "    </tr>\n",
       "    <tr>\n",
       "      <th>4</th>\n",
       "      <td>Mx-hejji</td>\n",
       "      <td>https://www.mtgtop8.com/event?e=23796&amp;d=365372...</td>\n",
       "      <td>Reclamation</td>\n",
       "      <td>1</td>\n",
       "      <td>Forest</td>\n",
       "    </tr>\n",
       "  </tbody>\n",
       "</table>\n",
       "</div>"
      ],
      "text/plain": [
       "             player                                                url  \\\n",
       "0  Jessica_Estephan  https://www.mtgtop8.com/event?e=23942&d=366798...   \n",
       "1    Andrew_Boncher  https://www.mtgtop8.com/event?e=23810&d=365477...   \n",
       "2     Brandon_Banks  https://www.mtgtop8.com/event?e=23997&d=367303...   \n",
       "3          Andrew_C  https://www.mtgtop8.com/event?e=23716&d=364618...   \n",
       "4          Mx-hejji  https://www.mtgtop8.com/event?e=23796&d=365372...   \n",
       "\n",
       "          deck_name num card_name  \n",
       "0       Izzet_Flash   2     Shock  \n",
       "1     Red_Deck_Wins   4     Shock  \n",
       "2     Izzet_Control  10    Island  \n",
       "3  Sultai_Sacrifice   6    Forest  \n",
       "4       Reclamation   1    Forest  "
      ]
     },
     "execution_count": 25,
     "metadata": {},
     "output_type": "execute_result"
    }
   ],
   "source": [
    "decks_clean.head()"
   ]
  },
  {
   "cell_type": "code",
   "execution_count": 26,
   "metadata": {},
   "outputs": [],
   "source": [
    "decks_clean.to_csv('~/Documents/MTGA_rarity_analysis/data/decks_clean.csv', index=False)"
   ]
  },
  {
   "cell_type": "markdown",
   "metadata": {},
   "source": [
    "## Define\n",
    "- Add card rarity to decks_clean"
   ]
  },
  {
   "cell_type": "code",
   "execution_count": 27,
   "metadata": {},
   "outputs": [],
   "source": [
    "# code to get rarity in a list by themselves\n",
    "card_rarities = []\n",
    "for i in standard_sets_clean.keys():\n",
    "    current_set = standard_sets_clean[i]['cards']\n",
    "    for a in np.arange(np.count_nonzero(current_set)):\n",
    "        rarity = current_set[a]['rarity']\n",
    "        card_rarities.append(rarity)"
   ]
  },
  {
   "cell_type": "code",
   "execution_count": 28,
   "metadata": {},
   "outputs": [],
   "source": [
    "# code to get names in a list by themselves\n",
    "card_names = []\n",
    "for i in standard_sets_clean.keys():\n",
    "    current_set = standard_sets_clean[i]['cards']\n",
    "    for a in np.arange(np.count_nonzero(current_set)):\n",
    "        name = current_set[a]['name']\n",
    "        card_names.append(name)"
   ]
  },
  {
   "cell_type": "code",
   "execution_count": 29,
   "metadata": {},
   "outputs": [],
   "source": [
    "# code to create dataframe of card_rarities and card_names\n",
    "mtg_card_rarities = pd.DataFrame({'card_name': card_names, 'card_rarity': card_rarities})\n",
    "mtg_card_rarities_clean = mtg_card_rarities.copy()\n",
    "mtg_card_rarities_clean.to_csv('~/Documents/MTGA_rarity_analysis/data/mtg_card_rarities_clean.csv', index=False)"
   ]
  },
  {
   "cell_type": "code",
   "execution_count": 30,
   "metadata": {},
   "outputs": [],
   "source": [
    "# drop duplicates in mtg_card_rarities_clean\n",
    "mtg_card_rarities_clean.drop_duplicates(inplace=True)"
   ]
  },
  {
   "cell_type": "code",
   "execution_count": 31,
   "metadata": {},
   "outputs": [],
   "source": [
    "mtg_card_rarities_clean.to_csv('~/Documents/MTGA_rarity_analysis/data/mtg_card_rarities_clean.csv', index=False)"
   ]
  },
  {
   "cell_type": "code",
   "execution_count": 32,
   "metadata": {},
   "outputs": [],
   "source": [
    "mtg_card_rarities_clean = pd.read_csv('~/Documents/MTGA_rarity_analysis/data/mtg_card_rarities_clean.csv')"
   ]
  },
  {
   "cell_type": "code",
   "execution_count": 33,
   "metadata": {},
   "outputs": [],
   "source": [
    "decks_clean = decks_clean.join(mtg_card_rarities_clean.set_index('card_name'), on='card_name')"
   ]
  },
  {
   "cell_type": "code",
   "execution_count": 34,
   "metadata": {},
   "outputs": [],
   "source": [
    "decks_clean.num = decks_clean.num.astype('int64')"
   ]
  },
  {
   "cell_type": "markdown",
   "metadata": {},
   "source": [
    "## Test"
   ]
  },
  {
   "cell_type": "code",
   "execution_count": 35,
   "metadata": {},
   "outputs": [
    {
     "data": {
      "text/html": [
       "<div>\n",
       "<style scoped>\n",
       "    .dataframe tbody tr th:only-of-type {\n",
       "        vertical-align: middle;\n",
       "    }\n",
       "\n",
       "    .dataframe tbody tr th {\n",
       "        vertical-align: top;\n",
       "    }\n",
       "\n",
       "    .dataframe thead th {\n",
       "        text-align: right;\n",
       "    }\n",
       "</style>\n",
       "<table border=\"1\" class=\"dataframe\">\n",
       "  <thead>\n",
       "    <tr style=\"text-align: right;\">\n",
       "      <th></th>\n",
       "      <th>card_name</th>\n",
       "      <th>card_rarity</th>\n",
       "    </tr>\n",
       "  </thead>\n",
       "  <tbody>\n",
       "    <tr>\n",
       "      <th>0</th>\n",
       "      <td>Acclaimed Contender</td>\n",
       "      <td>rare</td>\n",
       "    </tr>\n",
       "    <tr>\n",
       "      <th>1</th>\n",
       "      <td>Alela, Artful Provocateur</td>\n",
       "      <td>mythic</td>\n",
       "    </tr>\n",
       "    <tr>\n",
       "      <th>2</th>\n",
       "      <td>All That Glitters</td>\n",
       "      <td>uncommon</td>\n",
       "    </tr>\n",
       "    <tr>\n",
       "      <th>3</th>\n",
       "      <td>Bring to Life</td>\n",
       "      <td>uncommon</td>\n",
       "    </tr>\n",
       "    <tr>\n",
       "      <th>4</th>\n",
       "      <td>Animating Faerie</td>\n",
       "      <td>uncommon</td>\n",
       "    </tr>\n",
       "    <tr>\n",
       "      <th>...</th>\n",
       "      <td>...</td>\n",
       "      <td>...</td>\n",
       "    </tr>\n",
       "    <tr>\n",
       "      <th>1415</th>\n",
       "      <td>Wall of Runes</td>\n",
       "      <td>common</td>\n",
       "    </tr>\n",
       "    <tr>\n",
       "      <th>1416</th>\n",
       "      <td>Wanderer's Strike</td>\n",
       "      <td>common</td>\n",
       "    </tr>\n",
       "    <tr>\n",
       "      <th>1417</th>\n",
       "      <td>War Screecher</td>\n",
       "      <td>common</td>\n",
       "    </tr>\n",
       "    <tr>\n",
       "      <th>1418</th>\n",
       "      <td>Wardscale Crocodile</td>\n",
       "      <td>common</td>\n",
       "    </tr>\n",
       "    <tr>\n",
       "      <th>1419</th>\n",
       "      <td>Widespread Brutality</td>\n",
       "      <td>rare</td>\n",
       "    </tr>\n",
       "  </tbody>\n",
       "</table>\n",
       "<p>1420 rows × 2 columns</p>\n",
       "</div>"
      ],
      "text/plain": [
       "                      card_name card_rarity\n",
       "0           Acclaimed Contender        rare\n",
       "1     Alela, Artful Provocateur      mythic\n",
       "2             All That Glitters    uncommon\n",
       "3                 Bring to Life    uncommon\n",
       "4              Animating Faerie    uncommon\n",
       "...                         ...         ...\n",
       "1415              Wall of Runes      common\n",
       "1416          Wanderer's Strike      common\n",
       "1417              War Screecher      common\n",
       "1418        Wardscale Crocodile      common\n",
       "1419       Widespread Brutality        rare\n",
       "\n",
       "[1420 rows x 2 columns]"
      ]
     },
     "execution_count": 35,
     "metadata": {},
     "output_type": "execute_result"
    }
   ],
   "source": [
    "mtg_card_rarities_clean"
   ]
  },
  {
   "cell_type": "code",
   "execution_count": 36,
   "metadata": {},
   "outputs": [
    {
     "data": {
      "text/html": [
       "<div>\n",
       "<style scoped>\n",
       "    .dataframe tbody tr th:only-of-type {\n",
       "        vertical-align: middle;\n",
       "    }\n",
       "\n",
       "    .dataframe tbody tr th {\n",
       "        vertical-align: top;\n",
       "    }\n",
       "\n",
       "    .dataframe thead th {\n",
       "        text-align: right;\n",
       "    }\n",
       "</style>\n",
       "<table border=\"1\" class=\"dataframe\">\n",
       "  <thead>\n",
       "    <tr style=\"text-align: right;\">\n",
       "      <th></th>\n",
       "      <th>player</th>\n",
       "      <th>url</th>\n",
       "      <th>deck_name</th>\n",
       "      <th>num</th>\n",
       "      <th>card_name</th>\n",
       "      <th>card_rarity</th>\n",
       "    </tr>\n",
       "  </thead>\n",
       "  <tbody>\n",
       "    <tr>\n",
       "      <th>0</th>\n",
       "      <td>Jessica_Estephan</td>\n",
       "      <td>https://www.mtgtop8.com/event?e=23942&amp;d=366798...</td>\n",
       "      <td>Izzet_Flash</td>\n",
       "      <td>2</td>\n",
       "      <td>Shock</td>\n",
       "      <td>common</td>\n",
       "    </tr>\n",
       "    <tr>\n",
       "      <th>1</th>\n",
       "      <td>Andrew_Boncher</td>\n",
       "      <td>https://www.mtgtop8.com/event?e=23810&amp;d=365477...</td>\n",
       "      <td>Red_Deck_Wins</td>\n",
       "      <td>4</td>\n",
       "      <td>Shock</td>\n",
       "      <td>common</td>\n",
       "    </tr>\n",
       "    <tr>\n",
       "      <th>2</th>\n",
       "      <td>Brandon_Banks</td>\n",
       "      <td>https://www.mtgtop8.com/event?e=23997&amp;d=367303...</td>\n",
       "      <td>Izzet_Control</td>\n",
       "      <td>10</td>\n",
       "      <td>Island</td>\n",
       "      <td>common</td>\n",
       "    </tr>\n",
       "    <tr>\n",
       "      <th>3</th>\n",
       "      <td>Andrew_C</td>\n",
       "      <td>https://www.mtgtop8.com/event?e=23716&amp;d=364618...</td>\n",
       "      <td>Sultai_Sacrifice</td>\n",
       "      <td>6</td>\n",
       "      <td>Forest</td>\n",
       "      <td>common</td>\n",
       "    </tr>\n",
       "    <tr>\n",
       "      <th>4</th>\n",
       "      <td>Mx-hejji</td>\n",
       "      <td>https://www.mtgtop8.com/event?e=23796&amp;d=365372...</td>\n",
       "      <td>Reclamation</td>\n",
       "      <td>1</td>\n",
       "      <td>Forest</td>\n",
       "      <td>common</td>\n",
       "    </tr>\n",
       "    <tr>\n",
       "      <th>...</th>\n",
       "      <td>...</td>\n",
       "      <td>...</td>\n",
       "      <td>...</td>\n",
       "      <td>...</td>\n",
       "      <td>...</td>\n",
       "      <td>...</td>\n",
       "    </tr>\n",
       "    <tr>\n",
       "      <th>11100</th>\n",
       "      <td>Fulgence</td>\n",
       "      <td>https://www.mtgtop8.com/event?e=23856&amp;d=365902...</td>\n",
       "      <td>Niv-Mizzet_Reborn</td>\n",
       "      <td>1</td>\n",
       "      <td>Tamiyo, Collector of Tales</td>\n",
       "      <td>rare</td>\n",
       "    </tr>\n",
       "    <tr>\n",
       "      <th>11418</th>\n",
       "      <td>Fulgence</td>\n",
       "      <td>https://www.mtgtop8.com/event?e=23856&amp;d=365902...</td>\n",
       "      <td>Niv-Mizzet_Reborn</td>\n",
       "      <td>3</td>\n",
       "      <td>Teferi, Time Raveler</td>\n",
       "      <td>rare</td>\n",
       "    </tr>\n",
       "    <tr>\n",
       "      <th>11736</th>\n",
       "      <td>Fulgence</td>\n",
       "      <td>https://www.mtgtop8.com/event?e=23856&amp;d=365902...</td>\n",
       "      <td>Niv-Mizzet_Reborn</td>\n",
       "      <td>1</td>\n",
       "      <td>Tolsimir, Friend to Wolves</td>\n",
       "      <td>rare</td>\n",
       "    </tr>\n",
       "    <tr>\n",
       "      <th>12054</th>\n",
       "      <td>Fulgence</td>\n",
       "      <td>https://www.mtgtop8.com/event?e=23856&amp;d=365902...</td>\n",
       "      <td>Niv-Mizzet_Reborn</td>\n",
       "      <td>1</td>\n",
       "      <td>Tyrant's Scorn</td>\n",
       "      <td>uncommon</td>\n",
       "    </tr>\n",
       "    <tr>\n",
       "      <th>12372</th>\n",
       "      <td>Fulgence</td>\n",
       "      <td>https://www.mtgtop8.com/event?e=23856&amp;d=365902...</td>\n",
       "      <td>Niv-Mizzet_Reborn</td>\n",
       "      <td>1</td>\n",
       "      <td>Guild Globe,</td>\n",
       "      <td>NaN</td>\n",
       "    </tr>\n",
       "  </tbody>\n",
       "</table>\n",
       "<p>7586 rows × 6 columns</p>\n",
       "</div>"
      ],
      "text/plain": [
       "                 player                                                url  \\\n",
       "0      Jessica_Estephan  https://www.mtgtop8.com/event?e=23942&d=366798...   \n",
       "1        Andrew_Boncher  https://www.mtgtop8.com/event?e=23810&d=365477...   \n",
       "2         Brandon_Banks  https://www.mtgtop8.com/event?e=23997&d=367303...   \n",
       "3              Andrew_C  https://www.mtgtop8.com/event?e=23716&d=364618...   \n",
       "4              Mx-hejji  https://www.mtgtop8.com/event?e=23796&d=365372...   \n",
       "...                 ...                                                ...   \n",
       "11100          Fulgence  https://www.mtgtop8.com/event?e=23856&d=365902...   \n",
       "11418          Fulgence  https://www.mtgtop8.com/event?e=23856&d=365902...   \n",
       "11736          Fulgence  https://www.mtgtop8.com/event?e=23856&d=365902...   \n",
       "12054          Fulgence  https://www.mtgtop8.com/event?e=23856&d=365902...   \n",
       "12372          Fulgence  https://www.mtgtop8.com/event?e=23856&d=365902...   \n",
       "\n",
       "               deck_name  num                   card_name card_rarity  \n",
       "0            Izzet_Flash    2                       Shock      common  \n",
       "1          Red_Deck_Wins    4                       Shock      common  \n",
       "2          Izzet_Control   10                      Island      common  \n",
       "3       Sultai_Sacrifice    6                      Forest      common  \n",
       "4            Reclamation    1                      Forest      common  \n",
       "...                  ...  ...                         ...         ...  \n",
       "11100  Niv-Mizzet_Reborn    1  Tamiyo, Collector of Tales        rare  \n",
       "11418  Niv-Mizzet_Reborn    3        Teferi, Time Raveler        rare  \n",
       "11736  Niv-Mizzet_Reborn    1  Tolsimir, Friend to Wolves        rare  \n",
       "12054  Niv-Mizzet_Reborn    1              Tyrant's Scorn    uncommon  \n",
       "12372  Niv-Mizzet_Reborn    1               Guild Globe,          NaN  \n",
       "\n",
       "[7586 rows x 6 columns]"
      ]
     },
     "execution_count": 36,
     "metadata": {},
     "output_type": "execute_result"
    }
   ],
   "source": [
    "decks_clean"
   ]
  },
  {
   "cell_type": "code",
   "execution_count": 37,
   "metadata": {},
   "outputs": [
    {
     "name": "stdout",
     "output_type": "stream",
     "text": [
      "<class 'pandas.core.frame.DataFrame'>\n",
      "Int64Index: 7586 entries, 0 to 12372\n",
      "Data columns (total 6 columns):\n",
      "player         7586 non-null object\n",
      "url            7562 non-null object\n",
      "deck_name      7562 non-null object\n",
      "num            7586 non-null int64\n",
      "card_name      7586 non-null object\n",
      "card_rarity    7206 non-null object\n",
      "dtypes: int64(1), object(5)\n",
      "memory usage: 414.9+ KB\n"
     ]
    }
   ],
   "source": [
    "decks_clean.info()"
   ]
  },
  {
   "cell_type": "code",
   "execution_count": 38,
   "metadata": {},
   "outputs": [
    {
     "data": {
      "text/plain": [
       "str"
      ]
     },
     "execution_count": 38,
     "metadata": {},
     "output_type": "execute_result"
    }
   ],
   "source": [
    "type(decks_clean.card_rarity[0])"
   ]
  },
  {
   "cell_type": "code",
   "execution_count": 39,
   "metadata": {},
   "outputs": [
    {
     "data": {
      "text/html": [
       "<div>\n",
       "<style scoped>\n",
       "    .dataframe tbody tr th:only-of-type {\n",
       "        vertical-align: middle;\n",
       "    }\n",
       "\n",
       "    .dataframe tbody tr th {\n",
       "        vertical-align: top;\n",
       "    }\n",
       "\n",
       "    .dataframe thead th {\n",
       "        text-align: right;\n",
       "    }\n",
       "</style>\n",
       "<table border=\"1\" class=\"dataframe\">\n",
       "  <thead>\n",
       "    <tr style=\"text-align: right;\">\n",
       "      <th></th>\n",
       "      <th>player</th>\n",
       "      <th>url</th>\n",
       "      <th>deck_name</th>\n",
       "      <th>num</th>\n",
       "      <th>card_name</th>\n",
       "      <th>card_rarity</th>\n",
       "    </tr>\n",
       "  </thead>\n",
       "  <tbody>\n",
       "    <tr>\n",
       "      <th>3428</th>\n",
       "      <td>Mtg_arena_meta</td>\n",
       "      <td>https://www.mtgtop8.com/event?e=24107&amp;d=368235...</td>\n",
       "      <td>Simic_Flash</td>\n",
       "      <td>2</td>\n",
       "      <td>Sinister Sabotage</td>\n",
       "      <td>uncommon</td>\n",
       "    </tr>\n",
       "    <tr>\n",
       "      <th>3572</th>\n",
       "      <td>Logan_Young</td>\n",
       "      <td>https://www.mtgtop8.com/event?e=24225&amp;d=369066...</td>\n",
       "      <td>Adventure</td>\n",
       "      <td>3</td>\n",
       "      <td>Fabled Passage</td>\n",
       "      <td>rare</td>\n",
       "    </tr>\n",
       "    <tr>\n",
       "      <th>2981</th>\n",
       "      <td>Kat_Light</td>\n",
       "      <td>https://www.mtgtop8.com/event?e=23942&amp;d=366802...</td>\n",
       "      <td>Golgari_Sacrifice</td>\n",
       "      <td>2</td>\n",
       "      <td>Castle Locthwain</td>\n",
       "      <td>rare</td>\n",
       "    </tr>\n",
       "    <tr>\n",
       "      <th>5149</th>\n",
       "      <td>Andrea_Gereon</td>\n",
       "      <td>https://www.mtgtop8.com/event?e=23942&amp;d=366772...</td>\n",
       "      <td>Golgari_Sacrifice</td>\n",
       "      <td>4</td>\n",
       "      <td>Overgrown Tomb</td>\n",
       "      <td>rare</td>\n",
       "    </tr>\n",
       "    <tr>\n",
       "      <th>5052</th>\n",
       "      <td>Ben_Metzger</td>\n",
       "      <td>https://www.mtgtop8.com/event?e=23943&amp;d=366835...</td>\n",
       "      <td>Azorius_Control</td>\n",
       "      <td>4</td>\n",
       "      <td>Tranquil Cove</td>\n",
       "      <td>common</td>\n",
       "    </tr>\n",
       "    <tr>\n",
       "      <th>6204</th>\n",
       "      <td>ACG88</td>\n",
       "      <td>https://www.mtgtop8.com/event?e=24240&amp;d=369204...</td>\n",
       "      <td>Sultai_Ramp</td>\n",
       "      <td>4</td>\n",
       "      <td>Nissa, Who Shakes the World</td>\n",
       "      <td>rare</td>\n",
       "    </tr>\n",
       "    <tr>\n",
       "      <th>8818</th>\n",
       "      <td>Parker_Connors</td>\n",
       "      <td>https://www.mtgtop8.com/event?e=23753&amp;d=364982...</td>\n",
       "      <td>Sultai_Oven</td>\n",
       "      <td>3</td>\n",
       "      <td>Massacre Girl,</td>\n",
       "      <td>NaN</td>\n",
       "    </tr>\n",
       "    <tr>\n",
       "      <th>9143</th>\n",
       "      <td>Bavan_Schimper</td>\n",
       "      <td>https://www.mtgtop8.com/event?e=24214&amp;d=368962...</td>\n",
       "      <td>Grixis_Fires</td>\n",
       "      <td>3</td>\n",
       "      <td>Nicol Bolas, Dragon-God,</td>\n",
       "      <td>NaN</td>\n",
       "    </tr>\n",
       "    <tr>\n",
       "      <th>5108</th>\n",
       "      <td>Joshua_Ng</td>\n",
       "      <td>https://www.mtgtop8.com/event?e=24144&amp;d=368506...</td>\n",
       "      <td>Rakdos_Aggro</td>\n",
       "      <td>2</td>\n",
       "      <td>Legion's End</td>\n",
       "      <td>rare</td>\n",
       "    </tr>\n",
       "    <tr>\n",
       "      <th>6382</th>\n",
       "      <td>Luke_Allen</td>\n",
       "      <td>https://www.mtgtop8.com/event?e=24113&amp;d=368280...</td>\n",
       "      <td>Fires_of_Invention</td>\n",
       "      <td>3</td>\n",
       "      <td>Shimmer of Possibility</td>\n",
       "      <td>common</td>\n",
       "    </tr>\n",
       "  </tbody>\n",
       "</table>\n",
       "</div>"
      ],
      "text/plain": [
       "              player                                                url  \\\n",
       "3428  Mtg_arena_meta  https://www.mtgtop8.com/event?e=24107&d=368235...   \n",
       "3572     Logan_Young  https://www.mtgtop8.com/event?e=24225&d=369066...   \n",
       "2981       Kat_Light  https://www.mtgtop8.com/event?e=23942&d=366802...   \n",
       "5149   Andrea_Gereon  https://www.mtgtop8.com/event?e=23942&d=366772...   \n",
       "5052     Ben_Metzger  https://www.mtgtop8.com/event?e=23943&d=366835...   \n",
       "6204           ACG88  https://www.mtgtop8.com/event?e=24240&d=369204...   \n",
       "8818  Parker_Connors  https://www.mtgtop8.com/event?e=23753&d=364982...   \n",
       "9143  Bavan_Schimper  https://www.mtgtop8.com/event?e=24214&d=368962...   \n",
       "5108       Joshua_Ng  https://www.mtgtop8.com/event?e=24144&d=368506...   \n",
       "6382      Luke_Allen  https://www.mtgtop8.com/event?e=24113&d=368280...   \n",
       "\n",
       "               deck_name  num                    card_name card_rarity  \n",
       "3428         Simic_Flash    2            Sinister Sabotage    uncommon  \n",
       "3572           Adventure    3               Fabled Passage        rare  \n",
       "2981   Golgari_Sacrifice    2             Castle Locthwain        rare  \n",
       "5149   Golgari_Sacrifice    4               Overgrown Tomb        rare  \n",
       "5052     Azorius_Control    4                Tranquil Cove      common  \n",
       "6204         Sultai_Ramp    4  Nissa, Who Shakes the World        rare  \n",
       "8818         Sultai_Oven    3              Massacre Girl,          NaN  \n",
       "9143        Grixis_Fires    3    Nicol Bolas, Dragon-God,          NaN  \n",
       "5108        Rakdos_Aggro    2                 Legion's End        rare  \n",
       "6382  Fires_of_Invention    3       Shimmer of Possibility      common  "
      ]
     },
     "execution_count": 39,
     "metadata": {},
     "output_type": "execute_result"
    }
   ],
   "source": [
    "decks_clean.sample(10)"
   ]
  },
  {
   "cell_type": "code",
   "execution_count": 40,
   "metadata": {},
   "outputs": [
    {
     "data": {
      "text/plain": [
       "419"
      ]
     },
     "execution_count": 40,
     "metadata": {},
     "output_type": "execute_result"
    }
   ],
   "source": [
    "decks_clean.card_name.nunique()"
   ]
  },
  {
   "cell_type": "code",
   "execution_count": 41,
   "metadata": {},
   "outputs": [
    {
     "data": {
      "text/plain": [
       "(1420, 2)"
      ]
     },
     "execution_count": 41,
     "metadata": {},
     "output_type": "execute_result"
    }
   ],
   "source": [
    "mtg_card_rarities_clean.shape"
   ]
  },
  {
   "cell_type": "code",
   "execution_count": 42,
   "metadata": {},
   "outputs": [],
   "source": [
    "dc_rarity_null = decks_clean[decks_clean.card_rarity == '0']"
   ]
  },
  {
   "cell_type": "code",
   "execution_count": 43,
   "metadata": {},
   "outputs": [
    {
     "data": {
      "text/plain": [
       "Series([], Name: card_name, dtype: int64)"
      ]
     },
     "execution_count": 43,
     "metadata": {},
     "output_type": "execute_result"
    }
   ],
   "source": [
    "dc_rarity_null.card_name.value_counts()"
   ]
  },
  {
   "cell_type": "code",
   "execution_count": 44,
   "metadata": {},
   "outputs": [
    {
     "data": {
      "text/plain": [
       "(0, 6)"
      ]
     },
     "execution_count": 44,
     "metadata": {},
     "output_type": "execute_result"
    }
   ],
   "source": [
    "dc_rarity_null.shape"
   ]
  },
  {
   "cell_type": "code",
   "execution_count": 45,
   "metadata": {},
   "outputs": [],
   "source": [
    "decks_clean.to_csv('~/Documents/MTGA_rarity_analysis/data/decks_clean.csv', index=False)"
   ]
  },
  {
   "cell_type": "markdown",
   "metadata": {},
   "source": [
    "## Define\n",
    "- get rid of nan in `rarity`"
   ]
  },
  {
   "cell_type": "markdown",
   "metadata": {},
   "source": [
    "## Code "
   ]
  },
  {
   "cell_type": "code",
   "execution_count": 46,
   "metadata": {},
   "outputs": [],
   "source": [
    "decks_clean.card_name = decks_clean.card_name.str.replace(', $', '')"
   ]
  },
  {
   "cell_type": "code",
   "execution_count": 47,
   "metadata": {},
   "outputs": [],
   "source": [
    "decks_clean = decks_clean.join(mtg_card_rarities_clean.set_index('card_name'), on='card_name', lsuffix='x').drop(columns='card_rarityx')"
   ]
  },
  {
   "cell_type": "code",
   "execution_count": 48,
   "metadata": {},
   "outputs": [],
   "source": [
    "decks_clean.card_name = decks_clean.card_name.replace('Emry, Lurker of the Loch ', 'Emry, Lurker of the Loch')"
   ]
  },
  {
   "cell_type": "code",
   "execution_count": 49,
   "metadata": {},
   "outputs": [],
   "source": [
    "conditions = [decks_clean.card_name.eq('Expansion-Explosion'), \n",
    "              decks_clean.card_name.eq('Collision-Colossus'), \n",
    "              decks_clean.card_name.eq('Flower-Flourish'), \n",
    "              decks_clean.card_name.eq('Find-Finality'), \n",
    "              decks_clean.card_name.eq('Incubation-Incongruity'), \n",
    "              decks_clean.card_name.eq('Status-Statue'), \n",
    "              decks_clean.card_name.eq('Discovery-Dispersal'), \n",
    "              decks_clean.card_name.eq('Thrash-Threat'), \n",
    "              decks_clean.card_name.eq('Emry, Lurker of the Loch')]\n",
    "\n",
    "choices = ['rare', 'uncommon', 'uncommon', 'rare', 'uncommon', 'uncommon', 'uncommon', 'rare', 'rare']\n",
    "\n",
    "decks_clean['rarity2'] = np.select(conditions, choices)\n",
    "\n",
    "decks_clean.card_rarity.fillna(decks_clean.rarity2, inplace=True)"
   ]
  },
  {
   "cell_type": "code",
   "execution_count": 50,
   "metadata": {},
   "outputs": [],
   "source": [
    "decks_clean.drop(columns=['rarity2'], inplace=True)"
   ]
  },
  {
   "cell_type": "code",
   "execution_count": 51,
   "metadata": {},
   "outputs": [],
   "source": [
    "decks_clean = decks_clean[decks_clean.card_rarity != '0']"
   ]
  },
  {
   "cell_type": "markdown",
   "metadata": {},
   "source": [
    "## Test"
   ]
  },
  {
   "cell_type": "code",
   "execution_count": 52,
   "metadata": {},
   "outputs": [
    {
     "data": {
      "text/html": [
       "<div>\n",
       "<style scoped>\n",
       "    .dataframe tbody tr th:only-of-type {\n",
       "        vertical-align: middle;\n",
       "    }\n",
       "\n",
       "    .dataframe tbody tr th {\n",
       "        vertical-align: top;\n",
       "    }\n",
       "\n",
       "    .dataframe thead th {\n",
       "        text-align: right;\n",
       "    }\n",
       "</style>\n",
       "<table border=\"1\" class=\"dataframe\">\n",
       "  <thead>\n",
       "    <tr style=\"text-align: right;\">\n",
       "      <th></th>\n",
       "      <th>player</th>\n",
       "      <th>url</th>\n",
       "      <th>deck_name</th>\n",
       "      <th>num</th>\n",
       "      <th>card_name</th>\n",
       "      <th>card_rarity</th>\n",
       "    </tr>\n",
       "  </thead>\n",
       "  <tbody>\n",
       "    <tr>\n",
       "      <th>0</th>\n",
       "      <td>Jessica_Estephan</td>\n",
       "      <td>https://www.mtgtop8.com/event?e=23942&amp;d=366798...</td>\n",
       "      <td>Izzet_Flash</td>\n",
       "      <td>2</td>\n",
       "      <td>Shock</td>\n",
       "      <td>common</td>\n",
       "    </tr>\n",
       "    <tr>\n",
       "      <th>1</th>\n",
       "      <td>Andrew_Boncher</td>\n",
       "      <td>https://www.mtgtop8.com/event?e=23810&amp;d=365477...</td>\n",
       "      <td>Red_Deck_Wins</td>\n",
       "      <td>4</td>\n",
       "      <td>Shock</td>\n",
       "      <td>common</td>\n",
       "    </tr>\n",
       "    <tr>\n",
       "      <th>2</th>\n",
       "      <td>Brandon_Banks</td>\n",
       "      <td>https://www.mtgtop8.com/event?e=23997&amp;d=367303...</td>\n",
       "      <td>Izzet_Control</td>\n",
       "      <td>10</td>\n",
       "      <td>Island</td>\n",
       "      <td>common</td>\n",
       "    </tr>\n",
       "    <tr>\n",
       "      <th>3</th>\n",
       "      <td>Andrew_C</td>\n",
       "      <td>https://www.mtgtop8.com/event?e=23716&amp;d=364618...</td>\n",
       "      <td>Sultai_Sacrifice</td>\n",
       "      <td>6</td>\n",
       "      <td>Forest</td>\n",
       "      <td>common</td>\n",
       "    </tr>\n",
       "    <tr>\n",
       "      <th>4</th>\n",
       "      <td>Mx-hejji</td>\n",
       "      <td>https://www.mtgtop8.com/event?e=23796&amp;d=365372...</td>\n",
       "      <td>Reclamation</td>\n",
       "      <td>1</td>\n",
       "      <td>Forest</td>\n",
       "      <td>common</td>\n",
       "    </tr>\n",
       "    <tr>\n",
       "      <th>...</th>\n",
       "      <td>...</td>\n",
       "      <td>...</td>\n",
       "      <td>...</td>\n",
       "      <td>...</td>\n",
       "      <td>...</td>\n",
       "      <td>...</td>\n",
       "    </tr>\n",
       "    <tr>\n",
       "      <th>11100</th>\n",
       "      <td>Fulgence</td>\n",
       "      <td>https://www.mtgtop8.com/event?e=23856&amp;d=365902...</td>\n",
       "      <td>Niv-Mizzet_Reborn</td>\n",
       "      <td>1</td>\n",
       "      <td>Tamiyo, Collector of Tales</td>\n",
       "      <td>rare</td>\n",
       "    </tr>\n",
       "    <tr>\n",
       "      <th>11418</th>\n",
       "      <td>Fulgence</td>\n",
       "      <td>https://www.mtgtop8.com/event?e=23856&amp;d=365902...</td>\n",
       "      <td>Niv-Mizzet_Reborn</td>\n",
       "      <td>3</td>\n",
       "      <td>Teferi, Time Raveler</td>\n",
       "      <td>rare</td>\n",
       "    </tr>\n",
       "    <tr>\n",
       "      <th>11736</th>\n",
       "      <td>Fulgence</td>\n",
       "      <td>https://www.mtgtop8.com/event?e=23856&amp;d=365902...</td>\n",
       "      <td>Niv-Mizzet_Reborn</td>\n",
       "      <td>1</td>\n",
       "      <td>Tolsimir, Friend to Wolves</td>\n",
       "      <td>rare</td>\n",
       "    </tr>\n",
       "    <tr>\n",
       "      <th>12054</th>\n",
       "      <td>Fulgence</td>\n",
       "      <td>https://www.mtgtop8.com/event?e=23856&amp;d=365902...</td>\n",
       "      <td>Niv-Mizzet_Reborn</td>\n",
       "      <td>1</td>\n",
       "      <td>Tyrant's Scorn</td>\n",
       "      <td>uncommon</td>\n",
       "    </tr>\n",
       "    <tr>\n",
       "      <th>12372</th>\n",
       "      <td>Fulgence</td>\n",
       "      <td>https://www.mtgtop8.com/event?e=23856&amp;d=365902...</td>\n",
       "      <td>Niv-Mizzet_Reborn</td>\n",
       "      <td>1</td>\n",
       "      <td>Guild Globe</td>\n",
       "      <td>common</td>\n",
       "    </tr>\n",
       "  </tbody>\n",
       "</table>\n",
       "<p>7582 rows × 6 columns</p>\n",
       "</div>"
      ],
      "text/plain": [
       "                 player                                                url  \\\n",
       "0      Jessica_Estephan  https://www.mtgtop8.com/event?e=23942&d=366798...   \n",
       "1        Andrew_Boncher  https://www.mtgtop8.com/event?e=23810&d=365477...   \n",
       "2         Brandon_Banks  https://www.mtgtop8.com/event?e=23997&d=367303...   \n",
       "3              Andrew_C  https://www.mtgtop8.com/event?e=23716&d=364618...   \n",
       "4              Mx-hejji  https://www.mtgtop8.com/event?e=23796&d=365372...   \n",
       "...                 ...                                                ...   \n",
       "11100          Fulgence  https://www.mtgtop8.com/event?e=23856&d=365902...   \n",
       "11418          Fulgence  https://www.mtgtop8.com/event?e=23856&d=365902...   \n",
       "11736          Fulgence  https://www.mtgtop8.com/event?e=23856&d=365902...   \n",
       "12054          Fulgence  https://www.mtgtop8.com/event?e=23856&d=365902...   \n",
       "12372          Fulgence  https://www.mtgtop8.com/event?e=23856&d=365902...   \n",
       "\n",
       "               deck_name  num                   card_name card_rarity  \n",
       "0            Izzet_Flash    2                       Shock      common  \n",
       "1          Red_Deck_Wins    4                       Shock      common  \n",
       "2          Izzet_Control   10                      Island      common  \n",
       "3       Sultai_Sacrifice    6                      Forest      common  \n",
       "4            Reclamation    1                      Forest      common  \n",
       "...                  ...  ...                         ...         ...  \n",
       "11100  Niv-Mizzet_Reborn    1  Tamiyo, Collector of Tales        rare  \n",
       "11418  Niv-Mizzet_Reborn    3        Teferi, Time Raveler        rare  \n",
       "11736  Niv-Mizzet_Reborn    1  Tolsimir, Friend to Wolves        rare  \n",
       "12054  Niv-Mizzet_Reborn    1              Tyrant's Scorn    uncommon  \n",
       "12372  Niv-Mizzet_Reborn    1                 Guild Globe      common  \n",
       "\n",
       "[7582 rows x 6 columns]"
      ]
     },
     "execution_count": 52,
     "metadata": {},
     "output_type": "execute_result"
    }
   ],
   "source": [
    "decks_clean"
   ]
  },
  {
   "cell_type": "code",
   "execution_count": 53,
   "metadata": {},
   "outputs": [],
   "source": [
    "dc_rarity_null = decks_clean[decks_clean.card_rarity == '0']"
   ]
  },
  {
   "cell_type": "code",
   "execution_count": 54,
   "metadata": {},
   "outputs": [
    {
     "data": {
      "text/plain": [
       "Series([], Name: card_name, dtype: int64)"
      ]
     },
     "execution_count": 54,
     "metadata": {},
     "output_type": "execute_result"
    }
   ],
   "source": [
    "dc_rarity_null.card_name.value_counts()"
   ]
  },
  {
   "cell_type": "markdown",
   "metadata": {},
   "source": [
    "## Define\n",
    "- get rid of multiple observations"
   ]
  },
  {
   "cell_type": "markdown",
   "metadata": {},
   "source": [
    "## Code"
   ]
  },
  {
   "cell_type": "code",
   "execution_count": null,
   "metadata": {},
   "outputs": [],
   "source": []
  },
  {
   "cell_type": "markdown",
   "metadata": {},
   "source": [
    "## Test"
   ]
  },
  {
   "cell_type": "code",
   "execution_count": 55,
   "metadata": {},
   "outputs": [],
   "source": [
    "df = decks_clean[decks_clean.duplicated()]"
   ]
  },
  {
   "cell_type": "code",
   "execution_count": 56,
   "metadata": {},
   "outputs": [
    {
     "data": {
      "text/html": [
       "<div>\n",
       "<style scoped>\n",
       "    .dataframe tbody tr th:only-of-type {\n",
       "        vertical-align: middle;\n",
       "    }\n",
       "\n",
       "    .dataframe tbody tr th {\n",
       "        vertical-align: top;\n",
       "    }\n",
       "\n",
       "    .dataframe thead th {\n",
       "        text-align: right;\n",
       "    }\n",
       "</style>\n",
       "<table border=\"1\" class=\"dataframe\">\n",
       "  <thead>\n",
       "    <tr style=\"text-align: right;\">\n",
       "      <th></th>\n",
       "      <th>player</th>\n",
       "      <th>url</th>\n",
       "      <th>deck_name</th>\n",
       "      <th>num</th>\n",
       "      <th>card_name</th>\n",
       "      <th>card_rarity</th>\n",
       "    </tr>\n",
       "  </thead>\n",
       "  <tbody>\n",
       "  </tbody>\n",
       "</table>\n",
       "</div>"
      ],
      "text/plain": [
       "Empty DataFrame\n",
       "Columns: [player, url, deck_name, num, card_name, card_rarity]\n",
       "Index: []"
      ]
     },
     "execution_count": 56,
     "metadata": {},
     "output_type": "execute_result"
    }
   ],
   "source": [
    "df.query('player in \"__forge__\" and deck_name in \"Mono_Black_Aggro\" and card_name in \"Massacre Girl\"')"
   ]
  },
  {
   "cell_type": "code",
   "execution_count": 57,
   "metadata": {},
   "outputs": [
    {
     "data": {
      "text/plain": [
       "Series([], Name: num, dtype: int64)"
      ]
     },
     "execution_count": 57,
     "metadata": {},
     "output_type": "execute_result"
    }
   ],
   "source": [
    "df.groupby(['player', 'deck_name', 'card_name']).num.sum()"
   ]
  },
  {
   "cell_type": "code",
   "execution_count": null,
   "metadata": {},
   "outputs": [],
   "source": []
  }
 ],
 "metadata": {
  "kernelspec": {
   "display_name": "Python 3",
   "language": "python",
   "name": "python3"
  },
  "language_info": {
   "codemirror_mode": {
    "name": "ipython",
    "version": 3
   },
   "file_extension": ".py",
   "mimetype": "text/x-python",
   "name": "python",
   "nbconvert_exporter": "python",
   "pygments_lexer": "ipython3",
   "version": "3.7.6"
  }
 },
 "nbformat": 4,
 "nbformat_minor": 4
}
