{
 "cells": [
  {
   "cell_type": "code",
   "execution_count": 4,
   "metadata": {},
   "outputs": [],
   "source": [
    "import pandas as pd\n",
    "import numpy as np\n",
    "import itertools\n",
    "import pickle\n",
    "import os"
   ]
  },
  {
   "cell_type": "markdown",
   "metadata": {},
   "source": [
    "# Gather"
   ]
  },
  {
   "cell_type": "code",
   "execution_count": 3,
   "metadata": {
    "collapsed": true,
    "jupyter": {
     "outputs_hidden": true
    }
   },
   "outputs": [
    {
     "ename": "FileNotFoundError",
     "evalue": "[Errno 2] File b'C:/Users/muroc/Documents/MTG/data/decks.csv' does not exist: b'C:/Users/muroc/Documents/MTG/data/decks.csv'",
     "output_type": "error",
     "traceback": [
      "\u001b[1;31m---------------------------------------------------------------------------\u001b[0m",
      "\u001b[1;31mFileNotFoundError\u001b[0m                         Traceback (most recent call last)",
      "\u001b[1;32m<ipython-input-3-6a4aa109fb57>\u001b[0m in \u001b[0;36m<module>\u001b[1;34m\u001b[0m\n\u001b[1;32m----> 1\u001b[1;33m \u001b[0mdecks\u001b[0m \u001b[1;33m=\u001b[0m \u001b[0mpd\u001b[0m\u001b[1;33m.\u001b[0m\u001b[0mread_csv\u001b[0m\u001b[1;33m(\u001b[0m\u001b[1;34m'C:/Users/muroc/Documents/MTG/data/decks.csv'\u001b[0m\u001b[1;33m)\u001b[0m\u001b[1;33m\u001b[0m\u001b[1;33m\u001b[0m\u001b[0m\n\u001b[0m",
      "\u001b[1;32m~\\Anaconda3\\lib\\site-packages\\pandas\\io\\parsers.py\u001b[0m in \u001b[0;36mparser_f\u001b[1;34m(filepath_or_buffer, sep, delimiter, header, names, index_col, usecols, squeeze, prefix, mangle_dupe_cols, dtype, engine, converters, true_values, false_values, skipinitialspace, skiprows, skipfooter, nrows, na_values, keep_default_na, na_filter, verbose, skip_blank_lines, parse_dates, infer_datetime_format, keep_date_col, date_parser, dayfirst, cache_dates, iterator, chunksize, compression, thousands, decimal, lineterminator, quotechar, quoting, doublequote, escapechar, comment, encoding, dialect, error_bad_lines, warn_bad_lines, delim_whitespace, low_memory, memory_map, float_precision)\u001b[0m\n\u001b[0;32m    683\u001b[0m         )\n\u001b[0;32m    684\u001b[0m \u001b[1;33m\u001b[0m\u001b[0m\n\u001b[1;32m--> 685\u001b[1;33m         \u001b[1;32mreturn\u001b[0m \u001b[0m_read\u001b[0m\u001b[1;33m(\u001b[0m\u001b[0mfilepath_or_buffer\u001b[0m\u001b[1;33m,\u001b[0m \u001b[0mkwds\u001b[0m\u001b[1;33m)\u001b[0m\u001b[1;33m\u001b[0m\u001b[1;33m\u001b[0m\u001b[0m\n\u001b[0m\u001b[0;32m    686\u001b[0m \u001b[1;33m\u001b[0m\u001b[0m\n\u001b[0;32m    687\u001b[0m     \u001b[0mparser_f\u001b[0m\u001b[1;33m.\u001b[0m\u001b[0m__name__\u001b[0m \u001b[1;33m=\u001b[0m \u001b[0mname\u001b[0m\u001b[1;33m\u001b[0m\u001b[1;33m\u001b[0m\u001b[0m\n",
      "\u001b[1;32m~\\Anaconda3\\lib\\site-packages\\pandas\\io\\parsers.py\u001b[0m in \u001b[0;36m_read\u001b[1;34m(filepath_or_buffer, kwds)\u001b[0m\n\u001b[0;32m    455\u001b[0m \u001b[1;33m\u001b[0m\u001b[0m\n\u001b[0;32m    456\u001b[0m     \u001b[1;31m# Create the parser.\u001b[0m\u001b[1;33m\u001b[0m\u001b[1;33m\u001b[0m\u001b[1;33m\u001b[0m\u001b[0m\n\u001b[1;32m--> 457\u001b[1;33m     \u001b[0mparser\u001b[0m \u001b[1;33m=\u001b[0m \u001b[0mTextFileReader\u001b[0m\u001b[1;33m(\u001b[0m\u001b[0mfp_or_buf\u001b[0m\u001b[1;33m,\u001b[0m \u001b[1;33m**\u001b[0m\u001b[0mkwds\u001b[0m\u001b[1;33m)\u001b[0m\u001b[1;33m\u001b[0m\u001b[1;33m\u001b[0m\u001b[0m\n\u001b[0m\u001b[0;32m    458\u001b[0m \u001b[1;33m\u001b[0m\u001b[0m\n\u001b[0;32m    459\u001b[0m     \u001b[1;32mif\u001b[0m \u001b[0mchunksize\u001b[0m \u001b[1;32mor\u001b[0m \u001b[0miterator\u001b[0m\u001b[1;33m:\u001b[0m\u001b[1;33m\u001b[0m\u001b[1;33m\u001b[0m\u001b[0m\n",
      "\u001b[1;32m~\\Anaconda3\\lib\\site-packages\\pandas\\io\\parsers.py\u001b[0m in \u001b[0;36m__init__\u001b[1;34m(self, f, engine, **kwds)\u001b[0m\n\u001b[0;32m    893\u001b[0m             \u001b[0mself\u001b[0m\u001b[1;33m.\u001b[0m\u001b[0moptions\u001b[0m\u001b[1;33m[\u001b[0m\u001b[1;34m\"has_index_names\"\u001b[0m\u001b[1;33m]\u001b[0m \u001b[1;33m=\u001b[0m \u001b[0mkwds\u001b[0m\u001b[1;33m[\u001b[0m\u001b[1;34m\"has_index_names\"\u001b[0m\u001b[1;33m]\u001b[0m\u001b[1;33m\u001b[0m\u001b[1;33m\u001b[0m\u001b[0m\n\u001b[0;32m    894\u001b[0m \u001b[1;33m\u001b[0m\u001b[0m\n\u001b[1;32m--> 895\u001b[1;33m         \u001b[0mself\u001b[0m\u001b[1;33m.\u001b[0m\u001b[0m_make_engine\u001b[0m\u001b[1;33m(\u001b[0m\u001b[0mself\u001b[0m\u001b[1;33m.\u001b[0m\u001b[0mengine\u001b[0m\u001b[1;33m)\u001b[0m\u001b[1;33m\u001b[0m\u001b[1;33m\u001b[0m\u001b[0m\n\u001b[0m\u001b[0;32m    896\u001b[0m \u001b[1;33m\u001b[0m\u001b[0m\n\u001b[0;32m    897\u001b[0m     \u001b[1;32mdef\u001b[0m \u001b[0mclose\u001b[0m\u001b[1;33m(\u001b[0m\u001b[0mself\u001b[0m\u001b[1;33m)\u001b[0m\u001b[1;33m:\u001b[0m\u001b[1;33m\u001b[0m\u001b[1;33m\u001b[0m\u001b[0m\n",
      "\u001b[1;32m~\\Anaconda3\\lib\\site-packages\\pandas\\io\\parsers.py\u001b[0m in \u001b[0;36m_make_engine\u001b[1;34m(self, engine)\u001b[0m\n\u001b[0;32m   1133\u001b[0m     \u001b[1;32mdef\u001b[0m \u001b[0m_make_engine\u001b[0m\u001b[1;33m(\u001b[0m\u001b[0mself\u001b[0m\u001b[1;33m,\u001b[0m \u001b[0mengine\u001b[0m\u001b[1;33m=\u001b[0m\u001b[1;34m\"c\"\u001b[0m\u001b[1;33m)\u001b[0m\u001b[1;33m:\u001b[0m\u001b[1;33m\u001b[0m\u001b[1;33m\u001b[0m\u001b[0m\n\u001b[0;32m   1134\u001b[0m         \u001b[1;32mif\u001b[0m \u001b[0mengine\u001b[0m \u001b[1;33m==\u001b[0m \u001b[1;34m\"c\"\u001b[0m\u001b[1;33m:\u001b[0m\u001b[1;33m\u001b[0m\u001b[1;33m\u001b[0m\u001b[0m\n\u001b[1;32m-> 1135\u001b[1;33m             \u001b[0mself\u001b[0m\u001b[1;33m.\u001b[0m\u001b[0m_engine\u001b[0m \u001b[1;33m=\u001b[0m \u001b[0mCParserWrapper\u001b[0m\u001b[1;33m(\u001b[0m\u001b[0mself\u001b[0m\u001b[1;33m.\u001b[0m\u001b[0mf\u001b[0m\u001b[1;33m,\u001b[0m \u001b[1;33m**\u001b[0m\u001b[0mself\u001b[0m\u001b[1;33m.\u001b[0m\u001b[0moptions\u001b[0m\u001b[1;33m)\u001b[0m\u001b[1;33m\u001b[0m\u001b[1;33m\u001b[0m\u001b[0m\n\u001b[0m\u001b[0;32m   1136\u001b[0m         \u001b[1;32melse\u001b[0m\u001b[1;33m:\u001b[0m\u001b[1;33m\u001b[0m\u001b[1;33m\u001b[0m\u001b[0m\n\u001b[0;32m   1137\u001b[0m             \u001b[1;32mif\u001b[0m \u001b[0mengine\u001b[0m \u001b[1;33m==\u001b[0m \u001b[1;34m\"python\"\u001b[0m\u001b[1;33m:\u001b[0m\u001b[1;33m\u001b[0m\u001b[1;33m\u001b[0m\u001b[0m\n",
      "\u001b[1;32m~\\Anaconda3\\lib\\site-packages\\pandas\\io\\parsers.py\u001b[0m in \u001b[0;36m__init__\u001b[1;34m(self, src, **kwds)\u001b[0m\n\u001b[0;32m   1915\u001b[0m         \u001b[0mkwds\u001b[0m\u001b[1;33m[\u001b[0m\u001b[1;34m\"usecols\"\u001b[0m\u001b[1;33m]\u001b[0m \u001b[1;33m=\u001b[0m \u001b[0mself\u001b[0m\u001b[1;33m.\u001b[0m\u001b[0musecols\u001b[0m\u001b[1;33m\u001b[0m\u001b[1;33m\u001b[0m\u001b[0m\n\u001b[0;32m   1916\u001b[0m \u001b[1;33m\u001b[0m\u001b[0m\n\u001b[1;32m-> 1917\u001b[1;33m         \u001b[0mself\u001b[0m\u001b[1;33m.\u001b[0m\u001b[0m_reader\u001b[0m \u001b[1;33m=\u001b[0m \u001b[0mparsers\u001b[0m\u001b[1;33m.\u001b[0m\u001b[0mTextReader\u001b[0m\u001b[1;33m(\u001b[0m\u001b[0msrc\u001b[0m\u001b[1;33m,\u001b[0m \u001b[1;33m**\u001b[0m\u001b[0mkwds\u001b[0m\u001b[1;33m)\u001b[0m\u001b[1;33m\u001b[0m\u001b[1;33m\u001b[0m\u001b[0m\n\u001b[0m\u001b[0;32m   1918\u001b[0m         \u001b[0mself\u001b[0m\u001b[1;33m.\u001b[0m\u001b[0munnamed_cols\u001b[0m \u001b[1;33m=\u001b[0m \u001b[0mself\u001b[0m\u001b[1;33m.\u001b[0m\u001b[0m_reader\u001b[0m\u001b[1;33m.\u001b[0m\u001b[0munnamed_cols\u001b[0m\u001b[1;33m\u001b[0m\u001b[1;33m\u001b[0m\u001b[0m\n\u001b[0;32m   1919\u001b[0m \u001b[1;33m\u001b[0m\u001b[0m\n",
      "\u001b[1;32mpandas\\_libs\\parsers.pyx\u001b[0m in \u001b[0;36mpandas._libs.parsers.TextReader.__cinit__\u001b[1;34m()\u001b[0m\n",
      "\u001b[1;32mpandas\\_libs\\parsers.pyx\u001b[0m in \u001b[0;36mpandas._libs.parsers.TextReader._setup_parser_source\u001b[1;34m()\u001b[0m\n",
      "\u001b[1;31mFileNotFoundError\u001b[0m: [Errno 2] File b'C:/Users/muroc/Documents/MTG/data/decks.csv' does not exist: b'C:/Users/muroc/Documents/MTG/data/decks.csv'"
     ]
    }
   ],
   "source": [
    "decks = pd.read_csv('C:/Users/muroc/Documents/MTG/data/decks.csv')"
   ]
  },
  {
   "cell_type": "code",
   "execution_count": 9,
   "metadata": {},
   "outputs": [],
   "source": [
    "decks = pd.read_csv('C:\\\\Users\\\\muroc\\\\OneDrive\\\\Documents\\\\programs\\\\python\\\\MTGA_rarity_analysis\\\\data\\\\decks.csv')"
   ]
  },
  {
   "cell_type": "code",
   "execution_count": 10,
   "metadata": {},
   "outputs": [],
   "source": [
    "decks_clean = decks.copy()"
   ]
  },
  {
   "cell_type": "code",
   "execution_count": 5,
   "metadata": {},
   "outputs": [
    {
     "ename": "ValueError",
     "evalue": "Cannot load file containing pickled data when allow_pickle=False",
     "output_type": "error",
     "traceback": [
      "\u001b[1;31m---------------------------------------------------------------------------\u001b[0m",
      "\u001b[1;31mValueError\u001b[0m                                Traceback (most recent call last)",
      "\u001b[1;32m<ipython-input-5-9de558cde557>\u001b[0m in \u001b[0;36m<module>\u001b[1;34m\u001b[0m\n\u001b[1;32m----> 1\u001b[1;33m \u001b[0mplayers\u001b[0m \u001b[1;33m=\u001b[0m \u001b[0mnp\u001b[0m\u001b[1;33m.\u001b[0m\u001b[0mload\u001b[0m\u001b[1;33m(\u001b[0m\u001b[1;34m'C:/Users/muroc/Documents/MTG/data/players.npy'\u001b[0m\u001b[1;33m)\u001b[0m\u001b[1;33m\u001b[0m\u001b[1;33m\u001b[0m\u001b[0m\n\u001b[0m",
      "\u001b[1;32m~\\Anaconda3\\lib\\site-packages\\numpy\\lib\\npyio.py\u001b[0m in \u001b[0;36mload\u001b[1;34m(file, mmap_mode, allow_pickle, fix_imports, encoding)\u001b[0m\n\u001b[0;32m    449\u001b[0m             \u001b[1;31m# Try a pickle\u001b[0m\u001b[1;33m\u001b[0m\u001b[1;33m\u001b[0m\u001b[1;33m\u001b[0m\u001b[0m\n\u001b[0;32m    450\u001b[0m             \u001b[1;32mif\u001b[0m \u001b[1;32mnot\u001b[0m \u001b[0mallow_pickle\u001b[0m\u001b[1;33m:\u001b[0m\u001b[1;33m\u001b[0m\u001b[1;33m\u001b[0m\u001b[0m\n\u001b[1;32m--> 451\u001b[1;33m                 raise ValueError(\"Cannot load file containing pickled data \"\n\u001b[0m\u001b[0;32m    452\u001b[0m                                  \"when allow_pickle=False\")\n\u001b[0;32m    453\u001b[0m             \u001b[1;32mtry\u001b[0m\u001b[1;33m:\u001b[0m\u001b[1;33m\u001b[0m\u001b[1;33m\u001b[0m\u001b[0m\n",
      "\u001b[1;31mValueError\u001b[0m: Cannot load file containing pickled data when allow_pickle=False"
     ]
    }
   ],
   "source": [
    "players = np.load('C:/Users/muroc/Documents/MTG/data/players.npy')"
   ]
  },
  {
   "cell_type": "markdown",
   "metadata": {},
   "source": [
    "# Assess"
   ]
  },
  {
   "cell_type": "code",
   "execution_count": 11,
   "metadata": {},
   "outputs": [
    {
     "data": {
      "text/html": [
       "<div>\n",
       "<style scoped>\n",
       "    .dataframe tbody tr th:only-of-type {\n",
       "        vertical-align: middle;\n",
       "    }\n",
       "\n",
       "    .dataframe tbody tr th {\n",
       "        vertical-align: top;\n",
       "    }\n",
       "\n",
       "    .dataframe thead th {\n",
       "        text-align: right;\n",
       "    }\n",
       "</style>\n",
       "<table border=\"1\" class=\"dataframe\">\n",
       "  <thead>\n",
       "    <tr style=\"text-align: right;\">\n",
       "      <th></th>\n",
       "      <th>deck_list</th>\n",
       "      <th>player</th>\n",
       "      <th>url</th>\n",
       "      <th>name</th>\n",
       "    </tr>\n",
       "  </thead>\n",
       "  <tbody>\n",
       "    <tr>\n",
       "      <td>0</td>\n",
       "      <td>2 Forest, 1 Island, 1 Mountain, 2 Swamp, 3 Bre...</td>\n",
       "      <td>Julian_Felix_Flury</td>\n",
       "      <td>https://www.mtgtop8.com/event?e=23581&amp;d=363309...</td>\n",
       "      <td>4c_Control</td>\n",
       "    </tr>\n",
       "    <tr>\n",
       "      <td>1</td>\n",
       "      <td>4 Shock, 1 Forest, 1 Island, 1 Mountain, 1 Swa...</td>\n",
       "      <td>Robert_Lippmann</td>\n",
       "      <td>https://www.mtgtop8.com/event?e=23476&amp;d=362227...</td>\n",
       "      <td>4c_Elementals</td>\n",
       "    </tr>\n",
       "    <tr>\n",
       "      <td>2</td>\n",
       "      <td>3 Forest, 1 Island, 2 Plains, 1 Swamp, 4 Breed...</td>\n",
       "      <td>Keylan_Steffins</td>\n",
       "      <td>https://www.mtgtop8.com/event?e=23516&amp;d=362603...</td>\n",
       "      <td>4c_Value</td>\n",
       "    </tr>\n",
       "    <tr>\n",
       "      <td>3</td>\n",
       "      <td>1 Island, 1 Mountain, 2 Plains, 3 Swamp, 2 Blo...</td>\n",
       "      <td>Wynand_Van_Zyl</td>\n",
       "      <td>https://www.mtgtop8.com/event?e=23773&amp;d=365167...</td>\n",
       "      <td>4_Color_Doom_</td>\n",
       "    </tr>\n",
       "    <tr>\n",
       "      <td>4</td>\n",
       "      <td>1 Island, 1 Mountain, 1 Plains, 4 Hallowed Fou...</td>\n",
       "      <td>Vincent_Choy</td>\n",
       "      <td>https://www.mtgtop8.com/event?e=23600&amp;d=363526...</td>\n",
       "      <td>5c_PW</td>\n",
       "    </tr>\n",
       "  </tbody>\n",
       "</table>\n",
       "</div>"
      ],
      "text/plain": [
       "                                           deck_list              player  \\\n",
       "0  2 Forest, 1 Island, 1 Mountain, 2 Swamp, 3 Bre...  Julian_Felix_Flury   \n",
       "1  4 Shock, 1 Forest, 1 Island, 1 Mountain, 1 Swa...     Robert_Lippmann   \n",
       "2  3 Forest, 1 Island, 2 Plains, 1 Swamp, 4 Breed...     Keylan_Steffins   \n",
       "3  1 Island, 1 Mountain, 2 Plains, 3 Swamp, 2 Blo...      Wynand_Van_Zyl   \n",
       "4  1 Island, 1 Mountain, 1 Plains, 4 Hallowed Fou...        Vincent_Choy   \n",
       "\n",
       "                                                 url           name  \n",
       "0  https://www.mtgtop8.com/event?e=23581&d=363309...     4c_Control  \n",
       "1  https://www.mtgtop8.com/event?e=23476&d=362227...  4c_Elementals  \n",
       "2  https://www.mtgtop8.com/event?e=23516&d=362603...       4c_Value  \n",
       "3  https://www.mtgtop8.com/event?e=23773&d=365167...  4_Color_Doom_  \n",
       "4  https://www.mtgtop8.com/event?e=23600&d=363526...          5c_PW  "
      ]
     },
     "execution_count": 11,
     "metadata": {},
     "output_type": "execute_result"
    }
   ],
   "source": [
    "decks_clean.head()"
   ]
  },
  {
   "cell_type": "code",
   "execution_count": 5,
   "metadata": {},
   "outputs": [
    {
     "data": {
      "text/html": [
       "<div>\n",
       "<style scoped>\n",
       "    .dataframe tbody tr th:only-of-type {\n",
       "        vertical-align: middle;\n",
       "    }\n",
       "\n",
       "    .dataframe tbody tr th {\n",
       "        vertical-align: top;\n",
       "    }\n",
       "\n",
       "    .dataframe thead th {\n",
       "        text-align: right;\n",
       "    }\n",
       "</style>\n",
       "<table border=\"1\" class=\"dataframe\">\n",
       "  <thead>\n",
       "    <tr style=\"text-align: right;\">\n",
       "      <th></th>\n",
       "      <th>deck_list</th>\n",
       "      <th>player</th>\n",
       "      <th>url</th>\n",
       "      <th>name</th>\n",
       "    </tr>\n",
       "  </thead>\n",
       "  <tbody>\n",
       "    <tr>\n",
       "      <th>488</th>\n",
       "      <td>4 Planar Cleansing, 7 Island, 5 Plains, 4 Hall...</td>\n",
       "      <td>Yokokawa_Yuuta</td>\n",
       "      <td>https://www.mtgtop8.com/event?e=23907&amp;d=366416...</td>\n",
       "      <td>UW_Control</td>\n",
       "    </tr>\n",
       "    <tr>\n",
       "      <th>489</th>\n",
       "      <td>1 Disenchant, 7 Island, 4 Plains, 4 Hallowed F...</td>\n",
       "      <td>zer1997</td>\n",
       "      <td>https://www.mtgtop8.com/event?e=23772&amp;d=365157...</td>\n",
       "      <td>UW_Control</td>\n",
       "    </tr>\n",
       "    <tr>\n",
       "      <th>490</th>\n",
       "      <td>17 Plains, 4 Loyal Pegasus, 4 Faerie Guidemoth...</td>\n",
       "      <td>Brandon_Krussow</td>\n",
       "      <td>https://www.mtgtop8.com/event?e=23943&amp;d=366839...</td>\n",
       "      <td>White_Weenie</td>\n",
       "    </tr>\n",
       "    <tr>\n",
       "      <th>491</th>\n",
       "      <td>2 Disenchant, 17 Plains, 4 Loyal Pegasus, 4 Fa...</td>\n",
       "      <td>Nematov_Ruslan</td>\n",
       "      <td>https://www.mtgtop8.com/event?e=23578&amp;d=363291...</td>\n",
       "      <td>White_Weenie</td>\n",
       "    </tr>\n",
       "    <tr>\n",
       "      <th>492</th>\n",
       "      <td>NaN</td>\n",
       "      <td>Aki_Vainio</td>\n",
       "      <td>https://www.mtgtop8.com/event?e=23996&amp;d=367291...</td>\n",
       "      <td>Rakdos_Knights</td>\n",
       "    </tr>\n",
       "  </tbody>\n",
       "</table>\n",
       "</div>"
      ],
      "text/plain": [
       "                                             deck_list           player  \\\n",
       "488  4 Planar Cleansing, 7 Island, 5 Plains, 4 Hall...   Yokokawa_Yuuta   \n",
       "489  1 Disenchant, 7 Island, 4 Plains, 4 Hallowed F...          zer1997   \n",
       "490  17 Plains, 4 Loyal Pegasus, 4 Faerie Guidemoth...  Brandon_Krussow   \n",
       "491  2 Disenchant, 17 Plains, 4 Loyal Pegasus, 4 Fa...   Nematov_Ruslan   \n",
       "492                                                NaN       Aki_Vainio   \n",
       "\n",
       "                                                   url            name  \n",
       "488  https://www.mtgtop8.com/event?e=23907&d=366416...      UW_Control  \n",
       "489  https://www.mtgtop8.com/event?e=23772&d=365157...      UW_Control  \n",
       "490  https://www.mtgtop8.com/event?e=23943&d=366839...    White_Weenie  \n",
       "491  https://www.mtgtop8.com/event?e=23578&d=363291...    White_Weenie  \n",
       "492  https://www.mtgtop8.com/event?e=23996&d=367291...  Rakdos_Knights  "
      ]
     },
     "execution_count": 5,
     "metadata": {},
     "output_type": "execute_result"
    }
   ],
   "source": [
    "decks_clean.tail()"
   ]
  },
  {
   "cell_type": "code",
   "execution_count": 6,
   "metadata": {},
   "outputs": [
    {
     "data": {
      "text/html": [
       "<div>\n",
       "<style scoped>\n",
       "    .dataframe tbody tr th:only-of-type {\n",
       "        vertical-align: middle;\n",
       "    }\n",
       "\n",
       "    .dataframe tbody tr th {\n",
       "        vertical-align: top;\n",
       "    }\n",
       "\n",
       "    .dataframe thead th {\n",
       "        text-align: right;\n",
       "    }\n",
       "</style>\n",
       "<table border=\"1\" class=\"dataframe\">\n",
       "  <thead>\n",
       "    <tr style=\"text-align: right;\">\n",
       "      <th></th>\n",
       "      <th>deck_list</th>\n",
       "      <th>player</th>\n",
       "      <th>url</th>\n",
       "      <th>name</th>\n",
       "    </tr>\n",
       "  </thead>\n",
       "  <tbody>\n",
       "  </tbody>\n",
       "</table>\n",
       "</div>"
      ],
      "text/plain": [
       "Empty DataFrame\n",
       "Columns: [deck_list, player, url, name]\n",
       "Index: []"
      ]
     },
     "execution_count": 6,
     "metadata": {},
     "output_type": "execute_result"
    }
   ],
   "source": [
    "decks_clean[decks_clean.astype(str)['deck_list'] == \"['nan']\"]"
   ]
  },
  {
   "cell_type": "code",
   "execution_count": 7,
   "metadata": {},
   "outputs": [
    {
     "data": {
      "text/plain": [
       "nan"
      ]
     },
     "execution_count": 7,
     "metadata": {},
     "output_type": "execute_result"
    }
   ],
   "source": [
    "decks_clean.deck_list.iloc[492]"
   ]
  },
  {
   "cell_type": "code",
   "execution_count": 4,
   "metadata": {},
   "outputs": [
    {
     "data": {
      "text/plain": [
       "0"
      ]
     },
     "execution_count": 4,
     "metadata": {},
     "output_type": "execute_result"
    }
   ],
   "source": [
    "np.count_nonzero(deck_list)"
   ]
  },
  {
   "cell_type": "markdown",
   "metadata": {},
   "source": [
    "## Assessment\n",
    "- [done] deck_list column has , for delimiter but names can also have a comma\n",
    "- cards are in one column\n",
    "- card number and card name are in the same column\n",
    "- [done] null values in `deck_list` column\n",
    "- rarities not present in the data"
   ]
  },
  {
   "cell_type": "markdown",
   "metadata": {},
   "source": [
    "# Clean"
   ]
  },
  {
   "cell_type": "markdown",
   "metadata": {},
   "source": [
    "## Define\n",
    "- replace ',' with '|' in `deck_list` column"
   ]
  },
  {
   "cell_type": "markdown",
   "metadata": {},
   "source": [
    "## Code"
   ]
  },
  {
   "cell_type": "code",
   "execution_count": 58,
   "metadata": {},
   "outputs": [],
   "source": [
    "decks_clean.deck_list = decks_clean.deck_list.str.replace(', (?=\\d)', '|')"
   ]
  },
  {
   "cell_type": "code",
   "execution_count": 9,
   "metadata": {},
   "outputs": [],
   "source": [
    "decks_clean.to_csv('C:/Users/muroc/Documents/MTG/data/decks_clean.csv', index=False)"
   ]
  },
  {
   "cell_type": "markdown",
   "metadata": {},
   "source": [
    "## Test"
   ]
  },
  {
   "cell_type": "code",
   "execution_count": 59,
   "metadata": {},
   "outputs": [
    {
     "data": {
      "text/html": [
       "<div>\n",
       "<style scoped>\n",
       "    .dataframe tbody tr th:only-of-type {\n",
       "        vertical-align: middle;\n",
       "    }\n",
       "\n",
       "    .dataframe tbody tr th {\n",
       "        vertical-align: top;\n",
       "    }\n",
       "\n",
       "    .dataframe thead th {\n",
       "        text-align: right;\n",
       "    }\n",
       "</style>\n",
       "<table border=\"1\" class=\"dataframe\">\n",
       "  <thead>\n",
       "    <tr style=\"text-align: right;\">\n",
       "      <th></th>\n",
       "      <th>deck_list</th>\n",
       "      <th>player</th>\n",
       "      <th>url</th>\n",
       "      <th>name</th>\n",
       "    </tr>\n",
       "  </thead>\n",
       "  <tbody>\n",
       "    <tr>\n",
       "      <th>0</th>\n",
       "      <td>2 Forest|1 Island|1 Mountain|2 Swamp|3 Breedin...</td>\n",
       "      <td>Julian_Felix_Flury</td>\n",
       "      <td>https://www.mtgtop8.com/event?e=23581&amp;d=363309...</td>\n",
       "      <td>4c_Control</td>\n",
       "    </tr>\n",
       "    <tr>\n",
       "      <th>1</th>\n",
       "      <td>4 Shock|1 Forest|1 Island|1 Mountain|1 Swamp|1...</td>\n",
       "      <td>Robert_Lippmann</td>\n",
       "      <td>https://www.mtgtop8.com/event?e=23476&amp;d=362227...</td>\n",
       "      <td>4c_Elementals</td>\n",
       "    </tr>\n",
       "    <tr>\n",
       "      <th>2</th>\n",
       "      <td>3 Forest|1 Island|2 Plains|1 Swamp|4 Breeding ...</td>\n",
       "      <td>Keylan_Steffins</td>\n",
       "      <td>https://www.mtgtop8.com/event?e=23516&amp;d=362603...</td>\n",
       "      <td>4c_Value</td>\n",
       "    </tr>\n",
       "    <tr>\n",
       "      <th>3</th>\n",
       "      <td>1 Island|1 Mountain|2 Plains|3 Swamp|2 Blood C...</td>\n",
       "      <td>Wynand_Van_Zyl</td>\n",
       "      <td>https://www.mtgtop8.com/event?e=23773&amp;d=365167...</td>\n",
       "      <td>4_Color_Doom_</td>\n",
       "    </tr>\n",
       "    <tr>\n",
       "      <th>4</th>\n",
       "      <td>1 Island|1 Mountain|2 Plains|3 Swamp|2 Blood C...</td>\n",
       "      <td>Wynand_Van_Zyl</td>\n",
       "      <td>https://www.mtgtop8.com/event?e=23442&amp;d=361922...</td>\n",
       "      <td>Mardu_DOOM</td>\n",
       "    </tr>\n",
       "  </tbody>\n",
       "</table>\n",
       "</div>"
      ],
      "text/plain": [
       "                                           deck_list              player  \\\n",
       "0  2 Forest|1 Island|1 Mountain|2 Swamp|3 Breedin...  Julian_Felix_Flury   \n",
       "1  4 Shock|1 Forest|1 Island|1 Mountain|1 Swamp|1...     Robert_Lippmann   \n",
       "2  3 Forest|1 Island|2 Plains|1 Swamp|4 Breeding ...     Keylan_Steffins   \n",
       "3  1 Island|1 Mountain|2 Plains|3 Swamp|2 Blood C...      Wynand_Van_Zyl   \n",
       "4  1 Island|1 Mountain|2 Plains|3 Swamp|2 Blood C...      Wynand_Van_Zyl   \n",
       "\n",
       "                                                 url           name  \n",
       "0  https://www.mtgtop8.com/event?e=23581&d=363309...     4c_Control  \n",
       "1  https://www.mtgtop8.com/event?e=23476&d=362227...  4c_Elementals  \n",
       "2  https://www.mtgtop8.com/event?e=23516&d=362603...       4c_Value  \n",
       "3  https://www.mtgtop8.com/event?e=23773&d=365167...  4_Color_Doom_  \n",
       "4  https://www.mtgtop8.com/event?e=23442&d=361922...     Mardu_DOOM  "
      ]
     },
     "execution_count": 59,
     "metadata": {},
     "output_type": "execute_result"
    }
   ],
   "source": [
    "decks_clean.head()"
   ]
  },
  {
   "cell_type": "markdown",
   "metadata": {},
   "source": [
    "## Define\n",
    "- make string objects in `deck_list` into a list"
   ]
  },
  {
   "cell_type": "markdown",
   "metadata": {},
   "source": [
    "## Code"
   ]
  },
  {
   "cell_type": "code",
   "execution_count": 11,
   "metadata": {},
   "outputs": [],
   "source": [
    "def convert(string):\n",
    "    li = list(str(string).split('|'))\n",
    "    return li"
   ]
  },
  {
   "cell_type": "code",
   "execution_count": 12,
   "metadata": {},
   "outputs": [],
   "source": [
    "decks = []\n",
    "for i in np.arange(decks_clean.shape[0]):\n",
    "    l = convert(decks_clean.deck_list[i])\n",
    "    decks.append(l)\n",
    "\n",
    "decks_clean.deck_list = decks"
   ]
  },
  {
   "cell_type": "markdown",
   "metadata": {},
   "source": [
    "## Test"
   ]
  },
  {
   "cell_type": "code",
   "execution_count": 13,
   "metadata": {},
   "outputs": [
    {
     "data": {
      "text/html": [
       "<div>\n",
       "<style scoped>\n",
       "    .dataframe tbody tr th:only-of-type {\n",
       "        vertical-align: middle;\n",
       "    }\n",
       "\n",
       "    .dataframe tbody tr th {\n",
       "        vertical-align: top;\n",
       "    }\n",
       "\n",
       "    .dataframe thead th {\n",
       "        text-align: right;\n",
       "    }\n",
       "</style>\n",
       "<table border=\"1\" class=\"dataframe\">\n",
       "  <thead>\n",
       "    <tr style=\"text-align: right;\">\n",
       "      <th></th>\n",
       "      <th>deck_list</th>\n",
       "      <th>player</th>\n",
       "      <th>url</th>\n",
       "      <th>name</th>\n",
       "    </tr>\n",
       "  </thead>\n",
       "  <tbody>\n",
       "    <tr>\n",
       "      <th>0</th>\n",
       "      <td>[2 Forest, 1 Island, 1 Mountain, 2 Swamp, 3 Br...</td>\n",
       "      <td>Julian_Felix_Flury</td>\n",
       "      <td>https://www.mtgtop8.com/event?e=23581&amp;d=363309...</td>\n",
       "      <td>4c_Control</td>\n",
       "    </tr>\n",
       "    <tr>\n",
       "      <th>1</th>\n",
       "      <td>[4 Shock, 1 Forest, 1 Island, 1 Mountain, 1 Sw...</td>\n",
       "      <td>Robert_Lippmann</td>\n",
       "      <td>https://www.mtgtop8.com/event?e=23476&amp;d=362227...</td>\n",
       "      <td>4c_Elementals</td>\n",
       "    </tr>\n",
       "    <tr>\n",
       "      <th>2</th>\n",
       "      <td>[3 Forest, 1 Island, 2 Plains, 1 Swamp, 4 Bree...</td>\n",
       "      <td>Keylan_Steffins</td>\n",
       "      <td>https://www.mtgtop8.com/event?e=23516&amp;d=362603...</td>\n",
       "      <td>4c_Value</td>\n",
       "    </tr>\n",
       "    <tr>\n",
       "      <th>3</th>\n",
       "      <td>[1 Island, 1 Mountain, 2 Plains, 3 Swamp, 2 Bl...</td>\n",
       "      <td>Wynand_Van_Zyl</td>\n",
       "      <td>https://www.mtgtop8.com/event?e=23773&amp;d=365167...</td>\n",
       "      <td>4_Color_Doom_</td>\n",
       "    </tr>\n",
       "    <tr>\n",
       "      <th>4</th>\n",
       "      <td>[1 Island, 1 Mountain, 2 Plains, 3 Swamp, 2 Bl...</td>\n",
       "      <td>Wynand_Van_Zyl</td>\n",
       "      <td>https://www.mtgtop8.com/event?e=23442&amp;d=361922...</td>\n",
       "      <td>Mardu_DOOM</td>\n",
       "    </tr>\n",
       "  </tbody>\n",
       "</table>\n",
       "</div>"
      ],
      "text/plain": [
       "                                           deck_list              player  \\\n",
       "0  [2 Forest, 1 Island, 1 Mountain, 2 Swamp, 3 Br...  Julian_Felix_Flury   \n",
       "1  [4 Shock, 1 Forest, 1 Island, 1 Mountain, 1 Sw...     Robert_Lippmann   \n",
       "2  [3 Forest, 1 Island, 2 Plains, 1 Swamp, 4 Bree...     Keylan_Steffins   \n",
       "3  [1 Island, 1 Mountain, 2 Plains, 3 Swamp, 2 Bl...      Wynand_Van_Zyl   \n",
       "4  [1 Island, 1 Mountain, 2 Plains, 3 Swamp, 2 Bl...      Wynand_Van_Zyl   \n",
       "\n",
       "                                                 url           name  \n",
       "0  https://www.mtgtop8.com/event?e=23581&d=363309...     4c_Control  \n",
       "1  https://www.mtgtop8.com/event?e=23476&d=362227...  4c_Elementals  \n",
       "2  https://www.mtgtop8.com/event?e=23516&d=362603...       4c_Value  \n",
       "3  https://www.mtgtop8.com/event?e=23773&d=365167...  4_Color_Doom_  \n",
       "4  https://www.mtgtop8.com/event?e=23442&d=361922...     Mardu_DOOM  "
      ]
     },
     "execution_count": 13,
     "metadata": {},
     "output_type": "execute_result"
    }
   ],
   "source": [
    "decks_clean.head()"
   ]
  },
  {
   "cell_type": "markdown",
   "metadata": {},
   "source": [
    "## Define\n",
    "- filter for any lists in `deck_list` that have null values in it"
   ]
  },
  {
   "cell_type": "markdown",
   "metadata": {},
   "source": [
    "## Code"
   ]
  },
  {
   "cell_type": "code",
   "execution_count": 14,
   "metadata": {},
   "outputs": [],
   "source": [
    "decks_clean.deck_list = decks_clean[decks_clean.astype(str)['deck_list'] != \"['nan']\"]"
   ]
  },
  {
   "cell_type": "markdown",
   "metadata": {},
   "source": [
    "## Test"
   ]
  },
  {
   "cell_type": "code",
   "execution_count": 15,
   "metadata": {},
   "outputs": [
    {
     "data": {
      "text/html": [
       "<div>\n",
       "<style scoped>\n",
       "    .dataframe tbody tr th:only-of-type {\n",
       "        vertical-align: middle;\n",
       "    }\n",
       "\n",
       "    .dataframe tbody tr th {\n",
       "        vertical-align: top;\n",
       "    }\n",
       "\n",
       "    .dataframe thead th {\n",
       "        text-align: right;\n",
       "    }\n",
       "</style>\n",
       "<table border=\"1\" class=\"dataframe\">\n",
       "  <thead>\n",
       "    <tr style=\"text-align: right;\">\n",
       "      <th></th>\n",
       "      <th>deck_list</th>\n",
       "      <th>player</th>\n",
       "      <th>url</th>\n",
       "      <th>name</th>\n",
       "    </tr>\n",
       "  </thead>\n",
       "  <tbody>\n",
       "  </tbody>\n",
       "</table>\n",
       "</div>"
      ],
      "text/plain": [
       "Empty DataFrame\n",
       "Columns: [deck_list, player, url, name]\n",
       "Index: []"
      ]
     },
     "execution_count": 15,
     "metadata": {},
     "output_type": "execute_result"
    }
   ],
   "source": [
    "decks_clean[decks_clean.astype(str)['deck_list'] == \"['nan']\"]"
   ]
  },
  {
   "cell_type": "code",
   "execution_count": 16,
   "metadata": {},
   "outputs": [],
   "source": [
    "decks_clean.to_csv('C:/Users/muroc/Documents/MTG/data/decks_clean.csv')"
   ]
  },
  {
   "cell_type": "markdown",
   "metadata": {},
   "source": [
    "## Define\n",
    "- make `deck_list` into a numpy array"
   ]
  },
  {
   "cell_type": "markdown",
   "metadata": {},
   "source": [
    "## Code"
   ]
  },
  {
   "cell_type": "code",
   "execution_count": 13,
   "metadata": {},
   "outputs": [],
   "source": [
    "deck_list = decks_clean.deck_list.to_list()"
   ]
  },
  {
   "cell_type": "markdown",
   "metadata": {},
   "source": [
    "## Test"
   ]
  },
  {
   "cell_type": "code",
   "execution_count": 14,
   "metadata": {},
   "outputs": [
    {
     "data": {
      "text/plain": [
       "list"
      ]
     },
     "execution_count": 14,
     "metadata": {},
     "output_type": "execute_result"
    }
   ],
   "source": [
    "type(deck_list)"
   ]
  },
  {
   "cell_type": "code",
   "execution_count": 15,
   "metadata": {},
   "outputs": [
    {
     "data": {
      "text/plain": [
       "\"2 Forest, 1 Island, 1 Mountain, 2 Swamp, 3 Breeding Pool, 2 Mystical Dispute, 2 Cauldron Familiar, 2 Murderous Rider, 4 Gilded Goose, 4 Once Upon a Time, 2 Trail of Crumbs, 4 Wicked Wolf, 4 Oko, Thief of Crowns, 3 Witch's Oven, 4 Fabled Passage, 2 Korvold, Fae-Cursed King, 3 Stomping Ground, 2 Temple of Malady, 4 Aether Gust, 4 Noxious Grasp, 4 Overgrown Tomb, 2 Watery Grave, 3 Thrashing Brontodon, 3 Duress, 1 Ugin, the Ineffable, 2 Paradise Druid, 4 Mayhem Devil, 1 Nicol Bolas, Dragon-God, \""
      ]
     },
     "execution_count": 15,
     "metadata": {},
     "output_type": "execute_result"
    }
   ],
   "source": [
    "deck_list[0]"
   ]
  },
  {
   "cell_type": "code",
   "execution_count": 16,
   "metadata": {},
   "outputs": [
    {
     "data": {
      "text/plain": [
       "451"
      ]
     },
     "execution_count": 16,
     "metadata": {},
     "output_type": "execute_result"
    }
   ],
   "source": [
    "np.count_nonzero(deck_list)"
   ]
  },
  {
   "cell_type": "code",
   "execution_count": null,
   "metadata": {},
   "outputs": [],
   "source": []
  }
 ],
 "metadata": {
  "kernelspec": {
   "display_name": "Python 3",
   "language": "python",
   "name": "python3"
  },
  "language_info": {
   "codemirror_mode": {
    "name": "ipython",
    "version": 3
   },
   "file_extension": ".py",
   "mimetype": "text/x-python",
   "name": "python",
   "nbconvert_exporter": "python",
   "pygments_lexer": "ipython3",
   "version": "3.7.4"
  }
 },
 "nbformat": 4,
 "nbformat_minor": 4
}
