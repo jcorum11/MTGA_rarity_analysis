{
 "cells": [
  {
   "cell_type": "code",
   "execution_count": 1,
   "metadata": {},
   "outputs": [],
   "source": [
    "import pandas as pd\n",
    "import numpy as np"
   ]
  },
  {
   "cell_type": "markdown",
   "metadata": {},
   "source": [
    "# Gather"
   ]
  },
  {
   "cell_type": "code",
   "execution_count": 2,
   "metadata": {},
   "outputs": [],
   "source": [
    "decks = pd.read_csv('C:/Users/muroc/Documents/MTG/data/decks.csv')"
   ]
  },
  {
   "cell_type": "code",
   "execution_count": 3,
   "metadata": {},
   "outputs": [],
   "source": [
    "decks_clean = decks.copy()"
   ]
  },
  {
   "cell_type": "markdown",
   "metadata": {},
   "source": [
    "# Assess"
   ]
  },
  {
   "cell_type": "code",
   "execution_count": 10,
   "metadata": {},
   "outputs": [
    {
     "data": {
      "text/html": [
       "<div>\n",
       "<style scoped>\n",
       "    .dataframe tbody tr th:only-of-type {\n",
       "        vertical-align: middle;\n",
       "    }\n",
       "\n",
       "    .dataframe tbody tr th {\n",
       "        vertical-align: top;\n",
       "    }\n",
       "\n",
       "    .dataframe thead th {\n",
       "        text-align: right;\n",
       "    }\n",
       "</style>\n",
       "<table border=\"1\" class=\"dataframe\">\n",
       "  <thead>\n",
       "    <tr style=\"text-align: right;\">\n",
       "      <th></th>\n",
       "      <th>deck_list</th>\n",
       "      <th>player</th>\n",
       "      <th>url</th>\n",
       "      <th>name</th>\n",
       "    </tr>\n",
       "  </thead>\n",
       "  <tbody>\n",
       "    <tr>\n",
       "      <th>0</th>\n",
       "      <td>[2 Forest, 1 Island, 1 Mountain, 2 Swamp, 3 Br...</td>\n",
       "      <td>Julian_Felix_Flury</td>\n",
       "      <td>https://www.mtgtop8.com/event?e=23581&amp;d=363309...</td>\n",
       "      <td>4c_Control</td>\n",
       "    </tr>\n",
       "    <tr>\n",
       "      <th>1</th>\n",
       "      <td>[4 Shock, 1 Forest, 1 Island, 1 Mountain, 1 Sw...</td>\n",
       "      <td>Robert_Lippmann</td>\n",
       "      <td>https://www.mtgtop8.com/event?e=23476&amp;d=362227...</td>\n",
       "      <td>4c_Elementals</td>\n",
       "    </tr>\n",
       "    <tr>\n",
       "      <th>2</th>\n",
       "      <td>[3 Forest, 1 Island, 2 Plains, 1 Swamp, 4 Bree...</td>\n",
       "      <td>Keylan_Steffins</td>\n",
       "      <td>https://www.mtgtop8.com/event?e=23516&amp;d=362603...</td>\n",
       "      <td>4c_Value</td>\n",
       "    </tr>\n",
       "    <tr>\n",
       "      <th>3</th>\n",
       "      <td>[1 Island, 1 Mountain, 2 Plains, 3 Swamp, 2 Bl...</td>\n",
       "      <td>Wynand_Van_Zyl</td>\n",
       "      <td>https://www.mtgtop8.com/event?e=23773&amp;d=365167...</td>\n",
       "      <td>4_Color_Doom_</td>\n",
       "    </tr>\n",
       "    <tr>\n",
       "      <th>4</th>\n",
       "      <td>[1 Island, 1 Mountain, 2 Plains, 3 Swamp, 2 Bl...</td>\n",
       "      <td>Wynand_Van_Zyl</td>\n",
       "      <td>https://www.mtgtop8.com/event?e=23442&amp;d=361922...</td>\n",
       "      <td>Mardu_DOOM</td>\n",
       "    </tr>\n",
       "  </tbody>\n",
       "</table>\n",
       "</div>"
      ],
      "text/plain": [
       "                                           deck_list              player  \\\n",
       "0  [2 Forest, 1 Island, 1 Mountain, 2 Swamp, 3 Br...  Julian_Felix_Flury   \n",
       "1  [4 Shock, 1 Forest, 1 Island, 1 Mountain, 1 Sw...     Robert_Lippmann   \n",
       "2  [3 Forest, 1 Island, 2 Plains, 1 Swamp, 4 Bree...     Keylan_Steffins   \n",
       "3  [1 Island, 1 Mountain, 2 Plains, 3 Swamp, 2 Bl...      Wynand_Van_Zyl   \n",
       "4  [1 Island, 1 Mountain, 2 Plains, 3 Swamp, 2 Bl...      Wynand_Van_Zyl   \n",
       "\n",
       "                                                 url           name  \n",
       "0  https://www.mtgtop8.com/event?e=23581&d=363309...     4c_Control  \n",
       "1  https://www.mtgtop8.com/event?e=23476&d=362227...  4c_Elementals  \n",
       "2  https://www.mtgtop8.com/event?e=23516&d=362603...       4c_Value  \n",
       "3  https://www.mtgtop8.com/event?e=23773&d=365167...  4_Color_Doom_  \n",
       "4  https://www.mtgtop8.com/event?e=23442&d=361922...     Mardu_DOOM  "
      ]
     },
     "execution_count": 10,
     "metadata": {},
     "output_type": "execute_result"
    }
   ],
   "source": [
    "decks_clean.head()"
   ]
  },
  {
   "cell_type": "code",
   "execution_count": 11,
   "metadata": {},
   "outputs": [
    {
     "data": {
      "text/html": [
       "<div>\n",
       "<style scoped>\n",
       "    .dataframe tbody tr th:only-of-type {\n",
       "        vertical-align: middle;\n",
       "    }\n",
       "\n",
       "    .dataframe tbody tr th {\n",
       "        vertical-align: top;\n",
       "    }\n",
       "\n",
       "    .dataframe thead th {\n",
       "        text-align: right;\n",
       "    }\n",
       "</style>\n",
       "<table border=\"1\" class=\"dataframe\">\n",
       "  <thead>\n",
       "    <tr style=\"text-align: right;\">\n",
       "      <th></th>\n",
       "      <th>deck_list</th>\n",
       "      <th>player</th>\n",
       "      <th>url</th>\n",
       "      <th>name</th>\n",
       "    </tr>\n",
       "  </thead>\n",
       "  <tbody>\n",
       "    <tr>\n",
       "      <th>488</th>\n",
       "      <td>[4 Planar Cleansing, 7 Island, 5 Plains, 4 Hal...</td>\n",
       "      <td>Yokokawa_Yuuta</td>\n",
       "      <td>https://www.mtgtop8.com/event?e=23907&amp;d=366416...</td>\n",
       "      <td>UW_Control</td>\n",
       "    </tr>\n",
       "    <tr>\n",
       "      <th>489</th>\n",
       "      <td>[1 Disenchant, 7 Island, 4 Plains, 4 Hallowed ...</td>\n",
       "      <td>zer1997</td>\n",
       "      <td>https://www.mtgtop8.com/event?e=23772&amp;d=365157...</td>\n",
       "      <td>UW_Control</td>\n",
       "    </tr>\n",
       "    <tr>\n",
       "      <th>490</th>\n",
       "      <td>[17 Plains, 4 Loyal Pegasus, 4 Faerie Guidemot...</td>\n",
       "      <td>Brandon_Krussow</td>\n",
       "      <td>https://www.mtgtop8.com/event?e=23943&amp;d=366839...</td>\n",
       "      <td>White_Weenie</td>\n",
       "    </tr>\n",
       "    <tr>\n",
       "      <th>491</th>\n",
       "      <td>[2 Disenchant, 17 Plains, 4 Loyal Pegasus, 4 F...</td>\n",
       "      <td>Nematov_Ruslan</td>\n",
       "      <td>https://www.mtgtop8.com/event?e=23578&amp;d=363291...</td>\n",
       "      <td>White_Weenie</td>\n",
       "    </tr>\n",
       "    <tr>\n",
       "      <th>492</th>\n",
       "      <td>[nan]</td>\n",
       "      <td>Aki_Vainio</td>\n",
       "      <td>https://www.mtgtop8.com/event?e=23996&amp;d=367291...</td>\n",
       "      <td>Rakdos_Knights</td>\n",
       "    </tr>\n",
       "  </tbody>\n",
       "</table>\n",
       "</div>"
      ],
      "text/plain": [
       "                                             deck_list           player  \\\n",
       "488  [4 Planar Cleansing, 7 Island, 5 Plains, 4 Hal...   Yokokawa_Yuuta   \n",
       "489  [1 Disenchant, 7 Island, 4 Plains, 4 Hallowed ...          zer1997   \n",
       "490  [17 Plains, 4 Loyal Pegasus, 4 Faerie Guidemot...  Brandon_Krussow   \n",
       "491  [2 Disenchant, 17 Plains, 4 Loyal Pegasus, 4 F...   Nematov_Ruslan   \n",
       "492                                              [nan]       Aki_Vainio   \n",
       "\n",
       "                                                   url            name  \n",
       "488  https://www.mtgtop8.com/event?e=23907&d=366416...      UW_Control  \n",
       "489  https://www.mtgtop8.com/event?e=23772&d=365157...      UW_Control  \n",
       "490  https://www.mtgtop8.com/event?e=23943&d=366839...    White_Weenie  \n",
       "491  https://www.mtgtop8.com/event?e=23578&d=363291...    White_Weenie  \n",
       "492  https://www.mtgtop8.com/event?e=23996&d=367291...  Rakdos_Knights  "
      ]
     },
     "execution_count": 11,
     "metadata": {},
     "output_type": "execute_result"
    }
   ],
   "source": [
    "decks_clean.tail()"
   ]
  },
  {
   "cell_type": "code",
   "execution_count": 17,
   "metadata": {},
   "outputs": [
    {
     "data": {
      "text/html": [
       "<div>\n",
       "<style scoped>\n",
       "    .dataframe tbody tr th:only-of-type {\n",
       "        vertical-align: middle;\n",
       "    }\n",
       "\n",
       "    .dataframe tbody tr th {\n",
       "        vertical-align: top;\n",
       "    }\n",
       "\n",
       "    .dataframe thead th {\n",
       "        text-align: right;\n",
       "    }\n",
       "</style>\n",
       "<table border=\"1\" class=\"dataframe\">\n",
       "  <thead>\n",
       "    <tr style=\"text-align: right;\">\n",
       "      <th></th>\n",
       "      <th>deck_list</th>\n",
       "      <th>player</th>\n",
       "      <th>url</th>\n",
       "      <th>name</th>\n",
       "    </tr>\n",
       "  </thead>\n",
       "  <tbody>\n",
       "    <tr>\n",
       "      <th>492</th>\n",
       "      <td>[nan]</td>\n",
       "      <td>Aki_Vainio</td>\n",
       "      <td>https://www.mtgtop8.com/event?e=23996&amp;d=367291...</td>\n",
       "      <td>Rakdos_Knights</td>\n",
       "    </tr>\n",
       "  </tbody>\n",
       "</table>\n",
       "</div>"
      ],
      "text/plain": [
       "    deck_list      player                                                url  \\\n",
       "492     [nan]  Aki_Vainio  https://www.mtgtop8.com/event?e=23996&d=367291...   \n",
       "\n",
       "               name  \n",
       "492  Rakdos_Knights  "
      ]
     },
     "execution_count": 17,
     "metadata": {},
     "output_type": "execute_result"
    }
   ],
   "source": [
    "decks_clean[decks_clean.astype(str)['deck_list'] == \"['nan']\"]"
   ]
  },
  {
   "cell_type": "code",
   "execution_count": 16,
   "metadata": {},
   "outputs": [
    {
     "data": {
      "text/plain": [
       "['nan']"
      ]
     },
     "execution_count": 16,
     "metadata": {},
     "output_type": "execute_result"
    }
   ],
   "source": [
    "decks_clean.deck_list.iloc[492]"
   ]
  },
  {
   "cell_type": "markdown",
   "metadata": {},
   "source": [
    "## Assessment\n",
    "- [done] deck_list column has , for delimiter but names can also have a comma\n",
    "- [done] cards are in one column\n",
    "- card number and card name are in the same column\n",
    "- [done] null values in `deck_list` column\n",
    "- rarities not present in the data"
   ]
  },
  {
   "cell_type": "markdown",
   "metadata": {},
   "source": [
    "# Clean"
   ]
  },
  {
   "cell_type": "markdown",
   "metadata": {},
   "source": [
    "## Define\n",
    "- replace ',' with '|' in `deck_list` column"
   ]
  },
  {
   "cell_type": "markdown",
   "metadata": {},
   "source": [
    "## Code"
   ]
  },
  {
   "cell_type": "code",
   "execution_count": 4,
   "metadata": {},
   "outputs": [],
   "source": [
    "decks_clean.deck_list = decks_clean.deck_list.str.replace(', (?=\\d)', '|')"
   ]
  },
  {
   "cell_type": "code",
   "execution_count": 5,
   "metadata": {},
   "outputs": [],
   "source": [
    "decks_clean.to_csv('C:/Users/muroc/Documents/MTG/data/decks_clean.csv', index=False)"
   ]
  },
  {
   "cell_type": "markdown",
   "metadata": {},
   "source": [
    "## Test"
   ]
  },
  {
   "cell_type": "code",
   "execution_count": 6,
   "metadata": {},
   "outputs": [
    {
     "data": {
      "text/html": [
       "<div>\n",
       "<style scoped>\n",
       "    .dataframe tbody tr th:only-of-type {\n",
       "        vertical-align: middle;\n",
       "    }\n",
       "\n",
       "    .dataframe tbody tr th {\n",
       "        vertical-align: top;\n",
       "    }\n",
       "\n",
       "    .dataframe thead th {\n",
       "        text-align: right;\n",
       "    }\n",
       "</style>\n",
       "<table border=\"1\" class=\"dataframe\">\n",
       "  <thead>\n",
       "    <tr style=\"text-align: right;\">\n",
       "      <th></th>\n",
       "      <th>deck_list</th>\n",
       "      <th>player</th>\n",
       "      <th>url</th>\n",
       "      <th>name</th>\n",
       "    </tr>\n",
       "  </thead>\n",
       "  <tbody>\n",
       "    <tr>\n",
       "      <th>0</th>\n",
       "      <td>2 Forest|1 Island|1 Mountain|2 Swamp|3 Breedin...</td>\n",
       "      <td>Julian_Felix_Flury</td>\n",
       "      <td>https://www.mtgtop8.com/event?e=23581&amp;d=363309...</td>\n",
       "      <td>4c_Control</td>\n",
       "    </tr>\n",
       "    <tr>\n",
       "      <th>1</th>\n",
       "      <td>4 Shock|1 Forest|1 Island|1 Mountain|1 Swamp|1...</td>\n",
       "      <td>Robert_Lippmann</td>\n",
       "      <td>https://www.mtgtop8.com/event?e=23476&amp;d=362227...</td>\n",
       "      <td>4c_Elementals</td>\n",
       "    </tr>\n",
       "    <tr>\n",
       "      <th>2</th>\n",
       "      <td>3 Forest|1 Island|2 Plains|1 Swamp|4 Breeding ...</td>\n",
       "      <td>Keylan_Steffins</td>\n",
       "      <td>https://www.mtgtop8.com/event?e=23516&amp;d=362603...</td>\n",
       "      <td>4c_Value</td>\n",
       "    </tr>\n",
       "    <tr>\n",
       "      <th>3</th>\n",
       "      <td>1 Island|1 Mountain|2 Plains|3 Swamp|2 Blood C...</td>\n",
       "      <td>Wynand_Van_Zyl</td>\n",
       "      <td>https://www.mtgtop8.com/event?e=23773&amp;d=365167...</td>\n",
       "      <td>4_Color_Doom_</td>\n",
       "    </tr>\n",
       "    <tr>\n",
       "      <th>4</th>\n",
       "      <td>1 Island|1 Mountain|2 Plains|3 Swamp|2 Blood C...</td>\n",
       "      <td>Wynand_Van_Zyl</td>\n",
       "      <td>https://www.mtgtop8.com/event?e=23442&amp;d=361922...</td>\n",
       "      <td>Mardu_DOOM</td>\n",
       "    </tr>\n",
       "  </tbody>\n",
       "</table>\n",
       "</div>"
      ],
      "text/plain": [
       "                                           deck_list              player  \\\n",
       "0  2 Forest|1 Island|1 Mountain|2 Swamp|3 Breedin...  Julian_Felix_Flury   \n",
       "1  4 Shock|1 Forest|1 Island|1 Mountain|1 Swamp|1...     Robert_Lippmann   \n",
       "2  3 Forest|1 Island|2 Plains|1 Swamp|4 Breeding ...     Keylan_Steffins   \n",
       "3  1 Island|1 Mountain|2 Plains|3 Swamp|2 Blood C...      Wynand_Van_Zyl   \n",
       "4  1 Island|1 Mountain|2 Plains|3 Swamp|2 Blood C...      Wynand_Van_Zyl   \n",
       "\n",
       "                                                 url           name  \n",
       "0  https://www.mtgtop8.com/event?e=23581&d=363309...     4c_Control  \n",
       "1  https://www.mtgtop8.com/event?e=23476&d=362227...  4c_Elementals  \n",
       "2  https://www.mtgtop8.com/event?e=23516&d=362603...       4c_Value  \n",
       "3  https://www.mtgtop8.com/event?e=23773&d=365167...  4_Color_Doom_  \n",
       "4  https://www.mtgtop8.com/event?e=23442&d=361922...     Mardu_DOOM  "
      ]
     },
     "execution_count": 6,
     "metadata": {},
     "output_type": "execute_result"
    }
   ],
   "source": [
    "decks_clean.head()"
   ]
  },
  {
   "cell_type": "markdown",
   "metadata": {},
   "source": [
    "## Define\n",
    "- make string objects in `deck_list` into a list"
   ]
  },
  {
   "cell_type": "markdown",
   "metadata": {},
   "source": [
    "## Code"
   ]
  },
  {
   "cell_type": "code",
   "execution_count": 7,
   "metadata": {},
   "outputs": [],
   "source": [
    "def convert(string):\n",
    "    li = list(str(string).split('|'))\n",
    "    return li"
   ]
  },
  {
   "cell_type": "code",
   "execution_count": 8,
   "metadata": {},
   "outputs": [],
   "source": [
    "decks = []\n",
    "for i in np.arange(decks_clean.shape[0]):\n",
    "    l = convert(decks_clean.deck_list[i])\n",
    "    decks.append(l)\n",
    "\n",
    "decks_clean.deck_list = decks"
   ]
  },
  {
   "cell_type": "markdown",
   "metadata": {},
   "source": [
    "## Test"
   ]
  },
  {
   "cell_type": "code",
   "execution_count": 9,
   "metadata": {},
   "outputs": [
    {
     "data": {
      "text/html": [
       "<div>\n",
       "<style scoped>\n",
       "    .dataframe tbody tr th:only-of-type {\n",
       "        vertical-align: middle;\n",
       "    }\n",
       "\n",
       "    .dataframe tbody tr th {\n",
       "        vertical-align: top;\n",
       "    }\n",
       "\n",
       "    .dataframe thead th {\n",
       "        text-align: right;\n",
       "    }\n",
       "</style>\n",
       "<table border=\"1\" class=\"dataframe\">\n",
       "  <thead>\n",
       "    <tr style=\"text-align: right;\">\n",
       "      <th></th>\n",
       "      <th>deck_list</th>\n",
       "      <th>player</th>\n",
       "      <th>url</th>\n",
       "      <th>name</th>\n",
       "    </tr>\n",
       "  </thead>\n",
       "  <tbody>\n",
       "    <tr>\n",
       "      <th>0</th>\n",
       "      <td>[2 Forest, 1 Island, 1 Mountain, 2 Swamp, 3 Br...</td>\n",
       "      <td>Julian_Felix_Flury</td>\n",
       "      <td>https://www.mtgtop8.com/event?e=23581&amp;d=363309...</td>\n",
       "      <td>4c_Control</td>\n",
       "    </tr>\n",
       "    <tr>\n",
       "      <th>1</th>\n",
       "      <td>[4 Shock, 1 Forest, 1 Island, 1 Mountain, 1 Sw...</td>\n",
       "      <td>Robert_Lippmann</td>\n",
       "      <td>https://www.mtgtop8.com/event?e=23476&amp;d=362227...</td>\n",
       "      <td>4c_Elementals</td>\n",
       "    </tr>\n",
       "    <tr>\n",
       "      <th>2</th>\n",
       "      <td>[3 Forest, 1 Island, 2 Plains, 1 Swamp, 4 Bree...</td>\n",
       "      <td>Keylan_Steffins</td>\n",
       "      <td>https://www.mtgtop8.com/event?e=23516&amp;d=362603...</td>\n",
       "      <td>4c_Value</td>\n",
       "    </tr>\n",
       "    <tr>\n",
       "      <th>3</th>\n",
       "      <td>[1 Island, 1 Mountain, 2 Plains, 3 Swamp, 2 Bl...</td>\n",
       "      <td>Wynand_Van_Zyl</td>\n",
       "      <td>https://www.mtgtop8.com/event?e=23773&amp;d=365167...</td>\n",
       "      <td>4_Color_Doom_</td>\n",
       "    </tr>\n",
       "    <tr>\n",
       "      <th>4</th>\n",
       "      <td>[1 Island, 1 Mountain, 2 Plains, 3 Swamp, 2 Bl...</td>\n",
       "      <td>Wynand_Van_Zyl</td>\n",
       "      <td>https://www.mtgtop8.com/event?e=23442&amp;d=361922...</td>\n",
       "      <td>Mardu_DOOM</td>\n",
       "    </tr>\n",
       "  </tbody>\n",
       "</table>\n",
       "</div>"
      ],
      "text/plain": [
       "                                           deck_list              player  \\\n",
       "0  [2 Forest, 1 Island, 1 Mountain, 2 Swamp, 3 Br...  Julian_Felix_Flury   \n",
       "1  [4 Shock, 1 Forest, 1 Island, 1 Mountain, 1 Sw...     Robert_Lippmann   \n",
       "2  [3 Forest, 1 Island, 2 Plains, 1 Swamp, 4 Bree...     Keylan_Steffins   \n",
       "3  [1 Island, 1 Mountain, 2 Plains, 3 Swamp, 2 Bl...      Wynand_Van_Zyl   \n",
       "4  [1 Island, 1 Mountain, 2 Plains, 3 Swamp, 2 Bl...      Wynand_Van_Zyl   \n",
       "\n",
       "                                                 url           name  \n",
       "0  https://www.mtgtop8.com/event?e=23581&d=363309...     4c_Control  \n",
       "1  https://www.mtgtop8.com/event?e=23476&d=362227...  4c_Elementals  \n",
       "2  https://www.mtgtop8.com/event?e=23516&d=362603...       4c_Value  \n",
       "3  https://www.mtgtop8.com/event?e=23773&d=365167...  4_Color_Doom_  \n",
       "4  https://www.mtgtop8.com/event?e=23442&d=361922...     Mardu_DOOM  "
      ]
     },
     "execution_count": 9,
     "metadata": {},
     "output_type": "execute_result"
    }
   ],
   "source": [
    "decks_clean.head()"
   ]
  },
  {
   "cell_type": "markdown",
   "metadata": {},
   "source": [
    "## Define\n",
    "- filter for any lists in `deck_list` that have null values in it"
   ]
  },
  {
   "cell_type": "markdown",
   "metadata": {},
   "source": [
    "## Code"
   ]
  },
  {
   "cell_type": "code",
   "execution_count": 18,
   "metadata": {},
   "outputs": [],
   "source": [
    "decks_clean.deck_list = decks_clean[decks_clean.astype(str)['deck_list'] != \"['nan']\"]"
   ]
  },
  {
   "cell_type": "markdown",
   "metadata": {},
   "source": [
    "## Test"
   ]
  },
  {
   "cell_type": "code",
   "execution_count": 21,
   "metadata": {},
   "outputs": [
    {
     "data": {
      "text/html": [
       "<div>\n",
       "<style scoped>\n",
       "    .dataframe tbody tr th:only-of-type {\n",
       "        vertical-align: middle;\n",
       "    }\n",
       "\n",
       "    .dataframe tbody tr th {\n",
       "        vertical-align: top;\n",
       "    }\n",
       "\n",
       "    .dataframe thead th {\n",
       "        text-align: right;\n",
       "    }\n",
       "</style>\n",
       "<table border=\"1\" class=\"dataframe\">\n",
       "  <thead>\n",
       "    <tr style=\"text-align: right;\">\n",
       "      <th></th>\n",
       "      <th>deck_list</th>\n",
       "      <th>player</th>\n",
       "      <th>url</th>\n",
       "      <th>name</th>\n",
       "    </tr>\n",
       "  </thead>\n",
       "  <tbody>\n",
       "  </tbody>\n",
       "</table>\n",
       "</div>"
      ],
      "text/plain": [
       "Empty DataFrame\n",
       "Columns: [deck_list, player, url, name]\n",
       "Index: []"
      ]
     },
     "execution_count": 21,
     "metadata": {},
     "output_type": "execute_result"
    }
   ],
   "source": [
    "decks_clean[decks_clean.astype(str)['deck_list'] == \"['nan']\"]"
   ]
  },
  {
   "cell_type": "code",
   "execution_count": 22,
   "metadata": {},
   "outputs": [],
   "source": [
    "decks_clean.to_csv('C:/Users/muroc/Documents/MTG/data/decks_clean.csv')"
   ]
  },
  {
   "cell_type": "code",
   "execution_count": null,
   "metadata": {},
   "outputs": [],
   "source": []
  }
 ],
 "metadata": {
  "kernelspec": {
   "display_name": "Python 3",
   "language": "python",
   "name": "python3"
  },
  "language_info": {
   "codemirror_mode": {
    "name": "ipython",
    "version": 3
   },
   "file_extension": ".py",
   "mimetype": "text/x-python",
   "name": "python",
   "nbconvert_exporter": "python",
   "pygments_lexer": "ipython3",
   "version": "3.7.3"
  }
 },
 "nbformat": 4,
 "nbformat_minor": 4
}
