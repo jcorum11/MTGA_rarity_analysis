{
 "cells": [
  {
   "cell_type": "code",
   "execution_count": 1,
   "metadata": {},
   "outputs": [],
   "source": [
    "# Load all packages necessary for analysis\n",
    "import pandas as pd\n",
    "import numpy as np\n",
    "import requests\n",
    "from bs4 import BeautifulSoup\n",
    "import json\n",
    "import re\n",
    "import os\n",
    "import timeit\n",
    "import filecmp\n",
    "import url_stripper"
   ]
  },
  {
   "cell_type": "markdown",
   "metadata": {},
   "source": [
    "# deck_urls"
   ]
  },
  {
   "cell_type": "markdown",
   "metadata": {},
   "source": [
    "## Gather"
   ]
  },
  {
   "cell_type": "code",
   "execution_count": 2,
   "metadata": {},
   "outputs": [],
   "source": [
    "# get a list of file names in type_html_files folder and name it dir_names\n",
    "dir_names = []\n",
    "cur_dir = 'C:/Users/muroc/Documents/MTG/type_html_files/'\n",
    "\n",
    "with os.scandir(cur_dir) as folder:\n",
    "    for file in folder: \n",
    "        if file.is_file():\n",
    "            dir_names.append(file.name)"
   ]
  },
  {
   "cell_type": "code",
   "execution_count": 3,
   "metadata": {},
   "outputs": [],
   "source": [
    "# get a list of all urls in all files\n",
    "deck_urls = []\n",
    "for i in np.arange(np.count_nonzero(dir_names)):\n",
    "    with open('C:/Users/muroc/Documents/MTG/type_html_files/' + dir_names[i]) as file:\n",
    "        soup = BeautifulSoup(file, 'lxml')\n",
    "    urls = soup.find_all(href=re.compile(r'event\\?e\\=.+\\&d\\=.+\\&f\\=ST'))\n",
    "    for a in urls:\n",
    "        deck_urls.append(a)"
   ]
  },
  {
   "cell_type": "code",
   "execution_count": 4,
   "metadata": {},
   "outputs": [],
   "source": [
    "# get a list of all player names in all files\n",
    "player_names = []\n",
    "for i in np.arange(np.count_nonzero(dir_names)):\n",
    "    with open('C:/Users/muroc/Documents/MTG/type_html_files/' + dir_names[i]) as file:\n",
    "        soup = BeautifulSoup(file, 'lxml')\n",
    "    urls = soup.find_all(href=re.compile(r'search\\?player'))\n",
    "    for a in urls:\n",
    "        player_names.append(a)"
   ]
  },
  {
   "cell_type": "code",
   "execution_count": 5,
   "metadata": {},
   "outputs": [],
   "source": [
    "# turn deck urls into a dataframe\n",
    "deck_urls = {'url': deck_urls}\n",
    "deck_urls = pd.DataFrame(data=deck_urls)"
   ]
  },
  {
   "cell_type": "code",
   "execution_count": 6,
   "metadata": {},
   "outputs": [],
   "source": [
    "# get deck names and clean them up\n",
    "url_stripper.url_stripper(deck_urls, 'url', 'name', '(>.+<)')"
   ]
  },
  {
   "cell_type": "code",
   "execution_count": 7,
   "metadata": {},
   "outputs": [],
   "source": [
    "# extract url from the url column\n",
    "deck_urls['url'] = deck_urls.url.str.extract('(event.+f\\=ST)')"
   ]
  },
  {
   "cell_type": "code",
   "execution_count": 10,
   "metadata": {},
   "outputs": [],
   "source": [
    "# add root url to the data\n",
    "urls = []\n",
    "names = []\n",
    "\n",
    "for i in np.arange(deck_urls.shape[0]):\n",
    "    urls.append('https://www.mtgtop8.com/' + str(deck_urls.url[i]))\n",
    "    names.append(str(deck_urls.name[i]) + '.html')"
   ]
  },
  {
   "cell_type": "code",
   "execution_count": 11,
   "metadata": {},
   "outputs": [],
   "source": [
    "# clean urls and name\n",
    "deck_urls['url'] = urls\n",
    "deck_urls['name'] = names\n",
    "deck_urls['name'] = deck_urls.name.str.replace(' ', '_')\n",
    "deck_urls['name'] = deck_urls.name.str.replace('/', '-')"
   ]
  },
  {
   "cell_type": "code",
   "execution_count": 12,
   "metadata": {},
   "outputs": [],
   "source": [
    "deck_urls.to_csv('C:/Users/muroc/Documents/MTG/data/deck_urls.csv')"
   ]
  }
 ],
 "metadata": {
  "kernelspec": {
   "display_name": "Python 3",
   "language": "python",
   "name": "python3"
  },
  "language_info": {
   "codemirror_mode": {
    "name": "ipython",
    "version": 3
   },
   "file_extension": ".py",
   "mimetype": "text/x-python",
   "name": "python",
   "nbconvert_exporter": "python",
   "pygments_lexer": "ipython3",
   "version": "3.7.3"
  }
 },
 "nbformat": 4,
 "nbformat_minor": 4
}
