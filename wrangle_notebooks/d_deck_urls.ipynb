{
 "cells": [
  {
   "cell_type": "code",
   "execution_count": 1,
   "metadata": {},
   "outputs": [],
   "source": [
    "# Load all packages necessary for analysis\n",
    "import pandas as pd\n",
    "import numpy as np\n",
    "import requests\n",
    "from bs4 import BeautifulSoup\n",
    "import json\n",
    "import re\n",
    "import os\n",
    "import timeit\n",
    "import filecmp\n",
    "import url_stripper"
   ]
  },
  {
   "cell_type": "markdown",
   "metadata": {},
   "source": [
    "# deck_urls"
   ]
  },
  {
   "cell_type": "markdown",
   "metadata": {},
   "source": [
    "## Gather"
   ]
  },
  {
   "cell_type": "code",
   "execution_count": 2,
   "metadata": {},
   "outputs": [],
   "source": [
    "# get a list of file names in type_html_files folder and name it dir_names\n",
    "dir_names = []\n",
    "cur_dir = 'C:/Users/muroc/Documents/MTG/type_html_files/'\n",
    "\n",
    "with os.scandir(cur_dir) as folder:\n",
    "    for file in folder: \n",
    "        if file.is_file():\n",
    "            dir_names.append(file.name)"
   ]
  },
  {
   "cell_type": "code",
   "execution_count": 3,
   "metadata": {},
   "outputs": [],
   "source": [
    "# get a list of all urls in all files\n",
    "players = []\n",
    "urls = []\n",
    "\n",
    "for i in np.arange(np.count_nonzero(dir_names)):\n",
    "    with open('C:/Users/muroc/Documents/MTG/type_html_files/' + dir_names[i]) as file:\n",
    "        soup = BeautifulSoup(file, 'lxml')\n",
    "    for a in soup.find_all(href=re.compile(r'search\\?player')):\n",
    "        players.append(a)\n",
    "    for a in soup.find_all(href=re.compile(r'event\\?e\\=.+\\&d\\=.+\\&f\\=ST')):\n",
    "        urls.append(a) "
   ]
  },
  {
   "cell_type": "code",
   "execution_count": 21,
   "metadata": {},
   "outputs": [],
   "source": [
    "deck_urls = pd.DataFrame({'player': players, \n",
    "                         'url': urls})"
   ]
  },
  {
   "cell_type": "code",
   "execution_count": 5,
   "metadata": {},
   "outputs": [],
   "source": [
    "# get deck names and clean them up\n",
    "url_stripper.url_stripper(deck_urls, 'url', 'name', '(>.+<)')"
   ]
  },
  {
   "cell_type": "code",
   "execution_count": 6,
   "metadata": {},
   "outputs": [],
   "source": [
    "# extract url from the url column\n",
    "deck_urls['url'] = deck_urls.url.str.extract('(event.+f\\=ST)')"
   ]
  },
  {
   "cell_type": "code",
   "execution_count": 13,
   "metadata": {
    "collapsed": true,
    "jupyter": {
     "outputs_hidden": true
    }
   },
   "outputs": [
    {
     "data": {
      "text/html": [
       "<div>\n",
       "<style scoped>\n",
       "    .dataframe tbody tr th:only-of-type {\n",
       "        vertical-align: middle;\n",
       "    }\n",
       "\n",
       "    .dataframe tbody tr th {\n",
       "        vertical-align: top;\n",
       "    }\n",
       "\n",
       "    .dataframe thead th {\n",
       "        text-align: right;\n",
       "    }\n",
       "</style>\n",
       "<table border=\"1\" class=\"dataframe\">\n",
       "  <thead>\n",
       "    <tr style=\"text-align: right;\">\n",
       "      <th></th>\n",
       "      <th>player</th>\n",
       "      <th>url</th>\n",
       "      <th>name</th>\n",
       "    </tr>\n",
       "  </thead>\n",
       "  <tbody>\n",
       "    <tr>\n",
       "      <th>0</th>\n",
       "      <td>&lt;a class=\"player\" href=\"search?player=Robert+L...</td>\n",
       "      <td>https://www.mtgtop8.com/event?e=23476&amp;amp;d=36...</td>\n",
       "      <td>4c Elementals</td>\n",
       "    </tr>\n",
       "    <tr>\n",
       "      <th>1</th>\n",
       "      <td>&lt;a class=\"player\" href=\"search?player=Clarence...</td>\n",
       "      <td>https://www.mtgtop8.com/event?e=23375&amp;amp;d=36...</td>\n",
       "      <td>Omnath</td>\n",
       "    </tr>\n",
       "    <tr>\n",
       "      <th>2</th>\n",
       "      <td>&lt;a class=\"player\" href=\"search?player=Yohan+Du...</td>\n",
       "      <td>https://www.mtgtop8.com/event?e=23384&amp;amp;d=36...</td>\n",
       "      <td>4colour Good Stuff</td>\n",
       "    </tr>\n",
       "    <tr>\n",
       "      <th>3</th>\n",
       "      <td>&lt;a class=\"player\" href=\"search?player=Aaron+Ba...</td>\n",
       "      <td>https://www.mtgtop8.com/event?e=22218&amp;amp;d=35...</td>\n",
       "      <td>4c Sun</td>\n",
       "    </tr>\n",
       "    <tr>\n",
       "      <th>4</th>\n",
       "      <td>&lt;a class=\"player\" href=\"search?player=rushi_00...</td>\n",
       "      <td>https://www.mtgtop8.com/event?e=18688&amp;amp;d=31...</td>\n",
       "      <td>4c Energy</td>\n",
       "    </tr>\n",
       "  </tbody>\n",
       "</table>\n",
       "</div>"
      ],
      "text/plain": [
       "                                              player  \\\n",
       "0  <a class=\"player\" href=\"search?player=Robert+L...   \n",
       "1  <a class=\"player\" href=\"search?player=Clarence...   \n",
       "2  <a class=\"player\" href=\"search?player=Yohan+Du...   \n",
       "3  <a class=\"player\" href=\"search?player=Aaron+Ba...   \n",
       "4  <a class=\"player\" href=\"search?player=rushi_00...   \n",
       "\n",
       "                                                 url                name  \n",
       "0  https://www.mtgtop8.com/event?e=23476&amp;d=36...       4c Elementals  \n",
       "1  https://www.mtgtop8.com/event?e=23375&amp;d=36...              Omnath  \n",
       "2  https://www.mtgtop8.com/event?e=23384&amp;d=36...  4colour Good Stuff  \n",
       "3  https://www.mtgtop8.com/event?e=22218&amp;d=35...              4c Sun  \n",
       "4  https://www.mtgtop8.com/event?e=18688&amp;d=31...           4c Energy  "
      ]
     },
     "execution_count": 13,
     "metadata": {},
     "output_type": "execute_result"
    }
   ],
   "source": [
    "# add root url to the data\n",
    "deck_urls.url = 'https://www.mtgtop8.com/' + deck_urls.url"
   ]
  },
  {
   "cell_type": "code",
   "execution_count": 15,
   "metadata": {},
   "outputs": [],
   "source": [
    "# clean urls and name\n",
    "deck_urls['name'] = deck_urls.name.str.replace(' ', '_')\n",
    "deck_urls['name'] = deck_urls.name.str.replace('/', '-')"
   ]
  },
  {
   "cell_type": "code",
   "execution_count": 14,
   "metadata": {},
   "outputs": [],
   "source": [
    "url_stripper.url_stripper(deck_urls, 'player', 'player', '(>.+<)')"
   ]
  },
  {
   "cell_type": "code",
   "execution_count": 16,
   "metadata": {},
   "outputs": [],
   "source": [
    "deck_urls.player = deck_urls.player.str.replace(' ', '_')"
   ]
  },
  {
   "cell_type": "code",
   "execution_count": 18,
   "metadata": {},
   "outputs": [],
   "source": [
    "deck_urls.to_csv('C:/Users/muroc/Documents/MTG/data/deck_urls.csv', index=False)"
   ]
  },
  {
   "cell_type": "code",
   "execution_count": 19,
   "metadata": {},
   "outputs": [
    {
     "data": {
      "text/html": [
       "<div>\n",
       "<style scoped>\n",
       "    .dataframe tbody tr th:only-of-type {\n",
       "        vertical-align: middle;\n",
       "    }\n",
       "\n",
       "    .dataframe tbody tr th {\n",
       "        vertical-align: top;\n",
       "    }\n",
       "\n",
       "    .dataframe thead th {\n",
       "        text-align: right;\n",
       "    }\n",
       "</style>\n",
       "<table border=\"1\" class=\"dataframe\">\n",
       "  <thead>\n",
       "    <tr style=\"text-align: right;\">\n",
       "      <th></th>\n",
       "      <th>player</th>\n",
       "      <th>url</th>\n",
       "      <th>name</th>\n",
       "    </tr>\n",
       "  </thead>\n",
       "  <tbody>\n",
       "    <tr>\n",
       "      <th>0</th>\n",
       "      <td>Robert_Lippmann</td>\n",
       "      <td>https://www.mtgtop8.com/event?e=23476&amp;amp;d=36...</td>\n",
       "      <td>4c_Elementals</td>\n",
       "    </tr>\n",
       "    <tr>\n",
       "      <th>1</th>\n",
       "      <td>Clarence_Dews</td>\n",
       "      <td>https://www.mtgtop8.com/event?e=23375&amp;amp;d=36...</td>\n",
       "      <td>Omnath</td>\n",
       "    </tr>\n",
       "    <tr>\n",
       "      <th>2</th>\n",
       "      <td>Yohan_Dudognon</td>\n",
       "      <td>https://www.mtgtop8.com/event?e=23384&amp;amp;d=36...</td>\n",
       "      <td>4colour_Good_Stuff</td>\n",
       "    </tr>\n",
       "    <tr>\n",
       "      <th>3</th>\n",
       "      <td>Aaron_Barich</td>\n",
       "      <td>https://www.mtgtop8.com/event?e=22218&amp;amp;d=35...</td>\n",
       "      <td>4c_Sun</td>\n",
       "    </tr>\n",
       "    <tr>\n",
       "      <th>4</th>\n",
       "      <td>rushi_00</td>\n",
       "      <td>https://www.mtgtop8.com/event?e=18688&amp;amp;d=31...</td>\n",
       "      <td>4c_Energy</td>\n",
       "    </tr>\n",
       "  </tbody>\n",
       "</table>\n",
       "</div>"
      ],
      "text/plain": [
       "            player                                                url  \\\n",
       "0  Robert_Lippmann  https://www.mtgtop8.com/event?e=23476&amp;d=36...   \n",
       "1    Clarence_Dews  https://www.mtgtop8.com/event?e=23375&amp;d=36...   \n",
       "2   Yohan_Dudognon  https://www.mtgtop8.com/event?e=23384&amp;d=36...   \n",
       "3     Aaron_Barich  https://www.mtgtop8.com/event?e=22218&amp;d=35...   \n",
       "4         rushi_00  https://www.mtgtop8.com/event?e=18688&amp;d=31...   \n",
       "\n",
       "                 name  \n",
       "0       4c_Elementals  \n",
       "1              Omnath  \n",
       "2  4colour_Good_Stuff  \n",
       "3              4c_Sun  \n",
       "4           4c_Energy  "
      ]
     },
     "execution_count": 19,
     "metadata": {},
     "output_type": "execute_result"
    }
   ],
   "source": [
    "deck_urls.head()"
   ]
  },
  {
   "cell_type": "code",
   "execution_count": null,
   "metadata": {},
   "outputs": [],
   "source": []
  }
 ],
 "metadata": {
  "kernelspec": {
   "display_name": "Python 3",
   "language": "python",
   "name": "python3"
  },
  "language_info": {
   "codemirror_mode": {
    "name": "ipython",
    "version": 3
   },
   "file_extension": ".py",
   "mimetype": "text/x-python",
   "name": "python",
   "nbconvert_exporter": "python",
   "pygments_lexer": "ipython3",
   "version": "3.7.3"
  }
 },
 "nbformat": 4,
 "nbformat_minor": 4
}
